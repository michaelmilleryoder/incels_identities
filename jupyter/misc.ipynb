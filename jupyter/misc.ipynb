{
 "cells": [
  {
   "cell_type": "markdown",
   "id": "7dfbf854-a7a4-44f1-9dac-9fb063cfd1b6",
   "metadata": {},
   "source": [
    "# Gensim stuff"
   ]
  },
  {
   "cell_type": "code",
   "execution_count": 9,
   "id": "197790da-cc65-4e38-8510-2fd6519cf794",
   "metadata": {},
   "outputs": [
    {
     "name": "stdout",
     "output_type": "stream",
     "text": [
      "0\n"
     ]
    },
    {
     "data": {
      "text/plain": [
       "20"
      ]
     },
     "execution_count": 9,
     "metadata": {},
     "output_type": "execute_result"
    }
   ],
   "source": [
    "import gensim\n",
    "import logging\n",
    "\n",
    "print(gensim.models.word2vec.logger.level)\n",
    "gensim.models.word2vec.logger.level = logging.INFO\n",
    "gensim.models.word2vec.logger.level"
   ]
  },
  {
   "cell_type": "markdown",
   "id": "7f0ce791-84a5-4aa2-8022-93cb99f0284b",
   "metadata": {},
   "source": [
    "# SpaCy stuff"
   ]
  },
  {
   "cell_type": "code",
   "execution_count": 1,
   "id": "05221a26-f815-467a-9fb9-fb3bcf3c8fcc",
   "metadata": {},
   "outputs": [
    {
     "data": {
      "text/plain": [
       "'This is a test string. It is cool.'"
      ]
     },
     "execution_count": 1,
     "metadata": {},
     "output_type": "execute_result"
    }
   ],
   "source": [
    "import spacy\n",
    "\n",
    "nlp = spacy.load('en_core_web_sm', exclude=['tok2vec', 'tagger', 'parser', 'attribute_ruler', 'lemmatizer', 'ner'])\n",
    "\n",
    "test = 'This is a test string. It is cool.'\n",
    "doc = nlp(test)\n",
    "doc.text"
   ]
  },
  {
   "cell_type": "code",
   "execution_count": 6,
   "id": "1ede5d74-5281-475c-865e-f053b08c2e4d",
   "metadata": {},
   "outputs": [
    {
     "data": {
      "text/plain": [
       "'This is a test string . It is cool .'"
      ]
     },
     "execution_count": 6,
     "metadata": {},
     "output_type": "execute_result"
    }
   ],
   "source": [
    "' '.join([tok.text for tok in doc])"
   ]
  },
  {
   "cell_type": "markdown",
   "id": "9e0faf96-e049-4ea0-b417-ee9f5702e36a",
   "metadata": {},
   "source": [
    "# Try to save white supremacist data with identities extracted"
   ]
  },
  {
   "cell_type": "code",
   "execution_count": null,
   "id": "d6f8e8a3-8ef2-4cf9-9677-65633fdbfd7d",
   "metadata": {},
   "outputs": [],
   "source": [
    "# Load tagged data\n",
    "import pandas as pd\n",
    "\n",
    "data = pd.read_pickle('../data/white_supremacist_identities.pkl')\n",
    "data.info()"
   ]
  },
  {
   "cell_type": "code",
   "execution_count": null,
   "id": "cd38efa5-3519-45db-a412-d20888cde03f",
   "metadata": {},
   "outputs": [],
   "source": [
    "# Try to save out\n",
    "data.to_j"
   ]
  }
 ],
 "metadata": {
  "kernelspec": {
   "display_name": "Python 3 (ipykernel)",
   "language": "python",
   "name": "python3"
  },
  "language_info": {
   "codemirror_mode": {
    "name": "ipython",
    "version": 3
   },
   "file_extension": ".py",
   "mimetype": "text/x-python",
   "name": "python",
   "nbconvert_exporter": "python",
   "pygments_lexer": "ipython3",
   "version": "3.10.9"
  }
 },
 "nbformat": 4,
 "nbformat_minor": 5
}
