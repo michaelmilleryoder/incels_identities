{
 "cells": [
  {
   "cell_type": "markdown",
   "id": "7f0ce791-84a5-4aa2-8022-93cb99f0284b",
   "metadata": {},
   "source": [
    "# Try to save white supremacist data with identities extracted"
   ]
  },
  {
   "cell_type": "code",
   "execution_count": null,
   "id": "d6f8e8a3-8ef2-4cf9-9677-65633fdbfd7d",
   "metadata": {},
   "outputs": [],
   "source": [
    "# Load tagged data\n",
    "import pandas as pd\n",
    "\n",
    "data = pd.read_pickle('../data/white_supremacist_identities.pkl')\n",
    "data.info()"
   ]
  },
  {
   "cell_type": "code",
   "execution_count": null,
   "id": "cd38efa5-3519-45db-a412-d20888cde03f",
   "metadata": {},
   "outputs": [],
   "source": [
    "# Try to save out\n",
    "data.to_j"
   ]
  }
 ],
 "metadata": {
  "kernelspec": {
   "display_name": "Python 3 (ipykernel)",
   "language": "python",
   "name": "python3"
  },
  "language_info": {
   "codemirror_mode": {
    "name": "ipython",
    "version": 3
   },
   "file_extension": ".py",
   "mimetype": "text/x-python",
   "name": "python",
   "nbconvert_exporter": "python",
   "pygments_lexer": "ipython3",
   "version": "3.10.9"
  }
 },
 "nbformat": 4,
 "nbformat_minor": 5
}
