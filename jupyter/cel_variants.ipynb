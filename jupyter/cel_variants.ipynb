{
 "cells": [
  {
   "cell_type": "markdown",
   "id": "8a718d63-ba5c-4fe7-9dae-afc196d5d26d",
   "metadata": {},
   "source": [
    "# Find distribution of cel/pill variants"
   ]
  },
  {
   "cell_type": "code",
   "execution_count": 2,
   "id": "b10ad7e0-d4e2-43dc-a751-34e64df8e386",
   "metadata": {},
   "outputs": [
    {
     "name": "stdout",
     "output_type": "stream",
     "text": [
      "<class 'pandas.core.frame.DataFrame'>\n",
      "RangeIndex: 6248230 entries, 0 to 6248229\n",
      "Data columns (total 11 columns):\n",
      " #   Column                            Dtype         \n",
      "---  ------                            -----         \n",
      " 0   type                              object        \n",
      " 1   forum                             object        \n",
      " 2   thread                            object        \n",
      " 3   username                          object        \n",
      " 4   date                              object        \n",
      " 5   content                           object        \n",
      " 6   parsed_date                       datetime64[ns]\n",
      " 7   content_orig                      object        \n",
      " 8   netmapper_identity_matches        object        \n",
      " 9   netmapper_identity_matches_spans  object        \n",
      " 10  actions_attributes                object        \n",
      "dtypes: datetime64[ns](1), object(10)\n",
      "memory usage: 524.4+ MB\n"
     ]
    }
   ],
   "source": [
    "# Load processed data (necessary?)\n",
    "import pandas as pd\n",
    "\n",
    "path = '../../data/incels/processed_comments.pkl'\n",
    "data = pd.read_pickle(path)\n",
    "data.info()"
   ]
  },
  {
   "cell_type": "code",
   "execution_count": 5,
   "id": "47a7f146-4cc1-4500-8e78-7ac5d40d8d2e",
   "metadata": {
    "scrolled": true,
    "tags": []
   },
   "outputs": [],
   "source": [
    "# Load incels vocab and term counts from Gensim model\n",
    "from gensim.models import Word2Vec\n",
    "\n",
    "path = '../models/emb/incels.model'\n",
    "model = Word2Vec.load(path)"
   ]
  },
  {
   "cell_type": "code",
   "execution_count": 15,
   "id": "9562902e-03b0-4419-8fcb-79ab58cf9a43",
   "metadata": {
    "scrolled": true,
    "tags": []
   },
   "outputs": [
    {
     "data": {
      "text/plain": [
       "[('fakecel', 36499),\n",
       " ('volcel', 35796),\n",
       " ('incels.co', 32872),\n",
       " ('diocel', 31577),\n",
       " ('truecel', 29972),\n",
       " ('truecels', 20009),\n",
       " ('fakecels', 16226),\n",
       " ('ritalincel', 14562),\n",
       " ('trucel', 13835),\n",
       " ('mentalcel', 12992),\n",
       " ('cel', 12768),\n",
       " ('ricecels', 11437),\n",
       " ('gymcelled', 11044),\n",
       " ('lookscel', 11030),\n",
       " ('greycel', 11018),\n",
       " ('cels', 9614),\n",
       " ('daydreamincel', 9109),\n",
       " ('ricecel', 9107),\n",
       " ('@animecel2d', 8629),\n",
       " ('incellectual', 8567),\n",
       " ('manicel', 8567),\n",
       " ('gymcel', 8517),\n",
       " ('brocel', 7766),\n",
       " ('currycel', 7698),\n",
       " ('rightfulcel', 7510),\n",
       " ('gymcelling', 7173),\n",
       " ('braincels', 6569),\n",
       " ('acnescarcel', 6476),\n",
       " ('angrycurrycel', 6449),\n",
       " ('volcels', 6305),\n",
       " ('graycel', 6044),\n",
       " ('aedracel', 6041),\n",
       " ('blackcel', 5904),\n",
       " ('mentalcels', 5868),\n",
       " ('oldcel', 5866),\n",
       " ('copinggymcel', 5615),\n",
       " ('escortcel', 5545),\n",
       " ('caesercel', 5477),\n",
       " ('deformaspergercel', 5458),\n",
       " ('josefmengelecel', 5423),\n",
       " ('currycels', 5366),\n",
       " ('incelcream', 4911),\n",
       " ('femcels', 4901),\n",
       " ('jockcel', 4885),\n",
       " ('whitecels', 4745),\n",
       " ('johnwickcel', 4625),\n",
       " ('greycels', 4567),\n",
       " ('incelkingkong', 4511),\n",
       " ('youngcels', 4280),\n",
       " ('escortcelling', 4190),\n",
       " ('blackops2cel', 4182),\n",
       " ('therealchincel', 4148),\n",
       " ('bleachcel', 4117),\n",
       " ('kikecel', 4097),\n",
       " ('lonelycel', 4018),\n",
       " ('framecel', 3973),\n",
       " ('incelman', 3940),\n",
       " ('weirdcel', 3866),\n",
       " ('gremlincel', 3817),\n",
       " ('femcel', 3784),\n",
       " ('asiacel', 3773),\n",
       " ('johndcel', 3758),\n",
       " ('celibacy', 3694),\n",
       " ('cell', 3661),\n",
       " ('hightgymcel', 3571),\n",
       " ('escortcels', 3550),\n",
       " ('fatcel', 3502),\n",
       " ('oldcels', 3193),\n",
       " ('wizardcel', 3157),\n",
       " ('blackcels', 3083),\n",
       " ('gamedevcel', 2988),\n",
       " ('algeriancel', 2952),\n",
       " ('inceldo', 2866),\n",
       " ('bagelcel', 2841),\n",
       " ('gymcels', 2742),\n",
       " ('braincelsrefugee', 2724),\n",
       " ('carticel', 2689),\n",
       " ('youngcel', 2672),\n",
       " ('wagiecel', 2663),\n",
       " ('flamingcel', 2482),\n",
       " ('uglychincel', 2445),\n",
       " ('gymceling', 2423),\n",
       " ('oldincel', 2408),\n",
       " ('brocels', 2390),\n",
       " ('trucels', 2246),\n",
       " ('blackletcel', 2213),\n",
       " ('soymonkcel', 2179),\n",
       " ('tallcel', 2174),\n",
       " ('vindaloocell', 2164),\n",
       " ('dirtykombatcel', 2152),\n",
       " ('incelking', 2106),\n",
       " ('amphetaminecel', 2092),\n",
       " ('whitecel', 2059),\n",
       " ('yungcell', 1982),\n",
       " ('wizcel', 1979),\n",
       " ('inceltear', 1972),\n",
       " ('incelistan', 1903),\n",
       " ('tallcelfag', 1870),\n",
       " ('singleplayercel', 1857),\n",
       " ('@incellectual', 1854)]"
      ]
     },
     "execution_count": 15,
     "metadata": {},
     "output_type": "execute_result"
    }
   ],
   "source": [
    "from collections import Counter\n",
    "\n",
    "usernames = ['animecel2d', '@aaaaaaaaaaacel', 'tehgymcel420', '@tehgymcel420', '@diocel', 'legendarywristcel', 'aaaaaaaaaaacel', 'itsover4cel',\n",
    "             '@ritalincel', 'gymletethnicel', 'incelinside', 'sillytruecel', '@cowcel', 'cowcel', 'gyros_pretcel', 'ethnicelnl', '@zettacel',\n",
    "            'zettacel', 'thebasedcel', '@thoughtfulcel', 'thoughtfulcel', 'thereaclchincel', 'turbocuckcel_7000', 'supersaiyangymcel', 'alt=\"cowcel\"]https://incels.co',\n",
    "            '@sergeantincel', '@gymletethnicel', 'ppecel', '@ppecel', 'finncel', '@finncel', 'speedtypingincel', 'itsogrecel', 'dogcel256',\n",
    "            'idlevillagercel', 'framecel222', 'crestfallencel', 'templarcel421', '@eskimocel', 'eskimocel', 'cameroncel',]\n",
    "exclude = usernames + [\n",
    "    'incels', 'incel', 'incels.is', 'inceldom', 'celibate', 'celebrate', 'celebrity', 'celebrities', 'inceltears', 'cells', 'excel', 'excels',\n",
    "    'excellent', 'nicely',\n",
    "]\n",
    "cel_variants = Counter({wd: model.wv.get_vecattr(wd, 'count') for wd in model.wv.key_to_index.keys() if 'cel' in wd and not wd in exclude})\n",
    "cel_variants.most_common(100)"
   ]
  }
 ],
 "metadata": {
  "kernelspec": {
   "display_name": "Python 3 (ipykernel)",
   "language": "python",
   "name": "python3"
  },
  "language_info": {
   "codemirror_mode": {
    "name": "ipython",
    "version": 3
   },
   "file_extension": ".py",
   "mimetype": "text/x-python",
   "name": "python",
   "nbconvert_exporter": "python",
   "pygments_lexer": "ipython3",
   "version": "3.10.9"
  }
 },
 "nbformat": 4,
 "nbformat_minor": 5
}
