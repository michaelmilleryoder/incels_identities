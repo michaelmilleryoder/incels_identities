{
 "cells": [
  {
   "cell_type": "markdown",
   "id": "8a718d63-ba5c-4fe7-9dae-afc196d5d26d",
   "metadata": {},
   "source": [
    "# Find distribution of cel/pill variants"
   ]
  },
  {
   "cell_type": "code",
   "execution_count": 8,
   "id": "b10ad7e0-d4e2-43dc-a751-34e64df8e386",
   "metadata": {},
   "outputs": [
    {
     "name": "stdout",
     "output_type": "stream",
     "text": [
      "<class 'pandas.core.frame.DataFrame'>\n",
      "RangeIndex: 6248230 entries, 0 to 6248229\n",
      "Data columns (total 11 columns):\n",
      " #   Column                            Dtype         \n",
      "---  ------                            -----         \n",
      " 0   type                              object        \n",
      " 1   forum                             object        \n",
      " 2   thread                            object        \n",
      " 3   username                          object        \n",
      " 4   date                              object        \n",
      " 5   content                           object        \n",
      " 6   parsed_date                       datetime64[ns]\n",
      " 7   content_orig                      object        \n",
      " 8   netmapper_identity_matches        object        \n",
      " 9   netmapper_identity_matches_spans  object        \n",
      " 10  actions_attributes                object        \n",
      "dtypes: datetime64[ns](1), object(10)\n",
      "memory usage: 524.4+ MB\n"
     ]
    }
   ],
   "source": [
    "# Load processed data (necessary?)\n",
    "import pandas as pd\n",
    "\n",
    "path = '../../data/incels/processed_comments.pkl'\n",
    "data = pd.read_pickle(path)\n",
    "data.info()"
   ]
  },
  {
   "cell_type": "code",
   "execution_count": 15,
   "id": "aae541d9-b832-4aa1-af51-52d9f12cc280",
   "metadata": {},
   "outputs": [
    {
     "data": {
      "text/plain": [
       "8467"
      ]
     },
     "execution_count": 15,
     "metadata": {},
     "output_type": "execute_result"
    }
   ],
   "source": [
    "# Get all usernames\n",
    "usernames = data.username.str.lower().unique().tolist()\n",
    "len(usernames)"
   ]
  },
  {
   "cell_type": "code",
   "execution_count": 1,
   "id": "47a7f146-4cc1-4500-8e78-7ac5d40d8d2e",
   "metadata": {
    "scrolled": true,
    "tags": []
   },
   "outputs": [],
   "source": [
    "# Load incels vocab and term counts from Gensim model\n",
    "from gensim.models import Word2Vec\n",
    "\n",
    "path = '../models/emb/incels.model'\n",
    "model = Word2Vec.load(path)"
   ]
  },
  {
   "cell_type": "code",
   "execution_count": 73,
   "id": "cbdfb895-de6b-418b-a45c-f7821dd2b953",
   "metadata": {
    "scrolled": true,
    "tags": []
   },
   "outputs": [
    {
     "data": {
      "application/vnd.plotly.v1+json": {
       "config": {
        "plotlyServerURL": "https://plot.ly"
       },
       "data": [
        {
         "alignmentgroup": "True",
         "hovertemplate": "term=%{x}<br>count=%{y}<extra></extra>",
         "legendgroup": "",
         "marker": {
          "color": "#636efa",
          "pattern": {
           "shape": ""
          }
         },
         "name": "",
         "offsetgroup": "",
         "orientation": "v",
         "showlegend": false,
         "textposition": "auto",
         "type": "bar",
         "x": [
          "fakecel",
          "volcel",
          "truecel",
          "truecels",
          "fakecels",
          "trucel",
          "ricecels",
          "greycel",
          "gymcelling",
          "graycel",
          "mentalcels",
          "escortcel",
          "currycels",
          "femcels",
          "whitecels",
          "greycels",
          "youngcels",
          "escortcelling",
          "framecel",
          "escortcels",
          "fatcel",
          "oldcels",
          "blackcels",
          "gymcels",
          "gymceling",
          "brocels",
          "trucels",
          "incelistan",
          "ethnicels",
          "nearcel",
          "fatcels",
          "escortceling",
          "graycels",
          "itcels",
          "tallcels",
          "shortcels",
          "locationcel",
          "bluecel",
          "maycels",
          "suicel"
         ],
         "xaxis": "x",
         "y": [
          36499,
          35796,
          29972,
          20009,
          16226,
          13835,
          11437,
          11018,
          7173,
          6044,
          5868,
          5545,
          5366,
          4901,
          4745,
          4567,
          4280,
          4190,
          3973,
          3550,
          3502,
          3193,
          3083,
          2742,
          2423,
          2390,
          2246,
          1903,
          1848,
          1802,
          1650,
          1561,
          1551,
          1521,
          1381,
          1312,
          1194,
          1068,
          1043,
          1032
         ],
         "yaxis": "y"
        }
       ],
       "layout": {
        "autosize": true,
        "barmode": "relative",
        "legend": {
         "tracegroupgap": 0
        },
        "margin": {
         "t": 60
        },
        "template": {
         "data": {
          "bar": [
           {
            "error_x": {
             "color": "#2a3f5f"
            },
            "error_y": {
             "color": "#2a3f5f"
            },
            "marker": {
             "line": {
              "color": "#E5ECF6",
              "width": 0.5
             },
             "pattern": {
              "fillmode": "overlay",
              "size": 10,
              "solidity": 0.2
             }
            },
            "type": "bar"
           }
          ],
          "barpolar": [
           {
            "marker": {
             "line": {
              "color": "#E5ECF6",
              "width": 0.5
             },
             "pattern": {
              "fillmode": "overlay",
              "size": 10,
              "solidity": 0.2
             }
            },
            "type": "barpolar"
           }
          ],
          "carpet": [
           {
            "aaxis": {
             "endlinecolor": "#2a3f5f",
             "gridcolor": "white",
             "linecolor": "white",
             "minorgridcolor": "white",
             "startlinecolor": "#2a3f5f"
            },
            "baxis": {
             "endlinecolor": "#2a3f5f",
             "gridcolor": "white",
             "linecolor": "white",
             "minorgridcolor": "white",
             "startlinecolor": "#2a3f5f"
            },
            "type": "carpet"
           }
          ],
          "choropleth": [
           {
            "colorbar": {
             "outlinewidth": 0,
             "ticks": ""
            },
            "type": "choropleth"
           }
          ],
          "contour": [
           {
            "colorbar": {
             "outlinewidth": 0,
             "ticks": ""
            },
            "colorscale": [
             [
              0,
              "#0d0887"
             ],
             [
              0.1111111111111111,
              "#46039f"
             ],
             [
              0.2222222222222222,
              "#7201a8"
             ],
             [
              0.3333333333333333,
              "#9c179e"
             ],
             [
              0.4444444444444444,
              "#bd3786"
             ],
             [
              0.5555555555555556,
              "#d8576b"
             ],
             [
              0.6666666666666666,
              "#ed7953"
             ],
             [
              0.7777777777777778,
              "#fb9f3a"
             ],
             [
              0.8888888888888888,
              "#fdca26"
             ],
             [
              1,
              "#f0f921"
             ]
            ],
            "type": "contour"
           }
          ],
          "contourcarpet": [
           {
            "colorbar": {
             "outlinewidth": 0,
             "ticks": ""
            },
            "type": "contourcarpet"
           }
          ],
          "heatmap": [
           {
            "colorbar": {
             "outlinewidth": 0,
             "ticks": ""
            },
            "colorscale": [
             [
              0,
              "#0d0887"
             ],
             [
              0.1111111111111111,
              "#46039f"
             ],
             [
              0.2222222222222222,
              "#7201a8"
             ],
             [
              0.3333333333333333,
              "#9c179e"
             ],
             [
              0.4444444444444444,
              "#bd3786"
             ],
             [
              0.5555555555555556,
              "#d8576b"
             ],
             [
              0.6666666666666666,
              "#ed7953"
             ],
             [
              0.7777777777777778,
              "#fb9f3a"
             ],
             [
              0.8888888888888888,
              "#fdca26"
             ],
             [
              1,
              "#f0f921"
             ]
            ],
            "type": "heatmap"
           }
          ],
          "heatmapgl": [
           {
            "colorbar": {
             "outlinewidth": 0,
             "ticks": ""
            },
            "colorscale": [
             [
              0,
              "#0d0887"
             ],
             [
              0.1111111111111111,
              "#46039f"
             ],
             [
              0.2222222222222222,
              "#7201a8"
             ],
             [
              0.3333333333333333,
              "#9c179e"
             ],
             [
              0.4444444444444444,
              "#bd3786"
             ],
             [
              0.5555555555555556,
              "#d8576b"
             ],
             [
              0.6666666666666666,
              "#ed7953"
             ],
             [
              0.7777777777777778,
              "#fb9f3a"
             ],
             [
              0.8888888888888888,
              "#fdca26"
             ],
             [
              1,
              "#f0f921"
             ]
            ],
            "type": "heatmapgl"
           }
          ],
          "histogram": [
           {
            "marker": {
             "pattern": {
              "fillmode": "overlay",
              "size": 10,
              "solidity": 0.2
             }
            },
            "type": "histogram"
           }
          ],
          "histogram2d": [
           {
            "colorbar": {
             "outlinewidth": 0,
             "ticks": ""
            },
            "colorscale": [
             [
              0,
              "#0d0887"
             ],
             [
              0.1111111111111111,
              "#46039f"
             ],
             [
              0.2222222222222222,
              "#7201a8"
             ],
             [
              0.3333333333333333,
              "#9c179e"
             ],
             [
              0.4444444444444444,
              "#bd3786"
             ],
             [
              0.5555555555555556,
              "#d8576b"
             ],
             [
              0.6666666666666666,
              "#ed7953"
             ],
             [
              0.7777777777777778,
              "#fb9f3a"
             ],
             [
              0.8888888888888888,
              "#fdca26"
             ],
             [
              1,
              "#f0f921"
             ]
            ],
            "type": "histogram2d"
           }
          ],
          "histogram2dcontour": [
           {
            "colorbar": {
             "outlinewidth": 0,
             "ticks": ""
            },
            "colorscale": [
             [
              0,
              "#0d0887"
             ],
             [
              0.1111111111111111,
              "#46039f"
             ],
             [
              0.2222222222222222,
              "#7201a8"
             ],
             [
              0.3333333333333333,
              "#9c179e"
             ],
             [
              0.4444444444444444,
              "#bd3786"
             ],
             [
              0.5555555555555556,
              "#d8576b"
             ],
             [
              0.6666666666666666,
              "#ed7953"
             ],
             [
              0.7777777777777778,
              "#fb9f3a"
             ],
             [
              0.8888888888888888,
              "#fdca26"
             ],
             [
              1,
              "#f0f921"
             ]
            ],
            "type": "histogram2dcontour"
           }
          ],
          "mesh3d": [
           {
            "colorbar": {
             "outlinewidth": 0,
             "ticks": ""
            },
            "type": "mesh3d"
           }
          ],
          "parcoords": [
           {
            "line": {
             "colorbar": {
              "outlinewidth": 0,
              "ticks": ""
             }
            },
            "type": "parcoords"
           }
          ],
          "pie": [
           {
            "automargin": true,
            "type": "pie"
           }
          ],
          "scatter": [
           {
            "fillpattern": {
             "fillmode": "overlay",
             "size": 10,
             "solidity": 0.2
            },
            "type": "scatter"
           }
          ],
          "scatter3d": [
           {
            "line": {
             "colorbar": {
              "outlinewidth": 0,
              "ticks": ""
             }
            },
            "marker": {
             "colorbar": {
              "outlinewidth": 0,
              "ticks": ""
             }
            },
            "type": "scatter3d"
           }
          ],
          "scattercarpet": [
           {
            "marker": {
             "colorbar": {
              "outlinewidth": 0,
              "ticks": ""
             }
            },
            "type": "scattercarpet"
           }
          ],
          "scattergeo": [
           {
            "marker": {
             "colorbar": {
              "outlinewidth": 0,
              "ticks": ""
             }
            },
            "type": "scattergeo"
           }
          ],
          "scattergl": [
           {
            "marker": {
             "colorbar": {
              "outlinewidth": 0,
              "ticks": ""
             }
            },
            "type": "scattergl"
           }
          ],
          "scattermapbox": [
           {
            "marker": {
             "colorbar": {
              "outlinewidth": 0,
              "ticks": ""
             }
            },
            "type": "scattermapbox"
           }
          ],
          "scatterpolar": [
           {
            "marker": {
             "colorbar": {
              "outlinewidth": 0,
              "ticks": ""
             }
            },
            "type": "scatterpolar"
           }
          ],
          "scatterpolargl": [
           {
            "marker": {
             "colorbar": {
              "outlinewidth": 0,
              "ticks": ""
             }
            },
            "type": "scatterpolargl"
           }
          ],
          "scatterternary": [
           {
            "marker": {
             "colorbar": {
              "outlinewidth": 0,
              "ticks": ""
             }
            },
            "type": "scatterternary"
           }
          ],
          "surface": [
           {
            "colorbar": {
             "outlinewidth": 0,
             "ticks": ""
            },
            "colorscale": [
             [
              0,
              "#0d0887"
             ],
             [
              0.1111111111111111,
              "#46039f"
             ],
             [
              0.2222222222222222,
              "#7201a8"
             ],
             [
              0.3333333333333333,
              "#9c179e"
             ],
             [
              0.4444444444444444,
              "#bd3786"
             ],
             [
              0.5555555555555556,
              "#d8576b"
             ],
             [
              0.6666666666666666,
              "#ed7953"
             ],
             [
              0.7777777777777778,
              "#fb9f3a"
             ],
             [
              0.8888888888888888,
              "#fdca26"
             ],
             [
              1,
              "#f0f921"
             ]
            ],
            "type": "surface"
           }
          ],
          "table": [
           {
            "cells": {
             "fill": {
              "color": "#EBF0F8"
             },
             "line": {
              "color": "white"
             }
            },
            "header": {
             "fill": {
              "color": "#C8D4E3"
             },
             "line": {
              "color": "white"
             }
            },
            "type": "table"
           }
          ]
         },
         "layout": {
          "annotationdefaults": {
           "arrowcolor": "#2a3f5f",
           "arrowhead": 0,
           "arrowwidth": 1
          },
          "autotypenumbers": "strict",
          "coloraxis": {
           "colorbar": {
            "outlinewidth": 0,
            "ticks": ""
           }
          },
          "colorscale": {
           "diverging": [
            [
             0,
             "#8e0152"
            ],
            [
             0.1,
             "#c51b7d"
            ],
            [
             0.2,
             "#de77ae"
            ],
            [
             0.3,
             "#f1b6da"
            ],
            [
             0.4,
             "#fde0ef"
            ],
            [
             0.5,
             "#f7f7f7"
            ],
            [
             0.6,
             "#e6f5d0"
            ],
            [
             0.7,
             "#b8e186"
            ],
            [
             0.8,
             "#7fbc41"
            ],
            [
             0.9,
             "#4d9221"
            ],
            [
             1,
             "#276419"
            ]
           ],
           "sequential": [
            [
             0,
             "#0d0887"
            ],
            [
             0.1111111111111111,
             "#46039f"
            ],
            [
             0.2222222222222222,
             "#7201a8"
            ],
            [
             0.3333333333333333,
             "#9c179e"
            ],
            [
             0.4444444444444444,
             "#bd3786"
            ],
            [
             0.5555555555555556,
             "#d8576b"
            ],
            [
             0.6666666666666666,
             "#ed7953"
            ],
            [
             0.7777777777777778,
             "#fb9f3a"
            ],
            [
             0.8888888888888888,
             "#fdca26"
            ],
            [
             1,
             "#f0f921"
            ]
           ],
           "sequentialminus": [
            [
             0,
             "#0d0887"
            ],
            [
             0.1111111111111111,
             "#46039f"
            ],
            [
             0.2222222222222222,
             "#7201a8"
            ],
            [
             0.3333333333333333,
             "#9c179e"
            ],
            [
             0.4444444444444444,
             "#bd3786"
            ],
            [
             0.5555555555555556,
             "#d8576b"
            ],
            [
             0.6666666666666666,
             "#ed7953"
            ],
            [
             0.7777777777777778,
             "#fb9f3a"
            ],
            [
             0.8888888888888888,
             "#fdca26"
            ],
            [
             1,
             "#f0f921"
            ]
           ]
          },
          "colorway": [
           "#636efa",
           "#EF553B",
           "#00cc96",
           "#ab63fa",
           "#FFA15A",
           "#19d3f3",
           "#FF6692",
           "#B6E880",
           "#FF97FF",
           "#FECB52"
          ],
          "font": {
           "color": "#2a3f5f"
          },
          "geo": {
           "bgcolor": "white",
           "lakecolor": "white",
           "landcolor": "#E5ECF6",
           "showlakes": true,
           "showland": true,
           "subunitcolor": "white"
          },
          "hoverlabel": {
           "align": "left"
          },
          "hovermode": "closest",
          "mapbox": {
           "style": "light"
          },
          "paper_bgcolor": "white",
          "plot_bgcolor": "#E5ECF6",
          "polar": {
           "angularaxis": {
            "gridcolor": "white",
            "linecolor": "white",
            "ticks": ""
           },
           "bgcolor": "#E5ECF6",
           "radialaxis": {
            "gridcolor": "white",
            "linecolor": "white",
            "ticks": ""
           }
          },
          "scene": {
           "xaxis": {
            "backgroundcolor": "#E5ECF6",
            "gridcolor": "white",
            "gridwidth": 2,
            "linecolor": "white",
            "showbackground": true,
            "ticks": "",
            "zerolinecolor": "white"
           },
           "yaxis": {
            "backgroundcolor": "#E5ECF6",
            "gridcolor": "white",
            "gridwidth": 2,
            "linecolor": "white",
            "showbackground": true,
            "ticks": "",
            "zerolinecolor": "white"
           },
           "zaxis": {
            "backgroundcolor": "#E5ECF6",
            "gridcolor": "white",
            "gridwidth": 2,
            "linecolor": "white",
            "showbackground": true,
            "ticks": "",
            "zerolinecolor": "white"
           }
          },
          "shapedefaults": {
           "line": {
            "color": "#2a3f5f"
           }
          },
          "ternary": {
           "aaxis": {
            "gridcolor": "white",
            "linecolor": "white",
            "ticks": ""
           },
           "baxis": {
            "gridcolor": "white",
            "linecolor": "white",
            "ticks": ""
           },
           "bgcolor": "#E5ECF6",
           "caxis": {
            "gridcolor": "white",
            "linecolor": "white",
            "ticks": ""
           }
          },
          "title": {
           "x": 0.05
          },
          "xaxis": {
           "automargin": true,
           "gridcolor": "white",
           "linecolor": "white",
           "ticks": "",
           "title": {
            "standoff": 15
           },
           "zerolinecolor": "white",
           "zerolinewidth": 2
          },
          "yaxis": {
           "automargin": true,
           "gridcolor": "white",
           "linecolor": "white",
           "ticks": "",
           "title": {
            "standoff": 15
           },
           "zerolinecolor": "white",
           "zerolinewidth": 2
          }
         }
        },
        "xaxis": {
         "anchor": "y",
         "autorange": true,
         "domain": [
          0,
          1
         ],
         "range": [
          -0.5,
          39.5
         ],
         "tickangle": 45,
         "title": {
          "text": "term"
         },
         "type": "category"
        },
        "yaxis": {
         "anchor": "x",
         "autorange": true,
         "domain": [
          0,
          1
         ],
         "range": [
          0,
          38420
         ],
         "title": {
          "text": "count"
         },
         "type": "linear"
        }
       }
      },
      "image/png": "[encoded data removed]",
      "text/html": [
       "<div>                            <div id=\"73825d22-c401-486c-b306-f88199e94335\" class=\"plotly-graph-div\" style=\"height:525px; width:100%;\"></div>            <script type=\"text/javascript\">                require([\"plotly\"], function(Plotly) {                    window.PLOTLYENV=window.PLOTLYENV || {};                                    if (document.getElementById(\"73825d22-c401-486c-b306-f88199e94335\")) {                    Plotly.newPlot(                        \"73825d22-c401-486c-b306-f88199e94335\",                        [{\"alignmentgroup\":\"True\",\"hovertemplate\":\"term=%{x}<br>count=%{y}<extra></extra>\",\"legendgroup\":\"\",\"marker\":{\"color\":\"#636efa\",\"pattern\":{\"shape\":\"\"}},\"name\":\"\",\"offsetgroup\":\"\",\"orientation\":\"v\",\"showlegend\":false,\"textposition\":\"auto\",\"x\":[\"fakecel\",\"volcel\",\"truecel\",\"truecels\",\"fakecels\",\"trucel\",\"ricecels\",\"greycel\",\"gymcelling\",\"graycel\",\"mentalcels\",\"escortcel\",\"currycels\",\"femcels\",\"whitecels\",\"greycels\",\"youngcels\",\"escortcelling\",\"framecel\",\"escortcels\",\"fatcel\",\"oldcels\",\"blackcels\",\"gymcels\",\"gymceling\",\"brocels\",\"trucels\",\"incelistan\",\"ethnicels\",\"nearcel\",\"fatcels\",\"escortceling\",\"graycels\",\"itcels\",\"tallcels\",\"shortcels\",\"locationcel\",\"bluecel\",\"maycels\",\"suicel\"],\"xaxis\":\"x\",\"y\":[36499,35796,29972,20009,16226,13835,11437,11018,7173,6044,5868,5545,5366,4901,4745,4567,4280,4190,3973,3550,3502,3193,3083,2742,2423,2390,2246,1903,1848,1802,1650,1561,1551,1521,1381,1312,1194,1068,1043,1032],\"yaxis\":\"y\",\"type\":\"bar\"}],                        {\"template\":{\"data\":{\"histogram2dcontour\":[{\"type\":\"histogram2dcontour\",\"colorbar\":{\"outlinewidth\":0,\"ticks\":\"\"},\"colorscale\":[[0.0,\"#0d0887\"],[0.1111111111111111,\"#46039f\"],[0.2222222222222222,\"#7201a8\"],[0.3333333333333333,\"#9c179e\"],[0.4444444444444444,\"#bd3786\"],[0.5555555555555556,\"#d8576b\"],[0.6666666666666666,\"#ed7953\"],[0.7777777777777778,\"#fb9f3a\"],[0.8888888888888888,\"#fdca26\"],[1.0,\"#f0f921\"]]}],\"choropleth\":[{\"type\":\"choropleth\",\"colorbar\":{\"outlinewidth\":0,\"ticks\":\"\"}}],\"histogram2d\":[{\"type\":\"histogram2d\",\"colorbar\":{\"outlinewidth\":0,\"ticks\":\"\"},\"colorscale\":[[0.0,\"#0d0887\"],[0.1111111111111111,\"#46039f\"],[0.2222222222222222,\"#7201a8\"],[0.3333333333333333,\"#9c179e\"],[0.4444444444444444,\"#bd3786\"],[0.5555555555555556,\"#d8576b\"],[0.6666666666666666,\"#ed7953\"],[0.7777777777777778,\"#fb9f3a\"],[0.8888888888888888,\"#fdca26\"],[1.0,\"#f0f921\"]]}],\"heatmap\":[{\"type\":\"heatmap\",\"colorbar\":{\"outlinewidth\":0,\"ticks\":\"\"},\"colorscale\":[[0.0,\"#0d0887\"],[0.1111111111111111,\"#46039f\"],[0.2222222222222222,\"#7201a8\"],[0.3333333333333333,\"#9c179e\"],[0.4444444444444444,\"#bd3786\"],[0.5555555555555556,\"#d8576b\"],[0.6666666666666666,\"#ed7953\"],[0.7777777777777778,\"#fb9f3a\"],[0.8888888888888888,\"#fdca26\"],[1.0,\"#f0f921\"]]}],\"heatmapgl\":[{\"type\":\"heatmapgl\",\"colorbar\":{\"outlinewidth\":0,\"ticks\":\"\"},\"colorscale\":[[0.0,\"#0d0887\"],[0.1111111111111111,\"#46039f\"],[0.2222222222222222,\"#7201a8\"],[0.3333333333333333,\"#9c179e\"],[0.4444444444444444,\"#bd3786\"],[0.5555555555555556,\"#d8576b\"],[0.6666666666666666,\"#ed7953\"],[0.7777777777777778,\"#fb9f3a\"],[0.8888888888888888,\"#fdca26\"],[1.0,\"#f0f921\"]]}],\"contourcarpet\":[{\"type\":\"contourcarpet\",\"colorbar\":{\"outlinewidth\":0,\"ticks\":\"\"}}],\"contour\":[{\"type\":\"contour\",\"colorbar\":{\"outlinewidth\":0,\"ticks\":\"\"},\"colorscale\":[[0.0,\"#0d0887\"],[0.1111111111111111,\"#46039f\"],[0.2222222222222222,\"#7201a8\"],[0.3333333333333333,\"#9c179e\"],[0.4444444444444444,\"#bd3786\"],[0.5555555555555556,\"#d8576b\"],[0.6666666666666666,\"#ed7953\"],[0.7777777777777778,\"#fb9f3a\"],[0.8888888888888888,\"#fdca26\"],[1.0,\"#f0f921\"]]}],\"surface\":[{\"type\":\"surface\",\"colorbar\":{\"outlinewidth\":0,\"ticks\":\"\"},\"colorscale\":[[0.0,\"#0d0887\"],[0.1111111111111111,\"#46039f\"],[0.2222222222222222,\"#7201a8\"],[0.3333333333333333,\"#9c179e\"],[0.4444444444444444,\"#bd3786\"],[0.5555555555555556,\"#d8576b\"],[0.6666666666666666,\"#ed7953\"],[0.7777777777777778,\"#fb9f3a\"],[0.8888888888888888,\"#fdca26\"],[1.0,\"#f0f921\"]]}],\"mesh3d\":[{\"type\":\"mesh3d\",\"colorbar\":{\"outlinewidth\":0,\"ticks\":\"\"}}],\"scatter\":[{\"fillpattern\":{\"fillmode\":\"overlay\",\"size\":10,\"solidity\":0.2},\"type\":\"scatter\"}],\"parcoords\":[{\"type\":\"parcoords\",\"line\":{\"colorbar\":{\"outlinewidth\":0,\"ticks\":\"\"}}}],\"scatterpolargl\":[{\"type\":\"scatterpolargl\",\"marker\":{\"colorbar\":{\"outlinewidth\":0,\"ticks\":\"\"}}}],\"bar\":[{\"error_x\":{\"color\":\"#2a3f5f\"},\"error_y\":{\"color\":\"#2a3f5f\"},\"marker\":{\"line\":{\"color\":\"#E5ECF6\",\"width\":0.5},\"pattern\":{\"fillmode\":\"overlay\",\"size\":10,\"solidity\":0.2}},\"type\":\"bar\"}],\"scattergeo\":[{\"type\":\"scattergeo\",\"marker\":{\"colorbar\":{\"outlinewidth\":0,\"ticks\":\"\"}}}],\"scatterpolar\":[{\"type\":\"scatterpolar\",\"marker\":{\"colorbar\":{\"outlinewidth\":0,\"ticks\":\"\"}}}],\"histogram\":[{\"marker\":{\"pattern\":{\"fillmode\":\"overlay\",\"size\":10,\"solidity\":0.2}},\"type\":\"histogram\"}],\"scattergl\":[{\"type\":\"scattergl\",\"marker\":{\"colorbar\":{\"outlinewidth\":0,\"ticks\":\"\"}}}],\"scatter3d\":[{\"type\":\"scatter3d\",\"line\":{\"colorbar\":{\"outlinewidth\":0,\"ticks\":\"\"}},\"marker\":{\"colorbar\":{\"outlinewidth\":0,\"ticks\":\"\"}}}],\"scattermapbox\":[{\"type\":\"scattermapbox\",\"marker\":{\"colorbar\":{\"outlinewidth\":0,\"ticks\":\"\"}}}],\"scatterternary\":[{\"type\":\"scatterternary\",\"marker\":{\"colorbar\":{\"outlinewidth\":0,\"ticks\":\"\"}}}],\"scattercarpet\":[{\"type\":\"scattercarpet\",\"marker\":{\"colorbar\":{\"outlinewidth\":0,\"ticks\":\"\"}}}],\"carpet\":[{\"aaxis\":{\"endlinecolor\":\"#2a3f5f\",\"gridcolor\":\"white\",\"linecolor\":\"white\",\"minorgridcolor\":\"white\",\"startlinecolor\":\"#2a3f5f\"},\"baxis\":{\"endlinecolor\":\"#2a3f5f\",\"gridcolor\":\"white\",\"linecolor\":\"white\",\"minorgridcolor\":\"white\",\"startlinecolor\":\"#2a3f5f\"},\"type\":\"carpet\"}],\"table\":[{\"cells\":{\"fill\":{\"color\":\"#EBF0F8\"},\"line\":{\"color\":\"white\"}},\"header\":{\"fill\":{\"color\":\"#C8D4E3\"},\"line\":{\"color\":\"white\"}},\"type\":\"table\"}],\"barpolar\":[{\"marker\":{\"line\":{\"color\":\"#E5ECF6\",\"width\":0.5},\"pattern\":{\"fillmode\":\"overlay\",\"size\":10,\"solidity\":0.2}},\"type\":\"barpolar\"}],\"pie\":[{\"automargin\":true,\"type\":\"pie\"}]},\"layout\":{\"autotypenumbers\":\"strict\",\"colorway\":[\"#636efa\",\"#EF553B\",\"#00cc96\",\"#ab63fa\",\"#FFA15A\",\"#19d3f3\",\"#FF6692\",\"#B6E880\",\"#FF97FF\",\"#FECB52\"],\"font\":{\"color\":\"#2a3f5f\"},\"hovermode\":\"closest\",\"hoverlabel\":{\"align\":\"left\"},\"paper_bgcolor\":\"white\",\"plot_bgcolor\":\"#E5ECF6\",\"polar\":{\"bgcolor\":\"#E5ECF6\",\"angularaxis\":{\"gridcolor\":\"white\",\"linecolor\":\"white\",\"ticks\":\"\"},\"radialaxis\":{\"gridcolor\":\"white\",\"linecolor\":\"white\",\"ticks\":\"\"}},\"ternary\":{\"bgcolor\":\"#E5ECF6\",\"aaxis\":{\"gridcolor\":\"white\",\"linecolor\":\"white\",\"ticks\":\"\"},\"baxis\":{\"gridcolor\":\"white\",\"linecolor\":\"white\",\"ticks\":\"\"},\"caxis\":{\"gridcolor\":\"white\",\"linecolor\":\"white\",\"ticks\":\"\"}},\"coloraxis\":{\"colorbar\":{\"outlinewidth\":0,\"ticks\":\"\"}},\"colorscale\":{\"sequential\":[[0.0,\"#0d0887\"],[0.1111111111111111,\"#46039f\"],[0.2222222222222222,\"#7201a8\"],[0.3333333333333333,\"#9c179e\"],[0.4444444444444444,\"#bd3786\"],[0.5555555555555556,\"#d8576b\"],[0.6666666666666666,\"#ed7953\"],[0.7777777777777778,\"#fb9f3a\"],[0.8888888888888888,\"#fdca26\"],[1.0,\"#f0f921\"]],\"sequentialminus\":[[0.0,\"#0d0887\"],[0.1111111111111111,\"#46039f\"],[0.2222222222222222,\"#7201a8\"],[0.3333333333333333,\"#9c179e\"],[0.4444444444444444,\"#bd3786\"],[0.5555555555555556,\"#d8576b\"],[0.6666666666666666,\"#ed7953\"],[0.7777777777777778,\"#fb9f3a\"],[0.8888888888888888,\"#fdca26\"],[1.0,\"#f0f921\"]],\"diverging\":[[0,\"#8e0152\"],[0.1,\"#c51b7d\"],[0.2,\"#de77ae\"],[0.3,\"#f1b6da\"],[0.4,\"#fde0ef\"],[0.5,\"#f7f7f7\"],[0.6,\"#e6f5d0\"],[0.7,\"#b8e186\"],[0.8,\"#7fbc41\"],[0.9,\"#4d9221\"],[1,\"#276419\"]]},\"xaxis\":{\"gridcolor\":\"white\",\"linecolor\":\"white\",\"ticks\":\"\",\"title\":{\"standoff\":15},\"zerolinecolor\":\"white\",\"automargin\":true,\"zerolinewidth\":2},\"yaxis\":{\"gridcolor\":\"white\",\"linecolor\":\"white\",\"ticks\":\"\",\"title\":{\"standoff\":15},\"zerolinecolor\":\"white\",\"automargin\":true,\"zerolinewidth\":2},\"scene\":{\"xaxis\":{\"backgroundcolor\":\"#E5ECF6\",\"gridcolor\":\"white\",\"linecolor\":\"white\",\"showbackground\":true,\"ticks\":\"\",\"zerolinecolor\":\"white\",\"gridwidth\":2},\"yaxis\":{\"backgroundcolor\":\"#E5ECF6\",\"gridcolor\":\"white\",\"linecolor\":\"white\",\"showbackground\":true,\"ticks\":\"\",\"zerolinecolor\":\"white\",\"gridwidth\":2},\"zaxis\":{\"backgroundcolor\":\"#E5ECF6\",\"gridcolor\":\"white\",\"linecolor\":\"white\",\"showbackground\":true,\"ticks\":\"\",\"zerolinecolor\":\"white\",\"gridwidth\":2}},\"shapedefaults\":{\"line\":{\"color\":\"#2a3f5f\"}},\"annotationdefaults\":{\"arrowcolor\":\"#2a3f5f\",\"arrowhead\":0,\"arrowwidth\":1},\"geo\":{\"bgcolor\":\"white\",\"landcolor\":\"#E5ECF6\",\"subunitcolor\":\"white\",\"showland\":true,\"showlakes\":true,\"lakecolor\":\"white\"},\"title\":{\"x\":0.05},\"mapbox\":{\"style\":\"light\"}}},\"xaxis\":{\"anchor\":\"y\",\"domain\":[0.0,1.0],\"title\":{\"text\":\"term\"},\"tickangle\":45},\"yaxis\":{\"anchor\":\"x\",\"domain\":[0.0,1.0],\"title\":{\"text\":\"count\"}},\"legend\":{\"tracegroupgap\":0},\"margin\":{\"t\":60},\"barmode\":\"relative\"},                        {\"responsive\": true}                    ).then(function(){\n",
       "                            \n",
       "var gd = document.getElementById('73825d22-c401-486c-b306-f88199e94335');\n",
       "var x = new MutationObserver(function (mutations, observer) {{\n",
       "        var display = window.getComputedStyle(gd).display;\n",
       "        if (!display || display === 'none') {{\n",
       "            console.log([gd, 'removed!']);\n",
       "            Plotly.purge(gd);\n",
       "            observer.disconnect();\n",
       "        }}\n",
       "}});\n",
       "\n",
       "// Listen for the removal of the full notebook cells\n",
       "var notebookContainer = gd.closest('#notebook-container');\n",
       "if (notebookContainer) {{\n",
       "    x.observe(notebookContainer, {childList: true});\n",
       "}}\n",
       "\n",
       "// Listen for the clearing of the current output cell\n",
       "var outputEl = gd.closest('.output');\n",
       "if (outputEl) {{\n",
       "    x.observe(outputEl, {childList: true});\n",
       "}}\n",
       "\n",
       "                        })                };                });            </script>        </div>"
      ]
     },
     "metadata": {},
     "output_type": "display_data"
    }
   ],
   "source": [
    "from collections import Counter\n",
    "import pandas as pd\n",
    "\n",
    "# usernames = ['animecel2d', '@animecel2d', '@aaaaaaaaaaacel', 'tehgymcel420', '@tehgymcel420', '@diocel', 'legendarywristcel', 'aaaaaaaaaaacel', 'itsover4cel',\n",
    "#              '@ritalincel', 'gymletethnicel', 'incelinside', 'sillytruecel', '@cowcel', 'cowcel', 'gyros_pretcel', 'ethnicelnl', '@zettacel',\n",
    "#             'zettacel', 'thebasedcel', '@thoughtfulcel', 'thoughtfulcel', 'thereaclchincel', 'turbocuckcel_7000', 'supersaiyangymcel', 'alt=\"cowcel\"]https://incels.co',\n",
    "#             '@sergeantincel', '@gymletethnicel', 'ppecel', '@ppecel', 'finncel', '@finncel', 'speedtypingincel', 'itsogrecel', 'dogcel256',\n",
    "#             'idlevillagercel', 'framecel222', 'crestfallencel', 'templarcel421', '@eskimocel', 'eskimocel', 'cameroncel', '@incellectual', \n",
    "#              'braincelsrefugee', 'proudincelistani', 'gigacel123', 'blackopsiicel']\n",
    "exclude = usernames + [f'@{name}' for name in usernames] + [\n",
    "    'incels', 'incel', 'incels.is', 'incels.co', 'incels.me', 'inceldom', 'celibate', 'celebrate', 'celebrity', 'celebrities', 'inceltears', 'cells', 'excel', 'excels',\n",
    "    'excellent', 'nicely', 'cel', 'cels', 'cell', 'alt=\"cowcel\"]https://incels.co', 'celibate', 'celibates', 'eskimocel', '@eskimocel',\n",
    "    'celebrating', 'aedracel', '@aedracel', 'deformaspergercel', '@deformaspergercel', 'celibacy', 'johnwickcel', '@johnwickcel', 'incelkingkong',\n",
    "    '@incelkingkong', 'itsogrecel', '@itsogrecel', 'incelman', '@incelman', 'celtictruecel', 'celebrated', 'cancelled', 'hungarocel', '@hungarocel',\n",
    "    'chesscel', '@chesscel', 'inceltear', 'higgscel', '@higgscel', 'genecel', '@genecel', 'powerlevelcel', '@powerlevelcel', '50iqcel', '@50iqcel',\n",
    "    'hikicel', '@hikicel', 'manicel', '@manicel', 'braincels', 'boardwalkcel', '@boardwalkcel',\n",
    "]\n",
    "cel_variants = Counter({wd: model.wv.get_vecattr(wd, 'count') for wd in model.wv.key_to_index.keys() if 'cel' in wd and not wd in exclude})\n",
    "cel_variants = pd.DataFrame(cel_variants.most_common(40), columns=['term', 'count'])\n",
    "cel_variants\n",
    "\n",
    "import plotly.express as px\n",
    "\n",
    "fig = px.bar(cel_variants, x='term', y='count')\n",
    "fig.update_xaxes(tickangle=45)"
   ]
  },
  {
   "cell_type": "code",
   "execution_count": 77,
   "id": "59fe4166-3f15-4bc3-bb0d-c345605de86f",
   "metadata": {},
   "outputs": [
    {
     "data": {
      "text/html": [
       "<div>\n",
       "<style scoped>\n",
       "    .dataframe tbody tr th:only-of-type {\n",
       "        vertical-align: middle;\n",
       "    }\n",
       "\n",
       "    .dataframe tbody tr th {\n",
       "        vertical-align: top;\n",
       "    }\n",
       "\n",
       "    .dataframe thead th {\n",
       "        text-align: right;\n",
       "    }\n",
       "</style>\n",
       "<table border=\"1\" class=\"dataframe\">\n",
       "  <thead>\n",
       "    <tr style=\"text-align: right;\">\n",
       "      <th></th>\n",
       "      <th>content</th>\n",
       "      <th>username</th>\n",
       "    </tr>\n",
       "  </thead>\n",
       "  <tbody>\n",
       "    <tr>\n",
       "      <th>2780725</th>\n",
       "      <td>zaetheus said : view attachment 38414 this op nigga might be gay but you low iq bro . dekim said : from trucel to chad . amazing . just imagine how we might all be overrating foids since they all use make up even more heavily than this on a daily basis .</td>\n",
       "      <td>Henry de Montherlant</td>\n",
       "    </tr>\n",
       "    <tr>\n",
       "      <th>1271341</th>\n",
       "      <td>genetic dead end said : the only ascension for a truecel is roping</td>\n",
       "      <td>BrapZilian</td>\n",
       "    </tr>\n",
       "    <tr>\n",
       "      <th>1250750</th>\n",
       "      <td>failmaxxed said : view attachment 273491 view attachment 273492 there is one city , and only foreigners live there damn nope not living there jfl , my half curry rice truecel freinds grandpa got robbed there so it 's basically mainland china jfl chinacurry said : nope , but if u are curry the chinese and malays will treat u worse than garbage . trust me singapore is the worst place on earth for curries , all u will do is cope with other curries , and their disgusting food , then marry a fat ugly curry ded srs ? malaysion chinese in australia were nice to me , and even my mum had chinese freinds , i never really liked malays tbhngl . and i see lots of half chinese half indians from malayasia so i thought it would nt be that bad lmao</td>\n",
       "      <td>Deleted member 23981</td>\n",
       "    </tr>\n",
       "    <tr>\n",
       "      <th>815758</th>\n",
       "      <td>they basically neet , no social life , and also tfw no gf . so why are they not clasified as incels ? also why is there so few japcels when they basically the land of trucels ?</td>\n",
       "      <td>Senada</td>\n",
       "    </tr>\n",
       "    <tr>\n",
       "      <th>5049948</th>\n",
       "      <td>cuyen said : gingers looks like truecels to me they have bad media effect and seen as \" creepy \" gingers have it worst tbh , even ethnics are better</td>\n",
       "      <td>Blacktarpill</td>\n",
       "    </tr>\n",
       "    <tr>\n",
       "      <th>340311</th>\n",
       "      <td>ppecel said : if she was a male she 'd be truecel ; bad lower third , extremely small frame for a scandinavian person . she 's the only person that does n't framemog me</td>\n",
       "      <td>Hyperwristcel</td>\n",
       "    </tr>\n",
       "    <tr>\n",
       "      <th>2279921</th>\n",
       "      <td>notquitechadlite said : only 2 types get 10 alerts , trucel spammers like ritalincel and sniffles or fakecels who only visit this site once in a while . blacktarpill said : hi , i m your alertfuel modus coperandi said : here have a free alert bro . edit : thanks for the alerts , fellow redditors ! !</td>\n",
       "      <td>MarriedAndLookin4Fun</td>\n",
       "    </tr>\n",
       "    <tr>\n",
       "      <th>1608094</th>\n",
       "      <td>transcended trucel said : does n't matter to me . i will be quitting normal life and become monk . it does n't mstter to anyone here ur not gon na get slid regarldess of whether gtprtgsmy goes up or down . it does matter . some people here are at the edge . people here are still trying(jfl )</td>\n",
       "      <td>Ropemaxx</td>\n",
       "    </tr>\n",
       "    <tr>\n",
       "      <th>4788614</th>\n",
       "      <td>weeb25 said : no man he is truecel with mental problems do nt get mad at him its his place to vent here i like his posts a lot tbh , but what pisses me off is his constant bragging . the other day he has mentioned he could fuck that : but he refused . in another thread he said a cute girl asked him randomly for his phone number and texted with him , or that he rejected an ugly girl who was trying to hit it off with him . volcels.co tbh .</td>\n",
       "      <td>DoctorBlythe</td>\n",
       "    </tr>\n",
       "    <tr>\n",
       "      <th>5418948</th>\n",
       "      <td>raiden said : i have nt watched in forever but i loved avgn / cinemassacre played a lot of snes / nes / genesis / gbc from elementary to high school and he kept making videos , perfect guy to watch all day i usually watch all his avgn episodes if i m bored i used to binge watch his videos a few months ago , but i eventually got bored of them . weirdcel said : truecel sense of humor i 'll take that as a compliment . normies have the worst sense of humor .</td>\n",
       "      <td>Kointo</td>\n",
       "    </tr>\n",
       "  </tbody>\n",
       "</table>\n",
       "</div>"
      ],
      "text/plain": [
       "                                                                                                                                                                                                                                                                                                                                                                                                                                                                                                                                                                                                                                                                                                                                                                       content  \\\n",
       "2780725                                                                                                                                                                                                                                                                                                                                                                                                                                                                                                         zaetheus said : view attachment 38414 this op nigga might be gay but you low iq bro . dekim said : from trucel to chad . amazing . just imagine how we might all be overrating foids since they all use make up even more heavily than this on a daily basis .   \n",
       "1271341                                                                                                                                                                                                                                                                                                                                                                                                                                                                                                                                                                                                                                                                                                     genetic dead end said : the only ascension for a truecel is roping   \n",
       "1250750  failmaxxed said : view attachment 273491 view attachment 273492 there is one city , and only foreigners live there damn nope not living there jfl , my half curry rice truecel freinds grandpa got robbed there so it 's basically mainland china jfl chinacurry said : nope , but if u are curry the chinese and malays will treat u worse than garbage . trust me singapore is the worst place on earth for curries , all u will do is cope with other curries , and their disgusting food , then marry a fat ugly curry ded srs ? malaysion chinese in australia were nice to me , and even my mum had chinese freinds , i never really liked malays tbhngl . and i see lots of half chinese half indians from malayasia so i thought it would nt be that bad lmao   \n",
       "815758                                                                                                                                                                                                                                                                                                                                                                                                                                                                                                                                                                                        they basically neet , no social life , and also tfw no gf . so why are they not clasified as incels ? also why is there so few japcels when they basically the land of trucels ?   \n",
       "5049948                                                                                                                                                                                                                                                                                                                                                                                                                                                                                                                                                                                                                   cuyen said : gingers looks like truecels to me they have bad media effect and seen as \" creepy \" gingers have it worst tbh , even ethnics are better   \n",
       "340311                                                                                                                                                                                                                                                                                                                                                                                                                                                                                                                                                                                                ppecel said : if she was a male she 'd be truecel ; bad lower third , extremely small frame for a scandinavian person . she 's the only person that does n't framemog me   \n",
       "2279921                                                                                                                                                                                                                                                                                                                                                                                                                                                           notquitechadlite said : only 2 types get 10 alerts , trucel spammers like ritalincel and sniffles or fakecels who only visit this site once in a while . blacktarpill said : hi , i m your alertfuel modus coperandi said : here have a free alert bro . edit : thanks for the alerts , fellow redditors ! !   \n",
       "1608094                                                                                                                                                                                                                                                                                                                                                                                                                                                                   transcended trucel said : does n't matter to me . i will be quitting normal life and become monk . it does n't mstter to anyone here ur not gon na get slid regarldess of whether gtprtgsmy goes up or down . it does matter . some people here are at the edge . people here are still trying(jfl )   \n",
       "4788614                                                                                                                                                                                                                                                                                                              weeb25 said : no man he is truecel with mental problems do nt get mad at him its his place to vent here i like his posts a lot tbh , but what pisses me off is his constant bragging . the other day he has mentioned he could fuck that : but he refused . in another thread he said a cute girl asked him randomly for his phone number and texted with him , or that he rejected an ugly girl who was trying to hit it off with him . volcels.co tbh .   \n",
       "5418948                                                                                                                                                                                                                                                                                             raiden said : i have nt watched in forever but i loved avgn / cinemassacre played a lot of snes / nes / genesis / gbc from elementary to high school and he kept making videos , perfect guy to watch all day i usually watch all his avgn episodes if i m bored i used to binge watch his videos a few months ago , but i eventually got bored of them . weirdcel said : truecel sense of humor i 'll take that as a compliment . normies have the worst sense of humor .   \n",
       "\n",
       "                     username  \n",
       "2780725  Henry de Montherlant  \n",
       "1271341            BrapZilian  \n",
       "1250750  Deleted member 23981  \n",
       "815758                 Senada  \n",
       "5049948          Blacktarpill  \n",
       "340311          Hyperwristcel  \n",
       "2279921  MarriedAndLookin4Fun  \n",
       "1608094              Ropemaxx  \n",
       "4788614          DoctorBlythe  \n",
       "5418948                Kointo  "
      ]
     },
     "execution_count": 77,
     "metadata": {},
     "output_type": "execute_result"
    }
   ],
   "source": [
    "# Look into use of these terms\n",
    "pd.set_option('display.max_colwidth', None)\n",
    "# terms = ['fakecel', 'fakecels', 'fake cel', 'fake cels',] \n",
    "terms = ['truecel', 'truecels', 'true cel', 'true cels', 'trucel', 'trucels'] \n",
    "\n",
    "# data.loc[data.content.str.contains(r'|'.join([rf'\\b{term}\\b' for term in terms])), ['content', 'username']].sample(5)\n",
    "data.loc[data.content.str.contains(r'|'.join([rf'\\b{term}\\b' for term in terms])), ['content', 'username']].sample(10)"
   ]
  }
 ],
 "metadata": {
  "kernelspec": {
   "display_name": "Python 3 (ipykernel)",
   "language": "python",
   "name": "python3"
  },
  "language_info": {
   "codemirror_mode": {
    "name": "ipython",
    "version": 3
   },
   "file_extension": ".py",
   "mimetype": "text/x-python",
   "name": "python",
   "nbconvert_exporter": "python",
   "pygments_lexer": "ipython3",
   "version": "3.10.9"
  }
 },
 "nbformat": 4,
 "nbformat_minor": 5
}
