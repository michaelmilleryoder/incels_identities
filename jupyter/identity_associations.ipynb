{
 "cells": [
  {
   "cell_type": "markdown",
   "id": "d40512b7-31df-45f9-95f0-f0992666ebb7",
   "metadata": {},
   "source": [
    "# Dependency parsing"
   ]
  },
  {
   "cell_type": "code",
   "execution_count": null,
   "id": "8f786421-5d75-478e-b6a5-1db964f094d4",
   "metadata": {},
   "outputs": [],
   "source": [
    "# Load data with identity term matches extracted, tokenized\n",
    "import pandas as pd\n",
    "\n",
    "path = '../../data/incels/processed_comments.pkl'\n",
    "# path = '../data/white_supremacist_identities.pkl'\n",
    "data = pd.read_pickle(path)\n",
    "data.info()"
   ]
  },
  {
   "cell_type": "code",
   "execution_count": null,
   "id": "101ae0ab-1b43-475f-a939-97129093328e",
   "metadata": {},
   "outputs": [],
   "source": [
    "import spacy\n",
    "\n",
    "nlp = spacy.load('en_core_web_sm', disable=['ner'])"
   ]
  },
  {
   "cell_type": "code",
   "execution_count": null,
   "id": "6f24f326-600c-4c4b-9889-c2d254fb6ffe",
   "metadata": {},
   "outputs": [],
   "source": [
    "samp = data[data.netmapper_identity_matches.map(lambda x: len(x) > 0)].head(1)\n",
    "samp"
   ]
  },
  {
   "cell_type": "code",
   "execution_count": null,
   "id": "8fdf8b07-4c34-4481-9b12-4ef2dc8e42b9",
   "metadata": {},
   "outputs": [],
   "source": [
    "pd.set_option('display.max_colwidth', None)\n",
    "test = test.loc[12, 'content']"
   ]
  },
  {
   "cell_type": "code",
   "execution_count": null,
   "id": "5fee9c6f-5541-4ec2-9e4e-e081ba8ad863",
   "metadata": {},
   "outputs": [],
   "source": [
    "doc = nlp(test)\n",
    "doc"
   ]
  },
  {
   "cell_type": "code",
   "execution_count": null,
   "id": "0d9e447d-3986-4402-92ed-5cfa796e233e",
   "metadata": {
    "scrolled": true,
    "tags": []
   },
   "outputs": [],
   "source": [
    "parse = [tok.dep_ for tok in doc]\n",
    "parse"
   ]
  },
  {
   "cell_type": "code",
   "execution_count": null,
   "id": "f3fdb563-550d-47ca-bdc1-184f6322a5ac",
   "metadata": {},
   "outputs": [],
   "source": [
    "parse[tok_idx]"
   ]
  },
  {
   "cell_type": "code",
   "execution_count": null,
   "id": "58f8955c-a559-47b4-8cf4-4c96e6988ac1",
   "metadata": {},
   "outputs": [],
   "source": [
    "[tok.head for tok in doc][tok_idx]"
   ]
  },
  {
   "cell_type": "code",
   "execution_count": null,
   "id": "0253340d-523b-415c-b977-756a1be09d7f",
   "metadata": {},
   "outputs": [],
   "source": [
    "# Match extracted identities to tokens\n",
    "from collections import defaultdict\n",
    "\n",
    "actions_attributes = {} # identity: {'actions': [actions], {'attributes': [attributes]} # replace with separate columns of attributes and actions in exploded df\n",
    "identity_ctr = defaultdict(int) # keep track of how many of this identity I've seen\n",
    "\n",
    "for identity in samp.loc[12, 'netmapper_identity_matches']:\n",
    "    \n",
    "    # Get identity mention locations\n",
    "    mention_idx = [i for i, tok in enumerate(doc) if tok.text==identity]\n",
    "    tok_idx = mention_idx[identity_ctr[identity]]\n",
    "    \n",
    "    # Verbs where identity term was the subject\n",
    "    verbs_subj = [tok.head.text for tok in doc if tok.i==tok_idx \\\n",
    "        in mention_idx and (tok.dep_=='nsubj' or tok.dep_=='agent')]\n",
    "\n",
    "    # Verbs where identity term was the object\n",
    "    verbs_obj = [tok.head.text for tok in doc if tok.i==tok_idx and \\\n",
    "        (tok.dep_=='dobj' or tok.dep_=='nsubjpass' or \\\n",
    "        tok.dep_=='dative' or tok.dep_=='pobj')]\n",
    "\n",
    "    # Adjectives that describe the identity term\n",
    "    adjs = [tok.text.lower() for tok in doc if tok.head.i == tok_idx and \\\n",
    "        (tok.dep_=='amod' or tok.dep_=='appos' or \\\n",
    "        tok.dep_=='nsubj' or tok.dep_=='nmod')] \\\n",
    "        + [tok.text.lower() for tok in doc if tok.dep_=='attr' and \\\n",
    "            (tok.head.text=='is' or tok.head.text=='was') and \\\n",
    "           any([c.i==tok_idx for c in tok.head.children])]\n",
    "    \n",
    "    actions_attributes[identity] = {'actions': verbs_subj + verbs_obj, 'attributes': adjs}\n",
    "    identity_ctr[identity] += 1\n",
    "    \n",
    "actions_attributes"
   ]
  },
  {
   "cell_type": "code",
   "execution_count": null,
   "id": "6d63bd2e-c76e-4ffd-9dc5-03a29efde297",
   "metadata": {},
   "outputs": [],
   "source": [
    "# Create a list of identity term unique indexes for each identity term list\n",
    "data['netmapper_identity_matches']"
   ]
  },
  {
   "cell_type": "code",
   "execution_count": null,
   "id": "97274b55-e060-4f5c-82ca-d21d6716fe1d",
   "metadata": {},
   "outputs": [],
   "source": [
    "from collections import defaultdict, Counter\n",
    "\n",
    "def unique_term_index(l):\n",
    "    ctr = Counter()\n",
    "    res = []\n",
    "    for term in l:\n",
    "        res.append(ctr[term])\n",
    "        ctr[term] += 1\n",
    "    return res"
   ]
  },
  {
   "cell_type": "code",
   "execution_count": null,
   "id": "6d731238-43fb-49de-b6e0-39562a943428",
   "metadata": {},
   "outputs": [],
   "source": [
    "unique_term_index(['incels', 'incels', 'teen'])"
   ]
  },
  {
   "cell_type": "markdown",
   "id": "7faa9fed-c084-45f3-8010-3cfce5d875aa",
   "metadata": {},
   "source": [
    "# Aggregate extracted actions and attributes"
   ]
  },
  {
   "cell_type": "code",
   "execution_count": null,
   "id": "6bc1f8e3-c34e-4902-8af8-6e38b971a215",
   "metadata": {},
   "outputs": [],
   "source": [
    "# Load data with extracted actions and attributes\n",
    "import pandas as pd\n",
    "\n",
    "path = '../../data/incels/processed_comments.pkl'\n",
    "data = pd.read_pickle(path)\n",
    "data.info()\n",
    "\n",
    "exp = data.explode(['netmapper_identity_matches', 'actions_attributes'])\n",
    "# exp.info()\n",
    "\n",
    "# Group identities\n",
    "import json\n",
    "\n",
    "identity_groups_fpath = '../resources/identity_groups.json'\n",
    "with open(identity_groups_fpath, 'r') as f:\n",
    "    identity_groups = json.load(f)\n",
    "print(len(identity_groups))\n",
    "\n",
    "exp['identity_group'] = exp.netmapper_identity_matches.map(lambda x: identity_groups.get(x, x))\n",
    "exploded = exp.explode('identity_group') # Count intersectional mentions as a mention in each of their categories\n",
    "exploded.info()\n",
    "\n",
    "# %%timeit -n 1 -r 1 # make Counter right away\n",
    "from collections import Counter\n",
    "\n",
    "# samp = exploded.sample(int(1e6))\n",
    "# gped = samp.groupby('identity_group')\n",
    "gped = exploded.groupby('identity_group')\n",
    "\n",
    "# Aggregate actions and attribute for different identities\n",
    "# agg = gped.agg({'actions_attributes': lambda x: {'actions': Counter([action for el in x for action in el['actions']]).most_common(),\n",
    "#                                                 'attributes': Counter([attr for el in x for attr in el['attributes']]).most_common()},\n",
    "#                                                'content': 'count'\n",
    "#                                               })\n",
    "agg = gped.agg(verbs_subj = pd.NamedAgg(column='actions_attributes', aggfunc=lambda x: Counter([term for el in x for term in el['verbs_subj']]).most_common()),\n",
    "                verbs_obj = pd.NamedAgg(column='actions_attributes', aggfunc=lambda x: Counter([term for el in x for term in el['verbs_obj']]).most_common()),\n",
    "                adjs = pd.NamedAgg(column='actions_attributes', aggfunc=lambda x: Counter([term for el in x for term in el['adjs']]).most_common()),\n",
    "                count = pd.NamedAgg(column='content', aggfunc='count'))\n",
    "agg.sort_values('count', ascending=False, inplace=True)\n",
    "agg.info()\n",
    "# agg[['verbs_subj', 'verbs_obj', 'adjs']].head()"
   ]
  },
  {
   "cell_type": "code",
   "execution_count": null,
   "id": "a7925332-9a15-42f1-95da-d625393cb742",
   "metadata": {
    "scrolled": true,
    "tags": []
   },
   "outputs": [],
   "source": [
    "import plotly.express as px\n",
    "\n",
    "for gp in agg.index[:12]:\n",
    "    for col in ['verbs_subj', 'verbs_obj', 'adjs']:\n",
    "        terms, counts = zip(*agg.loc[gp, col][:50])\n",
    "        fig = px.bar(x=terms, y=counts, title=f'{gp} {col}', labels=dict(x=\"term\", y=\"count\"))\n",
    "        fig.update_xaxes(tickangle=45)\n",
    "        # fig.show(config = {'staticPlot': True})\n",
    "        fig.show()"
   ]
  },
  {
   "cell_type": "markdown",
   "id": "2772f554-b255-4a18-be82-da468645abc1",
   "metadata": {},
   "source": [
    "## Look into examples use of actions, attributes"
   ]
  },
  {
   "cell_type": "code",
   "execution_count": null,
   "id": "1b7f35da-7809-466b-bc96-f34962afbe88",
   "metadata": {},
   "outputs": [],
   "source": [
    "# Look at verbs_obj\n",
    "gp = 'incels'\n",
    "term = 'transcended'\n",
    "field = 'adjs'\n",
    "\n",
    "pd.set_option('display.max_colwidth', None)\n",
    "crit = (exploded.identity_group == gp) & (exploded.actions_attributes.map(lambda x: term in x[field] if isinstance(x, dict) else False))\n",
    "exploded.loc[crit, ['identity_group', 'content', 'actions_attributes']].sample(5)"
   ]
  }
 ],
 "metadata": {
  "kernelspec": {
   "display_name": "Python 3 (ipykernel)",
   "language": "python",
   "name": "python3"
  },
  "language_info": {
   "codemirror_mode": {
    "name": "ipython",
    "version": 3
   },
   "file_extension": ".py",
   "mimetype": "text/x-python",
   "name": "python",
   "nbconvert_exporter": "python",
   "pygments_lexer": "ipython3",
   "version": "3.10.9"
  }
 },
 "nbformat": 4,
 "nbformat_minor": 5
}
