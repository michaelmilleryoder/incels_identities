{
 "cells": [
  {
   "cell_type": "markdown",
   "id": "d40512b7-31df-45f9-95f0-f0992666ebb7",
   "metadata": {},
   "source": [
    "# Dependency parsing"
   ]
  },
  {
   "cell_type": "code",
   "execution_count": 1,
   "id": "8f786421-5d75-478e-b6a5-1db964f094d4",
   "metadata": {},
   "outputs": [
    {
     "name": "stdout",
     "output_type": "stream",
     "text": [
      "<class 'pandas.core.frame.DataFrame'>\n",
      "RangeIndex: 6248230 entries, 0 to 6248229\n",
      "Data columns (total 9 columns):\n",
      " #   Column                      Dtype         \n",
      "---  ------                      -----         \n",
      " 0   type                        object        \n",
      " 1   forum                       object        \n",
      " 2   thread                      object        \n",
      " 3   username                    object        \n",
      " 4   date                        object        \n",
      " 5   content                     object        \n",
      " 6   parsed_date                 datetime64[ns]\n",
      " 7   content_orig                object        \n",
      " 8   netmapper_identity_matches  object        \n",
      "dtypes: datetime64[ns](1), object(8)\n",
      "memory usage: 429.0+ MB\n"
     ]
    }
   ],
   "source": [
    "# Load data with identity term matches extracted, tokenized\n",
    "import pandas as pd\n",
    "\n",
    "path = '../../data/incels/processed_comments.pkl'\n",
    "# path = '../data/white_supremacist_identities.pkl'\n",
    "data = pd.read_pickle(path)\n",
    "data.info()"
   ]
  },
  {
   "cell_type": "code",
   "execution_count": 7,
   "id": "101ae0ab-1b43-475f-a939-97129093328e",
   "metadata": {},
   "outputs": [],
   "source": [
    "import spacy\n",
    "\n",
    "nlp = spacy.load('en_core_web_sm', disable=['ner'])"
   ]
  },
  {
   "cell_type": "code",
   "execution_count": 18,
   "id": "6f24f326-600c-4c4b-9889-c2d254fb6ffe",
   "metadata": {},
   "outputs": [
    {
     "data": {
      "text/html": [
       "<div>\n",
       "<style scoped>\n",
       "    .dataframe tbody tr th:only-of-type {\n",
       "        vertical-align: middle;\n",
       "    }\n",
       "\n",
       "    .dataframe tbody tr th {\n",
       "        vertical-align: top;\n",
       "    }\n",
       "\n",
       "    .dataframe thead th {\n",
       "        text-align: right;\n",
       "    }\n",
       "</style>\n",
       "<table border=\"1\" class=\"dataframe\">\n",
       "  <thead>\n",
       "    <tr style=\"text-align: right;\">\n",
       "      <th></th>\n",
       "      <th>type</th>\n",
       "      <th>forum</th>\n",
       "      <th>thread</th>\n",
       "      <th>username</th>\n",
       "      <th>date</th>\n",
       "      <th>content</th>\n",
       "      <th>parsed_date</th>\n",
       "      <th>content_orig</th>\n",
       "      <th>netmapper_identity_matches</th>\n",
       "    </tr>\n",
       "  </thead>\n",
       "  <tbody>\n",
       "    <tr>\n",
       "      <th>12</th>\n",
       "      <td>COMMENT</td>\n",
       "      <td>001-MustReadContent</td>\n",
       "      <td>0000014-Itssosadthatwereplacesoc</td>\n",
       "      <td>THE TRUE HONKLER</td>\n",
       "      <td>Nov 20, 2020</td>\n",
       "      <td>frothysolutions said : do we ? in order to have this as a replacement for socializing , we have to want to be here . fag we were forced here by foids and lack of any other choice</td>\n",
       "      <td>2020-11-20</td>\n",
       "      <td>FrothySolutions said: Do we? In order to have this as a replacement for socializing, we have to want to be here. fag we were forced here by foids and lack of any other choice</td>\n",
       "      <td>[fag]</td>\n",
       "    </tr>\n",
       "  </tbody>\n",
       "</table>\n",
       "</div>"
      ],
      "text/plain": [
       "       type                forum                            thread  \\\n",
       "12  COMMENT  001-MustReadContent  0000014-Itssosadthatwereplacesoc   \n",
       "\n",
       "            username          date  \\\n",
       "12  THE TRUE HONKLER  Nov 20, 2020   \n",
       "\n",
       "                                                                                                                                                                               content  \\\n",
       "12  frothysolutions said : do we ? in order to have this as a replacement for socializing , we have to want to be here . fag we were forced here by foids and lack of any other choice   \n",
       "\n",
       "   parsed_date  \\\n",
       "12  2020-11-20   \n",
       "\n",
       "                                                                                                                                                                      content_orig  \\\n",
       "12  FrothySolutions said: Do we? In order to have this as a replacement for socializing, we have to want to be here. fag we were forced here by foids and lack of any other choice   \n",
       "\n",
       "   netmapper_identity_matches  \n",
       "12                      [fag]  "
      ]
     },
     "execution_count": 18,
     "metadata": {},
     "output_type": "execute_result"
    }
   ],
   "source": [
    "samp = data[data.netmapper_identity_matches.map(lambda x: len(x) > 0)].head(1)\n",
    "samp"
   ]
  },
  {
   "cell_type": "code",
   "execution_count": 11,
   "id": "8fdf8b07-4c34-4481-9b12-4ef2dc8e42b9",
   "metadata": {},
   "outputs": [],
   "source": [
    "pd.set_option('display.max_colwidth', None)\n",
    "test = test.loc[12, 'content']"
   ]
  },
  {
   "cell_type": "code",
   "execution_count": 12,
   "id": "5fee9c6f-5541-4ec2-9e4e-e081ba8ad863",
   "metadata": {},
   "outputs": [
    {
     "data": {
      "text/plain": [
       "frothysolutions said : do we ? in order to have this as a replacement for socializing , we have to want to be here . fag we were forced here by foids and lack of any other choice"
      ]
     },
     "execution_count": 12,
     "metadata": {},
     "output_type": "execute_result"
    }
   ],
   "source": [
    "doc = nlp(test)\n",
    "doc"
   ]
  },
  {
   "cell_type": "code",
   "execution_count": 14,
   "id": "0d9e447d-3986-4402-92ed-5cfa796e233e",
   "metadata": {
    "scrolled": true,
    "tags": []
   },
   "outputs": [
    {
     "data": {
      "text/plain": [
       "['nsubj',\n",
       " 'ROOT',\n",
       " 'punct',\n",
       " 'xcomp',\n",
       " 'nsubj',\n",
       " 'punct',\n",
       " 'prep',\n",
       " 'pobj',\n",
       " 'aux',\n",
       " 'acl',\n",
       " 'dobj',\n",
       " 'prep',\n",
       " 'det',\n",
       " 'pobj',\n",
       " 'prep',\n",
       " 'pobj',\n",
       " 'punct',\n",
       " 'nsubj',\n",
       " 'ROOT',\n",
       " 'aux',\n",
       " 'xcomp',\n",
       " 'aux',\n",
       " 'xcomp',\n",
       " 'advmod',\n",
       " 'punct',\n",
       " 'intj',\n",
       " 'nsubjpass',\n",
       " 'auxpass',\n",
       " 'ROOT',\n",
       " 'advmod',\n",
       " 'agent',\n",
       " 'pobj',\n",
       " 'cc',\n",
       " 'conj',\n",
       " 'prep',\n",
       " 'det',\n",
       " 'amod',\n",
       " 'pobj']"
      ]
     },
     "execution_count": 14,
     "metadata": {},
     "output_type": "execute_result"
    }
   ],
   "source": [
    "parse = [tok.dep_ for tok in doc]\n",
    "parse"
   ]
  },
  {
   "cell_type": "code",
   "execution_count": 26,
   "id": "f3fdb563-550d-47ca-bdc1-184f6322a5ac",
   "metadata": {},
   "outputs": [
    {
     "data": {
      "text/plain": [
       "'intj'"
      ]
     },
     "execution_count": 26,
     "metadata": {},
     "output_type": "execute_result"
    }
   ],
   "source": [
    "parse[tok_idx]"
   ]
  },
  {
   "cell_type": "code",
   "execution_count": 25,
   "id": "58f8955c-a559-47b4-8cf4-4c96e6988ac1",
   "metadata": {},
   "outputs": [
    {
     "data": {
      "text/plain": [
       "forced"
      ]
     },
     "execution_count": 25,
     "metadata": {},
     "output_type": "execute_result"
    }
   ],
   "source": [
    "[tok.head for tok in doc][tok_idx]"
   ]
  },
  {
   "cell_type": "code",
   "execution_count": 22,
   "id": "0253340d-523b-415c-b977-756a1be09d7f",
   "metadata": {},
   "outputs": [
    {
     "data": {
      "text/plain": [
       "{'fag': {'actions': [], 'attributes': []}}"
      ]
     },
     "execution_count": 22,
     "metadata": {},
     "output_type": "execute_result"
    }
   ],
   "source": [
    "# Match extracted identities to tokens\n",
    "from collections import defaultdict\n",
    "\n",
    "actions_attributes = {} # identity: {'actions': [actions], {'attributes': [attributes]} # replace with separate columns of attributes and actions in exploded df\n",
    "identity_ctr = defaultdict(int) # keep track of how many of this identity I've seen\n",
    "\n",
    "for identity in samp.loc[12, 'netmapper_identity_matches']:\n",
    "    \n",
    "    # Get identity mention locations\n",
    "    mention_idx = [i for i, tok in enumerate(doc) if tok.text==identity]\n",
    "    tok_idx = mention_idx[identity_ctr[identity]]\n",
    "    \n",
    "    # Verbs where identity term was the subject\n",
    "    verbs_subj = [tok.head.text for tok in doc if tok.i==tok_idx \\\n",
    "        in mention_idx and (tok.dep_=='nsubj' or tok.dep_=='agent')]\n",
    "\n",
    "    # Verbs where identity term was the object\n",
    "    verbs_obj = [tok.head.text for tok in doc if tok.i==tok_idx and \\\n",
    "        (tok.dep_=='dobj' or tok.dep_=='nsubjpass' or \\\n",
    "        tok.dep_=='dative' or tok.dep_=='pobj')]\n",
    "\n",
    "    # Adjectives that describe the identity term\n",
    "    adjs = [tok.text.lower() for tok in doc if tok.head.i == tok_idx and \\\n",
    "        (tok.dep_=='amod' or tok.dep_=='appos' or \\\n",
    "        tok.dep_=='nsubj' or tok.dep_=='nmod')] \\\n",
    "        + [tok.text.lower() for tok in doc if tok.dep_=='attr' and \\\n",
    "            (tok.head.text=='is' or tok.head.text=='was') and \\\n",
    "           any([c.i==tok_idx for c in tok.head.children])]\n",
    "    \n",
    "    actions_attributes[identity] = {'actions': verbs_subj + verbs_obj, 'attributes': adjs}\n",
    "    identity_ctr[identity] += 1\n",
    "    \n",
    "actions_attributes"
   ]
  },
  {
   "cell_type": "code",
   "execution_count": 3,
   "id": "6d63bd2e-c76e-4ffd-9dc5-03a29efde297",
   "metadata": {},
   "outputs": [
    {
     "data": {
      "text/plain": [
       "0                                 []\n",
       "1                                 []\n",
       "2                                 []\n",
       "3                                 []\n",
       "4                                 []\n",
       "                     ...            \n",
       "6248225    [incels, teenager, teens]\n",
       "6248226                           []\n",
       "6248227                           []\n",
       "6248228            [parenting, kids]\n",
       "6248229                     [incels]\n",
       "Name: netmapper_identity_matches, Length: 6248230, dtype: object"
      ]
     },
     "execution_count": 3,
     "metadata": {},
     "output_type": "execute_result"
    }
   ],
   "source": [
    "# Create a list of identity term unique indexes for each identity term list\n",
    "data['netmapper_identity_matches']"
   ]
  },
  {
   "cell_type": "code",
   "execution_count": 12,
   "id": "97274b55-e060-4f5c-82ca-d21d6716fe1d",
   "metadata": {},
   "outputs": [],
   "source": [
    "from collections import defaultdict, Counter\n",
    "\n",
    "def unique_term_index(l):\n",
    "    ctr = Counter()\n",
    "    res = []\n",
    "    for term in l:\n",
    "        res.append(ctr[term])\n",
    "        ctr[term] += 1\n",
    "    return res"
   ]
  },
  {
   "cell_type": "code",
   "execution_count": 13,
   "id": "6d731238-43fb-49de-b6e0-39562a943428",
   "metadata": {},
   "outputs": [
    {
     "data": {
      "text/plain": [
       "[0, 1, 0]"
      ]
     },
     "execution_count": 13,
     "metadata": {},
     "output_type": "execute_result"
    }
   ],
   "source": [
    "unique_term_index(['incels', 'incels', 'teen'])"
   ]
  },
  {
   "cell_type": "markdown",
   "id": "7faa9fed-c084-45f3-8010-3cfce5d875aa",
   "metadata": {},
   "source": [
    "# Aggregate extracted actions and attributes"
   ]
  },
  {
   "cell_type": "code",
   "execution_count": 56,
   "id": "6bc1f8e3-c34e-4902-8af8-6e38b971a215",
   "metadata": {},
   "outputs": [
    {
     "name": "stdout",
     "output_type": "stream",
     "text": [
      "<class 'pandas.core.frame.DataFrame'>\n",
      "RangeIndex: 6248230 entries, 0 to 6248229\n",
      "Data columns (total 11 columns):\n",
      " #   Column                            Dtype         \n",
      "---  ------                            -----         \n",
      " 0   type                              object        \n",
      " 1   forum                             object        \n",
      " 2   thread                            object        \n",
      " 3   username                          object        \n",
      " 4   date                              object        \n",
      " 5   content                           object        \n",
      " 6   parsed_date                       datetime64[ns]\n",
      " 7   content_orig                      object        \n",
      " 8   netmapper_identity_matches        object        \n",
      " 9   netmapper_identity_matches_spans  object        \n",
      " 10  actions_attributes                object        \n",
      "dtypes: datetime64[ns](1), object(10)\n",
      "memory usage: 524.4+ MB\n",
      "423\n",
      "<class 'pandas.core.frame.DataFrame'>\n",
      "Int64Index: 13416057 entries, 0 to 6248229\n",
      "Data columns (total 12 columns):\n",
      " #   Column                            Dtype         \n",
      "---  ------                            -----         \n",
      " 0   type                              object        \n",
      " 1   forum                             object        \n",
      " 2   thread                            object        \n",
      " 3   username                          object        \n",
      " 4   date                              object        \n",
      " 5   content                           object        \n",
      " 6   parsed_date                       datetime64[ns]\n",
      " 7   content_orig                      object        \n",
      " 8   netmapper_identity_matches        object        \n",
      " 9   netmapper_identity_matches_spans  object        \n",
      " 10  actions_attributes                object        \n",
      " 11  identity_group                    object        \n",
      "dtypes: datetime64[ns](1), object(11)\n",
      "memory usage: 1.3+ GB\n",
      "<class 'pandas.core.frame.DataFrame'>\n",
      "Index: 6488 entries, women_girls to pasthuns\n",
      "Data columns (total 4 columns):\n",
      " #   Column      Non-Null Count  Dtype \n",
      "---  ------      --------------  ----- \n",
      " 0   verbs_subj  6488 non-null   object\n",
      " 1   verbs_obj   6488 non-null   object\n",
      " 2   adjs        6488 non-null   object\n",
      " 3   count       6488 non-null   int64 \n",
      "dtypes: int64(1), object(3)\n",
      "memory usage: 253.4+ KB\n"
     ]
    }
   ],
   "source": [
    "# Load data with extracted actions and attributes\n",
    "import pandas as pd\n",
    "\n",
    "path = '../../data/incels/processed_comments.pkl'\n",
    "data = pd.read_pickle(path)\n",
    "data.info()\n",
    "\n",
    "exp = data.explode(['netmapper_identity_matches', 'actions_attributes'])\n",
    "# exp.info()\n",
    "\n",
    "# Group identities\n",
    "import json\n",
    "\n",
    "identity_groups_fpath = '../resources/identity_groups.json'\n",
    "with open(identity_groups_fpath, 'r') as f:\n",
    "    identity_groups = json.load(f)\n",
    "print(len(identity_groups))\n",
    "\n",
    "exp['identity_group'] = exp.netmapper_identity_matches.map(lambda x: identity_groups.get(x, x))\n",
    "exploded = exp.explode('identity_group') # Count intersectional mentions as a mention in each of their categories\n",
    "exploded.info()\n",
    "\n",
    "# %%timeit -n 1 -r 1 # make Counter right away\n",
    "from collections import Counter\n",
    "\n",
    "# samp = exploded.sample(int(1e6))\n",
    "# gped = samp.groupby('identity_group')\n",
    "gped = exploded.groupby('identity_group')\n",
    "\n",
    "# Aggregate actions and attribute for different identities\n",
    "# agg = gped.agg({'actions_attributes': lambda x: {'actions': Counter([action for el in x for action in el['actions']]).most_common(),\n",
    "#                                                 'attributes': Counter([attr for el in x for attr in el['attributes']]).most_common()},\n",
    "#                                                'content': 'count'\n",
    "#                                               })\n",
    "agg = gped.agg(verbs_subj = pd.NamedAgg(column='actions_attributes', aggfunc=lambda x: Counter([term for el in x for term in el['verbs_subj']]).most_common()),\n",
    "                verbs_obj = pd.NamedAgg(column='actions_attributes', aggfunc=lambda x: Counter([term for el in x for term in el['verbs_obj']]).most_common()),\n",
    "                adjs = pd.NamedAgg(column='actions_attributes', aggfunc=lambda x: Counter([term for el in x for term in el['adjs']]).most_common()),\n",
    "                count = pd.NamedAgg(column='content', aggfunc='count'))\n",
    "agg.sort_values('count', ascending=False, inplace=True)\n",
    "agg.info()\n",
    "# agg[['verbs_subj', 'verbs_obj', 'adjs']].head()"
   ]
  },
  {
   "cell_type": "code",
   "execution_count": null,
   "id": "a7925332-9a15-42f1-95da-d625393cb742",
   "metadata": {
    "scrolled": true,
    "tags": []
   },
   "outputs": [],
   "source": [
    "import plotly.express as px\n",
    "\n",
    "for gp in agg.index[:12]:\n",
    "    for col in ['verbs_subj', 'verbs_obj', 'adjs']:\n",
    "        terms, counts = zip(*agg.loc[gp, col][:50])\n",
    "        fig = px.bar(x=terms, y=counts, title=f'{gp} {col}', labels=dict(x=\"term\", y=\"count\"))\n",
    "        fig.update_xaxes(tickangle=45)\n",
    "        # fig.show(config = {'staticPlot': True})\n",
    "        fig.show()"
   ]
  },
  {
   "cell_type": "markdown",
   "id": "2772f554-b255-4a18-be82-da468645abc1",
   "metadata": {},
   "source": [
    "## Look into examples use of actions, attributes"
   ]
  },
  {
   "cell_type": "code",
   "execution_count": 52,
   "id": "1b7f35da-7809-466b-bc96-f34962afbe88",
   "metadata": {},
   "outputs": [
    {
     "data": {
      "text/html": [
       "<div>\n",
       "<style scoped>\n",
       "    .dataframe tbody tr th:only-of-type {\n",
       "        vertical-align: middle;\n",
       "    }\n",
       "\n",
       "    .dataframe tbody tr th {\n",
       "        vertical-align: top;\n",
       "    }\n",
       "\n",
       "    .dataframe thead th {\n",
       "        text-align: right;\n",
       "    }\n",
       "</style>\n",
       "<table border=\"1\" class=\"dataframe\">\n",
       "  <thead>\n",
       "    <tr style=\"text-align: right;\">\n",
       "      <th></th>\n",
       "      <th>identity_group</th>\n",
       "      <th>content</th>\n",
       "      <th>actions_attributes</th>\n",
       "    </tr>\n",
       "  </thead>\n",
       "  <tbody>\n",
       "    <tr>\n",
       "      <th>6234080</th>\n",
       "      <td>lgbtq_people</td>\n",
       "      <td>manicel said : yeah that faggot does n't like me for some reason oh oh oh order 937 incoming</td>\n",
       "      <td>{'verbs_subj': ['like'], 'verbs_obj': [], 'adjs': []}</td>\n",
       "    </tr>\n",
       "    <tr>\n",
       "      <th>1001574</th>\n",
       "      <td>lgbtq_people</td>\n",
       "      <td>1 . what are you doing on a sub about big dick op ? 2 . also i think most of those comments are from men , i.e. faggots . faggots like to get their ass fucked by big dick .</td>\n",
       "      <td>{'verbs_subj': ['like'], 'verbs_obj': [], 'adjs': []}</td>\n",
       "    </tr>\n",
       "    <tr>\n",
       "      <th>3135343</th>\n",
       "      <td>lgbtq_people</td>\n",
       "      <td>still noone can mog germany . for every german femoid we lose to a sand person , three new gooks are obtained . reborn said : \" new \" is not the right word . here in the south there was already a massive amount of strangers before the syrians came . in some places of town when i go to a store everybody except for me speaks turkish . it is really strange . sometimes you feel like you are the stranger because everyone around you is speaking another language . germans are dying out at an insane rate with only 1.2 children per women . i know there are places where noone speaks proper german anymore but you said it yourself : you feel enstranged from these people . there is still some german solidarity left even though most multicultural fags do n't like to admit it . on the bright side : being german ( or white , even ) is going to be a huge status symbol in the future when most people are \" guests \" .</td>\n",
       "      <td>{'verbs_subj': ['like'], 'verbs_obj': [], 'adjs': ['most', 'multicultural']}</td>\n",
       "    </tr>\n",
       "    <tr>\n",
       "      <th>1603391</th>\n",
       "      <td>lgbtq_people</td>\n",
       "      <td>i hate it when normal fags like the same things as me .</td>\n",
       "      <td>{'verbs_subj': ['like'], 'verbs_obj': [], 'adjs': ['normal']}</td>\n",
       "    </tr>\n",
       "    <tr>\n",
       "      <th>4331494</th>\n",
       "      <td>lgbtq_people</td>\n",
       "      <td>gymletethnicel said : this forum is the biggest joke on this earth , an even greater one that reddit banning all incel subreddits . this forum is indeed what inceltears makes it out to be . the forum is full of 30 + pedophiles who talk about ' prime jbs ' , they call themselves ' trans - agers ' . just fucking lol . just be a 36 year old preying on 12 year old girls theory . the fucking survey created by the mods clearly showed that 1/3rd of the forum has kissed a girl at least once , it showed that a decent amount were not virgins ( excluding escortcels ) . most of you are nothing but larpers who are pretending to be incel . you 'll have people here saying that they get tons of fucking matches in asia , but they will still claim they are incel . there was some faggot here by the name of itsover who ascended in thailand and then got a russian gf because he was n't a fakecel mentacel anymore . there have been people here who have made a mockery of the recent mass shooting in germany and were either mad because the shooter did not succeed or said the whole thing is the hoax . this is something that the alt - right and /pol / fags like to do so often . ' oh someone committed mass murder in a mosque and killed children ! must be a hoax ' . ' oh assad gassed an entire village but rt says al qaeda did it so i guess it must be a hoax ' . ' oh there are refugees from iraq and syria who want to go to europe , must be a white genocide going on ' . many so - called incels here just see inceldom as something cool that is controversial , they just like to be part of the ' evil misogynist movement of racist white men ' . news flash fakecels , inceldom can occur to anyone and that person does n't need to be a big fan of hitler and promote the white genocide meme . i saw some slav here say that hamudi 's inceldom is n't valid because he is a syrian refugee and has no right to complain . mods here are the same and that is why they allow fascist and blatant nazis . reminds me of the gay ass group called the attomwaffen division . most so - called incels who are part of the ( ( ( incel ) ) ) community are larpers who just hate holes and are deep into their extremist ideologies of different flavours , whether it be fascism , nazism , radical islam and/or what not . view attachment 158733 most hilarious part of this forum are the people with their reversed racepill . statistics clearly show that white people are the most sought after race and can easily get into relationships . for you bluepilled retards , go to the blackpill tab on this forum and you will see that indians + pakis , middle - easterners and asians are the least attractive , in that order . scientific blackpill - incel wiki incels.wiki yet some of you fucking dumbass retarded larpers tell me ' nah the statistics are bullshit ' . just lol at some of the delusional fucktards that believe white women are lusting over muslims and/or arabs . i 've been in countless situations where old women literally try to get away from me because i look like a stereotypical jihadi while i am an ex - muslim . got the terrorist and isis label thrown at me by young women and of course by the same types . you 're telling me that 95 % of fucking holes excluding ethnics is in the ethnic 's favor ? the only reason why some are so deluded is because they can not get a 10/10 blonde blue eyed stacy , or perhaps they are genuinely fucking retarded . tldr : most of you are /pol / tard ethnic - hating extremists who are larping as incels , while denying the most blatant of blackpills , the racepill . i am done with this forum , it is not truly blackpilled and many of you are genuinely racist . many of you are pretending to be incels , while you are not . many of you blame inceldom on blatant bullshit such as wrist size and frame . i 'm just so done with this nonsensical forum . i 'll just ldar with my video games while being a blackpilled soggy knee at heart , unlike most of you . anyway i 'm probably getting a 50 % warning or perma ban for this post alone so screw you guys , i 'm going to play some mw2 and get a couple nukes now . 200iq based post . hate to see you go but mods will likely rape you for this .</td>\n",
       "      <td>{'verbs_subj': ['like'], 'verbs_obj': [], 'adjs': []}</td>\n",
       "    </tr>\n",
       "  </tbody>\n",
       "</table>\n",
       "</div>"
      ],
      "text/plain": [
       "        identity_group  \\\n",
       "6234080   lgbtq_people   \n",
       "1001574   lgbtq_people   \n",
       "3135343   lgbtq_people   \n",
       "1603391   lgbtq_people   \n",
       "4331494   lgbtq_people   \n",
       "\n",
       "                                                                                                                                                                                                                                                                                                                                                                                                                                                                                                                                                                                                                                                                                                                                                                                                                                                                                                                                                                                                                                                                                                                                                                                                                                                                                                                                                                                                                                                                                                                                                                                                                                                                                                                                                                                                                                                                                                                                                                                                                                                                                                                                                                                                                                                                                                                                                                                                                                                                                                                                                                                                                                                                                                                                                                                                                                                                                                                                                                                                                                                                                                                                                                                                                                                                                                                                                                                                                                                                                                                                                                                                                                                                                                                                                                                                                                                                                                                                                                                                                                                                                                                                                                                                                                                                                                                                                                         content  \\\n",
       "6234080                                                                                                                                                                                                                                                                                                                                                                                                                                                                                                                                                                                                                                                                                                                                                                                                                                                                                                                                                                                                                                                                                                                                                                                                                                                                                                                                                                                                                                                                                                                                                                                                                                                                                                                                                                                                                                                                                                                                                                                                                                                                                                                                                                                                                                                                                                                                                                                                                                                                                                                                                                                                                                                                                                                                                                                                                                                                                                                                                                                                                                                                                                                                                                                                                                                                                                                                                                                                                                                                                                                                                                                                                                                                                                                                                                                                                                                                                                                                                                                                                                                                                                                                                                                                                                                                             manicel said : yeah that faggot does n't like me for some reason oh oh oh order 937 incoming   \n",
       "1001574                                                                                                                                                                                                                                                                                                                                                                                                                                                                                                                                                                                                                                                                                                                                                                                                                                                                                                                                                                                                                                                                                                                                                                                                                                                                                                                                                                                                                                                                                                                                                                                                                                                                                                                                                                                                                                                                                                                                                                                                                                                                                                                                                                                                                                                                                                                                                                                                                                                                                                                                                                                                                                                                                                                                                                                                                                                                                                                                                                                                                                                                                                                                                                                                                                                                                                                                                                                                                                                                                                                                                                                                                                                                                                                                                                                                                                                                                                                                                                                                                                                                                                                                                                                             1 . what are you doing on a sub about big dick op ? 2 . also i think most of those comments are from men , i.e. faggots . faggots like to get their ass fucked by big dick .   \n",
       "3135343                                                                                                                                                                                                                                                                                                                                                                                                                                                                                                                                                                                                                                                                                                                                                                                                                                                                                                                                                                                                                                                                                                                                                                                                                                                                                                                                                                                                                                                                                                                                                                                                                                                                                                                                                                                                                                                                                                                                                                                                                                                                                                                                                                                                                                                                                                                                                                                                                                                                                                                                                                                                                                                                                                                                                                                                                                                                                                                                                                                                                                                                                                                                                                                                                                                                                                                                                                                                                          still noone can mog germany . for every german femoid we lose to a sand person , three new gooks are obtained . reborn said : \" new \" is not the right word . here in the south there was already a massive amount of strangers before the syrians came . in some places of town when i go to a store everybody except for me speaks turkish . it is really strange . sometimes you feel like you are the stranger because everyone around you is speaking another language . germans are dying out at an insane rate with only 1.2 children per women . i know there are places where noone speaks proper german anymore but you said it yourself : you feel enstranged from these people . there is still some german solidarity left even though most multicultural fags do n't like to admit it . on the bright side : being german ( or white , even ) is going to be a huge status symbol in the future when most people are \" guests \" .   \n",
       "1603391                                                                                                                                                                                                                                                                                                                                                                                                                                                                                                                                                                                                                                                                                                                                                                                                                                                                                                                                                                                                                                                                                                                                                                                                                                                                                                                                                                                                                                                                                                                                                                                                                                                                                                                                                                                                                                                                                                                                                                                                                                                                                                                                                                                                                                                                                                                                                                                                                                                                                                                                                                                                                                                                                                                                                                                                                                                                                                                                                                                                                                                                                                                                                                                                                                                                                                                                                                                                                                                                                                                                                                                                                                                                                                                                                                                                                                                                                                                                                                                                                                                                                                                                                                                                                                                                                                                  i hate it when normal fags like the same things as me .   \n",
       "4331494  gymletethnicel said : this forum is the biggest joke on this earth , an even greater one that reddit banning all incel subreddits . this forum is indeed what inceltears makes it out to be . the forum is full of 30 + pedophiles who talk about ' prime jbs ' , they call themselves ' trans - agers ' . just fucking lol . just be a 36 year old preying on 12 year old girls theory . the fucking survey created by the mods clearly showed that 1/3rd of the forum has kissed a girl at least once , it showed that a decent amount were not virgins ( excluding escortcels ) . most of you are nothing but larpers who are pretending to be incel . you 'll have people here saying that they get tons of fucking matches in asia , but they will still claim they are incel . there was some faggot here by the name of itsover who ascended in thailand and then got a russian gf because he was n't a fakecel mentacel anymore . there have been people here who have made a mockery of the recent mass shooting in germany and were either mad because the shooter did not succeed or said the whole thing is the hoax . this is something that the alt - right and /pol / fags like to do so often . ' oh someone committed mass murder in a mosque and killed children ! must be a hoax ' . ' oh assad gassed an entire village but rt says al qaeda did it so i guess it must be a hoax ' . ' oh there are refugees from iraq and syria who want to go to europe , must be a white genocide going on ' . many so - called incels here just see inceldom as something cool that is controversial , they just like to be part of the ' evil misogynist movement of racist white men ' . news flash fakecels , inceldom can occur to anyone and that person does n't need to be a big fan of hitler and promote the white genocide meme . i saw some slav here say that hamudi 's inceldom is n't valid because he is a syrian refugee and has no right to complain . mods here are the same and that is why they allow fascist and blatant nazis . reminds me of the gay ass group called the attomwaffen division . most so - called incels who are part of the ( ( ( incel ) ) ) community are larpers who just hate holes and are deep into their extremist ideologies of different flavours , whether it be fascism , nazism , radical islam and/or what not . view attachment 158733 most hilarious part of this forum are the people with their reversed racepill . statistics clearly show that white people are the most sought after race and can easily get into relationships . for you bluepilled retards , go to the blackpill tab on this forum and you will see that indians + pakis , middle - easterners and asians are the least attractive , in that order . scientific blackpill - incel wiki incels.wiki yet some of you fucking dumbass retarded larpers tell me ' nah the statistics are bullshit ' . just lol at some of the delusional fucktards that believe white women are lusting over muslims and/or arabs . i 've been in countless situations where old women literally try to get away from me because i look like a stereotypical jihadi while i am an ex - muslim . got the terrorist and isis label thrown at me by young women and of course by the same types . you 're telling me that 95 % of fucking holes excluding ethnics is in the ethnic 's favor ? the only reason why some are so deluded is because they can not get a 10/10 blonde blue eyed stacy , or perhaps they are genuinely fucking retarded . tldr : most of you are /pol / tard ethnic - hating extremists who are larping as incels , while denying the most blatant of blackpills , the racepill . i am done with this forum , it is not truly blackpilled and many of you are genuinely racist . many of you are pretending to be incels , while you are not . many of you blame inceldom on blatant bullshit such as wrist size and frame . i 'm just so done with this nonsensical forum . i 'll just ldar with my video games while being a blackpilled soggy knee at heart , unlike most of you . anyway i 'm probably getting a 50 % warning or perma ban for this post alone so screw you guys , i 'm going to play some mw2 and get a couple nukes now . 200iq based post . hate to see you go but mods will likely rape you for this .   \n",
       "\n",
       "                                                                   actions_attributes  \n",
       "6234080                         {'verbs_subj': ['like'], 'verbs_obj': [], 'adjs': []}  \n",
       "1001574                         {'verbs_subj': ['like'], 'verbs_obj': [], 'adjs': []}  \n",
       "3135343  {'verbs_subj': ['like'], 'verbs_obj': [], 'adjs': ['most', 'multicultural']}  \n",
       "1603391                 {'verbs_subj': ['like'], 'verbs_obj': [], 'adjs': ['normal']}  \n",
       "4331494                         {'verbs_subj': ['like'], 'verbs_obj': [], 'adjs': []}  "
      ]
     },
     "execution_count": 52,
     "metadata": {},
     "output_type": "execute_result"
    }
   ],
   "source": [
    "# Look at verbs_obj\n",
    "gp = 'lgbtq_people'\n",
    "term = 'like'\n",
    "field = 'verbs_subj'\n",
    "\n",
    "pd.set_option('display.max_colwidth', None)\n",
    "crit = (exploded.identity_group == gp) & (exploded.actions_attributes.map(lambda x: term in x[field] if isinstance(x, dict) else False))\n",
    "exploded.loc[crit, ['identity_group', 'content', 'actions_attributes']].sample(5)"
   ]
  },
  {
   "cell_type": "code",
   "execution_count": 29,
   "id": "181d72dc-067f-485d-88ea-214fe843d171",
   "metadata": {},
   "outputs": [
    {
     "data": {
      "text/html": [
       "<div>\n",
       "<style scoped>\n",
       "    .dataframe tbody tr th:only-of-type {\n",
       "        vertical-align: middle;\n",
       "    }\n",
       "\n",
       "    .dataframe tbody tr th {\n",
       "        vertical-align: top;\n",
       "    }\n",
       "\n",
       "    .dataframe thead th {\n",
       "        text-align: right;\n",
       "    }\n",
       "</style>\n",
       "<table border=\"1\" class=\"dataframe\">\n",
       "  <thead>\n",
       "    <tr style=\"text-align: right;\">\n",
       "      <th></th>\n",
       "      <th>identity_group</th>\n",
       "      <th>content</th>\n",
       "      <th>actions_attributes</th>\n",
       "    </tr>\n",
       "  </thead>\n",
       "  <tbody>\n",
       "    <tr>\n",
       "      <th>1780989</th>\n",
       "      <td>incels</td>\n",
       "      <td>the way i see it , in regards to this characteristic , there 's two kinds of incel : one who 's given up on life but for whatever reason does n't want to or wo n't rope , and has thus condemned themselves to a life of ldaring aimlessly until they die ; and incels that know it 's over but still have goals / want to have a drive to live beyond foids . i ca n't understand being the first . i do n't want to let them win , and i want to maximize my own life where i can - perhaps achieve my own happiness without them . i understand the urge to rot , but i do n't understand not having personal motivations to have certain goals in life i 've been doing lots of thinking and i 'm going to throw my all into it one last time , i 'm going to try to improve my situation despite my history of my effort not mattering . i 'm going to focus on my goals and work towards a life of happiness without people .</td>\n",
       "      <td>{'actions': ['want'], 'attributes': []}</td>\n",
       "    </tr>\n",
       "    <tr>\n",
       "      <th>411439</th>\n",
       "      <td>incels</td>\n",
       "      <td>crypticel77 said : i never understood why some incels want to quit porn . no girl is gon na fuck us so what other option do we have ? if you quit you re still going to need sexual release at some point . if you stop for good , you 'll get wet dreams after a while . it 's messy to deal with but they 're fun and sometimes very realistic . porn is degenerated and sinful and to make things worse i 'm a giga sexual pervert who can only really coom to foids being degraded and abused . softcore does make me hard and eager and all but it 's tough to reach climax to it . the other day i tried fapping to some tasteful softcore stuff after a 6 days nofap and could n't coom . i literally fapped for almost 3 hours . i do n't want to look at it anymore . it reminds me of how sick foids are and how they love being abused and treated like shit . foids are disturbing . i know being sadistic is perverted but being masochistic is way more disturbing tbh .</td>\n",
       "      <td>{'actions': ['want'], 'attributes': []}</td>\n",
       "    </tr>\n",
       "    <tr>\n",
       "      <th>2817645</th>\n",
       "      <td>incels</td>\n",
       "      <td>i do n't think most incels even want sex . we want acceptance and love .</td>\n",
       "      <td>{'actions': ['want'], 'attributes': ['most']}</td>\n",
       "    </tr>\n",
       "    <tr>\n",
       "      <th>1158904</th>\n",
       "      <td>incels</td>\n",
       "      <td>those prices are way too low , but you 're also not factoring in your time . to entertain a bitch in between fucking and it 's not even fucking close . course let 's not act like even if things were comparable it would change anything ... incels are paying for a reason . also keep in mind taking a toilet out on a date does not mean sex happens . not the case with hookers . hooker skips the middle man , saves time and is guaranteed . it 's not just the sex incels want , but you also take what you can get .</td>\n",
       "      <td>{'actions': ['want'], 'attributes': []}</td>\n",
       "    </tr>\n",
       "    <tr>\n",
       "      <th>411446</th>\n",
       "      <td>incels</td>\n",
       "      <td>crypticel77 said : i never understood why some incels want to quit porn . no girl is gon na fuck us</td>\n",
       "      <td>{'actions': ['want'], 'attributes': []}</td>\n",
       "    </tr>\n",
       "  </tbody>\n",
       "</table>\n",
       "</div>"
      ],
      "text/plain": [
       "        identity_group  \\\n",
       "1780989         incels   \n",
       "411439          incels   \n",
       "2817645         incels   \n",
       "1158904         incels   \n",
       "411446          incels   \n",
       "\n",
       "                                                                                                                                                                                                                                                                                                                                                                                                                                                                                                                                                                                                                                                                                                                                                                                                                                                                                                                                                                                        content  \\\n",
       "1780989                                                    the way i see it , in regards to this characteristic , there 's two kinds of incel : one who 's given up on life but for whatever reason does n't want to or wo n't rope , and has thus condemned themselves to a life of ldaring aimlessly until they die ; and incels that know it 's over but still have goals / want to have a drive to live beyond foids . i ca n't understand being the first . i do n't want to let them win , and i want to maximize my own life where i can - perhaps achieve my own happiness without them . i understand the urge to rot , but i do n't understand not having personal motivations to have certain goals in life i 've been doing lots of thinking and i 'm going to throw my all into it one last time , i 'm going to try to improve my situation despite my history of my effort not mattering . i 'm going to focus on my goals and work towards a life of happiness without people .   \n",
       "411439   crypticel77 said : i never understood why some incels want to quit porn . no girl is gon na fuck us so what other option do we have ? if you quit you re still going to need sexual release at some point . if you stop for good , you 'll get wet dreams after a while . it 's messy to deal with but they 're fun and sometimes very realistic . porn is degenerated and sinful and to make things worse i 'm a giga sexual pervert who can only really coom to foids being degraded and abused . softcore does make me hard and eager and all but it 's tough to reach climax to it . the other day i tried fapping to some tasteful softcore stuff after a 6 days nofap and could n't coom . i literally fapped for almost 3 hours . i do n't want to look at it anymore . it reminds me of how sick foids are and how they love being abused and treated like shit . foids are disturbing . i know being sadistic is perverted but being masochistic is way more disturbing tbh .   \n",
       "2817645                                                                                                                                                                                                                                                                                                                                                                                                                                                                                                                                                                                                                                                                                                                                                                                                                                                                                                                i do n't think most incels even want sex . we want acceptance and love .   \n",
       "1158904                                                                                                                                                                                                                                                                                                                                                                                                                                                          those prices are way too low , but you 're also not factoring in your time . to entertain a bitch in between fucking and it 's not even fucking close . course let 's not act like even if things were comparable it would change anything ... incels are paying for a reason . also keep in mind taking a toilet out on a date does not mean sex happens . not the case with hookers . hooker skips the middle man , saves time and is guaranteed . it 's not just the sex incels want , but you also take what you can get .   \n",
       "411446                                                                                                                                                                                                                                                                                                                                                                                                                                                                                                                                                                                                                                                                                                                                                                                                                                                                                      crypticel77 said : i never understood why some incels want to quit porn . no girl is gon na fuck us   \n",
       "\n",
       "                                    actions_attributes  \n",
       "1780989        {'actions': ['want'], 'attributes': []}  \n",
       "411439         {'actions': ['want'], 'attributes': []}  \n",
       "2817645  {'actions': ['want'], 'attributes': ['most']}  \n",
       "1158904        {'actions': ['want'], 'attributes': []}  \n",
       "411446         {'actions': ['want'], 'attributes': []}  "
      ]
     },
     "execution_count": 29,
     "metadata": {},
     "output_type": "execute_result"
    }
   ],
   "source": [
    "# Look at actions\n",
    "\n",
    "pd.set_option('display.max_colwidth', None)\n",
    "action_term = 'want'\n",
    "crit = (exploded.identity_group == gp) & (exploded.actions_attributes.map(lambda x: action_term in x['actions'] if isinstance(x, dict) else False))\n",
    "exploded.loc[crit, ['identity_group', 'content', 'actions_attributes']].sample(5)"
   ]
  }
 ],
 "metadata": {
  "kernelspec": {
   "display_name": "Python 3 (ipykernel)",
   "language": "python",
   "name": "python3"
  },
  "language_info": {
   "codemirror_mode": {
    "name": "ipython",
    "version": 3
   },
   "file_extension": ".py",
   "mimetype": "text/x-python",
   "name": "python",
   "nbconvert_exporter": "python",
   "pygments_lexer": "ipython3",
   "version": "3.10.9"
  }
 },
 "nbformat": 4,
 "nbformat_minor": 5
}
