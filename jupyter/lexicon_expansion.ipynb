{
 "cells": [
  {
   "cell_type": "markdown",
   "id": "2f3075b6-e83c-4212-b26c-724556c54fe1",
   "metadata": {},
   "source": [
    "Expand identity term lexicon to terms specific to incels data"
   ]
  },
  {
   "cell_type": "markdown",
   "id": "4b56ef31-3503-465f-8887-69a4552cb478",
   "metadata": {},
   "source": [
    "# Train Gensim word2vec model from pretrained embeddings"
   ]
  },
  {
   "cell_type": "code",
   "execution_count": null,
   "id": "605d5be2-054d-4c71-b565-efc12e2ceced",
   "metadata": {
    "scrolled": true,
    "tags": []
   },
   "outputs": [],
   "source": [
    "import gensim.downloader\n",
    "\n",
    "vectors = gensim.downloader.load('word2vec-google-news-300')\n",
    "type(vectors)"
   ]
  },
  {
   "cell_type": "code",
   "execution_count": 2,
   "id": "5683f595-9ab1-45c7-865b-2dd52e5d755c",
   "metadata": {},
   "outputs": [
    {
     "data": {
      "text/plain": [
       "gensim.models.keyedvectors.KeyedVectors"
      ]
     },
     "execution_count": 2,
     "metadata": {},
     "output_type": "execute_result"
    }
   ],
   "source": [
    "type(vectors)"
   ]
  }
 ],
 "metadata": {
  "kernelspec": {
   "display_name": "Python 3 (ipykernel)",
   "language": "python",
   "name": "python3"
  },
  "language_info": {
   "codemirror_mode": {
    "name": "ipython",
    "version": 3
   },
   "file_extension": ".py",
   "mimetype": "text/x-python",
   "name": "python",
   "nbconvert_exporter": "python",
   "pygments_lexer": "ipython3",
   "version": "3.10.9"
  }
 },
 "nbformat": 4,
 "nbformat_minor": 5
}
