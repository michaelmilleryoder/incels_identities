{
 "cells": [
  {
   "cell_type": "markdown",
   "id": "272ca5c4-8181-44dc-8a0f-26049a58ba32",
   "metadata": {},
   "source": [
    "# Find identity term matches in data\n",
    "\n",
    "See process_data.py"
   ]
  },
  {
   "cell_type": "code",
   "execution_count": 1,
   "id": "874dbdb0-ac10-4e84-a3dd-4e08c3d0025c",
   "metadata": {},
   "outputs": [
    {
     "name": "stdout",
     "output_type": "stream",
     "text": [
      "<class 'pandas.core.frame.DataFrame'>\n",
      "RangeIndex: 6248230 entries, 0 to 6248229\n",
      "Data columns (total 7 columns):\n",
      " #   Column       Dtype         \n",
      "---  ------       -----         \n",
      " 0   type         object        \n",
      " 1   forum        object        \n",
      " 2   thread       object        \n",
      " 3   username     object        \n",
      " 4   date         object        \n",
      " 5   content      object        \n",
      " 6   parsed_date  datetime64[ns]\n",
      "dtypes: datetime64[ns](1), object(6)\n",
      "memory usage: 333.7+ MB\n"
     ]
    }
   ],
   "source": [
    "# Load incels data\n",
    "import pandas as pd\n",
    "import csv\n",
    "\n",
    "path = '../../data/incels/all_comments.csv'\n",
    "# data = pd.read_csv(path, engine='python', on_bad_lines=lambda x: print(x))\n",
    "data = pd.read_csv(path, engine='python', on_bad_lines=lambda row: row[:-2].append(' '.join(row[-2:]))) # combine last 2 elements in a line mentioning Gulag\n",
    "data['parsed_date'] = pd.to_datetime(data.date, errors='coerce') # \"yesterday\" etc not handled\n",
    "data.info()"
   ]
  },
  {
   "cell_type": "markdown",
   "id": "b057efbe-a0ad-499e-8df4-3ffc20d13168",
   "metadata": {},
   "source": [
    "## NetMapper identity term lists"
   ]
  },
  {
   "cell_type": "markdown",
   "id": "9e6ed5b7-f4a2-4878-84bd-0cccfed6d5f7",
   "metadata": {},
   "source": [
    "### generic_agents-identity 2021 file"
   ]
  },
  {
   "cell_type": "code",
   "execution_count": 2,
   "id": "19deadaa-ed22-4fac-bf8f-87138560beb5",
   "metadata": {},
   "outputs": [
    {
     "name": "stdout",
     "output_type": "stream",
     "text": [
      "<class 'pandas.core.frame.DataFrame'>\n",
      "RangeIndex: 19887 entries, 0 to 19886\n",
      "Columns: 156 entries, Akan to Category 4\n",
      "dtypes: float64(56), int64(1), object(99)\n",
      "memory usage: 23.7+ MB\n"
     ]
    }
   ],
   "source": [
    "# Load identity terms\n",
    "import pandas as pd\n",
    "\n",
    "nm_identities_path = '../resources/generic_agents-identity_v15_2021_10_15.xlsx'\n",
    "multi_identities = pd.read_excel(nm_identities_path)\n",
    "multi_identities.info()"
   ]
  },
  {
   "cell_type": "code",
   "execution_count": 3,
   "id": "a101f7e5-fee7-42e8-974f-e6532a13a6f9",
   "metadata": {
    "scrolled": true,
    "tags": []
   },
   "outputs": [
    {
     "name": "stdout",
     "output_type": "stream",
     "text": [
      "<class 'pandas.core.frame.DataFrame'>\n",
      "Int64Index: 19035 entries, 0 to 19886\n",
      "Data columns (total 44 columns):\n",
      " #   Column           Non-Null Count  Dtype  \n",
      "---  ------           --------------  -----  \n",
      " 0   English          19035 non-null  object \n",
      " 1   conceptTo        19035 non-null  object \n",
      " 2   metaOntology     19035 non-null  object \n",
      " 3   nodeType         0 non-null      float64\n",
      " 4   Category 1       9703 non-null   object \n",
      " 5   Category 2       911 non-null    object \n",
      " 6   Category 3       18929 non-null  object \n",
      " 7   Country          4712 non-null   object \n",
      " 8   First Name       0 non-null      float64\n",
      " 9   Last Name        0 non-null      float64\n",
      " 10  Gender           759 non-null    object \n",
      " 11  Suffix           0 non-null      float64\n",
      " 12  Language         0 non-null      float64\n",
      " 13  Acronym          336 non-null    object \n",
      " 14  Valence          19035 non-null  object \n",
      " 15  Evaluation       19035 non-null  int64  \n",
      " 16  Potency          10 non-null     float64\n",
      " 17  Activity         0 non-null      float64\n",
      " 18  Affect Mean      19035 non-null  float64\n",
      " 19  Military Role    369 non-null    object \n",
      " 20  Political Role   786 non-null    object \n",
      " 21  Religious Role   77 non-null     object \n",
      " 22  Abusive          417 non-null    float64\n",
      " 23  Exclusive        13 non-null     float64\n",
      " 24  PowerAnger       29 non-null     float64\n",
      " 25  PowerEncourage   17 non-null     float64\n",
      " 26  PowerFear        71 non-null     float64\n",
      " 27  PowerForbidden   1 non-null      float64\n",
      " 28  PowerGreed       16 non-null     float64\n",
      " 29  PowerLust        0 non-null      float64\n",
      " 30  PowerSafety      1 non-null      float64\n",
      " 31  Absolutist       0 non-null      float64\n",
      " 32  Equivocal        0 non-null      float64\n",
      " 33  Connective       0 non-null      float64\n",
      " 34  NamedEntity      0 non-null      float64\n",
      " 35  Pronoun_Level    69 non-null     float64\n",
      " 36  Adverb           1 non-null      float64\n",
      " 37  OtherUsage       46 non-null     float64\n",
      " 38  inclusive        40 non-null     float64\n",
      " 39  modulator        3 non-null      object \n",
      " 40  stop word        95 non-null     float64\n",
      " 41  common word      118 non-null    float64\n",
      " 42  Category 4       0 non-null      float64\n",
      " 43  term             19035 non-null  object \n",
      "dtypes: float64(28), int64(1), object(15)\n",
      "memory usage: 6.5+ MB\n"
     ]
    },
    {
     "name": "stderr",
     "output_type": "stream",
     "text": [
      "/tmp/ipykernel_1221270/3338936415.py:4: SettingWithCopyWarning: \n",
      "A value is trying to be set on a copy of a slice from a DataFrame.\n",
      "Try using .loc[row_indexer,col_indexer] = value instead\n",
      "\n",
      "See the caveats in the documentation: https://pandas.pydata.org/pandas-docs/stable/user_guide/indexing.html#returning-a-view-versus-a-copy\n",
      "  en_identities['term'] = en_identities['English'].str.lower()\n",
      "/tmp/ipykernel_1221270/3338936415.py:5: SettingWithCopyWarning: \n",
      "A value is trying to be set on a copy of a slice from a DataFrame\n",
      "\n",
      "See the caveats in the documentation: https://pandas.pydata.org/pandas-docs/stable/user_guide/indexing.html#returning-a-view-versus-a-copy\n",
      "  en_identities.drop_duplicates(subset='term', inplace=True)\n"
     ]
    }
   ],
   "source": [
    "# Filter to English, remove duplicates\n",
    "cols = multi_identities.columns.tolist()\n",
    "en_identities = multi_identities[cols[cols.index('English'):]]\n",
    "en_identities['term'] = en_identities['English'].str.lower()\n",
    "en_identities.drop_duplicates(subset='term', inplace=True)\n",
    "en_identities.info()"
   ]
  },
  {
   "cell_type": "code",
   "execution_count": 3,
   "id": "65283b7c-b01c-43d7-b024-17e7ed2b647d",
   "metadata": {},
   "outputs": [
    {
     "data": {
      "text/plain": [
       "female     364\n",
       "male       341\n",
       "neutral     49\n",
       "yes          5\n",
       "Name: Gender, dtype: int64"
      ]
     },
     "execution_count": 3,
     "metadata": {},
     "output_type": "execute_result"
    }
   ],
   "source": [
    "en_identities['Gender'].value_counts()"
   ]
  },
  {
   "cell_type": "code",
   "execution_count": 4,
   "id": "a7ff63d0-5dc4-4c21-8673-e7bcfa9adfa4",
   "metadata": {},
   "outputs": [
    {
     "data": {
      "text/plain": [
       "Minister            391\n",
       "Governor             63\n",
       "President            58\n",
       "Diplomat             51\n",
       "Prime Minister       31\n",
       "MP                   31\n",
       "Vice President       26\n",
       "Mayor                24\n",
       "Leader               21\n",
       "Attorney_General     16\n",
       "Prince               15\n",
       "MFA                  12\n",
       "Secretary             9\n",
       "Vice-President        7\n",
       "Queen                 7\n",
       "Princess              6\n",
       "Vice Premier          4\n",
       "Congressman           4\n",
       "King                  3\n",
       "Royalty               2\n",
       "Lt_Governor           2\n",
       "PM                    2\n",
       "Senator               1\n",
       "Name: Political Role, dtype: int64"
      ]
     },
     "execution_count": 4,
     "metadata": {},
     "output_type": "execute_result"
    }
   ],
   "source": [
    "en_identities['Political Role'].value_counts()"
   ]
  },
  {
   "cell_type": "code",
   "execution_count": 7,
   "id": "17d7ff42-6dc9-4e1b-97c7-23d3e38a5c5d",
   "metadata": {},
   "outputs": [
    {
     "data": {
      "text/plain": [
       "Sheik         21\n",
       "bishop        16\n",
       "Archbishop    13\n",
       "Priest        12\n",
       "Pope           7\n",
       "Rabbi          5\n",
       "Sheikh         2\n",
       "archbishop     1\n",
       "Name: Religious Role , dtype: int64"
      ]
     },
     "execution_count": 7,
     "metadata": {},
     "output_type": "execute_result"
    }
   ],
   "source": [
    "en_identities['Religious Role '].value_counts()"
   ]
  },
  {
   "cell_type": "code",
   "execution_count": 9,
   "id": "6ef6c6cf-0a18-419e-8e95-994b03cb0e0f",
   "metadata": {
    "scrolled": true,
    "tags": []
   },
   "outputs": [
    {
     "data": {
      "text/plain": [
       "nationality                4013\n",
       "Celebrity_Politician        989\n",
       "ethnic_group                804\n",
       "military                    694\n",
       "abusive                     414\n",
       "scientist                   283\n",
       "law_enforcement             231\n",
       "criminal                    198\n",
       "medical                     182\n",
       "legal                       169\n",
       "religious                   146\n",
       "athlete                     141\n",
       "religious_leader            135\n",
       "manager                     105\n",
       "journalism                  103\n",
       "student                      84\n",
       "aristocrat                   76\n",
       "musician                     73\n",
       "family_adult_male            72\n",
       "family_adult_female          71\n",
       "writer                       61\n",
       "location_identity            60\n",
       "stopword                     55\n",
       "child                        53\n",
       "kin                          50\n",
       "artist                       48\n",
       "entertainer                  41\n",
       "family_child_female          38\n",
       "leader                       35\n",
       "family_child_male            32\n",
       "sportsperson                 30\n",
       "Calebrity_Politician         25\n",
       "sports_person                23\n",
       "teacher                      23\n",
       "author                       18\n",
       "family-child                 17\n",
       "religion                     13\n",
       "beauty_queen                 12\n",
       "law                          11\n",
       "family_adult                  9\n",
       "marketer                      8\n",
       "Celebrity_Religious           7\n",
       "family                        7\n",
       "family_female                 7\n",
       "cyber_attacker                6\n",
       "aristocat                     5\n",
       "location_identification       3\n",
       "family_male                   3\n",
       "journalist                    3\n",
       "media                         2\n",
       "location_based                2\n",
       "cyber_criminals               2\n",
       "cyber-spy                     2\n",
       "cyber_actor                   2\n",
       "spectator                     1\n",
       "IMF Managing Director         1\n",
       "first_person                  1\n",
       "cyber_defender                1\n",
       "cyber_cops                    1\n",
       "management                    1\n",
       "WMO_president                 1\n",
       "Name: Category 1, dtype: int64"
      ]
     },
     "execution_count": 9,
     "metadata": {},
     "output_type": "execute_result"
    }
   ],
   "source": [
    "pd.set_option('display.max_rows', None)\n",
    "en_identities['Category 1'].value_counts()"
   ]
  },
  {
   "cell_type": "code",
   "execution_count": 10,
   "id": "187a5a6f-0dcd-4a39-92fe-f53acf4833bb",
   "metadata": {
    "scrolled": true,
    "tags": []
   },
   "outputs": [
    {
     "data": {
      "text/plain": [
       "Native American    644\n",
       "family_female      118\n",
       "family_male        109\n",
       "family-child        17\n",
       "attacker            10\n",
       "family_adult         9\n",
       "defender             2\n",
       "cyber_actor          2\n",
       "Name: Category 2, dtype: int64"
      ]
     },
     "execution_count": 10,
     "metadata": {},
     "output_type": "execute_result"
    }
   ],
   "source": [
    "en_identities['Category 2'].value_counts()"
   ]
  },
  {
   "cell_type": "code",
   "execution_count": 11,
   "id": "521855b5-0573-49f6-89a1-6fb40e84c3c4",
   "metadata": {
    "scrolled": true,
    "tags": []
   },
   "outputs": [
    {
     "data": {
      "text/plain": [
       "identity    18929\n",
       "Name: Category 3, dtype: int64"
      ]
     },
     "execution_count": 11,
     "metadata": {},
     "output_type": "execute_result"
    }
   ],
   "source": [
    "en_identities['Category 3'].value_counts()"
   ]
  },
  {
   "cell_type": "markdown",
   "id": "e03c2cc7-2255-4548-9e2f-c89473ee32ce",
   "metadata": {},
   "source": [
    "#### Check if terms are in the list"
   ]
  },
  {
   "cell_type": "code",
   "execution_count": 25,
   "id": "453e5e32-b981-4cde-a36f-1f9299de9bf1",
   "metadata": {},
   "outputs": [
    {
     "name": "stdout",
     "output_type": "stream",
     "text": [
      "gurl False\n",
      "lgbt False\n",
      "lgbtq False\n",
      "genderfluid False\n",
      "gender-fluid False\n",
      "gender fluid False\n",
      "straight False\n",
      "cisgender False\n",
      "cis False\n",
      "asexual False\n",
      "aro-ace False\n",
      "aro ace False\n",
      "aro/ace False\n",
      "mtf False\n",
      "ftm False\n",
      "neurodivergent False\n",
      "neurodiversity False\n",
      "autism False\n",
      "autist False\n",
      "autistic False\n",
      "mental health False\n",
      "adhd False\n",
      "dyslexia False\n",
      "dyslexic False\n",
      "asperger's False\n",
      "aspergers False\n",
      "asperger False\n",
      "savant True\n",
      "intellectual disability False\n",
      "bipolar False\n",
      "schizophrenia False\n",
      "ocd False\n",
      "antisocial False\n",
      "obsessive-compulsive False\n",
      "obsessive compulsive False\n",
      "disability False\n",
      "disabilities False\n",
      "disabled False\n",
      "anxiety disorder False\n",
      "retarded False\n",
      "depression False\n",
      "depressive False\n",
      "sandnigger True\n",
      "sandniggers False\n"
     ]
    }
   ],
   "source": [
    "# From WebSci 2020 paper, LGBTQ+ movement dissertation chapter\n",
    "terms = ['gurl', 'lgbt', 'lgbtq', 'genderfluid', 'gender-fluid', 'gender fluid', 'straight', 'cisgender', 'cis', \n",
    "         'asexual', 'aro-ace', 'aro ace', 'aro/ace', 'mtf', 'ftm', \n",
    "         'neurodivergent', 'neurodiversity', 'autism', 'autist', 'autistic','mental health', 'adhd', 'dyslexia', 'dyslexic', \n",
    "         \"asperger's\", \"aspergers\", 'asperger', 'savant', 'intellectual disability', 'bipolar', 'schizophrenia', 'ocd', 'antisocial', \n",
    "         'obsessive-compulsive', 'obsessive compulsive', 'disability', 'disabilities', 'disabled', 'anxiety disorder', 'retarded', 'depression',\n",
    "        'depressive', 'sandnigger', 'sandniggers']\n",
    "for term in terms:\n",
    "    print(term, term in en_identities.term.tolist())"
   ]
  },
  {
   "cell_type": "code",
   "execution_count": 17,
   "id": "cacb9190-0496-4731-b220-bebb220f5fc8",
   "metadata": {},
   "outputs": [
    {
     "name": "stdout",
     "output_type": "stream",
     "text": [
      "black folks False\n",
      "caucasian True\n",
      "caucasians False\n",
      "heterosexual False\n",
      "heterosexuals False\n",
      "homosexuals True\n",
      "homosexual True\n",
      "buddhist True\n",
      "indigenous False\n",
      "native american True\n",
      "native americans True\n",
      "young adults False\n",
      "middle aged False\n",
      "seniors True\n",
      "old people True\n",
      "elderly True\n",
      "immigrants True\n",
      "refugees True\n",
      "immigrant True\n",
      "refugee True\n",
      "migrant True\n",
      "lesbian True\n",
      "lesbians True\n",
      "middle eastern False\n",
      "illegal aliens False\n",
      "arabian True\n",
      "arabians True\n"
     ]
    }
   ],
   "source": [
    "# From CoNLL 2022 paper\n",
    "terms = ['black folks', 'caucasian', 'caucasians', 'heterosexual', 'heterosexuals', 'homosexuals', 'homosexual', 'buddhist', 'indigenous',\n",
    "        'native american', 'native americans', 'young adults', 'middle aged', 'seniors', 'old people', 'elderly', 'immigrants', 'refugees', 'immigrant', 'refugee',\n",
    "        'migrant', 'lesbian', 'lesbians', 'middle eastern', 'illegal aliens', 'arabian', 'arabians']\n",
    "for term in terms:\n",
    "    print(term, term in en_identities.term.tolist())"
   ]
  },
  {
   "cell_type": "code",
   "execution_count": null,
   "id": "aa3c3624-597b-47c2-9f55-d080ac1d53c2",
   "metadata": {},
   "outputs": [],
   "source": [
    "[identity for identity in en_identities.term if 'black' in identity]"
   ]
  },
  {
   "cell_type": "code",
   "execution_count": null,
   "id": "fc57d789-83ee-49c1-8ba0-62838ee0a639",
   "metadata": {},
   "outputs": [],
   "source": [
    "[identity for identity in en_identities.term if 'white' in identity]"
   ]
  },
  {
   "cell_type": "code",
   "execution_count": 18,
   "id": "97ae4e48-9d83-4300-9939-09151bf350f8",
   "metadata": {},
   "outputs": [
    {
     "name": "stdout",
     "output_type": "stream",
     "text": [
      "18837\n"
     ]
    }
   ],
   "source": [
    "# Separate out stopwords\n",
    "stops = en_identities[en_identities['stop word']==1]\n",
    "exclude_list = ['don', 'other', 'others', 'friend', 'friends', 'people', 'who', 'asshole', 'dick',\n",
    "               'character', 'person', 'people', 'majority', 'bot', 'everyone', 'everyone here',\n",
    "                'officially', 'tech', 'individual', 'worker', 'workers', 'giant', 'human', 'humans', 'ass',\n",
    "                'nobody', 'brother', 'sister', 'mother', \"mother's\", 'father', 'daughter', 'son', 'mom', 'wife', 'wives', 'husband', 'husbands', 'cousin', 'cousins',\n",
    "                'they all', 'count', 'god', 'general', 'user', 'users', 'member', 'members', 'english', 'finish', 'slayer', 'speaker',\n",
    "                'misogynist', 'king', 'queen', 'rn', 'fellow', 'buddy', 'enemies', 'corpse', 'revolutionary', 'gymnast', 'messiah', 'jesus', 'embryo',\n",
    "                'dr', 'doctor', 'dahmer', 'characters', 'cheat', 'sexist', 'professional', 'client', 'mate', 'dad', 'customers', 'assholes', 'whose',\n",
    "                'mama', 'co-workers', 'employees', 'uncle', 'hermit', 'ogre', 'potter', 'phantom', 'dwellers', 'saviour', 'prophet', 'morons', 'guide',\n",
    "                'majors', 'partners', 'villain', 'agent', 'model', 'juggernaut', 'ego', 'avatar', 'player', 'dragon', 'pm', 'winner', 'winners', 'surrogate', 'nudes',\n",
    "               ]\n",
    "exclude = en_identities[en_identities['term'].isin(exclude_list)]\n",
    "identities = en_identities[(en_identities['stop word']!=1) & (~en_identities['term'].isin(exclude_list))]\n",
    "\n",
    "# Search for identity matches\n",
    "import re\n",
    "\n",
    "pats = [re.compile(r'\\b{}\\b'.format(re.escape(term))) for term in identities['term']]\n",
    "print(len(pats))\n",
    "\n",
    "def contains_match(text):\n",
    "    \"\"\" Return matched patterns present in text \"\"\" \n",
    "    return [re.search(p, str(text).lower()).group() for p in pats if re.search(p, str(text).lower()) is not None]\n",
    "\n",
    "from collections import Counter\n",
    "\n",
    "sample = data.sample(1000)"
   ]
  },
  {
   "cell_type": "markdown",
   "id": "54a71c5d-623d-4f4c-b0f9-9e62f8b1d44a",
   "metadata": {},
   "source": [
    "#### Check if terms are in incels data vocab"
   ]
  },
  {
   "cell_type": "code",
   "execution_count": 4,
   "id": "66a42301-8fcf-4f8f-b459-e2e837f2c3ae",
   "metadata": {},
   "outputs": [
    {
     "name": "stdout",
     "output_type": "stream",
     "text": [
      "28.3 s ± 0 ns per loop (mean ± std. dev. of 1 run, 1 loop each)\n"
     ]
    }
   ],
   "source": [
    "%%timeit -n 1 -r 1\n",
    "# Filter to terms present at least once in the combined text (make this as fast as possible)\n",
    "# vocab = set(data.content.astype('str').str.lower().str.split().sum()) # doesn't tokenize (remove punct) but whatever\n",
    "vocab = set()\n",
    "data.content.astype('str').str.lower().str.split().apply(vocab.update)\n",
    "len(vocab)"
   ]
  },
  {
   "cell_type": "code",
   "execution_count": 4,
   "id": "9a5a1251-2802-489a-a91c-64a58a275785",
   "metadata": {},
   "outputs": [
    {
     "data": {
      "text/html": [
       "<style>#sk-container-id-1 {color: black;background-color: white;}#sk-container-id-1 pre{padding: 0;}#sk-container-id-1 div.sk-toggleable {background-color: white;}#sk-container-id-1 label.sk-toggleable__label {cursor: pointer;display: block;width: 100%;margin-bottom: 0;padding: 0.3em;box-sizing: border-box;text-align: center;}#sk-container-id-1 label.sk-toggleable__label-arrow:before {content: \"▸\";float: left;margin-right: 0.25em;color: #696969;}#sk-container-id-1 label.sk-toggleable__label-arrow:hover:before {color: black;}#sk-container-id-1 div.sk-estimator:hover label.sk-toggleable__label-arrow:before {color: black;}#sk-container-id-1 div.sk-toggleable__content {max-height: 0;max-width: 0;overflow: hidden;text-align: left;background-color: #f0f8ff;}#sk-container-id-1 div.sk-toggleable__content pre {margin: 0.2em;color: black;border-radius: 0.25em;background-color: #f0f8ff;}#sk-container-id-1 input.sk-toggleable__control:checked~div.sk-toggleable__content {max-height: 200px;max-width: 100%;overflow: auto;}#sk-container-id-1 input.sk-toggleable__control:checked~label.sk-toggleable__label-arrow:before {content: \"▾\";}#sk-container-id-1 div.sk-estimator input.sk-toggleable__control:checked~label.sk-toggleable__label {background-color: #d4ebff;}#sk-container-id-1 div.sk-label input.sk-toggleable__control:checked~label.sk-toggleable__label {background-color: #d4ebff;}#sk-container-id-1 input.sk-hidden--visually {border: 0;clip: rect(1px 1px 1px 1px);clip: rect(1px, 1px, 1px, 1px);height: 1px;margin: -1px;overflow: hidden;padding: 0;position: absolute;width: 1px;}#sk-container-id-1 div.sk-estimator {font-family: monospace;background-color: #f0f8ff;border: 1px dotted black;border-radius: 0.25em;box-sizing: border-box;margin-bottom: 0.5em;}#sk-container-id-1 div.sk-estimator:hover {background-color: #d4ebff;}#sk-container-id-1 div.sk-parallel-item::after {content: \"\";width: 100%;border-bottom: 1px solid gray;flex-grow: 1;}#sk-container-id-1 div.sk-label:hover label.sk-toggleable__label {background-color: #d4ebff;}#sk-container-id-1 div.sk-serial::before {content: \"\";position: absolute;border-left: 1px solid gray;box-sizing: border-box;top: 0;bottom: 0;left: 50%;z-index: 0;}#sk-container-id-1 div.sk-serial {display: flex;flex-direction: column;align-items: center;background-color: white;padding-right: 0.2em;padding-left: 0.2em;position: relative;}#sk-container-id-1 div.sk-item {position: relative;z-index: 1;}#sk-container-id-1 div.sk-parallel {display: flex;align-items: stretch;justify-content: center;background-color: white;position: relative;}#sk-container-id-1 div.sk-item::before, #sk-container-id-1 div.sk-parallel-item::before {content: \"\";position: absolute;border-left: 1px solid gray;box-sizing: border-box;top: 0;bottom: 0;left: 50%;z-index: -1;}#sk-container-id-1 div.sk-parallel-item {display: flex;flex-direction: column;z-index: 1;position: relative;background-color: white;}#sk-container-id-1 div.sk-parallel-item:first-child::after {align-self: flex-end;width: 50%;}#sk-container-id-1 div.sk-parallel-item:last-child::after {align-self: flex-start;width: 50%;}#sk-container-id-1 div.sk-parallel-item:only-child::after {width: 0;}#sk-container-id-1 div.sk-dashed-wrapped {border: 1px dashed gray;margin: 0 0.4em 0.5em 0.4em;box-sizing: border-box;padding-bottom: 0.4em;background-color: white;}#sk-container-id-1 div.sk-label label {font-family: monospace;font-weight: bold;display: inline-block;line-height: 1.2em;}#sk-container-id-1 div.sk-label-container {text-align: center;}#sk-container-id-1 div.sk-container {/* jupyter's `normalize.less` sets `[hidden] { display: none; }` but bootstrap.min.css set `[hidden] { display: none !important; }` so we also need the `!important` here to be able to override the default hidden behavior on the sphinx rendered scikit-learn.org. See: https://github.com/scikit-learn/scikit-learn/issues/21755 */display: inline-block !important;position: relative;}#sk-container-id-1 div.sk-text-repr-fallback {display: none;}</style><div id=\"sk-container-id-1\" class=\"sk-top-container\"><div class=\"sk-text-repr-fallback\"><pre>CountVectorizer(ngram_range=(1, 2))</pre><b>In a Jupyter environment, please rerun this cell to show the HTML representation or trust the notebook. <br />On GitHub, the HTML representation is unable to render, please try loading this page with nbviewer.org.</b></div><div class=\"sk-container\" hidden><div class=\"sk-item\"><div class=\"sk-estimator sk-toggleable\"><input class=\"sk-toggleable__control sk-hidden--visually\" id=\"sk-estimator-id-1\" type=\"checkbox\" checked><label for=\"sk-estimator-id-1\" class=\"sk-toggleable__label sk-toggleable__label-arrow\">CountVectorizer</label><div class=\"sk-toggleable__content\"><pre>CountVectorizer(ngram_range=(1, 2))</pre></div></div></div></div></div>"
      ],
      "text/plain": [
       "CountVectorizer(ngram_range=(1, 2))"
      ]
     },
     "execution_count": 4,
     "metadata": {},
     "output_type": "execute_result"
    }
   ],
   "source": [
    "# Try unigrams and bigrams with sklearn\n",
    "from sklearn.feature_extraction.text import CountVectorizer\n",
    "\n",
    "vectorizer = CountVectorizer(ngram_range=(1,2), min_df=1)\n",
    "vectorizer.fit(data.content.astype('str'))"
   ]
  },
  {
   "cell_type": "code",
   "execution_count": 6,
   "id": "d050caf8-d158-4025-8778-142faf309259",
   "metadata": {
    "scrolled": true,
    "tags": []
   },
   "outputs": [
    {
     "data": {
      "text/plain": [
       "13283289"
      ]
     },
     "execution_count": 6,
     "metadata": {},
     "output_type": "execute_result"
    }
   ],
   "source": [
    "len(vectorizer.vocabulary_)"
   ]
  },
  {
   "cell_type": "code",
   "execution_count": 8,
   "id": "76b371e0-635c-455a-b12d-0897b3363282",
   "metadata": {},
   "outputs": [
    {
     "name": "stdout",
     "output_type": "stream",
     "text": [
      "4min 38s ± 0 ns per loop (mean ± std. dev. of 1 run, 1 loop each)\n"
     ]
    }
   ],
   "source": [
    "%%timeit -n 1 -r 1\n",
    "\n",
    "# Try unigrams and bigrams with sklearn\n",
    "from sklearn.feature_extraction.text import CountVectorizer\n",
    "\n",
    "vectorizer = CountVectorizer(ngram_range=(1,2), min_df=1)\n",
    "vectorizer.fit(data.content.astype('str'))"
   ]
  },
  {
   "cell_type": "code",
   "execution_count": null,
   "id": "c6f4a264-5471-4eb8-9e62-db424f8f9c59",
   "metadata": {},
   "outputs": [],
   "source": [
    "%%timeit -n 1 -r 1\n",
    "# Never finished--waaaay longer than 5 mins\n",
    "import itertools\n",
    "\n",
    "vocab = set()\n",
    "splits = data.content.astype('str').str.lower().str.split().apply(lambda x: vocab.update(itertools.permutations(x, 2)))\n",
    "len(vocab)"
   ]
  },
  {
   "cell_type": "code",
   "execution_count": 19,
   "id": "a1d5d75b-0f5d-4396-bd7f-a76fc249c173",
   "metadata": {},
   "outputs": [
    {
     "data": {
      "text/plain": [
       "5564"
      ]
     },
     "execution_count": 19,
     "metadata": {},
     "output_type": "execute_result"
    }
   ],
   "source": [
    "from tqdm.notebook import tqdm\n",
    "\n",
    "present_terms = [term for term in identities['term'] if term in vocab]\n",
    "len(present_terms)"
   ]
  },
  {
   "cell_type": "code",
   "execution_count": 21,
   "id": "fec453c5-01d2-4dc4-8aef-06039db166d3",
   "metadata": {
    "scrolled": true,
    "tags": []
   },
   "outputs": [],
   "source": [
    "pats_combo = re.compile(r'|'.join([(r'\\b{}\\b'.format(re.escape(term.lower()))) for term in present_terms]))\n",
    "# pats_combo\n",
    "\n",
    "def contains_match(text):\n",
    "    \"\"\" Return matched patterns present in text \"\"\" \n",
    "    return re.findall(pats_combo, str(text).lower())"
   ]
  },
  {
   "cell_type": "code",
   "execution_count": 21,
   "id": "5032667f-1d38-45e8-8f58-f3c378d662a9",
   "metadata": {
    "scrolled": true,
    "tags": []
   },
   "outputs": [
    {
     "name": "stdout",
     "output_type": "stream",
     "text": [
      "58.5 s ± 0 ns per loop (mean ± std. dev. of 1 run, 1 loop each)\n"
     ]
    }
   ],
   "source": [
    "%%timeit -n 1 -r 1\n",
    "# With separate re.search\n",
    "\n",
    "sample['nm_identity_matches'] = sample.content.map(contains_match)\n",
    "# sample[sample.nm_identity_matches.str.len() > 0]"
   ]
  },
  {
   "cell_type": "code",
   "execution_count": 22,
   "id": "af08f58c-4a15-4b32-8fef-683908b1f7c3",
   "metadata": {
    "scrolled": true,
    "tags": []
   },
   "outputs": [],
   "source": [
    "# %%timeit -n 1 -r 3\n",
    "# With combined re\n",
    "\n",
    "sample['nm_identity_matches'] = sample.content.map(contains_match)\n",
    "# sample[sample.nm_identity_matches.str.len() > 0]"
   ]
  },
  {
   "cell_type": "code",
   "execution_count": null,
   "id": "b2d51ddd-3d24-4cad-ba3a-7e77fdb27aac",
   "metadata": {
    "scrolled": true,
    "tags": []
   },
   "outputs": [],
   "source": [
    "identity_ctr = Counter(sample.nm_identity_matches.sum())\n",
    "identity_ctr.most_common()"
   ]
  },
  {
   "cell_type": "markdown",
   "id": "935bf496-0236-48d4-9e3e-9c386ade94de",
   "metadata": {},
   "source": [
    "### Identities_tags 2022 (from Josh)"
   ]
  },
  {
   "cell_type": "code",
   "execution_count": 36,
   "id": "01d86509-747f-47ea-bc60-3b3af4fdc614",
   "metadata": {},
   "outputs": [
    {
     "name": "stdout",
     "output_type": "stream",
     "text": [
      "<class 'pandas.core.frame.DataFrame'>\n",
      "RangeIndex: 7166 entries, 0 to 7165\n",
      "Data columns (total 8 columns):\n",
      " #   Column            Non-Null Count  Dtype  \n",
      "---  ------            --------------  -----  \n",
      " 0   IDENTITY          7166 non-null   object \n",
      " 1   FAMILY            7166 non-null   int64  \n",
      " 2   POLITICAL         7165 non-null   object \n",
      " 3   GENDER            7165 non-null   float64\n",
      " 4   RELIGION          7166 non-null   int64  \n",
      " 5   RACE/NATIONALITY  7166 non-null   int64  \n",
      " 6   JOB               7166 non-null   int64  \n",
      " 7   OTHER             7166 non-null   int64  \n",
      "dtypes: float64(1), int64(5), object(2)\n",
      "memory usage: 448.0+ KB\n"
     ]
    }
   ],
   "source": [
    "# Load identity terms\n",
    "import pandas as pd\n",
    "\n",
    "nm_identities_path = '../resources/identities_tags_v2_2022_5_26.xslx'\n",
    "nm_identities = pd.read_excel(nm_identities_path)\n",
    "nm_identities.info()"
   ]
  },
  {
   "cell_type": "code",
   "execution_count": 56,
   "id": "56cb2566-7f00-45cc-90f6-5540bbb791fa",
   "metadata": {
    "scrolled": true,
    "tags": []
   },
   "outputs": [
    {
     "data": {
      "text/plain": [
       "6767"
      ]
     },
     "execution_count": 56,
     "metadata": {},
     "output_type": "execute_result"
    }
   ],
   "source": [
    "new_identities = nm_identities.IDENTITY.str.replace('_', ' ').str.lower()\n",
    "len(set(new_identities).intersection(en_identities.term))"
   ]
  },
  {
   "cell_type": "code",
   "execution_count": 42,
   "id": "176692e0-2daa-4189-9796-e63b486442d9",
   "metadata": {},
   "outputs": [
    {
     "data": {
      "text/plain": [
       "1782573"
      ]
     },
     "execution_count": 42,
     "metadata": {},
     "output_type": "execute_result"
    }
   ],
   "source": [
    "# Filter to terms present at least once in the combined text (make this as fast as possible)\n",
    "vocab = set()\n",
    "data.content.astype('str').str.lower().str.split().apply(vocab.update)\n",
    "len(vocab)"
   ]
  },
  {
   "cell_type": "code",
   "execution_count": 57,
   "id": "061ee924-3393-41b0-8018-eb4ca0e2ac23",
   "metadata": {},
   "outputs": [
    {
     "name": "stdout",
     "output_type": "stream",
     "text": [
      "5755\n",
      "2587\n"
     ]
    }
   ],
   "source": [
    "from tqdm.notebook import tqdm\n",
    "\n",
    "old_present_terms = [term for term in en_identities['term'] if term in vocab]\n",
    "print(len(old_present_terms))\n",
    "new_present_terms = [term for term in new_identities if term in vocab]\n",
    "print(len(new_present_terms))"
   ]
  },
  {
   "cell_type": "code",
   "execution_count": null,
   "id": "d4712372-b4f8-421d-8189-be5fd650fe44",
   "metadata": {
    "scrolled": true,
    "tags": []
   },
   "outputs": [],
   "source": [
    "# Look at terms in the old list that aren't present in the new one\n",
    "both = set(old_present_terms).intersection(set(new_present_terms))\n",
    "only_old = set(old_present_terms) - both\n",
    "print(len(only_old))\n",
    "only_old"
   ]
  },
  {
   "cell_type": "code",
   "execution_count": null,
   "id": "e077739e-daa4-4606-b045-6167569d3bc1",
   "metadata": {},
   "outputs": [],
   "source": [
    "only_new = set(new_present_terms) - both\n",
    "print(len(only_new))\n",
    "only_new"
   ]
  },
  {
   "cell_type": "markdown",
   "id": "d0209e09-b056-472a-8659-81fbb7c9f34b",
   "metadata": {},
   "source": [
    "#### Get annotations for identity categories\n",
    "Save out to identity_categories.json"
   ]
  },
  {
   "cell_type": "code",
   "execution_count": 61,
   "id": "b4ab19e9-4ec7-4354-8e25-9ea2b4dce4cf",
   "metadata": {},
   "outputs": [
    {
     "data": {
      "text/plain": [
       "2587"
      ]
     },
     "execution_count": 61,
     "metadata": {},
     "output_type": "execute_result"
    }
   ],
   "source": [
    "filtered = nm_identities[nm_identities.IDENTITY.str.lower().isin(new_present_terms)]\n",
    "len(filtered)"
   ]
  },
  {
   "cell_type": "code",
   "execution_count": 52,
   "id": "234fb62a-035e-4c87-8224-3151bf6fb6fa",
   "metadata": {},
   "outputs": [
    {
     "data": {
      "text/plain": [
       "Index(['IDENTITY', 'FAMILY', 'POLITICAL', 'GENDER', 'RELIGION',\n",
       "       'RACE/NATIONALITY', 'JOB', 'OTHER'],\n",
       "      dtype='object')"
      ]
     },
     "execution_count": 52,
     "metadata": {},
     "output_type": "execute_result"
    }
   ],
   "source": [
    "filtered.columns"
   ]
  },
  {
   "cell_type": "code",
   "execution_count": 85,
   "id": "c824c99b-77bb-4d37-bc30-27b17b34b429",
   "metadata": {
    "scrolled": true,
    "tags": []
   },
   "outputs": [
    {
     "data": {
      "text/plain": [
       "98"
      ]
     },
     "execution_count": 85,
     "metadata": {},
     "output_type": "execute_result"
    }
   ],
   "source": [
    "political_present = filtered.loc[nm_identities.POLITICAL == 1, 'IDENTITY'].str.lower()\n",
    "annotations = {term: 'politics' for term in political_present}\n",
    "len(annotations)"
   ]
  },
  {
   "cell_type": "code",
   "execution_count": 86,
   "id": "21533399-34c7-41ce-a72d-991dcbd7e764",
   "metadata": {
    "scrolled": true,
    "tags": []
   },
   "outputs": [
    {
     "data": {
      "text/plain": [
       "268"
      ]
     },
     "execution_count": 86,
     "metadata": {},
     "output_type": "execute_result"
    }
   ],
   "source": [
    "gender_present = filtered.loc[nm_identities.GENDER == 1, 'IDENTITY'].str.lower()\n",
    "annotations.update({term: 'gender/sexuality' for term in gender_present})\n",
    "len(annotations)"
   ]
  },
  {
   "cell_type": "code",
   "execution_count": 87,
   "id": "35db6879-66e9-4216-bcca-7dcb696c317f",
   "metadata": {
    "scrolled": true,
    "tags": []
   },
   "outputs": [
    {
     "data": {
      "text/plain": [
       "366"
      ]
     },
     "execution_count": 87,
     "metadata": {},
     "output_type": "execute_result"
    }
   ],
   "source": [
    "religion_present = filtered.loc[nm_identities.RELIGION == 1, 'IDENTITY'].str.lower()\n",
    "annotations.update({term: 'religion' for term in religion_present})\n",
    "len(annotations)"
   ]
  },
  {
   "cell_type": "code",
   "execution_count": 88,
   "id": "0b0a00b4-3ac5-4704-8c92-fb4c701c6b32",
   "metadata": {
    "scrolled": true,
    "tags": []
   },
   "outputs": [
    {
     "data": {
      "text/plain": [
       "708"
      ]
     },
     "execution_count": 88,
     "metadata": {},
     "output_type": "execute_result"
    }
   ],
   "source": [
    "race_nationality_present = filtered.loc[nm_identities['RACE/NATIONALITY'] == 1, 'IDENTITY'].str.lower()\n",
    "annotations.update({term: 'race/ethnicity' for term in race_nationality_present}) # shouldn't really include nationalities\n",
    "len(annotations)"
   ]
  },
  {
   "cell_type": "code",
   "execution_count": 95,
   "id": "7d3559a2-399f-42b8-ad83-2dd68e145fa5",
   "metadata": {},
   "outputs": [
    {
     "data": {
      "text/plain": [
       "980"
      ]
     },
     "execution_count": 95,
     "metadata": {},
     "output_type": "execute_result"
    }
   ],
   "source": [
    "identity_cats.update(annotations)\n",
    "len(identity_cats)"
   ]
  },
  {
   "cell_type": "code",
   "execution_count": 97,
   "id": "a777650c-1f06-4116-a174-ba0fe30a45b4",
   "metadata": {},
   "outputs": [],
   "source": [
    "# Save out to identity_categories.json\n",
    "identity_cats_fpath = '../resources/identity_categories.json'\n",
    "with open(identity_cats_fpath, 'w') as f:\n",
    "    json.dump(identity_cats, f, indent=4)"
   ]
  },
  {
   "cell_type": "markdown",
   "id": "732a2ed1-3c62-426f-836b-4e1e4d11c35f",
   "metadata": {},
   "source": [
    "# Visualize identity term matches"
   ]
  },
  {
   "cell_type": "code",
   "execution_count": 1,
   "id": "b10ad7e0-d4e2-43dc-a751-34e64df8e386",
   "metadata": {},
   "outputs": [
    {
     "name": "stdout",
     "output_type": "stream",
     "text": [
      "<class 'pandas.core.frame.DataFrame'>\n",
      "RangeIndex: 6248230 entries, 0 to 6248229\n",
      "Data columns (total 11 columns):\n",
      " #   Column                            Dtype         \n",
      "---  ------                            -----         \n",
      " 0   type                              object        \n",
      " 1   forum                             object        \n",
      " 2   thread                            object        \n",
      " 3   username                          object        \n",
      " 4   date                              object        \n",
      " 5   content                           object        \n",
      " 6   parsed_date                       datetime64[ns]\n",
      " 7   content_orig                      object        \n",
      " 8   netmapper_identity_matches        object        \n",
      " 9   netmapper_identity_matches_spans  object        \n",
      " 10  actions_attributes                object        \n",
      "dtypes: datetime64[ns](1), object(10)\n",
      "memory usage: 524.4+ MB\n"
     ]
    }
   ],
   "source": [
    "# Load incels data with identity term matches extracted\n",
    "import pandas as pd\n",
    "\n",
    "path = '../../data/incels/processed_comments.pkl'\n",
    "incels_data = pd.read_pickle(path)\n",
    "incels_data.info()"
   ]
  },
  {
   "cell_type": "code",
   "execution_count": 2,
   "id": "48a4be99-cb1d-4472-80ea-09277ad357c7",
   "metadata": {},
   "outputs": [
    {
     "name": "stdout",
     "output_type": "stream",
     "text": [
      "<class 'pandas.core.frame.DataFrame'>\n",
      "RangeIndex: 6248230 entries, 0 to 6248229\n",
      "Data columns (total 11 columns):\n",
      " #   Column                            Dtype              \n",
      "---  ------                            -----              \n",
      " 0   type                              object             \n",
      " 1   forum                             object             \n",
      " 2   thread                            object             \n",
      " 3   username                          object             \n",
      " 4   date                              object             \n",
      " 5   content                           object             \n",
      " 6   parsed_date                       datetime64[ns, UTC]\n",
      " 7   content_orig                      object             \n",
      " 8   netmapper_identity_matches        object             \n",
      " 9   netmapper_identity_matches_spans  object             \n",
      " 10  actions_attributes                object             \n",
      "dtypes: datetime64[ns, UTC](1), object(10)\n",
      "memory usage: 524.4+ MB\n"
     ]
    }
   ],
   "source": [
    "incels_data['parsed_date'] = pd.to_datetime(incels_data.parsed_date, utc=True)\n",
    "incels_data.info()"
   ]
  },
  {
   "cell_type": "code",
   "execution_count": 16,
   "id": "77a0c2b4-b0c4-4366-9e30-8e8feeb4fdaf",
   "metadata": {},
   "outputs": [
    {
     "name": "stdout",
     "output_type": "stream",
     "text": [
      "2017-11-07 00:00:00\n",
      "2021-04-07 00:00:00\n"
     ]
    }
   ],
   "source": [
    "print(incels_data.parsed_date.min())\n",
    "print(incels_data.parsed_date.max())"
   ]
  },
  {
   "cell_type": "code",
   "execution_count": 13,
   "id": "5e386c96-3695-4e5d-8618-f8cfc68323d0",
   "metadata": {},
   "outputs": [
    {
     "name": "stdout",
     "output_type": "stream",
     "text": [
      "<class 'pandas.core.frame.DataFrame'>\n",
      "Index: 4370588 entries, qian2018_0 to rieger2021_white_supremacist_4447\n",
      "Data columns (total 7 columns):\n",
      " #   Column                      Dtype              \n",
      "---  ------                      -----              \n",
      " 0   text                        object             \n",
      " 1   word_count                  int64              \n",
      " 2   dataset                     object             \n",
      " 3   source                      object             \n",
      " 4   domain                      object             \n",
      " 5   timestamp                   datetime64[ns, UTC]\n",
      " 6   netmapper_identity_matches  object             \n",
      "dtypes: datetime64[ns, UTC](1), int64(1), object(5)\n",
      "memory usage: 266.8+ MB\n"
     ]
    }
   ],
   "source": [
    "# Load ws data with identity term matches extracted\n",
    "import pandas as pd\n",
    "\n",
    "path = '../data/white_supremacist_identities.pkl'\n",
    "ws_data = pd.read_pickle(path)\n",
    "ws_data.info()"
   ]
  },
  {
   "cell_type": "code",
   "execution_count": 17,
   "id": "76aaa163-8a50-4ce6-a045-a08fe6eb1c70",
   "metadata": {},
   "outputs": [
    {
     "data": {
      "text/plain": [
       "forum                 4196731\n",
       "tweet                   89444\n",
       "long-form               43016\n",
       "chat                    39578\n",
       "offline_propaganda       1819\n",
       "Name: domain, dtype: int64"
      ]
     },
     "execution_count": 17,
     "metadata": {},
     "output_type": "execute_result"
    }
   ],
   "source": [
    "ws_data.domain.value_counts()"
   ]
  },
  {
   "cell_type": "code",
   "execution_count": 35,
   "id": "ee754acb-c46d-470d-8edc-54da00d3534b",
   "metadata": {},
   "outputs": [
    {
     "name": "stdout",
     "output_type": "stream",
     "text": [
      "<class 'pandas.core.frame.DataFrame'>\n",
      "Index: 3410623 entries, ironmarch_0 to papasavva2020_3068515\n",
      "Data columns (total 7 columns):\n",
      " #   Column                      Dtype              \n",
      "---  ------                      -----              \n",
      " 0   text                        object             \n",
      " 1   word_count                  int64              \n",
      " 2   dataset                     object             \n",
      " 3   source                      object             \n",
      " 4   domain                      object             \n",
      " 5   timestamp                   datetime64[ns, UTC]\n",
      " 6   netmapper_identity_matches  object             \n",
      "dtypes: datetime64[ns, UTC](1), int64(1), object(5)\n",
      "memory usage: 208.2+ MB\n",
      "2015-01-01 00:02:00+00:00\n",
      "2019-11-01 09:25:21+00:00\n",
      "4chan         3264407\n",
      "ironmarch       93377\n",
      "stormfront      52839\n",
      "Name: source, dtype: int64\n",
      "4chan         0.957129\n",
      "ironmarch     0.027378\n",
      "stormfront    0.015492\n",
      "Name: source, dtype: float64\n"
     ]
    }
   ],
   "source": [
    "# Filter to match incels time period and domain\n",
    "# from pandas.tseries.offsets import *\n",
    "from datetime import datetime, timezone\n",
    "\n",
    "custom_start = datetime(2015,1,1, tzinfo=timezone.utc)\n",
    "# selected_ws = ws_data[(ws_data.timestamp >= (incels_data.parsed_date.min()) - DateOffset(years=1)) &\n",
    "selected_ws = ws_data[(ws_data.timestamp >= custom_start) &\n",
    "                      (ws_data.timestamp <= incels_data.parsed_date.max()) & \n",
    "                      (ws_data.domain == 'forum')]\n",
    "# selected_ws = selected_ws.groupby('source').sample(50000)\n",
    "selected_ws.info()\n",
    "print(selected_ws.timestamp.min())\n",
    "print(selected_ws.timestamp.max())\n",
    "\n",
    "print(selected_ws.source.value_counts())\n",
    "print(selected_ws.source.value_counts(normalize=True))"
   ]
  },
  {
   "cell_type": "markdown",
   "id": "4a8395f9-03ad-4c4b-8229-4d5c4229201b",
   "metadata": {},
   "source": [
    "## Total matches"
   ]
  },
  {
   "cell_type": "code",
   "execution_count": null,
   "id": "f5b81c54-0f05-42d7-92cd-7f70291076f1",
   "metadata": {},
   "outputs": [],
   "source": [
    "incels_exp = incels_data.explode('netmapper_identity_matches')\n",
    "# freq = pd.DataFrame(exploded.netmapper_identity_matches.value_counts(), columns=['term', 'count'])\n",
    "\n",
    "freq = incels_exp.netmapper_identity_matches.value_counts().to_frame(name='count').reset_index(names='identity_term')\n",
    "freq.head(20)\n",
    "\n",
    "import plotly.express as px\n",
    "pd.options.plotting.backend = 'plotly'\n",
    "\n",
    "fig = px.bar(freq.head(50), x='identity_term', y='count')\n",
    "fig.update_xaxes(tickangle=45)"
   ]
  },
  {
   "cell_type": "markdown",
   "id": "768c0715-61b7-4471-82a7-b1cfaef16362",
   "metadata": {},
   "source": [
    "### White supremacist"
   ]
  },
  {
   "cell_type": "code",
   "execution_count": 44,
   "id": "5e8f6812-9845-4fc7-980f-0a45e332e935",
   "metadata": {},
   "outputs": [],
   "source": [
    "# ws_exp = ws_data.explode('netmapper_identity_matches')\n",
    "ws_exp = selected_ws.explode('netmapper_identity_matches')"
   ]
  },
  {
   "cell_type": "markdown",
   "id": "1cf280ad-4992-46dc-9446-59a2b4a9a8d5",
   "metadata": {},
   "source": [
    "### Generic-only list vs novel terms"
   ]
  },
  {
   "cell_type": "code",
   "execution_count": 4,
   "id": "2e2b0118-ba45-4a49-bf75-0fdf981f13b8",
   "metadata": {},
   "outputs": [
    {
     "name": "stdout",
     "output_type": "stream",
     "text": [
      "\t\t7101 out of 18906 identity terms present in vocab\n"
     ]
    },
    {
     "data": {
      "text/plain": [
       "7101"
      ]
     },
     "execution_count": 4,
     "metadata": {},
     "output_type": "execute_result"
    }
   ],
   "source": [
    "# Load generic list, to just count those\n",
    "import json\n",
    "\n",
    "identities_path =  '../resources/generic_agents-identity_v15_2021_10_15.xlsx'\n",
    "identities_exclude_path = '../resources/netmapper_exclude.json'\n",
    "identities_include_path = '../resources/netmapper_include_generic.json'\n",
    "\n",
    "# Load identity terms\n",
    "multi_identities = pd.read_excel(identities_path)\n",
    "with open(identities_exclude_path) as f:\n",
    "    identities_exclude = json.load(f)\n",
    "with open(identities_include_path) as f:\n",
    "    identities_include = json.load(f)\n",
    "\n",
    "# Filter to English, remove duplicates\n",
    "cols = multi_identities.columns.tolist()\n",
    "en_identities = multi_identities[cols[cols.index('English'):]].copy()\n",
    "en_identities['term'] = en_identities['English'].str.lower()\n",
    "en_identities.drop_duplicates(subset='term', inplace=True)\n",
    "\n",
    "# Separate out stopwords\n",
    "identities = en_identities[\n",
    "    (en_identities['stop word']!=1) & (~en_identities['term'].isin(identities_exclude))\n",
    "]\n",
    "len(identities)\n",
    "\n",
    "def filter_identities(identities):\n",
    "    \"\"\" Filter identity list to only those present in the data's vocabulary, returns this list.\n",
    "        Args:\n",
    "            identities: list of identities to see if are in the vocab\n",
    "    \"\"\"\n",
    "\n",
    "    vocab_path = f'../tmp/incels_vocab.json'\n",
    "\n",
    "    with open(vocab_path, 'r') as f:\n",
    "        vocab = json.load(f)\n",
    "\n",
    "    present_identities = [term for term in identities if term in vocab]\n",
    "    print(f'\\t\\t{len(present_identities)} out of {len(identities)} identity terms present in vocab')\n",
    "\n",
    "    return present_identities\n",
    "\n",
    "identities = filter_identities(identities['term'].tolist() + identities_include)\n",
    "len(identities)"
   ]
  },
  {
   "cell_type": "code",
   "execution_count": 5,
   "id": "1ceb9c6e-fe4a-4163-9952-5321e83927bd",
   "metadata": {},
   "outputs": [
    {
     "name": "stdout",
     "output_type": "stream",
     "text": [
      "12126310\n",
      "5754852\n"
     ]
    }
   ],
   "source": [
    "# Filter matches to just those that are NOT in generic list\n",
    "incels_novel_exp = incels_exp[~incels_exp['netmapper_identity_matches'].isin(identities)].copy()\n",
    "print(len(incels_exp))\n",
    "print(len(incels_novel_exp))"
   ]
  },
  {
   "cell_type": "code",
   "execution_count": 48,
   "id": "4934290e-ab29-4afc-8e65-fac77faaf2ff",
   "metadata": {},
   "outputs": [
    {
     "name": "stdout",
     "output_type": "stream",
     "text": [
      "46\n",
      "foids, foid, chads, manlet, stacy, boyo, femoids, ethnics, chadlite, roastie, femoid, stacies, manlets, roasties, holes, betabux, landwhale, deformed, landwhales, waifu, jb, chadlites, chick, chicks, noodlewhores, soyboy, br0, aspie, betas, thots, stacey, brah, jbs, immigration, gook, hoe, qt, waifus, traps, germanic, beckies, crippled, m8, boi, gooks, bud\n"
     ]
    }
   ],
   "source": [
    "# Table for the paper\n",
    "exclude = ['guy', 'guys', 'gf', 'buddy', 'islam', 'escorts', 'anxiety', 'islamic', 'trannies', 'bruh', 'aryan', 'womens'] # should have been added to the generic list\n",
    "selected = ([wd for wd in incels_novel_exp.netmapper_identity_matches.value_counts()[:90].index.tolist() if wd not in exclude and 'cel' not in wd])\n",
    "print(len(selected))\n",
    "print(', '.join(selected))"
   ]
  },
  {
   "cell_type": "code",
   "execution_count": 41,
   "id": "6df43a0d-4f4f-43fe-a24a-7c3bb71af9f8",
   "metadata": {},
   "outputs": [
    {
     "name": "stdout",
     "output_type": "stream",
     "text": [
      "12126310\n",
      "6371458\n"
     ]
    }
   ],
   "source": [
    "# Filter matches to just those that are in generic list\n",
    "incels_generic_exp = incels_exp[incels_exp['netmapper_identity_matches'].isin(identities)].copy()\n",
    "print(len(incels_exp))\n",
    "print(len(incels_generic_exp))"
   ]
  },
  {
   "cell_type": "markdown",
   "id": "3c6e9661-4214-48ed-84c1-8ab5d310b3a1",
   "metadata": {},
   "source": [
    "## Group identity terms"
   ]
  },
  {
   "cell_type": "code",
   "execution_count": null,
   "id": "cfd215b7-cdce-45a5-baf2-d62dbe67ac3a",
   "metadata": {},
   "outputs": [],
   "source": [
    "import json\n",
    "\n",
    "identity_groups_fpath = '../resources/identity_groups.json'\n",
    "with open(identity_groups_fpath, 'r') as f:\n",
    "    identity_groups = json.load(f)\n",
    "print(len(identity_groups))\n",
    "\n",
    "incels_exp['identity_group'] = incels_exp.netmapper_identity_matches.map(lambda x: identity_groups.get(x, x))\n",
    "incels_exploded = incels_exp.explode('identity_group') # Count intersectional mentions as a mention in each of their categories\n",
    "incels_gp_freq = incels_exploded.identity_group.value_counts().to_frame(name='count').reset_index(names='identity_group')\n",
    "\n",
    "import plotly.express as px\n",
    "pd.options.plotting.backend = 'plotly'\n",
    "\n",
    "fig = px.bar(incels_gp_freq.head(30), x='identity_group', y='count')\n",
    "fig.update_xaxes(tickangle=45)"
   ]
  },
  {
   "cell_type": "markdown",
   "id": "e39b47db-d801-41ce-9de7-f07236761ed8",
   "metadata": {},
   "source": [
    "### Plot for the paper"
   ]
  },
  {
   "cell_type": "code",
   "execution_count": 39,
   "id": "8c03fbf0-7e9a-4e83-81de-c4db38f6820e",
   "metadata": {},
   "outputs": [
    {
     "data": {
      "text/plain": [
       "['women_girls',\n",
       " 'men_boys',\n",
       " 'youth',\n",
       " 'mental_disabilities',\n",
       " 'lgbtq_people',\n",
       " 'asian_people',\n",
       " 'black_people',\n",
       " 'white_people',\n",
       " 'jews']"
      ]
     },
     "execution_count": 39,
     "metadata": {},
     "output_type": "execute_result"
    }
   ],
   "source": [
    "selected_gps = [gp for gp in incels_gp_freq.identity_group.head(12).tolist() if gp not in ['men_boys_address', 'women_girls_derogatory', 'incels']]\n",
    "selected_gps"
   ]
  },
  {
   "cell_type": "code",
   "execution_count": 45,
   "id": "c782882a-ef41-4428-b606-524afb592618",
   "metadata": {},
   "outputs": [
    {
     "data": {
      "text/html": [
       "<div>\n",
       "<style scoped>\n",
       "    .dataframe tbody tr th:only-of-type {\n",
       "        vertical-align: middle;\n",
       "    }\n",
       "\n",
       "    .dataframe tbody tr th {\n",
       "        vertical-align: top;\n",
       "    }\n",
       "\n",
       "    .dataframe thead th {\n",
       "        text-align: right;\n",
       "    }\n",
       "</style>\n",
       "<table border=\"1\" class=\"dataframe\">\n",
       "  <thead>\n",
       "    <tr style=\"text-align: right;\">\n",
       "      <th></th>\n",
       "      <th>identity_group</th>\n",
       "      <th>dataset</th>\n",
       "      <th>count</th>\n",
       "      <th>freq</th>\n",
       "    </tr>\n",
       "  </thead>\n",
       "  <tbody>\n",
       "    <tr>\n",
       "      <th>0</th>\n",
       "      <td>women_girls</td>\n",
       "      <td>incels</td>\n",
       "      <td>2616242</td>\n",
       "      <td>0.418717</td>\n",
       "    </tr>\n",
       "    <tr>\n",
       "      <th>1</th>\n",
       "      <td>men_boys</td>\n",
       "      <td>incels</td>\n",
       "      <td>2034524</td>\n",
       "      <td>0.325616</td>\n",
       "    </tr>\n",
       "    <tr>\n",
       "      <th>2</th>\n",
       "      <td>youth</td>\n",
       "      <td>incels</td>\n",
       "      <td>290984</td>\n",
       "      <td>0.046571</td>\n",
       "    </tr>\n",
       "    <tr>\n",
       "      <th>3</th>\n",
       "      <td>mental_disabilities</td>\n",
       "      <td>incels</td>\n",
       "      <td>239192</td>\n",
       "      <td>0.038282</td>\n",
       "    </tr>\n",
       "    <tr>\n",
       "      <th>4</th>\n",
       "      <td>lgbtq_people</td>\n",
       "      <td>incels</td>\n",
       "      <td>236085</td>\n",
       "      <td>0.037784</td>\n",
       "    </tr>\n",
       "    <tr>\n",
       "      <th>5</th>\n",
       "      <td>asian_people</td>\n",
       "      <td>incels</td>\n",
       "      <td>210149</td>\n",
       "      <td>0.033633</td>\n",
       "    </tr>\n",
       "    <tr>\n",
       "      <th>6</th>\n",
       "      <td>black_people</td>\n",
       "      <td>incels</td>\n",
       "      <td>156181</td>\n",
       "      <td>0.024996</td>\n",
       "    </tr>\n",
       "    <tr>\n",
       "      <th>7</th>\n",
       "      <td>white_people</td>\n",
       "      <td>incels</td>\n",
       "      <td>134838</td>\n",
       "      <td>0.021580</td>\n",
       "    </tr>\n",
       "    <tr>\n",
       "      <th>8</th>\n",
       "      <td>jews</td>\n",
       "      <td>incels</td>\n",
       "      <td>103877</td>\n",
       "      <td>0.016625</td>\n",
       "    </tr>\n",
       "    <tr>\n",
       "      <th>9</th>\n",
       "      <td>women_girls</td>\n",
       "      <td>incels_generic</td>\n",
       "      <td>2616242</td>\n",
       "      <td>0.290866</td>\n",
       "    </tr>\n",
       "    <tr>\n",
       "      <th>10</th>\n",
       "      <td>men_boys</td>\n",
       "      <td>incels_generic</td>\n",
       "      <td>2034524</td>\n",
       "      <td>0.204848</td>\n",
       "    </tr>\n",
       "    <tr>\n",
       "      <th>11</th>\n",
       "      <td>youth</td>\n",
       "      <td>incels_generic</td>\n",
       "      <td>290984</td>\n",
       "      <td>0.042755</td>\n",
       "    </tr>\n",
       "    <tr>\n",
       "      <th>12</th>\n",
       "      <td>mental_disabilities</td>\n",
       "      <td>incels_generic</td>\n",
       "      <td>239192</td>\n",
       "      <td>0.029312</td>\n",
       "    </tr>\n",
       "    <tr>\n",
       "      <th>13</th>\n",
       "      <td>lgbtq_people</td>\n",
       "      <td>incels_generic</td>\n",
       "      <td>236085</td>\n",
       "      <td>0.033029</td>\n",
       "    </tr>\n",
       "    <tr>\n",
       "      <th>14</th>\n",
       "      <td>asian_people</td>\n",
       "      <td>incels_generic</td>\n",
       "      <td>210149</td>\n",
       "      <td>0.024847</td>\n",
       "    </tr>\n",
       "    <tr>\n",
       "      <th>15</th>\n",
       "      <td>black_people</td>\n",
       "      <td>incels_generic</td>\n",
       "      <td>156181</td>\n",
       "      <td>0.023398</td>\n",
       "    </tr>\n",
       "    <tr>\n",
       "      <th>16</th>\n",
       "      <td>white_people</td>\n",
       "      <td>incels_generic</td>\n",
       "      <td>134838</td>\n",
       "      <td>0.018090</td>\n",
       "    </tr>\n",
       "    <tr>\n",
       "      <th>17</th>\n",
       "      <td>jews</td>\n",
       "      <td>incels_generic</td>\n",
       "      <td>103877</td>\n",
       "      <td>0.016217</td>\n",
       "    </tr>\n",
       "    <tr>\n",
       "      <th>18</th>\n",
       "      <td>women_girls</td>\n",
       "      <td>ws</td>\n",
       "      <td>2616242</td>\n",
       "      <td>0.074040</td>\n",
       "    </tr>\n",
       "    <tr>\n",
       "      <th>19</th>\n",
       "      <td>men_boys</td>\n",
       "      <td>ws</td>\n",
       "      <td>2034524</td>\n",
       "      <td>0.063236</td>\n",
       "    </tr>\n",
       "    <tr>\n",
       "      <th>20</th>\n",
       "      <td>youth</td>\n",
       "      <td>ws</td>\n",
       "      <td>290984</td>\n",
       "      <td>0.032238</td>\n",
       "    </tr>\n",
       "    <tr>\n",
       "      <th>21</th>\n",
       "      <td>mental_disabilities</td>\n",
       "      <td>ws</td>\n",
       "      <td>239192</td>\n",
       "      <td>0.013233</td>\n",
       "    </tr>\n",
       "    <tr>\n",
       "      <th>22</th>\n",
       "      <td>lgbtq_people</td>\n",
       "      <td>ws</td>\n",
       "      <td>236085</td>\n",
       "      <td>0.040778</td>\n",
       "    </tr>\n",
       "    <tr>\n",
       "      <th>23</th>\n",
       "      <td>asian_people</td>\n",
       "      <td>ws</td>\n",
       "      <td>210149</td>\n",
       "      <td>0.020408</td>\n",
       "    </tr>\n",
       "    <tr>\n",
       "      <th>24</th>\n",
       "      <td>black_people</td>\n",
       "      <td>ws</td>\n",
       "      <td>156181</td>\n",
       "      <td>0.054791</td>\n",
       "    </tr>\n",
       "    <tr>\n",
       "      <th>25</th>\n",
       "      <td>white_people</td>\n",
       "      <td>ws</td>\n",
       "      <td>134838</td>\n",
       "      <td>0.038965</td>\n",
       "    </tr>\n",
       "    <tr>\n",
       "      <th>26</th>\n",
       "      <td>jews</td>\n",
       "      <td>ws</td>\n",
       "      <td>103877</td>\n",
       "      <td>0.098518</td>\n",
       "    </tr>\n",
       "  </tbody>\n",
       "</table>\n",
       "</div>"
      ],
      "text/plain": [
       "         identity_group         dataset    count      freq\n",
       "0           women_girls          incels  2616242  0.418717\n",
       "1              men_boys          incels  2034524  0.325616\n",
       "2                 youth          incels   290984  0.046571\n",
       "3   mental_disabilities          incels   239192  0.038282\n",
       "4          lgbtq_people          incels   236085  0.037784\n",
       "5          asian_people          incels   210149  0.033633\n",
       "6          black_people          incels   156181  0.024996\n",
       "7          white_people          incels   134838  0.021580\n",
       "8                  jews          incels   103877  0.016625\n",
       "9           women_girls  incels_generic  2616242  0.290866\n",
       "10             men_boys  incels_generic  2034524  0.204848\n",
       "11                youth  incels_generic   290984  0.042755\n",
       "12  mental_disabilities  incels_generic   239192  0.029312\n",
       "13         lgbtq_people  incels_generic   236085  0.033029\n",
       "14         asian_people  incels_generic   210149  0.024847\n",
       "15         black_people  incels_generic   156181  0.023398\n",
       "16         white_people  incels_generic   134838  0.018090\n",
       "17                 jews  incels_generic   103877  0.016217\n",
       "18          women_girls              ws  2616242  0.074040\n",
       "19             men_boys              ws  2034524  0.063236\n",
       "20                youth              ws   290984  0.032238\n",
       "21  mental_disabilities              ws   239192  0.013233\n",
       "22         lgbtq_people              ws   236085  0.040778\n",
       "23         asian_people              ws   210149  0.020408\n",
       "24         black_people              ws   156181  0.054791\n",
       "25         white_people              ws   134838  0.038965\n",
       "26                 jews              ws   103877  0.098518"
      ]
     },
     "execution_count": 45,
     "metadata": {},
     "output_type": "execute_result"
    }
   ],
   "source": [
    "incels_generic_exp['identity_group'] = incels_generic_exp.netmapper_identity_matches.map(lambda x: identity_groups.get(x, x))\n",
    "incels_generic_exploded = incels_generic_exp.explode('identity_group') # Count intersectional mentions as a mention in each of their categories\n",
    "incels_generic_gp_freq = incels_generic_exploded.identity_group.value_counts().to_frame(name='count').reset_index(names='identity_group')\n",
    "incels_generic_gp_freq['freq'] = incels_generic_gp_freq['count']/len(incels_data) # divide by total #posts since dividing by total #mentions doesn't show increase from extending list past generic\n",
    "\n",
    "ws_exp['identity_group'] = ws_exp.netmapper_identity_matches.map(lambda x: identity_groups.get(x, x))\n",
    "ws_exploded = ws_exp.explode('identity_group') # Count intersectional mentions as a mention in each of their categories\n",
    "ws_gp_freq = ws_exploded.identity_group.value_counts().to_frame(name='count').reset_index(names='identity_group')\n",
    "ws_gp_freq['freq'] = ws_gp_freq['count']/len(ws_data) # divide by total #mentions. Could divide by #posts, bu post length varies between datasets\n",
    "\n",
    "incels_gp_freq['freq'] = incels_gp_freq['count']/len(incels_data)\n",
    "gp_freqs = incels_gp_freq[incels_gp_freq['identity_group'].isin(selected_gps)].set_index('identity_group').rename(columns={'freq': 'freq_incels'})\n",
    "gp_freqs['freq_incels_generic'] = incels_generic_gp_freq.set_index('identity_group')['freq']\n",
    "gp_freqs['freq_ws'] = ws_gp_freq.set_index('identity_group')['freq']\n",
    "gp_freqs = gp_freqs.reset_index()\n",
    "gp_freqs\n",
    "\n",
    "gp_freqs = pd.wide_to_long(gp_freqs, stubnames='freq', sep='_', i='identity_group', j='dataset', suffix=r'\\w+').reset_index().fillna(0)\n",
    "gp_freqs"
   ]
  },
  {
   "cell_type": "code",
   "execution_count": null,
   "id": "ce8d1f20-a822-4ca6-ab9d-651e4d47af57",
   "metadata": {},
   "outputs": [],
   "source": [
    "column_map = {'identity_group': 'Identity group', 'dataset': 'Dataset/identity lexicon', 'freq': 'Mentions/post'}\n",
    "formatted_gp_freqs = gp_freqs.rename(columns=column_map).replace({\n",
    "    'women_girls': 'Women',\n",
    "    'men_boys': 'Men',\n",
    "    'youth': 'Youth',\n",
    "    'mental_disabilities': 'Neurodiverse',\n",
    "    'lgbtq_people': 'LGBTQ+',\n",
    "    'asian_people': 'Asian',\n",
    "    'black_people': 'Black',\n",
    "    'white_people': 'White',\n",
    "    'jews': 'Jews',\n",
    "    'incels': 'Incels data<br>Expanded lexicon',\n",
    "    'incels_generic': 'Incels data<br>Generic lexicon',\n",
    "    'ws': 'White supremacist data<br>Generic lexicon',\n",
    "})\n",
    "\n",
    "# fig = px.bar(gp_freqs, x='identity_group', y='freq', color='dataset', barmode='group', title='Identity group mentions per post')\n",
    "fig = px.bar(formatted_gp_freqs, x=column_map['identity_group'], y=column_map['freq'], color=column_map['dataset'], barmode='group', \n",
    "             # title='Identity group mentions per post',\n",
    "            width=600, height=300)\n",
    "# fig.update_xaxes(tickangle=45)\n",
    "fig.update_layout(xaxis_title=None)\n",
    "fig.write_image('../output/identity_group_mentions.pdf')\n",
    "fig.write_image('../output/identity_group_mentions.png', scale=3)\n",
    "fig.show()"
   ]
  },
  {
   "cell_type": "code",
   "execution_count": 7,
   "id": "a7c077d7-7b9a-4f2b-a185-94cfaffdb071",
   "metadata": {},
   "outputs": [
    {
     "name": "stdout",
     "output_type": "stream",
     "text": [
      "women_girls: ['women', 'woman', 'girls', 'girl', 'girlfriend', 'girlfriends', 'female', 'females', 'whore', 'whores', 'bitch', 'bitches', 'slut', 'sluts', 'cunt', 'cunts', 'prostitute', 'prostitutes', 'hooker', 'hookers', 'black women', 'feminist', 'feminists', 'white women', 'gf', 'sister', 'mother', 'daughter', 'mom', 'wife', 'wives', 'mothers']\n",
      "men_boys: ['men', 'man', 'boy', 'boys', 'boyfriend', 'boyfriends', 'bro', 'dude', 'dudes', 'male', 'males', 'black men', 'white men', 'bf', 'brother', 'brothers', 'father', 'son', 'husband', 'husbands', 'fathers']\n",
      "men_boys_address: ['bro', 'dude', 'dudes']\n",
      "women_girls_derogatory: ['whore', 'whores', 'bitch', 'bitches', 'slut', 'sluts', 'cunt', 'cunts', 'prostitute', 'prostitutes', 'hooker', 'hookers']\n",
      "youth: ['kids', 'kid', 'child', 'children', 'baby', 'babies', 'teen', 'teens']\n",
      "virgins: ['virgin']\n",
      "lgbtq_people: ['faggot', 'faggots', 'fag', 'fags', 'tranny', 'transgender', 'gay', 'gays', 'trans', 'bi', 'bisexual', 'bisexuals', 'pansexual', 'pansexuals', 'non-binary', 'nonbinary', 'non binary', 'genderqueer', 'homo', 'homosexual', 'homosexuals', 'transman', 'transwoman', 'queers']\n",
      "jews: ['jews', 'jew', 'jewish', 'kike', 'kikes', 'zionist', 'zionists', 'judaism', 'israelite', 'israelites', 'goy', 'goyim']\n",
      "black_people: ['black people', 'black man', 'black woman', 'black men', 'black women', 'nigger', 'nigga', 'niggers', 'niggas', 'niggaz', 'nigr', 'nigra', 'nigre', 'niggur', 'negro', 'negros', 'negroes', 'negroid', 'african', 'blacks']\n",
      "asian_people: ['asian', 'asians', 'indian', 'japanese', 'chinese', 'arab', 'chinks']\n",
      "white_people: ['white people', 'caucasian', 'white women', 'white men', 'european', 'europeans', 'whites']\n",
      "muslims: ['muslim', 'muslims']\n",
      "americans: ['american']\n",
      "teachers: ['teacher']\n",
      "latinx_people: ['spanish', 'hispanic', 'latino', 'latina', 'latinx', 'mexican', 'latin american', 'central american', 'south american', 'dominican', 'puerto rican', 'salvadoran', 'honduran', 'nicaraguan', 'costa rican', 'colombian', 'venezuelan', 'ecuadorian', 'brazilian', 'argentinian', 'bolivian', 'peruvian', 'chilean']\n"
     ]
    }
   ],
   "source": [
    "from collections import defaultdict\n",
    "\n",
    "gp_vals = defaultdict(list)\n",
    "for key, vals in identity_groups.items():\n",
    "    for gp in vals:\n",
    "        gp_vals[gp].append(key)\n",
    "        \n",
    "for gp, terms in gp_vals.items():\n",
    "    print(f'{gp}: {terms}')"
   ]
  },
  {
   "cell_type": "code",
   "execution_count": 8,
   "id": "a7a847ad-7559-4abd-8de9-39efad03b07a",
   "metadata": {},
   "outputs": [
    {
     "data": {
      "text/plain": [
       "5460"
      ]
     },
     "execution_count": 8,
     "metadata": {},
     "output_type": "execute_result"
    }
   ],
   "source": [
    "all_identities = exploded.netmapper_identity_matches.unique()\n",
    "len(all_identities)"
   ]
  },
  {
   "cell_type": "code",
   "execution_count": 9,
   "id": "ebabd5cb-54e1-4188-83d5-414c7c618787",
   "metadata": {},
   "outputs": [
    {
     "name": "stdout",
     "output_type": "stream",
     "text": [
      "spanish: True\n",
      "hispanic: True\n",
      "latino: True\n",
      "latina: False\n",
      "latinx: False\n",
      "mexican: True\n",
      "latin american: False\n",
      "central american: False\n",
      "south american: False\n",
      "dominican: True\n",
      "puerto rican: False\n",
      "salvadoran: True\n",
      "honduran: True\n",
      "nicaraguan: True\n",
      "costa rican: False\n",
      "colombian: True\n",
      "venezuelan: True\n",
      "ecuadorian: True\n",
      "brazilian: True\n",
      "argentinian: True\n",
      "bolivian: True\n",
      "peruvian: True\n",
      "chilean: True\n"
     ]
    }
   ],
   "source": [
    "for term in gp_vals['latinx_people']:\n",
    "    print(f'{term}: {term in all_identities}')"
   ]
  },
  {
   "cell_type": "code",
   "execution_count": 84,
   "id": "99ee6faa-1c29-4baa-937d-b7df769ca05a",
   "metadata": {},
   "outputs": [
    {
     "name": "stdout",
     "output_type": "stream",
     "text": [
      "jew: True\n",
      "jews: True\n",
      "jewish: False\n",
      "kike: True\n",
      "kikes: False\n",
      "zionist: True\n",
      "zionists: True\n",
      "judaism: False\n",
      "israelite: True\n",
      "israelites: True\n",
      "goy: False\n",
      "goyim: False\n"
     ]
    }
   ],
   "source": [
    "for term in ['jew', 'jews', 'jewish', 'kike', 'kikes', 'zionist', 'zionists', 'judaism', 'israelite', 'israelites', 'goy', 'goyim']:\n",
    "    print(f'{term}: {term in all_identities}')"
   ]
  },
  {
   "cell_type": "code",
   "execution_count": 134,
   "id": "f81905a3-20d4-4436-8274-d8aae4354be8",
   "metadata": {},
   "outputs": [
    {
     "name": "stdout",
     "output_type": "stream",
     "text": [
      "gay: False\n",
      "gays: True\n",
      "lesbian: True\n",
      "trans: False\n",
      "transgender: False\n",
      "bi: False\n",
      "bisexual: False\n",
      "pansexual: False\n",
      "homosexual: True\n",
      "homo: True\n",
      "queer: True\n",
      "transman: False\n",
      "transwoman: False\n",
      "queers: False\n",
      "fag: True\n",
      "fags: False\n"
     ]
    }
   ],
   "source": [
    "for term in ['gay', 'gays', 'lesbian', 'trans', 'transgender', 'bi', 'bisexual', 'pansexual', 'homosexual', 'homo', 'queer',\n",
    "            'transman', 'transwoman', 'queers', 'fag', 'fags']:\n",
    "    print(f'{term}: {term in all_identities}')"
   ]
  },
  {
   "cell_type": "code",
   "execution_count": null,
   "id": "3e16af82-7775-43af-94c3-3d35a790e24b",
   "metadata": {},
   "outputs": [],
   "source": [
    "[identity for identity in all_identities if 'negro' in str(identity)]"
   ]
  },
  {
   "cell_type": "code",
   "execution_count": null,
   "id": "20b64cb3-737b-432d-a9d5-0f4271daab2c",
   "metadata": {},
   "outputs": [],
   "source": [
    "[identity for identity in all_identities if 'white' in str(identity)]"
   ]
  },
  {
   "cell_type": "code",
   "execution_count": null,
   "id": "625539a2-b71d-4a15-bd49-6299ce49b642",
   "metadata": {},
   "outputs": [],
   "source": [
    "[identity for identity in all_identities if ' ' in str(identity)]"
   ]
  },
  {
   "cell_type": "code",
   "execution_count": null,
   "id": "0fbd129a-f38c-48c0-ae5e-5602ba2e3516",
   "metadata": {},
   "outputs": [],
   "source": [
    "[identity for identity in all_identities if 'nig' in str(identity)]"
   ]
  },
  {
   "cell_type": "code",
   "execution_count": 103,
   "id": "cd08f5d1-3ead-429c-9534-d70033d15cb9",
   "metadata": {},
   "outputs": [
    {
     "data": {
      "text/plain": [
       "'black man'"
      ]
     },
     "execution_count": 103,
     "metadata": {},
     "output_type": "execute_result"
    }
   ],
   "source": [
    "import re\n",
    "\n",
    "re.search(r'\\b{}\\b'.format(re.escape('black man')), 'black man walking').group()\n",
    "# re.search(r'\\b{}\\b'.format(re.escape('black man')), 'asian man walking').group()"
   ]
  },
  {
   "cell_type": "markdown",
   "id": "8c64a766-18c0-4614-9063-b6d332af0257",
   "metadata": {},
   "source": [
    "### Identity groups over time"
   ]
  },
  {
   "cell_type": "code",
   "execution_count": 54,
   "id": "6383a6aa-7331-4297-a07e-251f3c893f35",
   "metadata": {},
   "outputs": [
    {
     "data": {
      "text/html": [
       "<div>\n",
       "<style scoped>\n",
       "    .dataframe tbody tr th:only-of-type {\n",
       "        vertical-align: middle;\n",
       "    }\n",
       "\n",
       "    .dataframe tbody tr th {\n",
       "        vertical-align: top;\n",
       "    }\n",
       "\n",
       "    .dataframe thead th {\n",
       "        text-align: right;\n",
       "    }\n",
       "</style>\n",
       "<table border=\"1\" class=\"dataframe\">\n",
       "  <thead>\n",
       "    <tr style=\"text-align: right;\">\n",
       "      <th></th>\n",
       "      <th>parsed_date</th>\n",
       "      <th>identity_group</th>\n",
       "      <th>term_count</th>\n",
       "      <th>word_count</th>\n",
       "      <th>mention_prob</th>\n",
       "      <th>log_prob</th>\n",
       "    </tr>\n",
       "  </thead>\n",
       "  <tbody>\n",
       "    <tr>\n",
       "      <th>0</th>\n",
       "      <td>2017-11-01</td>\n",
       "      <td>aboriginal</td>\n",
       "      <td>21</td>\n",
       "      <td>3106117</td>\n",
       "      <td>0.000007</td>\n",
       "      <td>-5.169999</td>\n",
       "    </tr>\n",
       "    <tr>\n",
       "      <th>1</th>\n",
       "      <td>2017-11-01</td>\n",
       "      <td>aboriginals</td>\n",
       "      <td>24</td>\n",
       "      <td>3106117</td>\n",
       "      <td>0.000008</td>\n",
       "      <td>-5.112007</td>\n",
       "    </tr>\n",
       "    <tr>\n",
       "      <th>2</th>\n",
       "      <td>2017-11-01</td>\n",
       "      <td>aborigines</td>\n",
       "      <td>4</td>\n",
       "      <td>3106117</td>\n",
       "      <td>0.000001</td>\n",
       "      <td>-5.890158</td>\n",
       "    </tr>\n",
       "    <tr>\n",
       "      <th>3</th>\n",
       "      <td>2017-11-01</td>\n",
       "      <td>abuser</td>\n",
       "      <td>8</td>\n",
       "      <td>3106117</td>\n",
       "      <td>0.000003</td>\n",
       "      <td>-5.589128</td>\n",
       "    </tr>\n",
       "    <tr>\n",
       "      <th>4</th>\n",
       "      <td>2017-11-01</td>\n",
       "      <td>abusers</td>\n",
       "      <td>6</td>\n",
       "      <td>3106117</td>\n",
       "      <td>0.000002</td>\n",
       "      <td>-5.714067</td>\n",
       "    </tr>\n",
       "  </tbody>\n",
       "</table>\n",
       "</div>"
      ],
      "text/plain": [
       "  parsed_date identity_group  term_count  word_count  mention_prob  log_prob\n",
       "0  2017-11-01     aboriginal          21     3106117      0.000007 -5.169999\n",
       "1  2017-11-01    aboriginals          24     3106117      0.000008 -5.112007\n",
       "2  2017-11-01     aborigines           4     3106117      0.000001 -5.890158\n",
       "3  2017-11-01         abuser           8     3106117      0.000003 -5.589128\n",
       "4  2017-11-01        abusers           6     3106117      0.000002 -5.714067"
      ]
     },
     "execution_count": 54,
     "metadata": {},
     "output_type": "execute_result"
    }
   ],
   "source": [
    "# For incels\n",
    "\n",
    "from datetime import datetime, timezone\n",
    "\n",
    "date_col = 'parsed_date' # for incels data\n",
    "\n",
    "post_counts = incels_data.groupby(pd.Grouper(key=date_col, freq='MS'))['content'].count()\n",
    "incels_data['word_count'] = incels_data.content.str.split().str.len() # for incels data\n",
    "\n",
    "word_counts = incels_data.groupby(pd.Grouper(key=date_col, freq='MS'))['word_count'].sum()\n",
    "word_counts\n",
    "\n",
    "# exploded = data.explode('netmapper_identity_matches').dropna(subset='netmapper_identity_matches')\n",
    "# gp_counts_overtime = exploded.groupby([pd.Grouper(key=date_col, freq='MS'), 'netmapper_identity_matches']).size().to_frame(name='count').reset_index(names=[date_col, 'identity_term'])\n",
    "gp_counts_overtime = incels_exploded.groupby([pd.Grouper(key=date_col, freq='MS'), 'identity_group']).size().to_frame(name='term_count').reset_index(names=[date_col, 'identity_group'])\n",
    "gp_counts_overtime\n",
    "\n",
    "gp_counts_overtime = gp_counts_overtime.join(word_counts, on=date_col).rename(columns={'content': 'word_count'})\n",
    "gp_counts_overtime\n",
    "\n",
    "import numpy as np\n",
    "\n",
    "gp_counts_overtime['mention_prob'] = gp_counts_overtime['term_count'] / gp_counts_overtime.word_count\n",
    "gp_counts_overtime['log_prob'] = gp_counts_overtime['mention_prob'].map(np.log10)\n",
    "gp_counts_overtime.head()"
   ]
  },
  {
   "cell_type": "code",
   "execution_count": null,
   "id": "140df928-327c-4048-9cfa-2dd6b1fc9a63",
   "metadata": {},
   "outputs": [],
   "source": [
    "# Plot\n",
    "import plotly.express as px\n",
    "\n",
    "overtime_selected_gps = [gp for gp in selected_gps if gp not in ['youth', 'mental_disabilities', 'white_people', 'asian_people']]\n",
    "\n",
    "# Select only most popular identity groups\n",
    "# filtered = counts_overtime[counts_overtime.identity_group.isin(gp_freq.identity_group.head(12))]\n",
    "filtered = gp_counts_overtime[gp_counts_overtime.identity_group.isin(overtime_selected_gps)]\n",
    "\n",
    "column_map = {'identity_group': 'Identity group', 'parsed_date': 'Date', 'log_prob': 'Log word probability'}\n",
    "formatted_filtered = filtered.rename(columns=column_map).replace({\n",
    "    'women_girls': 'Women',\n",
    "    'men_boys': 'Men',\n",
    "    'youth': 'Youth',\n",
    "    'mental_disabilities': 'Neurodiverse',\n",
    "    'lgbtq_people': 'LGBTQ+',\n",
    "    'asian_people': 'Asian',\n",
    "    'black_people': 'Black',\n",
    "    'white_people': 'White',\n",
    "    'jews': 'Jews',\n",
    "    'incels': 'Incels data<br>Expanded lexicon',\n",
    "    'incels_generic': 'Incels data<br>Generic lexicon',\n",
    "    'ws': 'White supremacist data<br>Generic lexicon',\n",
    "})\n",
    "\n",
    "\n",
    "fig = px.line(formatted_filtered, x=column_map[date_col], y=column_map['log_prob'], color=column_map['identity_group'], width=700, height=400)\n",
    "# px.line(filtered, x=date_col, y='mention_prob', color='identity_group', log_y=True)\n",
    "fig.update_layout(xaxis_title=None)\n",
    "fig.write_image('../output/identity_group_mentions_overtime.pdf')\n",
    "fig.show()"
   ]
  },
  {
   "cell_type": "code",
   "execution_count": 5,
   "id": "d7aa7c10-5d7f-46ca-8aee-98d3066f254c",
   "metadata": {
    "tags": []
   },
   "outputs": [
    {
     "ename": "KeyError",
     "evalue": "'Column not found: word_count'",
     "output_type": "error",
     "traceback": [
      "\u001b[0;31m---------------------------------------------------------------------------\u001b[0m",
      "\u001b[0;31mKeyError\u001b[0m                                  Traceback (most recent call last)",
      "Cell \u001b[0;32mIn[5], line 13\u001b[0m\n\u001b[1;32m      6\u001b[0m date_col \u001b[38;5;241m=\u001b[39m \u001b[38;5;124m'\u001b[39m\u001b[38;5;124mparsed_date\u001b[39m\u001b[38;5;124m'\u001b[39m \u001b[38;5;66;03m# for incels data\u001b[39;00m\n\u001b[1;32m      7\u001b[0m \u001b[38;5;66;03m# date_col = 'timestamp' # for white supremacist data, which has a lot of corpus composition changes during that period\u001b[39;00m\n\u001b[1;32m      8\u001b[0m \n\u001b[1;32m      9\u001b[0m \u001b[38;5;66;03m# Remove outliers (for white supremacist data)\u001b[39;00m\n\u001b[1;32m     10\u001b[0m \u001b[38;5;66;03m# data = data[data.timestamp >= datetime(2002, 1, 1, tzinfo=timezone.utc)]\u001b[39;00m\n\u001b[1;32m     11\u001b[0m \u001b[38;5;66;03m# exploded = exploded[exploded.timestamp >= datetime(2002, 1, 1, tzinfo=timezone.utc)]\u001b[39;00m\n\u001b[0;32m---> 13\u001b[0m word_counts \u001b[38;5;241m=\u001b[39m \u001b[43mdata\u001b[49m\u001b[38;5;241;43m.\u001b[39;49m\u001b[43mgroupby\u001b[49m\u001b[43m(\u001b[49m\u001b[43mpd\u001b[49m\u001b[38;5;241;43m.\u001b[39;49m\u001b[43mGrouper\u001b[49m\u001b[43m(\u001b[49m\u001b[43mkey\u001b[49m\u001b[38;5;241;43m=\u001b[39;49m\u001b[43mdate_col\u001b[49m\u001b[43m,\u001b[49m\u001b[43m \u001b[49m\u001b[43mfreq\u001b[49m\u001b[38;5;241;43m=\u001b[39;49m\u001b[38;5;124;43m'\u001b[39;49m\u001b[38;5;124;43mMS\u001b[39;49m\u001b[38;5;124;43m'\u001b[39;49m\u001b[43m)\u001b[49m\u001b[43m)\u001b[49m\u001b[43m[\u001b[49m\u001b[38;5;124;43m'\u001b[39;49m\u001b[38;5;124;43mword_count\u001b[39;49m\u001b[38;5;124;43m'\u001b[39;49m\u001b[43m]\u001b[49m\u001b[38;5;241m.\u001b[39msum()\n\u001b[1;32m     14\u001b[0m word_counts\n\u001b[1;32m     16\u001b[0m \u001b[38;5;66;03m# exploded = data.explode('netmapper_identity_matches').dropna(subset='netmapper_identity_matches')\u001b[39;00m\n\u001b[1;32m     17\u001b[0m \u001b[38;5;66;03m# counts_overtime = exploded.groupby([pd.Grouper(key=date_col, freq='MS'), 'netmapper_identity_matches']).size().to_frame(name='count').reset_index(names=[date_col, 'identity_term'])\u001b[39;00m\n",
      "File \u001b[0;32m~/incels_identities/conda_env/lib/python3.10/site-packages/pandas/core/groupby/generic.py:1416\u001b[0m, in \u001b[0;36mDataFrameGroupBy.__getitem__\u001b[0;34m(self, key)\u001b[0m\n\u001b[1;32m   1407\u001b[0m \u001b[38;5;28;01mif\u001b[39;00m \u001b[38;5;28misinstance\u001b[39m(key, \u001b[38;5;28mtuple\u001b[39m) \u001b[38;5;129;01mand\u001b[39;00m \u001b[38;5;28mlen\u001b[39m(key) \u001b[38;5;241m>\u001b[39m \u001b[38;5;241m1\u001b[39m:\n\u001b[1;32m   1408\u001b[0m     \u001b[38;5;66;03m# if len == 1, then it becomes a SeriesGroupBy and this is actually\u001b[39;00m\n\u001b[1;32m   1409\u001b[0m     \u001b[38;5;66;03m# valid syntax, so don't raise warning\u001b[39;00m\n\u001b[1;32m   1410\u001b[0m     warnings\u001b[38;5;241m.\u001b[39mwarn(\n\u001b[1;32m   1411\u001b[0m         \u001b[38;5;124m\"\u001b[39m\u001b[38;5;124mIndexing with multiple keys (implicitly converted to a tuple \u001b[39m\u001b[38;5;124m\"\u001b[39m\n\u001b[1;32m   1412\u001b[0m         \u001b[38;5;124m\"\u001b[39m\u001b[38;5;124mof keys) will be deprecated, use a list instead.\u001b[39m\u001b[38;5;124m\"\u001b[39m,\n\u001b[1;32m   1413\u001b[0m         \u001b[38;5;167;01mFutureWarning\u001b[39;00m,\n\u001b[1;32m   1414\u001b[0m         stacklevel\u001b[38;5;241m=\u001b[39mfind_stack_level(),\n\u001b[1;32m   1415\u001b[0m     )\n\u001b[0;32m-> 1416\u001b[0m \u001b[38;5;28;01mreturn\u001b[39;00m \u001b[38;5;28;43msuper\u001b[39;49m\u001b[43m(\u001b[49m\u001b[43m)\u001b[49m\u001b[38;5;241;43m.\u001b[39;49m\u001b[38;5;21;43m__getitem__\u001b[39;49m\u001b[43m(\u001b[49m\u001b[43mkey\u001b[49m\u001b[43m)\u001b[49m\n",
      "File \u001b[0;32m~/incels_identities/conda_env/lib/python3.10/site-packages/pandas/core/base.py:248\u001b[0m, in \u001b[0;36mSelectionMixin.__getitem__\u001b[0;34m(self, key)\u001b[0m\n\u001b[1;32m    246\u001b[0m \u001b[38;5;28;01melse\u001b[39;00m:\n\u001b[1;32m    247\u001b[0m     \u001b[38;5;28;01mif\u001b[39;00m key \u001b[38;5;129;01mnot\u001b[39;00m \u001b[38;5;129;01min\u001b[39;00m \u001b[38;5;28mself\u001b[39m\u001b[38;5;241m.\u001b[39mobj:\n\u001b[0;32m--> 248\u001b[0m         \u001b[38;5;28;01mraise\u001b[39;00m \u001b[38;5;167;01mKeyError\u001b[39;00m(\u001b[38;5;124mf\u001b[39m\u001b[38;5;124m\"\u001b[39m\u001b[38;5;124mColumn not found: \u001b[39m\u001b[38;5;132;01m{\u001b[39;00mkey\u001b[38;5;132;01m}\u001b[39;00m\u001b[38;5;124m\"\u001b[39m)\n\u001b[1;32m    249\u001b[0m     subset \u001b[38;5;241m=\u001b[39m \u001b[38;5;28mself\u001b[39m\u001b[38;5;241m.\u001b[39mobj[key]\n\u001b[1;32m    250\u001b[0m     ndim \u001b[38;5;241m=\u001b[39m subset\u001b[38;5;241m.\u001b[39mndim\n",
      "\u001b[0;31mKeyError\u001b[0m: 'Column not found: word_count'"
     ]
    }
   ],
   "source": [
    "# For white supremacist data\n",
    "\n",
    "from datetime import datetime, timezone\n",
    "\n",
    "# post_counts = data.groupby(pd.Grouper(key=date_col, freq='MS'))['content'].count()\n",
    "# data['word_count'] = data.content.str.split().str.len() # for incels data\n",
    "\n",
    "date_col = 'parsed_date' # for incels data\n",
    "# date_col = 'timestamp' # for white supremacist data, which has a lot of corpus composition changes during that period\n",
    "\n",
    "# Remove outliers (for white supremacist data)\n",
    "# data = data[data.timestamp >= datetime(2002, 1, 1, tzinfo=timezone.utc)]\n",
    "# exploded = exploded[exploded.timestamp >= datetime(2002, 1, 1, tzinfo=timezone.utc)]\n",
    "\n",
    "word_counts = data.groupby(pd.Grouper(key=date_col, freq='MS'))['word_count'].sum()\n",
    "word_counts\n",
    "\n",
    "# exploded = data.explode('netmapper_identity_matches').dropna(subset='netmapper_identity_matches')\n",
    "# counts_overtime = exploded.groupby([pd.Grouper(key=date_col, freq='MS'), 'netmapper_identity_matches']).size().to_frame(name='count').reset_index(names=[date_col, 'identity_term'])\n",
    "counts_overtime = exploded.groupby([pd.Grouper(key=date_col, freq='MS'), 'identity_group']).size().to_frame(name='term_count').reset_index(names=[date_col, 'identity_group'])\n",
    "counts_overtime\n",
    "\n",
    "counts_overtime = counts_overtime.join(word_counts, on=date_col).rename(columns={'content': 'word_count'})\n",
    "counts_overtime\n",
    "\n",
    "import numpy as np\n",
    "\n",
    "counts_overtime['mention_prob'] = counts_overtime['term_count'] / counts_overtime.word_count\n",
    "counts_overtime['log_prob'] = counts_overtime['mention_prob'].map(np.log10)\n",
    "counts_overtime.head()\n",
    "\n",
    "# Plot\n",
    "import plotly.express as px\n",
    "\n",
    "# Select only most popular identity groups\n",
    "filtered = counts_overtime[counts_overtime.identity_group.isin(gp_freq.identity_group.head(11))]\n",
    "\n",
    "# px.line(filtered, x=date_col, y='count', color='identity_term')\n",
    "px.line(filtered, x=date_col, y='log_prob', color='identity_group', height=500)\n",
    "# px.line(filtered, x=date_col, y='mention_prob', color='identity_group', log_y=True)"
   ]
  },
  {
   "cell_type": "markdown",
   "id": "4e58cb7b-a086-483a-b4ec-a8aeecf0258a",
   "metadata": {
    "tags": []
   },
   "source": [
    "## Identity categories"
   ]
  },
  {
   "cell_type": "code",
   "execution_count": 6,
   "id": "972b0272-ea52-467c-b4b3-ca9125d4af83",
   "metadata": {},
   "outputs": [
    {
     "name": "stdout",
     "output_type": "stream",
     "text": [
      "433\n"
     ]
    },
    {
     "data": {
      "text/plain": [
       "gender/sexuality    4973903\n",
       "race/ethnicity       564427\n",
       "age                  314530\n",
       "religion             205440\n",
       "politics              68737\n",
       "disability             3411\n",
       "Name: identity_category, dtype: int64"
      ]
     },
     "execution_count": 6,
     "metadata": {},
     "output_type": "execute_result"
    }
   ],
   "source": [
    "import json\n",
    "\n",
    "identity_cats_fpath = '../resources/identity_categories.json'\n",
    "with open(identity_cats_fpath, 'r') as f:\n",
    "    identity_cats = json.load(f)\n",
    "print(len(identity_cats))\n",
    "\n",
    "incels_exploded['identity_category'] = incels_exploded.identity_group.map(identity_cats)\n",
    "cat_freq = incels_exploded.identity_category.value_counts()\n",
    "cat_freq"
   ]
  },
  {
   "cell_type": "code",
   "execution_count": null,
   "id": "b684b814-7e3b-47ce-a7f1-73a7d24d817a",
   "metadata": {},
   "outputs": [],
   "source": [
    "import plotly.express as px\n",
    "pd.options.plotting.backend = 'plotly'\n",
    "\n",
    "fig = px.bar(cat_freq)\n",
    "fig.show()"
   ]
  },
  {
   "cell_type": "code",
   "execution_count": 33,
   "id": "00f172d0-1177-4c85-8fac-22b8b468322c",
   "metadata": {},
   "outputs": [
    {
     "name": "stdout",
     "output_type": "stream",
     "text": [
      "race/ethnicity: ['black_people', 'asian_people', 'white_people']\n",
      "gender/sexuality: ['men_boys', 'women_girls', 'lgbtq_people']\n",
      "age: ['youth', 'boomers']\n",
      "disability: ['retard']\n",
      "religion: ['jews', 'muslims', 'christian', 'hindus', 'buddhists']\n",
      "politics: ['liberal', 'conservative']\n"
     ]
    }
   ],
   "source": [
    "from collections import defaultdict\n",
    "\n",
    "cat_vals = defaultdict(list)\n",
    "for key, val in identity_cats.items():\n",
    "    cat_vals[val].append(key)\n",
    "        \n",
    "for cat, terms in cat_vals.items():\n",
    "    print(f'{cat}: {terms}')"
   ]
  },
  {
   "cell_type": "markdown",
   "id": "1480d751-140b-4c1b-acd4-453f52480ef1",
   "metadata": {},
   "source": [
    "### Identity categories over time"
   ]
  },
  {
   "cell_type": "code",
   "execution_count": null,
   "id": "11c5913a-840d-4411-bc10-dcd8a95ff568",
   "metadata": {
    "tags": []
   },
   "outputs": [],
   "source": [
    "# post_counts = data.groupby(pd.Grouper(key='parsed_date', freq='MS'))['content'].count()\n",
    "# data['word_count'] = data.content.str.split().str.len() # already done from identity grouping\n",
    "\n",
    "word_counts = incels_data.groupby(pd.Grouper(key='parsed_date', freq='MS'))['word_count'].sum()\n",
    "word_counts\n",
    "\n",
    "cat_counts_overtime = incels_exploded.groupby([pd.Grouper(key='parsed_date', freq='MS'), 'identity_category']).size().to_frame(name='mention_count').reset_index(names=['parsed_date', 'identity_category'])\n",
    "cat_counts_overtime\n",
    "\n",
    "cat_counts_overtime = cat_counts_overtime.join(word_counts, on='parsed_date').rename(columns={'content': 'word_count'})\n",
    "cat_counts_overtime\n",
    "\n",
    "import numpy as np\n",
    "\n",
    "cat_counts_overtime['mention_prob'] = cat_counts_overtime['mention_count'] / cat_counts_overtime.word_count\n",
    "cat_counts_overtime['log_prob'] = cat_counts_overtime['mention_prob'].map(np.log10)\n",
    "cat_counts_overtime\n",
    "\n",
    "# Plot\n",
    "import plotly.express as px\n",
    "\n",
    "px.line(cat_counts_overtime, x='parsed_date', y='log_prob', color='identity_category', height=400)"
   ]
  },
  {
   "cell_type": "markdown",
   "id": "33880382-08ee-4a08-bcbb-0dcd17f4ee3d",
   "metadata": {},
   "source": [
    "## Plot over time mentions for the paper"
   ]
  },
  {
   "cell_type": "code",
   "execution_count": 59,
   "id": "054897c2-42ab-4dcc-b91d-1b94579f9612",
   "metadata": {},
   "outputs": [
    {
     "data": {
      "text/html": [
       "<div>\n",
       "<style scoped>\n",
       "    .dataframe tbody tr th:only-of-type {\n",
       "        vertical-align: middle;\n",
       "    }\n",
       "\n",
       "    .dataframe tbody tr th {\n",
       "        vertical-align: top;\n",
       "    }\n",
       "\n",
       "    .dataframe thead th {\n",
       "        text-align: right;\n",
       "    }\n",
       "</style>\n",
       "<table border=\"1\" class=\"dataframe\">\n",
       "  <thead>\n",
       "    <tr style=\"text-align: right;\">\n",
       "      <th></th>\n",
       "      <th>parsed_date</th>\n",
       "      <th>identity_category</th>\n",
       "      <th>mention_count</th>\n",
       "      <th>word_count</th>\n",
       "      <th>mention_prob</th>\n",
       "      <th>log_prob</th>\n",
       "    </tr>\n",
       "  </thead>\n",
       "  <tbody>\n",
       "    <tr>\n",
       "      <th>0</th>\n",
       "      <td>2017-11-01</td>\n",
       "      <td>age</td>\n",
       "      <td>2845</td>\n",
       "      <td>3106117</td>\n",
       "      <td>0.000916</td>\n",
       "      <td>-3.038136</td>\n",
       "    </tr>\n",
       "    <tr>\n",
       "      <th>1</th>\n",
       "      <td>2017-11-01</td>\n",
       "      <td>disability</td>\n",
       "      <td>30</td>\n",
       "      <td>3106117</td>\n",
       "      <td>0.000010</td>\n",
       "      <td>-5.015097</td>\n",
       "    </tr>\n",
       "    <tr>\n",
       "      <th>2</th>\n",
       "      <td>2017-11-01</td>\n",
       "      <td>gender/sexuality</td>\n",
       "      <td>68273</td>\n",
       "      <td>3106117</td>\n",
       "      <td>0.021980</td>\n",
       "      <td>-1.657969</td>\n",
       "    </tr>\n",
       "    <tr>\n",
       "      <th>3</th>\n",
       "      <td>2017-11-01</td>\n",
       "      <td>politics</td>\n",
       "      <td>537</td>\n",
       "      <td>3106117</td>\n",
       "      <td>0.000173</td>\n",
       "      <td>-3.762244</td>\n",
       "    </tr>\n",
       "    <tr>\n",
       "      <th>4</th>\n",
       "      <td>2017-11-01</td>\n",
       "      <td>race/ethnicity</td>\n",
       "      <td>5589</td>\n",
       "      <td>3106117</td>\n",
       "      <td>0.001799</td>\n",
       "      <td>-2.744884</td>\n",
       "    </tr>\n",
       "    <tr>\n",
       "      <th>...</th>\n",
       "      <td>...</td>\n",
       "      <td>...</td>\n",
       "      <td>...</td>\n",
       "      <td>...</td>\n",
       "      <td>...</td>\n",
       "      <td>...</td>\n",
       "    </tr>\n",
       "    <tr>\n",
       "      <th>247</th>\n",
       "      <td>2021-04-01</td>\n",
       "      <td>disability</td>\n",
       "      <td>10</td>\n",
       "      <td>1321763</td>\n",
       "      <td>0.000008</td>\n",
       "      <td>-5.121154</td>\n",
       "    </tr>\n",
       "    <tr>\n",
       "      <th>248</th>\n",
       "      <td>2021-04-01</td>\n",
       "      <td>gender/sexuality</td>\n",
       "      <td>26992</td>\n",
       "      <td>1321763</td>\n",
       "      <td>0.020421</td>\n",
       "      <td>-1.689919</td>\n",
       "    </tr>\n",
       "    <tr>\n",
       "      <th>249</th>\n",
       "      <td>2021-04-01</td>\n",
       "      <td>politics</td>\n",
       "      <td>691</td>\n",
       "      <td>1321763</td>\n",
       "      <td>0.000523</td>\n",
       "      <td>-3.281676</td>\n",
       "    </tr>\n",
       "    <tr>\n",
       "      <th>250</th>\n",
       "      <td>2021-04-01</td>\n",
       "      <td>race/ethnicity</td>\n",
       "      <td>6480</td>\n",
       "      <td>1321763</td>\n",
       "      <td>0.004903</td>\n",
       "      <td>-2.309579</td>\n",
       "    </tr>\n",
       "    <tr>\n",
       "      <th>251</th>\n",
       "      <td>2021-04-01</td>\n",
       "      <td>religion</td>\n",
       "      <td>2135</td>\n",
       "      <td>1321763</td>\n",
       "      <td>0.001615</td>\n",
       "      <td>-2.791756</td>\n",
       "    </tr>\n",
       "  </tbody>\n",
       "</table>\n",
       "<p>252 rows × 6 columns</p>\n",
       "</div>"
      ],
      "text/plain": [
       "    parsed_date identity_category  mention_count  word_count  mention_prob  \\\n",
       "0    2017-11-01               age           2845     3106117      0.000916   \n",
       "1    2017-11-01        disability             30     3106117      0.000010   \n",
       "2    2017-11-01  gender/sexuality          68273     3106117      0.021980   \n",
       "3    2017-11-01          politics            537     3106117      0.000173   \n",
       "4    2017-11-01    race/ethnicity           5589     3106117      0.001799   \n",
       "..          ...               ...            ...         ...           ...   \n",
       "247  2021-04-01        disability             10     1321763      0.000008   \n",
       "248  2021-04-01  gender/sexuality          26992     1321763      0.020421   \n",
       "249  2021-04-01          politics            691     1321763      0.000523   \n",
       "250  2021-04-01    race/ethnicity           6480     1321763      0.004903   \n",
       "251  2021-04-01          religion           2135     1321763      0.001615   \n",
       "\n",
       "     log_prob  \n",
       "0   -3.038136  \n",
       "1   -5.015097  \n",
       "2   -1.657969  \n",
       "3   -3.762244  \n",
       "4   -2.744884  \n",
       "..        ...  \n",
       "247 -5.121154  \n",
       "248 -1.689919  \n",
       "249 -3.281676  \n",
       "250 -2.309579  \n",
       "251 -2.791756  \n",
       "\n",
       "[252 rows x 6 columns]"
      ]
     },
     "execution_count": 59,
     "metadata": {},
     "output_type": "execute_result"
    }
   ],
   "source": [
    "cat_counts_overtime"
   ]
  },
  {
   "cell_type": "code",
   "execution_count": 60,
   "id": "3a38c279-f376-4d0e-969e-9f4664df035d",
   "metadata": {},
   "outputs": [],
   "source": [
    "cat_counts_overtime['identity_group'] = cat_counts_overtime['identity_category']\n",
    "selected_cat_counts_overtime = cat_counts_overtime[cat_counts_overtime['identity_group']=='politics']"
   ]
  },
  {
   "cell_type": "code",
   "execution_count": null,
   "id": "6a7c80ff-8b27-452c-81d4-79ef15e87b2c",
   "metadata": {},
   "outputs": [],
   "source": [
    "# Plot\n",
    "import plotly.express as px\n",
    "\n",
    "overtime_selected_gps = [gp for gp in selected_gps if gp not in ['youth', 'mental_disabilities', 'white_people', 'asian_people']]\n",
    "\n",
    "# Select only most popular identity groups\n",
    "# filtered = counts_overtime[counts_overtime.identity_group.isin(gp_freq.identity_group.head(12))]\n",
    "filtered = pd.concat([gp_counts_overtime[gp_counts_overtime.identity_group.isin(overtime_selected_gps)], selected_cat_counts_overtime])\n",
    "\n",
    "column_map = {'identity_group': 'Identity group/category', 'parsed_date': 'Date', 'log_prob': 'Log word probability'}\n",
    "formatted_filtered = filtered.rename(columns=column_map).replace({\n",
    "    'women_girls': 'Women',\n",
    "    'men_boys': 'Men',\n",
    "    'youth': 'Youth',\n",
    "    'mental_disabilities': 'Neurodiverse',\n",
    "    'lgbtq_people': 'LGBTQ+',\n",
    "    'asian_people': 'Asian',\n",
    "    'black_people': 'Black',\n",
    "    'white_people': 'White',\n",
    "    'jews': 'Jews',\n",
    "    'incels': 'Incels data<br>Expanded lexicon',\n",
    "    'incels_generic': 'Incels data<br>Generic lexicon',\n",
    "    'ws': 'White supremacist data<br>Generic lexicon',\n",
    "    'politics': 'Politics'\n",
    "})\n",
    "\n",
    "\n",
    "fig = px.line(formatted_filtered, x=column_map[date_col], y=column_map['log_prob'], color=column_map['identity_group'], width=800, height=400)\n",
    "# px.line(filtered, x=date_col, y='mention_prob', color='identity_group', log_y=True)\n",
    "fig.update_layout(xaxis_title=None)\n",
    "fig.write_image('../output/identity_group_mentions_overtime.pdf')\n",
    "fig.write_image('../output/identity_group_mentions_overtime.png', scale=3)\n",
    "fig.show()"
   ]
  },
  {
   "cell_type": "markdown",
   "id": "1c6f5152-2d1d-497d-b83d-7d046ae591ff",
   "metadata": {},
   "source": [
    "## Look into specific time periods"
   ]
  },
  {
   "cell_type": "code",
   "execution_count": 18,
   "id": "0b03c5f2-8295-4864-bdd9-e1bc74eb4246",
   "metadata": {},
   "outputs": [
    {
     "name": "stdout",
     "output_type": "stream",
     "text": [
      "<class 'pandas.core.frame.DataFrame'>\n",
      "Int64Index: 327498 entries, 914 to 6247220\n",
      "Data columns (total 13 columns):\n",
      " #   Column                            Non-Null Count   Dtype              \n",
      "---  ------                            --------------   -----              \n",
      " 0   type                              327498 non-null  object             \n",
      " 1   forum                             327498 non-null  object             \n",
      " 2   thread                            327498 non-null  object             \n",
      " 3   username                          327498 non-null  object             \n",
      " 4   date                              327498 non-null  object             \n",
      " 5   content                           327498 non-null  object             \n",
      " 6   parsed_date                       327498 non-null  datetime64[ns, UTC]\n",
      " 7   content_orig                      325520 non-null  object             \n",
      " 8   netmapper_identity_matches        266129 non-null  object             \n",
      " 9   netmapper_identity_matches_spans  327498 non-null  object             \n",
      " 10  actions_attributes                327498 non-null  object             \n",
      " 11  identity_group                    266129 non-null  object             \n",
      " 12  identity_category                 156289 non-null  object             \n",
      "dtypes: datetime64[ns, UTC](1), object(12)\n",
      "memory usage: 35.0+ MB\n",
      "2019-10-01 00:00:00+00:00\n",
      "2019-10-31 00:00:00+00:00\n"
     ]
    }
   ],
   "source": [
    "# Filter data to that month\n",
    "\n",
    "# April 2020 jump in women_girls_derogatory and black_people\n",
    "# period = incels_exploded[(exploded.parsed_date.dt.year == 2020) & (exploded.parsed_date.dt.month == 4)]\n",
    "\n",
    "# Aug 2019 peak before mentions of Jews drop\n",
    "# period = incels_exploded[(incels_exploded.parsed_date.dt.year == 2019) & (incels_exploded.parsed_date.dt.month == 8)]\n",
    "\n",
    "# Nov 2019 mentions of Jews drop\n",
    "period = incels_exploded[(incels_exploded.parsed_date.dt.year == 2019) & (incels_exploded.parsed_date.dt.month == 10)]\n",
    "period.info()\n",
    "print(period.parsed_date.min())\n",
    "print(period.parsed_date.max())"
   ]
  },
  {
   "cell_type": "code",
   "execution_count": null,
   "id": "c4e86755-46f0-43c9-bdcf-3d682ea5c0fb",
   "metadata": {},
   "outputs": [],
   "source": [
    "# identity_group = 'black_people'\n",
    "identity_group = 'jews'\n",
    "# identity_group = 'women_girls_derogatory'\n",
    "selected = period[period.identity_group == identity_group]\n",
    "print(len(selected))\n",
    "print(len(selected.index.unique())) # index is unique to the post\n",
    "\n",
    "# selected.index.value_counts().iloc[:20] # posts with most mentions of that group\n",
    "selected[['content', 'parsed_date']].sample(10, random_state=9)"
   ]
  },
  {
   "cell_type": "code",
   "execution_count": 11,
   "id": "c3be74a3-5559-4cef-a8e8-a721770f3f12",
   "metadata": {
    "scrolled": true,
    "tags": []
   },
   "outputs": [
    {
     "data": {
      "text/plain": [
       "type                                                                                                                                                                                                                                                                                                                                                                                                                                                                                                                                                                                                                                                                                                                                                                                                                                                                                                                                                                                                                                                                                                                                                                                                                                                                                                                                                                                                                                                                                                                                                                                                                                                                                                                                                                                                                                                                                                                                                                                                                                                                                                                                                                                                                                                                                                                                                                                                                                                                                                                                                                                                                                                                                                                                                                                                                                                                                                                                                                                                                                                                                                                                                                                                                                                                                                                                                                                                                                                                                                                                                                                                                                                                                                                                                                                                                                                                                                                                                                                                                                                                                                                                                                                                                                                                                                                                                                                                                                                                                                                                                                                                                                                                                                                                                                                                                                                                                                                                                                                                                                                                                                                                                                                                                                                                                                                                                                                                                                                                                                                                                                                                                                                                                                                                                                                                                                                                                                                                                                                                                                                                                                                                                                                                                                                                                                                                                                                                                                                                                                                                                                                                                                                                                                                                                                                                                                                                                                                                                                                                                                                                                                                                                                                                                                                                                                                                                                                                                                                                                                                                                                                                                                                                                                                                                                                                                                                                                                                                                                                                                                                                                                                                                                                                                                                                                                                                                                                                                                                                                                                                                                                                                                                                                                                                                                                                                                                                                                                                                                                                                                                                                                                                                                                                                                                                                                                                                                                                                                                                                                                                                                                                                                                                                                                                                                                                                                                                                                                                                                                                                                                                                                                                                                                                                                                                                                                                                                                                                                                                                                                                                                                                                                                                                                                                                                                                                                                                                                                                                                                                                                                                                                                                                                                                                                                                                                                                                                                                                                                                                                                                                                                                                                                                                                                                                                                                                                                                                                                                                                                                                                                                                                                                                                                                                                                                                                                                                                                                                                                                                                                                                                                                                                                                                                                                                                                                                                                                                                                                                                                                                                                                                                                                                                                                                                                                                                                                                                                                                                                                                                                                                                                                                                                                                                                                                                                                                                                                                                                                                                                                                                                                                                                                                                                                                                                                                                                                                                                                                                                                                                                                                                                                     COMMENT\n",
       "forum                                                                                                                                                                                                                                                                                                                                                                                                                                                                                                                                                                                                                                                                                                                                                                                                                                                                                                                                                                                                                                                                                                                                                                                                                                                                                                                                                                                                                                                                                                                                                                                                                                                                                                                                                                                                                                                                                                                                                                                                                                                                                                                                                                                                                                                                                                                                                                                                                                                                                                                                                                                                                                                                                                                                                                                                                                                                                                                                                                                                                                                                                                                                                                                                                                                                                                                                                                                                                                                                                                                                                                                                                                                                                                                                                                                                                                                                                                                                                                                                                                                                                                                                                                                                                                                                                                                                                                                                                                                                                                                                                                                                                                                                                                                                                                                                                                                                                                                                                                                                                                                                                                                                                                                                                                                                                                                                                                                                                                                                                                                                                                                                                                                                                                                                                                                                                                                                                                                                                                                                                                                                                                                                                                                                                                                                                                                                                                                                                                                                                                                                                                                                                                                                                                                                                                                                                                                                                                                                                                                                                                                                                                                                                                                                                                                                                                                                                                                                                                                                                                                                                                                                                                                                                                                                                                                                                                                                                                                                                                                                                                                                                                                                                                                                                                                                                                                                                                                                                                                                                                                                                                                                                                                                                                                                                                                                                                                                                                                                                                                                                                                                                                                                                                                                                                                                                                                                                                                                                                                                                                                                                                                                                                                                                                                                                                                                                                                                                                                                                                                                                                                                                                                                                                                                                                                                                                                                                                                                                                                                                                                                                                                                                                                                                                                                                                                                                                                                                                                                                                                                                                                                                                                                                                                                                                                                                                                                                                                                                                                                                                                                                                                                                                                                                                                                                                                                                                                                                                                                                                                                                                                                                                                                                                                                                                                                                                                                                                                                                                                                                                                                                                                                                                                                                                                                                                                                                                                                                                                                                                                                                                                                                                                                                                                                                                                                                                                                                                                                                                                                                                                                                                                                                                                                                                                                                                                                                                                                                                                                                                                                                                                                                                                                                                                                                                                                                                                                                                                                                                                                                                                                                                                     002-InceldomDiscussion\n",
       "thread                                                                                                                                                                                                                                                                                                                                                                                                                                                                                                                                                                                                                                                                                                                                                                                                                                                                                                                                                                                                                                                                                                                                                                                                                                                                                                                                                                                                                                                                                                                                                                                                                                                                                                                                                                                                                                                                                                                                                                                                                                                                                                                                                                                                                                                                                                                                                                                                                                                                                                                                                                                                                                                                                                                                                                                                                                                                                                                                                                                                                                                                                                                                                                                                                                                                                                                                                                                                                                                                                                                                                                                                                                                                                                                                                                                                                                                                                                                                                                                                                                                                                                                                                                                                                                                                                                                                                                                                                                                                                                                                                                                                                                                                                                                                                                                                                                                                                                                                                                                                                                                                                                                                                                                                                                                                                                                                                                                                                                                                                                                                                                                                                                                                                                                                                                                                                                                                                                                                                                                                                                                                                                                                                                                                                                                                                                                                                                                                                                                                                                                                                                                                                                                                                                                                                                                                                                                                                                                                                                                                                                                                                                                                                                                                                                                                                                                                                                                                                                                                                                                                                                                                                                                                                                                                                                                                                                                                                                                                                                                                                                                                                                                                                                                                                                                                                                                                                                                                                                                                                                                                                                                                                                                                                                                                                                                                                                                                                                                                                                                                                                                                                                                                                                                                                                                                                                                                                                                                                                                                                                                                                                                                                                                                                                                                                                                                                                                                                                                                                                                                                                                                                                                                                                                                                                                                                                                                                                                                                                                                                                                                                                                                                                                                                                                                                                                                                                                                                                                                                                                                                                                                                                                                                                                                                                                                                                                                                                                                                                                                                                                                                                                                                                                                                                                                                                                                                                                                                                                                                                                                                                                                                                                                                                                                                                                                                                                                                                                                                                                                                                                                                                                                                                                                                                                                                                                                                                                                                                                                                                                                                                                                                                                                                                                                                                                                                                                                                                                                                                                                                                                                                                                                                                                                                                                                                                                                                                                                                                                                                                                                                                                                                                                                                                                                                                                                                                                                                                                                                                                                                                                                                                          0051306-Ifyoureanantisemiteyoumi\n",
       "username                                                                                                                                                                                                                                                                                                                                                                                                                                                                                                                                                                                                                                                                                                                                                                                                                                                                                                                                                                                                                                                                                                                                                                                                                                                                                                                                                                                                                                                                                                                                                                                                                                                                                                                                                                                                                                                                                                                                                                                                                                                                                                                                                                                                                                                                                                                                                                                                                                                                                                                                                                                                                                                                                                                                                                                                                                                                                                                                                                                                                                                                                                                                                                                                                                                                                                                                                                                                                                                                                                                                                                                                                                                                                                                                                                                                                                                                                                                                                                                                                                                                                                                                                                                                                                                                                                                                                                                                                                                                                                                                                                                                                                                                                                                                                                                                                                                                                                                                                                                                                                                                                                                                                                                                                                                                                                                                                                                                                                                                                                                                                                                                                                                                                                                                                                                                                                                                                                                                                                                                                                                                                                                                                                                                                                                                                                                                                                                                                                                                                                                                                                                                                                                                                                                                                                                                                                                                                                                                                                                                                                                                                                                                                                                                                                                                                                                                                                                                                                                                                                                                                                                                                                                                                                                                                                                                                                                                                                                                                                                                                                                                                                                                                                                                                                                                                                                                                                                                                                                                                                                                                                                                                                                                                                                                                                                                                                                                                                                                                                                                                                                                                                                                                                                                                                                                                                                                                                                                                                                                                                                                                                                                                                                                                                                                                                                                                                                                                                                                                                                                                                                                                                                                                                                                                                                                                                                                                                                                                                                                                                                                                                                                                                                                                                                                                                                                                                                                                                                                                                                                                                                                                                                                                                                                                                                                                                                                                                                                                                                                                                                                                                                                                                                                                                                                                                                                                                                                                                                                                                                                                                                                                                                                                                                                                                                                                                                                                                                                                                                                                                                                                                                                                                                                                                                                                                                                                                                                                                                                                                                                                                                                                                                                                                                                                                                                                                                                                                                                                                                                                                                                                                                                                                                                                                                                                                                                                                                                                                                                                                                                                                                                                                                                                                                                                                                                                                                                                                                                                                                                                                                                                                                                Fat Link\n",
       "date                                                                                                                                                                                                                                                                                                                                                                                                                                                                                                                                                                                                                                                                                                                                                                                                                                                                                                                                                                                                                                                                                                                                                                                                                                                                                                                                                                                                                                                                                                                                                                                                                                                                                                                                                                                                                                                                                                                                                                                                                                                                                                                                                                                                                                                                                                                                                                                                                                                                                                                                                                                                                                                                                                                                                                                                                                                                                                                                                                                                                                                                                                                                                                                                                                                                                                                                                                                                                                                                                                                                                                                                                                                                                                                                                                                                                                                                                                                                                                                                                                                                                                                                                                                                                                                                                                                                                                                                                                                                                                                                                                                                                                                                                                                                                                                                                                                                                                                                                                                                                                                                                                                                                                                                                                                                                                                                                                                                                                                                                                                                                                                                                                                                                                                                                                                                                                                                                                                                                                                                                                                                                                                                                                                                                                                                                                                                                                                                                                                                                                                                                                                                                                                                                                                                                                                                                                                                                                                                                                                                                                                                                                                                                                                                                                                                                                                                                                                                                                                                                                                                                                                                                                                                                                                                                                                                                                                                                                                                                                                                                                                                                                                                                                                                                                                                                                                                                                                                                                                                                                                                                                                                                                                                                                                                                                                                                                                                                                                                                                                                                                                                                                                                                                                                                                                                                                                                                                                                                                                                                                                                                                                                                                                                                                                                                                                                                                                                                                                                                                                                                                                                                                                                                                                                                                                                                                                                                                                                                                                                                                                                                                                                                                                                                                                                                                                                                                                                                                                                                                                                                                                                                                                                                                                                                                                                                                                                                                                                                                                                                                                                                                                                                                                                                                                                                                                                                                                                                                                                                                                                                                                                                                                                                                                                                                                                                                                                                                                                                                                                                                                                                                                                                                                                                                                                                                                                                                                                                                                                                                                                                                                                                                                                                                                                                                                                                                                                                                                                                                                                                                                                                                                                                                                                                                                                                                                                                                                                                                                                                                                                                                                                                                                                                                                                                                                                                                                                                                                                                                                                                                                                                                                                Aug 24, 2019\n",
       "content                               what do you mean by \" kill off \" , whites are n't being killed off , they 're being bred out of existence , completely different all that matters at the end of the day is that the result is the same but on top of that we are being literally killed off as well by jewish design since it was jews behind both the civil wrongs bowel movement that allowed dangerous violent out of control blacks to have closer proximity to us so as to better facilitate their rape , robbery and murder of us , not to mention jews were also behind the illegal mestizo invasion that is dissplacing and literally killing whites in our own homeland , which also aids the jewish cause of white genocide and of course everyone knows jews have used their mass media and hollywood control to paint a false narrative of white on black / non white victimization , leaving out the whole truth of course that it was jews who were the actual driving force behind black african slavery as they owned all the slave ships that brought blacks over here and were the primary enslavers of black africans . jews also downplay that it was white europeans not jewry or even blacks themselves that ultimately decided to free blacks . all of these jew lies of course only make the non white hordes more dangerous than they are even by their violent nature as they then learn from jewish sources to hate whites and blame us for all their problems and either beat , rob or at worst murder us when they feel they are at the lowest point in their lives and that perhaps harming / killing a white will make them feel better for a moment as after all \" dat dare crakkka deserved it , evil ol wicked devil slave masta he isss ! \"   and so is every other race , the difference is every other race see 's themselves as \" ethnic \" and white people as \" white people \" , due to how white people have set up racial dynamics , as white people themselves see the races this way , so ethnics do n't care so much about interracial breeding , because from their perspective they 're just making more ethnics , just with slight variations so this does n't really affect ethnics at all jews control the mass media and government as well acadamia so its jews who have set up the racial dynamics in this country not white people . jews encourage a heavy individualist mindset in whites as they do n't want us seeing eachother as co - ethnics / kinsmen / a tribe like all the other racial groups because they know once we unite its usually over for them . its also a misconception that we 've \" never beaten them before \" . we threw their sorry asses out of our white nations 109 times throughout history , confined them to ghettos , staged pogroms against them for their crimes and they were under rome 's thumb and regularly massacred when they got out of line by the romans so they have n't always been the \" big bad jews \" they are regularly viewed as today due to their wwii victory ( even though they had control of three major world powers even before the axis powers fell ) . its only when the jew 's invented their ultimate golem / weapon / psyche warfare totem known as christ insanity did they ever really start to be able to chip away at whites little by little until the cuck cult of christ the jew finally managed to finish off the roman empire and the original pagan world . as i pointed out before they still despite the cuck cult got their asses handed to them by us ( whites ) historically but the christ cult ultimately allowed them to get such a control over the white goyim that they used us and their christian manifest destiny doctrine to conquer the world via white military might / muscle leading to our disasterous present zog situation where the entire world is on the verge of a nightmare total communist nwo control aparatus we all might never proverbially wake up from . anyway i digress . non whites are by nature low iq and shortsighted and so are easily malleable to whatever end goals and gains against whites the jews want to use them for .   so the ultimate er then , i 'm for that personally i 'd rather see jews gone than the rest of us , as its my full belief we can only see the true nature of humanity once jews and their malicious intent are removed from among our species .   what do we get out of them being beaten , the world will never go back to what it was , if you tell me that after getting rid of the jews we will 100 % definitely strip women of their rights , maybe i 'd be for it , but that 's never going to happen as i just pointed out with them beaten / gone / what have you , we 'll finally get to see the true nature of humanity . jews continually bleat that human nature is ugly ( which is them projecting because their nature is ugly ) . we can only begin to see the truth once they and their malicious intent are removed from amongst our species . in the past humans had totally peaceful societies like cahokia which i believe was referred to as \" the city of the sun \" . so you mistake me if you think i want the american 1950 's back . no sir . i 'm no tradcuck . i 'd like to see something new and something far older ( think evolian as in julius evola 's ideas ) to come to the fore for the human species . i want a new and better kind of society to arise , but imbibed with more ancient human values that worked to make us a peaceful and proud people in the long ago past , combined with any new and useful values the new generations can come up with , without rabbis on talmudvision whispering filth , hate and lies in people 's ears 24/7 . without jews filling the airwaves and propaganda aparatuses with filth 24/7 eventually women would revert to their natural feminine nature of being passive , submissive and kind and men would become men again and lose the faggot anime , the ear gauges , the soy , the beta nature and the disgusting sneakiness mentality that is prevalent these days where you ca n't trust any of these bastards as far as you could throw them . a man 's word would mean something again basically .   so try and understand my perspective here i do but i do n't think you understand just how profound a healing society as a whole would undergo without jewish influence any longer prevalent over it . everything and everyone would improve literally overnight . i 'm not saying we 'd have a full blown utopia right away or anything but damn we would certainly be on our way to such a thing .   my perspective is that its too fargone a situation to salvage , if we get rid of the jews it only benefits chad and stacey , because women keep their rights , they still get to be hypergamous , and they get to enjoy all that shit on top of living without the jews who fuck with their lives , they get the best of everything and incels , especially ethnic incels , get nothing you 're correct that this situation is too far gone to salvage ie zog usa , zog britain and zog russia as well zog china all need to be reduced to rubble along with israel but after is when we can rebuild . that s what i 'm saying and what my goal is ie a world without jews and their control and it seems to be heading that way rapidly if even by their own ignorant shortsighted design ie thomas chittum basically has said in his non fiction civil war ii analysis book that zog wants a nuclear war with russia and china and is actually insane enough to think it can win such a conflict . well shit i 'm saying if anything is left after such a thing perhaps we can slowly rebuild a better world free of jews / jewish power even after that if somehow there 's a place for humanity to start again and rebuild ie even if its in underground shelters / facilities like those fallout games . we just need a space to breathe free of jews and their malicious intent to even begin to see what we as a species could really do and acheive .   you see at least with the jews around i get to see normies suffer in their own way the normies have largely been victimized by jews as well even though their lives usually have been marginally better than our own ie think of all the broken families , divorce rapes men go through , cat ladies there are , people throughout time terrified of dying due to christ insane jewish brainwashing about hell , etc . oh trust me my friend the normies have had their share of suffering . much of the shitty way the normies have treated us was n't their original nature either . much of it is learned behavior and who do they learn it from ? jews of course . the same people who train young girls to become sluts via getting the little girl to identify and like a girl as a role model say on the disney channel ala miley cyrus a.k.a hannah montana for example . then later the real miley emerges on mtv as a huge slut . some little girls get turned off by that and wish for their old \" wholesome \" pal hannah montana to come back , but others embrace the \" new \" miley and become sluts just like her . just like their role model and this is just one of many ways jews manipulate the young to become self destructive std factories , just the way they want them to be , so as to facilitate and literally re - create the disgusting weimar reublic or rather it 's 2.0 version and culture that they so love and crave deep in their evil hearts .   if your wife cheats on you , who do you blame , the guy that seduced her , or your wife , only an idiot would blame the seducer , its not his job to ensure the fidelity of your relationship , that 's the job of the partners involved , society betrayed us , saying the jews caused it means nothing to me , if society cared about men , cared about us , they would n't have jumped at the benefits that the jews presented , they would not have succumbed to jewish influence if i remember correctly the late dr. william pierce once pointed out why the jews are hated and i think he went on to say that not only is it because they get others to do their dirty work for them but also because the jew 's prey upon our natural weaknesses and seem to have a talent at sniffing them out . certainly in your analogy the cheating wife is most to blame in the cheating scenario and for all we know the seducer in your analogy is completely kept in the dark about her having a husband which would make him a total innocent of the husband 's wrath were he to receive it in the form of a beating or a bullet but when it comes to putting a jew into your analogy the jew is always going to know the evil he is doing and he 's always going to share part of the blame as without his malicious intent there would be no cheating going on or broken family happening . at least not at that particular time and place anyway . charles manson never was caught for personally killing anyone yet a zog kangaroo court convicted him of murder nevertheless for what his \" family \" of cultists did allegedly on his behalf . so my point with this is even the zog courts agree with dr. pierce 's summation that a person can still be held guilty in the public mind for getting others to do his alleged dirty work even if he himself did not physically partake in said dirty work .   the question you need to ask yourself is why did n't society reject jewish influence , why is it you guys are never asking this question is what confuses me , how the fuck am i supposed to feel sorry for a group whose screwed me over to get a better deal , now that the deal broker is fucking with them , jfl fuck that shit , i 'm going to watch them get screwed now because society was carefully broken apart and socially engineered to be the way it is now by the jew . what gave them this overall control to begin doing this was their christ cult that they had infected the white goyim with thousands of years ago taking us away from our true ( true as in \" authentic \" european pagan religion and gods ) . forcing whites to accept a false jewish god at the tip of a sword ( or have their families mass murdered in front of them ) was a powerful conversion tool for the early christ cult after the race traitor charlemagne and his jewish allies had finally crushed the remaining pagan resistance . after hundreds of years had passed whites largely forgot their pagan past and only knew of the christ cult and came to think of it as their authentic european heritage ( when it is nothing of the sort and has its actual origins in the deserts of the middle east ) and became fine with jesus supposedly being their god and because he was said to be a jew and not just any jew but the \" king of the jews \" and the jews were called the special \" chosen people \" of this false jewish god in the jew book the buy bull this religion provided jews enormous power over the white goyim 's minds who were raised in it and grew up to believe in it so strongly . think about it ie white people trained from birth to think that their worst enemies are not only their god but also the special chosen people of this false jewish god . with this cult jews were then able to control whites similar to how certain other parasites in nature control their hosts by literally burrowing into the hosts brain and using their body as a kind of zombie like drone . jews have done this for a very long time and are still doing it with their vast white christian hordes and because the majority of christians by the religion 's very design revere jews so heavily jews were then easily able to get their hands on all the levels of power and social engineering aparatuses necessary to begin to brainwash and control even those that were not religious minded in modern times hence the foul behavior of the modern chad and stacy on average . so what you blame society for is actually missplaced blame . jews are responsible for not only the incel / wizard conditions but also the way chad / stacy and society as a whole acts and behaves . the ugly tats , the slutty behavior , the race mixing , niggers and urak hai everywhere , the people of walmart , etc , etc . it did n't happen in a vacuum . the jews are guilty as always .\n",
       "parsed_date                                                                                                                                                                                                                                                                                                                                                                                                                                                                                                                                                                                                                                                                                                                                                                                                                                                                                                                                                                                                                                                                                                                                                                                                                                                                                                                                                                                                                                                                                                                                                                                                                                                                                                                                                                                                                                                                                                                                                                                                                                                                                                                                                                                                                                                                                                                                                                                                                                                                                                                                                                                                                                                                                                                                                                                                                                                                                                                                                                                                                                                                                                                                                                                                                                                                                                                                                                                                                                                                                                                                                                                                                                                                                                                                                                                                                                                                                                                                                                                                                                                                                                                                                                                                                                                                                                                                                                                                                                                                                                                                                                                                                                                                                                                                                                                                                                                                                                                                                                                                                                                                                                                                                                                                                                                                                                                                                                                                                                                                                                                                                                                                                                                                                                                                                                                                                                                                                                                                                                                                                                                                                                                                                                                                                                                                                                                                                                                                                                                                                                                                                                                                                                                                                                                                                                                                                                                                                                                                                                                                                                                                                                                                                                                                                                                                                                                                                                                                                                                                                                                                                                                                                                                                                                                                                                                                                                                                                                                                                                                                                                                                                                                                                                                                                                                                                                                                                                                                                                                                                                                                                                                                                                                                                                                                                                                                                                                                                                                                                                                                                                                                                                                                                                                                                                                                                                                                                                                                                                                                                                                                                                                                                                                                                                                                                                                                                                                                                                                                                                                                                                                                                                                                                                                                                                                                                                                                                                                                                                                                                                                                                                                                                                                                                                                                                                                                                                                                                                                                                                                                                                                                                                                                                                                                                                                                                                                                                                                                                                                                                                                                                                                                                                                                                                                                                                                                                                                                                                                                                                                                                                                                                                                                                                                                                                                                                                                                                                                                                                                                                                                                                                                                                                                                                                                                                                                                                                                                                                                                                                                                                                                                                                                                                                                                                                                                                                                                                                                                                                                                                                                                                                                                                                                                                                                                                                                                                                                                                                                                                                                                                                                                                                                                                                                                                                                                                                                                                                                                                                                                                                                                                                            2019-08-24 00:00:00+00:00\n",
       "content_orig                                                                                                                         BlkPillPres said: What do you mean by \"kill off\", whites aren't being killed off, they're being bred out of existence, completely different All that matters at the end of the day is that the result is the same but on top of that we ARE being literally killed off as well by Jewish design since it was Jews behind both the Civil Wrongs bowel movement that allowed dangerous violent out of control blacks to have closer proximity to us so as to better facilitate their rape, robbery and murder of us, not to mention Jews were also behind the illegal Mestizo invasion that is dissplacing and literally killing whites in our own homeland, which also aids the Jewish cause of white genocide and of course everyone knows Jews have used their mass media and Hollywood control to paint a false narrative of white on black/non white victimization, leaving out the whole truth of course that it was Jews who were the actual driving force behind black African slavery as they owned all the slave ships that brought blacks over here and were the primary enslavers of black Africans. Jews also downplay that it was white Europeans not Jewry or even blacks themselves that ultimately decided to free blacks. All of these Jew lies of course only make the non white hordes more dangerous than they are even by their violent nature as they then learn from Jewish sources to hate whites and blame us for all their problems and either beat, rob or at worst murder us when they feel they are at the lowest point in their lives and that perhaps harming/killing a white will make them feel better for a moment as after all \"Dat dare crakkka deserved it, evil ol wicked devil slave masta he isss!\" BlkPillPres said: and so is every other race, the difference is every other race see's themselves as \"ethnic\" and white people as \"white people\", due to how white people have set up racial dynamics, as white people themselves see the races this way, so ethnics don't care so much about interracial breeding, because from their perspective they're just making more ethnics, just with slight variations So this doesn't really affect ethnics at all Jews control the mass media and government as well acadamia so its Jews who have set up the racial dynamics in this country not white people. Jews encourage a heavy individualist mindset in whites as they don't want us seeing eachother as co-ethnics/kinsmen/a tribe like all the other racial groups because they know once we unite its usually over for them. Its also a misconception that we've \"never beaten them before\". We threw their sorry asses out of our white nations 109 times throughout history, confined them to ghettos, staged pogroms against them for their crimes and they were under Rome's thumb and regularly massacred when they got out of line by the Romans so they haven't always been the \"big bad Jews\" they are regularly viewed as today due to their WWII victory (even though they had control of three major world powers even before the Axis Powers fell). Its only when the Jew's invented their ultimate golem/weapon/psyche warfare totem known as Christ insanity did they ever really start to be able to chip away at whites little by little until the cuck cult of Christ the Jew finally managed to finish off the Roman Empire and the original pagan world. As I pointed out before they still despite the cuck cult got their asses handed to them by us (whites) historically but the Christ cult ultimately allowed them to get such a control over the white goyim that they used us and their Christian manifest destiny doctrine to conquer the world via white military might/muscle leading to our disasterous present ZOG situation where the entire world is on the verge of a nightmare total Communist NWO control aparatus we all might never proverbially wake up from. Anyway I digress. Non whites are by nature low IQ and shortsighted and so are easily malleable to whatever end goals and gains against whites the Jews want to use them for. BlkPillPres said: So the ultimate ER then, I'm for that Personally I'd rather see Jews gone than the rest of us, as its my full belief we can only see the true nature of humanity once Jews and their malicious intent are removed from among our species. BlkPillPres said: What do we get out of them being beaten, the world will never go back to what it was, if you tell me that after getting rid of the jews we will 100% definitely strip women of their rights, maybe I'd be for it, but that's never going to happen As I just pointed out with them beaten/gone/what have you, we'll finally get to see the true nature of humanity. Jews continually bleat that human nature is ugly (which is them projecting because their nature is ugly). We can only begin to see the truth once they and their malicious intent are removed from amongst our species. In the past humans had totally peaceful societies like Cahokia which I believe was referred to as \"the city of the sun\". So you mistake me if you think I want the American 1950's back. No sir. I'm no tradcuck. I'd like to see something new and something far older (think Evolian as in Julius Evola's ideas) to come to the fore for the human species. I want a new and better kind of society to arise, but imbibed with more ancient human values that worked to make us a peaceful and proud people in the long ago past, combined with any new and useful values the new generations can come up with, without rabbis on Talmudvision whispering filth, hate and lies in people's ears 24/7. Without Jews filling the airwaves and propaganda aparatuses with filth 24/7 eventually women would revert to their natural feminine nature of being passive, submissive and kind and men would become men again and lose the faggot anime, the ear gauges, the soy, the beta nature and the disgusting sneakiness mentality that is prevalent these days where you can't trust any of these bastards as far as you could throw them. A man's word would mean something again basically. BlkPillPres said: So try and understand my perspective here I do but I don't think you understand just how profound a healing society as a whole would undergo without Jewish influence any longer prevalent over it. Everything and everyone would improve literally overnight. I'm not saying we'd have a full blown utopia right away or anything but damn we would certainly be on our way to such a thing. BlkPillPres said: My perspective is that its too fargone a situation to salvage, if we get rid of the jews it only benefits Chad and Stacey, because women keep their rights, they still get to be hypergamous, and they get to enjoy all that shit on top of living without the jews who fuck with their lives, they get the best of everything and incels, especially ethnic incels, get nothing You're correct that this situation is too far gone to salvage ie ZOG USA, ZOG Britain and ZOG Russia as well ZOG China all need to be reduced to rubble along with Israel but AFTER is when we can REBUILD. Thats what I'm saying and what my goal is ie a world without Jews and their control and it seems to be heading that way rapidly if even by their own ignorant shortsighted design ie Thomas Chittum basically has said in his non fiction Civil War II analysis book that ZOG wants a nuclear war with Russia and China and is actually insane enough to think it can win such a conflict. Well shit I'm saying if anything is left after such a thing perhaps we can slowly rebuild a better world free of Jews/Jewish power even after that if somehow there's a place for humanity to start again and rebuild ie even if its in underground shelters/facilities like those fallout games. We just need a space to breathe free of Jews and their malicious intent to even begin to see what we as a species could really do and acheive. BlkPillPres said: You see at least with the Jews around I get to see normies suffer In their own way the normies have largely been victimized by Jews as well even though their lives usually have been marginally better than our own ie think of all the broken families, divorce rapes men go through, cat ladies there are, people throughout time terrified of dying due to Christ insane jewish brainwashing about Hell, etc. Oh trust me my friend the normies have had their share of suffering. Much of the shitty way the normies have treated us wasn't their original nature either. Much of it is learned behavior and who do they learn it from? Jews of course. The same people who train young girls to become sluts via getting the little girl to identify and like a girl as a role model say on the Disney Channel ala Miley Cyrus a.k.a Hannah Montana for example. Then later the real Miley emerges on MTV as a huge slut. Some little girls get turned off by that and wish for their old \"wholesome\" pal Hannah Montana to come back, but others embrace the \"new\" Miley and become sluts just like her. Just like their role model and this is just one of many ways Jews manipulate the young to become self destructive STD factories, just the way they want them to be, so as to facilitate and literally re-create the disgusting Weimar Reublic or rather it's 2.0 version and culture that they so love and crave deep in their evil hearts. BlkPillPres said: If your wife cheats on you, who do you blame, the guy that seduced her, or your wife, only an idiot would blame the seducer, its not his job to ensure the fidelity of your relationship, that's the job of the partners involved, society betrayed us, saying the Jews caused it means nothing to me, if society cared about men, cared about us, they wouldn't have jumped at the benefits that the jews presented, they would not have succumbed to jewish influence If I remember correctly the late Dr. William Pierce once pointed out why the Jews are hated and I think he went on to say that not only is it because they get others to do their dirty work for them but also because the Jew's prey upon our natural weaknesses and seem to have a talent at sniffing them out. Certainly in your analogy the cheating wife is most to blame in the cheating scenario and for all we know the seducer in your analogy is completely kept in the dark about her having a husband which would make him a total innocent of the husband's wrath were he to receive it in the form of a beating or a bullet but when it comes to putting a Jew into your analogy the Jew is always going to know the evil he is doing and he's always going to share part of the blame as without his malicious intent there would be no cheating going on or broken family happening. At least not at that particular time and place anyway. Charles Manson never was caught for personally killing anyone yet a ZOG kangaroo court convicted him of murder nevertheless for what his \"family\" of cultists did allegedly on his behalf. So my point with this is even the ZOG courts agree with Dr. Pierce's summation that a person can still be held guilty in the public mind for getting others to do his alleged dirty work even if he himself did not physically partake in said dirty work. BlkPillPres said: The question you need to ask yourself is why didn't society reject jewish influence, why is it you guys are never asking this question is what confuses me, how the fuck am I supposed to feel sorry for a group whose screwed me over to get a better deal, now that the deal broker is fucking with them, JFL fuck that shit, I'm going to watch them get screwed now Because society was carefully broken apart and socially engineered to be the way it is now by the Jew. What gave them this overall control to begin doing this was their Christ cult that they had infected the white goyim with thousands of years ago taking us away from our true (true as in \"authentic\" European pagan religion and gods). Forcing whites to accept a false Jewish god at the tip of a sword (or have their families mass murdered in front of them) was a powerful conversion tool for the early Christ cult after the race traitor Charlemagne and his Jewish allies had finally crushed the remaining pagan resistance. After hundreds of years had passed whites largely forgot their pagan past and only knew of the Christ cult and came to think of it as their authentic European heritage (when it is nothing of the sort and has its actual origins in the deserts of the middle east) and became fine with Jesus supposedly being their god and because he was said to be a Jew and not just any Jew but the \"King of the Jews\" and the Jews were called the special \"Chosen people\" of this false Jewish god in the Jew Book the Buy Bull this religion provided Jews enormous power over the white goyim's minds who were raised in it and grew up to believe in it so strongly. Think about it ie white people trained from birth to think that their worst enemies are not only their god but also the special chosen people of this false Jewish god. With this cult Jews were then able to control whites similar to how certain other parasites in nature control their hosts by literally burrowing into the hosts brain and using their body as a kind of zombie like drone. Jews have done this for a very long time and are still doing it with their vast white Christian hordes and because the majority of Christians by the religion's very design revere Jews so heavily Jews were then easily able to get their hands on all the levels of power and social engineering aparatuses necessary to begin to brainwash and control even those that were not religious minded in modern times hence the foul behavior of the modern Chad and Stacy on average. So what you blame society for is actually missplaced blame. Jews are responsible for not only the incel/Wizard conditions but also the way Chad/Stacy and society as a whole acts and behaves. The ugly tats, the slutty behavior, the race mixing, niggers and urak hai everywhere, the people of Walmart, etc, etc. It didn't happen in a vacuum. The Jews are guilty as always.\n",
       "netmapper_identity_matches                                                                                                                                                                                                                                                                                                                                                                                                                                                                                                                                                                                                                                                                                                                                                                                                                                                                                                                                                                                                                                                                                                                                                                                                                                                                                                                                                                                                                                                                                                                                                                                                                                                                                                                                                                                                                                                                                                                                                                                                                                                                                                                                                                                                                                                                                                                                                                                                                                                                                                                                                                                                                                                                                                                                                                                                                                                                                                                                                                                                                                                                                                                                                                                                                                                                                                                                                                                                                                                                                                                                                                                                                                                                                                                                                                                                                                                                                                                                                                                                                                                                                                                                                                                                                                                                                                                                                                                                                                                                                                                                                                                                                                                                                                                                                                                                                                                                                                                                                                                                                                                                                                                                                                                                                                                                                                                                                                                                                                                                                                                                                                                                                                                                                                                                                                                                                                                                                                                                                                                                                                                                                                                                                                                                                                                                                                                                                                                                                                                                                                                                                                                                                                                                                                                                                                                                                                                                                                                                                                                                                                                                                                                                                                                                                                                                                                                                                                                                                                                                                                                                                                                                                                                                                                                                                                                                                                                                                                                                                                                                                                                                                                                                                                                                                                                                                                                                                                                                                                                                                                                                                                                                                                                                                                                                                                                                                                                                                                                                                                                                                                                                                                                                                                                                                                                                                                                                                                                                                                                                                                                                                                                                                                                                                                                                                                                                                                                                                                                                                                                                                                                                                                                                                                                                                                                                                                                                                                                                                                                                                                                                                                                                                                                                                                                                                                                                                                                                                                                                                                                                                                                                                                                                                                                                                                                                                                                                                                                                                                                                                                                                                                                                                                                                                                                                                                                                                                                                                                                                                                                                                                                                                                                                                                                                                                                                                                                                                                                                                                                                                                                                                                                                                                                                                                                                                                                                                                                                                                                                                                                                                                                                                                                                                                                                                                                                                                                                                                                                                                                                                                                                                                                                                                                                                                                                                                                                                                                                                                                                                                                                                                                                                                                                                                                                                                                                                                                                                                                                                                                                                                                                                                                jewish\n",
       "netmapper_identity_matches_spans                                                                                                                                                                                                                                                                                                                                                                                                                                                                                                                                                                                                                                                                                                                                                                                                                                                                                                                                                                                                                                                                                                                                                                                                                                                                                                                                                                                                                                                                                                                                                                                                                                                                                                                                                                                                                                                                                                                                                                                                                                                                                                                                                                                                                                                                                                                                                                                                                                                                                                                                                                                                                                                                                                                                                                                                                                                                                                                                                                                                                                                                                                                                                                                                                                                                                                                                                                                                                                                                                                                                                                                                                                                                                                                                                                                                                                                                                                                                                                                                                                                                                                                                                                                                                                                                                                                                                                                                                                                                                                                                                                                                                                                                                                                                                                                                                                                                                                                                                                                                                                                                                                                                                                                                                                                                                                                                                                                                                                                                                                                                                                                                                                                                                                                                                                                                                                                                                                                                                                                                                                                                                                                                                                                                                                                                                                                                                                                                                                                                                                                                                                                                                                                                                                                                                                                                                                                                                                                                                                                                                                                                                                                                                                                                                                                                                                                                                                                                                                                                                                                                                                                                                                                                                                                                                                                                                                                                                                                                                                                                                                                                                                                                                                                                                                                                                                                                                                                                                                                                                                                                                                                                                                                                                                                                                                                                                                                                                                                                                                                                                                                                                                                                                                                                                                                                                                                                                                                                                                                                                                                                                                                                                                                                                                                                                                                                                                                                                                                                                                                                                                                                                                                                                                                                                                                                                                                                                                                                                                                                                                                                                                                                                                                                                                                                                                                                                                                                                                                                                                                                                                                                                                                                                                                                                                                                                                                                                                                                                                                                                                                                                                                                                                                                                                                                                                                                                                                                                                                                                                                                                                                                                                                                                                                                                                                                                                                                                                                                                                                                                                                                                                                                                                                                                                                                                                                                                                                                                                                                                                                                                                                                                                                                           [(37, 43), (265, 271), (292, 296), (387, 393), (507, 511), (600, 606), (649, 655), (709, 713), (810, 819), (886, 890), (938, 945), (1001, 1007), (1058, 1066), (1069, 1073), (1106, 1115), (1120, 1125), (1134, 1140), (1184, 1190), (1206, 1209), (1239, 1248), (1338, 1344), (1361, 1367), (1651, 1656), (1783, 1795), (1801, 1813), (1829, 1841), (1875, 1887), (1927, 1934), (2041, 2048), (2110, 2117), (2125, 2129), (2192, 2196), (2253, 2265), (2268, 2272), (2291, 2304), (2316, 2322), (2371, 2378), (2381, 2388), (2581, 2586), (2806, 2812), (2856, 2860), (2976, 2982), (3004, 3010), (3038, 3041), (3186, 3192), (3244, 3247), (3282, 3287), (3312, 3317), (3393, 3398), (3422, 3428), (3559, 3568), (3759, 3768), (3856, 3866), (3973, 3979), (3984, 3988), (4081, 4085), (4184, 4188), (4388, 4392), (4424, 4429), (4625, 4629), (4900, 4907), (5011, 5019), (5038, 5041), (5463, 5469), (5552, 5556), (5631, 5636), (5726, 5729), (5743, 5746), (5766, 5772), (5929, 5937), (5973, 5976), (6176, 6182), (6501, 6505), (6532, 6538), (6549, 6554), (6675, 6679), (6744, 6750), (6771, 6777), (7062, 7066), (7495, 7499), (7502, 7508), (7617, 7628), (7718, 7722), (8089, 8092), (8110, 8116), (8192, 8198), (8503, 8508), (8519, 8524), (8548, 8552), (8576, 8580), (8725, 8729), (8744, 8749), (8810, 8813), (8892, 8897), (9262, 9266), (9306, 9309), (9337, 9341), (9582, 9585), (9707, 9713), (9943, 9946), ...]\n",
       "actions_attributes                                                                                                                                                                                                                                                                                                                                                                                                                                                                                                                                                                                                                                                                                                                                                                                                                                                                                                                                                                                                                                                                                                                                                                                                                                                                                                                                                                                                                                                                                                                                                                                                                                                                                                                                                                                                                                                                                                                                                                                                                                                                                                                                                                                                                                                                                                                                                                                                                                                                                                                                                                                                                                                                                                                                                                                                                                                                                                                                                                                                                                                                                                                                                                                                                                                                                                                                                                                                                                                                                                                                                                                                                                                                                                                                                                                                                                                                                                                                                                                                                                                                                                                                                                                                                                                                                                                                                                                                                                                                                                                                                                                                                                                                                                                                                                                                                                                                                                                                                                                                                                                                                                                                                                                                                                                                                                                                                                                                                                                                                                                                                                                                                                                                                                                                                                                                                                                                                                                                                                                                                                                                                                                                                                                                                                                                                                                                                                                                                                                                                                                                                                                                                                                                                                                                                                                                                                                                                                                                                                                                                                                                                                                                                                                                                                                                                                                                                                                                                                                                                                                                                                                                                                                                                                                                                                                                                                                                                                                                                                                                                                                                                                                                                                                                                                                                                                                                                                                                                                                                                                                                                                                                                                                                                                                                                                                                                                                                                                                                                                                                                                                                      [{'verbs_subj': [], 'verbs_obj': ['killed'], 'adjs': []}, {'verbs_subj': [], 'verbs_obj': [], 'adjs': []}, {'verbs_subj': [], 'verbs_obj': [], 'adjs': ['movement']}, {'verbs_subj': [], 'verbs_obj': [], 'adjs': []}, {'verbs_subj': [], 'verbs_obj': [], 'adjs': []}, {'verbs_subj': [], 'verbs_obj': ['killing'], 'adjs': []}, {'verbs_subj': [], 'verbs_obj': [], 'adjs': []}, {'verbs_subj': ['used'], 'verbs_obj': [], 'adjs': []}, {'verbs_subj': [], 'verbs_obj': [], 'adjs': ['black']}, {'verbs_subj': [], 'verbs_obj': [], 'adjs': []}, {'verbs_subj': [], 'verbs_obj': [], 'adjs': []}, {'verbs_subj': [], 'verbs_obj': ['brought'], 'adjs': []}, {'verbs_subj': [], 'verbs_obj': [], 'adjs': ['black']}, {'verbs_subj': ['downplay'], 'verbs_obj': [], 'adjs': []}, {'verbs_subj': [], 'verbs_obj': [], 'adjs': ['white']}, {'verbs_subj': [], 'verbs_obj': [], 'adjs': []}, {'verbs_subj': [], 'verbs_obj': [], 'adjs': []}, {'verbs_subj': [], 'verbs_obj': ['free'], 'adjs': []}, {'verbs_subj': [], 'verbs_obj': [], 'adjs': []}, {'verbs_subj': [], 'verbs_obj': [], 'adjs': []}, {'verbs_subj': [], 'verbs_obj': [], 'adjs': []}, {'verbs_subj': [], 'verbs_obj': ['hate'], 'adjs': []}, {'verbs_subj': [], 'verbs_obj': [], 'adjs': []}, {'verbs_subj': [], 'verbs_obj': [], 'adjs': []}, {'verbs_subj': [], 'verbs_obj': [], 'adjs': []}, {'verbs_subj': ['set'], 'verbs_obj': [], 'adjs': []}, {'verbs_subj': ['see'], 'verbs_obj': [], 'adjs': ['themselves']}, {'verbs_subj': ['care'], 'verbs_obj': [], 'adjs': []}, {'verbs_subj': [], 'verbs_obj': ['making'], 'adjs': []}, {'verbs_subj': [], 'verbs_obj': ['affect'], 'adjs': []}, {'verbs_subj': [], 'verbs_obj': [], 'adjs': []}, {'verbs_subj': [], 'verbs_obj': [], 'adjs': []}, {'verbs_subj': [], 'verbs_obj': [], 'adjs': []}, {'verbs_subj': ['encourage'], 'verbs_obj': [], 'adjs': []}, {'verbs_subj': [], 'verbs_obj': [], 'adjs': ['heavy']}, {'verbs_subj': [], 'verbs_obj': [], 'adjs': []}, {'verbs_subj': [], 'verbs_obj': [], 'adjs': []}, {'verbs_subj': [], 'verbs_obj': [], 'adjs': []}, {'verbs_subj': [], 'verbs_obj': ['threw'], 'adjs': ['sorry']}, {'verbs_subj': [], 'verbs_obj': [], 'adjs': []}, {'verbs_subj': [], 'verbs_obj': [], 'adjs': ['big', 'bad']}, {'verbs_subj': [], 'verbs_obj': [], 'adjs': ['major']}, {'verbs_subj': ['fell'], 'verbs_obj': [], 'adjs': []}, {'verbs_subj': ['invented'], 'verbs_obj': [], 'adjs': []}, {'verbs_subj': [], 'verbs_obj': [], 'adjs': []}, {'verbs_subj': [], 'verbs_obj': [], 'adjs': []}, {'verbs_subj': [], 'verbs_obj': [], 'adjs': []}, {'verbs_subj': [], 'verbs_obj': [], 'adjs': ['original']}, {'verbs_subj': ['handed'], 'verbs_obj': [], 'adjs': []}, {'verbs_subj': [], 'verbs_obj': [], 'adjs': []}, {'verbs_subj': [], 'verbs_obj': [], 'adjs': []}, {'verbs_subj': [], 'verbs_obj': [], 'adjs': []}, {'verbs_subj': [], 'verbs_obj': [], 'adjs': []}, {'verbs_subj': [], 'verbs_obj': ['against'], 'adjs': []}, {'verbs_subj': ['want'], 'verbs_obj': [], 'adjs': []}, {'verbs_subj': ['gone'], 'verbs_obj': [], 'adjs': []}, {'verbs_subj': [], 'verbs_obj': ['removed'], 'adjs': []}, {'verbs_subj': [], 'verbs_obj': [], 'adjs': []}, {'verbs_subj': [], 'verbs_obj': ['strip'], 'adjs': []}, {'verbs_subj': ['bleat'], 'verbs_obj': [], 'adjs': []}, {'verbs_subj': [], 'verbs_obj': [], 'adjs': []}, {'verbs_subj': [], 'verbs_obj': [], 'adjs': []}, {'verbs_subj': [], 'verbs_obj': [], 'adjs': []}, {'verbs_subj': ['whispering'], 'verbs_obj': [], 'adjs': []}, {'verbs_subj': ['filling'], 'verbs_obj': [], 'adjs': []}, {'verbs_subj': ['revert'], 'verbs_obj': [], 'adjs': []}, {'verbs_subj': [], 'verbs_obj': [], 'adjs': []}, {'verbs_subj': [], 'verbs_obj': [], 'adjs': []}, {'verbs_subj': [], 'verbs_obj': [], 'adjs': []}, {'verbs_subj': [], 'verbs_obj': [], 'adjs': []}, {'verbs_subj': [], 'verbs_obj': [], 'adjs': []}, {'verbs_subj': [], 'verbs_obj': [], 'adjs': []}, {'verbs_subj': [], 'verbs_obj': [], 'adjs': []}, {'verbs_subj': [], 'verbs_obj': [], 'adjs': []}, {'verbs_subj': ['keep'], 'verbs_obj': [], 'adjs': []}, {'verbs_subj': [], 'verbs_obj': ['without'], 'adjs': []}, {'verbs_subj': [], 'verbs_obj': [], 'adjs': []}, {'verbs_subj': [], 'verbs_obj': [], 'adjs': ['ethnic']}, {'verbs_subj': [], 'verbs_obj': ['without'], 'adjs': []}, {'verbs_subj': [], 'verbs_obj': [], 'adjs': []}, {'verbs_subj': [], 'verbs_obj': [], 'adjs': []}, {'verbs_subj': [], 'verbs_obj': [], 'adjs': []}, {'verbs_subj': [], 'verbs_obj': [], 'adjs': []}, {'verbs_subj': ['go'], 'verbs_obj': [], 'adjs': []}, {'verbs_subj': [], 'verbs_obj': [], 'adjs': []}, {'verbs_subj': [], 'verbs_obj': [], 'adjs': []}, {'verbs_subj': [], 'verbs_obj': ['train'], 'adjs': ['young']}, {'verbs_subj': [], 'verbs_obj': [], 'adjs': []}, {'verbs_subj': ['identify'], 'verbs_obj': [], 'adjs': ['little']}, {'verbs_subj': [], 'verbs_obj': [], 'adjs': []}, {'verbs_subj': [], 'verbs_obj': [], 'adjs': ['huge']}, {'verbs_subj': [], 'verbs_obj': ['turned'], 'adjs': ['little']}, {'verbs_subj': [], 'verbs_obj': [], 'adjs': []}, {'verbs_subj': [], 'verbs_obj': [], 'adjs': []}, {'verbs_subj': ['cheats'], 'verbs_obj': [], 'adjs': []}, {'verbs_subj': ['blame'], 'verbs_obj': [], 'adjs': []}, {'verbs_subj': [], 'verbs_obj': [], 'adjs': ['idiot']}, {'verbs_subj': [], 'verbs_obj': [], 'adjs': []}, {'verbs_subj': [], 'verbs_obj': [], 'adjs': []}, {'verbs_subj': [], 'verbs_obj': [], 'adjs': []}, ...]\n",
       "identity_group                                                                                                                                                                                                                                                                                                                                                                                                                                                                                                                                                                                                                                                                                                                                                                                                                                                                                                                                                                                                                                                                                                                                                                                                                                                                                                                                                                                                                                                                                                                                                                                                                                                                                                                                                                                                                                                                                                                                                                                                                                                                                                                                                                                                                                                                                                                                                                                                                                                                                                                                                                                                                                                                                                                                                                                                                                                                                                                                                                                                                                                                                                                                                                                                                                                                                                                                                                                                                                                                                                                                                                                                                                                                                                                                                                                                                                                                                                                                                                                                                                                                                                                                                                                                                                                                                                                                                                                                                                                                                                                                                                                                                                                                                                                                                                                                                                                                                                                                                                                                                                                                                                                                                                                                                                                                                                                                                                                                                                                                                                                                                                                                                                                                                                                                                                                                                                                                                                                                                                                                                                                                                                                                                                                                                                                                                                                                                                                                                                                                                                                                                                                                                                                                                                                                                                                                                                                                                                                                                                                                                                                                                                                                                                                                                                                                                                                                                                                                                                                                                                                                                                                                                                                                                                                                                                                                                                                                                                                                                                                                                                                                                                                                                                                                                                                                                                                                                                                                                                                                                                                                                                                                                                                                                                                                                                                                                                                                                                                                                                                                                                                                                                                                                                                                                                                                                                                                                                                                                                                                                                                                                                                                                                                                                                                                                                                                                                                                                                                                                                                                                                                                                                                                                                                                                                                                                                                                                                                                                                                                                                                                                                                                                                                                                                                                                                                                                                                                                                                                                                                                                                                                                                                                                                                                                                                                                                                                                                                                                                                                                                                                                                                                                                                                                                                                                                                                                                                                                                                                                                                                                                                                                                                                                                                                                                                                                                                                                                                                                                                                                                                                                                                                                                                                                                                                                                                                                                                                                                                                                                                                                                                                                                                                                                                                                                                                                                                                                                                                                                                                                                                                                                                                                                                                                                                                                                                                                                                                                                                                                                                                                                                                                                                                                                                                                                                                                                                                                                                                                                                                                                                                                                                              jews\n",
       "identity_category                                                                                                                                                                                                                                                                                                                                                                                                                                                                                                                                                                                                                                                                                                                                                                                                                                                                                                                                                                                                                                                                                                                                                                                                                                                                                                                                                                                                                                                                                                                                                                                                                                                                                                                                                                                                                                                                                                                                                                                                                                                                                                                                                                                                                                                                                                                                                                                                                                                                                                                                                                                                                                                                                                                                                                                                                                                                                                                                                                                                                                                                                                                                                                                                                                                                                                                                                                                                                                                                                                                                                                                                                                                                                                                                                                                                                                                                                                                                                                                                                                                                                                                                                                                                                                                                                                                                                                                                                                                                                                                                                                                                                                                                                                                                                                                                                                                                                                                                                                                                                                                                                                                                                                                                                                                                                                                                                                                                                                                                                                                                                                                                                                                                                                                                                                                                                                                                                                                                                                                                                                                                                                                                                                                                                                                                                                                                                                                                                                                                                                                                                                                                                                                                                                                                                                                                                                                                                                                                                                                                                                                                                                                                                                                                                                                                                                                                                                                                                                                                                                                                                                                                                                                                                                                                                                                                                                                                                                                                                                                                                                                                                                                                                                                                                                                                                                                                                                                                                                                                                                                                                                                                                                                                                                                                                                                                                                                                                                                                                                                                                                                                                                                                                                                                                                                                                                                                                                                                                                                                                                                                                                                                                                                                                                                                                                                                                                                                                                                                                                                                                                                                                                                                                                                                                                                                                                                                                                                                                                                                                                                                                                                                                                                                                                                                                                                                                                                                                                                                                                                                                                                                                                                                                                                                                                                                                                                                                                                                                                                                                                                                                                                                                                                                                                                                                                                                                                                                                                                                                                                                                                                                                                                                                                                                                                                                                                                                                                                                                                                                                                                                                                                                                                                                                                                                                                                                                                                                                                                                                                                                                                                                                                                                                                                                                                                                                                                                                                                                                                                                                                                                                                                                                                                                                                                                                                                                                                                                                                                                                                                                                                                                                                                                                                                                                                                                                                                                                                                                                                                                                                                                                                                       religion\n",
       "Name: 1783573, dtype: object"
      ]
     },
     "execution_count": 11,
     "metadata": {},
     "output_type": "execute_result"
    }
   ],
   "source": [
    "pd.set_option('display.max_colwidth', None)\n",
    "selected.loc[1783573].iloc[0]"
   ]
  },
  {
   "cell_type": "code",
   "execution_count": null,
   "id": "f2772d0d-555e-46cb-bf2e-adb50b802916",
   "metadata": {
    "scrolled": true,
    "tags": []
   },
   "outputs": [],
   "source": [
    "pd.set_option('display.max_colwidth', None)\n",
    "selected.loc[1045225].iloc[0]"
   ]
  },
  {
   "cell_type": "markdown",
   "id": "d6ad8a97-e4d0-4b99-bdf6-b7180111abb4",
   "metadata": {},
   "source": [
    "# Check particular regex matches"
   ]
  },
  {
   "cell_type": "code",
   "execution_count": 8,
   "id": "2a955523-3381-4697-ab41-b2c28f795bfe",
   "metadata": {},
   "outputs": [
    {
     "data": {
      "text/plain": [
       "<re.Match object; span=(0, 6), match='incels'>"
      ]
     },
     "execution_count": 8,
     "metadata": {},
     "output_type": "execute_result"
    }
   ],
   "source": [
    "import re\n",
    "\n",
    "pat = r'\\bincels(?!\\.co|\\.is)\\b'\n",
    "# test_text = 'incels'\n",
    "# test_text = 'incels.is'\n",
    "# test_text = 'incels.co is the best'\n",
    "test_text = 'incels is the best'\n",
    "\n",
    "re.search(pat, test_text)"
   ]
  },
  {
   "cell_type": "code",
   "execution_count": 9,
   "id": "933938ee-b374-4f44-abe3-b2fd3234e5af",
   "metadata": {},
   "outputs": [
    {
     "data": {
      "text/plain": [
       "'\\\\\\\\bincels\\\\(\\\\?!\\\\\\\\\\\\.co\\\\|\\\\\\\\\\\\.is\\\\)\\\\\\\\b'"
      ]
     },
     "execution_count": 9,
     "metadata": {},
     "output_type": "execute_result"
    }
   ],
   "source": [
    "re.escape(pat)"
   ]
  },
  {
   "cell_type": "markdown",
   "id": "18ffd10e-096d-4298-aaf1-26278154f269",
   "metadata": {},
   "source": [
    "# Old/1-time"
   ]
  },
  {
   "cell_type": "code",
   "execution_count": 18,
   "id": "6de55234-fb02-451a-9a6a-172518d77233",
   "metadata": {},
   "outputs": [
    {
     "name": "stdout",
     "output_type": "stream",
     "text": [
      "8909464\n"
     ]
    }
   ],
   "source": [
    "# Count number of identity term mentions (top-down generic list + bottom-up)\n",
    "print(exp['netmapper_identity_matches'].count())"
   ]
  },
  {
   "cell_type": "code",
   "execution_count": 4,
   "id": "cb323372-578a-4bc9-96db-97fa582dd152",
   "metadata": {},
   "outputs": [
    {
     "data": {
      "text/plain": [
       "6464047"
      ]
     },
     "execution_count": 4,
     "metadata": {},
     "output_type": "execute_result"
    }
   ],
   "source": [
    "# Count number of identity term mentions (top-down generic list)\n",
    "print(exp['netmapper_identity_matches'].count())"
   ]
  },
  {
   "cell_type": "code",
   "execution_count": 96,
   "id": "0acc1982-e3ee-44a4-b0ff-8293a7fe899b",
   "metadata": {},
   "outputs": [
    {
     "data": {
      "text/plain": [
       "723"
      ]
     },
     "execution_count": 96,
     "metadata": {},
     "output_type": "execute_result"
    }
   ],
   "source": [
    "# Filter out capitalized terms (unnecessary now)\n",
    "identity_cats = {term: cat for term, cat in identity_cats.items() if term[0].islower()}\n",
    "len(identity_cats)"
   ]
  },
  {
   "cell_type": "code",
   "execution_count": 3,
   "id": "cc803c15-460a-46a0-8ef5-d60449ee3db3",
   "metadata": {},
   "outputs": [
    {
     "name": "stdout",
     "output_type": "stream",
     "text": [
      "<class 'pandas.core.frame.DataFrame'>\n",
      "RangeIndex: 6248230 entries, 0 to 6248229\n",
      "Data columns (total 8 columns):\n",
      " #   Column                                 Dtype         \n",
      "---  ------                                 -----         \n",
      " 0   type                                   object        \n",
      " 1   forum                                  object        \n",
      " 2   thread                                 object        \n",
      " 3   username                               object        \n",
      " 4   date                                   object        \n",
      " 5   content                                object        \n",
      " 6   parsed_date                            datetime64[ns]\n",
      " 7   {self.identity_list}_identity_matches  object        \n",
      "dtypes: datetime64[ns](1), object(7)\n",
      "memory usage: 381.4+ MB\n"
     ]
    }
   ],
   "source": [
    "# Load data with identity matches\n",
    "import pandas as pd\n",
    "\n",
    "path = '../../data/incels/processed_comments.jsonl'\n",
    "data = pd.read_json(path, lines=True, convert_dates=['parsed_date'])\n",
    "data.info()"
   ]
  },
  {
   "cell_type": "code",
   "execution_count": 4,
   "id": "dd48830a-bf7b-426d-b1dd-99fac9a72693",
   "metadata": {},
   "outputs": [
    {
     "name": "stdout",
     "output_type": "stream",
     "text": [
      "<class 'pandas.core.frame.DataFrame'>\n",
      "RangeIndex: 6248230 entries, 0 to 6248229\n",
      "Data columns (total 8 columns):\n",
      " #   Column                      Dtype         \n",
      "---  ------                      -----         \n",
      " 0   type                        object        \n",
      " 1   forum                       object        \n",
      " 2   thread                      object        \n",
      " 3   username                    object        \n",
      " 4   date                        object        \n",
      " 5   content                     object        \n",
      " 6   parsed_date                 datetime64[ns]\n",
      " 7   netmapper_identity_matches  object        \n",
      "dtypes: datetime64[ns](1), object(7)\n",
      "memory usage: 381.4+ MB\n"
     ]
    }
   ],
   "source": [
    "data.rename(columns={'{self.identity_list}_identity_matches': 'netmapper_identity_matches'}, inplace=True)\n",
    "data.info()"
   ]
  },
  {
   "cell_type": "code",
   "execution_count": 5,
   "id": "c7602287-e3ee-4cbb-959d-718c90c3a735",
   "metadata": {},
   "outputs": [],
   "source": [
    "data.to_pickle('../../data/incels/processed_comments.pkl')"
   ]
  }
 ],
 "metadata": {
  "kernelspec": {
   "display_name": "Python 3 (ipykernel)",
   "language": "python",
   "name": "python3"
  },
  "language_info": {
   "codemirror_mode": {
    "name": "ipython",
    "version": 3
   },
   "file_extension": ".py",
   "mimetype": "text/x-python",
   "name": "python",
   "nbconvert_exporter": "python",
   "pygments_lexer": "ipython3",
   "version": "3.10.9"
  },
  "toc-showtags": false
 },
 "nbformat": 4,
 "nbformat_minor": 5
}
