{
 "cells": [
  {
   "cell_type": "markdown",
   "id": "272ca5c4-8181-44dc-8a0f-26049a58ba32",
   "metadata": {},
   "source": [
    "# Find identity term matches in data"
   ]
  },
  {
   "cell_type": "code",
   "execution_count": 19,
   "id": "874dbdb0-ac10-4e84-a3dd-4e08c3d0025c",
   "metadata": {},
   "outputs": [
    {
     "name": "stdout",
     "output_type": "stream",
     "text": [
      "<class 'pandas.core.frame.DataFrame'>\n",
      "RangeIndex: 6248230 entries, 0 to 6248229\n",
      "Data columns (total 7 columns):\n",
      " #   Column       Dtype         \n",
      "---  ------       -----         \n",
      " 0   type         object        \n",
      " 1   forum        object        \n",
      " 2   thread       object        \n",
      " 3   username     object        \n",
      " 4   date         object        \n",
      " 5   content      object        \n",
      " 6   parsed_date  datetime64[ns]\n",
      "dtypes: datetime64[ns](1), object(6)\n",
      "memory usage: 333.7+ MB\n"
     ]
    }
   ],
   "source": [
    "# Load incels data\n",
    "import pandas as pd\n",
    "import csv\n",
    "\n",
    "path = '../../data/incels/all_comments.csv'\n",
    "# data = pd.read_csv(path, engine='python', on_bad_lines=lambda x: print(x))\n",
    "data = pd.read_csv(path, engine='python', on_bad_lines=lambda row: row[:-2].append(' '.join(row[-2:]))) # combine last 2 elements in a line mentioning Gulag\n",
    "data['parsed_date'] = pd.to_datetime(data.date, errors='coerce')\n",
    "data.info()"
   ]
  },
  {
   "cell_type": "markdown",
   "id": "b057efbe-a0ad-499e-8df4-3ffc20d13168",
   "metadata": {},
   "source": [
    "## NetMapper identity term list"
   ]
  },
  {
   "cell_type": "code",
   "execution_count": 14,
   "id": "19deadaa-ed22-4fac-bf8f-87138560beb5",
   "metadata": {},
   "outputs": [
    {
     "name": "stdout",
     "output_type": "stream",
     "text": [
      "<class 'pandas.core.frame.DataFrame'>\n",
      "RangeIndex: 19887 entries, 0 to 19886\n",
      "Columns: 156 entries, Akan to Category 4\n",
      "dtypes: float64(56), int64(1), object(99)\n",
      "memory usage: 23.7+ MB\n"
     ]
    }
   ],
   "source": [
    "# Load identity terms\n",
    "import pandas as pd\n",
    "\n",
    "nm_identities_path = '../resources/generic_agents-identity_v15_2021_10_15.xlsx'\n",
    "multi_identities = pd.read_excel(nm_identities_path)\n",
    "multi_identities.info()"
   ]
  },
  {
   "cell_type": "code",
   "execution_count": 25,
   "id": "a101f7e5-fee7-42e8-974f-e6532a13a6f9",
   "metadata": {
    "scrolled": true,
    "tags": []
   },
   "outputs": [
    {
     "name": "stdout",
     "output_type": "stream",
     "text": [
      "<class 'pandas.core.frame.DataFrame'>\n",
      "Int64Index: 19035 entries, 0 to 19886\n",
      "Data columns (total 44 columns):\n",
      " #   Column           Non-Null Count  Dtype  \n",
      "---  ------           --------------  -----  \n",
      " 0   English          19035 non-null  object \n",
      " 1   conceptTo        19035 non-null  object \n",
      " 2   metaOntology     19035 non-null  object \n",
      " 3   nodeType         0 non-null      float64\n",
      " 4   Category 1       9703 non-null   object \n",
      " 5   Category 2       911 non-null    object \n",
      " 6   Category 3       18929 non-null  object \n",
      " 7   Country          4712 non-null   object \n",
      " 8   First Name       0 non-null      float64\n",
      " 9   Last Name        0 non-null      float64\n",
      " 10  Gender           759 non-null    object \n",
      " 11  Suffix           0 non-null      float64\n",
      " 12  Language         0 non-null      float64\n",
      " 13  Acronym          336 non-null    object \n",
      " 14  Valence          19035 non-null  object \n",
      " 15  Evaluation       19035 non-null  int64  \n",
      " 16  Potency          10 non-null     float64\n",
      " 17  Activity         0 non-null      float64\n",
      " 18  Affect Mean      19035 non-null  float64\n",
      " 19  Military Role    369 non-null    object \n",
      " 20  Political Role   786 non-null    object \n",
      " 21  Religious Role   77 non-null     object \n",
      " 22  Abusive          417 non-null    float64\n",
      " 23  Exclusive        13 non-null     float64\n",
      " 24  PowerAnger       29 non-null     float64\n",
      " 25  PowerEncourage   17 non-null     float64\n",
      " 26  PowerFear        71 non-null     float64\n",
      " 27  PowerForbidden   1 non-null      float64\n",
      " 28  PowerGreed       16 non-null     float64\n",
      " 29  PowerLust        0 non-null      float64\n",
      " 30  PowerSafety      1 non-null      float64\n",
      " 31  Absolutist       0 non-null      float64\n",
      " 32  Equivocal        0 non-null      float64\n",
      " 33  Connective       0 non-null      float64\n",
      " 34  NamedEntity      0 non-null      float64\n",
      " 35  Pronoun_Level    69 non-null     float64\n",
      " 36  Adverb           1 non-null      float64\n",
      " 37  OtherUsage       46 non-null     float64\n",
      " 38  inclusive        40 non-null     float64\n",
      " 39  modulator        3 non-null      object \n",
      " 40  stop word        95 non-null     float64\n",
      " 41  common word      118 non-null    float64\n",
      " 42  Category 4       0 non-null      float64\n",
      " 43  term             19035 non-null  object \n",
      "dtypes: float64(28), int64(1), object(15)\n",
      "memory usage: 6.5+ MB\n"
     ]
    },
    {
     "name": "stderr",
     "output_type": "stream",
     "text": [
      "/tmp/ipykernel_3768507/2626968462.py:4: SettingWithCopyWarning: \n",
      "A value is trying to be set on a copy of a slice from a DataFrame.\n",
      "Try using .loc[row_indexer,col_indexer] = value instead\n",
      "\n",
      "See the caveats in the documentation: https://pandas.pydata.org/pandas-docs/stable/user_guide/indexing.html#returning-a-view-versus-a-copy\n",
      "  identities['term'] = identities['English'].str.lower()\n",
      "/tmp/ipykernel_3768507/2626968462.py:5: SettingWithCopyWarning: \n",
      "A value is trying to be set on a copy of a slice from a DataFrame\n",
      "\n",
      "See the caveats in the documentation: https://pandas.pydata.org/pandas-docs/stable/user_guide/indexing.html#returning-a-view-versus-a-copy\n",
      "  identities.drop_duplicates(subset='term', inplace=True)\n"
     ]
    }
   ],
   "source": [
    "# Filter to English, remove duplicates\n",
    "cols = multi_identities.columns.tolist()\n",
    "identities = multi_identities[cols[cols.index('English'):]]\n",
    "identities['term'] = identities['English'].str.lower()\n",
    "identities.drop_duplicates(subset='term', inplace=True)\n",
    "identities.info()"
   ]
  },
  {
   "cell_type": "code",
   "execution_count": null,
   "id": "89bc1a4f-adb1-41a9-837e-0877e329fedc",
   "metadata": {},
   "outputs": [],
   "source": [
    "# Separate out stopwords\n",
    "stops = ident\n",
    "identities[identities['stop word']==1]['term'].tolist()"
   ]
  },
  {
   "cell_type": "code",
   "execution_count": 26,
   "id": "7ba54487-b970-433c-b31b-decc9c686e0e",
   "metadata": {},
   "outputs": [
    {
     "data": {
      "text/plain": [
       "19035"
      ]
     },
     "execution_count": 26,
     "metadata": {},
     "output_type": "execute_result"
    }
   ],
   "source": [
    "# Search for identity matches\n",
    "import re\n",
    "\n",
    "pats = [re.compile(r'\\b{}\\b'.format(re.escape(term.lower()))) for term in identities['English']]\n",
    "len(pats)"
   ]
  },
  {
   "cell_type": "code",
   "execution_count": 32,
   "id": "6a5923d5-b9d9-4bed-a497-7e7f5c642d1f",
   "metadata": {},
   "outputs": [],
   "source": [
    "def contains_match(text):\n",
    "    \"\"\" Return matched patterns present in text \"\"\" \n",
    "    return [re.search(p, str(text).lower()).group() for p in pats if re.search(p, str(text).lower()) is not None]"
   ]
  },
  {
   "cell_type": "code",
   "execution_count": 28,
   "id": "3f7c6690-c489-49f9-853b-ccdb4d39c864",
   "metadata": {},
   "outputs": [
    {
     "data": {
      "text/plain": [
       "['i', 'british']"
      ]
     },
     "execution_count": 28,
     "metadata": {},
     "output_type": "execute_result"
    }
   ],
   "source": [
    "contains_match('i am british')"
   ]
  },
  {
   "cell_type": "code",
   "execution_count": 33,
   "id": "204c8d5f-0d40-4133-8e9a-0c4277a3d226",
   "metadata": {},
   "outputs": [
    {
     "name": "stderr",
     "output_type": "stream",
     "text": [
      "/tmp/ipykernel_3768507/890038720.py:2: SettingWithCopyWarning: \n",
      "A value is trying to be set on a copy of a slice from a DataFrame.\n",
      "Try using .loc[row_indexer,col_indexer] = value instead\n",
      "\n",
      "See the caveats in the documentation: https://pandas.pydata.org/pandas-docs/stable/user_guide/indexing.html#returning-a-view-versus-a-copy\n",
      "  head['nm_identity_matches'] = head.content.map(contains_match)\n"
     ]
    },
    {
     "data": {
      "text/html": [
       "<div>\n",
       "<style scoped>\n",
       "    .dataframe tbody tr th:only-of-type {\n",
       "        vertical-align: middle;\n",
       "    }\n",
       "\n",
       "    .dataframe tbody tr th {\n",
       "        vertical-align: top;\n",
       "    }\n",
       "\n",
       "    .dataframe thead th {\n",
       "        text-align: right;\n",
       "    }\n",
       "</style>\n",
       "<table border=\"1\" class=\"dataframe\">\n",
       "  <thead>\n",
       "    <tr style=\"text-align: right;\">\n",
       "      <th></th>\n",
       "      <th>type</th>\n",
       "      <th>forum</th>\n",
       "      <th>thread</th>\n",
       "      <th>username</th>\n",
       "      <th>date</th>\n",
       "      <th>content</th>\n",
       "      <th>parsed_date</th>\n",
       "      <th>nm_identity_matches</th>\n",
       "    </tr>\n",
       "  </thead>\n",
       "  <tbody>\n",
       "    <tr>\n",
       "      <th>0</th>\n",
       "      <td>COMMENT</td>\n",
       "      <td>001-MustReadContent</td>\n",
       "      <td>0000014-Itssosadthatwereplacesoc</td>\n",
       "      <td>Transcended Trucel</td>\n",
       "      <td>Nov 20, 2020</td>\n",
       "      <td>Indeed its very sad thing, but no choice for us.</td>\n",
       "      <td>2020-11-20</td>\n",
       "      <td>[its, us]</td>\n",
       "    </tr>\n",
       "    <tr>\n",
       "      <th>1</th>\n",
       "      <td>COMMENT</td>\n",
       "      <td>001-MustReadContent</td>\n",
       "      <td>0000014-Itssosadthatwereplacesoc</td>\n",
       "      <td>ItsNotADream</td>\n",
       "      <td>Nov 20, 2020</td>\n",
       "      <td>to be fair all normies nowadays are on their i...</td>\n",
       "      <td>2020-11-20</td>\n",
       "      <td>[their]</td>\n",
       "    </tr>\n",
       "    <tr>\n",
       "      <th>2</th>\n",
       "      <td>COMMENT</td>\n",
       "      <td>001-MustReadContent</td>\n",
       "      <td>0000014-Itssosadthatwereplacesoc</td>\n",
       "      <td>AAAAAAAAAAAcel</td>\n",
       "      <td>Nov 20, 2020</td>\n",
       "      <td>What would you prefer, staring at the wall all...</td>\n",
       "      <td>2020-11-20</td>\n",
       "      <td>[you, nobody]</td>\n",
       "    </tr>\n",
       "    <tr>\n",
       "      <th>3</th>\n",
       "      <td>COMMENT</td>\n",
       "      <td>001-MustReadContent</td>\n",
       "      <td>0000014-Itssosadthatwereplacesoc</td>\n",
       "      <td>Amerihiki</td>\n",
       "      <td>Nov 20, 2020</td>\n",
       "      <td>I know how you feel; I lost interest in vidya,...</td>\n",
       "      <td>2020-11-20</td>\n",
       "      <td>[i, you, other]</td>\n",
       "    </tr>\n",
       "    <tr>\n",
       "      <th>4</th>\n",
       "      <td>COMMENT</td>\n",
       "      <td>001-MustReadContent</td>\n",
       "      <td>0000014-Itssosadthatwereplacesoc</td>\n",
       "      <td>Deleted member 7448</td>\n",
       "      <td>Nov 20, 2020</td>\n",
       "      <td>ItsNotADream said: to be fair all normies nowa...</td>\n",
       "      <td>2020-11-20</td>\n",
       "      <td>[i, i'm, it, it's, their, they, they're, other]</td>\n",
       "    </tr>\n",
       "    <tr>\n",
       "      <th>...</th>\n",
       "      <td>...</td>\n",
       "      <td>...</td>\n",
       "      <td>...</td>\n",
       "      <td>...</td>\n",
       "      <td>...</td>\n",
       "      <td>...</td>\n",
       "      <td>...</td>\n",
       "      <td>...</td>\n",
       "    </tr>\n",
       "    <tr>\n",
       "      <th>94</th>\n",
       "      <td>COMMENT</td>\n",
       "      <td>001-MustReadContent</td>\n",
       "      <td>0000005-Baldingissoterrifyingtha</td>\n",
       "      <td>Irredeemable</td>\n",
       "      <td>Sep 25, 2020</td>\n",
       "      <td>FullTimeLoser said: Balding can take a giga ch...</td>\n",
       "      <td>2020-09-25</td>\n",
       "      <td>[it, it's]</td>\n",
       "    </tr>\n",
       "    <tr>\n",
       "      <th>96</th>\n",
       "      <td>COMMENT</td>\n",
       "      <td>001-MustReadContent</td>\n",
       "      <td>0000005-Baldingissoterrifyingtha</td>\n",
       "      <td>Gymcelled</td>\n",
       "      <td>Sep 25, 2020</td>\n",
       "      <td>FullTimeLoser said: Balding can take a giga ch...</td>\n",
       "      <td>2020-09-25</td>\n",
       "      <td>[i, me, it, it's, you, him]</td>\n",
       "    </tr>\n",
       "    <tr>\n",
       "      <th>97</th>\n",
       "      <td>COMMENT</td>\n",
       "      <td>001-MustReadContent</td>\n",
       "      <td>0000005-Baldingissoterrifyingtha</td>\n",
       "      <td>mänline</td>\n",
       "      <td>Sep 25, 2020</td>\n",
       "      <td>Jude Law looked better with balding IMO. But m...</td>\n",
       "      <td>2020-09-25</td>\n",
       "      <td>[his]</td>\n",
       "    </tr>\n",
       "    <tr>\n",
       "      <th>98</th>\n",
       "      <td>COMMENT</td>\n",
       "      <td>001-MustReadContent</td>\n",
       "      <td>0000005-Baldingissoterrifyingtha</td>\n",
       "      <td>Gymcelled</td>\n",
       "      <td>Sep 25, 2020</td>\n",
       "      <td>ReturnOfSaddam said: Legendary thread. Hair tr...</td>\n",
       "      <td>2020-09-25</td>\n",
       "      <td>[i, it, it's, they, you, your, you're, male, d...</td>\n",
       "    </tr>\n",
       "    <tr>\n",
       "      <th>99</th>\n",
       "      <td>COMMENT</td>\n",
       "      <td>001-MustReadContent</td>\n",
       "      <td>0000005-Baldingissoterrifyingtha</td>\n",
       "      <td>micropenis29</td>\n",
       "      <td>Sep 25, 2020</td>\n",
       "      <td>Gymcelled said: If it wasn't important rich me...</td>\n",
       "      <td>2020-09-25</td>\n",
       "      <td>[it, men]</td>\n",
       "    </tr>\n",
       "  </tbody>\n",
       "</table>\n",
       "<p>90 rows × 8 columns</p>\n",
       "</div>"
      ],
      "text/plain": [
       "       type                forum                            thread  \\\n",
       "0   COMMENT  001-MustReadContent  0000014-Itssosadthatwereplacesoc   \n",
       "1   COMMENT  001-MustReadContent  0000014-Itssosadthatwereplacesoc   \n",
       "2   COMMENT  001-MustReadContent  0000014-Itssosadthatwereplacesoc   \n",
       "3   COMMENT  001-MustReadContent  0000014-Itssosadthatwereplacesoc   \n",
       "4   COMMENT  001-MustReadContent  0000014-Itssosadthatwereplacesoc   \n",
       "..      ...                  ...                               ...   \n",
       "94  COMMENT  001-MustReadContent  0000005-Baldingissoterrifyingtha   \n",
       "96  COMMENT  001-MustReadContent  0000005-Baldingissoterrifyingtha   \n",
       "97  COMMENT  001-MustReadContent  0000005-Baldingissoterrifyingtha   \n",
       "98  COMMENT  001-MustReadContent  0000005-Baldingissoterrifyingtha   \n",
       "99  COMMENT  001-MustReadContent  0000005-Baldingissoterrifyingtha   \n",
       "\n",
       "               username          date  \\\n",
       "0    Transcended Trucel  Nov 20, 2020   \n",
       "1          ItsNotADream  Nov 20, 2020   \n",
       "2        AAAAAAAAAAAcel  Nov 20, 2020   \n",
       "3             Amerihiki  Nov 20, 2020   \n",
       "4   Deleted member 7448  Nov 20, 2020   \n",
       "..                  ...           ...   \n",
       "94         Irredeemable  Sep 25, 2020   \n",
       "96            Gymcelled  Sep 25, 2020   \n",
       "97              mänline  Sep 25, 2020   \n",
       "98            Gymcelled  Sep 25, 2020   \n",
       "99         micropenis29  Sep 25, 2020   \n",
       "\n",
       "                                              content parsed_date  \\\n",
       "0    Indeed its very sad thing, but no choice for us.  2020-11-20   \n",
       "1   to be fair all normies nowadays are on their i...  2020-11-20   \n",
       "2   What would you prefer, staring at the wall all...  2020-11-20   \n",
       "3   I know how you feel; I lost interest in vidya,...  2020-11-20   \n",
       "4   ItsNotADream said: to be fair all normies nowa...  2020-11-20   \n",
       "..                                                ...         ...   \n",
       "94  FullTimeLoser said: Balding can take a giga ch...  2020-09-25   \n",
       "96  FullTimeLoser said: Balding can take a giga ch...  2020-09-25   \n",
       "97  Jude Law looked better with balding IMO. But m...  2020-09-25   \n",
       "98  ReturnOfSaddam said: Legendary thread. Hair tr...  2020-09-25   \n",
       "99  Gymcelled said: If it wasn't important rich me...  2020-09-25   \n",
       "\n",
       "                                  nm_identity_matches  \n",
       "0                                           [its, us]  \n",
       "1                                             [their]  \n",
       "2                                       [you, nobody]  \n",
       "3                                     [i, you, other]  \n",
       "4     [i, i'm, it, it's, their, they, they're, other]  \n",
       "..                                                ...  \n",
       "94                                         [it, it's]  \n",
       "96                        [i, me, it, it's, you, him]  \n",
       "97                                              [his]  \n",
       "98  [i, it, it's, they, you, your, you're, male, d...  \n",
       "99                                          [it, men]  \n",
       "\n",
       "[90 rows x 8 columns]"
      ]
     },
     "execution_count": 33,
     "metadata": {},
     "output_type": "execute_result"
    }
   ],
   "source": [
    "head = data.head(100)\n",
    "head['nm_identity_matches'] = head.content.map(contains_match)\n",
    "head[head.nm_identity_matches.str.len() > 0]"
   ]
  }
 ],
 "metadata": {
  "kernelspec": {
   "display_name": "Python 3 (ipykernel)",
   "language": "python",
   "name": "python3"
  },
  "language_info": {
   "codemirror_mode": {
    "name": "ipython",
    "version": 3
   },
   "file_extension": ".py",
   "mimetype": "text/x-python",
   "name": "python",
   "nbconvert_exporter": "python",
   "pygments_lexer": "ipython3",
   "version": "3.10.9"
  }
 },
 "nbformat": 4,
 "nbformat_minor": 5
}
