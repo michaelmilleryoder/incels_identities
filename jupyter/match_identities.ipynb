{
 "cells": [
  {
   "cell_type": "markdown",
   "id": "272ca5c4-8181-44dc-8a0f-26049a58ba32",
   "metadata": {},
   "source": [
    "# Find identity term matches in data\n",
    "\n",
    "See process_data.py"
   ]
  },
  {
   "cell_type": "code",
   "execution_count": 1,
   "id": "874dbdb0-ac10-4e84-a3dd-4e08c3d0025c",
   "metadata": {},
   "outputs": [
    {
     "name": "stdout",
     "output_type": "stream",
     "text": [
      "<class 'pandas.core.frame.DataFrame'>\n",
      "RangeIndex: 6248230 entries, 0 to 6248229\n",
      "Data columns (total 7 columns):\n",
      " #   Column       Dtype         \n",
      "---  ------       -----         \n",
      " 0   type         object        \n",
      " 1   forum        object        \n",
      " 2   thread       object        \n",
      " 3   username     object        \n",
      " 4   date         object        \n",
      " 5   content      object        \n",
      " 6   parsed_date  datetime64[ns]\n",
      "dtypes: datetime64[ns](1), object(6)\n",
      "memory usage: 333.7+ MB\n"
     ]
    }
   ],
   "source": [
    "# Load incels data\n",
    "import pandas as pd\n",
    "import csv\n",
    "\n",
    "path = '../../data/incels/all_comments.csv'\n",
    "# data = pd.read_csv(path, engine='python', on_bad_lines=lambda x: print(x))\n",
    "data = pd.read_csv(path, engine='python', on_bad_lines=lambda row: row[:-2].append(' '.join(row[-2:]))) # combine last 2 elements in a line mentioning Gulag\n",
    "data['parsed_date'] = pd.to_datetime(data.date, errors='coerce') # \"yesterday\" etc not handled\n",
    "data.info()"
   ]
  },
  {
   "cell_type": "markdown",
   "id": "b057efbe-a0ad-499e-8df4-3ffc20d13168",
   "metadata": {},
   "source": [
    "## NetMapper identity term list"
   ]
  },
  {
   "cell_type": "code",
   "execution_count": 92,
   "id": "19deadaa-ed22-4fac-bf8f-87138560beb5",
   "metadata": {},
   "outputs": [
    {
     "name": "stdout",
     "output_type": "stream",
     "text": [
      "<class 'pandas.core.frame.DataFrame'>\n",
      "RangeIndex: 19887 entries, 0 to 19886\n",
      "Columns: 156 entries, Akan to Category 4\n",
      "dtypes: float64(56), int64(1), object(99)\n",
      "memory usage: 23.7+ MB\n"
     ]
    }
   ],
   "source": [
    "# Load identity terms\n",
    "import pandas as pd\n",
    "\n",
    "nm_identities_path = '../resources/generic_agents-identity_v15_2021_10_15.xlsx'\n",
    "multi_identities = pd.read_excel(nm_identities_path)\n",
    "multi_identities.info()"
   ]
  },
  {
   "cell_type": "code",
   "execution_count": 93,
   "id": "a101f7e5-fee7-42e8-974f-e6532a13a6f9",
   "metadata": {
    "scrolled": true,
    "tags": []
   },
   "outputs": [
    {
     "name": "stdout",
     "output_type": "stream",
     "text": [
      "<class 'pandas.core.frame.DataFrame'>\n",
      "Int64Index: 19035 entries, 0 to 19886\n",
      "Data columns (total 44 columns):\n",
      " #   Column           Non-Null Count  Dtype  \n",
      "---  ------           --------------  -----  \n",
      " 0   English          19035 non-null  object \n",
      " 1   conceptTo        19035 non-null  object \n",
      " 2   metaOntology     19035 non-null  object \n",
      " 3   nodeType         0 non-null      float64\n",
      " 4   Category 1       9703 non-null   object \n",
      " 5   Category 2       911 non-null    object \n",
      " 6   Category 3       18929 non-null  object \n",
      " 7   Country          4712 non-null   object \n",
      " 8   First Name       0 non-null      float64\n",
      " 9   Last Name        0 non-null      float64\n",
      " 10  Gender           759 non-null    object \n",
      " 11  Suffix           0 non-null      float64\n",
      " 12  Language         0 non-null      float64\n",
      " 13  Acronym          336 non-null    object \n",
      " 14  Valence          19035 non-null  object \n",
      " 15  Evaluation       19035 non-null  int64  \n",
      " 16  Potency          10 non-null     float64\n",
      " 17  Activity         0 non-null      float64\n",
      " 18  Affect Mean      19035 non-null  float64\n",
      " 19  Military Role    369 non-null    object \n",
      " 20  Political Role   786 non-null    object \n",
      " 21  Religious Role   77 non-null     object \n",
      " 22  Abusive          417 non-null    float64\n",
      " 23  Exclusive        13 non-null     float64\n",
      " 24  PowerAnger       29 non-null     float64\n",
      " 25  PowerEncourage   17 non-null     float64\n",
      " 26  PowerFear        71 non-null     float64\n",
      " 27  PowerForbidden   1 non-null      float64\n",
      " 28  PowerGreed       16 non-null     float64\n",
      " 29  PowerLust        0 non-null      float64\n",
      " 30  PowerSafety      1 non-null      float64\n",
      " 31  Absolutist       0 non-null      float64\n",
      " 32  Equivocal        0 non-null      float64\n",
      " 33  Connective       0 non-null      float64\n",
      " 34  NamedEntity      0 non-null      float64\n",
      " 35  Pronoun_Level    69 non-null     float64\n",
      " 36  Adverb           1 non-null      float64\n",
      " 37  OtherUsage       46 non-null     float64\n",
      " 38  inclusive        40 non-null     float64\n",
      " 39  modulator        3 non-null      object \n",
      " 40  stop word        95 non-null     float64\n",
      " 41  common word      118 non-null    float64\n",
      " 42  Category 4       0 non-null      float64\n",
      " 43  term             19035 non-null  object \n",
      "dtypes: float64(28), int64(1), object(15)\n",
      "memory usage: 6.5+ MB\n"
     ]
    },
    {
     "name": "stderr",
     "output_type": "stream",
     "text": [
      "/tmp/ipykernel_4157208/3338936415.py:4: SettingWithCopyWarning:\n",
      "\n",
      "\n",
      "A value is trying to be set on a copy of a slice from a DataFrame.\n",
      "Try using .loc[row_indexer,col_indexer] = value instead\n",
      "\n",
      "See the caveats in the documentation: https://pandas.pydata.org/pandas-docs/stable/user_guide/indexing.html#returning-a-view-versus-a-copy\n",
      "\n",
      "/tmp/ipykernel_4157208/3338936415.py:5: SettingWithCopyWarning:\n",
      "\n",
      "\n",
      "A value is trying to be set on a copy of a slice from a DataFrame\n",
      "\n",
      "See the caveats in the documentation: https://pandas.pydata.org/pandas-docs/stable/user_guide/indexing.html#returning-a-view-versus-a-copy\n",
      "\n"
     ]
    }
   ],
   "source": [
    "# Filter to English, remove duplicates\n",
    "cols = multi_identities.columns.tolist()\n",
    "en_identities = multi_identities[cols[cols.index('English'):]]\n",
    "en_identities['term'] = en_identities['English'].str.lower()\n",
    "en_identities.drop_duplicates(subset='term', inplace=True)\n",
    "en_identities.info()"
   ]
  },
  {
   "cell_type": "code",
   "execution_count": 94,
   "id": "aa3c3624-597b-47c2-9f55-d080ac1d53c2",
   "metadata": {},
   "outputs": [
    {
     "data": {
      "text/plain": [
       "['black american',\n",
       " 'black americans',\n",
       " 'black mamba boy',\n",
       " 'black mambas',\n",
       " 'black muslim',\n",
       " 'black muslims',\n",
       " 'black piranha',\n",
       " 'black prince',\n",
       " 'black sheep',\n",
       " 'black southafricans',\n",
       " 'black sudanese',\n",
       " 'million black sudanese',\n",
       " 'black swan',\n",
       " 'black widow',\n",
       " 'black wolf',\n",
       " 'blackfoot',\n",
       " 'blackhorse',\n",
       " 'blackman',\n",
       " 'blacksmith',\n",
       " 'blacksmiths',\n",
       " 'ex black',\n",
       " 'ex-black',\n",
       " 'royal black member',\n",
       " 'royal black members',\n",
       " 'royal black preceptory members',\n",
       " 'blackmailer',\n",
       " 'blackmailers']"
      ]
     },
     "execution_count": 94,
     "metadata": {},
     "output_type": "execute_result"
    }
   ],
   "source": [
    "[identity for identity in en_identities.term if 'black' in identity]"
   ]
  },
  {
   "cell_type": "code",
   "execution_count": 95,
   "id": "fc57d789-83ee-49c1-8ba0-62838ee0a639",
   "metadata": {},
   "outputs": [
    {
     "data": {
      "text/plain": [
       "['white man',\n",
       " 'whiteman',\n",
       " 'poorwhitetrash',\n",
       " 'whitenigger',\n",
       " 'whitetrash',\n",
       " 'ex white house aide',\n",
       " 'ex-white house aide',\n",
       " 'gangs of whites',\n",
       " 'nonwhites',\n",
       " 'white anglo saxon protestant',\n",
       " 'white anglo-saxon protestant',\n",
       " 'white house adviser',\n",
       " 'white house aide',\n",
       " 'white house aides',\n",
       " 'white houseofficials',\n",
       " 'white house spokesman',\n",
       " 'white house spokesperson',\n",
       " 'white house spokeswoman',\n",
       " 'white housespokesperson',\n",
       " 'white nile chairman',\n",
       " 'white slave',\n",
       " 'white witch']"
      ]
     },
     "execution_count": 95,
     "metadata": {},
     "output_type": "execute_result"
    }
   ],
   "source": [
    "[identity for identity in en_identities.term if 'white' in identity]"
   ]
  },
  {
   "cell_type": "code",
   "execution_count": 18,
   "id": "97ae4e48-9d83-4300-9939-09151bf350f8",
   "metadata": {},
   "outputs": [
    {
     "name": "stdout",
     "output_type": "stream",
     "text": [
      "18837\n"
     ]
    }
   ],
   "source": [
    "# Separate out stopwords\n",
    "stops = en_identities[en_identities['stop word']==1]\n",
    "exclude_list = ['don', 'other', 'others', 'friend', 'friends', 'people', 'who', 'asshole', 'dick',\n",
    "               'character', 'person', 'people', 'majority', 'bot', 'everyone', 'everyone here',\n",
    "                'officially', 'tech', 'individual', 'worker', 'workers', 'giant', 'human', 'humans', 'ass',\n",
    "                'nobody', 'brother', 'sister', 'mother', \"mother's\", 'father', 'daughter', 'son', 'mom', 'wife', 'wives', 'husband', 'husbands', 'cousin', 'cousins',\n",
    "                'they all', 'count', 'god', 'general', 'user', 'users', 'member', 'members', 'english', 'finish', 'slayer', 'speaker',\n",
    "                'misogynist', 'king', 'queen', 'rn', 'fellow', 'buddy', 'enemies', 'corpse', 'revolutionary', 'gymnast', 'messiah', 'jesus', 'embryo',\n",
    "                'dr', 'doctor', 'dahmer', 'characters', 'cheat', 'sexist', 'professional', 'client', 'mate', 'dad', 'customers', 'assholes', 'whose',\n",
    "                'mama', 'co-workers', 'employees', 'uncle', 'hermit', 'ogre', 'potter', 'phantom', 'dwellers', 'saviour', 'prophet', 'morons', 'guide',\n",
    "                'majors', 'partners', 'villain', 'agent', 'model', 'juggernaut', 'ego', 'avatar', 'player', 'dragon', 'pm', 'winner', 'winners', 'surrogate', 'nudes',\n",
    "               ]\n",
    "exclude = en_identities[en_identities['term'].isin(exclude_list)]\n",
    "identities = en_identities[(en_identities['stop word']!=1) & (~en_identities['term'].isin(exclude_list))]\n",
    "\n",
    "# Search for identity matches\n",
    "import re\n",
    "\n",
    "pats = [re.compile(r'\\b{}\\b'.format(re.escape(term))) for term in identities['term']]\n",
    "print(len(pats))\n",
    "\n",
    "def contains_match(text):\n",
    "    \"\"\" Return matched patterns present in text \"\"\" \n",
    "    return [re.search(p, str(text).lower()).group() for p in pats if re.search(p, str(text).lower()) is not None]\n",
    "\n",
    "from collections import Counter\n",
    "\n",
    "sample = data.sample(1000)"
   ]
  },
  {
   "cell_type": "code",
   "execution_count": 8,
   "id": "66a42301-8fcf-4f8f-b459-e2e837f2c3ae",
   "metadata": {},
   "outputs": [
    {
     "data": {
      "text/plain": [
       "1782573"
      ]
     },
     "execution_count": 8,
     "metadata": {},
     "output_type": "execute_result"
    }
   ],
   "source": [
    "# Filter to terms present at least once in the combined text (make this as fast as possible)\n",
    "# vocab = set(data.content.astype('str').str.lower().str.split().sum()) # doesn't tokenize (remove punct) but whatever\n",
    "vocab = set()\n",
    "data.content.astype('str').str.lower().str.split().apply(vocab.update)\n",
    "len(vocab)"
   ]
  },
  {
   "cell_type": "code",
   "execution_count": 19,
   "id": "a1d5d75b-0f5d-4396-bd7f-a76fc249c173",
   "metadata": {},
   "outputs": [
    {
     "data": {
      "text/plain": [
       "5564"
      ]
     },
     "execution_count": 19,
     "metadata": {},
     "output_type": "execute_result"
    }
   ],
   "source": [
    "from tqdm.notebook import tqdm\n",
    "\n",
    "present_terms = [term for term in identities['term'] if term in vocab]\n",
    "len(present_terms)"
   ]
  },
  {
   "cell_type": "code",
   "execution_count": 21,
   "id": "fec453c5-01d2-4dc4-8aef-06039db166d3",
   "metadata": {
    "scrolled": true,
    "tags": []
   },
   "outputs": [],
   "source": [
    "pats_combo = re.compile(r'|'.join([(r'\\b{}\\b'.format(re.escape(term.lower()))) for term in present_terms]))\n",
    "# pats_combo\n",
    "\n",
    "def contains_match(text):\n",
    "    \"\"\" Return matched patterns present in text \"\"\" \n",
    "    return re.findall(pats_combo, str(text).lower())"
   ]
  },
  {
   "cell_type": "code",
   "execution_count": 21,
   "id": "5032667f-1d38-45e8-8f58-f3c378d662a9",
   "metadata": {
    "scrolled": true,
    "tags": []
   },
   "outputs": [
    {
     "name": "stdout",
     "output_type": "stream",
     "text": [
      "58.5 s ± 0 ns per loop (mean ± std. dev. of 1 run, 1 loop each)\n"
     ]
    }
   ],
   "source": [
    "%%timeit -n 1 -r 1\n",
    "# With separate re.search\n",
    "\n",
    "sample['nm_identity_matches'] = sample.content.map(contains_match)\n",
    "# sample[sample.nm_identity_matches.str.len() > 0]"
   ]
  },
  {
   "cell_type": "code",
   "execution_count": 22,
   "id": "af08f58c-4a15-4b32-8fef-683908b1f7c3",
   "metadata": {
    "scrolled": true,
    "tags": []
   },
   "outputs": [],
   "source": [
    "# %%timeit -n 1 -r 3\n",
    "# With combined re\n",
    "\n",
    "sample['nm_identity_matches'] = sample.content.map(contains_match)\n",
    "# sample[sample.nm_identity_matches.str.len() > 0]"
   ]
  },
  {
   "cell_type": "code",
   "execution_count": 23,
   "id": "b2d51ddd-3d24-4cad-ba3a-7e77fdb27aac",
   "metadata": {
    "scrolled": true,
    "tags": []
   },
   "outputs": [
    {
     "data": {
      "text/plain": [
       "[('women', 78),\n",
       " ('man', 55),\n",
       " ('men', 55),\n",
       " ('jews', 27),\n",
       " ('bro', 26),\n",
       " ('female', 24),\n",
       " ('girls', 22),\n",
       " ('woman', 20),\n",
       " ('male', 19),\n",
       " ('jew', 15),\n",
       " ('virgin', 15),\n",
       " ('males', 14),\n",
       " ('whore', 14),\n",
       " ('whores', 14),\n",
       " ('girl', 14),\n",
       " ('intellectual', 14),\n",
       " ('females', 13),\n",
       " ('dude', 13),\n",
       " ('intellectuals', 13),\n",
       " ('arabs', 11),\n",
       " ('asian', 11),\n",
       " ('nigger', 10),\n",
       " ('faggot', 10),\n",
       " ('feminist', 9),\n",
       " ('niggers', 9),\n",
       " ('subhuman', 8),\n",
       " ('child', 8),\n",
       " ('christian', 8),\n",
       " ('girlfriend', 7),\n",
       " ('arab', 7),\n",
       " ('leftist', 7),\n",
       " ('chinese', 6),\n",
       " ('muslim', 6),\n",
       " ('asians', 6),\n",
       " ('nazi', 6),\n",
       " ('enemy', 5),\n",
       " ('dudes', 5),\n",
       " ('catholic', 5),\n",
       " ('fag', 5),\n",
       " ('boyfriend', 5),\n",
       " ('indian', 5),\n",
       " ('european', 5),\n",
       " ('kid', 5),\n",
       " ('scum', 4),\n",
       " ('driver', 4),\n",
       " ('indians', 4),\n",
       " ('christ', 4),\n",
       " ('socialist', 4),\n",
       " ('hookers', 4),\n",
       " ('virgins', 4),\n",
       " ('kids', 4),\n",
       " ('sluts', 4),\n",
       " ('racist', 4),\n",
       " ('leader', 4),\n",
       " ('socialists', 4),\n",
       " ('american', 4),\n",
       " ('bitch', 4),\n",
       " ('brits', 3),\n",
       " ('jerk', 3),\n",
       " ('teacher', 3),\n",
       " ('hunter', 3),\n",
       " ('liberal', 3),\n",
       " ('daddy', 3),\n",
       " ('retard', 3),\n",
       " ('german', 3),\n",
       " ('bitches', 3),\n",
       " ('baby', 3),\n",
       " ('slut', 3),\n",
       " ('saint', 3),\n",
       " ('staff', 3),\n",
       " ('clown', 3),\n",
       " ('prostitute', 3),\n",
       " ('slave', 3),\n",
       " ('communist', 3),\n",
       " ('scapegoat', 3),\n",
       " ('germans', 3),\n",
       " ('italian', 3),\n",
       " ('dwarf', 3),\n",
       " ('allies', 3),\n",
       " ('peoples', 3),\n",
       " ('homosexual', 3),\n",
       " ('fuhrer', 3),\n",
       " ('koreans', 3),\n",
       " ('fuckers', 2),\n",
       " ('boyfriends', 2),\n",
       " ('sleeper', 2),\n",
       " ('actors', 2),\n",
       " ('lebanese', 2),\n",
       " ('loner', 2),\n",
       " ('slaves', 2),\n",
       " ('asses', 2),\n",
       " ('emulator', 2),\n",
       " ('slav', 2),\n",
       " ('tard', 2),\n",
       " ('cook', 2),\n",
       " ('hardline', 2),\n",
       " ('fucker', 2),\n",
       " ('boys', 2),\n",
       " ('allah', 2),\n",
       " ('homosexuality', 2),\n",
       " ('actress', 2),\n",
       " ('parents', 2),\n",
       " ('sociopaths', 2),\n",
       " ('losers', 2),\n",
       " ('authoritarian', 2),\n",
       " ('womans', 2),\n",
       " ('saudi', 2),\n",
       " ('slavs', 2),\n",
       " ('student', 2),\n",
       " ('classmate', 2),\n",
       " ('children', 2),\n",
       " ('muslims', 2),\n",
       " ('ex-husband', 2),\n",
       " ('mary', 2),\n",
       " ('gentile', 2),\n",
       " ('japanese', 2),\n",
       " ('agents', 2),\n",
       " ('master', 2),\n",
       " ('representative', 2),\n",
       " ('hippie', 2),\n",
       " ('leaders', 2),\n",
       " ('cop', 2),\n",
       " ('pig', 2),\n",
       " ('advocate', 2),\n",
       " ('sergeant', 2),\n",
       " ('professors', 2),\n",
       " ('bourgeois', 2),\n",
       " ('owner', 2),\n",
       " ('soviet', 2),\n",
       " ('leftists', 2),\n",
       " ('powers', 2),\n",
       " ('parent', 2),\n",
       " ('classmates', 2),\n",
       " ('americans', 2),\n",
       " ('polish', 2),\n",
       " ('atheist', 2),\n",
       " ('judge', 2),\n",
       " ('french', 2),\n",
       " ('bastard', 2),\n",
       " ('narcissist', 2),\n",
       " ('monk', 2),\n",
       " ('native', 2),\n",
       " ('europeans', 2),\n",
       " ('mothers', 2),\n",
       " ('offspring', 2),\n",
       " ('syrian', 2),\n",
       " ('hooker', 2),\n",
       " ('faggots', 2),\n",
       " ('mexican', 2),\n",
       " ('african', 2),\n",
       " ('eccentric', 2),\n",
       " ('ape', 2),\n",
       " ('hero', 2),\n",
       " ('superhuman', 2),\n",
       " ('mommy', 2),\n",
       " ('kike', 2),\n",
       " ('dumbass', 2),\n",
       " ('suspect', 2),\n",
       " ('bankers', 2),\n",
       " ('official', 2),\n",
       " ('marxist', 2),\n",
       " ('victim', 2),\n",
       " ('president', 2),\n",
       " ('realist', 2),\n",
       " ('christians', 2),\n",
       " ('bf', 2),\n",
       " ('vietnamese', 2),\n",
       " ('champion', 2),\n",
       " ('liar', 1),\n",
       " ('dummy', 1),\n",
       " ('rapists', 1),\n",
       " ('humanitarian', 1),\n",
       " ('rockstar', 1),\n",
       " ('developers', 1),\n",
       " ('gambler', 1),\n",
       " ('knights', 1),\n",
       " ('foreigner', 1),\n",
       " ('estonians', 1),\n",
       " ('blonde', 1),\n",
       " ('motherfucker', 1),\n",
       " ('iranian', 1),\n",
       " ('iranians', 1),\n",
       " ('russians', 1),\n",
       " ('algerians', 1),\n",
       " ('libyans', 1),\n",
       " ('moroccans', 1),\n",
       " ('tunisians', 1),\n",
       " ('egyptians', 1),\n",
       " ('iraqis', 1),\n",
       " ('jordanians', 1),\n",
       " ('kuwaitis', 1),\n",
       " ('omanis', 1),\n",
       " ('qataris', 1),\n",
       " ('saudis', 1),\n",
       " ('sudanese', 1),\n",
       " ('syrians', 1),\n",
       " ('yemenis', 1),\n",
       " ('dumbfuck', 1),\n",
       " ('bosnian', 1),\n",
       " ('hypocrites', 1),\n",
       " ('dame', 1),\n",
       " ('gentlemen', 1),\n",
       " ('successor', 1),\n",
       " ('corpses', 1),\n",
       " ('weirdos', 1),\n",
       " ('gentleman', 1),\n",
       " ('homo', 1),\n",
       " ('rioters', 1),\n",
       " ('looters', 1),\n",
       " ('neighbors', 1),\n",
       " ('hawaiian', 1),\n",
       " ('ingrate', 1),\n",
       " ('traditionalists', 1),\n",
       " ('alien', 1),\n",
       " ('boy', 1),\n",
       " ('riders', 1),\n",
       " ('hispanic', 1),\n",
       " ('brownie', 1),\n",
       " ('guests', 1),\n",
       " ('follower', 1),\n",
       " ('tactician', 1),\n",
       " ('cheerleader', 1),\n",
       " ('wimp', 1),\n",
       " ('boxer', 1),\n",
       " ('boomers', 1),\n",
       " ('convert', 1),\n",
       " ('advocates', 1),\n",
       " ('advocated', 1),\n",
       " ('protagonist', 1),\n",
       " ('terrorist', 1),\n",
       " ('victims', 1),\n",
       " ('critics', 1),\n",
       " ('soviets', 1),\n",
       " ('persons', 1),\n",
       " ('saud', 1),\n",
       " ('zionists', 1),\n",
       " ('writer', 1),\n",
       " ('minister', 1),\n",
       " ('feminists', 1),\n",
       " ('radical', 1),\n",
       " ('drivers', 1),\n",
       " ('newbie', 1),\n",
       " ('albinos', 1),\n",
       " ('bully', 1),\n",
       " ('teenagers', 1),\n",
       " ('engineered', 1),\n",
       " ('mulatto', 1),\n",
       " ('zombies', 1),\n",
       " ('leech', 1),\n",
       " ('sons', 1),\n",
       " ('daughters', 1),\n",
       " ('commentator', 1),\n",
       " ('knight', 1),\n",
       " ('monster', 1),\n",
       " ('gays', 1),\n",
       " ('masters', 1),\n",
       " ('supporters', 1),\n",
       " ('tourist', 1),\n",
       " ('scientists', 1),\n",
       " ('grandparents', 1),\n",
       " ('grandma', 1),\n",
       " ('hippies', 1),\n",
       " ('wingers', 1),\n",
       " ('actresses', 1),\n",
       " ('teen', 1),\n",
       " ('poets', 1),\n",
       " ('writers', 1),\n",
       " ('mens', 1),\n",
       " ('fairy', 1),\n",
       " ('bodybuilders', 1),\n",
       " ('fighters', 1),\n",
       " ('athlete', 1),\n",
       " ('lobbyist', 1),\n",
       " ('introverted', 1),\n",
       " ('protestors', 1),\n",
       " ('lady', 1),\n",
       " ('amazon', 1),\n",
       " ('provider', 1),\n",
       " ('moderator', 1),\n",
       " ('henchmen', 1),\n",
       " ('students', 1),\n",
       " ('prisoners', 1),\n",
       " ('professor', 1),\n",
       " ('creators', 1),\n",
       " ('gatekeepers', 1),\n",
       " ('capitalists', 1),\n",
       " ('senator', 1),\n",
       " ('bureaucrats', 1),\n",
       " ('philosopher', 1),\n",
       " ('roman', 1),\n",
       " ('billionaire', 1),\n",
       " ('maniac', 1),\n",
       " ('pigs', 1),\n",
       " ('broker', 1),\n",
       " ('douchebag', 1),\n",
       " ('korean', 1),\n",
       " ('sibling', 1),\n",
       " ('tweeter', 1),\n",
       " ('tailoring', 1),\n",
       " ('thug', 1),\n",
       " ('brit', 1),\n",
       " ('aboriginal', 1),\n",
       " ('mannequins', 1),\n",
       " ('weakling', 1),\n",
       " ('host', 1),\n",
       " ('fool', 1),\n",
       " ('scandinavians', 1),\n",
       " ('brazilian', 1),\n",
       " ('motivator', 1),\n",
       " ('buddhist', 1),\n",
       " ('dutch', 1),\n",
       " ('marquis', 1),\n",
       " ('dentist', 1),\n",
       " ('taxpayers', 1),\n",
       " ('partner', 1),\n",
       " ('savage', 1),\n",
       " ('aggressor', 1),\n",
       " ('warrior', 1),\n",
       " ('nigga', 1),\n",
       " ('missionary', 1),\n",
       " ('niggas', 1),\n",
       " ('clients', 1),\n",
       " ('cunts', 1),\n",
       " ('robot', 1),\n",
       " ('protaganists', 1),\n",
       " ('russian', 1),\n",
       " ('turkish', 1),\n",
       " ('irish', 1),\n",
       " ('scandinavian', 1),\n",
       " ('spanish', 1),\n",
       " ('malaysian', 1),\n",
       " ('moroccan', 1),\n",
       " ('artist', 1),\n",
       " ('lad', 1),\n",
       " ('sir', 1),\n",
       " ('cuban', 1),\n",
       " ('experts', 1),\n",
       " ('norse', 1),\n",
       " ('supremacist', 1),\n",
       " ('hunters', 1),\n",
       " ('bosses', 1),\n",
       " ('sisters', 1),\n",
       " ('imbecile', 1),\n",
       " ('companion', 1),\n",
       " ('brothers', 1),\n",
       " ('anonymous', 1),\n",
       " ('consumer', 1),\n",
       " ('zombie', 1),\n",
       " ('redneck', 1),\n",
       " ('volunteer', 1),\n",
       " ('commando', 1),\n",
       " ('graduate', 1),\n",
       " ('contemporary', 1),\n",
       " ('attorney', 1),\n",
       " ('financiers', 1),\n",
       " ('expert', 1),\n",
       " ('fiddler', 1),\n",
       " ('skinhead', 1),\n",
       " ('pagan', 1),\n",
       " ('incumbent', 1),\n",
       " ('employer', 1),\n",
       " ('employee', 1),\n",
       " ('interrogators', 1),\n",
       " ('sheik', 1),\n",
       " ('criminal', 1),\n",
       " ('offender', 1),\n",
       " ('interviewee', 1),\n",
       " ('strategist', 1),\n",
       " ('ignoramus', 1),\n",
       " ('majesty', 1),\n",
       " ('visionary', 1),\n",
       " ('politician', 1),\n",
       " ('secretaries', 1),\n",
       " ('statesman', 1),\n",
       " ('charlatans', 1),\n",
       " ('personnel', 1),\n",
       " ('ministers', 1),\n",
       " ('idealist', 1),\n",
       " ('representatives', 1),\n",
       " ('fuhrers', 1),\n",
       " ('protectors', 1),\n",
       " ('protestant', 1),\n",
       " ('fundamentalist', 1),\n",
       " ('nationalist', 1),\n",
       " ('conquest', 1),\n",
       " ('believer', 1),\n",
       " ('lunatic', 1),\n",
       " ('predecessor', 1),\n",
       " ('monotheism', 1),\n",
       " ('nihilist', 1),\n",
       " ('serbs', 1),\n",
       " ('croatians', 1),\n",
       " ('winger', 1),\n",
       " ('princess', 1),\n",
       " ('doc', 1),\n",
       " ('mongolians', 1),\n",
       " ('relatives', 1),\n",
       " ('queens', 1),\n",
       " ('africans', 1),\n",
       " ('colonizers', 1),\n",
       " ('globalist', 1),\n",
       " ('rebels', 1),\n",
       " ('isolationist', 1),\n",
       " ('marxists', 1),\n",
       " ('heavyweight', 1),\n",
       " ('misanthrope', 1),\n",
       " ('infidels', 1),\n",
       " ('neighbor', 1),\n",
       " ('stripper', 1),\n",
       " ('cowgirl', 1),\n",
       " ('bigots', 1),\n",
       " ('fascist', 1),\n",
       " ('clowns', 1),\n",
       " ('coworkers', 1),\n",
       " ('weirdo', 1),\n",
       " ('janitor', 1),\n",
       " ('canadian', 1),\n",
       " ('followers', 1),\n",
       " ('commie', 1),\n",
       " ('girlfriends', 1),\n",
       " ('everyones', 1),\n",
       " ('communists', 1),\n",
       " ('pilots', 1),\n",
       " ('catcher', 1)]"
      ]
     },
     "execution_count": 23,
     "metadata": {},
     "output_type": "execute_result"
    }
   ],
   "source": [
    "identity_ctr = Counter(sample.nm_identity_matches.sum())\n",
    "identity_ctr.most_common()"
   ]
  },
  {
   "cell_type": "markdown",
   "id": "732a2ed1-3c62-426f-836b-4e1e4d11c35f",
   "metadata": {},
   "source": [
    "# Visualize identity term matches"
   ]
  },
  {
   "cell_type": "code",
   "execution_count": 154,
   "id": "b10ad7e0-d4e2-43dc-a751-34e64df8e386",
   "metadata": {},
   "outputs": [
    {
     "name": "stdout",
     "output_type": "stream",
     "text": [
      "<class 'pandas.core.frame.DataFrame'>\n",
      "RangeIndex: 6248230 entries, 0 to 6248229\n",
      "Data columns (total 8 columns):\n",
      " #   Column                      Dtype         \n",
      "---  ------                      -----         \n",
      " 0   type                        object        \n",
      " 1   forum                       object        \n",
      " 2   thread                      object        \n",
      " 3   username                    object        \n",
      " 4   date                        object        \n",
      " 5   content                     object        \n",
      " 6   parsed_date                 datetime64[ns]\n",
      " 7   netmapper_identity_matches  object        \n",
      "dtypes: datetime64[ns](1), object(7)\n",
      "memory usage: 381.4+ MB\n"
     ]
    }
   ],
   "source": [
    "# Load identity term matches\n",
    "import pandas as pd\n",
    "\n",
    "path = '../../data/incels/processed_comments.pkl'\n",
    "data = pd.read_pickle(path)\n",
    "data.info()"
   ]
  },
  {
   "cell_type": "markdown",
   "id": "4a8395f9-03ad-4c4b-8229-4d5c4229201b",
   "metadata": {},
   "source": [
    "## Total matches"
   ]
  },
  {
   "cell_type": "code",
   "execution_count": 155,
   "id": "3751d58e-a694-4837-b1dc-b5cc501d3900",
   "metadata": {},
   "outputs": [
    {
     "data": {
      "text/html": [
       "<div>\n",
       "<style scoped>\n",
       "    .dataframe tbody tr th:only-of-type {\n",
       "        vertical-align: middle;\n",
       "    }\n",
       "\n",
       "    .dataframe tbody tr th {\n",
       "        vertical-align: top;\n",
       "    }\n",
       "\n",
       "    .dataframe thead th {\n",
       "        text-align: right;\n",
       "    }\n",
       "</style>\n",
       "<table border=\"1\" class=\"dataframe\">\n",
       "  <thead>\n",
       "    <tr style=\"text-align: right;\">\n",
       "      <th></th>\n",
       "      <th>identity_term</th>\n",
       "      <th>count</th>\n",
       "    </tr>\n",
       "  </thead>\n",
       "  <tbody>\n",
       "    <tr>\n",
       "      <th>0</th>\n",
       "      <td>women</td>\n",
       "      <td>549606</td>\n",
       "    </tr>\n",
       "    <tr>\n",
       "      <th>1</th>\n",
       "      <td>men</td>\n",
       "      <td>396498</td>\n",
       "    </tr>\n",
       "    <tr>\n",
       "      <th>2</th>\n",
       "      <td>man</td>\n",
       "      <td>265317</td>\n",
       "    </tr>\n",
       "    <tr>\n",
       "      <th>3</th>\n",
       "      <td>girls</td>\n",
       "      <td>176214</td>\n",
       "    </tr>\n",
       "    <tr>\n",
       "      <th>4</th>\n",
       "      <td>girl</td>\n",
       "      <td>161948</td>\n",
       "    </tr>\n",
       "    <tr>\n",
       "      <th>5</th>\n",
       "      <td>bro</td>\n",
       "      <td>150947</td>\n",
       "    </tr>\n",
       "    <tr>\n",
       "      <th>6</th>\n",
       "      <td>woman</td>\n",
       "      <td>135172</td>\n",
       "    </tr>\n",
       "    <tr>\n",
       "      <th>7</th>\n",
       "      <td>female</td>\n",
       "      <td>131854</td>\n",
       "    </tr>\n",
       "    <tr>\n",
       "      <th>8</th>\n",
       "      <td>male</td>\n",
       "      <td>121319</td>\n",
       "    </tr>\n",
       "    <tr>\n",
       "      <th>9</th>\n",
       "      <td>females</td>\n",
       "      <td>85594</td>\n",
       "    </tr>\n",
       "    <tr>\n",
       "      <th>10</th>\n",
       "      <td>virgin</td>\n",
       "      <td>74880</td>\n",
       "    </tr>\n",
       "    <tr>\n",
       "      <th>11</th>\n",
       "      <td>whore</td>\n",
       "      <td>72479</td>\n",
       "    </tr>\n",
       "    <tr>\n",
       "      <th>12</th>\n",
       "      <td>dude</td>\n",
       "      <td>68040</td>\n",
       "    </tr>\n",
       "    <tr>\n",
       "      <th>13</th>\n",
       "      <td>parents</td>\n",
       "      <td>67979</td>\n",
       "    </tr>\n",
       "    <tr>\n",
       "      <th>14</th>\n",
       "      <td>males</td>\n",
       "      <td>65065</td>\n",
       "    </tr>\n",
       "    <tr>\n",
       "      <th>15</th>\n",
       "      <td>gay</td>\n",
       "      <td>64503</td>\n",
       "    </tr>\n",
       "    <tr>\n",
       "      <th>16</th>\n",
       "      <td>kids</td>\n",
       "      <td>59489</td>\n",
       "    </tr>\n",
       "    <tr>\n",
       "      <th>17</th>\n",
       "      <td>whores</td>\n",
       "      <td>53916</td>\n",
       "    </tr>\n",
       "    <tr>\n",
       "      <th>18</th>\n",
       "      <td>asian</td>\n",
       "      <td>53850</td>\n",
       "    </tr>\n",
       "    <tr>\n",
       "      <th>19</th>\n",
       "      <td>bitch</td>\n",
       "      <td>51988</td>\n",
       "    </tr>\n",
       "  </tbody>\n",
       "</table>\n",
       "</div>"
      ],
      "text/plain": [
       "   identity_term   count\n",
       "0          women  549606\n",
       "1            men  396498\n",
       "2            man  265317\n",
       "3          girls  176214\n",
       "4           girl  161948\n",
       "5            bro  150947\n",
       "6          woman  135172\n",
       "7         female  131854\n",
       "8           male  121319\n",
       "9        females   85594\n",
       "10        virgin   74880\n",
       "11         whore   72479\n",
       "12          dude   68040\n",
       "13       parents   67979\n",
       "14         males   65065\n",
       "15           gay   64503\n",
       "16          kids   59489\n",
       "17        whores   53916\n",
       "18         asian   53850\n",
       "19         bitch   51988"
      ]
     },
     "execution_count": 155,
     "metadata": {},
     "output_type": "execute_result"
    }
   ],
   "source": [
    "exp = data.explode('netmapper_identity_matches')\n",
    "# freq = pd.DataFrame(exploded.netmapper_identity_matches.value_counts(), columns=['term', 'count'])\n",
    "\n",
    "freq = exp.netmapper_identity_matches.value_counts().to_frame(name='count').reset_index(names='identity_term')\n",
    "freq.head(20)"
   ]
  },
  {
   "cell_type": "markdown",
   "id": "3c6e9661-4214-48ed-84c1-8ab5d310b3a1",
   "metadata": {},
   "source": [
    "## Group identity terms"
   ]
  },
  {
   "cell_type": "code",
   "execution_count": 156,
   "id": "cfd215b7-cdce-45a5-baf2-d62dbe67ac3a",
   "metadata": {},
   "outputs": [
    {
     "name": "stdout",
     "output_type": "stream",
     "text": [
      "83\n"
     ]
    },
    {
     "data": {
      "application/vnd.plotly.v1+json": {
       "config": {
        "plotlyServerURL": "https://plot.ly"
       },
       "data": [
        {
         "alignmentgroup": "True",
         "hovertemplate": "identity_group=%{x}<br>count=%{y}<extra></extra>",
         "legendgroup": "",
         "marker": {
          "color": "#636efa",
          "pattern": {
           "shape": ""
          }
         },
         "name": "",
         "offsetgroup": "",
         "orientation": "v",
         "showlegend": false,
         "textposition": "auto",
         "type": "bar",
         "x": [
          "women_girls",
          "men_boys",
          "youth",
          "women_girls_derogatory",
          "men_boys_address",
          "black_people",
          "asian_people",
          "jews",
          "lgbtq_people",
          "virgins",
          "white_people",
          "parents",
          "gay",
          "subhuman",
          "retard",
          "muslims",
          "american",
          "police",
          "racist",
          "blonde",
          "troll",
          "teacher",
          "master",
          "liberal",
          "christian",
          "victim",
          "driver",
          "christ",
          "slaves",
          "girlfriends"
         ],
         "xaxis": "x",
         "y": [
          1584623,
          1186885,
          259852,
          248079,
          234978,
          140599,
          136511,
          108706,
          99031,
          94669,
          84711,
          67979,
          64503,
          50540,
          27090,
          27076,
          25415,
          19763,
          18907,
          14381,
          12266,
          12080,
          11943,
          11432,
          11363,
          11302,
          11037,
          10390,
          10362,
          10016
         ],
         "yaxis": "y"
        }
       ],
       "layout": {
        "autosize": true,
        "barmode": "relative",
        "legend": {
         "tracegroupgap": 0
        },
        "margin": {
         "t": 60
        },
        "template": {
         "data": {
          "bar": [
           {
            "error_x": {
             "color": "#2a3f5f"
            },
            "error_y": {
             "color": "#2a3f5f"
            },
            "marker": {
             "line": {
              "color": "#E5ECF6",
              "width": 0.5
             },
             "pattern": {
              "fillmode": "overlay",
              "size": 10,
              "solidity": 0.2
             }
            },
            "type": "bar"
           }
          ],
          "barpolar": [
           {
            "marker": {
             "line": {
              "color": "#E5ECF6",
              "width": 0.5
             },
             "pattern": {
              "fillmode": "overlay",
              "size": 10,
              "solidity": 0.2
             }
            },
            "type": "barpolar"
           }
          ],
          "carpet": [
           {
            "aaxis": {
             "endlinecolor": "#2a3f5f",
             "gridcolor": "white",
             "linecolor": "white",
             "minorgridcolor": "white",
             "startlinecolor": "#2a3f5f"
            },
            "baxis": {
             "endlinecolor": "#2a3f5f",
             "gridcolor": "white",
             "linecolor": "white",
             "minorgridcolor": "white",
             "startlinecolor": "#2a3f5f"
            },
            "type": "carpet"
           }
          ],
          "choropleth": [
           {
            "colorbar": {
             "outlinewidth": 0,
             "ticks": ""
            },
            "type": "choropleth"
           }
          ],
          "contour": [
           {
            "colorbar": {
             "outlinewidth": 0,
             "ticks": ""
            },
            "colorscale": [
             [
              0,
              "#0d0887"
             ],
             [
              0.1111111111111111,
              "#46039f"
             ],
             [
              0.2222222222222222,
              "#7201a8"
             ],
             [
              0.3333333333333333,
              "#9c179e"
             ],
             [
              0.4444444444444444,
              "#bd3786"
             ],
             [
              0.5555555555555556,
              "#d8576b"
             ],
             [
              0.6666666666666666,
              "#ed7953"
             ],
             [
              0.7777777777777778,
              "#fb9f3a"
             ],
             [
              0.8888888888888888,
              "#fdca26"
             ],
             [
              1,
              "#f0f921"
             ]
            ],
            "type": "contour"
           }
          ],
          "contourcarpet": [
           {
            "colorbar": {
             "outlinewidth": 0,
             "ticks": ""
            },
            "type": "contourcarpet"
           }
          ],
          "heatmap": [
           {
            "colorbar": {
             "outlinewidth": 0,
             "ticks": ""
            },
            "colorscale": [
             [
              0,
              "#0d0887"
             ],
             [
              0.1111111111111111,
              "#46039f"
             ],
             [
              0.2222222222222222,
              "#7201a8"
             ],
             [
              0.3333333333333333,
              "#9c179e"
             ],
             [
              0.4444444444444444,
              "#bd3786"
             ],
             [
              0.5555555555555556,
              "#d8576b"
             ],
             [
              0.6666666666666666,
              "#ed7953"
             ],
             [
              0.7777777777777778,
              "#fb9f3a"
             ],
             [
              0.8888888888888888,
              "#fdca26"
             ],
             [
              1,
              "#f0f921"
             ]
            ],
            "type": "heatmap"
           }
          ],
          "heatmapgl": [
           {
            "colorbar": {
             "outlinewidth": 0,
             "ticks": ""
            },
            "colorscale": [
             [
              0,
              "#0d0887"
             ],
             [
              0.1111111111111111,
              "#46039f"
             ],
             [
              0.2222222222222222,
              "#7201a8"
             ],
             [
              0.3333333333333333,
              "#9c179e"
             ],
             [
              0.4444444444444444,
              "#bd3786"
             ],
             [
              0.5555555555555556,
              "#d8576b"
             ],
             [
              0.6666666666666666,
              "#ed7953"
             ],
             [
              0.7777777777777778,
              "#fb9f3a"
             ],
             [
              0.8888888888888888,
              "#fdca26"
             ],
             [
              1,
              "#f0f921"
             ]
            ],
            "type": "heatmapgl"
           }
          ],
          "histogram": [
           {
            "marker": {
             "pattern": {
              "fillmode": "overlay",
              "size": 10,
              "solidity": 0.2
             }
            },
            "type": "histogram"
           }
          ],
          "histogram2d": [
           {
            "colorbar": {
             "outlinewidth": 0,
             "ticks": ""
            },
            "colorscale": [
             [
              0,
              "#0d0887"
             ],
             [
              0.1111111111111111,
              "#46039f"
             ],
             [
              0.2222222222222222,
              "#7201a8"
             ],
             [
              0.3333333333333333,
              "#9c179e"
             ],
             [
              0.4444444444444444,
              "#bd3786"
             ],
             [
              0.5555555555555556,
              "#d8576b"
             ],
             [
              0.6666666666666666,
              "#ed7953"
             ],
             [
              0.7777777777777778,
              "#fb9f3a"
             ],
             [
              0.8888888888888888,
              "#fdca26"
             ],
             [
              1,
              "#f0f921"
             ]
            ],
            "type": "histogram2d"
           }
          ],
          "histogram2dcontour": [
           {
            "colorbar": {
             "outlinewidth": 0,
             "ticks": ""
            },
            "colorscale": [
             [
              0,
              "#0d0887"
             ],
             [
              0.1111111111111111,
              "#46039f"
             ],
             [
              0.2222222222222222,
              "#7201a8"
             ],
             [
              0.3333333333333333,
              "#9c179e"
             ],
             [
              0.4444444444444444,
              "#bd3786"
             ],
             [
              0.5555555555555556,
              "#d8576b"
             ],
             [
              0.6666666666666666,
              "#ed7953"
             ],
             [
              0.7777777777777778,
              "#fb9f3a"
             ],
             [
              0.8888888888888888,
              "#fdca26"
             ],
             [
              1,
              "#f0f921"
             ]
            ],
            "type": "histogram2dcontour"
           }
          ],
          "mesh3d": [
           {
            "colorbar": {
             "outlinewidth": 0,
             "ticks": ""
            },
            "type": "mesh3d"
           }
          ],
          "parcoords": [
           {
            "line": {
             "colorbar": {
              "outlinewidth": 0,
              "ticks": ""
             }
            },
            "type": "parcoords"
           }
          ],
          "pie": [
           {
            "automargin": true,
            "type": "pie"
           }
          ],
          "scatter": [
           {
            "fillpattern": {
             "fillmode": "overlay",
             "size": 10,
             "solidity": 0.2
            },
            "type": "scatter"
           }
          ],
          "scatter3d": [
           {
            "line": {
             "colorbar": {
              "outlinewidth": 0,
              "ticks": ""
             }
            },
            "marker": {
             "colorbar": {
              "outlinewidth": 0,
              "ticks": ""
             }
            },
            "type": "scatter3d"
           }
          ],
          "scattercarpet": [
           {
            "marker": {
             "colorbar": {
              "outlinewidth": 0,
              "ticks": ""
             }
            },
            "type": "scattercarpet"
           }
          ],
          "scattergeo": [
           {
            "marker": {
             "colorbar": {
              "outlinewidth": 0,
              "ticks": ""
             }
            },
            "type": "scattergeo"
           }
          ],
          "scattergl": [
           {
            "marker": {
             "colorbar": {
              "outlinewidth": 0,
              "ticks": ""
             }
            },
            "type": "scattergl"
           }
          ],
          "scattermapbox": [
           {
            "marker": {
             "colorbar": {
              "outlinewidth": 0,
              "ticks": ""
             }
            },
            "type": "scattermapbox"
           }
          ],
          "scatterpolar": [
           {
            "marker": {
             "colorbar": {
              "outlinewidth": 0,
              "ticks": ""
             }
            },
            "type": "scatterpolar"
           }
          ],
          "scatterpolargl": [
           {
            "marker": {
             "colorbar": {
              "outlinewidth": 0,
              "ticks": ""
             }
            },
            "type": "scatterpolargl"
           }
          ],
          "scatterternary": [
           {
            "marker": {
             "colorbar": {
              "outlinewidth": 0,
              "ticks": ""
             }
            },
            "type": "scatterternary"
           }
          ],
          "surface": [
           {
            "colorbar": {
             "outlinewidth": 0,
             "ticks": ""
            },
            "colorscale": [
             [
              0,
              "#0d0887"
             ],
             [
              0.1111111111111111,
              "#46039f"
             ],
             [
              0.2222222222222222,
              "#7201a8"
             ],
             [
              0.3333333333333333,
              "#9c179e"
             ],
             [
              0.4444444444444444,
              "#bd3786"
             ],
             [
              0.5555555555555556,
              "#d8576b"
             ],
             [
              0.6666666666666666,
              "#ed7953"
             ],
             [
              0.7777777777777778,
              "#fb9f3a"
             ],
             [
              0.8888888888888888,
              "#fdca26"
             ],
             [
              1,
              "#f0f921"
             ]
            ],
            "type": "surface"
           }
          ],
          "table": [
           {
            "cells": {
             "fill": {
              "color": "#EBF0F8"
             },
             "line": {
              "color": "white"
             }
            },
            "header": {
             "fill": {
              "color": "#C8D4E3"
             },
             "line": {
              "color": "white"
             }
            },
            "type": "table"
           }
          ]
         },
         "layout": {
          "annotationdefaults": {
           "arrowcolor": "#2a3f5f",
           "arrowhead": 0,
           "arrowwidth": 1
          },
          "autotypenumbers": "strict",
          "coloraxis": {
           "colorbar": {
            "outlinewidth": 0,
            "ticks": ""
           }
          },
          "colorscale": {
           "diverging": [
            [
             0,
             "#8e0152"
            ],
            [
             0.1,
             "#c51b7d"
            ],
            [
             0.2,
             "#de77ae"
            ],
            [
             0.3,
             "#f1b6da"
            ],
            [
             0.4,
             "#fde0ef"
            ],
            [
             0.5,
             "#f7f7f7"
            ],
            [
             0.6,
             "#e6f5d0"
            ],
            [
             0.7,
             "#b8e186"
            ],
            [
             0.8,
             "#7fbc41"
            ],
            [
             0.9,
             "#4d9221"
            ],
            [
             1,
             "#276419"
            ]
           ],
           "sequential": [
            [
             0,
             "#0d0887"
            ],
            [
             0.1111111111111111,
             "#46039f"
            ],
            [
             0.2222222222222222,
             "#7201a8"
            ],
            [
             0.3333333333333333,
             "#9c179e"
            ],
            [
             0.4444444444444444,
             "#bd3786"
            ],
            [
             0.5555555555555556,
             "#d8576b"
            ],
            [
             0.6666666666666666,
             "#ed7953"
            ],
            [
             0.7777777777777778,
             "#fb9f3a"
            ],
            [
             0.8888888888888888,
             "#fdca26"
            ],
            [
             1,
             "#f0f921"
            ]
           ],
           "sequentialminus": [
            [
             0,
             "#0d0887"
            ],
            [
             0.1111111111111111,
             "#46039f"
            ],
            [
             0.2222222222222222,
             "#7201a8"
            ],
            [
             0.3333333333333333,
             "#9c179e"
            ],
            [
             0.4444444444444444,
             "#bd3786"
            ],
            [
             0.5555555555555556,
             "#d8576b"
            ],
            [
             0.6666666666666666,
             "#ed7953"
            ],
            [
             0.7777777777777778,
             "#fb9f3a"
            ],
            [
             0.8888888888888888,
             "#fdca26"
            ],
            [
             1,
             "#f0f921"
            ]
           ]
          },
          "colorway": [
           "#636efa",
           "#EF553B",
           "#00cc96",
           "#ab63fa",
           "#FFA15A",
           "#19d3f3",
           "#FF6692",
           "#B6E880",
           "#FF97FF",
           "#FECB52"
          ],
          "font": {
           "color": "#2a3f5f"
          },
          "geo": {
           "bgcolor": "white",
           "lakecolor": "white",
           "landcolor": "#E5ECF6",
           "showlakes": true,
           "showland": true,
           "subunitcolor": "white"
          },
          "hoverlabel": {
           "align": "left"
          },
          "hovermode": "closest",
          "mapbox": {
           "style": "light"
          },
          "paper_bgcolor": "white",
          "plot_bgcolor": "#E5ECF6",
          "polar": {
           "angularaxis": {
            "gridcolor": "white",
            "linecolor": "white",
            "ticks": ""
           },
           "bgcolor": "#E5ECF6",
           "radialaxis": {
            "gridcolor": "white",
            "linecolor": "white",
            "ticks": ""
           }
          },
          "scene": {
           "xaxis": {
            "backgroundcolor": "#E5ECF6",
            "gridcolor": "white",
            "gridwidth": 2,
            "linecolor": "white",
            "showbackground": true,
            "ticks": "",
            "zerolinecolor": "white"
           },
           "yaxis": {
            "backgroundcolor": "#E5ECF6",
            "gridcolor": "white",
            "gridwidth": 2,
            "linecolor": "white",
            "showbackground": true,
            "ticks": "",
            "zerolinecolor": "white"
           },
           "zaxis": {
            "backgroundcolor": "#E5ECF6",
            "gridcolor": "white",
            "gridwidth": 2,
            "linecolor": "white",
            "showbackground": true,
            "ticks": "",
            "zerolinecolor": "white"
           }
          },
          "shapedefaults": {
           "line": {
            "color": "#2a3f5f"
           }
          },
          "ternary": {
           "aaxis": {
            "gridcolor": "white",
            "linecolor": "white",
            "ticks": ""
           },
           "baxis": {
            "gridcolor": "white",
            "linecolor": "white",
            "ticks": ""
           },
           "bgcolor": "#E5ECF6",
           "caxis": {
            "gridcolor": "white",
            "linecolor": "white",
            "ticks": ""
           }
          },
          "title": {
           "x": 0.05
          },
          "xaxis": {
           "automargin": true,
           "gridcolor": "white",
           "linecolor": "white",
           "ticks": "",
           "title": {
            "standoff": 15
           },
           "zerolinecolor": "white",
           "zerolinewidth": 2
          },
          "yaxis": {
           "automargin": true,
           "gridcolor": "white",
           "linecolor": "white",
           "ticks": "",
           "title": {
            "standoff": 15
           },
           "zerolinecolor": "white",
           "zerolinewidth": 2
          }
         }
        },
        "xaxis": {
         "anchor": "y",
         "autorange": true,
         "domain": [
          0,
          1
         ],
         "range": [
          -0.5,
          29.5
         ],
         "tickangle": 45,
         "title": {
          "text": "identity_group"
         },
         "type": "category"
        },
        "yaxis": {
         "anchor": "x",
         "autorange": true,
         "domain": [
          0,
          1
         ],
         "range": [
          0,
          1668024.2105263157
         ],
         "title": {
          "text": "count"
         },
         "type": "linear"
        }
       }
      },
      "image/png": "[encoded data removed]",
      "text/html": [
       "<div>                            <div id=\"dfd54571-eb26-4173-a2f7-9da33c7dc370\" class=\"plotly-graph-div\" style=\"height:525px; width:100%;\"></div>            <script type=\"text/javascript\">                require([\"plotly\"], function(Plotly) {                    window.PLOTLYENV=window.PLOTLYENV || {};                                    if (document.getElementById(\"dfd54571-eb26-4173-a2f7-9da33c7dc370\")) {                    Plotly.newPlot(                        \"dfd54571-eb26-4173-a2f7-9da33c7dc370\",                        [{\"alignmentgroup\":\"True\",\"hovertemplate\":\"identity_group=%{x}<br>count=%{y}<extra></extra>\",\"legendgroup\":\"\",\"marker\":{\"color\":\"#636efa\",\"pattern\":{\"shape\":\"\"}},\"name\":\"\",\"offsetgroup\":\"\",\"orientation\":\"v\",\"showlegend\":false,\"textposition\":\"auto\",\"x\":[\"women_girls\",\"men_boys\",\"youth\",\"women_girls_derogatory\",\"men_boys_address\",\"black_people\",\"asian_people\",\"jews\",\"lgbtq_people\",\"virgins\",\"white_people\",\"parents\",\"gay\",\"subhuman\",\"retard\",\"muslims\",\"american\",\"police\",\"racist\",\"blonde\",\"troll\",\"teacher\",\"master\",\"liberal\",\"christian\",\"victim\",\"driver\",\"christ\",\"slaves\",\"girlfriends\"],\"xaxis\":\"x\",\"y\":[1584623,1186885,259852,248079,234978,140599,136511,108706,99031,94669,84711,67979,64503,50540,27090,27076,25415,19763,18907,14381,12266,12080,11943,11432,11363,11302,11037,10390,10362,10016],\"yaxis\":\"y\",\"type\":\"bar\"}],                        {\"template\":{\"data\":{\"histogram2dcontour\":[{\"type\":\"histogram2dcontour\",\"colorbar\":{\"outlinewidth\":0,\"ticks\":\"\"},\"colorscale\":[[0.0,\"#0d0887\"],[0.1111111111111111,\"#46039f\"],[0.2222222222222222,\"#7201a8\"],[0.3333333333333333,\"#9c179e\"],[0.4444444444444444,\"#bd3786\"],[0.5555555555555556,\"#d8576b\"],[0.6666666666666666,\"#ed7953\"],[0.7777777777777778,\"#fb9f3a\"],[0.8888888888888888,\"#fdca26\"],[1.0,\"#f0f921\"]]}],\"choropleth\":[{\"type\":\"choropleth\",\"colorbar\":{\"outlinewidth\":0,\"ticks\":\"\"}}],\"histogram2d\":[{\"type\":\"histogram2d\",\"colorbar\":{\"outlinewidth\":0,\"ticks\":\"\"},\"colorscale\":[[0.0,\"#0d0887\"],[0.1111111111111111,\"#46039f\"],[0.2222222222222222,\"#7201a8\"],[0.3333333333333333,\"#9c179e\"],[0.4444444444444444,\"#bd3786\"],[0.5555555555555556,\"#d8576b\"],[0.6666666666666666,\"#ed7953\"],[0.7777777777777778,\"#fb9f3a\"],[0.8888888888888888,\"#fdca26\"],[1.0,\"#f0f921\"]]}],\"heatmap\":[{\"type\":\"heatmap\",\"colorbar\":{\"outlinewidth\":0,\"ticks\":\"\"},\"colorscale\":[[0.0,\"#0d0887\"],[0.1111111111111111,\"#46039f\"],[0.2222222222222222,\"#7201a8\"],[0.3333333333333333,\"#9c179e\"],[0.4444444444444444,\"#bd3786\"],[0.5555555555555556,\"#d8576b\"],[0.6666666666666666,\"#ed7953\"],[0.7777777777777778,\"#fb9f3a\"],[0.8888888888888888,\"#fdca26\"],[1.0,\"#f0f921\"]]}],\"heatmapgl\":[{\"type\":\"heatmapgl\",\"colorbar\":{\"outlinewidth\":0,\"ticks\":\"\"},\"colorscale\":[[0.0,\"#0d0887\"],[0.1111111111111111,\"#46039f\"],[0.2222222222222222,\"#7201a8\"],[0.3333333333333333,\"#9c179e\"],[0.4444444444444444,\"#bd3786\"],[0.5555555555555556,\"#d8576b\"],[0.6666666666666666,\"#ed7953\"],[0.7777777777777778,\"#fb9f3a\"],[0.8888888888888888,\"#fdca26\"],[1.0,\"#f0f921\"]]}],\"contourcarpet\":[{\"type\":\"contourcarpet\",\"colorbar\":{\"outlinewidth\":0,\"ticks\":\"\"}}],\"contour\":[{\"type\":\"contour\",\"colorbar\":{\"outlinewidth\":0,\"ticks\":\"\"},\"colorscale\":[[0.0,\"#0d0887\"],[0.1111111111111111,\"#46039f\"],[0.2222222222222222,\"#7201a8\"],[0.3333333333333333,\"#9c179e\"],[0.4444444444444444,\"#bd3786\"],[0.5555555555555556,\"#d8576b\"],[0.6666666666666666,\"#ed7953\"],[0.7777777777777778,\"#fb9f3a\"],[0.8888888888888888,\"#fdca26\"],[1.0,\"#f0f921\"]]}],\"surface\":[{\"type\":\"surface\",\"colorbar\":{\"outlinewidth\":0,\"ticks\":\"\"},\"colorscale\":[[0.0,\"#0d0887\"],[0.1111111111111111,\"#46039f\"],[0.2222222222222222,\"#7201a8\"],[0.3333333333333333,\"#9c179e\"],[0.4444444444444444,\"#bd3786\"],[0.5555555555555556,\"#d8576b\"],[0.6666666666666666,\"#ed7953\"],[0.7777777777777778,\"#fb9f3a\"],[0.8888888888888888,\"#fdca26\"],[1.0,\"#f0f921\"]]}],\"mesh3d\":[{\"type\":\"mesh3d\",\"colorbar\":{\"outlinewidth\":0,\"ticks\":\"\"}}],\"scatter\":[{\"fillpattern\":{\"fillmode\":\"overlay\",\"size\":10,\"solidity\":0.2},\"type\":\"scatter\"}],\"parcoords\":[{\"type\":\"parcoords\",\"line\":{\"colorbar\":{\"outlinewidth\":0,\"ticks\":\"\"}}}],\"scatterpolargl\":[{\"type\":\"scatterpolargl\",\"marker\":{\"colorbar\":{\"outlinewidth\":0,\"ticks\":\"\"}}}],\"bar\":[{\"error_x\":{\"color\":\"#2a3f5f\"},\"error_y\":{\"color\":\"#2a3f5f\"},\"marker\":{\"line\":{\"color\":\"#E5ECF6\",\"width\":0.5},\"pattern\":{\"fillmode\":\"overlay\",\"size\":10,\"solidity\":0.2}},\"type\":\"bar\"}],\"scattergeo\":[{\"type\":\"scattergeo\",\"marker\":{\"colorbar\":{\"outlinewidth\":0,\"ticks\":\"\"}}}],\"scatterpolar\":[{\"type\":\"scatterpolar\",\"marker\":{\"colorbar\":{\"outlinewidth\":0,\"ticks\":\"\"}}}],\"histogram\":[{\"marker\":{\"pattern\":{\"fillmode\":\"overlay\",\"size\":10,\"solidity\":0.2}},\"type\":\"histogram\"}],\"scattergl\":[{\"type\":\"scattergl\",\"marker\":{\"colorbar\":{\"outlinewidth\":0,\"ticks\":\"\"}}}],\"scatter3d\":[{\"type\":\"scatter3d\",\"line\":{\"colorbar\":{\"outlinewidth\":0,\"ticks\":\"\"}},\"marker\":{\"colorbar\":{\"outlinewidth\":0,\"ticks\":\"\"}}}],\"scattermapbox\":[{\"type\":\"scattermapbox\",\"marker\":{\"colorbar\":{\"outlinewidth\":0,\"ticks\":\"\"}}}],\"scatterternary\":[{\"type\":\"scatterternary\",\"marker\":{\"colorbar\":{\"outlinewidth\":0,\"ticks\":\"\"}}}],\"scattercarpet\":[{\"type\":\"scattercarpet\",\"marker\":{\"colorbar\":{\"outlinewidth\":0,\"ticks\":\"\"}}}],\"carpet\":[{\"aaxis\":{\"endlinecolor\":\"#2a3f5f\",\"gridcolor\":\"white\",\"linecolor\":\"white\",\"minorgridcolor\":\"white\",\"startlinecolor\":\"#2a3f5f\"},\"baxis\":{\"endlinecolor\":\"#2a3f5f\",\"gridcolor\":\"white\",\"linecolor\":\"white\",\"minorgridcolor\":\"white\",\"startlinecolor\":\"#2a3f5f\"},\"type\":\"carpet\"}],\"table\":[{\"cells\":{\"fill\":{\"color\":\"#EBF0F8\"},\"line\":{\"color\":\"white\"}},\"header\":{\"fill\":{\"color\":\"#C8D4E3\"},\"line\":{\"color\":\"white\"}},\"type\":\"table\"}],\"barpolar\":[{\"marker\":{\"line\":{\"color\":\"#E5ECF6\",\"width\":0.5},\"pattern\":{\"fillmode\":\"overlay\",\"size\":10,\"solidity\":0.2}},\"type\":\"barpolar\"}],\"pie\":[{\"automargin\":true,\"type\":\"pie\"}]},\"layout\":{\"autotypenumbers\":\"strict\",\"colorway\":[\"#636efa\",\"#EF553B\",\"#00cc96\",\"#ab63fa\",\"#FFA15A\",\"#19d3f3\",\"#FF6692\",\"#B6E880\",\"#FF97FF\",\"#FECB52\"],\"font\":{\"color\":\"#2a3f5f\"},\"hovermode\":\"closest\",\"hoverlabel\":{\"align\":\"left\"},\"paper_bgcolor\":\"white\",\"plot_bgcolor\":\"#E5ECF6\",\"polar\":{\"bgcolor\":\"#E5ECF6\",\"angularaxis\":{\"gridcolor\":\"white\",\"linecolor\":\"white\",\"ticks\":\"\"},\"radialaxis\":{\"gridcolor\":\"white\",\"linecolor\":\"white\",\"ticks\":\"\"}},\"ternary\":{\"bgcolor\":\"#E5ECF6\",\"aaxis\":{\"gridcolor\":\"white\",\"linecolor\":\"white\",\"ticks\":\"\"},\"baxis\":{\"gridcolor\":\"white\",\"linecolor\":\"white\",\"ticks\":\"\"},\"caxis\":{\"gridcolor\":\"white\",\"linecolor\":\"white\",\"ticks\":\"\"}},\"coloraxis\":{\"colorbar\":{\"outlinewidth\":0,\"ticks\":\"\"}},\"colorscale\":{\"sequential\":[[0.0,\"#0d0887\"],[0.1111111111111111,\"#46039f\"],[0.2222222222222222,\"#7201a8\"],[0.3333333333333333,\"#9c179e\"],[0.4444444444444444,\"#bd3786\"],[0.5555555555555556,\"#d8576b\"],[0.6666666666666666,\"#ed7953\"],[0.7777777777777778,\"#fb9f3a\"],[0.8888888888888888,\"#fdca26\"],[1.0,\"#f0f921\"]],\"sequentialminus\":[[0.0,\"#0d0887\"],[0.1111111111111111,\"#46039f\"],[0.2222222222222222,\"#7201a8\"],[0.3333333333333333,\"#9c179e\"],[0.4444444444444444,\"#bd3786\"],[0.5555555555555556,\"#d8576b\"],[0.6666666666666666,\"#ed7953\"],[0.7777777777777778,\"#fb9f3a\"],[0.8888888888888888,\"#fdca26\"],[1.0,\"#f0f921\"]],\"diverging\":[[0,\"#8e0152\"],[0.1,\"#c51b7d\"],[0.2,\"#de77ae\"],[0.3,\"#f1b6da\"],[0.4,\"#fde0ef\"],[0.5,\"#f7f7f7\"],[0.6,\"#e6f5d0\"],[0.7,\"#b8e186\"],[0.8,\"#7fbc41\"],[0.9,\"#4d9221\"],[1,\"#276419\"]]},\"xaxis\":{\"gridcolor\":\"white\",\"linecolor\":\"white\",\"ticks\":\"\",\"title\":{\"standoff\":15},\"zerolinecolor\":\"white\",\"automargin\":true,\"zerolinewidth\":2},\"yaxis\":{\"gridcolor\":\"white\",\"linecolor\":\"white\",\"ticks\":\"\",\"title\":{\"standoff\":15},\"zerolinecolor\":\"white\",\"automargin\":true,\"zerolinewidth\":2},\"scene\":{\"xaxis\":{\"backgroundcolor\":\"#E5ECF6\",\"gridcolor\":\"white\",\"linecolor\":\"white\",\"showbackground\":true,\"ticks\":\"\",\"zerolinecolor\":\"white\",\"gridwidth\":2},\"yaxis\":{\"backgroundcolor\":\"#E5ECF6\",\"gridcolor\":\"white\",\"linecolor\":\"white\",\"showbackground\":true,\"ticks\":\"\",\"zerolinecolor\":\"white\",\"gridwidth\":2},\"zaxis\":{\"backgroundcolor\":\"#E5ECF6\",\"gridcolor\":\"white\",\"linecolor\":\"white\",\"showbackground\":true,\"ticks\":\"\",\"zerolinecolor\":\"white\",\"gridwidth\":2}},\"shapedefaults\":{\"line\":{\"color\":\"#2a3f5f\"}},\"annotationdefaults\":{\"arrowcolor\":\"#2a3f5f\",\"arrowhead\":0,\"arrowwidth\":1},\"geo\":{\"bgcolor\":\"white\",\"landcolor\":\"#E5ECF6\",\"subunitcolor\":\"white\",\"showland\":true,\"showlakes\":true,\"lakecolor\":\"white\"},\"title\":{\"x\":0.05},\"mapbox\":{\"style\":\"light\"}}},\"xaxis\":{\"anchor\":\"y\",\"domain\":[0.0,1.0],\"title\":{\"text\":\"identity_group\"},\"tickangle\":45},\"yaxis\":{\"anchor\":\"x\",\"domain\":[0.0,1.0],\"title\":{\"text\":\"count\"}},\"legend\":{\"tracegroupgap\":0},\"margin\":{\"t\":60},\"barmode\":\"relative\"},                        {\"responsive\": true}                    ).then(function(){\n",
       "                            \n",
       "var gd = document.getElementById('dfd54571-eb26-4173-a2f7-9da33c7dc370');\n",
       "var x = new MutationObserver(function (mutations, observer) {{\n",
       "        var display = window.getComputedStyle(gd).display;\n",
       "        if (!display || display === 'none') {{\n",
       "            console.log([gd, 'removed!']);\n",
       "            Plotly.purge(gd);\n",
       "            observer.disconnect();\n",
       "        }}\n",
       "}});\n",
       "\n",
       "// Listen for the removal of the full notebook cells\n",
       "var notebookContainer = gd.closest('#notebook-container');\n",
       "if (notebookContainer) {{\n",
       "    x.observe(notebookContainer, {childList: true});\n",
       "}}\n",
       "\n",
       "// Listen for the clearing of the current output cell\n",
       "var outputEl = gd.closest('.output');\n",
       "if (outputEl) {{\n",
       "    x.observe(outputEl, {childList: true});\n",
       "}}\n",
       "\n",
       "                        })                };                });            </script>        </div>"
      ]
     },
     "metadata": {},
     "output_type": "display_data"
    }
   ],
   "source": [
    "import json\n",
    "\n",
    "identity_groups_fpath = '../resources/identity_groups.json'\n",
    "with open(identity_groups_fpath, 'r') as f:\n",
    "    identity_groups = json.load(f)\n",
    "print(len(identity_groups))\n",
    "\n",
    "exp['identity_group'] = exp.netmapper_identity_matches.map(lambda x: identity_groups.get(x, x))\n",
    "exploded = exp.explode('identity_group') # Count intersectional mentions as a mention in each of their categories\n",
    "gp_freq = exploded.identity_group.value_counts().to_frame(name='count').reset_index(names='identity_group')\n",
    "gp_freq.head(30)\n",
    "\n",
    "import plotly.express as px\n",
    "pd.options.plotting.backend = 'plotly'\n",
    "\n",
    "# fig = px.bar(gp_freq.head(50), x='term', y='count')\n",
    "fig = px.bar(gp_freq.head(30), x='identity_group', y='count')\n",
    "fig.update_xaxes(tickangle=45)"
   ]
  },
  {
   "cell_type": "code",
   "execution_count": 147,
   "id": "a7c077d7-7b9a-4f2b-a185-94cfaffdb071",
   "metadata": {},
   "outputs": [
    {
     "name": "stdout",
     "output_type": "stream",
     "text": [
      "women_girls: ['women', 'woman', 'girls', 'girl', 'girlfriend', 'female', 'females', 'whore', 'whores', 'bitch', 'bitches', 'slut', 'sluts', 'cunt', 'cunts', 'black women', 'feminist', 'feminists', 'white women']\n",
      "men_boys: ['men', 'man', 'boy', 'boys', 'boyfriend', 'bro', 'dude', 'dudes', 'male', 'males', 'black men', 'white men', 'bf']\n",
      "men_boys_address: ['bro', 'dude', 'dudes']\n",
      "women_girls_derogatory: ['whore', 'whores', 'bitch', 'bitches', 'slut', 'sluts', 'cunt', 'cunts']\n",
      "youth: ['kids', 'kid', 'child', 'children', 'baby', 'teen', 'teens']\n",
      "virgins: ['virgin']\n",
      "lgbtq_people: ['faggot', 'faggots', 'fag', 'fags', 'tranny']\n",
      "jews: ['jews', 'jew', 'jewish', 'kike', 'kikes', 'zionist', 'zionists', 'judaism', 'israelite', 'israelites', 'goy', 'goyim']\n",
      "black_people: ['black people', 'black man', 'black woman', 'black men', 'black women', 'nigger', 'nigga', 'niggers', 'niggas', 'niggaz', 'nigr', 'nigra', 'nigre', 'niggur', 'african']\n",
      "asian_people: ['asian', 'asians', 'indian', 'japanese', 'chinese', 'arab']\n",
      "white_people: ['white people', 'white women', 'white men', 'european', 'europeans', 'german', 'germans']\n",
      "muslims: ['muslim', 'muslims']\n"
     ]
    }
   ],
   "source": [
    "from collections import defaultdict\n",
    "\n",
    "gp_vals = defaultdict(list)\n",
    "for key, vals in identity_groups.items():\n",
    "    for gp in vals:\n",
    "        gp_vals[gp].append(key)\n",
    "        \n",
    "for gp, terms in gp_vals.items():\n",
    "    print(f'{gp}: {terms}')"
   ]
  },
  {
   "cell_type": "code",
   "execution_count": 79,
   "id": "a7a847ad-7559-4abd-8de9-39efad03b07a",
   "metadata": {},
   "outputs": [
    {
     "data": {
      "text/plain": [
       "5467"
      ]
     },
     "execution_count": 79,
     "metadata": {},
     "output_type": "execute_result"
    }
   ],
   "source": [
    "all_identities = exploded.netmapper_identity_matches.unique()\n",
    "len(all_identities)"
   ]
  },
  {
   "cell_type": "code",
   "execution_count": 84,
   "id": "ebabd5cb-54e1-4188-83d5-414c7c618787",
   "metadata": {},
   "outputs": [
    {
     "name": "stdout",
     "output_type": "stream",
     "text": [
      "jew: True\n",
      "jews: True\n",
      "jewish: False\n",
      "kike: True\n",
      "kikes: False\n",
      "zionist: True\n",
      "zionists: True\n",
      "judaism: False\n",
      "israelite: True\n",
      "israelites: True\n",
      "goy: False\n",
      "goyim: False\n"
     ]
    }
   ],
   "source": [
    "for term in ['jew', 'jews', 'jewish', 'kike', 'kikes', 'zionist', 'zionists', 'judaism', 'israelite', 'israelites', 'goy', 'goyim']:\n",
    "    print(f'{term}: {term in all_identities}')"
   ]
  },
  {
   "cell_type": "code",
   "execution_count": 134,
   "id": "f81905a3-20d4-4436-8274-d8aae4354be8",
   "metadata": {},
   "outputs": [
    {
     "name": "stdout",
     "output_type": "stream",
     "text": [
      "gay: False\n",
      "gays: True\n",
      "lesbian: True\n",
      "trans: False\n",
      "transgender: False\n",
      "bi: False\n",
      "bisexual: False\n",
      "pansexual: False\n",
      "homosexual: True\n",
      "homo: True\n",
      "queer: True\n",
      "transman: False\n",
      "transwoman: False\n",
      "queers: False\n",
      "fag: True\n",
      "fags: False\n"
     ]
    }
   ],
   "source": [
    "for term in ['gay', 'gays', 'lesbian', 'trans', 'transgender', 'bi', 'bisexual', 'pansexual', 'homosexual', 'homo', 'queer',\n",
    "            'transman', 'transwoman', 'queers', 'fag', 'fags']:\n",
    "    print(f'{term}: {term in all_identities}')"
   ]
  },
  {
   "cell_type": "code",
   "execution_count": 89,
   "id": "3e16af82-7775-43af-94c3-3d35a790e24b",
   "metadata": {},
   "outputs": [
    {
     "data": {
      "text/plain": [
       "['blacksmith',\n",
       " 'blacksmiths',\n",
       " 'blackman',\n",
       " 'blackfoot',\n",
       " 'blackmailer',\n",
       " 'blackmailers']"
      ]
     },
     "execution_count": 89,
     "metadata": {},
     "output_type": "execute_result"
    }
   ],
   "source": [
    "[identity for identity in all_identities if 'black' in str(identity)]"
   ]
  },
  {
   "cell_type": "code",
   "execution_count": 91,
   "id": "20b64cb3-737b-432d-a9d5-0f4271daab2c",
   "metadata": {},
   "outputs": [
    {
     "data": {
      "text/plain": [
       "['nonwhites', 'whiteman', 'whitetrash']"
      ]
     },
     "execution_count": 91,
     "metadata": {},
     "output_type": "execute_result"
    }
   ],
   "source": [
    "[identity for identity in all_identities if 'white' in str(identity)]"
   ]
  },
  {
   "cell_type": "code",
   "execution_count": 96,
   "id": "625539a2-b71d-4a15-bd49-6299ce49b642",
   "metadata": {},
   "outputs": [
    {
     "data": {
      "text/plain": [
       "[]"
      ]
     },
     "execution_count": 96,
     "metadata": {},
     "output_type": "execute_result"
    }
   ],
   "source": [
    "[identity for identity in all_identities if ' ' in str(identity)]"
   ]
  },
  {
   "cell_type": "code",
   "execution_count": 104,
   "id": "0fbd129a-f38c-48c0-ae5e-5602ba2e3516",
   "metadata": {},
   "outputs": [
    {
     "data": {
      "text/plain": [
       "['niggers',\n",
       " 'niggas',\n",
       " 'nigger',\n",
       " 'knight',\n",
       " 'nig',\n",
       " 'knights',\n",
       " 'nigga',\n",
       " 'niggah',\n",
       " 'nigerian',\n",
       " 'sandnigger',\n",
       " 'niggaz',\n",
       " 'knighted',\n",
       " 'knightly',\n",
       " 'niglet',\n",
       " 'nigra',\n",
       " 'knighthood',\n",
       " 'nigerians',\n",
       " 'nigg',\n",
       " 'snownigger',\n",
       " 'nigr',\n",
       " 'niggur',\n",
       " 'datnigga',\n",
       " 'nigre']"
      ]
     },
     "execution_count": 104,
     "metadata": {},
     "output_type": "execute_result"
    }
   ],
   "source": [
    "[identity for identity in all_identities if 'nig' in str(identity)]"
   ]
  },
  {
   "cell_type": "code",
   "execution_count": 103,
   "id": "cd08f5d1-3ead-429c-9534-d70033d15cb9",
   "metadata": {},
   "outputs": [
    {
     "data": {
      "text/plain": [
       "'black man'"
      ]
     },
     "execution_count": 103,
     "metadata": {},
     "output_type": "execute_result"
    }
   ],
   "source": [
    "import re\n",
    "\n",
    "re.search(r'\\b{}\\b'.format(re.escape('black man')), 'black man walking').group()\n",
    "# re.search(r'\\b{}\\b'.format(re.escape('black man')), 'asian man walking').group()"
   ]
  },
  {
   "cell_type": "markdown",
   "id": "dc3cdee4-cd19-4ef5-90fa-9d52d85523a3",
   "metadata": {},
   "source": [
    "## Matches over time"
   ]
  },
  {
   "cell_type": "code",
   "execution_count": 148,
   "id": "51f5c681-2f23-409f-8bb2-cdd877bdbd3c",
   "metadata": {
    "scrolled": true,
    "tags": []
   },
   "outputs": [],
   "source": [
    "# post_counts = data.groupby(pd.Grouper(key='parsed_date', freq='MS'))['content'].count()\n",
    "data['word_count'] = data.content.str.split().str.len()\n",
    "\n",
    "word_counts = data.groupby(pd.Grouper(key='parsed_date', freq='MS'))['word_count'].sum()\n",
    "word_counts"
   ]
  },
  {
   "cell_type": "code",
   "execution_count": 150,
   "id": "7f60948c-2adc-470d-b3a1-d63c95ef2340",
   "metadata": {},
   "outputs": [
    {
     "data": {
      "text/html": [
       "<div>\n",
       "<style scoped>\n",
       "    .dataframe tbody tr th:only-of-type {\n",
       "        vertical-align: middle;\n",
       "    }\n",
       "\n",
       "    .dataframe tbody tr th {\n",
       "        vertical-align: top;\n",
       "    }\n",
       "\n",
       "    .dataframe thead th {\n",
       "        text-align: right;\n",
       "    }\n",
       "</style>\n",
       "<table border=\"1\" class=\"dataframe\">\n",
       "  <thead>\n",
       "    <tr style=\"text-align: right;\">\n",
       "      <th></th>\n",
       "      <th>parsed_date</th>\n",
       "      <th>identity_group</th>\n",
       "      <th>term_count</th>\n",
       "    </tr>\n",
       "  </thead>\n",
       "  <tbody>\n",
       "    <tr>\n",
       "      <th>0</th>\n",
       "      <td>2017-11-01</td>\n",
       "      <td>a-listers</td>\n",
       "      <td>1</td>\n",
       "    </tr>\n",
       "    <tr>\n",
       "      <th>1</th>\n",
       "      <td>2017-11-01</td>\n",
       "      <td>aboriginal</td>\n",
       "      <td>21</td>\n",
       "    </tr>\n",
       "    <tr>\n",
       "      <th>2</th>\n",
       "      <td>2017-11-01</td>\n",
       "      <td>aboriginals</td>\n",
       "      <td>24</td>\n",
       "    </tr>\n",
       "    <tr>\n",
       "      <th>3</th>\n",
       "      <td>2017-11-01</td>\n",
       "      <td>aborigines</td>\n",
       "      <td>4</td>\n",
       "    </tr>\n",
       "    <tr>\n",
       "      <th>4</th>\n",
       "      <td>2017-11-01</td>\n",
       "      <td>abuser</td>\n",
       "      <td>8</td>\n",
       "    </tr>\n",
       "    <tr>\n",
       "      <th>...</th>\n",
       "      <td>...</td>\n",
       "      <td>...</td>\n",
       "      <td>...</td>\n",
       "    </tr>\n",
       "    <tr>\n",
       "      <th>105768</th>\n",
       "      <td>2021-04-01</td>\n",
       "      <td>youth</td>\n",
       "      <td>1306</td>\n",
       "    </tr>\n",
       "    <tr>\n",
       "      <th>105769</th>\n",
       "      <td>2021-04-01</td>\n",
       "      <td>zealander</td>\n",
       "      <td>1</td>\n",
       "    </tr>\n",
       "    <tr>\n",
       "      <th>105770</th>\n",
       "      <td>2021-04-01</td>\n",
       "      <td>zimbabwe</td>\n",
       "      <td>1</td>\n",
       "    </tr>\n",
       "    <tr>\n",
       "      <th>105771</th>\n",
       "      <td>2021-04-01</td>\n",
       "      <td>zombie</td>\n",
       "      <td>11</td>\n",
       "    </tr>\n",
       "    <tr>\n",
       "      <th>105772</th>\n",
       "      <td>2021-04-01</td>\n",
       "      <td>zombies</td>\n",
       "      <td>3</td>\n",
       "    </tr>\n",
       "  </tbody>\n",
       "</table>\n",
       "<p>105773 rows × 3 columns</p>\n",
       "</div>"
      ],
      "text/plain": [
       "       parsed_date identity_group  term_count\n",
       "0       2017-11-01      a-listers           1\n",
       "1       2017-11-01     aboriginal          21\n",
       "2       2017-11-01    aboriginals          24\n",
       "3       2017-11-01     aborigines           4\n",
       "4       2017-11-01         abuser           8\n",
       "...            ...            ...         ...\n",
       "105768  2021-04-01          youth        1306\n",
       "105769  2021-04-01      zealander           1\n",
       "105770  2021-04-01       zimbabwe           1\n",
       "105771  2021-04-01         zombie          11\n",
       "105772  2021-04-01        zombies           3\n",
       "\n",
       "[105773 rows x 3 columns]"
      ]
     },
     "execution_count": 150,
     "metadata": {},
     "output_type": "execute_result"
    }
   ],
   "source": [
    "# exploded = data.explode('netmapper_identity_matches').dropna(subset='netmapper_identity_matches')\n",
    "# counts_overtime = exploded.groupby([pd.Grouper(key='parsed_date', freq='MS'), 'netmapper_identity_matches']).size().to_frame(name='count').reset_index(names=['parsed_date', 'identity_term'])\n",
    "counts_overtime = exploded.groupby([pd.Grouper(key='parsed_date', freq='MS'), 'identity_group']).size().to_frame(name='term_count').reset_index(names=['parsed_date', 'identity_group'])\n",
    "counts_overtime"
   ]
  },
  {
   "cell_type": "code",
   "execution_count": 151,
   "id": "e8b0583f-dbb4-4589-9de8-724dcc60662a",
   "metadata": {},
   "outputs": [
    {
     "data": {
      "text/html": [
       "<div>\n",
       "<style scoped>\n",
       "    .dataframe tbody tr th:only-of-type {\n",
       "        vertical-align: middle;\n",
       "    }\n",
       "\n",
       "    .dataframe tbody tr th {\n",
       "        vertical-align: top;\n",
       "    }\n",
       "\n",
       "    .dataframe thead th {\n",
       "        text-align: right;\n",
       "    }\n",
       "</style>\n",
       "<table border=\"1\" class=\"dataframe\">\n",
       "  <thead>\n",
       "    <tr style=\"text-align: right;\">\n",
       "      <th></th>\n",
       "      <th>parsed_date</th>\n",
       "      <th>identity_group</th>\n",
       "      <th>term_count</th>\n",
       "      <th>word_count</th>\n",
       "    </tr>\n",
       "  </thead>\n",
       "  <tbody>\n",
       "    <tr>\n",
       "      <th>0</th>\n",
       "      <td>2017-11-01</td>\n",
       "      <td>a-listers</td>\n",
       "      <td>1</td>\n",
       "      <td>2709033.0</td>\n",
       "    </tr>\n",
       "    <tr>\n",
       "      <th>1</th>\n",
       "      <td>2017-11-01</td>\n",
       "      <td>aboriginal</td>\n",
       "      <td>21</td>\n",
       "      <td>2709033.0</td>\n",
       "    </tr>\n",
       "    <tr>\n",
       "      <th>2</th>\n",
       "      <td>2017-11-01</td>\n",
       "      <td>aboriginals</td>\n",
       "      <td>24</td>\n",
       "      <td>2709033.0</td>\n",
       "    </tr>\n",
       "    <tr>\n",
       "      <th>3</th>\n",
       "      <td>2017-11-01</td>\n",
       "      <td>aborigines</td>\n",
       "      <td>4</td>\n",
       "      <td>2709033.0</td>\n",
       "    </tr>\n",
       "    <tr>\n",
       "      <th>4</th>\n",
       "      <td>2017-11-01</td>\n",
       "      <td>abuser</td>\n",
       "      <td>8</td>\n",
       "      <td>2709033.0</td>\n",
       "    </tr>\n",
       "    <tr>\n",
       "      <th>...</th>\n",
       "      <td>...</td>\n",
       "      <td>...</td>\n",
       "      <td>...</td>\n",
       "      <td>...</td>\n",
       "    </tr>\n",
       "    <tr>\n",
       "      <th>105768</th>\n",
       "      <td>2021-04-01</td>\n",
       "      <td>youth</td>\n",
       "      <td>1306</td>\n",
       "      <td>1181721.0</td>\n",
       "    </tr>\n",
       "    <tr>\n",
       "      <th>105769</th>\n",
       "      <td>2021-04-01</td>\n",
       "      <td>zealander</td>\n",
       "      <td>1</td>\n",
       "      <td>1181721.0</td>\n",
       "    </tr>\n",
       "    <tr>\n",
       "      <th>105770</th>\n",
       "      <td>2021-04-01</td>\n",
       "      <td>zimbabwe</td>\n",
       "      <td>1</td>\n",
       "      <td>1181721.0</td>\n",
       "    </tr>\n",
       "    <tr>\n",
       "      <th>105771</th>\n",
       "      <td>2021-04-01</td>\n",
       "      <td>zombie</td>\n",
       "      <td>11</td>\n",
       "      <td>1181721.0</td>\n",
       "    </tr>\n",
       "    <tr>\n",
       "      <th>105772</th>\n",
       "      <td>2021-04-01</td>\n",
       "      <td>zombies</td>\n",
       "      <td>3</td>\n",
       "      <td>1181721.0</td>\n",
       "    </tr>\n",
       "  </tbody>\n",
       "</table>\n",
       "<p>105773 rows × 4 columns</p>\n",
       "</div>"
      ],
      "text/plain": [
       "       parsed_date identity_group  term_count  word_count\n",
       "0       2017-11-01      a-listers           1   2709033.0\n",
       "1       2017-11-01     aboriginal          21   2709033.0\n",
       "2       2017-11-01    aboriginals          24   2709033.0\n",
       "3       2017-11-01     aborigines           4   2709033.0\n",
       "4       2017-11-01         abuser           8   2709033.0\n",
       "...            ...            ...         ...         ...\n",
       "105768  2021-04-01          youth        1306   1181721.0\n",
       "105769  2021-04-01      zealander           1   1181721.0\n",
       "105770  2021-04-01       zimbabwe           1   1181721.0\n",
       "105771  2021-04-01         zombie          11   1181721.0\n",
       "105772  2021-04-01        zombies           3   1181721.0\n",
       "\n",
       "[105773 rows x 4 columns]"
      ]
     },
     "execution_count": 151,
     "metadata": {},
     "output_type": "execute_result"
    }
   ],
   "source": [
    "counts_overtime = counts_overtime.join(word_counts, on='parsed_date').rename(columns={'content': 'word_count'})\n",
    "counts_overtime"
   ]
  },
  {
   "cell_type": "code",
   "execution_count": 152,
   "id": "82760dca-da30-4b49-a1cb-328815d0c18f",
   "metadata": {},
   "outputs": [
    {
     "data": {
      "text/html": [
       "<div>\n",
       "<style scoped>\n",
       "    .dataframe tbody tr th:only-of-type {\n",
       "        vertical-align: middle;\n",
       "    }\n",
       "\n",
       "    .dataframe tbody tr th {\n",
       "        vertical-align: top;\n",
       "    }\n",
       "\n",
       "    .dataframe thead th {\n",
       "        text-align: right;\n",
       "    }\n",
       "</style>\n",
       "<table border=\"1\" class=\"dataframe\">\n",
       "  <thead>\n",
       "    <tr style=\"text-align: right;\">\n",
       "      <th></th>\n",
       "      <th>parsed_date</th>\n",
       "      <th>identity_group</th>\n",
       "      <th>term_count</th>\n",
       "      <th>word_count</th>\n",
       "      <th>mention_prob</th>\n",
       "      <th>log_prob</th>\n",
       "    </tr>\n",
       "  </thead>\n",
       "  <tbody>\n",
       "    <tr>\n",
       "      <th>0</th>\n",
       "      <td>2017-11-01</td>\n",
       "      <td>a-listers</td>\n",
       "      <td>1</td>\n",
       "      <td>2709033.0</td>\n",
       "      <td>3.691354e-07</td>\n",
       "      <td>-6.432814</td>\n",
       "    </tr>\n",
       "    <tr>\n",
       "      <th>1</th>\n",
       "      <td>2017-11-01</td>\n",
       "      <td>aboriginal</td>\n",
       "      <td>21</td>\n",
       "      <td>2709033.0</td>\n",
       "      <td>7.751844e-06</td>\n",
       "      <td>-5.110595</td>\n",
       "    </tr>\n",
       "    <tr>\n",
       "      <th>2</th>\n",
       "      <td>2017-11-01</td>\n",
       "      <td>aboriginals</td>\n",
       "      <td>24</td>\n",
       "      <td>2709033.0</td>\n",
       "      <td>8.859250e-06</td>\n",
       "      <td>-5.052603</td>\n",
       "    </tr>\n",
       "    <tr>\n",
       "      <th>3</th>\n",
       "      <td>2017-11-01</td>\n",
       "      <td>aborigines</td>\n",
       "      <td>4</td>\n",
       "      <td>2709033.0</td>\n",
       "      <td>1.476542e-06</td>\n",
       "      <td>-5.830754</td>\n",
       "    </tr>\n",
       "    <tr>\n",
       "      <th>4</th>\n",
       "      <td>2017-11-01</td>\n",
       "      <td>abuser</td>\n",
       "      <td>8</td>\n",
       "      <td>2709033.0</td>\n",
       "      <td>2.953083e-06</td>\n",
       "      <td>-5.529724</td>\n",
       "    </tr>\n",
       "    <tr>\n",
       "      <th>...</th>\n",
       "      <td>...</td>\n",
       "      <td>...</td>\n",
       "      <td>...</td>\n",
       "      <td>...</td>\n",
       "      <td>...</td>\n",
       "      <td>...</td>\n",
       "    </tr>\n",
       "    <tr>\n",
       "      <th>105768</th>\n",
       "      <td>2021-04-01</td>\n",
       "      <td>youth</td>\n",
       "      <td>1306</td>\n",
       "      <td>1181721.0</td>\n",
       "      <td>1.105168e-03</td>\n",
       "      <td>-2.956572</td>\n",
       "    </tr>\n",
       "    <tr>\n",
       "      <th>105769</th>\n",
       "      <td>2021-04-01</td>\n",
       "      <td>zealander</td>\n",
       "      <td>1</td>\n",
       "      <td>1181721.0</td>\n",
       "      <td>8.462234e-07</td>\n",
       "      <td>-6.072515</td>\n",
       "    </tr>\n",
       "    <tr>\n",
       "      <th>105770</th>\n",
       "      <td>2021-04-01</td>\n",
       "      <td>zimbabwe</td>\n",
       "      <td>1</td>\n",
       "      <td>1181721.0</td>\n",
       "      <td>8.462234e-07</td>\n",
       "      <td>-6.072515</td>\n",
       "    </tr>\n",
       "    <tr>\n",
       "      <th>105771</th>\n",
       "      <td>2021-04-01</td>\n",
       "      <td>zombie</td>\n",
       "      <td>11</td>\n",
       "      <td>1181721.0</td>\n",
       "      <td>9.308458e-06</td>\n",
       "      <td>-5.031122</td>\n",
       "    </tr>\n",
       "    <tr>\n",
       "      <th>105772</th>\n",
       "      <td>2021-04-01</td>\n",
       "      <td>zombies</td>\n",
       "      <td>3</td>\n",
       "      <td>1181721.0</td>\n",
       "      <td>2.538670e-06</td>\n",
       "      <td>-5.595394</td>\n",
       "    </tr>\n",
       "  </tbody>\n",
       "</table>\n",
       "<p>105773 rows × 6 columns</p>\n",
       "</div>"
      ],
      "text/plain": [
       "       parsed_date identity_group  term_count  word_count  mention_prob  \\\n",
       "0       2017-11-01      a-listers           1   2709033.0  3.691354e-07   \n",
       "1       2017-11-01     aboriginal          21   2709033.0  7.751844e-06   \n",
       "2       2017-11-01    aboriginals          24   2709033.0  8.859250e-06   \n",
       "3       2017-11-01     aborigines           4   2709033.0  1.476542e-06   \n",
       "4       2017-11-01         abuser           8   2709033.0  2.953083e-06   \n",
       "...            ...            ...         ...         ...           ...   \n",
       "105768  2021-04-01          youth        1306   1181721.0  1.105168e-03   \n",
       "105769  2021-04-01      zealander           1   1181721.0  8.462234e-07   \n",
       "105770  2021-04-01       zimbabwe           1   1181721.0  8.462234e-07   \n",
       "105771  2021-04-01         zombie          11   1181721.0  9.308458e-06   \n",
       "105772  2021-04-01        zombies           3   1181721.0  2.538670e-06   \n",
       "\n",
       "        log_prob  \n",
       "0      -6.432814  \n",
       "1      -5.110595  \n",
       "2      -5.052603  \n",
       "3      -5.830754  \n",
       "4      -5.529724  \n",
       "...          ...  \n",
       "105768 -2.956572  \n",
       "105769 -6.072515  \n",
       "105770 -6.072515  \n",
       "105771 -5.031122  \n",
       "105772 -5.595394  \n",
       "\n",
       "[105773 rows x 6 columns]"
      ]
     },
     "execution_count": 152,
     "metadata": {},
     "output_type": "execute_result"
    }
   ],
   "source": [
    "import numpy as np\n",
    "\n",
    "counts_overtime['mention_prob'] = counts_overtime['term_count'] / counts_overtime.word_count\n",
    "counts_overtime['log_prob'] = counts_overtime['mention_prob'].map(np.log10)\n",
    "counts_overtime"
   ]
  },
  {
   "cell_type": "code",
   "execution_count": 153,
   "id": "d22a2fc0-1f62-46ec-b79c-5f25754d10a3",
   "metadata": {},
   "outputs": [
    {
     "data": {
      "application/vnd.plotly.v1+json": {
       "config": {
        "plotlyServerURL": "https://plot.ly"
       },
       "data": [
        {
         "hovertemplate": "identity_group=asian_people<br>parsed_date=%{x}<br>log_prob=%{y}<extra></extra>",
         "legendgroup": "asian_people",
         "line": {
          "color": "#636efa",
          "dash": "solid"
         },
         "marker": {
          "symbol": "circle"
         },
         "mode": "lines",
         "name": "asian_people",
         "orientation": "v",
         "showlegend": true,
         "type": "scatter",
         "visible": true,
         "x": [
          "2017-11-01T00:00:00",
          "2017-12-01T00:00:00",
          "2018-01-01T00:00:00",
          "2018-02-01T00:00:00",
          "2018-03-01T00:00:00",
          "2018-04-01T00:00:00",
          "2018-05-01T00:00:00",
          "2018-06-01T00:00:00",
          "2018-07-01T00:00:00",
          "2018-08-01T00:00:00",
          "2018-09-01T00:00:00",
          "2018-10-01T00:00:00",
          "2018-11-01T00:00:00",
          "2018-12-01T00:00:00",
          "2019-01-01T00:00:00",
          "2019-02-01T00:00:00",
          "2019-03-01T00:00:00",
          "2019-04-01T00:00:00",
          "2019-05-01T00:00:00",
          "2019-06-01T00:00:00",
          "2019-07-01T00:00:00",
          "2019-08-01T00:00:00",
          "2019-09-01T00:00:00",
          "2019-10-01T00:00:00",
          "2019-11-01T00:00:00",
          "2019-12-01T00:00:00",
          "2020-01-01T00:00:00",
          "2020-02-01T00:00:00",
          "2020-03-01T00:00:00",
          "2020-04-01T00:00:00",
          "2020-05-01T00:00:00",
          "2020-06-01T00:00:00",
          "2020-07-01T00:00:00",
          "2020-08-01T00:00:00",
          "2020-09-01T00:00:00",
          "2020-10-01T00:00:00",
          "2020-11-01T00:00:00",
          "2020-12-01T00:00:00",
          "2021-01-01T00:00:00",
          "2021-02-01T00:00:00",
          "2021-03-01T00:00:00",
          "2021-04-01T00:00:00"
         ],
         "xaxis": "x",
         "y": [
          -3.104027095055382,
          -3.1958406182300108,
          -3.165656435855695,
          -3.100043325039337,
          -3.074460397042834,
          -3.1866023302057656,
          -3.063132225297984,
          -3.0568783998042353,
          -3.0826788414181503,
          -3.133570173187423,
          -3.0224911442848996,
          -3.085031327222589,
          -3.14299447395559,
          -3.236399477443453,
          -3.259695953189623,
          -3.1305692212175056,
          -3.276696704879279,
          -3.286595383294164,
          -3.2707747469060697,
          -3.257524896940689,
          -3.2840472675752097,
          -3.1130216151302457,
          -3.32340647803023,
          -3.2522014098271743,
          -3.2746626989974637,
          -3.1936441796424937,
          -3.205874863185326,
          -3.2425105775931655,
          -3.30675089123028,
          -3.3357875758733164,
          -3.292803763307457,
          -3.2096160993246574,
          -3.2759055638777137,
          -3.255601466461769,
          -3.1150507561941496,
          -3.1723493435321273,
          -3.1908276015296284,
          -3.1184096980841502,
          -3.2627977624449587,
          -3.2830048793294724,
          -3.2138253153023064,
          -2.8918157520148493
         ],
         "yaxis": "y"
        },
        {
         "hovertemplate": "identity_group=black_people<br>parsed_date=%{x}<br>log_prob=%{y}<extra></extra>",
         "legendgroup": "black_people",
         "line": {
          "color": "#EF553B",
          "dash": "solid"
         },
         "marker": {
          "symbol": "circle"
         },
         "mode": "lines",
         "name": "black_people",
         "orientation": "v",
         "showlegend": true,
         "type": "scatter",
         "visible": true,
         "x": [
          "2017-11-01T00:00:00",
          "2017-12-01T00:00:00",
          "2018-01-01T00:00:00",
          "2018-02-01T00:00:00",
          "2018-03-01T00:00:00",
          "2018-04-01T00:00:00",
          "2018-05-01T00:00:00",
          "2018-06-01T00:00:00",
          "2018-07-01T00:00:00",
          "2018-08-01T00:00:00",
          "2018-09-01T00:00:00",
          "2018-10-01T00:00:00",
          "2018-11-01T00:00:00",
          "2018-12-01T00:00:00",
          "2019-01-01T00:00:00",
          "2019-02-01T00:00:00",
          "2019-03-01T00:00:00",
          "2019-04-01T00:00:00",
          "2019-05-01T00:00:00",
          "2019-06-01T00:00:00",
          "2019-07-01T00:00:00",
          "2019-08-01T00:00:00",
          "2019-09-01T00:00:00",
          "2019-10-01T00:00:00",
          "2019-11-01T00:00:00",
          "2019-12-01T00:00:00",
          "2020-01-01T00:00:00",
          "2020-02-01T00:00:00",
          "2020-03-01T00:00:00",
          "2020-04-01T00:00:00",
          "2020-05-01T00:00:00",
          "2020-06-01T00:00:00",
          "2020-07-01T00:00:00",
          "2020-08-01T00:00:00",
          "2020-09-01T00:00:00",
          "2020-10-01T00:00:00",
          "2020-11-01T00:00:00",
          "2020-12-01T00:00:00",
          "2021-01-01T00:00:00",
          "2021-02-01T00:00:00",
          "2021-03-01T00:00:00",
          "2021-04-01T00:00:00"
         ],
         "xaxis": "x",
         "y": [
          -2.9901777696276852,
          -3.5519605566197114,
          -3.4978373155906217,
          -3.3080540494539616,
          -3.351865954031062,
          -3.3306097507877124,
          -3.2601737622222267,
          -3.3610142095288498,
          -3.367950392432174,
          -3.4958119177290583,
          -3.3167187475637183,
          -3.336249166120398,
          -3.4064443133994153,
          -3.3628221712186095,
          -3.4272497877116654,
          -3.3392383682725377,
          -3.453422831203353,
          -3.3828435300599646,
          -3.4771508098662185,
          -3.3584376524024195,
          -3.4403479227535176,
          -3.309611964949395,
          -3.38636431211474,
          -3.47370456045146,
          -3.419884065281882,
          -3.4095357832813855,
          -3.3865137499917277,
          -3.2036601580931134,
          -2.800206828875467,
          -2.6718832192865127,
          -3.0876334543741324,
          -3.0141772071312727,
          -3.097646815268056,
          -2.9642252403169937,
          -2.9271924480703047,
          -2.9272576319955417,
          -3.098396187841063,
          -3.1283423545088556,
          -3.120590682435814,
          -3.1560881068322724,
          -3.1328757372146327,
          -3.0186685264586313
         ],
         "yaxis": "y"
        },
        {
         "hovertemplate": "identity_group=jews<br>parsed_date=%{x}<br>log_prob=%{y}<extra></extra>",
         "legendgroup": "jews",
         "line": {
          "color": "#00cc96",
          "dash": "solid"
         },
         "marker": {
          "symbol": "circle"
         },
         "mode": "lines",
         "name": "jews",
         "orientation": "v",
         "showlegend": true,
         "type": "scatter",
         "visible": true,
         "x": [
          "2017-11-01T00:00:00",
          "2017-12-01T00:00:00",
          "2018-01-01T00:00:00",
          "2018-02-01T00:00:00",
          "2018-03-01T00:00:00",
          "2018-04-01T00:00:00",
          "2018-05-01T00:00:00",
          "2018-06-01T00:00:00",
          "2018-07-01T00:00:00",
          "2018-08-01T00:00:00",
          "2018-09-01T00:00:00",
          "2018-10-01T00:00:00",
          "2018-11-01T00:00:00",
          "2018-12-01T00:00:00",
          "2019-01-01T00:00:00",
          "2019-02-01T00:00:00",
          "2019-03-01T00:00:00",
          "2019-04-01T00:00:00",
          "2019-05-01T00:00:00",
          "2019-06-01T00:00:00",
          "2019-07-01T00:00:00",
          "2019-08-01T00:00:00",
          "2019-09-01T00:00:00",
          "2019-10-01T00:00:00",
          "2019-11-01T00:00:00",
          "2019-12-01T00:00:00",
          "2020-01-01T00:00:00",
          "2020-02-01T00:00:00",
          "2020-03-01T00:00:00",
          "2020-04-01T00:00:00",
          "2020-05-01T00:00:00",
          "2020-06-01T00:00:00",
          "2020-07-01T00:00:00",
          "2020-08-01T00:00:00",
          "2020-09-01T00:00:00",
          "2020-10-01T00:00:00",
          "2020-11-01T00:00:00",
          "2020-12-01T00:00:00",
          "2021-01-01T00:00:00",
          "2021-02-01T00:00:00",
          "2021-03-01T00:00:00",
          "2021-04-01T00:00:00"
         ],
         "xaxis": "x",
         "y": [
          -3.6634369693337785,
          -3.6771630615215143,
          -3.6277253306275643,
          -3.321980516664329,
          -3.284855076083074,
          -3.5096028947674136,
          -3.439439238608996,
          -3.345162859173403,
          -3.3215743037333993,
          -3.4793501996896548,
          -3.386535856708276,
          -3.3694424766391595,
          -3.263703439980967,
          -3.3305185844975527,
          -3.329556085200298,
          -3.293575299819399,
          -3.2048577101070337,
          -3.1752241969955115,
          -3.233079955742156,
          -3.2293716801528642,
          -3.120589632686978,
          -3.0781846111417965,
          -3.2290370874510956,
          -3.3645326743108814,
          -3.5323927085123845,
          -3.437256903166317,
          -3.3540434405121005,
          -3.302952020527993,
          -3.354407840103222,
          -3.240278436108726,
          -3.3835998356781336,
          -3.3046676112400903,
          -3.307797051054763,
          -3.3808939495113126,
          -3.3675538699344445,
          -3.3436008237615766,
          -3.2642894559663924,
          -3.143960602850639,
          -3.080992019864848,
          -3.0283720978854585,
          -3.0117307848372636,
          -2.8838676573111663
         ],
         "yaxis": "y"
        },
        {
         "hovertemplate": "identity_group=lgbtq_people<br>parsed_date=%{x}<br>log_prob=%{y}<extra></extra>",
         "legendgroup": "lgbtq_people",
         "line": {
          "color": "#ab63fa",
          "dash": "solid"
         },
         "marker": {
          "symbol": "circle"
         },
         "mode": "lines",
         "name": "lgbtq_people",
         "orientation": "v",
         "showlegend": true,
         "type": "scatter",
         "visible": true,
         "x": [
          "2017-11-01T00:00:00",
          "2017-12-01T00:00:00",
          "2018-01-01T00:00:00",
          "2018-02-01T00:00:00",
          "2018-03-01T00:00:00",
          "2018-04-01T00:00:00",
          "2018-05-01T00:00:00",
          "2018-06-01T00:00:00",
          "2018-07-01T00:00:00",
          "2018-08-01T00:00:00",
          "2018-09-01T00:00:00",
          "2018-10-01T00:00:00",
          "2018-11-01T00:00:00",
          "2018-12-01T00:00:00",
          "2019-01-01T00:00:00",
          "2019-02-01T00:00:00",
          "2019-03-01T00:00:00",
          "2019-04-01T00:00:00",
          "2019-05-01T00:00:00",
          "2019-06-01T00:00:00",
          "2019-07-01T00:00:00",
          "2019-08-01T00:00:00",
          "2019-09-01T00:00:00",
          "2019-10-01T00:00:00",
          "2019-11-01T00:00:00",
          "2019-12-01T00:00:00",
          "2020-01-01T00:00:00",
          "2020-02-01T00:00:00",
          "2020-03-01T00:00:00",
          "2020-04-01T00:00:00",
          "2020-05-01T00:00:00",
          "2020-06-01T00:00:00",
          "2020-07-01T00:00:00",
          "2020-08-01T00:00:00",
          "2020-09-01T00:00:00",
          "2020-10-01T00:00:00",
          "2020-11-01T00:00:00",
          "2020-12-01T00:00:00",
          "2021-01-01T00:00:00",
          "2021-02-01T00:00:00",
          "2021-03-01T00:00:00",
          "2021-04-01T00:00:00"
         ],
         "xaxis": "x",
         "y": [
          -3.4367406409246413,
          -3.4873934687344526,
          -3.3962771622663026,
          -3.4115452251372873,
          -3.398721534890789,
          -3.498904595409727,
          -3.454808933970454,
          -3.4737125696350515,
          -3.5521449419812594,
          -3.5343262006447858,
          -3.5283018270209845,
          -3.451574258344328,
          -3.431456773606771,
          -3.4156129245104885,
          -3.380682509003887,
          -3.4370343954918177,
          -3.43346704744897,
          -3.3048580548121915,
          -3.396764862680223,
          -3.2643516729153617,
          -3.3668745332707526,
          -3.3734120248395945,
          -3.376064355474928,
          -3.463944723162304,
          -3.44871660725549,
          -3.452041856116957,
          -3.413223815971449,
          -3.3995598105023475,
          -3.362398607962352,
          -3.2627178389786478,
          -3.3510396274394934,
          -3.4134430687128137,
          -3.3289532597607168,
          -3.3259205380069434,
          -3.4114382112784063,
          -3.258281865425461,
          -3.2119856124988426,
          -3.356173965556059,
          -3.285301278828804,
          -3.3569005289154137,
          -3.331924627380301,
          -3.206227614226689
         ],
         "yaxis": "y"
        },
        {
         "hovertemplate": "identity_group=men_boys<br>parsed_date=%{x}<br>log_prob=%{y}<extra></extra>",
         "legendgroup": "men_boys",
         "line": {
          "color": "#FFA15A",
          "dash": "solid"
         },
         "marker": {
          "symbol": "circle"
         },
         "mode": "lines",
         "name": "men_boys",
         "orientation": "v",
         "showlegend": true,
         "type": "scatter",
         "visible": true,
         "x": [
          "2017-11-01T00:00:00",
          "2017-12-01T00:00:00",
          "2018-01-01T00:00:00",
          "2018-02-01T00:00:00",
          "2018-03-01T00:00:00",
          "2018-04-01T00:00:00",
          "2018-05-01T00:00:00",
          "2018-06-01T00:00:00",
          "2018-07-01T00:00:00",
          "2018-08-01T00:00:00",
          "2018-09-01T00:00:00",
          "2018-10-01T00:00:00",
          "2018-11-01T00:00:00",
          "2018-12-01T00:00:00",
          "2019-01-01T00:00:00",
          "2019-02-01T00:00:00",
          "2019-03-01T00:00:00",
          "2019-04-01T00:00:00",
          "2019-05-01T00:00:00",
          "2019-06-01T00:00:00",
          "2019-07-01T00:00:00",
          "2019-08-01T00:00:00",
          "2019-09-01T00:00:00",
          "2019-10-01T00:00:00",
          "2019-11-01T00:00:00",
          "2019-12-01T00:00:00",
          "2020-01-01T00:00:00",
          "2020-02-01T00:00:00",
          "2020-03-01T00:00:00",
          "2020-04-01T00:00:00",
          "2020-05-01T00:00:00",
          "2020-06-01T00:00:00",
          "2020-07-01T00:00:00",
          "2020-08-01T00:00:00",
          "2020-09-01T00:00:00",
          "2020-10-01T00:00:00",
          "2020-11-01T00:00:00",
          "2020-12-01T00:00:00",
          "2021-01-01T00:00:00",
          "2021-02-01T00:00:00",
          "2021-03-01T00:00:00",
          "2021-04-01T00:00:00"
         ],
         "xaxis": "x",
         "y": [
          -2.302062518644774,
          -2.333279680543821,
          -2.353249879193423,
          -2.335614752513503,
          -2.314756508967149,
          -2.301526650921573,
          -2.2737556056355452,
          -2.2753283400592847,
          -2.2759037503128208,
          -2.2577133527278574,
          -2.2470001186466226,
          -2.2336557609496768,
          -2.239717008229069,
          -2.23292906928119,
          -2.2006785903667048,
          -2.219684853681083,
          -2.189063991580576,
          -2.1843225041005474,
          -2.223247684770193,
          -2.182195622825556,
          -2.18688596712968,
          -2.1678672401656147,
          -2.186562135837151,
          -2.197699956532993,
          -2.207793712033111,
          -2.182170798547397,
          -2.2043945547281067,
          -2.1999715549461,
          -2.2537005020398126,
          -2.2475383134071474,
          -2.265091396146574,
          -2.289873421900045,
          -2.246357441123381,
          -2.330812282083582,
          -2.3006865922926845,
          -2.262653719861467,
          -2.28605127445797,
          -2.2667990276379117,
          -2.289741307823152,
          -2.2592243563566727,
          -2.2706952147670525,
          -2.257801340614907
         ],
         "yaxis": "y"
        },
        {
         "hovertemplate": "identity_group=men_boys_address<br>parsed_date=%{x}<br>log_prob=%{y}<extra></extra>",
         "legendgroup": "men_boys_address",
         "line": {
          "color": "#19d3f3",
          "dash": "solid"
         },
         "marker": {
          "symbol": "circle"
         },
         "mode": "lines",
         "name": "men_boys_address",
         "orientation": "v",
         "showlegend": true,
         "type": "scatter",
         "visible": true,
         "x": [
          "2017-11-01T00:00:00",
          "2017-12-01T00:00:00",
          "2018-01-01T00:00:00",
          "2018-02-01T00:00:00",
          "2018-03-01T00:00:00",
          "2018-04-01T00:00:00",
          "2018-05-01T00:00:00",
          "2018-06-01T00:00:00",
          "2018-07-01T00:00:00",
          "2018-08-01T00:00:00",
          "2018-09-01T00:00:00",
          "2018-10-01T00:00:00",
          "2018-11-01T00:00:00",
          "2018-12-01T00:00:00",
          "2019-01-01T00:00:00",
          "2019-02-01T00:00:00",
          "2019-03-01T00:00:00",
          "2019-04-01T00:00:00",
          "2019-05-01T00:00:00",
          "2019-06-01T00:00:00",
          "2019-07-01T00:00:00",
          "2019-08-01T00:00:00",
          "2019-09-01T00:00:00",
          "2019-10-01T00:00:00",
          "2019-11-01T00:00:00",
          "2019-12-01T00:00:00",
          "2020-01-01T00:00:00",
          "2020-02-01T00:00:00",
          "2020-03-01T00:00:00",
          "2020-04-01T00:00:00",
          "2020-05-01T00:00:00",
          "2020-06-01T00:00:00",
          "2020-07-01T00:00:00",
          "2020-08-01T00:00:00",
          "2020-09-01T00:00:00",
          "2020-10-01T00:00:00",
          "2020-11-01T00:00:00",
          "2020-12-01T00:00:00",
          "2021-01-01T00:00:00",
          "2021-02-01T00:00:00",
          "2021-03-01T00:00:00",
          "2021-04-01T00:00:00"
         ],
         "xaxis": "x",
         "y": [
          -3.1372471954474377,
          -3.096463904601213,
          -3.085379147849932,
          -3.0466855856983748,
          -3.0427242994579977,
          -3.171585767638552,
          -3.06104773605913,
          -3.004255943981309,
          -3.0148445969492808,
          -3.0823645682389786,
          -2.9181126429299655,
          -2.887199323417108,
          -2.966903214899909,
          -2.936972374858862,
          -2.8262369204157607,
          -2.821583567115788,
          -2.7540717951485485,
          -2.8256692741897473,
          -2.937447570918393,
          -2.794029155691012,
          -2.8527869561279795,
          -2.810169657004239,
          -2.8942827267191626,
          -2.9546675092011427,
          -2.9461574109961672,
          -2.895430962308553,
          -2.9138599283070374,
          -2.8811030936935067,
          -2.859194093321253,
          -2.88796691324908,
          -2.8875133106919213,
          -2.9276859068630428,
          -2.939687919429142,
          -2.9468958086669965,
          -3.021353127125361,
          -2.980238937240131,
          -3.0270065594807027,
          -3.107873876321244,
          -3.125367492217509,
          -3.144405430566129,
          -3.090418483216754,
          -3.0013696628598012
         ],
         "yaxis": "y"
        },
        {
         "hovertemplate": "identity_group=virgins<br>parsed_date=%{x}<br>log_prob=%{y}<extra></extra>",
         "legendgroup": "virgins",
         "line": {
          "color": "#FF6692",
          "dash": "solid"
         },
         "marker": {
          "symbol": "circle"
         },
         "mode": "lines",
         "name": "virgins",
         "orientation": "v",
         "showlegend": true,
         "type": "scatter",
         "visible": true,
         "x": [
          "2017-11-01T00:00:00",
          "2017-12-01T00:00:00",
          "2018-01-01T00:00:00",
          "2018-02-01T00:00:00",
          "2018-03-01T00:00:00",
          "2018-04-01T00:00:00",
          "2018-05-01T00:00:00",
          "2018-06-01T00:00:00",
          "2018-07-01T00:00:00",
          "2018-08-01T00:00:00",
          "2018-09-01T00:00:00",
          "2018-10-01T00:00:00",
          "2018-11-01T00:00:00",
          "2018-12-01T00:00:00",
          "2019-01-01T00:00:00",
          "2019-02-01T00:00:00",
          "2019-03-01T00:00:00",
          "2019-04-01T00:00:00",
          "2019-05-01T00:00:00",
          "2019-06-01T00:00:00",
          "2019-07-01T00:00:00",
          "2019-08-01T00:00:00",
          "2019-09-01T00:00:00",
          "2019-10-01T00:00:00",
          "2019-11-01T00:00:00",
          "2019-12-01T00:00:00",
          "2020-01-01T00:00:00",
          "2020-02-01T00:00:00",
          "2020-03-01T00:00:00",
          "2020-04-01T00:00:00",
          "2020-05-01T00:00:00",
          "2020-06-01T00:00:00",
          "2020-07-01T00:00:00",
          "2020-08-01T00:00:00",
          "2020-09-01T00:00:00",
          "2020-10-01T00:00:00",
          "2020-11-01T00:00:00",
          "2020-12-01T00:00:00",
          "2021-01-01T00:00:00",
          "2021-02-01T00:00:00",
          "2021-03-01T00:00:00",
          "2021-04-01T00:00:00"
         ],
         "xaxis": "x",
         "y": [
          -3.181662952234562,
          -3.260730852297536,
          -3.3052493314842004,
          -3.1656436009278948,
          -3.1936343382901327,
          -3.223139560078357,
          -3.2561443267001513,
          -3.2863048825428356,
          -3.3083895043943063,
          -3.3431711951532286,
          -3.3747583119398303,
          -3.3274333336316477,
          -3.3215303501024387,
          -3.338765635409116,
          -3.3278889258328355,
          -3.369792066903285,
          -3.3982650682824946,
          -3.4089658422704927,
          -3.4247133915647177,
          -3.320439702143984,
          -3.372187720189184,
          -3.218909293760687,
          -3.3251273103239063,
          -3.319889696106931,
          -3.3107630782154613,
          -3.356104715041679,
          -3.2798100378971484,
          -3.3469829583916084,
          -3.39241085984311,
          -3.4208928769675317,
          -3.3843518609429313,
          -3.3803666099112273,
          -3.406996409617866,
          -3.5940537168581637,
          -3.4632233951470903,
          -3.460498571692467,
          -3.577647087019664,
          -3.5005893807618214,
          -3.4342402918408705,
          -3.385076745973316,
          -3.2977510758688466,
          -3.292918462053059
         ],
         "yaxis": "y"
        },
        {
         "hovertemplate": "identity_group=women_girls<br>parsed_date=%{x}<br>log_prob=%{y}<extra></extra>",
         "legendgroup": "women_girls",
         "line": {
          "color": "#B6E880",
          "dash": "solid"
         },
         "marker": {
          "symbol": "circle"
         },
         "mode": "lines",
         "name": "women_girls",
         "orientation": "v",
         "showlegend": true,
         "type": "scatter",
         "visible": true,
         "x": [
          "2017-11-01T00:00:00",
          "2017-12-01T00:00:00",
          "2018-01-01T00:00:00",
          "2018-02-01T00:00:00",
          "2018-03-01T00:00:00",
          "2018-04-01T00:00:00",
          "2018-05-01T00:00:00",
          "2018-06-01T00:00:00",
          "2018-07-01T00:00:00",
          "2018-08-01T00:00:00",
          "2018-09-01T00:00:00",
          "2018-10-01T00:00:00",
          "2018-11-01T00:00:00",
          "2018-12-01T00:00:00",
          "2019-01-01T00:00:00",
          "2019-02-01T00:00:00",
          "2019-03-01T00:00:00",
          "2019-04-01T00:00:00",
          "2019-05-01T00:00:00",
          "2019-06-01T00:00:00",
          "2019-07-01T00:00:00",
          "2019-08-01T00:00:00",
          "2019-09-01T00:00:00",
          "2019-10-01T00:00:00",
          "2019-11-01T00:00:00",
          "2019-12-01T00:00:00",
          "2020-01-01T00:00:00",
          "2020-02-01T00:00:00",
          "2020-03-01T00:00:00",
          "2020-04-01T00:00:00",
          "2020-05-01T00:00:00",
          "2020-06-01T00:00:00",
          "2020-07-01T00:00:00",
          "2020-08-01T00:00:00",
          "2020-09-01T00:00:00",
          "2020-10-01T00:00:00",
          "2020-11-01T00:00:00",
          "2020-12-01T00:00:00",
          "2021-01-01T00:00:00",
          "2021-02-01T00:00:00",
          "2021-03-01T00:00:00",
          "2021-04-01T00:00:00"
         ],
         "xaxis": "x",
         "y": [
          -1.9883166946197015,
          -2.0265027033467446,
          -2.0614674153904056,
          -2.035052777390224,
          -2.0047477134363527,
          -2.0162620714156416,
          -2.01018323914363,
          -2.0370401872283797,
          -2.0700169318235506,
          -2.051591050195526,
          -2.1069075642383854,
          -2.136032093448385,
          -2.1018518864039906,
          -2.086768282994487,
          -2.0845300883973232,
          -2.107375573213907,
          -2.1550831578993392,
          -2.1423481316513784,
          -2.142697058715288,
          -2.1462870548990765,
          -2.1518684269810056,
          -2.1400258600138686,
          -2.1434539115845914,
          -2.114764364165926,
          -2.1019020208166723,
          -2.089941964465166,
          -2.148203477461902,
          -2.153961322219209,
          -2.2211886312910116,
          -2.0933631469442804,
          -2.2130843516904264,
          -2.237964106809819,
          -2.172796786352357,
          -2.312824251992505,
          -2.223475068197704,
          -2.1729127361515075,
          -2.208869373535611,
          -2.1454750959593984,
          -2.1931272156915536,
          -2.151273915585716,
          -2.172101759261613,
          -2.1610377362047815
         ],
         "yaxis": "y"
        },
        {
         "hovertemplate": "identity_group=women_girls_derogatory<br>parsed_date=%{x}<br>log_prob=%{y}<extra></extra>",
         "legendgroup": "women_girls_derogatory",
         "line": {
          "color": "#FF97FF",
          "dash": "solid"
         },
         "marker": {
          "symbol": "circle"
         },
         "mode": "lines",
         "name": "women_girls_derogatory",
         "orientation": "v",
         "showlegend": true,
         "type": "scatter",
         "visible": true,
         "x": [
          "2017-11-01T00:00:00",
          "2017-12-01T00:00:00",
          "2018-01-01T00:00:00",
          "2018-02-01T00:00:00",
          "2018-03-01T00:00:00",
          "2018-04-01T00:00:00",
          "2018-05-01T00:00:00",
          "2018-06-01T00:00:00",
          "2018-07-01T00:00:00",
          "2018-08-01T00:00:00",
          "2018-09-01T00:00:00",
          "2018-10-01T00:00:00",
          "2018-11-01T00:00:00",
          "2018-12-01T00:00:00",
          "2019-01-01T00:00:00",
          "2019-02-01T00:00:00",
          "2019-03-01T00:00:00",
          "2019-04-01T00:00:00",
          "2019-05-01T00:00:00",
          "2019-06-01T00:00:00",
          "2019-07-01T00:00:00",
          "2019-08-01T00:00:00",
          "2019-09-01T00:00:00",
          "2019-10-01T00:00:00",
          "2019-11-01T00:00:00",
          "2019-12-01T00:00:00",
          "2020-01-01T00:00:00",
          "2020-02-01T00:00:00",
          "2020-03-01T00:00:00",
          "2020-04-01T00:00:00",
          "2020-05-01T00:00:00",
          "2020-06-01T00:00:00",
          "2020-07-01T00:00:00",
          "2020-08-01T00:00:00",
          "2020-09-01T00:00:00",
          "2020-10-01T00:00:00",
          "2020-11-01T00:00:00",
          "2020-12-01T00:00:00",
          "2021-01-01T00:00:00",
          "2021-02-01T00:00:00",
          "2021-03-01T00:00:00",
          "2021-04-01T00:00:00"
         ],
         "xaxis": "x",
         "y": [
          -2.906733603607887,
          -2.9966259904646106,
          -3.031932323687252,
          -2.965203281379841,
          -2.8854947368190182,
          -2.871197982046352,
          -2.8769264755566413,
          -2.9505645458177323,
          -2.975265187286337,
          -2.9565244203807106,
          -2.994467710797779,
          -2.9791085202020624,
          -2.884621631766145,
          -2.865713801757146,
          -2.8707730114677603,
          -2.7110716405713573,
          -2.9334673511080585,
          -3.019179064279557,
          -2.9571041931400472,
          -2.9574921335906565,
          -2.9844159671037933,
          -2.920449786795771,
          -3.0142943733578407,
          -2.9725830293280313,
          -2.912297368789988,
          -2.946993116999378,
          -2.981545068493124,
          -3.002905704745265,
          -3.003838058654223,
          -2.5351208653507094,
          -3.0085535783408335,
          -3.0268991959457456,
          -2.9746296483419843,
          -3.054168316220064,
          -3.011348551304695,
          -2.952106756820745,
          -2.9619274945839082,
          -2.965709596571908,
          -2.990628166007667,
          -3.0013719313451235,
          -2.9510607778837388,
          -2.882463535551678
         ],
         "yaxis": "y"
        },
        {
         "hovertemplate": "identity_group=youth<br>parsed_date=%{x}<br>log_prob=%{y}<extra></extra>",
         "legendgroup": "youth",
         "line": {
          "color": "#FECB52",
          "dash": "solid"
         },
         "marker": {
          "symbol": "circle"
         },
         "mode": "lines",
         "name": "youth",
         "orientation": "v",
         "showlegend": true,
         "type": "scatter",
         "visible": true,
         "x": [
          "2017-11-01T00:00:00",
          "2017-12-01T00:00:00",
          "2018-01-01T00:00:00",
          "2018-02-01T00:00:00",
          "2018-03-01T00:00:00",
          "2018-04-01T00:00:00",
          "2018-05-01T00:00:00",
          "2018-06-01T00:00:00",
          "2018-07-01T00:00:00",
          "2018-08-01T00:00:00",
          "2018-09-01T00:00:00",
          "2018-10-01T00:00:00",
          "2018-11-01T00:00:00",
          "2018-12-01T00:00:00",
          "2019-01-01T00:00:00",
          "2019-02-01T00:00:00",
          "2019-03-01T00:00:00",
          "2019-04-01T00:00:00",
          "2019-05-01T00:00:00",
          "2019-06-01T00:00:00",
          "2019-07-01T00:00:00",
          "2019-08-01T00:00:00",
          "2019-09-01T00:00:00",
          "2019-10-01T00:00:00",
          "2019-11-01T00:00:00",
          "2019-12-01T00:00:00",
          "2020-01-01T00:00:00",
          "2020-02-01T00:00:00",
          "2020-03-01T00:00:00",
          "2020-04-01T00:00:00",
          "2020-05-01T00:00:00",
          "2020-06-01T00:00:00",
          "2020-07-01T00:00:00",
          "2020-08-01T00:00:00",
          "2020-09-01T00:00:00",
          "2020-10-01T00:00:00",
          "2020-11-01T00:00:00",
          "2020-12-01T00:00:00",
          "2021-01-01T00:00:00",
          "2021-02-01T00:00:00",
          "2021-03-01T00:00:00",
          "2021-04-01T00:00:00"
         ],
         "xaxis": "x",
         "y": [
          -3.0535087776593346,
          -3.0394083485641588,
          -3.0089831256162833,
          -3.0164409012080964,
          -2.9893390837618203,
          -2.9880188284324722,
          -2.9618721943680706,
          -2.891417116210238,
          -2.9153001034865316,
          -2.887878377929239,
          -2.9314953244811357,
          -2.8885052861854157,
          -2.8797530391810087,
          -2.850171085462179,
          -2.8779467561075673,
          -2.893431176221277,
          -2.8670966035085246,
          -2.897262611730494,
          -2.8289534864623547,
          -2.888070724832188,
          -2.8904579590268114,
          -2.896216879097737,
          -2.7635879806330665,
          -2.8525755076995702,
          -2.757677893861087,
          -2.886279554724868,
          -2.900406554951165,
          -2.870587248821065,
          -2.92747153121298,
          -2.9566728982561967,
          -2.8826022047668314,
          -2.93359651471084,
          -2.8353335112309352,
          -3.005498630190331,
          -2.948244767330906,
          -2.9379719996738323,
          -3.021802300486106,
          -2.885983904695279,
          -2.914897206375439,
          -2.913166164143703,
          -2.921028636966009,
          -2.956571776371829
         ],
         "yaxis": "y"
        }
       ],
       "layout": {
        "autosize": true,
        "legend": {
         "title": {
          "text": "identity_group"
         },
         "tracegroupgap": 0
        },
        "margin": {
         "t": 60
        },
        "template": {
         "data": {
          "bar": [
           {
            "error_x": {
             "color": "#2a3f5f"
            },
            "error_y": {
             "color": "#2a3f5f"
            },
            "marker": {
             "line": {
              "color": "#E5ECF6",
              "width": 0.5
             },
             "pattern": {
              "fillmode": "overlay",
              "size": 10,
              "solidity": 0.2
             }
            },
            "type": "bar"
           }
          ],
          "barpolar": [
           {
            "marker": {
             "line": {
              "color": "#E5ECF6",
              "width": 0.5
             },
             "pattern": {
              "fillmode": "overlay",
              "size": 10,
              "solidity": 0.2
             }
            },
            "type": "barpolar"
           }
          ],
          "carpet": [
           {
            "aaxis": {
             "endlinecolor": "#2a3f5f",
             "gridcolor": "white",
             "linecolor": "white",
             "minorgridcolor": "white",
             "startlinecolor": "#2a3f5f"
            },
            "baxis": {
             "endlinecolor": "#2a3f5f",
             "gridcolor": "white",
             "linecolor": "white",
             "minorgridcolor": "white",
             "startlinecolor": "#2a3f5f"
            },
            "type": "carpet"
           }
          ],
          "choropleth": [
           {
            "colorbar": {
             "outlinewidth": 0,
             "ticks": ""
            },
            "type": "choropleth"
           }
          ],
          "contour": [
           {
            "colorbar": {
             "outlinewidth": 0,
             "ticks": ""
            },
            "colorscale": [
             [
              0,
              "#0d0887"
             ],
             [
              0.1111111111111111,
              "#46039f"
             ],
             [
              0.2222222222222222,
              "#7201a8"
             ],
             [
              0.3333333333333333,
              "#9c179e"
             ],
             [
              0.4444444444444444,
              "#bd3786"
             ],
             [
              0.5555555555555556,
              "#d8576b"
             ],
             [
              0.6666666666666666,
              "#ed7953"
             ],
             [
              0.7777777777777778,
              "#fb9f3a"
             ],
             [
              0.8888888888888888,
              "#fdca26"
             ],
             [
              1,
              "#f0f921"
             ]
            ],
            "type": "contour"
           }
          ],
          "contourcarpet": [
           {
            "colorbar": {
             "outlinewidth": 0,
             "ticks": ""
            },
            "type": "contourcarpet"
           }
          ],
          "heatmap": [
           {
            "colorbar": {
             "outlinewidth": 0,
             "ticks": ""
            },
            "colorscale": [
             [
              0,
              "#0d0887"
             ],
             [
              0.1111111111111111,
              "#46039f"
             ],
             [
              0.2222222222222222,
              "#7201a8"
             ],
             [
              0.3333333333333333,
              "#9c179e"
             ],
             [
              0.4444444444444444,
              "#bd3786"
             ],
             [
              0.5555555555555556,
              "#d8576b"
             ],
             [
              0.6666666666666666,
              "#ed7953"
             ],
             [
              0.7777777777777778,
              "#fb9f3a"
             ],
             [
              0.8888888888888888,
              "#fdca26"
             ],
             [
              1,
              "#f0f921"
             ]
            ],
            "type": "heatmap"
           }
          ],
          "heatmapgl": [
           {
            "colorbar": {
             "outlinewidth": 0,
             "ticks": ""
            },
            "colorscale": [
             [
              0,
              "#0d0887"
             ],
             [
              0.1111111111111111,
              "#46039f"
             ],
             [
              0.2222222222222222,
              "#7201a8"
             ],
             [
              0.3333333333333333,
              "#9c179e"
             ],
             [
              0.4444444444444444,
              "#bd3786"
             ],
             [
              0.5555555555555556,
              "#d8576b"
             ],
             [
              0.6666666666666666,
              "#ed7953"
             ],
             [
              0.7777777777777778,
              "#fb9f3a"
             ],
             [
              0.8888888888888888,
              "#fdca26"
             ],
             [
              1,
              "#f0f921"
             ]
            ],
            "type": "heatmapgl"
           }
          ],
          "histogram": [
           {
            "marker": {
             "pattern": {
              "fillmode": "overlay",
              "size": 10,
              "solidity": 0.2
             }
            },
            "type": "histogram"
           }
          ],
          "histogram2d": [
           {
            "colorbar": {
             "outlinewidth": 0,
             "ticks": ""
            },
            "colorscale": [
             [
              0,
              "#0d0887"
             ],
             [
              0.1111111111111111,
              "#46039f"
             ],
             [
              0.2222222222222222,
              "#7201a8"
             ],
             [
              0.3333333333333333,
              "#9c179e"
             ],
             [
              0.4444444444444444,
              "#bd3786"
             ],
             [
              0.5555555555555556,
              "#d8576b"
             ],
             [
              0.6666666666666666,
              "#ed7953"
             ],
             [
              0.7777777777777778,
              "#fb9f3a"
             ],
             [
              0.8888888888888888,
              "#fdca26"
             ],
             [
              1,
              "#f0f921"
             ]
            ],
            "type": "histogram2d"
           }
          ],
          "histogram2dcontour": [
           {
            "colorbar": {
             "outlinewidth": 0,
             "ticks": ""
            },
            "colorscale": [
             [
              0,
              "#0d0887"
             ],
             [
              0.1111111111111111,
              "#46039f"
             ],
             [
              0.2222222222222222,
              "#7201a8"
             ],
             [
              0.3333333333333333,
              "#9c179e"
             ],
             [
              0.4444444444444444,
              "#bd3786"
             ],
             [
              0.5555555555555556,
              "#d8576b"
             ],
             [
              0.6666666666666666,
              "#ed7953"
             ],
             [
              0.7777777777777778,
              "#fb9f3a"
             ],
             [
              0.8888888888888888,
              "#fdca26"
             ],
             [
              1,
              "#f0f921"
             ]
            ],
            "type": "histogram2dcontour"
           }
          ],
          "mesh3d": [
           {
            "colorbar": {
             "outlinewidth": 0,
             "ticks": ""
            },
            "type": "mesh3d"
           }
          ],
          "parcoords": [
           {
            "line": {
             "colorbar": {
              "outlinewidth": 0,
              "ticks": ""
             }
            },
            "type": "parcoords"
           }
          ],
          "pie": [
           {
            "automargin": true,
            "type": "pie"
           }
          ],
          "scatter": [
           {
            "fillpattern": {
             "fillmode": "overlay",
             "size": 10,
             "solidity": 0.2
            },
            "type": "scatter"
           }
          ],
          "scatter3d": [
           {
            "line": {
             "colorbar": {
              "outlinewidth": 0,
              "ticks": ""
             }
            },
            "marker": {
             "colorbar": {
              "outlinewidth": 0,
              "ticks": ""
             }
            },
            "type": "scatter3d"
           }
          ],
          "scattercarpet": [
           {
            "marker": {
             "colorbar": {
              "outlinewidth": 0,
              "ticks": ""
             }
            },
            "type": "scattercarpet"
           }
          ],
          "scattergeo": [
           {
            "marker": {
             "colorbar": {
              "outlinewidth": 0,
              "ticks": ""
             }
            },
            "type": "scattergeo"
           }
          ],
          "scattergl": [
           {
            "marker": {
             "colorbar": {
              "outlinewidth": 0,
              "ticks": ""
             }
            },
            "type": "scattergl"
           }
          ],
          "scattermapbox": [
           {
            "marker": {
             "colorbar": {
              "outlinewidth": 0,
              "ticks": ""
             }
            },
            "type": "scattermapbox"
           }
          ],
          "scatterpolar": [
           {
            "marker": {
             "colorbar": {
              "outlinewidth": 0,
              "ticks": ""
             }
            },
            "type": "scatterpolar"
           }
          ],
          "scatterpolargl": [
           {
            "marker": {
             "colorbar": {
              "outlinewidth": 0,
              "ticks": ""
             }
            },
            "type": "scatterpolargl"
           }
          ],
          "scatterternary": [
           {
            "marker": {
             "colorbar": {
              "outlinewidth": 0,
              "ticks": ""
             }
            },
            "type": "scatterternary"
           }
          ],
          "surface": [
           {
            "colorbar": {
             "outlinewidth": 0,
             "ticks": ""
            },
            "colorscale": [
             [
              0,
              "#0d0887"
             ],
             [
              0.1111111111111111,
              "#46039f"
             ],
             [
              0.2222222222222222,
              "#7201a8"
             ],
             [
              0.3333333333333333,
              "#9c179e"
             ],
             [
              0.4444444444444444,
              "#bd3786"
             ],
             [
              0.5555555555555556,
              "#d8576b"
             ],
             [
              0.6666666666666666,
              "#ed7953"
             ],
             [
              0.7777777777777778,
              "#fb9f3a"
             ],
             [
              0.8888888888888888,
              "#fdca26"
             ],
             [
              1,
              "#f0f921"
             ]
            ],
            "type": "surface"
           }
          ],
          "table": [
           {
            "cells": {
             "fill": {
              "color": "#EBF0F8"
             },
             "line": {
              "color": "white"
             }
            },
            "header": {
             "fill": {
              "color": "#C8D4E3"
             },
             "line": {
              "color": "white"
             }
            },
            "type": "table"
           }
          ]
         },
         "layout": {
          "annotationdefaults": {
           "arrowcolor": "#2a3f5f",
           "arrowhead": 0,
           "arrowwidth": 1
          },
          "autotypenumbers": "strict",
          "coloraxis": {
           "colorbar": {
            "outlinewidth": 0,
            "ticks": ""
           }
          },
          "colorscale": {
           "diverging": [
            [
             0,
             "#8e0152"
            ],
            [
             0.1,
             "#c51b7d"
            ],
            [
             0.2,
             "#de77ae"
            ],
            [
             0.3,
             "#f1b6da"
            ],
            [
             0.4,
             "#fde0ef"
            ],
            [
             0.5,
             "#f7f7f7"
            ],
            [
             0.6,
             "#e6f5d0"
            ],
            [
             0.7,
             "#b8e186"
            ],
            [
             0.8,
             "#7fbc41"
            ],
            [
             0.9,
             "#4d9221"
            ],
            [
             1,
             "#276419"
            ]
           ],
           "sequential": [
            [
             0,
             "#0d0887"
            ],
            [
             0.1111111111111111,
             "#46039f"
            ],
            [
             0.2222222222222222,
             "#7201a8"
            ],
            [
             0.3333333333333333,
             "#9c179e"
            ],
            [
             0.4444444444444444,
             "#bd3786"
            ],
            [
             0.5555555555555556,
             "#d8576b"
            ],
            [
             0.6666666666666666,
             "#ed7953"
            ],
            [
             0.7777777777777778,
             "#fb9f3a"
            ],
            [
             0.8888888888888888,
             "#fdca26"
            ],
            [
             1,
             "#f0f921"
            ]
           ],
           "sequentialminus": [
            [
             0,
             "#0d0887"
            ],
            [
             0.1111111111111111,
             "#46039f"
            ],
            [
             0.2222222222222222,
             "#7201a8"
            ],
            [
             0.3333333333333333,
             "#9c179e"
            ],
            [
             0.4444444444444444,
             "#bd3786"
            ],
            [
             0.5555555555555556,
             "#d8576b"
            ],
            [
             0.6666666666666666,
             "#ed7953"
            ],
            [
             0.7777777777777778,
             "#fb9f3a"
            ],
            [
             0.8888888888888888,
             "#fdca26"
            ],
            [
             1,
             "#f0f921"
            ]
           ]
          },
          "colorway": [
           "#636efa",
           "#EF553B",
           "#00cc96",
           "#ab63fa",
           "#FFA15A",
           "#19d3f3",
           "#FF6692",
           "#B6E880",
           "#FF97FF",
           "#FECB52"
          ],
          "font": {
           "color": "#2a3f5f"
          },
          "geo": {
           "bgcolor": "white",
           "lakecolor": "white",
           "landcolor": "#E5ECF6",
           "showlakes": true,
           "showland": true,
           "subunitcolor": "white"
          },
          "hoverlabel": {
           "align": "left"
          },
          "hovermode": "closest",
          "mapbox": {
           "style": "light"
          },
          "paper_bgcolor": "white",
          "plot_bgcolor": "#E5ECF6",
          "polar": {
           "angularaxis": {
            "gridcolor": "white",
            "linecolor": "white",
            "ticks": ""
           },
           "bgcolor": "#E5ECF6",
           "radialaxis": {
            "gridcolor": "white",
            "linecolor": "white",
            "ticks": ""
           }
          },
          "scene": {
           "xaxis": {
            "backgroundcolor": "#E5ECF6",
            "gridcolor": "white",
            "gridwidth": 2,
            "linecolor": "white",
            "showbackground": true,
            "ticks": "",
            "zerolinecolor": "white"
           },
           "yaxis": {
            "backgroundcolor": "#E5ECF6",
            "gridcolor": "white",
            "gridwidth": 2,
            "linecolor": "white",
            "showbackground": true,
            "ticks": "",
            "zerolinecolor": "white"
           },
           "zaxis": {
            "backgroundcolor": "#E5ECF6",
            "gridcolor": "white",
            "gridwidth": 2,
            "linecolor": "white",
            "showbackground": true,
            "ticks": "",
            "zerolinecolor": "white"
           }
          },
          "shapedefaults": {
           "line": {
            "color": "#2a3f5f"
           }
          },
          "ternary": {
           "aaxis": {
            "gridcolor": "white",
            "linecolor": "white",
            "ticks": ""
           },
           "baxis": {
            "gridcolor": "white",
            "linecolor": "white",
            "ticks": ""
           },
           "bgcolor": "#E5ECF6",
           "caxis": {
            "gridcolor": "white",
            "linecolor": "white",
            "ticks": ""
           }
          },
          "title": {
           "x": 0.05
          },
          "xaxis": {
           "automargin": true,
           "gridcolor": "white",
           "linecolor": "white",
           "ticks": "",
           "title": {
            "standoff": 15
           },
           "zerolinecolor": "white",
           "zerolinewidth": 2
          },
          "yaxis": {
           "automargin": true,
           "gridcolor": "white",
           "linecolor": "white",
           "ticks": "",
           "title": {
            "standoff": 15
           },
           "zerolinecolor": "white",
           "zerolinewidth": 2
          }
         }
        },
        "xaxis": {
         "anchor": "y",
         "autorange": true,
         "domain": [
          0,
          1
         ],
         "range": [
          "2017-11-01",
          "2021-04-01"
         ],
         "title": {
          "text": "parsed_date"
         },
         "type": "date"
        },
        "yaxis": {
         "anchor": "x",
         "autorange": true,
         "domain": [
          0,
          1
         ],
         "range": [
          -3.770987859682726,
          -1.8944918964584896
         ],
         "title": {
          "text": "log_prob"
         },
         "type": "linear"
        }
       }
      },
      "image/png": "[encoded data removed]",
      "text/html": [
       "<div>                            <div id=\"ef9007b6-0b98-43f2-b85b-78ecbbb2d9c7\" class=\"plotly-graph-div\" style=\"height:525px; width:100%;\"></div>            <script type=\"text/javascript\">                require([\"plotly\"], function(Plotly) {                    window.PLOTLYENV=window.PLOTLYENV || {};                                    if (document.getElementById(\"ef9007b6-0b98-43f2-b85b-78ecbbb2d9c7\")) {                    Plotly.newPlot(                        \"ef9007b6-0b98-43f2-b85b-78ecbbb2d9c7\",                        [{\"hovertemplate\":\"identity_group=asian_people<br>parsed_date=%{x}<br>log_prob=%{y}<extra></extra>\",\"legendgroup\":\"asian_people\",\"line\":{\"color\":\"#636efa\",\"dash\":\"solid\"},\"marker\":{\"symbol\":\"circle\"},\"mode\":\"lines\",\"name\":\"asian_people\",\"orientation\":\"v\",\"showlegend\":true,\"x\":[\"2017-11-01T00:00:00\",\"2017-12-01T00:00:00\",\"2018-01-01T00:00:00\",\"2018-02-01T00:00:00\",\"2018-03-01T00:00:00\",\"2018-04-01T00:00:00\",\"2018-05-01T00:00:00\",\"2018-06-01T00:00:00\",\"2018-07-01T00:00:00\",\"2018-08-01T00:00:00\",\"2018-09-01T00:00:00\",\"2018-10-01T00:00:00\",\"2018-11-01T00:00:00\",\"2018-12-01T00:00:00\",\"2019-01-01T00:00:00\",\"2019-02-01T00:00:00\",\"2019-03-01T00:00:00\",\"2019-04-01T00:00:00\",\"2019-05-01T00:00:00\",\"2019-06-01T00:00:00\",\"2019-07-01T00:00:00\",\"2019-08-01T00:00:00\",\"2019-09-01T00:00:00\",\"2019-10-01T00:00:00\",\"2019-11-01T00:00:00\",\"2019-12-01T00:00:00\",\"2020-01-01T00:00:00\",\"2020-02-01T00:00:00\",\"2020-03-01T00:00:00\",\"2020-04-01T00:00:00\",\"2020-05-01T00:00:00\",\"2020-06-01T00:00:00\",\"2020-07-01T00:00:00\",\"2020-08-01T00:00:00\",\"2020-09-01T00:00:00\",\"2020-10-01T00:00:00\",\"2020-11-01T00:00:00\",\"2020-12-01T00:00:00\",\"2021-01-01T00:00:00\",\"2021-02-01T00:00:00\",\"2021-03-01T00:00:00\",\"2021-04-01T00:00:00\"],\"xaxis\":\"x\",\"y\":[-3.104027095055382,-3.1958406182300108,-3.165656435855695,-3.100043325039337,-3.074460397042834,-3.1866023302057656,-3.063132225297984,-3.0568783998042353,-3.0826788414181503,-3.133570173187423,-3.0224911442848996,-3.085031327222589,-3.14299447395559,-3.236399477443453,-3.259695953189623,-3.1305692212175056,-3.276696704879279,-3.286595383294164,-3.2707747469060697,-3.257524896940689,-3.2840472675752097,-3.1130216151302457,-3.32340647803023,-3.2522014098271743,-3.2746626989974637,-3.1936441796424937,-3.205874863185326,-3.2425105775931655,-3.30675089123028,-3.3357875758733164,-3.292803763307457,-3.2096160993246574,-3.2759055638777137,-3.255601466461769,-3.1150507561941496,-3.1723493435321273,-3.1908276015296284,-3.1184096980841502,-3.2627977624449587,-3.2830048793294724,-3.2138253153023064,-2.8918157520148493],\"yaxis\":\"y\",\"type\":\"scatter\"},{\"hovertemplate\":\"identity_group=black_people<br>parsed_date=%{x}<br>log_prob=%{y}<extra></extra>\",\"legendgroup\":\"black_people\",\"line\":{\"color\":\"#EF553B\",\"dash\":\"solid\"},\"marker\":{\"symbol\":\"circle\"},\"mode\":\"lines\",\"name\":\"black_people\",\"orientation\":\"v\",\"showlegend\":true,\"x\":[\"2017-11-01T00:00:00\",\"2017-12-01T00:00:00\",\"2018-01-01T00:00:00\",\"2018-02-01T00:00:00\",\"2018-03-01T00:00:00\",\"2018-04-01T00:00:00\",\"2018-05-01T00:00:00\",\"2018-06-01T00:00:00\",\"2018-07-01T00:00:00\",\"2018-08-01T00:00:00\",\"2018-09-01T00:00:00\",\"2018-10-01T00:00:00\",\"2018-11-01T00:00:00\",\"2018-12-01T00:00:00\",\"2019-01-01T00:00:00\",\"2019-02-01T00:00:00\",\"2019-03-01T00:00:00\",\"2019-04-01T00:00:00\",\"2019-05-01T00:00:00\",\"2019-06-01T00:00:00\",\"2019-07-01T00:00:00\",\"2019-08-01T00:00:00\",\"2019-09-01T00:00:00\",\"2019-10-01T00:00:00\",\"2019-11-01T00:00:00\",\"2019-12-01T00:00:00\",\"2020-01-01T00:00:00\",\"2020-02-01T00:00:00\",\"2020-03-01T00:00:00\",\"2020-04-01T00:00:00\",\"2020-05-01T00:00:00\",\"2020-06-01T00:00:00\",\"2020-07-01T00:00:00\",\"2020-08-01T00:00:00\",\"2020-09-01T00:00:00\",\"2020-10-01T00:00:00\",\"2020-11-01T00:00:00\",\"2020-12-01T00:00:00\",\"2021-01-01T00:00:00\",\"2021-02-01T00:00:00\",\"2021-03-01T00:00:00\",\"2021-04-01T00:00:00\"],\"xaxis\":\"x\",\"y\":[-2.9901777696276852,-3.5519605566197114,-3.4978373155906217,-3.3080540494539616,-3.351865954031062,-3.3306097507877124,-3.2601737622222267,-3.3610142095288498,-3.367950392432174,-3.4958119177290583,-3.3167187475637183,-3.336249166120398,-3.4064443133994153,-3.3628221712186095,-3.4272497877116654,-3.3392383682725377,-3.453422831203353,-3.3828435300599646,-3.4771508098662185,-3.3584376524024195,-3.4403479227535176,-3.309611964949395,-3.38636431211474,-3.47370456045146,-3.419884065281882,-3.4095357832813855,-3.3865137499917277,-3.2036601580931134,-2.800206828875467,-2.6718832192865127,-3.0876334543741324,-3.0141772071312727,-3.097646815268056,-2.9642252403169937,-2.9271924480703047,-2.9272576319955417,-3.098396187841063,-3.1283423545088556,-3.120590682435814,-3.1560881068322724,-3.1328757372146327,-3.0186685264586313],\"yaxis\":\"y\",\"type\":\"scatter\"},{\"hovertemplate\":\"identity_group=jews<br>parsed_date=%{x}<br>log_prob=%{y}<extra></extra>\",\"legendgroup\":\"jews\",\"line\":{\"color\":\"#00cc96\",\"dash\":\"solid\"},\"marker\":{\"symbol\":\"circle\"},\"mode\":\"lines\",\"name\":\"jews\",\"orientation\":\"v\",\"showlegend\":true,\"x\":[\"2017-11-01T00:00:00\",\"2017-12-01T00:00:00\",\"2018-01-01T00:00:00\",\"2018-02-01T00:00:00\",\"2018-03-01T00:00:00\",\"2018-04-01T00:00:00\",\"2018-05-01T00:00:00\",\"2018-06-01T00:00:00\",\"2018-07-01T00:00:00\",\"2018-08-01T00:00:00\",\"2018-09-01T00:00:00\",\"2018-10-01T00:00:00\",\"2018-11-01T00:00:00\",\"2018-12-01T00:00:00\",\"2019-01-01T00:00:00\",\"2019-02-01T00:00:00\",\"2019-03-01T00:00:00\",\"2019-04-01T00:00:00\",\"2019-05-01T00:00:00\",\"2019-06-01T00:00:00\",\"2019-07-01T00:00:00\",\"2019-08-01T00:00:00\",\"2019-09-01T00:00:00\",\"2019-10-01T00:00:00\",\"2019-11-01T00:00:00\",\"2019-12-01T00:00:00\",\"2020-01-01T00:00:00\",\"2020-02-01T00:00:00\",\"2020-03-01T00:00:00\",\"2020-04-01T00:00:00\",\"2020-05-01T00:00:00\",\"2020-06-01T00:00:00\",\"2020-07-01T00:00:00\",\"2020-08-01T00:00:00\",\"2020-09-01T00:00:00\",\"2020-10-01T00:00:00\",\"2020-11-01T00:00:00\",\"2020-12-01T00:00:00\",\"2021-01-01T00:00:00\",\"2021-02-01T00:00:00\",\"2021-03-01T00:00:00\",\"2021-04-01T00:00:00\"],\"xaxis\":\"x\",\"y\":[-3.6634369693337785,-3.6771630615215143,-3.6277253306275643,-3.321980516664329,-3.284855076083074,-3.5096028947674136,-3.439439238608996,-3.345162859173403,-3.3215743037333993,-3.4793501996896548,-3.386535856708276,-3.3694424766391595,-3.263703439980967,-3.3305185844975527,-3.329556085200298,-3.293575299819399,-3.2048577101070337,-3.1752241969955115,-3.233079955742156,-3.2293716801528642,-3.120589632686978,-3.0781846111417965,-3.2290370874510956,-3.3645326743108814,-3.5323927085123845,-3.437256903166317,-3.3540434405121005,-3.302952020527993,-3.354407840103222,-3.240278436108726,-3.3835998356781336,-3.3046676112400903,-3.307797051054763,-3.3808939495113126,-3.3675538699344445,-3.3436008237615766,-3.2642894559663924,-3.143960602850639,-3.080992019864848,-3.0283720978854585,-3.0117307848372636,-2.8838676573111663],\"yaxis\":\"y\",\"type\":\"scatter\"},{\"hovertemplate\":\"identity_group=lgbtq_people<br>parsed_date=%{x}<br>log_prob=%{y}<extra></extra>\",\"legendgroup\":\"lgbtq_people\",\"line\":{\"color\":\"#ab63fa\",\"dash\":\"solid\"},\"marker\":{\"symbol\":\"circle\"},\"mode\":\"lines\",\"name\":\"lgbtq_people\",\"orientation\":\"v\",\"showlegend\":true,\"x\":[\"2017-11-01T00:00:00\",\"2017-12-01T00:00:00\",\"2018-01-01T00:00:00\",\"2018-02-01T00:00:00\",\"2018-03-01T00:00:00\",\"2018-04-01T00:00:00\",\"2018-05-01T00:00:00\",\"2018-06-01T00:00:00\",\"2018-07-01T00:00:00\",\"2018-08-01T00:00:00\",\"2018-09-01T00:00:00\",\"2018-10-01T00:00:00\",\"2018-11-01T00:00:00\",\"2018-12-01T00:00:00\",\"2019-01-01T00:00:00\",\"2019-02-01T00:00:00\",\"2019-03-01T00:00:00\",\"2019-04-01T00:00:00\",\"2019-05-01T00:00:00\",\"2019-06-01T00:00:00\",\"2019-07-01T00:00:00\",\"2019-08-01T00:00:00\",\"2019-09-01T00:00:00\",\"2019-10-01T00:00:00\",\"2019-11-01T00:00:00\",\"2019-12-01T00:00:00\",\"2020-01-01T00:00:00\",\"2020-02-01T00:00:00\",\"2020-03-01T00:00:00\",\"2020-04-01T00:00:00\",\"2020-05-01T00:00:00\",\"2020-06-01T00:00:00\",\"2020-07-01T00:00:00\",\"2020-08-01T00:00:00\",\"2020-09-01T00:00:00\",\"2020-10-01T00:00:00\",\"2020-11-01T00:00:00\",\"2020-12-01T00:00:00\",\"2021-01-01T00:00:00\",\"2021-02-01T00:00:00\",\"2021-03-01T00:00:00\",\"2021-04-01T00:00:00\"],\"xaxis\":\"x\",\"y\":[-3.4367406409246413,-3.4873934687344526,-3.3962771622663026,-3.4115452251372873,-3.398721534890789,-3.498904595409727,-3.454808933970454,-3.4737125696350515,-3.5521449419812594,-3.5343262006447858,-3.5283018270209845,-3.451574258344328,-3.431456773606771,-3.4156129245104885,-3.380682509003887,-3.4370343954918177,-3.43346704744897,-3.3048580548121915,-3.396764862680223,-3.2643516729153617,-3.3668745332707526,-3.3734120248395945,-3.376064355474928,-3.463944723162304,-3.44871660725549,-3.452041856116957,-3.413223815971449,-3.3995598105023475,-3.362398607962352,-3.2627178389786478,-3.3510396274394934,-3.4134430687128137,-3.3289532597607168,-3.3259205380069434,-3.4114382112784063,-3.258281865425461,-3.2119856124988426,-3.356173965556059,-3.285301278828804,-3.3569005289154137,-3.331924627380301,-3.206227614226689],\"yaxis\":\"y\",\"type\":\"scatter\"},{\"hovertemplate\":\"identity_group=men_boys<br>parsed_date=%{x}<br>log_prob=%{y}<extra></extra>\",\"legendgroup\":\"men_boys\",\"line\":{\"color\":\"#FFA15A\",\"dash\":\"solid\"},\"marker\":{\"symbol\":\"circle\"},\"mode\":\"lines\",\"name\":\"men_boys\",\"orientation\":\"v\",\"showlegend\":true,\"x\":[\"2017-11-01T00:00:00\",\"2017-12-01T00:00:00\",\"2018-01-01T00:00:00\",\"2018-02-01T00:00:00\",\"2018-03-01T00:00:00\",\"2018-04-01T00:00:00\",\"2018-05-01T00:00:00\",\"2018-06-01T00:00:00\",\"2018-07-01T00:00:00\",\"2018-08-01T00:00:00\",\"2018-09-01T00:00:00\",\"2018-10-01T00:00:00\",\"2018-11-01T00:00:00\",\"2018-12-01T00:00:00\",\"2019-01-01T00:00:00\",\"2019-02-01T00:00:00\",\"2019-03-01T00:00:00\",\"2019-04-01T00:00:00\",\"2019-05-01T00:00:00\",\"2019-06-01T00:00:00\",\"2019-07-01T00:00:00\",\"2019-08-01T00:00:00\",\"2019-09-01T00:00:00\",\"2019-10-01T00:00:00\",\"2019-11-01T00:00:00\",\"2019-12-01T00:00:00\",\"2020-01-01T00:00:00\",\"2020-02-01T00:00:00\",\"2020-03-01T00:00:00\",\"2020-04-01T00:00:00\",\"2020-05-01T00:00:00\",\"2020-06-01T00:00:00\",\"2020-07-01T00:00:00\",\"2020-08-01T00:00:00\",\"2020-09-01T00:00:00\",\"2020-10-01T00:00:00\",\"2020-11-01T00:00:00\",\"2020-12-01T00:00:00\",\"2021-01-01T00:00:00\",\"2021-02-01T00:00:00\",\"2021-03-01T00:00:00\",\"2021-04-01T00:00:00\"],\"xaxis\":\"x\",\"y\":[-2.302062518644774,-2.333279680543821,-2.353249879193423,-2.335614752513503,-2.314756508967149,-2.301526650921573,-2.2737556056355452,-2.2753283400592847,-2.2759037503128208,-2.2577133527278574,-2.2470001186466226,-2.2336557609496768,-2.239717008229069,-2.23292906928119,-2.2006785903667048,-2.219684853681083,-2.189063991580576,-2.1843225041005474,-2.223247684770193,-2.182195622825556,-2.18688596712968,-2.1678672401656147,-2.186562135837151,-2.197699956532993,-2.207793712033111,-2.182170798547397,-2.2043945547281067,-2.1999715549461,-2.2537005020398126,-2.2475383134071474,-2.265091396146574,-2.289873421900045,-2.246357441123381,-2.330812282083582,-2.3006865922926845,-2.262653719861467,-2.28605127445797,-2.2667990276379117,-2.289741307823152,-2.2592243563566727,-2.2706952147670525,-2.257801340614907],\"yaxis\":\"y\",\"type\":\"scatter\"},{\"hovertemplate\":\"identity_group=men_boys_address<br>parsed_date=%{x}<br>log_prob=%{y}<extra></extra>\",\"legendgroup\":\"men_boys_address\",\"line\":{\"color\":\"#19d3f3\",\"dash\":\"solid\"},\"marker\":{\"symbol\":\"circle\"},\"mode\":\"lines\",\"name\":\"men_boys_address\",\"orientation\":\"v\",\"showlegend\":true,\"x\":[\"2017-11-01T00:00:00\",\"2017-12-01T00:00:00\",\"2018-01-01T00:00:00\",\"2018-02-01T00:00:00\",\"2018-03-01T00:00:00\",\"2018-04-01T00:00:00\",\"2018-05-01T00:00:00\",\"2018-06-01T00:00:00\",\"2018-07-01T00:00:00\",\"2018-08-01T00:00:00\",\"2018-09-01T00:00:00\",\"2018-10-01T00:00:00\",\"2018-11-01T00:00:00\",\"2018-12-01T00:00:00\",\"2019-01-01T00:00:00\",\"2019-02-01T00:00:00\",\"2019-03-01T00:00:00\",\"2019-04-01T00:00:00\",\"2019-05-01T00:00:00\",\"2019-06-01T00:00:00\",\"2019-07-01T00:00:00\",\"2019-08-01T00:00:00\",\"2019-09-01T00:00:00\",\"2019-10-01T00:00:00\",\"2019-11-01T00:00:00\",\"2019-12-01T00:00:00\",\"2020-01-01T00:00:00\",\"2020-02-01T00:00:00\",\"2020-03-01T00:00:00\",\"2020-04-01T00:00:00\",\"2020-05-01T00:00:00\",\"2020-06-01T00:00:00\",\"2020-07-01T00:00:00\",\"2020-08-01T00:00:00\",\"2020-09-01T00:00:00\",\"2020-10-01T00:00:00\",\"2020-11-01T00:00:00\",\"2020-12-01T00:00:00\",\"2021-01-01T00:00:00\",\"2021-02-01T00:00:00\",\"2021-03-01T00:00:00\",\"2021-04-01T00:00:00\"],\"xaxis\":\"x\",\"y\":[-3.1372471954474377,-3.096463904601213,-3.085379147849932,-3.0466855856983748,-3.0427242994579977,-3.171585767638552,-3.06104773605913,-3.004255943981309,-3.0148445969492808,-3.0823645682389786,-2.9181126429299655,-2.887199323417108,-2.966903214899909,-2.936972374858862,-2.8262369204157607,-2.821583567115788,-2.7540717951485485,-2.8256692741897473,-2.937447570918393,-2.794029155691012,-2.8527869561279795,-2.810169657004239,-2.8942827267191626,-2.9546675092011427,-2.9461574109961672,-2.895430962308553,-2.9138599283070374,-2.8811030936935067,-2.859194093321253,-2.88796691324908,-2.8875133106919213,-2.9276859068630428,-2.939687919429142,-2.9468958086669965,-3.021353127125361,-2.980238937240131,-3.0270065594807027,-3.107873876321244,-3.125367492217509,-3.144405430566129,-3.090418483216754,-3.0013696628598012],\"yaxis\":\"y\",\"type\":\"scatter\"},{\"hovertemplate\":\"identity_group=virgins<br>parsed_date=%{x}<br>log_prob=%{y}<extra></extra>\",\"legendgroup\":\"virgins\",\"line\":{\"color\":\"#FF6692\",\"dash\":\"solid\"},\"marker\":{\"symbol\":\"circle\"},\"mode\":\"lines\",\"name\":\"virgins\",\"orientation\":\"v\",\"showlegend\":true,\"x\":[\"2017-11-01T00:00:00\",\"2017-12-01T00:00:00\",\"2018-01-01T00:00:00\",\"2018-02-01T00:00:00\",\"2018-03-01T00:00:00\",\"2018-04-01T00:00:00\",\"2018-05-01T00:00:00\",\"2018-06-01T00:00:00\",\"2018-07-01T00:00:00\",\"2018-08-01T00:00:00\",\"2018-09-01T00:00:00\",\"2018-10-01T00:00:00\",\"2018-11-01T00:00:00\",\"2018-12-01T00:00:00\",\"2019-01-01T00:00:00\",\"2019-02-01T00:00:00\",\"2019-03-01T00:00:00\",\"2019-04-01T00:00:00\",\"2019-05-01T00:00:00\",\"2019-06-01T00:00:00\",\"2019-07-01T00:00:00\",\"2019-08-01T00:00:00\",\"2019-09-01T00:00:00\",\"2019-10-01T00:00:00\",\"2019-11-01T00:00:00\",\"2019-12-01T00:00:00\",\"2020-01-01T00:00:00\",\"2020-02-01T00:00:00\",\"2020-03-01T00:00:00\",\"2020-04-01T00:00:00\",\"2020-05-01T00:00:00\",\"2020-06-01T00:00:00\",\"2020-07-01T00:00:00\",\"2020-08-01T00:00:00\",\"2020-09-01T00:00:00\",\"2020-10-01T00:00:00\",\"2020-11-01T00:00:00\",\"2020-12-01T00:00:00\",\"2021-01-01T00:00:00\",\"2021-02-01T00:00:00\",\"2021-03-01T00:00:00\",\"2021-04-01T00:00:00\"],\"xaxis\":\"x\",\"y\":[-3.181662952234562,-3.260730852297536,-3.3052493314842004,-3.1656436009278948,-3.1936343382901327,-3.223139560078357,-3.2561443267001513,-3.2863048825428356,-3.3083895043943063,-3.3431711951532286,-3.3747583119398303,-3.3274333336316477,-3.3215303501024387,-3.338765635409116,-3.3278889258328355,-3.369792066903285,-3.3982650682824946,-3.4089658422704927,-3.4247133915647177,-3.320439702143984,-3.372187720189184,-3.218909293760687,-3.3251273103239063,-3.319889696106931,-3.3107630782154613,-3.356104715041679,-3.2798100378971484,-3.3469829583916084,-3.39241085984311,-3.4208928769675317,-3.3843518609429313,-3.3803666099112273,-3.406996409617866,-3.5940537168581637,-3.4632233951470903,-3.460498571692467,-3.577647087019664,-3.5005893807618214,-3.4342402918408705,-3.385076745973316,-3.2977510758688466,-3.292918462053059],\"yaxis\":\"y\",\"type\":\"scatter\"},{\"hovertemplate\":\"identity_group=women_girls<br>parsed_date=%{x}<br>log_prob=%{y}<extra></extra>\",\"legendgroup\":\"women_girls\",\"line\":{\"color\":\"#B6E880\",\"dash\":\"solid\"},\"marker\":{\"symbol\":\"circle\"},\"mode\":\"lines\",\"name\":\"women_girls\",\"orientation\":\"v\",\"showlegend\":true,\"x\":[\"2017-11-01T00:00:00\",\"2017-12-01T00:00:00\",\"2018-01-01T00:00:00\",\"2018-02-01T00:00:00\",\"2018-03-01T00:00:00\",\"2018-04-01T00:00:00\",\"2018-05-01T00:00:00\",\"2018-06-01T00:00:00\",\"2018-07-01T00:00:00\",\"2018-08-01T00:00:00\",\"2018-09-01T00:00:00\",\"2018-10-01T00:00:00\",\"2018-11-01T00:00:00\",\"2018-12-01T00:00:00\",\"2019-01-01T00:00:00\",\"2019-02-01T00:00:00\",\"2019-03-01T00:00:00\",\"2019-04-01T00:00:00\",\"2019-05-01T00:00:00\",\"2019-06-01T00:00:00\",\"2019-07-01T00:00:00\",\"2019-08-01T00:00:00\",\"2019-09-01T00:00:00\",\"2019-10-01T00:00:00\",\"2019-11-01T00:00:00\",\"2019-12-01T00:00:00\",\"2020-01-01T00:00:00\",\"2020-02-01T00:00:00\",\"2020-03-01T00:00:00\",\"2020-04-01T00:00:00\",\"2020-05-01T00:00:00\",\"2020-06-01T00:00:00\",\"2020-07-01T00:00:00\",\"2020-08-01T00:00:00\",\"2020-09-01T00:00:00\",\"2020-10-01T00:00:00\",\"2020-11-01T00:00:00\",\"2020-12-01T00:00:00\",\"2021-01-01T00:00:00\",\"2021-02-01T00:00:00\",\"2021-03-01T00:00:00\",\"2021-04-01T00:00:00\"],\"xaxis\":\"x\",\"y\":[-1.9883166946197015,-2.0265027033467446,-2.0614674153904056,-2.035052777390224,-2.0047477134363527,-2.0162620714156416,-2.01018323914363,-2.0370401872283797,-2.0700169318235506,-2.051591050195526,-2.1069075642383854,-2.136032093448385,-2.1018518864039906,-2.086768282994487,-2.0845300883973232,-2.107375573213907,-2.1550831578993392,-2.1423481316513784,-2.142697058715288,-2.1462870548990765,-2.1518684269810056,-2.1400258600138686,-2.1434539115845914,-2.114764364165926,-2.1019020208166723,-2.089941964465166,-2.148203477461902,-2.153961322219209,-2.2211886312910116,-2.0933631469442804,-2.2130843516904264,-2.237964106809819,-2.172796786352357,-2.312824251992505,-2.223475068197704,-2.1729127361515075,-2.208869373535611,-2.1454750959593984,-2.1931272156915536,-2.151273915585716,-2.172101759261613,-2.1610377362047815],\"yaxis\":\"y\",\"type\":\"scatter\"},{\"hovertemplate\":\"identity_group=women_girls_derogatory<br>parsed_date=%{x}<br>log_prob=%{y}<extra></extra>\",\"legendgroup\":\"women_girls_derogatory\",\"line\":{\"color\":\"#FF97FF\",\"dash\":\"solid\"},\"marker\":{\"symbol\":\"circle\"},\"mode\":\"lines\",\"name\":\"women_girls_derogatory\",\"orientation\":\"v\",\"showlegend\":true,\"x\":[\"2017-11-01T00:00:00\",\"2017-12-01T00:00:00\",\"2018-01-01T00:00:00\",\"2018-02-01T00:00:00\",\"2018-03-01T00:00:00\",\"2018-04-01T00:00:00\",\"2018-05-01T00:00:00\",\"2018-06-01T00:00:00\",\"2018-07-01T00:00:00\",\"2018-08-01T00:00:00\",\"2018-09-01T00:00:00\",\"2018-10-01T00:00:00\",\"2018-11-01T00:00:00\",\"2018-12-01T00:00:00\",\"2019-01-01T00:00:00\",\"2019-02-01T00:00:00\",\"2019-03-01T00:00:00\",\"2019-04-01T00:00:00\",\"2019-05-01T00:00:00\",\"2019-06-01T00:00:00\",\"2019-07-01T00:00:00\",\"2019-08-01T00:00:00\",\"2019-09-01T00:00:00\",\"2019-10-01T00:00:00\",\"2019-11-01T00:00:00\",\"2019-12-01T00:00:00\",\"2020-01-01T00:00:00\",\"2020-02-01T00:00:00\",\"2020-03-01T00:00:00\",\"2020-04-01T00:00:00\",\"2020-05-01T00:00:00\",\"2020-06-01T00:00:00\",\"2020-07-01T00:00:00\",\"2020-08-01T00:00:00\",\"2020-09-01T00:00:00\",\"2020-10-01T00:00:00\",\"2020-11-01T00:00:00\",\"2020-12-01T00:00:00\",\"2021-01-01T00:00:00\",\"2021-02-01T00:00:00\",\"2021-03-01T00:00:00\",\"2021-04-01T00:00:00\"],\"xaxis\":\"x\",\"y\":[-2.906733603607887,-2.9966259904646106,-3.031932323687252,-2.965203281379841,-2.8854947368190182,-2.871197982046352,-2.8769264755566413,-2.9505645458177323,-2.975265187286337,-2.9565244203807106,-2.994467710797779,-2.9791085202020624,-2.884621631766145,-2.865713801757146,-2.8707730114677603,-2.7110716405713573,-2.9334673511080585,-3.019179064279557,-2.9571041931400472,-2.9574921335906565,-2.9844159671037933,-2.920449786795771,-3.0142943733578407,-2.9725830293280313,-2.912297368789988,-2.946993116999378,-2.981545068493124,-3.002905704745265,-3.003838058654223,-2.5351208653507094,-3.0085535783408335,-3.0268991959457456,-2.9746296483419843,-3.054168316220064,-3.011348551304695,-2.952106756820745,-2.9619274945839082,-2.965709596571908,-2.990628166007667,-3.0013719313451235,-2.9510607778837388,-2.882463535551678],\"yaxis\":\"y\",\"type\":\"scatter\"},{\"hovertemplate\":\"identity_group=youth<br>parsed_date=%{x}<br>log_prob=%{y}<extra></extra>\",\"legendgroup\":\"youth\",\"line\":{\"color\":\"#FECB52\",\"dash\":\"solid\"},\"marker\":{\"symbol\":\"circle\"},\"mode\":\"lines\",\"name\":\"youth\",\"orientation\":\"v\",\"showlegend\":true,\"x\":[\"2017-11-01T00:00:00\",\"2017-12-01T00:00:00\",\"2018-01-01T00:00:00\",\"2018-02-01T00:00:00\",\"2018-03-01T00:00:00\",\"2018-04-01T00:00:00\",\"2018-05-01T00:00:00\",\"2018-06-01T00:00:00\",\"2018-07-01T00:00:00\",\"2018-08-01T00:00:00\",\"2018-09-01T00:00:00\",\"2018-10-01T00:00:00\",\"2018-11-01T00:00:00\",\"2018-12-01T00:00:00\",\"2019-01-01T00:00:00\",\"2019-02-01T00:00:00\",\"2019-03-01T00:00:00\",\"2019-04-01T00:00:00\",\"2019-05-01T00:00:00\",\"2019-06-01T00:00:00\",\"2019-07-01T00:00:00\",\"2019-08-01T00:00:00\",\"2019-09-01T00:00:00\",\"2019-10-01T00:00:00\",\"2019-11-01T00:00:00\",\"2019-12-01T00:00:00\",\"2020-01-01T00:00:00\",\"2020-02-01T00:00:00\",\"2020-03-01T00:00:00\",\"2020-04-01T00:00:00\",\"2020-05-01T00:00:00\",\"2020-06-01T00:00:00\",\"2020-07-01T00:00:00\",\"2020-08-01T00:00:00\",\"2020-09-01T00:00:00\",\"2020-10-01T00:00:00\",\"2020-11-01T00:00:00\",\"2020-12-01T00:00:00\",\"2021-01-01T00:00:00\",\"2021-02-01T00:00:00\",\"2021-03-01T00:00:00\",\"2021-04-01T00:00:00\"],\"xaxis\":\"x\",\"y\":[-3.0535087776593346,-3.0394083485641588,-3.0089831256162833,-3.0164409012080964,-2.9893390837618203,-2.9880188284324722,-2.9618721943680706,-2.891417116210238,-2.9153001034865316,-2.887878377929239,-2.9314953244811357,-2.8885052861854157,-2.8797530391810087,-2.850171085462179,-2.8779467561075673,-2.893431176221277,-2.8670966035085246,-2.897262611730494,-2.8289534864623547,-2.888070724832188,-2.8904579590268114,-2.896216879097737,-2.7635879806330665,-2.8525755076995702,-2.757677893861087,-2.886279554724868,-2.900406554951165,-2.870587248821065,-2.92747153121298,-2.9566728982561967,-2.8826022047668314,-2.93359651471084,-2.8353335112309352,-3.005498630190331,-2.948244767330906,-2.9379719996738323,-3.021802300486106,-2.885983904695279,-2.914897206375439,-2.913166164143703,-2.921028636966009,-2.956571776371829],\"yaxis\":\"y\",\"type\":\"scatter\"}],                        {\"template\":{\"data\":{\"histogram2dcontour\":[{\"type\":\"histogram2dcontour\",\"colorbar\":{\"outlinewidth\":0,\"ticks\":\"\"},\"colorscale\":[[0.0,\"#0d0887\"],[0.1111111111111111,\"#46039f\"],[0.2222222222222222,\"#7201a8\"],[0.3333333333333333,\"#9c179e\"],[0.4444444444444444,\"#bd3786\"],[0.5555555555555556,\"#d8576b\"],[0.6666666666666666,\"#ed7953\"],[0.7777777777777778,\"#fb9f3a\"],[0.8888888888888888,\"#fdca26\"],[1.0,\"#f0f921\"]]}],\"choropleth\":[{\"type\":\"choropleth\",\"colorbar\":{\"outlinewidth\":0,\"ticks\":\"\"}}],\"histogram2d\":[{\"type\":\"histogram2d\",\"colorbar\":{\"outlinewidth\":0,\"ticks\":\"\"},\"colorscale\":[[0.0,\"#0d0887\"],[0.1111111111111111,\"#46039f\"],[0.2222222222222222,\"#7201a8\"],[0.3333333333333333,\"#9c179e\"],[0.4444444444444444,\"#bd3786\"],[0.5555555555555556,\"#d8576b\"],[0.6666666666666666,\"#ed7953\"],[0.7777777777777778,\"#fb9f3a\"],[0.8888888888888888,\"#fdca26\"],[1.0,\"#f0f921\"]]}],\"heatmap\":[{\"type\":\"heatmap\",\"colorbar\":{\"outlinewidth\":0,\"ticks\":\"\"},\"colorscale\":[[0.0,\"#0d0887\"],[0.1111111111111111,\"#46039f\"],[0.2222222222222222,\"#7201a8\"],[0.3333333333333333,\"#9c179e\"],[0.4444444444444444,\"#bd3786\"],[0.5555555555555556,\"#d8576b\"],[0.6666666666666666,\"#ed7953\"],[0.7777777777777778,\"#fb9f3a\"],[0.8888888888888888,\"#fdca26\"],[1.0,\"#f0f921\"]]}],\"heatmapgl\":[{\"type\":\"heatmapgl\",\"colorbar\":{\"outlinewidth\":0,\"ticks\":\"\"},\"colorscale\":[[0.0,\"#0d0887\"],[0.1111111111111111,\"#46039f\"],[0.2222222222222222,\"#7201a8\"],[0.3333333333333333,\"#9c179e\"],[0.4444444444444444,\"#bd3786\"],[0.5555555555555556,\"#d8576b\"],[0.6666666666666666,\"#ed7953\"],[0.7777777777777778,\"#fb9f3a\"],[0.8888888888888888,\"#fdca26\"],[1.0,\"#f0f921\"]]}],\"contourcarpet\":[{\"type\":\"contourcarpet\",\"colorbar\":{\"outlinewidth\":0,\"ticks\":\"\"}}],\"contour\":[{\"type\":\"contour\",\"colorbar\":{\"outlinewidth\":0,\"ticks\":\"\"},\"colorscale\":[[0.0,\"#0d0887\"],[0.1111111111111111,\"#46039f\"],[0.2222222222222222,\"#7201a8\"],[0.3333333333333333,\"#9c179e\"],[0.4444444444444444,\"#bd3786\"],[0.5555555555555556,\"#d8576b\"],[0.6666666666666666,\"#ed7953\"],[0.7777777777777778,\"#fb9f3a\"],[0.8888888888888888,\"#fdca26\"],[1.0,\"#f0f921\"]]}],\"surface\":[{\"type\":\"surface\",\"colorbar\":{\"outlinewidth\":0,\"ticks\":\"\"},\"colorscale\":[[0.0,\"#0d0887\"],[0.1111111111111111,\"#46039f\"],[0.2222222222222222,\"#7201a8\"],[0.3333333333333333,\"#9c179e\"],[0.4444444444444444,\"#bd3786\"],[0.5555555555555556,\"#d8576b\"],[0.6666666666666666,\"#ed7953\"],[0.7777777777777778,\"#fb9f3a\"],[0.8888888888888888,\"#fdca26\"],[1.0,\"#f0f921\"]]}],\"mesh3d\":[{\"type\":\"mesh3d\",\"colorbar\":{\"outlinewidth\":0,\"ticks\":\"\"}}],\"scatter\":[{\"fillpattern\":{\"fillmode\":\"overlay\",\"size\":10,\"solidity\":0.2},\"type\":\"scatter\"}],\"parcoords\":[{\"type\":\"parcoords\",\"line\":{\"colorbar\":{\"outlinewidth\":0,\"ticks\":\"\"}}}],\"scatterpolargl\":[{\"type\":\"scatterpolargl\",\"marker\":{\"colorbar\":{\"outlinewidth\":0,\"ticks\":\"\"}}}],\"bar\":[{\"error_x\":{\"color\":\"#2a3f5f\"},\"error_y\":{\"color\":\"#2a3f5f\"},\"marker\":{\"line\":{\"color\":\"#E5ECF6\",\"width\":0.5},\"pattern\":{\"fillmode\":\"overlay\",\"size\":10,\"solidity\":0.2}},\"type\":\"bar\"}],\"scattergeo\":[{\"type\":\"scattergeo\",\"marker\":{\"colorbar\":{\"outlinewidth\":0,\"ticks\":\"\"}}}],\"scatterpolar\":[{\"type\":\"scatterpolar\",\"marker\":{\"colorbar\":{\"outlinewidth\":0,\"ticks\":\"\"}}}],\"histogram\":[{\"marker\":{\"pattern\":{\"fillmode\":\"overlay\",\"size\":10,\"solidity\":0.2}},\"type\":\"histogram\"}],\"scattergl\":[{\"type\":\"scattergl\",\"marker\":{\"colorbar\":{\"outlinewidth\":0,\"ticks\":\"\"}}}],\"scatter3d\":[{\"type\":\"scatter3d\",\"line\":{\"colorbar\":{\"outlinewidth\":0,\"ticks\":\"\"}},\"marker\":{\"colorbar\":{\"outlinewidth\":0,\"ticks\":\"\"}}}],\"scattermapbox\":[{\"type\":\"scattermapbox\",\"marker\":{\"colorbar\":{\"outlinewidth\":0,\"ticks\":\"\"}}}],\"scatterternary\":[{\"type\":\"scatterternary\",\"marker\":{\"colorbar\":{\"outlinewidth\":0,\"ticks\":\"\"}}}],\"scattercarpet\":[{\"type\":\"scattercarpet\",\"marker\":{\"colorbar\":{\"outlinewidth\":0,\"ticks\":\"\"}}}],\"carpet\":[{\"aaxis\":{\"endlinecolor\":\"#2a3f5f\",\"gridcolor\":\"white\",\"linecolor\":\"white\",\"minorgridcolor\":\"white\",\"startlinecolor\":\"#2a3f5f\"},\"baxis\":{\"endlinecolor\":\"#2a3f5f\",\"gridcolor\":\"white\",\"linecolor\":\"white\",\"minorgridcolor\":\"white\",\"startlinecolor\":\"#2a3f5f\"},\"type\":\"carpet\"}],\"table\":[{\"cells\":{\"fill\":{\"color\":\"#EBF0F8\"},\"line\":{\"color\":\"white\"}},\"header\":{\"fill\":{\"color\":\"#C8D4E3\"},\"line\":{\"color\":\"white\"}},\"type\":\"table\"}],\"barpolar\":[{\"marker\":{\"line\":{\"color\":\"#E5ECF6\",\"width\":0.5},\"pattern\":{\"fillmode\":\"overlay\",\"size\":10,\"solidity\":0.2}},\"type\":\"barpolar\"}],\"pie\":[{\"automargin\":true,\"type\":\"pie\"}]},\"layout\":{\"autotypenumbers\":\"strict\",\"colorway\":[\"#636efa\",\"#EF553B\",\"#00cc96\",\"#ab63fa\",\"#FFA15A\",\"#19d3f3\",\"#FF6692\",\"#B6E880\",\"#FF97FF\",\"#FECB52\"],\"font\":{\"color\":\"#2a3f5f\"},\"hovermode\":\"closest\",\"hoverlabel\":{\"align\":\"left\"},\"paper_bgcolor\":\"white\",\"plot_bgcolor\":\"#E5ECF6\",\"polar\":{\"bgcolor\":\"#E5ECF6\",\"angularaxis\":{\"gridcolor\":\"white\",\"linecolor\":\"white\",\"ticks\":\"\"},\"radialaxis\":{\"gridcolor\":\"white\",\"linecolor\":\"white\",\"ticks\":\"\"}},\"ternary\":{\"bgcolor\":\"#E5ECF6\",\"aaxis\":{\"gridcolor\":\"white\",\"linecolor\":\"white\",\"ticks\":\"\"},\"baxis\":{\"gridcolor\":\"white\",\"linecolor\":\"white\",\"ticks\":\"\"},\"caxis\":{\"gridcolor\":\"white\",\"linecolor\":\"white\",\"ticks\":\"\"}},\"coloraxis\":{\"colorbar\":{\"outlinewidth\":0,\"ticks\":\"\"}},\"colorscale\":{\"sequential\":[[0.0,\"#0d0887\"],[0.1111111111111111,\"#46039f\"],[0.2222222222222222,\"#7201a8\"],[0.3333333333333333,\"#9c179e\"],[0.4444444444444444,\"#bd3786\"],[0.5555555555555556,\"#d8576b\"],[0.6666666666666666,\"#ed7953\"],[0.7777777777777778,\"#fb9f3a\"],[0.8888888888888888,\"#fdca26\"],[1.0,\"#f0f921\"]],\"sequentialminus\":[[0.0,\"#0d0887\"],[0.1111111111111111,\"#46039f\"],[0.2222222222222222,\"#7201a8\"],[0.3333333333333333,\"#9c179e\"],[0.4444444444444444,\"#bd3786\"],[0.5555555555555556,\"#d8576b\"],[0.6666666666666666,\"#ed7953\"],[0.7777777777777778,\"#fb9f3a\"],[0.8888888888888888,\"#fdca26\"],[1.0,\"#f0f921\"]],\"diverging\":[[0,\"#8e0152\"],[0.1,\"#c51b7d\"],[0.2,\"#de77ae\"],[0.3,\"#f1b6da\"],[0.4,\"#fde0ef\"],[0.5,\"#f7f7f7\"],[0.6,\"#e6f5d0\"],[0.7,\"#b8e186\"],[0.8,\"#7fbc41\"],[0.9,\"#4d9221\"],[1,\"#276419\"]]},\"xaxis\":{\"gridcolor\":\"white\",\"linecolor\":\"white\",\"ticks\":\"\",\"title\":{\"standoff\":15},\"zerolinecolor\":\"white\",\"automargin\":true,\"zerolinewidth\":2},\"yaxis\":{\"gridcolor\":\"white\",\"linecolor\":\"white\",\"ticks\":\"\",\"title\":{\"standoff\":15},\"zerolinecolor\":\"white\",\"automargin\":true,\"zerolinewidth\":2},\"scene\":{\"xaxis\":{\"backgroundcolor\":\"#E5ECF6\",\"gridcolor\":\"white\",\"linecolor\":\"white\",\"showbackground\":true,\"ticks\":\"\",\"zerolinecolor\":\"white\",\"gridwidth\":2},\"yaxis\":{\"backgroundcolor\":\"#E5ECF6\",\"gridcolor\":\"white\",\"linecolor\":\"white\",\"showbackground\":true,\"ticks\":\"\",\"zerolinecolor\":\"white\",\"gridwidth\":2},\"zaxis\":{\"backgroundcolor\":\"#E5ECF6\",\"gridcolor\":\"white\",\"linecolor\":\"white\",\"showbackground\":true,\"ticks\":\"\",\"zerolinecolor\":\"white\",\"gridwidth\":2}},\"shapedefaults\":{\"line\":{\"color\":\"#2a3f5f\"}},\"annotationdefaults\":{\"arrowcolor\":\"#2a3f5f\",\"arrowhead\":0,\"arrowwidth\":1},\"geo\":{\"bgcolor\":\"white\",\"landcolor\":\"#E5ECF6\",\"subunitcolor\":\"white\",\"showland\":true,\"showlakes\":true,\"lakecolor\":\"white\"},\"title\":{\"x\":0.05},\"mapbox\":{\"style\":\"light\"}}},\"xaxis\":{\"anchor\":\"y\",\"domain\":[0.0,1.0],\"title\":{\"text\":\"parsed_date\"}},\"yaxis\":{\"anchor\":\"x\",\"domain\":[0.0,1.0],\"title\":{\"text\":\"log_prob\"}},\"legend\":{\"title\":{\"text\":\"identity_group\"},\"tracegroupgap\":0},\"margin\":{\"t\":60}},                        {\"responsive\": true}                    ).then(function(){\n",
       "                            \n",
       "var gd = document.getElementById('ef9007b6-0b98-43f2-b85b-78ecbbb2d9c7');\n",
       "var x = new MutationObserver(function (mutations, observer) {{\n",
       "        var display = window.getComputedStyle(gd).display;\n",
       "        if (!display || display === 'none') {{\n",
       "            console.log([gd, 'removed!']);\n",
       "            Plotly.purge(gd);\n",
       "            observer.disconnect();\n",
       "        }}\n",
       "}});\n",
       "\n",
       "// Listen for the removal of the full notebook cells\n",
       "var notebookContainer = gd.closest('#notebook-container');\n",
       "if (notebookContainer) {{\n",
       "    x.observe(notebookContainer, {childList: true});\n",
       "}}\n",
       "\n",
       "// Listen for the clearing of the current output cell\n",
       "var outputEl = gd.closest('.output');\n",
       "if (outputEl) {{\n",
       "    x.observe(outputEl, {childList: true});\n",
       "}}\n",
       "\n",
       "                        })                };                });            </script>        </div>"
      ]
     },
     "metadata": {},
     "output_type": "display_data"
    }
   ],
   "source": [
    "# Filter to most popular terms overall\n",
    "# filtered = counts_overtime[counts_overtime['identity_term'].isin(freq.term.head(20))]\n",
    "filtered = counts_overtime[counts_overtime['identity_group'].isin(gp_freq.identity_group.head(10))]\n",
    "\n",
    "# Plot\n",
    "import plotly.express as px\n",
    "\n",
    "# px.line(filtered, x='parsed_date', y='count', color='identity_term')\n",
    "# px.line(filtered, x='parsed_date', y='mention_prob', color='identity_group')\n",
    "px.line(filtered, x='parsed_date', y='log_prob', color='identity_group')"
   ]
  },
  {
   "cell_type": "code",
   "execution_count": 78,
   "id": "c708e980-94fc-435d-98dc-7e96cbdfdae7",
   "metadata": {},
   "outputs": [
    {
     "data": {
      "application/vnd.plotly.v1+json": {
       "config": {
        "plotlyServerURL": "https://plot.ly"
       },
       "data": [
        {
         "hovertemplate": "identity_group=asian<br>parsed_date=%{x}<br>mention_prob=%{y}<extra></extra>",
         "legendgroup": "asian",
         "line": {
          "color": "#636efa",
          "dash": "solid"
         },
         "marker": {
          "symbol": "circle"
         },
         "mode": "lines",
         "name": "asian",
         "orientation": "v",
         "showlegend": true,
         "type": "scatter",
         "x": [
          "2017-11-01T00:00:00",
          "2017-12-01T00:00:00",
          "2018-01-01T00:00:00",
          "2018-02-01T00:00:00",
          "2018-03-01T00:00:00",
          "2018-04-01T00:00:00",
          "2018-05-01T00:00:00",
          "2018-06-01T00:00:00",
          "2018-07-01T00:00:00",
          "2018-08-01T00:00:00",
          "2018-09-01T00:00:00",
          "2018-10-01T00:00:00",
          "2018-11-01T00:00:00",
          "2018-12-01T00:00:00",
          "2019-01-01T00:00:00",
          "2019-02-01T00:00:00",
          "2019-03-01T00:00:00",
          "2019-04-01T00:00:00",
          "2019-05-01T00:00:00",
          "2019-06-01T00:00:00",
          "2019-07-01T00:00:00",
          "2019-08-01T00:00:00",
          "2019-09-01T00:00:00",
          "2019-10-01T00:00:00",
          "2019-11-01T00:00:00",
          "2019-12-01T00:00:00",
          "2020-01-01T00:00:00",
          "2020-02-01T00:00:00",
          "2020-03-01T00:00:00",
          "2020-04-01T00:00:00",
          "2020-05-01T00:00:00",
          "2020-06-01T00:00:00",
          "2020-07-01T00:00:00",
          "2020-08-01T00:00:00",
          "2020-09-01T00:00:00",
          "2020-10-01T00:00:00",
          "2020-11-01T00:00:00",
          "2020-12-01T00:00:00",
          "2021-01-01T00:00:00",
          "2021-02-01T00:00:00",
          "2021-03-01T00:00:00",
          "2021-04-01T00:00:00"
         ],
         "xaxis": "x",
         "y": [
          0.0002953083258860265,
          0.00023227420723969828,
          0.00031127924741996096,
          0.0004255078620704378,
          0.0003949158546654518,
          0.0002727322722156735,
          0.0004107506912916533,
          0.0004098518314302018,
          0.0003636873892113711,
          0.0003124168405011935,
          0.000395653071844528,
          0.00035000724856113283,
          0.0002886944837815415,
          0.00023916990230847646,
          0.0002169989406669971,
          0.0003175371065501236,
          0.00019024959776114627,
          0.00021233012604473386,
          0.00021304105692807016,
          0.00023349535189600253,
          0.00021106864892868031,
          0.0002812966262120925,
          0.00017418130677764818,
          0.00019871630412871777,
          0.00021096429558836645,
          0.0002282205103070817,
          0.00024405667950710999,
          0.00020826525439029048,
          0.00015539514446774418,
          0.00013736101807066198,
          0.00017781707015262512,
          0.00021589497230244527,
          0.00018469484390810088,
          0.00014373302323159566,
          0.0002575897180865089,
          0.000239659512096378,
          0.0002393843976715271,
          0.00033505042046051107,
          0.0002110824779546123,
          0.00017167695919798496,
          0.00021377226264925116,
          0.0005161962933721242
         ],
         "yaxis": "y"
        },
        {
         "hovertemplate": "identity_group=faggots<br>parsed_date=%{x}<br>mention_prob=%{y}<extra></extra>",
         "legendgroup": "faggots",
         "line": {
          "color": "#EF553B",
          "dash": "solid"
         },
         "marker": {
          "symbol": "circle"
         },
         "mode": "lines",
         "name": "faggots",
         "orientation": "v",
         "showlegend": true,
         "type": "scatter",
         "x": [
          "2017-11-01T00:00:00",
          "2017-12-01T00:00:00",
          "2018-01-01T00:00:00",
          "2018-02-01T00:00:00",
          "2018-03-01T00:00:00",
          "2018-04-01T00:00:00",
          "2018-05-01T00:00:00",
          "2018-06-01T00:00:00",
          "2018-07-01T00:00:00",
          "2018-08-01T00:00:00",
          "2018-09-01T00:00:00",
          "2018-10-01T00:00:00",
          "2018-11-01T00:00:00",
          "2018-12-01T00:00:00",
          "2019-01-01T00:00:00",
          "2019-02-01T00:00:00",
          "2019-03-01T00:00:00",
          "2019-04-01T00:00:00",
          "2019-05-01T00:00:00",
          "2019-06-01T00:00:00",
          "2019-07-01T00:00:00",
          "2019-08-01T00:00:00",
          "2019-09-01T00:00:00",
          "2019-10-01T00:00:00",
          "2019-11-01T00:00:00",
          "2019-12-01T00:00:00",
          "2020-01-01T00:00:00",
          "2020-02-01T00:00:00",
          "2020-03-01T00:00:00",
          "2020-04-01T00:00:00",
          "2020-05-01T00:00:00",
          "2020-06-01T00:00:00",
          "2020-07-01T00:00:00",
          "2020-08-01T00:00:00",
          "2020-09-01T00:00:00",
          "2020-10-01T00:00:00",
          "2020-11-01T00:00:00",
          "2020-12-01T00:00:00",
          "2021-01-01T00:00:00",
          "2021-02-01T00:00:00",
          "2021-03-01T00:00:00",
          "2021-04-01T00:00:00"
         ],
         "xaxis": "x",
         "y": [
          0.0002930935134418813,
          0.00024249529446696775,
          0.0002892218604010483,
          0.00031148922172089064,
          0.0002818858369252527,
          0.00023092659545268705,
          0.0002830611503291526,
          0.0002644722416346629,
          0.00019453934362540008,
          0.0002133331823487114,
          0.00020263803258641633,
          0.0002660277551298864,
          0.0002839312318970541,
          0.0002695708432175976,
          0.00030951612387668156,
          0.0002227239109422889,
          0.00024763346715545953,
          0.00037867291043373945,
          0.00026831507300197624,
          0.00032324275099609475,
          0.0002959140662208033,
          0.00028388922184538365,
          0.0002784083960084781,
          0.0002195232946666911,
          0.00023779747353600957,
          0.00023649891298928416,
          0.00026314893635416065,
          0.00027133393375640175,
          0.0003075314503649728,
          0.0003924783566701844,
          0.0002999858375784834,
          0.0002676125782076934,
          0.00030937511627823235,
          0.00032516206576355323,
          0.00028311308954325143,
          0.00039583713496066375,
          0.00041971197729841057,
          0.00029654738871698273,
          0.0003225750073524803,
          0.0002750563454976411,
          0.00028571288028097423,
          0.00035541384133818386
         ],
         "yaxis": "y"
        },
        {
         "hovertemplate": "identity_group=jews<br>parsed_date=%{x}<br>mention_prob=%{y}<extra></extra>",
         "legendgroup": "jews",
         "line": {
          "color": "#00cc96",
          "dash": "solid"
         },
         "marker": {
          "symbol": "circle"
         },
         "mode": "lines",
         "name": "jews",
         "orientation": "v",
         "showlegend": true,
         "type": "scatter",
         "x": [
          "2017-11-01T00:00:00",
          "2017-12-01T00:00:00",
          "2018-01-01T00:00:00",
          "2018-02-01T00:00:00",
          "2018-03-01T00:00:00",
          "2018-04-01T00:00:00",
          "2018-05-01T00:00:00",
          "2018-06-01T00:00:00",
          "2018-07-01T00:00:00",
          "2018-08-01T00:00:00",
          "2018-09-01T00:00:00",
          "2018-10-01T00:00:00",
          "2018-11-01T00:00:00",
          "2018-12-01T00:00:00",
          "2019-01-01T00:00:00",
          "2019-02-01T00:00:00",
          "2019-03-01T00:00:00",
          "2019-04-01T00:00:00",
          "2019-05-01T00:00:00",
          "2019-06-01T00:00:00",
          "2019-07-01T00:00:00",
          "2019-08-01T00:00:00",
          "2019-09-01T00:00:00",
          "2019-10-01T00:00:00",
          "2019-11-01T00:00:00",
          "2019-12-01T00:00:00",
          "2020-01-01T00:00:00",
          "2020-02-01T00:00:00",
          "2020-03-01T00:00:00",
          "2020-04-01T00:00:00",
          "2020-05-01T00:00:00",
          "2020-06-01T00:00:00",
          "2020-07-01T00:00:00",
          "2020-08-01T00:00:00",
          "2020-09-01T00:00:00",
          "2020-10-01T00:00:00",
          "2020-11-01T00:00:00",
          "2020-12-01T00:00:00",
          "2021-01-01T00:00:00",
          "2021-02-01T00:00:00",
          "2021-03-01T00:00:00",
          "2021-04-01T00:00:00"
         ],
         "xaxis": "x",
         "y": [
          0.00014064059020322013,
          0.00012699700879882295,
          0.00014449839251165215,
          0.00029038364361363403,
          0.0002506417669808074,
          0.0001990746512523164,
          0.0002268969537403835,
          0.0002877137416571029,
          0.00029190447144576714,
          0.00021070443223446185,
          0.0002681484102444907,
          0.0002864201266032575,
          0.00033922637333871236,
          0.000280496181356813,
          0.00025301536235446554,
          0.00033570341436999743,
          0.0003906517262612864,
          0.00044042734065714595,
          0.000391917772262721,
          0.000343271125371539,
          0.0004936080680886563,
          0.0005202475237470958,
          0.00036737701496902884,
          0.0002582739284208983,
          0.00018598168163711255,
          0.00023461745783423817,
          0.00029827148432750856,
          0.0003200215681022184,
          0.0002572767292512321,
          0.00035865064326472286,
          0.0002460541920052415,
          0.0003151650077984249,
          0.000317927192722393,
          0.00023214239223819978,
          0.00026446139501717036,
          0.0002726090011207259,
          0.00033446958898868915,
          0.0004514850693387771,
          0.0004810751977937738,
          0.0005588831443456141,
          0.00056138276835695,
          0.0008707639112785505
         ],
         "yaxis": "y"
        },
        {
         "hovertemplate": "identity_group=men_boys<br>parsed_date=%{x}<br>mention_prob=%{y}<extra></extra>",
         "legendgroup": "men_boys",
         "line": {
          "color": "#ab63fa",
          "dash": "solid"
         },
         "marker": {
          "symbol": "circle"
         },
         "mode": "lines",
         "name": "men_boys",
         "orientation": "v",
         "showlegend": true,
         "type": "scatter",
         "x": [
          "2017-11-01T00:00:00",
          "2017-12-01T00:00:00",
          "2018-01-01T00:00:00",
          "2018-02-01T00:00:00",
          "2018-03-01T00:00:00",
          "2018-04-01T00:00:00",
          "2018-05-01T00:00:00",
          "2018-06-01T00:00:00",
          "2018-07-01T00:00:00",
          "2018-08-01T00:00:00",
          "2018-09-01T00:00:00",
          "2018-10-01T00:00:00",
          "2018-11-01T00:00:00",
          "2018-12-01T00:00:00",
          "2019-01-01T00:00:00",
          "2019-02-01T00:00:00",
          "2019-03-01T00:00:00",
          "2019-04-01T00:00:00",
          "2019-05-01T00:00:00",
          "2019-06-01T00:00:00",
          "2019-07-01T00:00:00",
          "2019-08-01T00:00:00",
          "2019-09-01T00:00:00",
          "2019-10-01T00:00:00",
          "2019-11-01T00:00:00",
          "2019-12-01T00:00:00",
          "2020-01-01T00:00:00",
          "2020-02-01T00:00:00",
          "2020-03-01T00:00:00",
          "2020-04-01T00:00:00",
          "2020-05-01T00:00:00",
          "2020-06-01T00:00:00",
          "2020-07-01T00:00:00",
          "2020-08-01T00:00:00",
          "2020-09-01T00:00:00",
          "2020-10-01T00:00:00",
          "2020-11-01T00:00:00",
          "2020-12-01T00:00:00",
          "2021-01-01T00:00:00",
          "2021-02-01T00:00:00",
          "2021-03-01T00:00:00",
          "2021-04-01T00:00:00"
         ],
         "xaxis": "x",
         "y": [
          0.004147605437069242,
          0.003700289103452223,
          0.003456257500636963,
          0.003524874136763661,
          0.0038025871008857235,
          0.004171609316992291,
          0.004384327596958045,
          0.004219213828211655,
          0.004213810002453219,
          0.004597683949822418,
          0.004385494151810863,
          0.004438121573386398,
          0.004587218662669401,
          0.004568453893648008,
          0.004713198983076334,
          0.0044514919764644285,
          0.004633747453590796,
          0.004925901253352149,
          0.00473023363687749,
          0.004883374015440609,
          0.0049906241634315,
          0.005141333190452508,
          0.0051655790507306575,
          0.005130354841271296,
          0.00493748979876597,
          0.005171555784674983,
          0.004907790703475817,
          0.004880892026767457,
          0.004108709366142177,
          0.004275874228561558,
          0.004055173360914292,
          0.00389166306986337,
          0.004459082665271128,
          0.0034891869375428485,
          0.003995389301113153,
          0.00434031946228798,
          0.00416573423131887,
          0.004550762174917792,
          0.004289901066953373,
          0.004670732922527786,
          0.004475280301962032,
          0.0044807530711563895
         ],
         "yaxis": "y"
        },
        {
         "hovertemplate": "identity_group=men_boys_address<br>parsed_date=%{x}<br>mention_prob=%{y}<extra></extra>",
         "legendgroup": "men_boys_address",
         "line": {
          "color": "#FFA15A",
          "dash": "solid"
         },
         "marker": {
          "symbol": "circle"
         },
         "mode": "lines",
         "name": "men_boys_address",
         "orientation": "v",
         "showlegend": true,
         "type": "scatter",
         "x": [
          "2017-11-01T00:00:00",
          "2017-12-01T00:00:00",
          "2018-01-01T00:00:00",
          "2018-02-01T00:00:00",
          "2018-03-01T00:00:00",
          "2018-04-01T00:00:00",
          "2018-05-01T00:00:00",
          "2018-06-01T00:00:00",
          "2018-07-01T00:00:00",
          "2018-08-01T00:00:00",
          "2018-09-01T00:00:00",
          "2018-10-01T00:00:00",
          "2018-11-01T00:00:00",
          "2018-12-01T00:00:00",
          "2019-01-01T00:00:00",
          "2019-02-01T00:00:00",
          "2019-03-01T00:00:00",
          "2019-04-01T00:00:00",
          "2019-05-01T00:00:00",
          "2019-06-01T00:00:00",
          "2019-07-01T00:00:00",
          "2019-08-01T00:00:00",
          "2019-09-01T00:00:00",
          "2019-10-01T00:00:00",
          "2019-11-01T00:00:00",
          "2019-12-01T00:00:00",
          "2020-01-01T00:00:00",
          "2020-02-01T00:00:00",
          "2020-03-01T00:00:00",
          "2020-04-01T00:00:00",
          "2020-05-01T00:00:00",
          "2020-06-01T00:00:00",
          "2020-07-01T00:00:00",
          "2020-08-01T00:00:00",
          "2020-09-01T00:00:00",
          "2020-10-01T00:00:00",
          "2020-11-01T00:00:00",
          "2020-12-01T00:00:00",
          "2021-01-01T00:00:00",
          "2021-02-01T00:00:00",
          "2021-03-01T00:00:00",
          "2021-04-01T00:00:00"
         ],
         "xaxis": "x",
         "y": [
          0.0006463560982830405,
          0.0006906899693827332,
          0.0007551278923311417,
          0.000812200867851668,
          0.0008224541941258391,
          0.0006012054467819956,
          0.0007885389196280746,
          0.0009017702008706747,
          0.0008789589185979803,
          0.0007429252245963656,
          0.0011149718231353045,
          0.0012194638141075909,
          0.0010180933158321795,
          0.001098233990342001,
          0.0014361548147878026,
          0.0014328986359840217,
          0.0017025352634912787,
          0.0014492582241790932,
          0.001099091867359027,
          0.0015535933945914262,
          0.0013376736849430523,
          0.0014855572978758431,
          0.0012072971169237797,
          0.0010338592729693904,
          0.0010368710071768574,
          0.0011902085310821096,
          0.0011417529825797565,
          0.001217710655453379,
          0.0013001050718162261,
          0.0012184383589868703,
          0.0012178251956631518,
          0.0011009949391372288,
          0.0010709600290950644,
          0.0010674210932821897,
          0.0008705433003015096,
          0.0009717882928840185,
          0.000870623782997765,
          0.0007041612151556818,
          0.0006694071731280103,
          0.0006458412562872022,
          0.0007444111773174306,
          0.0008902270502089748
         ],
         "yaxis": "y"
        },
        {
         "hovertemplate": "identity_group=parents<br>parsed_date=%{x}<br>mention_prob=%{y}<extra></extra>",
         "legendgroup": "parents",
         "line": {
          "color": "#19d3f3",
          "dash": "solid"
         },
         "marker": {
          "symbol": "circle"
         },
         "mode": "lines",
         "name": "parents",
         "orientation": "v",
         "showlegend": true,
         "type": "scatter",
         "x": [
          "2017-11-01T00:00:00",
          "2017-12-01T00:00:00",
          "2018-01-01T00:00:00",
          "2018-02-01T00:00:00",
          "2018-03-01T00:00:00",
          "2018-04-01T00:00:00",
          "2018-05-01T00:00:00",
          "2018-06-01T00:00:00",
          "2018-07-01T00:00:00",
          "2018-08-01T00:00:00",
          "2018-09-01T00:00:00",
          "2018-10-01T00:00:00",
          "2018-11-01T00:00:00",
          "2018-12-01T00:00:00",
          "2019-01-01T00:00:00",
          "2019-02-01T00:00:00",
          "2019-03-01T00:00:00",
          "2019-04-01T00:00:00",
          "2019-05-01T00:00:00",
          "2019-06-01T00:00:00",
          "2019-07-01T00:00:00",
          "2019-08-01T00:00:00",
          "2019-09-01T00:00:00",
          "2019-10-01T00:00:00",
          "2019-11-01T00:00:00",
          "2019-12-01T00:00:00",
          "2020-01-01T00:00:00",
          "2020-02-01T00:00:00",
          "2020-03-01T00:00:00",
          "2020-04-01T00:00:00",
          "2020-05-01T00:00:00",
          "2020-06-01T00:00:00",
          "2020-07-01T00:00:00",
          "2020-08-01T00:00:00",
          "2020-09-01T00:00:00",
          "2020-10-01T00:00:00",
          "2020-11-01T00:00:00",
          "2020-12-01T00:00:00",
          "2021-01-01T00:00:00",
          "2021-02-01T00:00:00",
          "2021-03-01T00:00:00",
          "2021-04-01T00:00:00"
         ],
         "xaxis": "x",
         "y": [
          0.00030712065892146755,
          0.000284912806460136,
          0.00028787140813458427,
          0.0003634040920077057,
          0.00036091495502002605,
          0.0003170263821193139,
          0.00034466575342509593,
          0.00032490014169300703,
          0.00035853276479735164,
          0.00030068857076069556,
          0.00031441280124595557,
          0.00031107635756651527,
          0.00032742179258150444,
          0.00033821046761397264,
          0.0003453074429286033,
          0.0003182836671454609,
          0.0003028102646499915,
          0.0002903772144547412,
          0.00037164137440646403,
          0.0003435246490978105,
          0.0003864019127417128,
          0.00034416707031940344,
          0.0003439024453224455,
          0.000415758031116568,
          0.0004039781204117579,
          0.00037647917652470776,
          0.00035014478594968396,
          0.0003257393329898054,
          0.0003037580583359547,
          0.00028061625893166953,
          0.00032773846156046996,
          0.0002932978321472126,
          0.0003530357170721051,
          0.00019661592800548463,
          0.00028330942316984176,
          0.0002962498901068051,
          0.0002631556955008176,
          0.0003467123964212913,
          0.000304645803300661,
          0.00030080788937733886,
          0.0002826384949120972,
          0.0001971700595995163
         ],
         "yaxis": "y"
        },
        {
         "hovertemplate": "identity_group=virgins<br>parsed_date=%{x}<br>mention_prob=%{y}<extra></extra>",
         "legendgroup": "virgins",
         "line": {
          "color": "#FF6692",
          "dash": "solid"
         },
         "marker": {
          "symbol": "circle"
         },
         "mode": "lines",
         "name": "virgins",
         "orientation": "v",
         "showlegend": true,
         "type": "scatter",
         "x": [
          "2017-11-01T00:00:00",
          "2017-12-01T00:00:00",
          "2018-01-01T00:00:00",
          "2018-02-01T00:00:00",
          "2018-03-01T00:00:00",
          "2018-04-01T00:00:00",
          "2018-05-01T00:00:00",
          "2018-06-01T00:00:00",
          "2018-07-01T00:00:00",
          "2018-08-01T00:00:00",
          "2018-09-01T00:00:00",
          "2018-10-01T00:00:00",
          "2018-11-01T00:00:00",
          "2018-12-01T00:00:00",
          "2019-01-01T00:00:00",
          "2019-02-01T00:00:00",
          "2019-03-01T00:00:00",
          "2019-04-01T00:00:00",
          "2019-05-01T00:00:00",
          "2019-06-01T00:00:00",
          "2019-07-01T00:00:00",
          "2019-08-01T00:00:00",
          "2019-09-01T00:00:00",
          "2019-10-01T00:00:00",
          "2019-11-01T00:00:00",
          "2019-12-01T00:00:00",
          "2020-01-01T00:00:00",
          "2020-02-01T00:00:00",
          "2020-03-01T00:00:00",
          "2020-04-01T00:00:00",
          "2020-05-01T00:00:00",
          "2020-06-01T00:00:00",
          "2020-07-01T00:00:00",
          "2020-08-01T00:00:00",
          "2020-09-01T00:00:00",
          "2020-10-01T00:00:00",
          "2020-11-01T00:00:00",
          "2020-12-01T00:00:00",
          "2021-01-01T00:00:00",
          "2021-02-01T00:00:00",
          "2021-03-01T00:00:00",
          "2021-04-01T00:00:00"
         ],
         "xaxis": "x",
         "y": [
          0.0006581684313184816,
          0.0005486168569236879,
          0.0004951658310368142,
          0.0006828988778382454,
          0.0006402736980527133,
          0.0005982193270132109,
          0.00055444142786349,
          0.0005172435901545801,
          0.0004915984394851866,
          0.0004537627120289179,
          0.00042193124593336006,
          0.00047050762544923467,
          0.000476946482172805,
          0.00045838918714534216,
          0.0004700143030214626,
          0.00042678380700114573,
          0.00039970072105038966,
          0.00038997265724057553,
          0.00037608551640235595,
          0.00047814574774794876,
          0.0004244360653209403,
          0.0006040747825568438,
          0.0004730125783786537,
          0.0004787516721948359,
          0.0004889190078460212,
          0.00044044865179627225,
          0.0005250370632938935,
          0.0004497975044901781,
          0.0004051250896609401,
          0.0003794085583089834,
          0.00041271299065995454,
          0.00041651763145166286,
          0.0003917451157140954,
          0.0002546515260650346,
          0.0003441728474128431,
          0.00034633902364606046,
          0.0002644556883508569,
          0.0003157989045887469,
          0.0003679253470129645,
          0.0004120247020751639,
          0.0005037892824466532,
          0.0005094265059180635
         ],
         "yaxis": "y"
        },
        {
         "hovertemplate": "identity_group=women_girls<br>parsed_date=%{x}<br>mention_prob=%{y}<extra></extra>",
         "legendgroup": "women_girls",
         "line": {
          "color": "#B6E880",
          "dash": "solid"
         },
         "marker": {
          "symbol": "circle"
         },
         "mode": "lines",
         "name": "women_girls",
         "orientation": "v",
         "showlegend": true,
         "type": "scatter",
         "x": [
          "2017-11-01T00:00:00",
          "2017-12-01T00:00:00",
          "2018-01-01T00:00:00",
          "2018-02-01T00:00:00",
          "2018-03-01T00:00:00",
          "2018-04-01T00:00:00",
          "2018-05-01T00:00:00",
          "2018-06-01T00:00:00",
          "2018-07-01T00:00:00",
          "2018-08-01T00:00:00",
          "2018-09-01T00:00:00",
          "2018-10-01T00:00:00",
          "2018-11-01T00:00:00",
          "2018-12-01T00:00:00",
          "2019-01-01T00:00:00",
          "2019-02-01T00:00:00",
          "2019-03-01T00:00:00",
          "2019-04-01T00:00:00",
          "2019-05-01T00:00:00",
          "2019-06-01T00:00:00",
          "2019-07-01T00:00:00",
          "2019-08-01T00:00:00",
          "2019-09-01T00:00:00",
          "2019-10-01T00:00:00",
          "2019-11-01T00:00:00",
          "2019-12-01T00:00:00",
          "2020-01-01T00:00:00",
          "2020-02-01T00:00:00",
          "2020-03-01T00:00:00",
          "2020-04-01T00:00:00",
          "2020-05-01T00:00:00",
          "2020-06-01T00:00:00",
          "2020-07-01T00:00:00",
          "2020-08-01T00:00:00",
          "2020-09-01T00:00:00",
          "2020-10-01T00:00:00",
          "2020-11-01T00:00:00",
          "2020-12-01T00:00:00",
          "2021-01-01T00:00:00",
          "2021-02-01T00:00:00",
          "2021-03-01T00:00:00",
          "2021-04-01T00:00:00"
         ],
         "xaxis": "x",
         "y": [
          0.00858756611676565,
          0.00797372567317358,
          0.007430638520840629,
          0.007855156541528378,
          0.008304949474203654,
          0.007966718699803638,
          0.008062522431676095,
          0.0076905322143218935,
          0.007135145661094899,
          0.007416715130034158,
          0.006467946919568801,
          0.00590136691919838,
          0.006207345597119185,
          0.006398448031966589,
          0.006474176900957992,
          0.005493690567555273,
          0.005429617580651925,
          0.00590135846607251,
          0.005704611769476799,
          0.00567386099395498,
          0.005675447888717921,
          0.005685778273443654,
          0.005906201723080361,
          0.006257750126750841,
          0.0063428080976239126,
          0.006645864044169041,
          0.005737583413799991,
          0.0057162054971631225,
          0.004757218241674782,
          0.004873369030113328,
          0.004831245449070359,
          0.004612585670300957,
          0.0053569006554791505,
          0.003752787878261926,
          0.004724965057522808,
          0.0052960023995502325,
          0.004861601832618492,
          0.005728066414767986,
          0.005084812668444119,
          0.005805107090967515,
          0.005286098203247207,
          0.005360825440184273
         ],
         "yaxis": "y"
        },
        {
         "hovertemplate": "identity_group=women_girls_derogatory<br>parsed_date=%{x}<br>mention_prob=%{y}<extra></extra>",
         "legendgroup": "women_girls_derogatory",
         "line": {
          "color": "#FF97FF",
          "dash": "solid"
         },
         "marker": {
          "symbol": "circle"
         },
         "mode": "lines",
         "name": "women_girls_derogatory",
         "orientation": "v",
         "showlegend": true,
         "type": "scatter",
         "x": [
          "2017-11-01T00:00:00",
          "2017-12-01T00:00:00",
          "2018-01-01T00:00:00",
          "2018-02-01T00:00:00",
          "2018-03-01T00:00:00",
          "2018-04-01T00:00:00",
          "2018-05-01T00:00:00",
          "2018-06-01T00:00:00",
          "2018-07-01T00:00:00",
          "2018-08-01T00:00:00",
          "2018-09-01T00:00:00",
          "2018-10-01T00:00:00",
          "2018-11-01T00:00:00",
          "2018-12-01T00:00:00",
          "2019-01-01T00:00:00",
          "2019-02-01T00:00:00",
          "2019-03-01T00:00:00",
          "2019-04-01T00:00:00",
          "2019-05-01T00:00:00",
          "2019-06-01T00:00:00",
          "2019-07-01T00:00:00",
          "2019-08-01T00:00:00",
          "2019-09-01T00:00:00",
          "2019-10-01T00:00:00",
          "2019-11-01T00:00:00",
          "2019-12-01T00:00:00",
          "2020-01-01T00:00:00",
          "2020-02-01T00:00:00",
          "2020-03-01T00:00:00",
          "2020-04-01T00:00:00",
          "2020-05-01T00:00:00",
          "2020-06-01T00:00:00",
          "2020-07-01T00:00:00",
          "2020-08-01T00:00:00",
          "2020-09-01T00:00:00",
          "2020-10-01T00:00:00",
          "2020-11-01T00:00:00",
          "2020-12-01T00:00:00",
          "2021-01-01T00:00:00",
          "2021-02-01T00:00:00",
          "2021-03-01T00:00:00",
          "2021-04-01T00:00:00"
         ],
         "xaxis": "x",
         "y": [
          0.0012395566979065962,
          0.0010077992006087679,
          0.0009291111593272587,
          0.0010834196761725058,
          0.0013016830904796102,
          0.0013452469558375283,
          0.001327619199706602,
          0.001120560873495714,
          0.0010586071250273243,
          0.0011052883172683,
          0.00101282004780407,
          0.0010492802049025486,
          0.0013043026247174666,
          0.001362342164489991,
          0.001346563965840225,
          0.0019450392043853964,
          0.0011655546702744935,
          0.0009567994912486089,
          0.001103813768229662,
          0.0011028282092807938,
          0.0010365351472141132,
          0.0012010199271221367,
          0.0009676217608321641,
          0.001065165203687075,
          0.0012237779708121645,
          0.0011298138206051324,
          0.0010434098482543825,
          0.0009933317000162523,
          0.000991201478895247,
          0.0029166151989966495,
          0.0009804973441883288,
          0.0009399414549759192,
          0.0010601574062182298,
          0.000882737718148762,
          0.0009742074551412021,
          0.0011165887379237537,
          0.0010916225675044501,
          0.00108215732486859,
          0.0010218139653734336,
          0.0009968459956909083,
          0.0011192812332958394,
          0.0013108000957924924
         ],
         "yaxis": "y"
        },
        {
         "hovertemplate": "identity_group=youth<br>parsed_date=%{x}<br>mention_prob=%{y}<extra></extra>",
         "legendgroup": "youth",
         "line": {
          "color": "#FECB52",
          "dash": "solid"
         },
         "marker": {
          "symbol": "circle"
         },
         "mode": "lines",
         "name": "youth",
         "orientation": "v",
         "showlegend": true,
         "type": "scatter",
         "x": [
          "2017-11-01T00:00:00",
          "2017-12-01T00:00:00",
          "2018-01-01T00:00:00",
          "2018-02-01T00:00:00",
          "2018-03-01T00:00:00",
          "2018-04-01T00:00:00",
          "2018-05-01T00:00:00",
          "2018-06-01T00:00:00",
          "2018-07-01T00:00:00",
          "2018-08-01T00:00:00",
          "2018-09-01T00:00:00",
          "2018-10-01T00:00:00",
          "2018-11-01T00:00:00",
          "2018-12-01T00:00:00",
          "2019-01-01T00:00:00",
          "2019-02-01T00:00:00",
          "2019-03-01T00:00:00",
          "2019-04-01T00:00:00",
          "2019-05-01T00:00:00",
          "2019-06-01T00:00:00",
          "2019-07-01T00:00:00",
          "2019-08-01T00:00:00",
          "2019-09-01T00:00:00",
          "2019-10-01T00:00:00",
          "2019-11-01T00:00:00",
          "2019-12-01T00:00:00",
          "2020-01-01T00:00:00",
          "2020-02-01T00:00:00",
          "2020-03-01T00:00:00",
          "2020-04-01T00:00:00",
          "2020-05-01T00:00:00",
          "2020-06-01T00:00:00",
          "2020-07-01T00:00:00",
          "2020-08-01T00:00:00",
          "2020-09-01T00:00:00",
          "2020-10-01T00:00:00",
          "2020-11-01T00:00:00",
          "2020-12-01T00:00:00",
          "2021-01-01T00:00:00",
          "2021-02-01T00:00:00",
          "2021-03-01T00:00:00",
          "2021-04-01T00:00:00"
         ],
         "xaxis": "x",
         "y": [
          0.000842736134997248,
          0.0008713476861247208,
          0.0009360884960373229,
          0.0009194269083506039,
          0.000974539299296595,
          0.0009811891873598546,
          0.0010402377265629288,
          0.0012268306287707331,
          0.0011674269737677345,
          0.0012340970728665266,
          0.0011225591832595447,
          0.0012389292596048996,
          0.0012622617493891646,
          0.001362342164489991,
          0.0012666525302211544,
          0.0012280921793298275,
          0.0013039380783907797,
          0.0012180075918531454,
          0.001433513552549896,
          0.0012440409248139896,
          0.0012346471068026173,
          0.0012193841461912826,
          0.0016509664832442042,
          0.0013362287501450763,
          0.0016797569395224582,
          0.0012312242534621126,
          0.001174714142985514,
          0.0012627597121434584,
          0.0011045747575852897,
          0.0010525031739108373,
          0.001227266810007539,
          0.0010827722927612186,
          0.0013623307739119058,
          0.0009367054004564744,
          0.0010751229392086301,
          0.0010894017155897626,
          0.0009140806868419367,
          0.0012633807290845238,
          0.0011750408605053686,
          0.0011562069991203421,
          0.0011662168499273625,
          0.0010670877474463093
         ],
         "yaxis": "y"
        }
       ],
       "layout": {
        "autosize": true,
        "legend": {
         "title": {
          "text": "identity_group"
         },
         "tracegroupgap": 0
        },
        "margin": {
         "t": 60
        },
        "template": {
         "data": {
          "bar": [
           {
            "error_x": {
             "color": "#2a3f5f"
            },
            "error_y": {
             "color": "#2a3f5f"
            },
            "marker": {
             "line": {
              "color": "#E5ECF6",
              "width": 0.5
             },
             "pattern": {
              "fillmode": "overlay",
              "size": 10,
              "solidity": 0.2
             }
            },
            "type": "bar"
           }
          ],
          "barpolar": [
           {
            "marker": {
             "line": {
              "color": "#E5ECF6",
              "width": 0.5
             },
             "pattern": {
              "fillmode": "overlay",
              "size": 10,
              "solidity": 0.2
             }
            },
            "type": "barpolar"
           }
          ],
          "carpet": [
           {
            "aaxis": {
             "endlinecolor": "#2a3f5f",
             "gridcolor": "white",
             "linecolor": "white",
             "minorgridcolor": "white",
             "startlinecolor": "#2a3f5f"
            },
            "baxis": {
             "endlinecolor": "#2a3f5f",
             "gridcolor": "white",
             "linecolor": "white",
             "minorgridcolor": "white",
             "startlinecolor": "#2a3f5f"
            },
            "type": "carpet"
           }
          ],
          "choropleth": [
           {
            "colorbar": {
             "outlinewidth": 0,
             "ticks": ""
            },
            "type": "choropleth"
           }
          ],
          "contour": [
           {
            "colorbar": {
             "outlinewidth": 0,
             "ticks": ""
            },
            "colorscale": [
             [
              0,
              "#0d0887"
             ],
             [
              0.1111111111111111,
              "#46039f"
             ],
             [
              0.2222222222222222,
              "#7201a8"
             ],
             [
              0.3333333333333333,
              "#9c179e"
             ],
             [
              0.4444444444444444,
              "#bd3786"
             ],
             [
              0.5555555555555556,
              "#d8576b"
             ],
             [
              0.6666666666666666,
              "#ed7953"
             ],
             [
              0.7777777777777778,
              "#fb9f3a"
             ],
             [
              0.8888888888888888,
              "#fdca26"
             ],
             [
              1,
              "#f0f921"
             ]
            ],
            "type": "contour"
           }
          ],
          "contourcarpet": [
           {
            "colorbar": {
             "outlinewidth": 0,
             "ticks": ""
            },
            "type": "contourcarpet"
           }
          ],
          "heatmap": [
           {
            "colorbar": {
             "outlinewidth": 0,
             "ticks": ""
            },
            "colorscale": [
             [
              0,
              "#0d0887"
             ],
             [
              0.1111111111111111,
              "#46039f"
             ],
             [
              0.2222222222222222,
              "#7201a8"
             ],
             [
              0.3333333333333333,
              "#9c179e"
             ],
             [
              0.4444444444444444,
              "#bd3786"
             ],
             [
              0.5555555555555556,
              "#d8576b"
             ],
             [
              0.6666666666666666,
              "#ed7953"
             ],
             [
              0.7777777777777778,
              "#fb9f3a"
             ],
             [
              0.8888888888888888,
              "#fdca26"
             ],
             [
              1,
              "#f0f921"
             ]
            ],
            "type": "heatmap"
           }
          ],
          "heatmapgl": [
           {
            "colorbar": {
             "outlinewidth": 0,
             "ticks": ""
            },
            "colorscale": [
             [
              0,
              "#0d0887"
             ],
             [
              0.1111111111111111,
              "#46039f"
             ],
             [
              0.2222222222222222,
              "#7201a8"
             ],
             [
              0.3333333333333333,
              "#9c179e"
             ],
             [
              0.4444444444444444,
              "#bd3786"
             ],
             [
              0.5555555555555556,
              "#d8576b"
             ],
             [
              0.6666666666666666,
              "#ed7953"
             ],
             [
              0.7777777777777778,
              "#fb9f3a"
             ],
             [
              0.8888888888888888,
              "#fdca26"
             ],
             [
              1,
              "#f0f921"
             ]
            ],
            "type": "heatmapgl"
           }
          ],
          "histogram": [
           {
            "marker": {
             "pattern": {
              "fillmode": "overlay",
              "size": 10,
              "solidity": 0.2
             }
            },
            "type": "histogram"
           }
          ],
          "histogram2d": [
           {
            "colorbar": {
             "outlinewidth": 0,
             "ticks": ""
            },
            "colorscale": [
             [
              0,
              "#0d0887"
             ],
             [
              0.1111111111111111,
              "#46039f"
             ],
             [
              0.2222222222222222,
              "#7201a8"
             ],
             [
              0.3333333333333333,
              "#9c179e"
             ],
             [
              0.4444444444444444,
              "#bd3786"
             ],
             [
              0.5555555555555556,
              "#d8576b"
             ],
             [
              0.6666666666666666,
              "#ed7953"
             ],
             [
              0.7777777777777778,
              "#fb9f3a"
             ],
             [
              0.8888888888888888,
              "#fdca26"
             ],
             [
              1,
              "#f0f921"
             ]
            ],
            "type": "histogram2d"
           }
          ],
          "histogram2dcontour": [
           {
            "colorbar": {
             "outlinewidth": 0,
             "ticks": ""
            },
            "colorscale": [
             [
              0,
              "#0d0887"
             ],
             [
              0.1111111111111111,
              "#46039f"
             ],
             [
              0.2222222222222222,
              "#7201a8"
             ],
             [
              0.3333333333333333,
              "#9c179e"
             ],
             [
              0.4444444444444444,
              "#bd3786"
             ],
             [
              0.5555555555555556,
              "#d8576b"
             ],
             [
              0.6666666666666666,
              "#ed7953"
             ],
             [
              0.7777777777777778,
              "#fb9f3a"
             ],
             [
              0.8888888888888888,
              "#fdca26"
             ],
             [
              1,
              "#f0f921"
             ]
            ],
            "type": "histogram2dcontour"
           }
          ],
          "mesh3d": [
           {
            "colorbar": {
             "outlinewidth": 0,
             "ticks": ""
            },
            "type": "mesh3d"
           }
          ],
          "parcoords": [
           {
            "line": {
             "colorbar": {
              "outlinewidth": 0,
              "ticks": ""
             }
            },
            "type": "parcoords"
           }
          ],
          "pie": [
           {
            "automargin": true,
            "type": "pie"
           }
          ],
          "scatter": [
           {
            "fillpattern": {
             "fillmode": "overlay",
             "size": 10,
             "solidity": 0.2
            },
            "type": "scatter"
           }
          ],
          "scatter3d": [
           {
            "line": {
             "colorbar": {
              "outlinewidth": 0,
              "ticks": ""
             }
            },
            "marker": {
             "colorbar": {
              "outlinewidth": 0,
              "ticks": ""
             }
            },
            "type": "scatter3d"
           }
          ],
          "scattercarpet": [
           {
            "marker": {
             "colorbar": {
              "outlinewidth": 0,
              "ticks": ""
             }
            },
            "type": "scattercarpet"
           }
          ],
          "scattergeo": [
           {
            "marker": {
             "colorbar": {
              "outlinewidth": 0,
              "ticks": ""
             }
            },
            "type": "scattergeo"
           }
          ],
          "scattergl": [
           {
            "marker": {
             "colorbar": {
              "outlinewidth": 0,
              "ticks": ""
             }
            },
            "type": "scattergl"
           }
          ],
          "scattermapbox": [
           {
            "marker": {
             "colorbar": {
              "outlinewidth": 0,
              "ticks": ""
             }
            },
            "type": "scattermapbox"
           }
          ],
          "scatterpolar": [
           {
            "marker": {
             "colorbar": {
              "outlinewidth": 0,
              "ticks": ""
             }
            },
            "type": "scatterpolar"
           }
          ],
          "scatterpolargl": [
           {
            "marker": {
             "colorbar": {
              "outlinewidth": 0,
              "ticks": ""
             }
            },
            "type": "scatterpolargl"
           }
          ],
          "scatterternary": [
           {
            "marker": {
             "colorbar": {
              "outlinewidth": 0,
              "ticks": ""
             }
            },
            "type": "scatterternary"
           }
          ],
          "surface": [
           {
            "colorbar": {
             "outlinewidth": 0,
             "ticks": ""
            },
            "colorscale": [
             [
              0,
              "#0d0887"
             ],
             [
              0.1111111111111111,
              "#46039f"
             ],
             [
              0.2222222222222222,
              "#7201a8"
             ],
             [
              0.3333333333333333,
              "#9c179e"
             ],
             [
              0.4444444444444444,
              "#bd3786"
             ],
             [
              0.5555555555555556,
              "#d8576b"
             ],
             [
              0.6666666666666666,
              "#ed7953"
             ],
             [
              0.7777777777777778,
              "#fb9f3a"
             ],
             [
              0.8888888888888888,
              "#fdca26"
             ],
             [
              1,
              "#f0f921"
             ]
            ],
            "type": "surface"
           }
          ],
          "table": [
           {
            "cells": {
             "fill": {
              "color": "#EBF0F8"
             },
             "line": {
              "color": "white"
             }
            },
            "header": {
             "fill": {
              "color": "#C8D4E3"
             },
             "line": {
              "color": "white"
             }
            },
            "type": "table"
           }
          ]
         },
         "layout": {
          "annotationdefaults": {
           "arrowcolor": "#2a3f5f",
           "arrowhead": 0,
           "arrowwidth": 1
          },
          "autotypenumbers": "strict",
          "coloraxis": {
           "colorbar": {
            "outlinewidth": 0,
            "ticks": ""
           }
          },
          "colorscale": {
           "diverging": [
            [
             0,
             "#8e0152"
            ],
            [
             0.1,
             "#c51b7d"
            ],
            [
             0.2,
             "#de77ae"
            ],
            [
             0.3,
             "#f1b6da"
            ],
            [
             0.4,
             "#fde0ef"
            ],
            [
             0.5,
             "#f7f7f7"
            ],
            [
             0.6,
             "#e6f5d0"
            ],
            [
             0.7,
             "#b8e186"
            ],
            [
             0.8,
             "#7fbc41"
            ],
            [
             0.9,
             "#4d9221"
            ],
            [
             1,
             "#276419"
            ]
           ],
           "sequential": [
            [
             0,
             "#0d0887"
            ],
            [
             0.1111111111111111,
             "#46039f"
            ],
            [
             0.2222222222222222,
             "#7201a8"
            ],
            [
             0.3333333333333333,
             "#9c179e"
            ],
            [
             0.4444444444444444,
             "#bd3786"
            ],
            [
             0.5555555555555556,
             "#d8576b"
            ],
            [
             0.6666666666666666,
             "#ed7953"
            ],
            [
             0.7777777777777778,
             "#fb9f3a"
            ],
            [
             0.8888888888888888,
             "#fdca26"
            ],
            [
             1,
             "#f0f921"
            ]
           ],
           "sequentialminus": [
            [
             0,
             "#0d0887"
            ],
            [
             0.1111111111111111,
             "#46039f"
            ],
            [
             0.2222222222222222,
             "#7201a8"
            ],
            [
             0.3333333333333333,
             "#9c179e"
            ],
            [
             0.4444444444444444,
             "#bd3786"
            ],
            [
             0.5555555555555556,
             "#d8576b"
            ],
            [
             0.6666666666666666,
             "#ed7953"
            ],
            [
             0.7777777777777778,
             "#fb9f3a"
            ],
            [
             0.8888888888888888,
             "#fdca26"
            ],
            [
             1,
             "#f0f921"
            ]
           ]
          },
          "colorway": [
           "#636efa",
           "#EF553B",
           "#00cc96",
           "#ab63fa",
           "#FFA15A",
           "#19d3f3",
           "#FF6692",
           "#B6E880",
           "#FF97FF",
           "#FECB52"
          ],
          "font": {
           "color": "#2a3f5f"
          },
          "geo": {
           "bgcolor": "white",
           "lakecolor": "white",
           "landcolor": "#E5ECF6",
           "showlakes": true,
           "showland": true,
           "subunitcolor": "white"
          },
          "hoverlabel": {
           "align": "left"
          },
          "hovermode": "closest",
          "mapbox": {
           "style": "light"
          },
          "paper_bgcolor": "white",
          "plot_bgcolor": "#E5ECF6",
          "polar": {
           "angularaxis": {
            "gridcolor": "white",
            "linecolor": "white",
            "ticks": ""
           },
           "bgcolor": "#E5ECF6",
           "radialaxis": {
            "gridcolor": "white",
            "linecolor": "white",
            "ticks": ""
           }
          },
          "scene": {
           "xaxis": {
            "backgroundcolor": "#E5ECF6",
            "gridcolor": "white",
            "gridwidth": 2,
            "linecolor": "white",
            "showbackground": true,
            "ticks": "",
            "zerolinecolor": "white"
           },
           "yaxis": {
            "backgroundcolor": "#E5ECF6",
            "gridcolor": "white",
            "gridwidth": 2,
            "linecolor": "white",
            "showbackground": true,
            "ticks": "",
            "zerolinecolor": "white"
           },
           "zaxis": {
            "backgroundcolor": "#E5ECF6",
            "gridcolor": "white",
            "gridwidth": 2,
            "linecolor": "white",
            "showbackground": true,
            "ticks": "",
            "zerolinecolor": "white"
           }
          },
          "shapedefaults": {
           "line": {
            "color": "#2a3f5f"
           }
          },
          "ternary": {
           "aaxis": {
            "gridcolor": "white",
            "linecolor": "white",
            "ticks": ""
           },
           "baxis": {
            "gridcolor": "white",
            "linecolor": "white",
            "ticks": ""
           },
           "bgcolor": "#E5ECF6",
           "caxis": {
            "gridcolor": "white",
            "linecolor": "white",
            "ticks": ""
           }
          },
          "title": {
           "x": 0.05
          },
          "xaxis": {
           "automargin": true,
           "gridcolor": "white",
           "linecolor": "white",
           "ticks": "",
           "title": {
            "standoff": 15
           },
           "zerolinecolor": "white",
           "zerolinewidth": 2
          },
          "yaxis": {
           "automargin": true,
           "gridcolor": "white",
           "linecolor": "white",
           "ticks": "",
           "title": {
            "standoff": 15
           },
           "zerolinecolor": "white",
           "zerolinewidth": 2
          }
         }
        },
        "xaxis": {
         "anchor": "y",
         "autorange": true,
         "domain": [
          0,
          1
         ],
         "range": [
          "2017-11-01",
          "2021-04-01"
         ],
         "title": {
          "text": "parsed_date"
         },
         "type": "date"
        },
        "yaxis": {
         "anchor": "x",
         "autorange": true,
         "domain": [
          0,
          1
         ],
         "range": [
          -3.9978774303209788,
          -1.964458983910446
         ],
         "title": {
          "text": "mention_prob"
         },
         "type": "log"
        }
       }
      },
      "image/png": "[encoded data removed]",
      "text/html": [
       "<div>                            <div id=\"f1cdf943-1f1d-46f2-a7ad-9aefaa968df0\" class=\"plotly-graph-div\" style=\"height:525px; width:100%;\"></div>            <script type=\"text/javascript\">                require([\"plotly\"], function(Plotly) {                    window.PLOTLYENV=window.PLOTLYENV || {};                                    if (document.getElementById(\"f1cdf943-1f1d-46f2-a7ad-9aefaa968df0\")) {                    Plotly.newPlot(                        \"f1cdf943-1f1d-46f2-a7ad-9aefaa968df0\",                        [{\"hovertemplate\":\"identity_group=asian<br>parsed_date=%{x}<br>mention_prob=%{y}<extra></extra>\",\"legendgroup\":\"asian\",\"line\":{\"color\":\"#636efa\",\"dash\":\"solid\"},\"marker\":{\"symbol\":\"circle\"},\"mode\":\"lines\",\"name\":\"asian\",\"orientation\":\"v\",\"showlegend\":true,\"x\":[\"2017-11-01T00:00:00\",\"2017-12-01T00:00:00\",\"2018-01-01T00:00:00\",\"2018-02-01T00:00:00\",\"2018-03-01T00:00:00\",\"2018-04-01T00:00:00\",\"2018-05-01T00:00:00\",\"2018-06-01T00:00:00\",\"2018-07-01T00:00:00\",\"2018-08-01T00:00:00\",\"2018-09-01T00:00:00\",\"2018-10-01T00:00:00\",\"2018-11-01T00:00:00\",\"2018-12-01T00:00:00\",\"2019-01-01T00:00:00\",\"2019-02-01T00:00:00\",\"2019-03-01T00:00:00\",\"2019-04-01T00:00:00\",\"2019-05-01T00:00:00\",\"2019-06-01T00:00:00\",\"2019-07-01T00:00:00\",\"2019-08-01T00:00:00\",\"2019-09-01T00:00:00\",\"2019-10-01T00:00:00\",\"2019-11-01T00:00:00\",\"2019-12-01T00:00:00\",\"2020-01-01T00:00:00\",\"2020-02-01T00:00:00\",\"2020-03-01T00:00:00\",\"2020-04-01T00:00:00\",\"2020-05-01T00:00:00\",\"2020-06-01T00:00:00\",\"2020-07-01T00:00:00\",\"2020-08-01T00:00:00\",\"2020-09-01T00:00:00\",\"2020-10-01T00:00:00\",\"2020-11-01T00:00:00\",\"2020-12-01T00:00:00\",\"2021-01-01T00:00:00\",\"2021-02-01T00:00:00\",\"2021-03-01T00:00:00\",\"2021-04-01T00:00:00\"],\"xaxis\":\"x\",\"y\":[0.0002953083258860265,0.00023227420723969828,0.00031127924741996096,0.0004255078620704378,0.0003949158546654518,0.0002727322722156735,0.0004107506912916533,0.0004098518314302018,0.0003636873892113711,0.0003124168405011935,0.000395653071844528,0.00035000724856113283,0.0002886944837815415,0.00023916990230847646,0.0002169989406669971,0.0003175371065501236,0.00019024959776114627,0.00021233012604473386,0.00021304105692807016,0.00023349535189600253,0.00021106864892868031,0.0002812966262120925,0.00017418130677764818,0.00019871630412871777,0.00021096429558836645,0.0002282205103070817,0.00024405667950710999,0.00020826525439029048,0.00015539514446774418,0.00013736101807066198,0.00017781707015262512,0.00021589497230244527,0.00018469484390810088,0.00014373302323159566,0.0002575897180865089,0.000239659512096378,0.0002393843976715271,0.00033505042046051107,0.0002110824779546123,0.00017167695919798496,0.00021377226264925116,0.0005161962933721242],\"yaxis\":\"y\",\"type\":\"scatter\"},{\"hovertemplate\":\"identity_group=faggots<br>parsed_date=%{x}<br>mention_prob=%{y}<extra></extra>\",\"legendgroup\":\"faggots\",\"line\":{\"color\":\"#EF553B\",\"dash\":\"solid\"},\"marker\":{\"symbol\":\"circle\"},\"mode\":\"lines\",\"name\":\"faggots\",\"orientation\":\"v\",\"showlegend\":true,\"x\":[\"2017-11-01T00:00:00\",\"2017-12-01T00:00:00\",\"2018-01-01T00:00:00\",\"2018-02-01T00:00:00\",\"2018-03-01T00:00:00\",\"2018-04-01T00:00:00\",\"2018-05-01T00:00:00\",\"2018-06-01T00:00:00\",\"2018-07-01T00:00:00\",\"2018-08-01T00:00:00\",\"2018-09-01T00:00:00\",\"2018-10-01T00:00:00\",\"2018-11-01T00:00:00\",\"2018-12-01T00:00:00\",\"2019-01-01T00:00:00\",\"2019-02-01T00:00:00\",\"2019-03-01T00:00:00\",\"2019-04-01T00:00:00\",\"2019-05-01T00:00:00\",\"2019-06-01T00:00:00\",\"2019-07-01T00:00:00\",\"2019-08-01T00:00:00\",\"2019-09-01T00:00:00\",\"2019-10-01T00:00:00\",\"2019-11-01T00:00:00\",\"2019-12-01T00:00:00\",\"2020-01-01T00:00:00\",\"2020-02-01T00:00:00\",\"2020-03-01T00:00:00\",\"2020-04-01T00:00:00\",\"2020-05-01T00:00:00\",\"2020-06-01T00:00:00\",\"2020-07-01T00:00:00\",\"2020-08-01T00:00:00\",\"2020-09-01T00:00:00\",\"2020-10-01T00:00:00\",\"2020-11-01T00:00:00\",\"2020-12-01T00:00:00\",\"2021-01-01T00:00:00\",\"2021-02-01T00:00:00\",\"2021-03-01T00:00:00\",\"2021-04-01T00:00:00\"],\"xaxis\":\"x\",\"y\":[0.0002930935134418813,0.00024249529446696775,0.0002892218604010483,0.00031148922172089064,0.0002818858369252527,0.00023092659545268705,0.0002830611503291526,0.0002644722416346629,0.00019453934362540008,0.0002133331823487114,0.00020263803258641633,0.0002660277551298864,0.0002839312318970541,0.0002695708432175976,0.00030951612387668156,0.0002227239109422889,0.00024763346715545953,0.00037867291043373945,0.00026831507300197624,0.00032324275099609475,0.0002959140662208033,0.00028388922184538365,0.0002784083960084781,0.0002195232946666911,0.00023779747353600957,0.00023649891298928416,0.00026314893635416065,0.00027133393375640175,0.0003075314503649728,0.0003924783566701844,0.0002999858375784834,0.0002676125782076934,0.00030937511627823235,0.00032516206576355323,0.00028311308954325143,0.00039583713496066375,0.00041971197729841057,0.00029654738871698273,0.0003225750073524803,0.0002750563454976411,0.00028571288028097423,0.00035541384133818386],\"yaxis\":\"y\",\"type\":\"scatter\"},{\"hovertemplate\":\"identity_group=jews<br>parsed_date=%{x}<br>mention_prob=%{y}<extra></extra>\",\"legendgroup\":\"jews\",\"line\":{\"color\":\"#00cc96\",\"dash\":\"solid\"},\"marker\":{\"symbol\":\"circle\"},\"mode\":\"lines\",\"name\":\"jews\",\"orientation\":\"v\",\"showlegend\":true,\"x\":[\"2017-11-01T00:00:00\",\"2017-12-01T00:00:00\",\"2018-01-01T00:00:00\",\"2018-02-01T00:00:00\",\"2018-03-01T00:00:00\",\"2018-04-01T00:00:00\",\"2018-05-01T00:00:00\",\"2018-06-01T00:00:00\",\"2018-07-01T00:00:00\",\"2018-08-01T00:00:00\",\"2018-09-01T00:00:00\",\"2018-10-01T00:00:00\",\"2018-11-01T00:00:00\",\"2018-12-01T00:00:00\",\"2019-01-01T00:00:00\",\"2019-02-01T00:00:00\",\"2019-03-01T00:00:00\",\"2019-04-01T00:00:00\",\"2019-05-01T00:00:00\",\"2019-06-01T00:00:00\",\"2019-07-01T00:00:00\",\"2019-08-01T00:00:00\",\"2019-09-01T00:00:00\",\"2019-10-01T00:00:00\",\"2019-11-01T00:00:00\",\"2019-12-01T00:00:00\",\"2020-01-01T00:00:00\",\"2020-02-01T00:00:00\",\"2020-03-01T00:00:00\",\"2020-04-01T00:00:00\",\"2020-05-01T00:00:00\",\"2020-06-01T00:00:00\",\"2020-07-01T00:00:00\",\"2020-08-01T00:00:00\",\"2020-09-01T00:00:00\",\"2020-10-01T00:00:00\",\"2020-11-01T00:00:00\",\"2020-12-01T00:00:00\",\"2021-01-01T00:00:00\",\"2021-02-01T00:00:00\",\"2021-03-01T00:00:00\",\"2021-04-01T00:00:00\"],\"xaxis\":\"x\",\"y\":[0.00014064059020322013,0.00012699700879882295,0.00014449839251165215,0.00029038364361363403,0.0002506417669808074,0.0001990746512523164,0.0002268969537403835,0.0002877137416571029,0.00029190447144576714,0.00021070443223446185,0.0002681484102444907,0.0002864201266032575,0.00033922637333871236,0.000280496181356813,0.00025301536235446554,0.00033570341436999743,0.0003906517262612864,0.00044042734065714595,0.000391917772262721,0.000343271125371539,0.0004936080680886563,0.0005202475237470958,0.00036737701496902884,0.0002582739284208983,0.00018598168163711255,0.00023461745783423817,0.00029827148432750856,0.0003200215681022184,0.0002572767292512321,0.00035865064326472286,0.0002460541920052415,0.0003151650077984249,0.000317927192722393,0.00023214239223819978,0.00026446139501717036,0.0002726090011207259,0.00033446958898868915,0.0004514850693387771,0.0004810751977937738,0.0005588831443456141,0.00056138276835695,0.0008707639112785505],\"yaxis\":\"y\",\"type\":\"scatter\"},{\"hovertemplate\":\"identity_group=men_boys<br>parsed_date=%{x}<br>mention_prob=%{y}<extra></extra>\",\"legendgroup\":\"men_boys\",\"line\":{\"color\":\"#ab63fa\",\"dash\":\"solid\"},\"marker\":{\"symbol\":\"circle\"},\"mode\":\"lines\",\"name\":\"men_boys\",\"orientation\":\"v\",\"showlegend\":true,\"x\":[\"2017-11-01T00:00:00\",\"2017-12-01T00:00:00\",\"2018-01-01T00:00:00\",\"2018-02-01T00:00:00\",\"2018-03-01T00:00:00\",\"2018-04-01T00:00:00\",\"2018-05-01T00:00:00\",\"2018-06-01T00:00:00\",\"2018-07-01T00:00:00\",\"2018-08-01T00:00:00\",\"2018-09-01T00:00:00\",\"2018-10-01T00:00:00\",\"2018-11-01T00:00:00\",\"2018-12-01T00:00:00\",\"2019-01-01T00:00:00\",\"2019-02-01T00:00:00\",\"2019-03-01T00:00:00\",\"2019-04-01T00:00:00\",\"2019-05-01T00:00:00\",\"2019-06-01T00:00:00\",\"2019-07-01T00:00:00\",\"2019-08-01T00:00:00\",\"2019-09-01T00:00:00\",\"2019-10-01T00:00:00\",\"2019-11-01T00:00:00\",\"2019-12-01T00:00:00\",\"2020-01-01T00:00:00\",\"2020-02-01T00:00:00\",\"2020-03-01T00:00:00\",\"2020-04-01T00:00:00\",\"2020-05-01T00:00:00\",\"2020-06-01T00:00:00\",\"2020-07-01T00:00:00\",\"2020-08-01T00:00:00\",\"2020-09-01T00:00:00\",\"2020-10-01T00:00:00\",\"2020-11-01T00:00:00\",\"2020-12-01T00:00:00\",\"2021-01-01T00:00:00\",\"2021-02-01T00:00:00\",\"2021-03-01T00:00:00\",\"2021-04-01T00:00:00\"],\"xaxis\":\"x\",\"y\":[0.004147605437069242,0.003700289103452223,0.003456257500636963,0.003524874136763661,0.0038025871008857235,0.004171609316992291,0.004384327596958045,0.004219213828211655,0.004213810002453219,0.004597683949822418,0.004385494151810863,0.004438121573386398,0.004587218662669401,0.004568453893648008,0.004713198983076334,0.0044514919764644285,0.004633747453590796,0.004925901253352149,0.00473023363687749,0.004883374015440609,0.0049906241634315,0.005141333190452508,0.0051655790507306575,0.005130354841271296,0.00493748979876597,0.005171555784674983,0.004907790703475817,0.004880892026767457,0.004108709366142177,0.004275874228561558,0.004055173360914292,0.00389166306986337,0.004459082665271128,0.0034891869375428485,0.003995389301113153,0.00434031946228798,0.00416573423131887,0.004550762174917792,0.004289901066953373,0.004670732922527786,0.004475280301962032,0.0044807530711563895],\"yaxis\":\"y\",\"type\":\"scatter\"},{\"hovertemplate\":\"identity_group=men_boys_address<br>parsed_date=%{x}<br>mention_prob=%{y}<extra></extra>\",\"legendgroup\":\"men_boys_address\",\"line\":{\"color\":\"#FFA15A\",\"dash\":\"solid\"},\"marker\":{\"symbol\":\"circle\"},\"mode\":\"lines\",\"name\":\"men_boys_address\",\"orientation\":\"v\",\"showlegend\":true,\"x\":[\"2017-11-01T00:00:00\",\"2017-12-01T00:00:00\",\"2018-01-01T00:00:00\",\"2018-02-01T00:00:00\",\"2018-03-01T00:00:00\",\"2018-04-01T00:00:00\",\"2018-05-01T00:00:00\",\"2018-06-01T00:00:00\",\"2018-07-01T00:00:00\",\"2018-08-01T00:00:00\",\"2018-09-01T00:00:00\",\"2018-10-01T00:00:00\",\"2018-11-01T00:00:00\",\"2018-12-01T00:00:00\",\"2019-01-01T00:00:00\",\"2019-02-01T00:00:00\",\"2019-03-01T00:00:00\",\"2019-04-01T00:00:00\",\"2019-05-01T00:00:00\",\"2019-06-01T00:00:00\",\"2019-07-01T00:00:00\",\"2019-08-01T00:00:00\",\"2019-09-01T00:00:00\",\"2019-10-01T00:00:00\",\"2019-11-01T00:00:00\",\"2019-12-01T00:00:00\",\"2020-01-01T00:00:00\",\"2020-02-01T00:00:00\",\"2020-03-01T00:00:00\",\"2020-04-01T00:00:00\",\"2020-05-01T00:00:00\",\"2020-06-01T00:00:00\",\"2020-07-01T00:00:00\",\"2020-08-01T00:00:00\",\"2020-09-01T00:00:00\",\"2020-10-01T00:00:00\",\"2020-11-01T00:00:00\",\"2020-12-01T00:00:00\",\"2021-01-01T00:00:00\",\"2021-02-01T00:00:00\",\"2021-03-01T00:00:00\",\"2021-04-01T00:00:00\"],\"xaxis\":\"x\",\"y\":[0.0006463560982830405,0.0006906899693827332,0.0007551278923311417,0.000812200867851668,0.0008224541941258391,0.0006012054467819956,0.0007885389196280746,0.0009017702008706747,0.0008789589185979803,0.0007429252245963656,0.0011149718231353045,0.0012194638141075909,0.0010180933158321795,0.001098233990342001,0.0014361548147878026,0.0014328986359840217,0.0017025352634912787,0.0014492582241790932,0.001099091867359027,0.0015535933945914262,0.0013376736849430523,0.0014855572978758431,0.0012072971169237797,0.0010338592729693904,0.0010368710071768574,0.0011902085310821096,0.0011417529825797565,0.001217710655453379,0.0013001050718162261,0.0012184383589868703,0.0012178251956631518,0.0011009949391372288,0.0010709600290950644,0.0010674210932821897,0.0008705433003015096,0.0009717882928840185,0.000870623782997765,0.0007041612151556818,0.0006694071731280103,0.0006458412562872022,0.0007444111773174306,0.0008902270502089748],\"yaxis\":\"y\",\"type\":\"scatter\"},{\"hovertemplate\":\"identity_group=parents<br>parsed_date=%{x}<br>mention_prob=%{y}<extra></extra>\",\"legendgroup\":\"parents\",\"line\":{\"color\":\"#19d3f3\",\"dash\":\"solid\"},\"marker\":{\"symbol\":\"circle\"},\"mode\":\"lines\",\"name\":\"parents\",\"orientation\":\"v\",\"showlegend\":true,\"x\":[\"2017-11-01T00:00:00\",\"2017-12-01T00:00:00\",\"2018-01-01T00:00:00\",\"2018-02-01T00:00:00\",\"2018-03-01T00:00:00\",\"2018-04-01T00:00:00\",\"2018-05-01T00:00:00\",\"2018-06-01T00:00:00\",\"2018-07-01T00:00:00\",\"2018-08-01T00:00:00\",\"2018-09-01T00:00:00\",\"2018-10-01T00:00:00\",\"2018-11-01T00:00:00\",\"2018-12-01T00:00:00\",\"2019-01-01T00:00:00\",\"2019-02-01T00:00:00\",\"2019-03-01T00:00:00\",\"2019-04-01T00:00:00\",\"2019-05-01T00:00:00\",\"2019-06-01T00:00:00\",\"2019-07-01T00:00:00\",\"2019-08-01T00:00:00\",\"2019-09-01T00:00:00\",\"2019-10-01T00:00:00\",\"2019-11-01T00:00:00\",\"2019-12-01T00:00:00\",\"2020-01-01T00:00:00\",\"2020-02-01T00:00:00\",\"2020-03-01T00:00:00\",\"2020-04-01T00:00:00\",\"2020-05-01T00:00:00\",\"2020-06-01T00:00:00\",\"2020-07-01T00:00:00\",\"2020-08-01T00:00:00\",\"2020-09-01T00:00:00\",\"2020-10-01T00:00:00\",\"2020-11-01T00:00:00\",\"2020-12-01T00:00:00\",\"2021-01-01T00:00:00\",\"2021-02-01T00:00:00\",\"2021-03-01T00:00:00\",\"2021-04-01T00:00:00\"],\"xaxis\":\"x\",\"y\":[0.00030712065892146755,0.000284912806460136,0.00028787140813458427,0.0003634040920077057,0.00036091495502002605,0.0003170263821193139,0.00034466575342509593,0.00032490014169300703,0.00035853276479735164,0.00030068857076069556,0.00031441280124595557,0.00031107635756651527,0.00032742179258150444,0.00033821046761397264,0.0003453074429286033,0.0003182836671454609,0.0003028102646499915,0.0002903772144547412,0.00037164137440646403,0.0003435246490978105,0.0003864019127417128,0.00034416707031940344,0.0003439024453224455,0.000415758031116568,0.0004039781204117579,0.00037647917652470776,0.00035014478594968396,0.0003257393329898054,0.0003037580583359547,0.00028061625893166953,0.00032773846156046996,0.0002932978321472126,0.0003530357170721051,0.00019661592800548463,0.00028330942316984176,0.0002962498901068051,0.0002631556955008176,0.0003467123964212913,0.000304645803300661,0.00030080788937733886,0.0002826384949120972,0.0001971700595995163],\"yaxis\":\"y\",\"type\":\"scatter\"},{\"hovertemplate\":\"identity_group=virgins<br>parsed_date=%{x}<br>mention_prob=%{y}<extra></extra>\",\"legendgroup\":\"virgins\",\"line\":{\"color\":\"#FF6692\",\"dash\":\"solid\"},\"marker\":{\"symbol\":\"circle\"},\"mode\":\"lines\",\"name\":\"virgins\",\"orientation\":\"v\",\"showlegend\":true,\"x\":[\"2017-11-01T00:00:00\",\"2017-12-01T00:00:00\",\"2018-01-01T00:00:00\",\"2018-02-01T00:00:00\",\"2018-03-01T00:00:00\",\"2018-04-01T00:00:00\",\"2018-05-01T00:00:00\",\"2018-06-01T00:00:00\",\"2018-07-01T00:00:00\",\"2018-08-01T00:00:00\",\"2018-09-01T00:00:00\",\"2018-10-01T00:00:00\",\"2018-11-01T00:00:00\",\"2018-12-01T00:00:00\",\"2019-01-01T00:00:00\",\"2019-02-01T00:00:00\",\"2019-03-01T00:00:00\",\"2019-04-01T00:00:00\",\"2019-05-01T00:00:00\",\"2019-06-01T00:00:00\",\"2019-07-01T00:00:00\",\"2019-08-01T00:00:00\",\"2019-09-01T00:00:00\",\"2019-10-01T00:00:00\",\"2019-11-01T00:00:00\",\"2019-12-01T00:00:00\",\"2020-01-01T00:00:00\",\"2020-02-01T00:00:00\",\"2020-03-01T00:00:00\",\"2020-04-01T00:00:00\",\"2020-05-01T00:00:00\",\"2020-06-01T00:00:00\",\"2020-07-01T00:00:00\",\"2020-08-01T00:00:00\",\"2020-09-01T00:00:00\",\"2020-10-01T00:00:00\",\"2020-11-01T00:00:00\",\"2020-12-01T00:00:00\",\"2021-01-01T00:00:00\",\"2021-02-01T00:00:00\",\"2021-03-01T00:00:00\",\"2021-04-01T00:00:00\"],\"xaxis\":\"x\",\"y\":[0.0006581684313184816,0.0005486168569236879,0.0004951658310368142,0.0006828988778382454,0.0006402736980527133,0.0005982193270132109,0.00055444142786349,0.0005172435901545801,0.0004915984394851866,0.0004537627120289179,0.00042193124593336006,0.00047050762544923467,0.000476946482172805,0.00045838918714534216,0.0004700143030214626,0.00042678380700114573,0.00039970072105038966,0.00038997265724057553,0.00037608551640235595,0.00047814574774794876,0.0004244360653209403,0.0006040747825568438,0.0004730125783786537,0.0004787516721948359,0.0004889190078460212,0.00044044865179627225,0.0005250370632938935,0.0004497975044901781,0.0004051250896609401,0.0003794085583089834,0.00041271299065995454,0.00041651763145166286,0.0003917451157140954,0.0002546515260650346,0.0003441728474128431,0.00034633902364606046,0.0002644556883508569,0.0003157989045887469,0.0003679253470129645,0.0004120247020751639,0.0005037892824466532,0.0005094265059180635],\"yaxis\":\"y\",\"type\":\"scatter\"},{\"hovertemplate\":\"identity_group=women_girls<br>parsed_date=%{x}<br>mention_prob=%{y}<extra></extra>\",\"legendgroup\":\"women_girls\",\"line\":{\"color\":\"#B6E880\",\"dash\":\"solid\"},\"marker\":{\"symbol\":\"circle\"},\"mode\":\"lines\",\"name\":\"women_girls\",\"orientation\":\"v\",\"showlegend\":true,\"x\":[\"2017-11-01T00:00:00\",\"2017-12-01T00:00:00\",\"2018-01-01T00:00:00\",\"2018-02-01T00:00:00\",\"2018-03-01T00:00:00\",\"2018-04-01T00:00:00\",\"2018-05-01T00:00:00\",\"2018-06-01T00:00:00\",\"2018-07-01T00:00:00\",\"2018-08-01T00:00:00\",\"2018-09-01T00:00:00\",\"2018-10-01T00:00:00\",\"2018-11-01T00:00:00\",\"2018-12-01T00:00:00\",\"2019-01-01T00:00:00\",\"2019-02-01T00:00:00\",\"2019-03-01T00:00:00\",\"2019-04-01T00:00:00\",\"2019-05-01T00:00:00\",\"2019-06-01T00:00:00\",\"2019-07-01T00:00:00\",\"2019-08-01T00:00:00\",\"2019-09-01T00:00:00\",\"2019-10-01T00:00:00\",\"2019-11-01T00:00:00\",\"2019-12-01T00:00:00\",\"2020-01-01T00:00:00\",\"2020-02-01T00:00:00\",\"2020-03-01T00:00:00\",\"2020-04-01T00:00:00\",\"2020-05-01T00:00:00\",\"2020-06-01T00:00:00\",\"2020-07-01T00:00:00\",\"2020-08-01T00:00:00\",\"2020-09-01T00:00:00\",\"2020-10-01T00:00:00\",\"2020-11-01T00:00:00\",\"2020-12-01T00:00:00\",\"2021-01-01T00:00:00\",\"2021-02-01T00:00:00\",\"2021-03-01T00:00:00\",\"2021-04-01T00:00:00\"],\"xaxis\":\"x\",\"y\":[0.00858756611676565,0.00797372567317358,0.007430638520840629,0.007855156541528378,0.008304949474203654,0.007966718699803638,0.008062522431676095,0.0076905322143218935,0.007135145661094899,0.007416715130034158,0.006467946919568801,0.00590136691919838,0.006207345597119185,0.006398448031966589,0.006474176900957992,0.005493690567555273,0.005429617580651925,0.00590135846607251,0.005704611769476799,0.00567386099395498,0.005675447888717921,0.005685778273443654,0.005906201723080361,0.006257750126750841,0.0063428080976239126,0.006645864044169041,0.005737583413799991,0.0057162054971631225,0.004757218241674782,0.004873369030113328,0.004831245449070359,0.004612585670300957,0.0053569006554791505,0.003752787878261926,0.004724965057522808,0.0052960023995502325,0.004861601832618492,0.005728066414767986,0.005084812668444119,0.005805107090967515,0.005286098203247207,0.005360825440184273],\"yaxis\":\"y\",\"type\":\"scatter\"},{\"hovertemplate\":\"identity_group=women_girls_derogatory<br>parsed_date=%{x}<br>mention_prob=%{y}<extra></extra>\",\"legendgroup\":\"women_girls_derogatory\",\"line\":{\"color\":\"#FF97FF\",\"dash\":\"solid\"},\"marker\":{\"symbol\":\"circle\"},\"mode\":\"lines\",\"name\":\"women_girls_derogatory\",\"orientation\":\"v\",\"showlegend\":true,\"x\":[\"2017-11-01T00:00:00\",\"2017-12-01T00:00:00\",\"2018-01-01T00:00:00\",\"2018-02-01T00:00:00\",\"2018-03-01T00:00:00\",\"2018-04-01T00:00:00\",\"2018-05-01T00:00:00\",\"2018-06-01T00:00:00\",\"2018-07-01T00:00:00\",\"2018-08-01T00:00:00\",\"2018-09-01T00:00:00\",\"2018-10-01T00:00:00\",\"2018-11-01T00:00:00\",\"2018-12-01T00:00:00\",\"2019-01-01T00:00:00\",\"2019-02-01T00:00:00\",\"2019-03-01T00:00:00\",\"2019-04-01T00:00:00\",\"2019-05-01T00:00:00\",\"2019-06-01T00:00:00\",\"2019-07-01T00:00:00\",\"2019-08-01T00:00:00\",\"2019-09-01T00:00:00\",\"2019-10-01T00:00:00\",\"2019-11-01T00:00:00\",\"2019-12-01T00:00:00\",\"2020-01-01T00:00:00\",\"2020-02-01T00:00:00\",\"2020-03-01T00:00:00\",\"2020-04-01T00:00:00\",\"2020-05-01T00:00:00\",\"2020-06-01T00:00:00\",\"2020-07-01T00:00:00\",\"2020-08-01T00:00:00\",\"2020-09-01T00:00:00\",\"2020-10-01T00:00:00\",\"2020-11-01T00:00:00\",\"2020-12-01T00:00:00\",\"2021-01-01T00:00:00\",\"2021-02-01T00:00:00\",\"2021-03-01T00:00:00\",\"2021-04-01T00:00:00\"],\"xaxis\":\"x\",\"y\":[0.0012395566979065962,0.0010077992006087679,0.0009291111593272587,0.0010834196761725058,0.0013016830904796102,0.0013452469558375283,0.001327619199706602,0.001120560873495714,0.0010586071250273243,0.0011052883172683,0.00101282004780407,0.0010492802049025486,0.0013043026247174666,0.001362342164489991,0.001346563965840225,0.0019450392043853964,0.0011655546702744935,0.0009567994912486089,0.001103813768229662,0.0011028282092807938,0.0010365351472141132,0.0012010199271221367,0.0009676217608321641,0.001065165203687075,0.0012237779708121645,0.0011298138206051324,0.0010434098482543825,0.0009933317000162523,0.000991201478895247,0.0029166151989966495,0.0009804973441883288,0.0009399414549759192,0.0010601574062182298,0.000882737718148762,0.0009742074551412021,0.0011165887379237537,0.0010916225675044501,0.00108215732486859,0.0010218139653734336,0.0009968459956909083,0.0011192812332958394,0.0013108000957924924],\"yaxis\":\"y\",\"type\":\"scatter\"},{\"hovertemplate\":\"identity_group=youth<br>parsed_date=%{x}<br>mention_prob=%{y}<extra></extra>\",\"legendgroup\":\"youth\",\"line\":{\"color\":\"#FECB52\",\"dash\":\"solid\"},\"marker\":{\"symbol\":\"circle\"},\"mode\":\"lines\",\"name\":\"youth\",\"orientation\":\"v\",\"showlegend\":true,\"x\":[\"2017-11-01T00:00:00\",\"2017-12-01T00:00:00\",\"2018-01-01T00:00:00\",\"2018-02-01T00:00:00\",\"2018-03-01T00:00:00\",\"2018-04-01T00:00:00\",\"2018-05-01T00:00:00\",\"2018-06-01T00:00:00\",\"2018-07-01T00:00:00\",\"2018-08-01T00:00:00\",\"2018-09-01T00:00:00\",\"2018-10-01T00:00:00\",\"2018-11-01T00:00:00\",\"2018-12-01T00:00:00\",\"2019-01-01T00:00:00\",\"2019-02-01T00:00:00\",\"2019-03-01T00:00:00\",\"2019-04-01T00:00:00\",\"2019-05-01T00:00:00\",\"2019-06-01T00:00:00\",\"2019-07-01T00:00:00\",\"2019-08-01T00:00:00\",\"2019-09-01T00:00:00\",\"2019-10-01T00:00:00\",\"2019-11-01T00:00:00\",\"2019-12-01T00:00:00\",\"2020-01-01T00:00:00\",\"2020-02-01T00:00:00\",\"2020-03-01T00:00:00\",\"2020-04-01T00:00:00\",\"2020-05-01T00:00:00\",\"2020-06-01T00:00:00\",\"2020-07-01T00:00:00\",\"2020-08-01T00:00:00\",\"2020-09-01T00:00:00\",\"2020-10-01T00:00:00\",\"2020-11-01T00:00:00\",\"2020-12-01T00:00:00\",\"2021-01-01T00:00:00\",\"2021-02-01T00:00:00\",\"2021-03-01T00:00:00\",\"2021-04-01T00:00:00\"],\"xaxis\":\"x\",\"y\":[0.000842736134997248,0.0008713476861247208,0.0009360884960373229,0.0009194269083506039,0.000974539299296595,0.0009811891873598546,0.0010402377265629288,0.0012268306287707331,0.0011674269737677345,0.0012340970728665266,0.0011225591832595447,0.0012389292596048996,0.0012622617493891646,0.001362342164489991,0.0012666525302211544,0.0012280921793298275,0.0013039380783907797,0.0012180075918531454,0.001433513552549896,0.0012440409248139896,0.0012346471068026173,0.0012193841461912826,0.0016509664832442042,0.0013362287501450763,0.0016797569395224582,0.0012312242534621126,0.001174714142985514,0.0012627597121434584,0.0011045747575852897,0.0010525031739108373,0.001227266810007539,0.0010827722927612186,0.0013623307739119058,0.0009367054004564744,0.0010751229392086301,0.0010894017155897626,0.0009140806868419367,0.0012633807290845238,0.0011750408605053686,0.0011562069991203421,0.0011662168499273625,0.0010670877474463093],\"yaxis\":\"y\",\"type\":\"scatter\"}],                        {\"template\":{\"data\":{\"histogram2dcontour\":[{\"type\":\"histogram2dcontour\",\"colorbar\":{\"outlinewidth\":0,\"ticks\":\"\"},\"colorscale\":[[0.0,\"#0d0887\"],[0.1111111111111111,\"#46039f\"],[0.2222222222222222,\"#7201a8\"],[0.3333333333333333,\"#9c179e\"],[0.4444444444444444,\"#bd3786\"],[0.5555555555555556,\"#d8576b\"],[0.6666666666666666,\"#ed7953\"],[0.7777777777777778,\"#fb9f3a\"],[0.8888888888888888,\"#fdca26\"],[1.0,\"#f0f921\"]]}],\"choropleth\":[{\"type\":\"choropleth\",\"colorbar\":{\"outlinewidth\":0,\"ticks\":\"\"}}],\"histogram2d\":[{\"type\":\"histogram2d\",\"colorbar\":{\"outlinewidth\":0,\"ticks\":\"\"},\"colorscale\":[[0.0,\"#0d0887\"],[0.1111111111111111,\"#46039f\"],[0.2222222222222222,\"#7201a8\"],[0.3333333333333333,\"#9c179e\"],[0.4444444444444444,\"#bd3786\"],[0.5555555555555556,\"#d8576b\"],[0.6666666666666666,\"#ed7953\"],[0.7777777777777778,\"#fb9f3a\"],[0.8888888888888888,\"#fdca26\"],[1.0,\"#f0f921\"]]}],\"heatmap\":[{\"type\":\"heatmap\",\"colorbar\":{\"outlinewidth\":0,\"ticks\":\"\"},\"colorscale\":[[0.0,\"#0d0887\"],[0.1111111111111111,\"#46039f\"],[0.2222222222222222,\"#7201a8\"],[0.3333333333333333,\"#9c179e\"],[0.4444444444444444,\"#bd3786\"],[0.5555555555555556,\"#d8576b\"],[0.6666666666666666,\"#ed7953\"],[0.7777777777777778,\"#fb9f3a\"],[0.8888888888888888,\"#fdca26\"],[1.0,\"#f0f921\"]]}],\"heatmapgl\":[{\"type\":\"heatmapgl\",\"colorbar\":{\"outlinewidth\":0,\"ticks\":\"\"},\"colorscale\":[[0.0,\"#0d0887\"],[0.1111111111111111,\"#46039f\"],[0.2222222222222222,\"#7201a8\"],[0.3333333333333333,\"#9c179e\"],[0.4444444444444444,\"#bd3786\"],[0.5555555555555556,\"#d8576b\"],[0.6666666666666666,\"#ed7953\"],[0.7777777777777778,\"#fb9f3a\"],[0.8888888888888888,\"#fdca26\"],[1.0,\"#f0f921\"]]}],\"contourcarpet\":[{\"type\":\"contourcarpet\",\"colorbar\":{\"outlinewidth\":0,\"ticks\":\"\"}}],\"contour\":[{\"type\":\"contour\",\"colorbar\":{\"outlinewidth\":0,\"ticks\":\"\"},\"colorscale\":[[0.0,\"#0d0887\"],[0.1111111111111111,\"#46039f\"],[0.2222222222222222,\"#7201a8\"],[0.3333333333333333,\"#9c179e\"],[0.4444444444444444,\"#bd3786\"],[0.5555555555555556,\"#d8576b\"],[0.6666666666666666,\"#ed7953\"],[0.7777777777777778,\"#fb9f3a\"],[0.8888888888888888,\"#fdca26\"],[1.0,\"#f0f921\"]]}],\"surface\":[{\"type\":\"surface\",\"colorbar\":{\"outlinewidth\":0,\"ticks\":\"\"},\"colorscale\":[[0.0,\"#0d0887\"],[0.1111111111111111,\"#46039f\"],[0.2222222222222222,\"#7201a8\"],[0.3333333333333333,\"#9c179e\"],[0.4444444444444444,\"#bd3786\"],[0.5555555555555556,\"#d8576b\"],[0.6666666666666666,\"#ed7953\"],[0.7777777777777778,\"#fb9f3a\"],[0.8888888888888888,\"#fdca26\"],[1.0,\"#f0f921\"]]}],\"mesh3d\":[{\"type\":\"mesh3d\",\"colorbar\":{\"outlinewidth\":0,\"ticks\":\"\"}}],\"scatter\":[{\"fillpattern\":{\"fillmode\":\"overlay\",\"size\":10,\"solidity\":0.2},\"type\":\"scatter\"}],\"parcoords\":[{\"type\":\"parcoords\",\"line\":{\"colorbar\":{\"outlinewidth\":0,\"ticks\":\"\"}}}],\"scatterpolargl\":[{\"type\":\"scatterpolargl\",\"marker\":{\"colorbar\":{\"outlinewidth\":0,\"ticks\":\"\"}}}],\"bar\":[{\"error_x\":{\"color\":\"#2a3f5f\"},\"error_y\":{\"color\":\"#2a3f5f\"},\"marker\":{\"line\":{\"color\":\"#E5ECF6\",\"width\":0.5},\"pattern\":{\"fillmode\":\"overlay\",\"size\":10,\"solidity\":0.2}},\"type\":\"bar\"}],\"scattergeo\":[{\"type\":\"scattergeo\",\"marker\":{\"colorbar\":{\"outlinewidth\":0,\"ticks\":\"\"}}}],\"scatterpolar\":[{\"type\":\"scatterpolar\",\"marker\":{\"colorbar\":{\"outlinewidth\":0,\"ticks\":\"\"}}}],\"histogram\":[{\"marker\":{\"pattern\":{\"fillmode\":\"overlay\",\"size\":10,\"solidity\":0.2}},\"type\":\"histogram\"}],\"scattergl\":[{\"type\":\"scattergl\",\"marker\":{\"colorbar\":{\"outlinewidth\":0,\"ticks\":\"\"}}}],\"scatter3d\":[{\"type\":\"scatter3d\",\"line\":{\"colorbar\":{\"outlinewidth\":0,\"ticks\":\"\"}},\"marker\":{\"colorbar\":{\"outlinewidth\":0,\"ticks\":\"\"}}}],\"scattermapbox\":[{\"type\":\"scattermapbox\",\"marker\":{\"colorbar\":{\"outlinewidth\":0,\"ticks\":\"\"}}}],\"scatterternary\":[{\"type\":\"scatterternary\",\"marker\":{\"colorbar\":{\"outlinewidth\":0,\"ticks\":\"\"}}}],\"scattercarpet\":[{\"type\":\"scattercarpet\",\"marker\":{\"colorbar\":{\"outlinewidth\":0,\"ticks\":\"\"}}}],\"carpet\":[{\"aaxis\":{\"endlinecolor\":\"#2a3f5f\",\"gridcolor\":\"white\",\"linecolor\":\"white\",\"minorgridcolor\":\"white\",\"startlinecolor\":\"#2a3f5f\"},\"baxis\":{\"endlinecolor\":\"#2a3f5f\",\"gridcolor\":\"white\",\"linecolor\":\"white\",\"minorgridcolor\":\"white\",\"startlinecolor\":\"#2a3f5f\"},\"type\":\"carpet\"}],\"table\":[{\"cells\":{\"fill\":{\"color\":\"#EBF0F8\"},\"line\":{\"color\":\"white\"}},\"header\":{\"fill\":{\"color\":\"#C8D4E3\"},\"line\":{\"color\":\"white\"}},\"type\":\"table\"}],\"barpolar\":[{\"marker\":{\"line\":{\"color\":\"#E5ECF6\",\"width\":0.5},\"pattern\":{\"fillmode\":\"overlay\",\"size\":10,\"solidity\":0.2}},\"type\":\"barpolar\"}],\"pie\":[{\"automargin\":true,\"type\":\"pie\"}]},\"layout\":{\"autotypenumbers\":\"strict\",\"colorway\":[\"#636efa\",\"#EF553B\",\"#00cc96\",\"#ab63fa\",\"#FFA15A\",\"#19d3f3\",\"#FF6692\",\"#B6E880\",\"#FF97FF\",\"#FECB52\"],\"font\":{\"color\":\"#2a3f5f\"},\"hovermode\":\"closest\",\"hoverlabel\":{\"align\":\"left\"},\"paper_bgcolor\":\"white\",\"plot_bgcolor\":\"#E5ECF6\",\"polar\":{\"bgcolor\":\"#E5ECF6\",\"angularaxis\":{\"gridcolor\":\"white\",\"linecolor\":\"white\",\"ticks\":\"\"},\"radialaxis\":{\"gridcolor\":\"white\",\"linecolor\":\"white\",\"ticks\":\"\"}},\"ternary\":{\"bgcolor\":\"#E5ECF6\",\"aaxis\":{\"gridcolor\":\"white\",\"linecolor\":\"white\",\"ticks\":\"\"},\"baxis\":{\"gridcolor\":\"white\",\"linecolor\":\"white\",\"ticks\":\"\"},\"caxis\":{\"gridcolor\":\"white\",\"linecolor\":\"white\",\"ticks\":\"\"}},\"coloraxis\":{\"colorbar\":{\"outlinewidth\":0,\"ticks\":\"\"}},\"colorscale\":{\"sequential\":[[0.0,\"#0d0887\"],[0.1111111111111111,\"#46039f\"],[0.2222222222222222,\"#7201a8\"],[0.3333333333333333,\"#9c179e\"],[0.4444444444444444,\"#bd3786\"],[0.5555555555555556,\"#d8576b\"],[0.6666666666666666,\"#ed7953\"],[0.7777777777777778,\"#fb9f3a\"],[0.8888888888888888,\"#fdca26\"],[1.0,\"#f0f921\"]],\"sequentialminus\":[[0.0,\"#0d0887\"],[0.1111111111111111,\"#46039f\"],[0.2222222222222222,\"#7201a8\"],[0.3333333333333333,\"#9c179e\"],[0.4444444444444444,\"#bd3786\"],[0.5555555555555556,\"#d8576b\"],[0.6666666666666666,\"#ed7953\"],[0.7777777777777778,\"#fb9f3a\"],[0.8888888888888888,\"#fdca26\"],[1.0,\"#f0f921\"]],\"diverging\":[[0,\"#8e0152\"],[0.1,\"#c51b7d\"],[0.2,\"#de77ae\"],[0.3,\"#f1b6da\"],[0.4,\"#fde0ef\"],[0.5,\"#f7f7f7\"],[0.6,\"#e6f5d0\"],[0.7,\"#b8e186\"],[0.8,\"#7fbc41\"],[0.9,\"#4d9221\"],[1,\"#276419\"]]},\"xaxis\":{\"gridcolor\":\"white\",\"linecolor\":\"white\",\"ticks\":\"\",\"title\":{\"standoff\":15},\"zerolinecolor\":\"white\",\"automargin\":true,\"zerolinewidth\":2},\"yaxis\":{\"gridcolor\":\"white\",\"linecolor\":\"white\",\"ticks\":\"\",\"title\":{\"standoff\":15},\"zerolinecolor\":\"white\",\"automargin\":true,\"zerolinewidth\":2},\"scene\":{\"xaxis\":{\"backgroundcolor\":\"#E5ECF6\",\"gridcolor\":\"white\",\"linecolor\":\"white\",\"showbackground\":true,\"ticks\":\"\",\"zerolinecolor\":\"white\",\"gridwidth\":2},\"yaxis\":{\"backgroundcolor\":\"#E5ECF6\",\"gridcolor\":\"white\",\"linecolor\":\"white\",\"showbackground\":true,\"ticks\":\"\",\"zerolinecolor\":\"white\",\"gridwidth\":2},\"zaxis\":{\"backgroundcolor\":\"#E5ECF6\",\"gridcolor\":\"white\",\"linecolor\":\"white\",\"showbackground\":true,\"ticks\":\"\",\"zerolinecolor\":\"white\",\"gridwidth\":2}},\"shapedefaults\":{\"line\":{\"color\":\"#2a3f5f\"}},\"annotationdefaults\":{\"arrowcolor\":\"#2a3f5f\",\"arrowhead\":0,\"arrowwidth\":1},\"geo\":{\"bgcolor\":\"white\",\"landcolor\":\"#E5ECF6\",\"subunitcolor\":\"white\",\"showland\":true,\"showlakes\":true,\"lakecolor\":\"white\"},\"title\":{\"x\":0.05},\"mapbox\":{\"style\":\"light\"}}},\"xaxis\":{\"anchor\":\"y\",\"domain\":[0.0,1.0],\"title\":{\"text\":\"parsed_date\"}},\"yaxis\":{\"anchor\":\"x\",\"domain\":[0.0,1.0],\"title\":{\"text\":\"mention_prob\"},\"type\":\"log\"},\"legend\":{\"title\":{\"text\":\"identity_group\"},\"tracegroupgap\":0},\"margin\":{\"t\":60}},                        {\"responsive\": true}                    ).then(function(){\n",
       "                            \n",
       "var gd = document.getElementById('f1cdf943-1f1d-46f2-a7ad-9aefaa968df0');\n",
       "var x = new MutationObserver(function (mutations, observer) {{\n",
       "        var display = window.getComputedStyle(gd).display;\n",
       "        if (!display || display === 'none') {{\n",
       "            console.log([gd, 'removed!']);\n",
       "            Plotly.purge(gd);\n",
       "            observer.disconnect();\n",
       "        }}\n",
       "}});\n",
       "\n",
       "// Listen for the removal of the full notebook cells\n",
       "var notebookContainer = gd.closest('#notebook-container');\n",
       "if (notebookContainer) {{\n",
       "    x.observe(notebookContainer, {childList: true});\n",
       "}}\n",
       "\n",
       "// Listen for the clearing of the current output cell\n",
       "var outputEl = gd.closest('.output');\n",
       "if (outputEl) {{\n",
       "    x.observe(outputEl, {childList: true});\n",
       "}}\n",
       "\n",
       "                        })                };                });            </script>        </div>"
      ]
     },
     "metadata": {},
     "output_type": "display_data"
    }
   ],
   "source": [
    "# Filter to most popular terms overall\n",
    "# filtered = counts_overtime[counts_overtime['identity_term'].isin(freq.term.head(20))]\n",
    "filtered = counts_overtime[counts_overtime['identity_group'].isin(gp_freq.identity_group.head(10))]\n",
    "\n",
    "# Plot\n",
    "import plotly.express as px\n",
    "\n",
    "# px.line(filtered, x='parsed_date', y='count', color='identity_term')\n",
    "# px.line(filtered, x='parsed_date', y='mention_prob', color='identity_group')\n",
    "px.line(filtered, x='parsed_date', y='mention_prob', color='identity_group', log_y=True)"
   ]
  },
  {
   "cell_type": "markdown",
   "id": "18ffd10e-096d-4298-aaf1-26278154f269",
   "metadata": {},
   "source": [
    "# Old/1-time"
   ]
  },
  {
   "cell_type": "code",
   "execution_count": 3,
   "id": "cc803c15-460a-46a0-8ef5-d60449ee3db3",
   "metadata": {},
   "outputs": [
    {
     "name": "stdout",
     "output_type": "stream",
     "text": [
      "<class 'pandas.core.frame.DataFrame'>\n",
      "RangeIndex: 6248230 entries, 0 to 6248229\n",
      "Data columns (total 8 columns):\n",
      " #   Column                                 Dtype         \n",
      "---  ------                                 -----         \n",
      " 0   type                                   object        \n",
      " 1   forum                                  object        \n",
      " 2   thread                                 object        \n",
      " 3   username                               object        \n",
      " 4   date                                   object        \n",
      " 5   content                                object        \n",
      " 6   parsed_date                            datetime64[ns]\n",
      " 7   {self.identity_list}_identity_matches  object        \n",
      "dtypes: datetime64[ns](1), object(7)\n",
      "memory usage: 381.4+ MB\n"
     ]
    }
   ],
   "source": [
    "# Load data with identity matches\n",
    "import pandas as pd\n",
    "\n",
    "path = '../../data/incels/processed_comments.jsonl'\n",
    "data = pd.read_json(path, lines=True, convert_dates=['parsed_date'])\n",
    "data.info()"
   ]
  },
  {
   "cell_type": "code",
   "execution_count": 4,
   "id": "dd48830a-bf7b-426d-b1dd-99fac9a72693",
   "metadata": {},
   "outputs": [
    {
     "name": "stdout",
     "output_type": "stream",
     "text": [
      "<class 'pandas.core.frame.DataFrame'>\n",
      "RangeIndex: 6248230 entries, 0 to 6248229\n",
      "Data columns (total 8 columns):\n",
      " #   Column                      Dtype         \n",
      "---  ------                      -----         \n",
      " 0   type                        object        \n",
      " 1   forum                       object        \n",
      " 2   thread                      object        \n",
      " 3   username                    object        \n",
      " 4   date                        object        \n",
      " 5   content                     object        \n",
      " 6   parsed_date                 datetime64[ns]\n",
      " 7   netmapper_identity_matches  object        \n",
      "dtypes: datetime64[ns](1), object(7)\n",
      "memory usage: 381.4+ MB\n"
     ]
    }
   ],
   "source": [
    "data.rename(columns={'{self.identity_list}_identity_matches': 'netmapper_identity_matches'}, inplace=True)\n",
    "data.info()"
   ]
  },
  {
   "cell_type": "code",
   "execution_count": 5,
   "id": "c7602287-e3ee-4cbb-959d-718c90c3a735",
   "metadata": {},
   "outputs": [],
   "source": [
    "data.to_pickle('../../data/incels/processed_comments.pkl')"
   ]
  }
 ],
 "metadata": {
  "kernelspec": {
   "display_name": "Python 3 (ipykernel)",
   "language": "python",
   "name": "python3"
  },
  "language_info": {
   "codemirror_mode": {
    "name": "ipython",
    "version": 3
   },
   "file_extension": ".py",
   "mimetype": "text/x-python",
   "name": "python",
   "nbconvert_exporter": "python",
   "pygments_lexer": "ipython3",
   "version": "3.10.9"
  }
 },
 "nbformat": 4,
 "nbformat_minor": 5
}
