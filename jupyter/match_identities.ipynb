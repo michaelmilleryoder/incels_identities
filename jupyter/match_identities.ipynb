{
 "cells": [
  {
   "cell_type": "markdown",
   "id": "272ca5c4-8181-44dc-8a0f-26049a58ba32",
   "metadata": {},
   "source": [
    "# Find identity term matches in data\n",
    "\n",
    "See process_data.py"
   ]
  },
  {
   "cell_type": "code",
   "execution_count": 1,
   "id": "874dbdb0-ac10-4e84-a3dd-4e08c3d0025c",
   "metadata": {},
   "outputs": [
    {
     "name": "stdout",
     "output_type": "stream",
     "text": [
      "<class 'pandas.core.frame.DataFrame'>\n",
      "RangeIndex: 6248230 entries, 0 to 6248229\n",
      "Data columns (total 7 columns):\n",
      " #   Column       Dtype         \n",
      "---  ------       -----         \n",
      " 0   type         object        \n",
      " 1   forum        object        \n",
      " 2   thread       object        \n",
      " 3   username     object        \n",
      " 4   date         object        \n",
      " 5   content      object        \n",
      " 6   parsed_date  datetime64[ns]\n",
      "dtypes: datetime64[ns](1), object(6)\n",
      "memory usage: 333.7+ MB\n"
     ]
    }
   ],
   "source": [
    "# Load incels data\n",
    "import pandas as pd\n",
    "import csv\n",
    "\n",
    "path = '../../data/incels/all_comments.csv'\n",
    "# data = pd.read_csv(path, engine='python', on_bad_lines=lambda x: print(x))\n",
    "data = pd.read_csv(path, engine='python', on_bad_lines=lambda row: row[:-2].append(' '.join(row[-2:]))) # combine last 2 elements in a line mentioning Gulag\n",
    "data['parsed_date'] = pd.to_datetime(data.date, errors='coerce') # \"yesterday\" etc not handled\n",
    "data.info()"
   ]
  },
  {
   "cell_type": "markdown",
   "id": "b057efbe-a0ad-499e-8df4-3ffc20d13168",
   "metadata": {},
   "source": [
    "## NetMapper identity term lists"
   ]
  },
  {
   "cell_type": "markdown",
   "id": "9e6ed5b7-f4a2-4878-84bd-0cccfed6d5f7",
   "metadata": {},
   "source": [
    "### generic_agents-identity 2021 file"
   ]
  },
  {
   "cell_type": "code",
   "execution_count": 2,
   "id": "19deadaa-ed22-4fac-bf8f-87138560beb5",
   "metadata": {},
   "outputs": [
    {
     "name": "stdout",
     "output_type": "stream",
     "text": [
      "<class 'pandas.core.frame.DataFrame'>\n",
      "RangeIndex: 19887 entries, 0 to 19886\n",
      "Columns: 156 entries, Akan to Category 4\n",
      "dtypes: float64(56), int64(1), object(99)\n",
      "memory usage: 23.7+ MB\n"
     ]
    }
   ],
   "source": [
    "# Load identity terms\n",
    "import pandas as pd\n",
    "\n",
    "nm_identities_path = '../resources/generic_agents-identity_v15_2021_10_15.xlsx'\n",
    "multi_identities = pd.read_excel(nm_identities_path)\n",
    "multi_identities.info()"
   ]
  },
  {
   "cell_type": "code",
   "execution_count": 3,
   "id": "a101f7e5-fee7-42e8-974f-e6532a13a6f9",
   "metadata": {
    "scrolled": true,
    "tags": []
   },
   "outputs": [
    {
     "name": "stdout",
     "output_type": "stream",
     "text": [
      "<class 'pandas.core.frame.DataFrame'>\n",
      "Int64Index: 19035 entries, 0 to 19886\n",
      "Data columns (total 44 columns):\n",
      " #   Column           Non-Null Count  Dtype  \n",
      "---  ------           --------------  -----  \n",
      " 0   English          19035 non-null  object \n",
      " 1   conceptTo        19035 non-null  object \n",
      " 2   metaOntology     19035 non-null  object \n",
      " 3   nodeType         0 non-null      float64\n",
      " 4   Category 1       9703 non-null   object \n",
      " 5   Category 2       911 non-null    object \n",
      " 6   Category 3       18929 non-null  object \n",
      " 7   Country          4712 non-null   object \n",
      " 8   First Name       0 non-null      float64\n",
      " 9   Last Name        0 non-null      float64\n",
      " 10  Gender           759 non-null    object \n",
      " 11  Suffix           0 non-null      float64\n",
      " 12  Language         0 non-null      float64\n",
      " 13  Acronym          336 non-null    object \n",
      " 14  Valence          19035 non-null  object \n",
      " 15  Evaluation       19035 non-null  int64  \n",
      " 16  Potency          10 non-null     float64\n",
      " 17  Activity         0 non-null      float64\n",
      " 18  Affect Mean      19035 non-null  float64\n",
      " 19  Military Role    369 non-null    object \n",
      " 20  Political Role   786 non-null    object \n",
      " 21  Religious Role   77 non-null     object \n",
      " 22  Abusive          417 non-null    float64\n",
      " 23  Exclusive        13 non-null     float64\n",
      " 24  PowerAnger       29 non-null     float64\n",
      " 25  PowerEncourage   17 non-null     float64\n",
      " 26  PowerFear        71 non-null     float64\n",
      " 27  PowerForbidden   1 non-null      float64\n",
      " 28  PowerGreed       16 non-null     float64\n",
      " 29  PowerLust        0 non-null      float64\n",
      " 30  PowerSafety      1 non-null      float64\n",
      " 31  Absolutist       0 non-null      float64\n",
      " 32  Equivocal        0 non-null      float64\n",
      " 33  Connective       0 non-null      float64\n",
      " 34  NamedEntity      0 non-null      float64\n",
      " 35  Pronoun_Level    69 non-null     float64\n",
      " 36  Adverb           1 non-null      float64\n",
      " 37  OtherUsage       46 non-null     float64\n",
      " 38  inclusive        40 non-null     float64\n",
      " 39  modulator        3 non-null      object \n",
      " 40  stop word        95 non-null     float64\n",
      " 41  common word      118 non-null    float64\n",
      " 42  Category 4       0 non-null      float64\n",
      " 43  term             19035 non-null  object \n",
      "dtypes: float64(28), int64(1), object(15)\n",
      "memory usage: 6.5+ MB\n"
     ]
    },
    {
     "name": "stderr",
     "output_type": "stream",
     "text": [
      "/tmp/ipykernel_1221270/3338936415.py:4: SettingWithCopyWarning: \n",
      "A value is trying to be set on a copy of a slice from a DataFrame.\n",
      "Try using .loc[row_indexer,col_indexer] = value instead\n",
      "\n",
      "See the caveats in the documentation: https://pandas.pydata.org/pandas-docs/stable/user_guide/indexing.html#returning-a-view-versus-a-copy\n",
      "  en_identities['term'] = en_identities['English'].str.lower()\n",
      "/tmp/ipykernel_1221270/3338936415.py:5: SettingWithCopyWarning: \n",
      "A value is trying to be set on a copy of a slice from a DataFrame\n",
      "\n",
      "See the caveats in the documentation: https://pandas.pydata.org/pandas-docs/stable/user_guide/indexing.html#returning-a-view-versus-a-copy\n",
      "  en_identities.drop_duplicates(subset='term', inplace=True)\n"
     ]
    }
   ],
   "source": [
    "# Filter to English, remove duplicates\n",
    "cols = multi_identities.columns.tolist()\n",
    "en_identities = multi_identities[cols[cols.index('English'):]]\n",
    "en_identities['term'] = en_identities['English'].str.lower()\n",
    "en_identities.drop_duplicates(subset='term', inplace=True)\n",
    "en_identities.info()"
   ]
  },
  {
   "cell_type": "code",
   "execution_count": 3,
   "id": "65283b7c-b01c-43d7-b024-17e7ed2b647d",
   "metadata": {},
   "outputs": [
    {
     "data": {
      "text/plain": [
       "female     364\n",
       "male       341\n",
       "neutral     49\n",
       "yes          5\n",
       "Name: Gender, dtype: int64"
      ]
     },
     "execution_count": 3,
     "metadata": {},
     "output_type": "execute_result"
    }
   ],
   "source": [
    "en_identities['Gender'].value_counts()"
   ]
  },
  {
   "cell_type": "code",
   "execution_count": 4,
   "id": "a7ff63d0-5dc4-4c21-8673-e7bcfa9adfa4",
   "metadata": {},
   "outputs": [
    {
     "data": {
      "text/plain": [
       "Minister            391\n",
       "Governor             63\n",
       "President            58\n",
       "Diplomat             51\n",
       "Prime Minister       31\n",
       "MP                   31\n",
       "Vice President       26\n",
       "Mayor                24\n",
       "Leader               21\n",
       "Attorney_General     16\n",
       "Prince               15\n",
       "MFA                  12\n",
       "Secretary             9\n",
       "Vice-President        7\n",
       "Queen                 7\n",
       "Princess              6\n",
       "Vice Premier          4\n",
       "Congressman           4\n",
       "King                  3\n",
       "Royalty               2\n",
       "Lt_Governor           2\n",
       "PM                    2\n",
       "Senator               1\n",
       "Name: Political Role, dtype: int64"
      ]
     },
     "execution_count": 4,
     "metadata": {},
     "output_type": "execute_result"
    }
   ],
   "source": [
    "en_identities['Political Role'].value_counts()"
   ]
  },
  {
   "cell_type": "code",
   "execution_count": 7,
   "id": "17d7ff42-6dc9-4e1b-97c7-23d3e38a5c5d",
   "metadata": {},
   "outputs": [
    {
     "data": {
      "text/plain": [
       "Sheik         21\n",
       "bishop        16\n",
       "Archbishop    13\n",
       "Priest        12\n",
       "Pope           7\n",
       "Rabbi          5\n",
       "Sheikh         2\n",
       "archbishop     1\n",
       "Name: Religious Role , dtype: int64"
      ]
     },
     "execution_count": 7,
     "metadata": {},
     "output_type": "execute_result"
    }
   ],
   "source": [
    "en_identities['Religious Role '].value_counts()"
   ]
  },
  {
   "cell_type": "code",
   "execution_count": 9,
   "id": "6ef6c6cf-0a18-419e-8e95-994b03cb0e0f",
   "metadata": {
    "scrolled": true,
    "tags": []
   },
   "outputs": [
    {
     "data": {
      "text/plain": [
       "nationality                4013\n",
       "Celebrity_Politician        989\n",
       "ethnic_group                804\n",
       "military                    694\n",
       "abusive                     414\n",
       "scientist                   283\n",
       "law_enforcement             231\n",
       "criminal                    198\n",
       "medical                     182\n",
       "legal                       169\n",
       "religious                   146\n",
       "athlete                     141\n",
       "religious_leader            135\n",
       "manager                     105\n",
       "journalism                  103\n",
       "student                      84\n",
       "aristocrat                   76\n",
       "musician                     73\n",
       "family_adult_male            72\n",
       "family_adult_female          71\n",
       "writer                       61\n",
       "location_identity            60\n",
       "stopword                     55\n",
       "child                        53\n",
       "kin                          50\n",
       "artist                       48\n",
       "entertainer                  41\n",
       "family_child_female          38\n",
       "leader                       35\n",
       "family_child_male            32\n",
       "sportsperson                 30\n",
       "Calebrity_Politician         25\n",
       "sports_person                23\n",
       "teacher                      23\n",
       "author                       18\n",
       "family-child                 17\n",
       "religion                     13\n",
       "beauty_queen                 12\n",
       "law                          11\n",
       "family_adult                  9\n",
       "marketer                      8\n",
       "Celebrity_Religious           7\n",
       "family                        7\n",
       "family_female                 7\n",
       "cyber_attacker                6\n",
       "aristocat                     5\n",
       "location_identification       3\n",
       "family_male                   3\n",
       "journalist                    3\n",
       "media                         2\n",
       "location_based                2\n",
       "cyber_criminals               2\n",
       "cyber-spy                     2\n",
       "cyber_actor                   2\n",
       "spectator                     1\n",
       "IMF Managing Director         1\n",
       "first_person                  1\n",
       "cyber_defender                1\n",
       "cyber_cops                    1\n",
       "management                    1\n",
       "WMO_president                 1\n",
       "Name: Category 1, dtype: int64"
      ]
     },
     "execution_count": 9,
     "metadata": {},
     "output_type": "execute_result"
    }
   ],
   "source": [
    "pd.set_option('display.max_rows', None)\n",
    "en_identities['Category 1'].value_counts()"
   ]
  },
  {
   "cell_type": "code",
   "execution_count": 10,
   "id": "187a5a6f-0dcd-4a39-92fe-f53acf4833bb",
   "metadata": {
    "scrolled": true,
    "tags": []
   },
   "outputs": [
    {
     "data": {
      "text/plain": [
       "Native American    644\n",
       "family_female      118\n",
       "family_male        109\n",
       "family-child        17\n",
       "attacker            10\n",
       "family_adult         9\n",
       "defender             2\n",
       "cyber_actor          2\n",
       "Name: Category 2, dtype: int64"
      ]
     },
     "execution_count": 10,
     "metadata": {},
     "output_type": "execute_result"
    }
   ],
   "source": [
    "en_identities['Category 2'].value_counts()"
   ]
  },
  {
   "cell_type": "code",
   "execution_count": 11,
   "id": "521855b5-0573-49f6-89a1-6fb40e84c3c4",
   "metadata": {
    "scrolled": true,
    "tags": []
   },
   "outputs": [
    {
     "data": {
      "text/plain": [
       "identity    18929\n",
       "Name: Category 3, dtype: int64"
      ]
     },
     "execution_count": 11,
     "metadata": {},
     "output_type": "execute_result"
    }
   ],
   "source": [
    "en_identities['Category 3'].value_counts()"
   ]
  },
  {
   "cell_type": "markdown",
   "id": "e03c2cc7-2255-4548-9e2f-c89473ee32ce",
   "metadata": {},
   "source": [
    "#### Check if terms are in the list"
   ]
  },
  {
   "cell_type": "code",
   "execution_count": 25,
   "id": "453e5e32-b981-4cde-a36f-1f9299de9bf1",
   "metadata": {},
   "outputs": [
    {
     "name": "stdout",
     "output_type": "stream",
     "text": [
      "gurl False\n",
      "lgbt False\n",
      "lgbtq False\n",
      "genderfluid False\n",
      "gender-fluid False\n",
      "gender fluid False\n",
      "straight False\n",
      "cisgender False\n",
      "cis False\n",
      "asexual False\n",
      "aro-ace False\n",
      "aro ace False\n",
      "aro/ace False\n",
      "mtf False\n",
      "ftm False\n",
      "neurodivergent False\n",
      "neurodiversity False\n",
      "autism False\n",
      "autist False\n",
      "autistic False\n",
      "mental health False\n",
      "adhd False\n",
      "dyslexia False\n",
      "dyslexic False\n",
      "asperger's False\n",
      "aspergers False\n",
      "asperger False\n",
      "savant True\n",
      "intellectual disability False\n",
      "bipolar False\n",
      "schizophrenia False\n",
      "ocd False\n",
      "antisocial False\n",
      "obsessive-compulsive False\n",
      "obsessive compulsive False\n",
      "disability False\n",
      "disabilities False\n",
      "disabled False\n",
      "anxiety disorder False\n",
      "retarded False\n",
      "depression False\n",
      "depressive False\n",
      "sandnigger True\n",
      "sandniggers False\n"
     ]
    }
   ],
   "source": [
    "# From WebSci 2020 paper, LGBTQ+ movement dissertation chapter\n",
    "terms = ['gurl', 'lgbt', 'lgbtq', 'genderfluid', 'gender-fluid', 'gender fluid', 'straight', 'cisgender', 'cis', \n",
    "         'asexual', 'aro-ace', 'aro ace', 'aro/ace', 'mtf', 'ftm', \n",
    "         'neurodivergent', 'neurodiversity', 'autism', 'autist', 'autistic','mental health', 'adhd', 'dyslexia', 'dyslexic', \n",
    "         \"asperger's\", \"aspergers\", 'asperger', 'savant', 'intellectual disability', 'bipolar', 'schizophrenia', 'ocd', 'antisocial', \n",
    "         'obsessive-compulsive', 'obsessive compulsive', 'disability', 'disabilities', 'disabled', 'anxiety disorder', 'retarded', 'depression',\n",
    "        'depressive', 'sandnigger', 'sandniggers']\n",
    "for term in terms:\n",
    "    print(term, term in en_identities.term.tolist())"
   ]
  },
  {
   "cell_type": "code",
   "execution_count": 17,
   "id": "cacb9190-0496-4731-b220-bebb220f5fc8",
   "metadata": {},
   "outputs": [
    {
     "name": "stdout",
     "output_type": "stream",
     "text": [
      "black folks False\n",
      "caucasian True\n",
      "caucasians False\n",
      "heterosexual False\n",
      "heterosexuals False\n",
      "homosexuals True\n",
      "homosexual True\n",
      "buddhist True\n",
      "indigenous False\n",
      "native american True\n",
      "native americans True\n",
      "young adults False\n",
      "middle aged False\n",
      "seniors True\n",
      "old people True\n",
      "elderly True\n",
      "immigrants True\n",
      "refugees True\n",
      "immigrant True\n",
      "refugee True\n",
      "migrant True\n",
      "lesbian True\n",
      "lesbians True\n",
      "middle eastern False\n",
      "illegal aliens False\n",
      "arabian True\n",
      "arabians True\n"
     ]
    }
   ],
   "source": [
    "# From CoNLL 2022 paper\n",
    "terms = ['black folks', 'caucasian', 'caucasians', 'heterosexual', 'heterosexuals', 'homosexuals', 'homosexual', 'buddhist', 'indigenous',\n",
    "        'native american', 'native americans', 'young adults', 'middle aged', 'seniors', 'old people', 'elderly', 'immigrants', 'refugees', 'immigrant', 'refugee',\n",
    "        'migrant', 'lesbian', 'lesbians', 'middle eastern', 'illegal aliens', 'arabian', 'arabians']\n",
    "for term in terms:\n",
    "    print(term, term in en_identities.term.tolist())"
   ]
  },
  {
   "cell_type": "code",
   "execution_count": 94,
   "id": "aa3c3624-597b-47c2-9f55-d080ac1d53c2",
   "metadata": {},
   "outputs": [
    {
     "data": {
      "text/plain": [
       "['black american',\n",
       " 'black americans',\n",
       " 'black mamba boy',\n",
       " 'black mambas',\n",
       " 'black muslim',\n",
       " 'black muslims',\n",
       " 'black piranha',\n",
       " 'black prince',\n",
       " 'black sheep',\n",
       " 'black southafricans',\n",
       " 'black sudanese',\n",
       " 'million black sudanese',\n",
       " 'black swan',\n",
       " 'black widow',\n",
       " 'black wolf',\n",
       " 'blackfoot',\n",
       " 'blackhorse',\n",
       " 'blackman',\n",
       " 'blacksmith',\n",
       " 'blacksmiths',\n",
       " 'ex black',\n",
       " 'ex-black',\n",
       " 'royal black member',\n",
       " 'royal black members',\n",
       " 'royal black preceptory members',\n",
       " 'blackmailer',\n",
       " 'blackmailers']"
      ]
     },
     "execution_count": 94,
     "metadata": {},
     "output_type": "execute_result"
    }
   ],
   "source": [
    "[identity for identity in en_identities.term if 'black' in identity]"
   ]
  },
  {
   "cell_type": "code",
   "execution_count": 95,
   "id": "fc57d789-83ee-49c1-8ba0-62838ee0a639",
   "metadata": {},
   "outputs": [
    {
     "data": {
      "text/plain": [
       "['white man',\n",
       " 'whiteman',\n",
       " 'poorwhitetrash',\n",
       " 'whitenigger',\n",
       " 'whitetrash',\n",
       " 'ex white house aide',\n",
       " 'ex-white house aide',\n",
       " 'gangs of whites',\n",
       " 'nonwhites',\n",
       " 'white anglo saxon protestant',\n",
       " 'white anglo-saxon protestant',\n",
       " 'white house adviser',\n",
       " 'white house aide',\n",
       " 'white house aides',\n",
       " 'white houseofficials',\n",
       " 'white house spokesman',\n",
       " 'white house spokesperson',\n",
       " 'white house spokeswoman',\n",
       " 'white housespokesperson',\n",
       " 'white nile chairman',\n",
       " 'white slave',\n",
       " 'white witch']"
      ]
     },
     "execution_count": 95,
     "metadata": {},
     "output_type": "execute_result"
    }
   ],
   "source": [
    "[identity for identity in en_identities.term if 'white' in identity]"
   ]
  },
  {
   "cell_type": "code",
   "execution_count": 18,
   "id": "97ae4e48-9d83-4300-9939-09151bf350f8",
   "metadata": {},
   "outputs": [
    {
     "name": "stdout",
     "output_type": "stream",
     "text": [
      "18837\n"
     ]
    }
   ],
   "source": [
    "# Separate out stopwords\n",
    "stops = en_identities[en_identities['stop word']==1]\n",
    "exclude_list = ['don', 'other', 'others', 'friend', 'friends', 'people', 'who', 'asshole', 'dick',\n",
    "               'character', 'person', 'people', 'majority', 'bot', 'everyone', 'everyone here',\n",
    "                'officially', 'tech', 'individual', 'worker', 'workers', 'giant', 'human', 'humans', 'ass',\n",
    "                'nobody', 'brother', 'sister', 'mother', \"mother's\", 'father', 'daughter', 'son', 'mom', 'wife', 'wives', 'husband', 'husbands', 'cousin', 'cousins',\n",
    "                'they all', 'count', 'god', 'general', 'user', 'users', 'member', 'members', 'english', 'finish', 'slayer', 'speaker',\n",
    "                'misogynist', 'king', 'queen', 'rn', 'fellow', 'buddy', 'enemies', 'corpse', 'revolutionary', 'gymnast', 'messiah', 'jesus', 'embryo',\n",
    "                'dr', 'doctor', 'dahmer', 'characters', 'cheat', 'sexist', 'professional', 'client', 'mate', 'dad', 'customers', 'assholes', 'whose',\n",
    "                'mama', 'co-workers', 'employees', 'uncle', 'hermit', 'ogre', 'potter', 'phantom', 'dwellers', 'saviour', 'prophet', 'morons', 'guide',\n",
    "                'majors', 'partners', 'villain', 'agent', 'model', 'juggernaut', 'ego', 'avatar', 'player', 'dragon', 'pm', 'winner', 'winners', 'surrogate', 'nudes',\n",
    "               ]\n",
    "exclude = en_identities[en_identities['term'].isin(exclude_list)]\n",
    "identities = en_identities[(en_identities['stop word']!=1) & (~en_identities['term'].isin(exclude_list))]\n",
    "\n",
    "# Search for identity matches\n",
    "import re\n",
    "\n",
    "pats = [re.compile(r'\\b{}\\b'.format(re.escape(term))) for term in identities['term']]\n",
    "print(len(pats))\n",
    "\n",
    "def contains_match(text):\n",
    "    \"\"\" Return matched patterns present in text \"\"\" \n",
    "    return [re.search(p, str(text).lower()).group() for p in pats if re.search(p, str(text).lower()) is not None]\n",
    "\n",
    "from collections import Counter\n",
    "\n",
    "sample = data.sample(1000)"
   ]
  },
  {
   "cell_type": "markdown",
   "id": "54a71c5d-623d-4f4c-b0f9-9e62f8b1d44a",
   "metadata": {},
   "source": [
    "#### Check if terms are in incels data vocab"
   ]
  },
  {
   "cell_type": "code",
   "execution_count": 4,
   "id": "66a42301-8fcf-4f8f-b459-e2e837f2c3ae",
   "metadata": {},
   "outputs": [
    {
     "name": "stdout",
     "output_type": "stream",
     "text": [
      "28.3 s ± 0 ns per loop (mean ± std. dev. of 1 run, 1 loop each)\n"
     ]
    }
   ],
   "source": [
    "%%timeit -n 1 -r 1\n",
    "# Filter to terms present at least once in the combined text (make this as fast as possible)\n",
    "# vocab = set(data.content.astype('str').str.lower().str.split().sum()) # doesn't tokenize (remove punct) but whatever\n",
    "vocab = set()\n",
    "data.content.astype('str').str.lower().str.split().apply(vocab.update)\n",
    "len(vocab)"
   ]
  },
  {
   "cell_type": "code",
   "execution_count": 4,
   "id": "9a5a1251-2802-489a-a91c-64a58a275785",
   "metadata": {},
   "outputs": [
    {
     "data": {
      "text/html": [
       "<style>#sk-container-id-1 {color: black;background-color: white;}#sk-container-id-1 pre{padding: 0;}#sk-container-id-1 div.sk-toggleable {background-color: white;}#sk-container-id-1 label.sk-toggleable__label {cursor: pointer;display: block;width: 100%;margin-bottom: 0;padding: 0.3em;box-sizing: border-box;text-align: center;}#sk-container-id-1 label.sk-toggleable__label-arrow:before {content: \"▸\";float: left;margin-right: 0.25em;color: #696969;}#sk-container-id-1 label.sk-toggleable__label-arrow:hover:before {color: black;}#sk-container-id-1 div.sk-estimator:hover label.sk-toggleable__label-arrow:before {color: black;}#sk-container-id-1 div.sk-toggleable__content {max-height: 0;max-width: 0;overflow: hidden;text-align: left;background-color: #f0f8ff;}#sk-container-id-1 div.sk-toggleable__content pre {margin: 0.2em;color: black;border-radius: 0.25em;background-color: #f0f8ff;}#sk-container-id-1 input.sk-toggleable__control:checked~div.sk-toggleable__content {max-height: 200px;max-width: 100%;overflow: auto;}#sk-container-id-1 input.sk-toggleable__control:checked~label.sk-toggleable__label-arrow:before {content: \"▾\";}#sk-container-id-1 div.sk-estimator input.sk-toggleable__control:checked~label.sk-toggleable__label {background-color: #d4ebff;}#sk-container-id-1 div.sk-label input.sk-toggleable__control:checked~label.sk-toggleable__label {background-color: #d4ebff;}#sk-container-id-1 input.sk-hidden--visually {border: 0;clip: rect(1px 1px 1px 1px);clip: rect(1px, 1px, 1px, 1px);height: 1px;margin: -1px;overflow: hidden;padding: 0;position: absolute;width: 1px;}#sk-container-id-1 div.sk-estimator {font-family: monospace;background-color: #f0f8ff;border: 1px dotted black;border-radius: 0.25em;box-sizing: border-box;margin-bottom: 0.5em;}#sk-container-id-1 div.sk-estimator:hover {background-color: #d4ebff;}#sk-container-id-1 div.sk-parallel-item::after {content: \"\";width: 100%;border-bottom: 1px solid gray;flex-grow: 1;}#sk-container-id-1 div.sk-label:hover label.sk-toggleable__label {background-color: #d4ebff;}#sk-container-id-1 div.sk-serial::before {content: \"\";position: absolute;border-left: 1px solid gray;box-sizing: border-box;top: 0;bottom: 0;left: 50%;z-index: 0;}#sk-container-id-1 div.sk-serial {display: flex;flex-direction: column;align-items: center;background-color: white;padding-right: 0.2em;padding-left: 0.2em;position: relative;}#sk-container-id-1 div.sk-item {position: relative;z-index: 1;}#sk-container-id-1 div.sk-parallel {display: flex;align-items: stretch;justify-content: center;background-color: white;position: relative;}#sk-container-id-1 div.sk-item::before, #sk-container-id-1 div.sk-parallel-item::before {content: \"\";position: absolute;border-left: 1px solid gray;box-sizing: border-box;top: 0;bottom: 0;left: 50%;z-index: -1;}#sk-container-id-1 div.sk-parallel-item {display: flex;flex-direction: column;z-index: 1;position: relative;background-color: white;}#sk-container-id-1 div.sk-parallel-item:first-child::after {align-self: flex-end;width: 50%;}#sk-container-id-1 div.sk-parallel-item:last-child::after {align-self: flex-start;width: 50%;}#sk-container-id-1 div.sk-parallel-item:only-child::after {width: 0;}#sk-container-id-1 div.sk-dashed-wrapped {border: 1px dashed gray;margin: 0 0.4em 0.5em 0.4em;box-sizing: border-box;padding-bottom: 0.4em;background-color: white;}#sk-container-id-1 div.sk-label label {font-family: monospace;font-weight: bold;display: inline-block;line-height: 1.2em;}#sk-container-id-1 div.sk-label-container {text-align: center;}#sk-container-id-1 div.sk-container {/* jupyter's `normalize.less` sets `[hidden] { display: none; }` but bootstrap.min.css set `[hidden] { display: none !important; }` so we also need the `!important` here to be able to override the default hidden behavior on the sphinx rendered scikit-learn.org. See: https://github.com/scikit-learn/scikit-learn/issues/21755 */display: inline-block !important;position: relative;}#sk-container-id-1 div.sk-text-repr-fallback {display: none;}</style><div id=\"sk-container-id-1\" class=\"sk-top-container\"><div class=\"sk-text-repr-fallback\"><pre>CountVectorizer(ngram_range=(1, 2))</pre><b>In a Jupyter environment, please rerun this cell to show the HTML representation or trust the notebook. <br />On GitHub, the HTML representation is unable to render, please try loading this page with nbviewer.org.</b></div><div class=\"sk-container\" hidden><div class=\"sk-item\"><div class=\"sk-estimator sk-toggleable\"><input class=\"sk-toggleable__control sk-hidden--visually\" id=\"sk-estimator-id-1\" type=\"checkbox\" checked><label for=\"sk-estimator-id-1\" class=\"sk-toggleable__label sk-toggleable__label-arrow\">CountVectorizer</label><div class=\"sk-toggleable__content\"><pre>CountVectorizer(ngram_range=(1, 2))</pre></div></div></div></div></div>"
      ],
      "text/plain": [
       "CountVectorizer(ngram_range=(1, 2))"
      ]
     },
     "execution_count": 4,
     "metadata": {},
     "output_type": "execute_result"
    }
   ],
   "source": [
    "# Try unigrams and bigrams with sklearn\n",
    "from sklearn.feature_extraction.text import CountVectorizer\n",
    "\n",
    "vectorizer = CountVectorizer(ngram_range=(1,2), min_df=1)\n",
    "vectorizer.fit(data.content.astype('str'))"
   ]
  },
  {
   "cell_type": "code",
   "execution_count": 6,
   "id": "d050caf8-d158-4025-8778-142faf309259",
   "metadata": {
    "scrolled": true,
    "tags": []
   },
   "outputs": [
    {
     "data": {
      "text/plain": [
       "13283289"
      ]
     },
     "execution_count": 6,
     "metadata": {},
     "output_type": "execute_result"
    }
   ],
   "source": [
    "len(vectorizer.vocabulary_)"
   ]
  },
  {
   "cell_type": "code",
   "execution_count": 8,
   "id": "76b371e0-635c-455a-b12d-0897b3363282",
   "metadata": {},
   "outputs": [
    {
     "name": "stdout",
     "output_type": "stream",
     "text": [
      "4min 38s ± 0 ns per loop (mean ± std. dev. of 1 run, 1 loop each)\n"
     ]
    }
   ],
   "source": [
    "%%timeit -n 1 -r 1\n",
    "\n",
    "# Try unigrams and bigrams with sklearn\n",
    "from sklearn.feature_extraction.text import CountVectorizer\n",
    "\n",
    "vectorizer = CountVectorizer(ngram_range=(1,2), min_df=1)\n",
    "vectorizer.fit(data.content.astype('str'))"
   ]
  },
  {
   "cell_type": "code",
   "execution_count": null,
   "id": "c6f4a264-5471-4eb8-9e62-db424f8f9c59",
   "metadata": {},
   "outputs": [],
   "source": [
    "%%timeit -n 1 -r 1\n",
    "# Never finished--waaaay longer than 5 mins\n",
    "import itertools\n",
    "\n",
    "vocab = set()\n",
    "splits = data.content.astype('str').str.lower().str.split().apply(lambda x: vocab.update(itertools.permutations(x, 2)))\n",
    "len(vocab)"
   ]
  },
  {
   "cell_type": "code",
   "execution_count": 19,
   "id": "a1d5d75b-0f5d-4396-bd7f-a76fc249c173",
   "metadata": {},
   "outputs": [
    {
     "data": {
      "text/plain": [
       "5564"
      ]
     },
     "execution_count": 19,
     "metadata": {},
     "output_type": "execute_result"
    }
   ],
   "source": [
    "from tqdm.notebook import tqdm\n",
    "\n",
    "present_terms = [term for term in identities['term'] if term in vocab]\n",
    "len(present_terms)"
   ]
  },
  {
   "cell_type": "code",
   "execution_count": 21,
   "id": "fec453c5-01d2-4dc4-8aef-06039db166d3",
   "metadata": {
    "scrolled": true,
    "tags": []
   },
   "outputs": [],
   "source": [
    "pats_combo = re.compile(r'|'.join([(r'\\b{}\\b'.format(re.escape(term.lower()))) for term in present_terms]))\n",
    "# pats_combo\n",
    "\n",
    "def contains_match(text):\n",
    "    \"\"\" Return matched patterns present in text \"\"\" \n",
    "    return re.findall(pats_combo, str(text).lower())"
   ]
  },
  {
   "cell_type": "code",
   "execution_count": 21,
   "id": "5032667f-1d38-45e8-8f58-f3c378d662a9",
   "metadata": {
    "scrolled": true,
    "tags": []
   },
   "outputs": [
    {
     "name": "stdout",
     "output_type": "stream",
     "text": [
      "58.5 s ± 0 ns per loop (mean ± std. dev. of 1 run, 1 loop each)\n"
     ]
    }
   ],
   "source": [
    "%%timeit -n 1 -r 1\n",
    "# With separate re.search\n",
    "\n",
    "sample['nm_identity_matches'] = sample.content.map(contains_match)\n",
    "# sample[sample.nm_identity_matches.str.len() > 0]"
   ]
  },
  {
   "cell_type": "code",
   "execution_count": 22,
   "id": "af08f58c-4a15-4b32-8fef-683908b1f7c3",
   "metadata": {
    "scrolled": true,
    "tags": []
   },
   "outputs": [],
   "source": [
    "# %%timeit -n 1 -r 3\n",
    "# With combined re\n",
    "\n",
    "sample['nm_identity_matches'] = sample.content.map(contains_match)\n",
    "# sample[sample.nm_identity_matches.str.len() > 0]"
   ]
  },
  {
   "cell_type": "code",
   "execution_count": null,
   "id": "b2d51ddd-3d24-4cad-ba3a-7e77fdb27aac",
   "metadata": {
    "scrolled": true,
    "tags": []
   },
   "outputs": [],
   "source": [
    "identity_ctr = Counter(sample.nm_identity_matches.sum())\n",
    "identity_ctr.most_common()"
   ]
  },
  {
   "cell_type": "markdown",
   "id": "935bf496-0236-48d4-9e3e-9c386ade94de",
   "metadata": {},
   "source": [
    "### Identities_tags 2022 (from Josh)"
   ]
  },
  {
   "cell_type": "code",
   "execution_count": 36,
   "id": "01d86509-747f-47ea-bc60-3b3af4fdc614",
   "metadata": {},
   "outputs": [
    {
     "name": "stdout",
     "output_type": "stream",
     "text": [
      "<class 'pandas.core.frame.DataFrame'>\n",
      "RangeIndex: 7166 entries, 0 to 7165\n",
      "Data columns (total 8 columns):\n",
      " #   Column            Non-Null Count  Dtype  \n",
      "---  ------            --------------  -----  \n",
      " 0   IDENTITY          7166 non-null   object \n",
      " 1   FAMILY            7166 non-null   int64  \n",
      " 2   POLITICAL         7165 non-null   object \n",
      " 3   GENDER            7165 non-null   float64\n",
      " 4   RELIGION          7166 non-null   int64  \n",
      " 5   RACE/NATIONALITY  7166 non-null   int64  \n",
      " 6   JOB               7166 non-null   int64  \n",
      " 7   OTHER             7166 non-null   int64  \n",
      "dtypes: float64(1), int64(5), object(2)\n",
      "memory usage: 448.0+ KB\n"
     ]
    }
   ],
   "source": [
    "# Load identity terms\n",
    "import pandas as pd\n",
    "\n",
    "nm_identities_path = '../resources/identities_tags_v2_2022_5_26.xslx'\n",
    "nm_identities = pd.read_excel(nm_identities_path)\n",
    "nm_identities.info()"
   ]
  },
  {
   "cell_type": "code",
   "execution_count": 56,
   "id": "56cb2566-7f00-45cc-90f6-5540bbb791fa",
   "metadata": {
    "scrolled": true,
    "tags": []
   },
   "outputs": [
    {
     "data": {
      "text/plain": [
       "6767"
      ]
     },
     "execution_count": 56,
     "metadata": {},
     "output_type": "execute_result"
    }
   ],
   "source": [
    "new_identities = nm_identities.IDENTITY.str.replace('_', ' ').str.lower()\n",
    "len(set(new_identities).intersection(en_identities.term))"
   ]
  },
  {
   "cell_type": "code",
   "execution_count": 42,
   "id": "176692e0-2daa-4189-9796-e63b486442d9",
   "metadata": {},
   "outputs": [
    {
     "data": {
      "text/plain": [
       "1782573"
      ]
     },
     "execution_count": 42,
     "metadata": {},
     "output_type": "execute_result"
    }
   ],
   "source": [
    "# Filter to terms present at least once in the combined text (make this as fast as possible)\n",
    "vocab = set()\n",
    "data.content.astype('str').str.lower().str.split().apply(vocab.update)\n",
    "len(vocab)"
   ]
  },
  {
   "cell_type": "code",
   "execution_count": 57,
   "id": "061ee924-3393-41b0-8018-eb4ca0e2ac23",
   "metadata": {},
   "outputs": [
    {
     "name": "stdout",
     "output_type": "stream",
     "text": [
      "5755\n",
      "2587\n"
     ]
    }
   ],
   "source": [
    "from tqdm.notebook import tqdm\n",
    "\n",
    "old_present_terms = [term for term in en_identities['term'] if term in vocab]\n",
    "print(len(old_present_terms))\n",
    "new_present_terms = [term for term in new_identities if term in vocab]\n",
    "print(len(new_present_terms))"
   ]
  },
  {
   "cell_type": "code",
   "execution_count": null,
   "id": "d4712372-b4f8-421d-8189-be5fd650fe44",
   "metadata": {
    "scrolled": true,
    "tags": []
   },
   "outputs": [],
   "source": [
    "# Look at terms in the old list that aren't present in the new one\n",
    "both = set(old_present_terms).intersection(set(new_present_terms))\n",
    "only_old = set(old_present_terms) - both\n",
    "print(len(only_old))\n",
    "only_old"
   ]
  },
  {
   "cell_type": "code",
   "execution_count": 59,
   "id": "e077739e-daa4-4606-b045-6167569d3bc1",
   "metadata": {},
   "outputs": [
    {
     "name": "stdout",
     "output_type": "stream",
     "text": [
      "21\n"
     ]
    },
    {
     "data": {
      "text/plain": [
       "{'al-awsat',\n",
       " 'animal',\n",
       " 'bad',\n",
       " 'baptist',\n",
       " 'bless',\n",
       " 'bs',\n",
       " 'casualties',\n",
       " 'constituency',\n",
       " 'cunt',\n",
       " 'elite',\n",
       " 'fed',\n",
       " 'genius',\n",
       " 'homeless',\n",
       " 'imposer',\n",
       " 'major',\n",
       " 'non-alcoholic',\n",
       " 'penitent',\n",
       " 'population',\n",
       " 'psychotic',\n",
       " 'sex-worker',\n",
       " 'wiseguy'}"
      ]
     },
     "execution_count": 59,
     "metadata": {},
     "output_type": "execute_result"
    }
   ],
   "source": [
    "only_new = set(new_present_terms) - both\n",
    "print(len(only_new))\n",
    "only_new"
   ]
  },
  {
   "cell_type": "markdown",
   "id": "d0209e09-b056-472a-8659-81fbb7c9f34b",
   "metadata": {},
   "source": [
    "#### Get annotations for identity categories\n",
    "Save out to identity_categories.json"
   ]
  },
  {
   "cell_type": "code",
   "execution_count": 61,
   "id": "b4ab19e9-4ec7-4354-8e25-9ea2b4dce4cf",
   "metadata": {},
   "outputs": [
    {
     "data": {
      "text/plain": [
       "2587"
      ]
     },
     "execution_count": 61,
     "metadata": {},
     "output_type": "execute_result"
    }
   ],
   "source": [
    "filtered = nm_identities[nm_identities.IDENTITY.str.lower().isin(new_present_terms)]\n",
    "len(filtered)"
   ]
  },
  {
   "cell_type": "code",
   "execution_count": 52,
   "id": "234fb62a-035e-4c87-8224-3151bf6fb6fa",
   "metadata": {},
   "outputs": [
    {
     "data": {
      "text/plain": [
       "Index(['IDENTITY', 'FAMILY', 'POLITICAL', 'GENDER', 'RELIGION',\n",
       "       'RACE/NATIONALITY', 'JOB', 'OTHER'],\n",
       "      dtype='object')"
      ]
     },
     "execution_count": 52,
     "metadata": {},
     "output_type": "execute_result"
    }
   ],
   "source": [
    "filtered.columns"
   ]
  },
  {
   "cell_type": "code",
   "execution_count": 85,
   "id": "c824c99b-77bb-4d37-bc30-27b17b34b429",
   "metadata": {
    "scrolled": true,
    "tags": []
   },
   "outputs": [
    {
     "data": {
      "text/plain": [
       "98"
      ]
     },
     "execution_count": 85,
     "metadata": {},
     "output_type": "execute_result"
    }
   ],
   "source": [
    "political_present = filtered.loc[nm_identities.POLITICAL == 1, 'IDENTITY'].str.lower()\n",
    "annotations = {term: 'politics' for term in political_present}\n",
    "len(annotations)"
   ]
  },
  {
   "cell_type": "code",
   "execution_count": 86,
   "id": "21533399-34c7-41ce-a72d-991dcbd7e764",
   "metadata": {
    "scrolled": true,
    "tags": []
   },
   "outputs": [
    {
     "data": {
      "text/plain": [
       "268"
      ]
     },
     "execution_count": 86,
     "metadata": {},
     "output_type": "execute_result"
    }
   ],
   "source": [
    "gender_present = filtered.loc[nm_identities.GENDER == 1, 'IDENTITY'].str.lower()\n",
    "annotations.update({term: 'gender/sexuality' for term in gender_present})\n",
    "len(annotations)"
   ]
  },
  {
   "cell_type": "code",
   "execution_count": 87,
   "id": "35db6879-66e9-4216-bcca-7dcb696c317f",
   "metadata": {
    "scrolled": true,
    "tags": []
   },
   "outputs": [
    {
     "data": {
      "text/plain": [
       "366"
      ]
     },
     "execution_count": 87,
     "metadata": {},
     "output_type": "execute_result"
    }
   ],
   "source": [
    "religion_present = filtered.loc[nm_identities.RELIGION == 1, 'IDENTITY'].str.lower()\n",
    "annotations.update({term: 'religion' for term in religion_present})\n",
    "len(annotations)"
   ]
  },
  {
   "cell_type": "code",
   "execution_count": 88,
   "id": "0b0a00b4-3ac5-4704-8c92-fb4c701c6b32",
   "metadata": {
    "scrolled": true,
    "tags": []
   },
   "outputs": [
    {
     "data": {
      "text/plain": [
       "708"
      ]
     },
     "execution_count": 88,
     "metadata": {},
     "output_type": "execute_result"
    }
   ],
   "source": [
    "race_nationality_present = filtered.loc[nm_identities['RACE/NATIONALITY'] == 1, 'IDENTITY'].str.lower()\n",
    "annotations.update({term: 'race/ethnicity' for term in race_nationality_present}) # shouldn't really include nationalities\n",
    "len(annotations)"
   ]
  },
  {
   "cell_type": "code",
   "execution_count": 95,
   "id": "7d3559a2-399f-42b8-ad83-2dd68e145fa5",
   "metadata": {},
   "outputs": [
    {
     "data": {
      "text/plain": [
       "980"
      ]
     },
     "execution_count": 95,
     "metadata": {},
     "output_type": "execute_result"
    }
   ],
   "source": [
    "identity_cats.update(annotations)\n",
    "len(identity_cats)"
   ]
  },
  {
   "cell_type": "code",
   "execution_count": 97,
   "id": "a777650c-1f06-4116-a174-ba0fe30a45b4",
   "metadata": {},
   "outputs": [],
   "source": [
    "# Save out to identity_categories.json\n",
    "identity_cats_fpath = '../resources/identity_categories.json'\n",
    "with open(identity_cats_fpath, 'w') as f:\n",
    "    json.dump(identity_cats, f, indent=4)"
   ]
  },
  {
   "cell_type": "markdown",
   "id": "732a2ed1-3c62-426f-836b-4e1e4d11c35f",
   "metadata": {},
   "source": [
    "# Visualize identity term matches"
   ]
  },
  {
   "cell_type": "code",
   "execution_count": 26,
   "id": "b10ad7e0-d4e2-43dc-a751-34e64df8e386",
   "metadata": {},
   "outputs": [
    {
     "name": "stdout",
     "output_type": "stream",
     "text": [
      "<class 'pandas.core.frame.DataFrame'>\n",
      "RangeIndex: 6248230 entries, 0 to 6248229\n",
      "Data columns (total 8 columns):\n",
      " #   Column                      Dtype         \n",
      "---  ------                      -----         \n",
      " 0   type                        object        \n",
      " 1   forum                       object        \n",
      " 2   thread                      object        \n",
      " 3   username                    object        \n",
      " 4   date                        object        \n",
      " 5   content                     object        \n",
      " 6   parsed_date                 datetime64[ns]\n",
      " 7   netmapper_identity_matches  object        \n",
      "dtypes: datetime64[ns](1), object(7)\n",
      "memory usage: 381.4+ MB\n"
     ]
    }
   ],
   "source": [
    "# Load data with identity term matches extracted\n",
    "import pandas as pd\n",
    "\n",
    "path = '../../data/incels/processed_comments.pkl'\n",
    "data = pd.read_pickle(path)\n",
    "data.info()"
   ]
  },
  {
   "cell_type": "markdown",
   "id": "4a8395f9-03ad-4c4b-8229-4d5c4229201b",
   "metadata": {},
   "source": [
    "## Total matches"
   ]
  },
  {
   "cell_type": "code",
   "execution_count": 27,
   "id": "f5b81c54-0f05-42d7-92cd-7f70291076f1",
   "metadata": {},
   "outputs": [
    {
     "data": {
      "application/vnd.plotly.v1+json": {
       "config": {
        "plotlyServerURL": "https://plot.ly"
       },
       "data": [
        {
         "alignmentgroup": "True",
         "hovertemplate": "identity_term=%{x}<br>count=%{y}<extra></extra>",
         "legendgroup": "",
         "marker": {
          "color": "#636efa",
          "pattern": {
           "shape": ""
          }
         },
         "name": "",
         "offsetgroup": "",
         "orientation": "v",
         "showlegend": false,
         "textposition": "auto",
         "type": "bar",
         "x": [
          "women",
          "men",
          "man",
          "girls",
          "girl",
          "bro",
          "woman",
          "female",
          "male",
          "females",
          "virgin",
          "dude",
          "males",
          "gay",
          "kids",
          "whore",
          "whores",
          "asian",
          "bitch",
          "subhuman",
          "children",
          "jews",
          "whites",
          "wife",
          "kid",
          "child",
          "mom",
          "faggot",
          "autistic",
          "mother",
          "girlfriend",
          "autism",
          "nigger",
          "brother",
          "nigga",
          "father",
          "boy",
          "retard",
          "blacks",
          "cunt",
          "straight",
          "american",
          "feminist",
          "teen",
          "indian",
          "depression",
          "jewish",
          "boys",
          "son",
          "jew"
         ],
         "xaxis": "x",
         "y": [
          546358,
          394203,
          252608,
          175850,
          161699,
          150705,
          132928,
          131720,
          121245,
          85511,
          74810,
          68028,
          65007,
          64381,
          59433,
          55064,
          53916,
          53560,
          50786,
          50528,
          50388,
          46463,
          42816,
          42405,
          42101,
          41837,
          41515,
          40253,
          39987,
          38110,
          35170,
          33788,
          31714,
          30171,
          29852,
          27544,
          27411,
          27090,
          27042,
          26077,
          25798,
          24223,
          22317,
          22012,
          21991,
          21913,
          21173,
          21141,
          20618,
          20054
         ],
         "yaxis": "y"
        }
       ],
       "layout": {
        "autosize": true,
        "barmode": "relative",
        "legend": {
         "tracegroupgap": 0
        },
        "margin": {
         "t": 60
        },
        "template": {
         "data": {
          "bar": [
           {
            "error_x": {
             "color": "#2a3f5f"
            },
            "error_y": {
             "color": "#2a3f5f"
            },
            "marker": {
             "line": {
              "color": "#E5ECF6",
              "width": 0.5
             },
             "pattern": {
              "fillmode": "overlay",
              "size": 10,
              "solidity": 0.2
             }
            },
            "type": "bar"
           }
          ],
          "barpolar": [
           {
            "marker": {
             "line": {
              "color": "#E5ECF6",
              "width": 0.5
             },
             "pattern": {
              "fillmode": "overlay",
              "size": 10,
              "solidity": 0.2
             }
            },
            "type": "barpolar"
           }
          ],
          "carpet": [
           {
            "aaxis": {
             "endlinecolor": "#2a3f5f",
             "gridcolor": "white",
             "linecolor": "white",
             "minorgridcolor": "white",
             "startlinecolor": "#2a3f5f"
            },
            "baxis": {
             "endlinecolor": "#2a3f5f",
             "gridcolor": "white",
             "linecolor": "white",
             "minorgridcolor": "white",
             "startlinecolor": "#2a3f5f"
            },
            "type": "carpet"
           }
          ],
          "choropleth": [
           {
            "colorbar": {
             "outlinewidth": 0,
             "ticks": ""
            },
            "type": "choropleth"
           }
          ],
          "contour": [
           {
            "colorbar": {
             "outlinewidth": 0,
             "ticks": ""
            },
            "colorscale": [
             [
              0,
              "#0d0887"
             ],
             [
              0.1111111111111111,
              "#46039f"
             ],
             [
              0.2222222222222222,
              "#7201a8"
             ],
             [
              0.3333333333333333,
              "#9c179e"
             ],
             [
              0.4444444444444444,
              "#bd3786"
             ],
             [
              0.5555555555555556,
              "#d8576b"
             ],
             [
              0.6666666666666666,
              "#ed7953"
             ],
             [
              0.7777777777777778,
              "#fb9f3a"
             ],
             [
              0.8888888888888888,
              "#fdca26"
             ],
             [
              1,
              "#f0f921"
             ]
            ],
            "type": "contour"
           }
          ],
          "contourcarpet": [
           {
            "colorbar": {
             "outlinewidth": 0,
             "ticks": ""
            },
            "type": "contourcarpet"
           }
          ],
          "heatmap": [
           {
            "colorbar": {
             "outlinewidth": 0,
             "ticks": ""
            },
            "colorscale": [
             [
              0,
              "#0d0887"
             ],
             [
              0.1111111111111111,
              "#46039f"
             ],
             [
              0.2222222222222222,
              "#7201a8"
             ],
             [
              0.3333333333333333,
              "#9c179e"
             ],
             [
              0.4444444444444444,
              "#bd3786"
             ],
             [
              0.5555555555555556,
              "#d8576b"
             ],
             [
              0.6666666666666666,
              "#ed7953"
             ],
             [
              0.7777777777777778,
              "#fb9f3a"
             ],
             [
              0.8888888888888888,
              "#fdca26"
             ],
             [
              1,
              "#f0f921"
             ]
            ],
            "type": "heatmap"
           }
          ],
          "heatmapgl": [
           {
            "colorbar": {
             "outlinewidth": 0,
             "ticks": ""
            },
            "colorscale": [
             [
              0,
              "#0d0887"
             ],
             [
              0.1111111111111111,
              "#46039f"
             ],
             [
              0.2222222222222222,
              "#7201a8"
             ],
             [
              0.3333333333333333,
              "#9c179e"
             ],
             [
              0.4444444444444444,
              "#bd3786"
             ],
             [
              0.5555555555555556,
              "#d8576b"
             ],
             [
              0.6666666666666666,
              "#ed7953"
             ],
             [
              0.7777777777777778,
              "#fb9f3a"
             ],
             [
              0.8888888888888888,
              "#fdca26"
             ],
             [
              1,
              "#f0f921"
             ]
            ],
            "type": "heatmapgl"
           }
          ],
          "histogram": [
           {
            "marker": {
             "pattern": {
              "fillmode": "overlay",
              "size": 10,
              "solidity": 0.2
             }
            },
            "type": "histogram"
           }
          ],
          "histogram2d": [
           {
            "colorbar": {
             "outlinewidth": 0,
             "ticks": ""
            },
            "colorscale": [
             [
              0,
              "#0d0887"
             ],
             [
              0.1111111111111111,
              "#46039f"
             ],
             [
              0.2222222222222222,
              "#7201a8"
             ],
             [
              0.3333333333333333,
              "#9c179e"
             ],
             [
              0.4444444444444444,
              "#bd3786"
             ],
             [
              0.5555555555555556,
              "#d8576b"
             ],
             [
              0.6666666666666666,
              "#ed7953"
             ],
             [
              0.7777777777777778,
              "#fb9f3a"
             ],
             [
              0.8888888888888888,
              "#fdca26"
             ],
             [
              1,
              "#f0f921"
             ]
            ],
            "type": "histogram2d"
           }
          ],
          "histogram2dcontour": [
           {
            "colorbar": {
             "outlinewidth": 0,
             "ticks": ""
            },
            "colorscale": [
             [
              0,
              "#0d0887"
             ],
             [
              0.1111111111111111,
              "#46039f"
             ],
             [
              0.2222222222222222,
              "#7201a8"
             ],
             [
              0.3333333333333333,
              "#9c179e"
             ],
             [
              0.4444444444444444,
              "#bd3786"
             ],
             [
              0.5555555555555556,
              "#d8576b"
             ],
             [
              0.6666666666666666,
              "#ed7953"
             ],
             [
              0.7777777777777778,
              "#fb9f3a"
             ],
             [
              0.8888888888888888,
              "#fdca26"
             ],
             [
              1,
              "#f0f921"
             ]
            ],
            "type": "histogram2dcontour"
           }
          ],
          "mesh3d": [
           {
            "colorbar": {
             "outlinewidth": 0,
             "ticks": ""
            },
            "type": "mesh3d"
           }
          ],
          "parcoords": [
           {
            "line": {
             "colorbar": {
              "outlinewidth": 0,
              "ticks": ""
             }
            },
            "type": "parcoords"
           }
          ],
          "pie": [
           {
            "automargin": true,
            "type": "pie"
           }
          ],
          "scatter": [
           {
            "fillpattern": {
             "fillmode": "overlay",
             "size": 10,
             "solidity": 0.2
            },
            "type": "scatter"
           }
          ],
          "scatter3d": [
           {
            "line": {
             "colorbar": {
              "outlinewidth": 0,
              "ticks": ""
             }
            },
            "marker": {
             "colorbar": {
              "outlinewidth": 0,
              "ticks": ""
             }
            },
            "type": "scatter3d"
           }
          ],
          "scattercarpet": [
           {
            "marker": {
             "colorbar": {
              "outlinewidth": 0,
              "ticks": ""
             }
            },
            "type": "scattercarpet"
           }
          ],
          "scattergeo": [
           {
            "marker": {
             "colorbar": {
              "outlinewidth": 0,
              "ticks": ""
             }
            },
            "type": "scattergeo"
           }
          ],
          "scattergl": [
           {
            "marker": {
             "colorbar": {
              "outlinewidth": 0,
              "ticks": ""
             }
            },
            "type": "scattergl"
           }
          ],
          "scattermapbox": [
           {
            "marker": {
             "colorbar": {
              "outlinewidth": 0,
              "ticks": ""
             }
            },
            "type": "scattermapbox"
           }
          ],
          "scatterpolar": [
           {
            "marker": {
             "colorbar": {
              "outlinewidth": 0,
              "ticks": ""
             }
            },
            "type": "scatterpolar"
           }
          ],
          "scatterpolargl": [
           {
            "marker": {
             "colorbar": {
              "outlinewidth": 0,
              "ticks": ""
             }
            },
            "type": "scatterpolargl"
           }
          ],
          "scatterternary": [
           {
            "marker": {
             "colorbar": {
              "outlinewidth": 0,
              "ticks": ""
             }
            },
            "type": "scatterternary"
           }
          ],
          "surface": [
           {
            "colorbar": {
             "outlinewidth": 0,
             "ticks": ""
            },
            "colorscale": [
             [
              0,
              "#0d0887"
             ],
             [
              0.1111111111111111,
              "#46039f"
             ],
             [
              0.2222222222222222,
              "#7201a8"
             ],
             [
              0.3333333333333333,
              "#9c179e"
             ],
             [
              0.4444444444444444,
              "#bd3786"
             ],
             [
              0.5555555555555556,
              "#d8576b"
             ],
             [
              0.6666666666666666,
              "#ed7953"
             ],
             [
              0.7777777777777778,
              "#fb9f3a"
             ],
             [
              0.8888888888888888,
              "#fdca26"
             ],
             [
              1,
              "#f0f921"
             ]
            ],
            "type": "surface"
           }
          ],
          "table": [
           {
            "cells": {
             "fill": {
              "color": "#EBF0F8"
             },
             "line": {
              "color": "white"
             }
            },
            "header": {
             "fill": {
              "color": "#C8D4E3"
             },
             "line": {
              "color": "white"
             }
            },
            "type": "table"
           }
          ]
         },
         "layout": {
          "annotationdefaults": {
           "arrowcolor": "#2a3f5f",
           "arrowhead": 0,
           "arrowwidth": 1
          },
          "autotypenumbers": "strict",
          "coloraxis": {
           "colorbar": {
            "outlinewidth": 0,
            "ticks": ""
           }
          },
          "colorscale": {
           "diverging": [
            [
             0,
             "#8e0152"
            ],
            [
             0.1,
             "#c51b7d"
            ],
            [
             0.2,
             "#de77ae"
            ],
            [
             0.3,
             "#f1b6da"
            ],
            [
             0.4,
             "#fde0ef"
            ],
            [
             0.5,
             "#f7f7f7"
            ],
            [
             0.6,
             "#e6f5d0"
            ],
            [
             0.7,
             "#b8e186"
            ],
            [
             0.8,
             "#7fbc41"
            ],
            [
             0.9,
             "#4d9221"
            ],
            [
             1,
             "#276419"
            ]
           ],
           "sequential": [
            [
             0,
             "#0d0887"
            ],
            [
             0.1111111111111111,
             "#46039f"
            ],
            [
             0.2222222222222222,
             "#7201a8"
            ],
            [
             0.3333333333333333,
             "#9c179e"
            ],
            [
             0.4444444444444444,
             "#bd3786"
            ],
            [
             0.5555555555555556,
             "#d8576b"
            ],
            [
             0.6666666666666666,
             "#ed7953"
            ],
            [
             0.7777777777777778,
             "#fb9f3a"
            ],
            [
             0.8888888888888888,
             "#fdca26"
            ],
            [
             1,
             "#f0f921"
            ]
           ],
           "sequentialminus": [
            [
             0,
             "#0d0887"
            ],
            [
             0.1111111111111111,
             "#46039f"
            ],
            [
             0.2222222222222222,
             "#7201a8"
            ],
            [
             0.3333333333333333,
             "#9c179e"
            ],
            [
             0.4444444444444444,
             "#bd3786"
            ],
            [
             0.5555555555555556,
             "#d8576b"
            ],
            [
             0.6666666666666666,
             "#ed7953"
            ],
            [
             0.7777777777777778,
             "#fb9f3a"
            ],
            [
             0.8888888888888888,
             "#fdca26"
            ],
            [
             1,
             "#f0f921"
            ]
           ]
          },
          "colorway": [
           "#636efa",
           "#EF553B",
           "#00cc96",
           "#ab63fa",
           "#FFA15A",
           "#19d3f3",
           "#FF6692",
           "#B6E880",
           "#FF97FF",
           "#FECB52"
          ],
          "font": {
           "color": "#2a3f5f"
          },
          "geo": {
           "bgcolor": "white",
           "lakecolor": "white",
           "landcolor": "#E5ECF6",
           "showlakes": true,
           "showland": true,
           "subunitcolor": "white"
          },
          "hoverlabel": {
           "align": "left"
          },
          "hovermode": "closest",
          "mapbox": {
           "style": "light"
          },
          "paper_bgcolor": "white",
          "plot_bgcolor": "#E5ECF6",
          "polar": {
           "angularaxis": {
            "gridcolor": "white",
            "linecolor": "white",
            "ticks": ""
           },
           "bgcolor": "#E5ECF6",
           "radialaxis": {
            "gridcolor": "white",
            "linecolor": "white",
            "ticks": ""
           }
          },
          "scene": {
           "xaxis": {
            "backgroundcolor": "#E5ECF6",
            "gridcolor": "white",
            "gridwidth": 2,
            "linecolor": "white",
            "showbackground": true,
            "ticks": "",
            "zerolinecolor": "white"
           },
           "yaxis": {
            "backgroundcolor": "#E5ECF6",
            "gridcolor": "white",
            "gridwidth": 2,
            "linecolor": "white",
            "showbackground": true,
            "ticks": "",
            "zerolinecolor": "white"
           },
           "zaxis": {
            "backgroundcolor": "#E5ECF6",
            "gridcolor": "white",
            "gridwidth": 2,
            "linecolor": "white",
            "showbackground": true,
            "ticks": "",
            "zerolinecolor": "white"
           }
          },
          "shapedefaults": {
           "line": {
            "color": "#2a3f5f"
           }
          },
          "ternary": {
           "aaxis": {
            "gridcolor": "white",
            "linecolor": "white",
            "ticks": ""
           },
           "baxis": {
            "gridcolor": "white",
            "linecolor": "white",
            "ticks": ""
           },
           "bgcolor": "#E5ECF6",
           "caxis": {
            "gridcolor": "white",
            "linecolor": "white",
            "ticks": ""
           }
          },
          "title": {
           "x": 0.05
          },
          "xaxis": {
           "automargin": true,
           "gridcolor": "white",
           "linecolor": "white",
           "ticks": "",
           "title": {
            "standoff": 15
           },
           "zerolinecolor": "white",
           "zerolinewidth": 2
          },
          "yaxis": {
           "automargin": true,
           "gridcolor": "white",
           "linecolor": "white",
           "ticks": "",
           "title": {
            "standoff": 15
           },
           "zerolinecolor": "white",
           "zerolinewidth": 2
          }
         }
        },
        "xaxis": {
         "anchor": "y",
         "autorange": true,
         "domain": [
          0,
          1
         ],
         "range": [
          -0.5,
          49.5
         ],
         "tickangle": 45,
         "title": {
          "text": "identity_term"
         },
         "type": "category"
        },
        "yaxis": {
         "anchor": "x",
         "autorange": true,
         "domain": [
          0,
          1
         ],
         "range": [
          0,
          575113.6842105263
         ],
         "title": {
          "text": "count"
         },
         "type": "linear"
        }
       }
      },
      "image/png": "[encoded data removed]",
      "text/html": [
       "<div>                            <div id=\"9724c67f-472b-4740-bf16-f2217f482867\" class=\"plotly-graph-div\" style=\"height:525px; width:100%;\"></div>            <script type=\"text/javascript\">                require([\"plotly\"], function(Plotly) {                    window.PLOTLYENV=window.PLOTLYENV || {};                                    if (document.getElementById(\"9724c67f-472b-4740-bf16-f2217f482867\")) {                    Plotly.newPlot(                        \"9724c67f-472b-4740-bf16-f2217f482867\",                        [{\"alignmentgroup\":\"True\",\"hovertemplate\":\"identity_term=%{x}<br>count=%{y}<extra></extra>\",\"legendgroup\":\"\",\"marker\":{\"color\":\"#636efa\",\"pattern\":{\"shape\":\"\"}},\"name\":\"\",\"offsetgroup\":\"\",\"orientation\":\"v\",\"showlegend\":false,\"textposition\":\"auto\",\"x\":[\"women\",\"men\",\"man\",\"girls\",\"girl\",\"bro\",\"woman\",\"female\",\"male\",\"females\",\"virgin\",\"dude\",\"males\",\"gay\",\"kids\",\"whore\",\"whores\",\"asian\",\"bitch\",\"subhuman\",\"children\",\"jews\",\"whites\",\"wife\",\"kid\",\"child\",\"mom\",\"faggot\",\"autistic\",\"mother\",\"girlfriend\",\"autism\",\"nigger\",\"brother\",\"nigga\",\"father\",\"boy\",\"retard\",\"blacks\",\"cunt\",\"straight\",\"american\",\"feminist\",\"teen\",\"indian\",\"depression\",\"jewish\",\"boys\",\"son\",\"jew\"],\"xaxis\":\"x\",\"y\":[546358,394203,252608,175850,161699,150705,132928,131720,121245,85511,74810,68028,65007,64381,59433,55064,53916,53560,50786,50528,50388,46463,42816,42405,42101,41837,41515,40253,39987,38110,35170,33788,31714,30171,29852,27544,27411,27090,27042,26077,25798,24223,22317,22012,21991,21913,21173,21141,20618,20054],\"yaxis\":\"y\",\"type\":\"bar\"}],                        {\"template\":{\"data\":{\"histogram2dcontour\":[{\"type\":\"histogram2dcontour\",\"colorbar\":{\"outlinewidth\":0,\"ticks\":\"\"},\"colorscale\":[[0.0,\"#0d0887\"],[0.1111111111111111,\"#46039f\"],[0.2222222222222222,\"#7201a8\"],[0.3333333333333333,\"#9c179e\"],[0.4444444444444444,\"#bd3786\"],[0.5555555555555556,\"#d8576b\"],[0.6666666666666666,\"#ed7953\"],[0.7777777777777778,\"#fb9f3a\"],[0.8888888888888888,\"#fdca26\"],[1.0,\"#f0f921\"]]}],\"choropleth\":[{\"type\":\"choropleth\",\"colorbar\":{\"outlinewidth\":0,\"ticks\":\"\"}}],\"histogram2d\":[{\"type\":\"histogram2d\",\"colorbar\":{\"outlinewidth\":0,\"ticks\":\"\"},\"colorscale\":[[0.0,\"#0d0887\"],[0.1111111111111111,\"#46039f\"],[0.2222222222222222,\"#7201a8\"],[0.3333333333333333,\"#9c179e\"],[0.4444444444444444,\"#bd3786\"],[0.5555555555555556,\"#d8576b\"],[0.6666666666666666,\"#ed7953\"],[0.7777777777777778,\"#fb9f3a\"],[0.8888888888888888,\"#fdca26\"],[1.0,\"#f0f921\"]]}],\"heatmap\":[{\"type\":\"heatmap\",\"colorbar\":{\"outlinewidth\":0,\"ticks\":\"\"},\"colorscale\":[[0.0,\"#0d0887\"],[0.1111111111111111,\"#46039f\"],[0.2222222222222222,\"#7201a8\"],[0.3333333333333333,\"#9c179e\"],[0.4444444444444444,\"#bd3786\"],[0.5555555555555556,\"#d8576b\"],[0.6666666666666666,\"#ed7953\"],[0.7777777777777778,\"#fb9f3a\"],[0.8888888888888888,\"#fdca26\"],[1.0,\"#f0f921\"]]}],\"heatmapgl\":[{\"type\":\"heatmapgl\",\"colorbar\":{\"outlinewidth\":0,\"ticks\":\"\"},\"colorscale\":[[0.0,\"#0d0887\"],[0.1111111111111111,\"#46039f\"],[0.2222222222222222,\"#7201a8\"],[0.3333333333333333,\"#9c179e\"],[0.4444444444444444,\"#bd3786\"],[0.5555555555555556,\"#d8576b\"],[0.6666666666666666,\"#ed7953\"],[0.7777777777777778,\"#fb9f3a\"],[0.8888888888888888,\"#fdca26\"],[1.0,\"#f0f921\"]]}],\"contourcarpet\":[{\"type\":\"contourcarpet\",\"colorbar\":{\"outlinewidth\":0,\"ticks\":\"\"}}],\"contour\":[{\"type\":\"contour\",\"colorbar\":{\"outlinewidth\":0,\"ticks\":\"\"},\"colorscale\":[[0.0,\"#0d0887\"],[0.1111111111111111,\"#46039f\"],[0.2222222222222222,\"#7201a8\"],[0.3333333333333333,\"#9c179e\"],[0.4444444444444444,\"#bd3786\"],[0.5555555555555556,\"#d8576b\"],[0.6666666666666666,\"#ed7953\"],[0.7777777777777778,\"#fb9f3a\"],[0.8888888888888888,\"#fdca26\"],[1.0,\"#f0f921\"]]}],\"surface\":[{\"type\":\"surface\",\"colorbar\":{\"outlinewidth\":0,\"ticks\":\"\"},\"colorscale\":[[0.0,\"#0d0887\"],[0.1111111111111111,\"#46039f\"],[0.2222222222222222,\"#7201a8\"],[0.3333333333333333,\"#9c179e\"],[0.4444444444444444,\"#bd3786\"],[0.5555555555555556,\"#d8576b\"],[0.6666666666666666,\"#ed7953\"],[0.7777777777777778,\"#fb9f3a\"],[0.8888888888888888,\"#fdca26\"],[1.0,\"#f0f921\"]]}],\"mesh3d\":[{\"type\":\"mesh3d\",\"colorbar\":{\"outlinewidth\":0,\"ticks\":\"\"}}],\"scatter\":[{\"fillpattern\":{\"fillmode\":\"overlay\",\"size\":10,\"solidity\":0.2},\"type\":\"scatter\"}],\"parcoords\":[{\"type\":\"parcoords\",\"line\":{\"colorbar\":{\"outlinewidth\":0,\"ticks\":\"\"}}}],\"scatterpolargl\":[{\"type\":\"scatterpolargl\",\"marker\":{\"colorbar\":{\"outlinewidth\":0,\"ticks\":\"\"}}}],\"bar\":[{\"error_x\":{\"color\":\"#2a3f5f\"},\"error_y\":{\"color\":\"#2a3f5f\"},\"marker\":{\"line\":{\"color\":\"#E5ECF6\",\"width\":0.5},\"pattern\":{\"fillmode\":\"overlay\",\"size\":10,\"solidity\":0.2}},\"type\":\"bar\"}],\"scattergeo\":[{\"type\":\"scattergeo\",\"marker\":{\"colorbar\":{\"outlinewidth\":0,\"ticks\":\"\"}}}],\"scatterpolar\":[{\"type\":\"scatterpolar\",\"marker\":{\"colorbar\":{\"outlinewidth\":0,\"ticks\":\"\"}}}],\"histogram\":[{\"marker\":{\"pattern\":{\"fillmode\":\"overlay\",\"size\":10,\"solidity\":0.2}},\"type\":\"histogram\"}],\"scattergl\":[{\"type\":\"scattergl\",\"marker\":{\"colorbar\":{\"outlinewidth\":0,\"ticks\":\"\"}}}],\"scatter3d\":[{\"type\":\"scatter3d\",\"line\":{\"colorbar\":{\"outlinewidth\":0,\"ticks\":\"\"}},\"marker\":{\"colorbar\":{\"outlinewidth\":0,\"ticks\":\"\"}}}],\"scattermapbox\":[{\"type\":\"scattermapbox\",\"marker\":{\"colorbar\":{\"outlinewidth\":0,\"ticks\":\"\"}}}],\"scatterternary\":[{\"type\":\"scatterternary\",\"marker\":{\"colorbar\":{\"outlinewidth\":0,\"ticks\":\"\"}}}],\"scattercarpet\":[{\"type\":\"scattercarpet\",\"marker\":{\"colorbar\":{\"outlinewidth\":0,\"ticks\":\"\"}}}],\"carpet\":[{\"aaxis\":{\"endlinecolor\":\"#2a3f5f\",\"gridcolor\":\"white\",\"linecolor\":\"white\",\"minorgridcolor\":\"white\",\"startlinecolor\":\"#2a3f5f\"},\"baxis\":{\"endlinecolor\":\"#2a3f5f\",\"gridcolor\":\"white\",\"linecolor\":\"white\",\"minorgridcolor\":\"white\",\"startlinecolor\":\"#2a3f5f\"},\"type\":\"carpet\"}],\"table\":[{\"cells\":{\"fill\":{\"color\":\"#EBF0F8\"},\"line\":{\"color\":\"white\"}},\"header\":{\"fill\":{\"color\":\"#C8D4E3\"},\"line\":{\"color\":\"white\"}},\"type\":\"table\"}],\"barpolar\":[{\"marker\":{\"line\":{\"color\":\"#E5ECF6\",\"width\":0.5},\"pattern\":{\"fillmode\":\"overlay\",\"size\":10,\"solidity\":0.2}},\"type\":\"barpolar\"}],\"pie\":[{\"automargin\":true,\"type\":\"pie\"}]},\"layout\":{\"autotypenumbers\":\"strict\",\"colorway\":[\"#636efa\",\"#EF553B\",\"#00cc96\",\"#ab63fa\",\"#FFA15A\",\"#19d3f3\",\"#FF6692\",\"#B6E880\",\"#FF97FF\",\"#FECB52\"],\"font\":{\"color\":\"#2a3f5f\"},\"hovermode\":\"closest\",\"hoverlabel\":{\"align\":\"left\"},\"paper_bgcolor\":\"white\",\"plot_bgcolor\":\"#E5ECF6\",\"polar\":{\"bgcolor\":\"#E5ECF6\",\"angularaxis\":{\"gridcolor\":\"white\",\"linecolor\":\"white\",\"ticks\":\"\"},\"radialaxis\":{\"gridcolor\":\"white\",\"linecolor\":\"white\",\"ticks\":\"\"}},\"ternary\":{\"bgcolor\":\"#E5ECF6\",\"aaxis\":{\"gridcolor\":\"white\",\"linecolor\":\"white\",\"ticks\":\"\"},\"baxis\":{\"gridcolor\":\"white\",\"linecolor\":\"white\",\"ticks\":\"\"},\"caxis\":{\"gridcolor\":\"white\",\"linecolor\":\"white\",\"ticks\":\"\"}},\"coloraxis\":{\"colorbar\":{\"outlinewidth\":0,\"ticks\":\"\"}},\"colorscale\":{\"sequential\":[[0.0,\"#0d0887\"],[0.1111111111111111,\"#46039f\"],[0.2222222222222222,\"#7201a8\"],[0.3333333333333333,\"#9c179e\"],[0.4444444444444444,\"#bd3786\"],[0.5555555555555556,\"#d8576b\"],[0.6666666666666666,\"#ed7953\"],[0.7777777777777778,\"#fb9f3a\"],[0.8888888888888888,\"#fdca26\"],[1.0,\"#f0f921\"]],\"sequentialminus\":[[0.0,\"#0d0887\"],[0.1111111111111111,\"#46039f\"],[0.2222222222222222,\"#7201a8\"],[0.3333333333333333,\"#9c179e\"],[0.4444444444444444,\"#bd3786\"],[0.5555555555555556,\"#d8576b\"],[0.6666666666666666,\"#ed7953\"],[0.7777777777777778,\"#fb9f3a\"],[0.8888888888888888,\"#fdca26\"],[1.0,\"#f0f921\"]],\"diverging\":[[0,\"#8e0152\"],[0.1,\"#c51b7d\"],[0.2,\"#de77ae\"],[0.3,\"#f1b6da\"],[0.4,\"#fde0ef\"],[0.5,\"#f7f7f7\"],[0.6,\"#e6f5d0\"],[0.7,\"#b8e186\"],[0.8,\"#7fbc41\"],[0.9,\"#4d9221\"],[1,\"#276419\"]]},\"xaxis\":{\"gridcolor\":\"white\",\"linecolor\":\"white\",\"ticks\":\"\",\"title\":{\"standoff\":15},\"zerolinecolor\":\"white\",\"automargin\":true,\"zerolinewidth\":2},\"yaxis\":{\"gridcolor\":\"white\",\"linecolor\":\"white\",\"ticks\":\"\",\"title\":{\"standoff\":15},\"zerolinecolor\":\"white\",\"automargin\":true,\"zerolinewidth\":2},\"scene\":{\"xaxis\":{\"backgroundcolor\":\"#E5ECF6\",\"gridcolor\":\"white\",\"linecolor\":\"white\",\"showbackground\":true,\"ticks\":\"\",\"zerolinecolor\":\"white\",\"gridwidth\":2},\"yaxis\":{\"backgroundcolor\":\"#E5ECF6\",\"gridcolor\":\"white\",\"linecolor\":\"white\",\"showbackground\":true,\"ticks\":\"\",\"zerolinecolor\":\"white\",\"gridwidth\":2},\"zaxis\":{\"backgroundcolor\":\"#E5ECF6\",\"gridcolor\":\"white\",\"linecolor\":\"white\",\"showbackground\":true,\"ticks\":\"\",\"zerolinecolor\":\"white\",\"gridwidth\":2}},\"shapedefaults\":{\"line\":{\"color\":\"#2a3f5f\"}},\"annotationdefaults\":{\"arrowcolor\":\"#2a3f5f\",\"arrowhead\":0,\"arrowwidth\":1},\"geo\":{\"bgcolor\":\"white\",\"landcolor\":\"#E5ECF6\",\"subunitcolor\":\"white\",\"showland\":true,\"showlakes\":true,\"lakecolor\":\"white\"},\"title\":{\"x\":0.05},\"mapbox\":{\"style\":\"light\"}}},\"xaxis\":{\"anchor\":\"y\",\"domain\":[0.0,1.0],\"title\":{\"text\":\"identity_term\"},\"tickangle\":45},\"yaxis\":{\"anchor\":\"x\",\"domain\":[0.0,1.0],\"title\":{\"text\":\"count\"}},\"legend\":{\"tracegroupgap\":0},\"margin\":{\"t\":60},\"barmode\":\"relative\"},                        {\"responsive\": true}                    ).then(function(){\n",
       "                            \n",
       "var gd = document.getElementById('9724c67f-472b-4740-bf16-f2217f482867');\n",
       "var x = new MutationObserver(function (mutations, observer) {{\n",
       "        var display = window.getComputedStyle(gd).display;\n",
       "        if (!display || display === 'none') {{\n",
       "            console.log([gd, 'removed!']);\n",
       "            Plotly.purge(gd);\n",
       "            observer.disconnect();\n",
       "        }}\n",
       "}});\n",
       "\n",
       "// Listen for the removal of the full notebook cells\n",
       "var notebookContainer = gd.closest('#notebook-container');\n",
       "if (notebookContainer) {{\n",
       "    x.observe(notebookContainer, {childList: true});\n",
       "}}\n",
       "\n",
       "// Listen for the clearing of the current output cell\n",
       "var outputEl = gd.closest('.output');\n",
       "if (outputEl) {{\n",
       "    x.observe(outputEl, {childList: true});\n",
       "}}\n",
       "\n",
       "                        })                };                });            </script>        </div>"
      ]
     },
     "metadata": {},
     "output_type": "display_data"
    }
   ],
   "source": [
    "exp = data.explode('netmapper_identity_matches')\n",
    "# freq = pd.DataFrame(exploded.netmapper_identity_matches.value_counts(), columns=['term', 'count'])\n",
    "\n",
    "freq = exp.netmapper_identity_matches.value_counts().to_frame(name='count').reset_index(names='identity_term')\n",
    "freq.head(20)\n",
    "\n",
    "import plotly.express as px\n",
    "pd.options.plotting.backend = 'plotly'\n",
    "\n",
    "fig = px.bar(freq.head(50), x='identity_term', y='count')\n",
    "fig.update_xaxes(tickangle=45)"
   ]
  },
  {
   "cell_type": "markdown",
   "id": "3c6e9661-4214-48ed-84c1-8ab5d310b3a1",
   "metadata": {},
   "source": [
    "## Group identity terms"
   ]
  },
  {
   "cell_type": "code",
   "execution_count": 28,
   "id": "cfd215b7-cdce-45a5-baf2-d62dbe67ac3a",
   "metadata": {},
   "outputs": [
    {
     "name": "stdout",
     "output_type": "stream",
     "text": [
      "215\n"
     ]
    },
    {
     "data": {
      "application/vnd.plotly.v1+json": {
       "config": {
        "plotlyServerURL": "https://plot.ly"
       },
       "data": [
        {
         "alignmentgroup": "True",
         "hovertemplate": "identity_group=%{x}<br>count=%{y}<extra></extra>",
         "legendgroup": "",
         "marker": {
          "color": "#636efa",
          "pattern": {
           "shape": ""
          }
         },
         "name": "",
         "offsetgroup": "",
         "orientation": "v",
         "showlegend": false,
         "textposition": "auto",
         "type": "bar",
         "x": [
          "women_girls",
          "men_boys",
          "women_girls_derogatory",
          "youth",
          "men_boys_address",
          "lgbtq_people",
          "intellectual_disabilities",
          "asian_people",
          "black_people",
          "white_people",
          "jews",
          "virgins",
          "subhuman",
          "americans",
          "muslims",
          "straight",
          "latinx_people",
          "teachers",
          "racist",
          "police",
          "blonde",
          "german",
          "homeless",
          "immigrants_refugees",
          "liberal",
          "christian",
          "scum",
          "indians",
          "nazi",
          "boomers"
         ],
         "xaxis": "x",
         "y": [
          1812233,
          1285369,
          288138,
          265814,
          234724,
          205564,
          188566,
          155535,
          147849,
          113051,
          107526,
          94597,
          50528,
          32685,
          27365,
          25798,
          25410,
          19980,
          18723,
          18287,
          14381,
          14322,
          12004,
          11654,
          11438,
          11217,
          10003,
          9742,
          8918,
          8689
         ],
         "yaxis": "y"
        }
       ],
       "layout": {
        "autosize": true,
        "barmode": "relative",
        "legend": {
         "tracegroupgap": 0
        },
        "margin": {
         "t": 60
        },
        "template": {
         "data": {
          "bar": [
           {
            "error_x": {
             "color": "#2a3f5f"
            },
            "error_y": {
             "color": "#2a3f5f"
            },
            "marker": {
             "line": {
              "color": "#E5ECF6",
              "width": 0.5
             },
             "pattern": {
              "fillmode": "overlay",
              "size": 10,
              "solidity": 0.2
             }
            },
            "type": "bar"
           }
          ],
          "barpolar": [
           {
            "marker": {
             "line": {
              "color": "#E5ECF6",
              "width": 0.5
             },
             "pattern": {
              "fillmode": "overlay",
              "size": 10,
              "solidity": 0.2
             }
            },
            "type": "barpolar"
           }
          ],
          "carpet": [
           {
            "aaxis": {
             "endlinecolor": "#2a3f5f",
             "gridcolor": "white",
             "linecolor": "white",
             "minorgridcolor": "white",
             "startlinecolor": "#2a3f5f"
            },
            "baxis": {
             "endlinecolor": "#2a3f5f",
             "gridcolor": "white",
             "linecolor": "white",
             "minorgridcolor": "white",
             "startlinecolor": "#2a3f5f"
            },
            "type": "carpet"
           }
          ],
          "choropleth": [
           {
            "colorbar": {
             "outlinewidth": 0,
             "ticks": ""
            },
            "type": "choropleth"
           }
          ],
          "contour": [
           {
            "colorbar": {
             "outlinewidth": 0,
             "ticks": ""
            },
            "colorscale": [
             [
              0,
              "#0d0887"
             ],
             [
              0.1111111111111111,
              "#46039f"
             ],
             [
              0.2222222222222222,
              "#7201a8"
             ],
             [
              0.3333333333333333,
              "#9c179e"
             ],
             [
              0.4444444444444444,
              "#bd3786"
             ],
             [
              0.5555555555555556,
              "#d8576b"
             ],
             [
              0.6666666666666666,
              "#ed7953"
             ],
             [
              0.7777777777777778,
              "#fb9f3a"
             ],
             [
              0.8888888888888888,
              "#fdca26"
             ],
             [
              1,
              "#f0f921"
             ]
            ],
            "type": "contour"
           }
          ],
          "contourcarpet": [
           {
            "colorbar": {
             "outlinewidth": 0,
             "ticks": ""
            },
            "type": "contourcarpet"
           }
          ],
          "heatmap": [
           {
            "colorbar": {
             "outlinewidth": 0,
             "ticks": ""
            },
            "colorscale": [
             [
              0,
              "#0d0887"
             ],
             [
              0.1111111111111111,
              "#46039f"
             ],
             [
              0.2222222222222222,
              "#7201a8"
             ],
             [
              0.3333333333333333,
              "#9c179e"
             ],
             [
              0.4444444444444444,
              "#bd3786"
             ],
             [
              0.5555555555555556,
              "#d8576b"
             ],
             [
              0.6666666666666666,
              "#ed7953"
             ],
             [
              0.7777777777777778,
              "#fb9f3a"
             ],
             [
              0.8888888888888888,
              "#fdca26"
             ],
             [
              1,
              "#f0f921"
             ]
            ],
            "type": "heatmap"
           }
          ],
          "heatmapgl": [
           {
            "colorbar": {
             "outlinewidth": 0,
             "ticks": ""
            },
            "colorscale": [
             [
              0,
              "#0d0887"
             ],
             [
              0.1111111111111111,
              "#46039f"
             ],
             [
              0.2222222222222222,
              "#7201a8"
             ],
             [
              0.3333333333333333,
              "#9c179e"
             ],
             [
              0.4444444444444444,
              "#bd3786"
             ],
             [
              0.5555555555555556,
              "#d8576b"
             ],
             [
              0.6666666666666666,
              "#ed7953"
             ],
             [
              0.7777777777777778,
              "#fb9f3a"
             ],
             [
              0.8888888888888888,
              "#fdca26"
             ],
             [
              1,
              "#f0f921"
             ]
            ],
            "type": "heatmapgl"
           }
          ],
          "histogram": [
           {
            "marker": {
             "pattern": {
              "fillmode": "overlay",
              "size": 10,
              "solidity": 0.2
             }
            },
            "type": "histogram"
           }
          ],
          "histogram2d": [
           {
            "colorbar": {
             "outlinewidth": 0,
             "ticks": ""
            },
            "colorscale": [
             [
              0,
              "#0d0887"
             ],
             [
              0.1111111111111111,
              "#46039f"
             ],
             [
              0.2222222222222222,
              "#7201a8"
             ],
             [
              0.3333333333333333,
              "#9c179e"
             ],
             [
              0.4444444444444444,
              "#bd3786"
             ],
             [
              0.5555555555555556,
              "#d8576b"
             ],
             [
              0.6666666666666666,
              "#ed7953"
             ],
             [
              0.7777777777777778,
              "#fb9f3a"
             ],
             [
              0.8888888888888888,
              "#fdca26"
             ],
             [
              1,
              "#f0f921"
             ]
            ],
            "type": "histogram2d"
           }
          ],
          "histogram2dcontour": [
           {
            "colorbar": {
             "outlinewidth": 0,
             "ticks": ""
            },
            "colorscale": [
             [
              0,
              "#0d0887"
             ],
             [
              0.1111111111111111,
              "#46039f"
             ],
             [
              0.2222222222222222,
              "#7201a8"
             ],
             [
              0.3333333333333333,
              "#9c179e"
             ],
             [
              0.4444444444444444,
              "#bd3786"
             ],
             [
              0.5555555555555556,
              "#d8576b"
             ],
             [
              0.6666666666666666,
              "#ed7953"
             ],
             [
              0.7777777777777778,
              "#fb9f3a"
             ],
             [
              0.8888888888888888,
              "#fdca26"
             ],
             [
              1,
              "#f0f921"
             ]
            ],
            "type": "histogram2dcontour"
           }
          ],
          "mesh3d": [
           {
            "colorbar": {
             "outlinewidth": 0,
             "ticks": ""
            },
            "type": "mesh3d"
           }
          ],
          "parcoords": [
           {
            "line": {
             "colorbar": {
              "outlinewidth": 0,
              "ticks": ""
             }
            },
            "type": "parcoords"
           }
          ],
          "pie": [
           {
            "automargin": true,
            "type": "pie"
           }
          ],
          "scatter": [
           {
            "fillpattern": {
             "fillmode": "overlay",
             "size": 10,
             "solidity": 0.2
            },
            "type": "scatter"
           }
          ],
          "scatter3d": [
           {
            "line": {
             "colorbar": {
              "outlinewidth": 0,
              "ticks": ""
             }
            },
            "marker": {
             "colorbar": {
              "outlinewidth": 0,
              "ticks": ""
             }
            },
            "type": "scatter3d"
           }
          ],
          "scattercarpet": [
           {
            "marker": {
             "colorbar": {
              "outlinewidth": 0,
              "ticks": ""
             }
            },
            "type": "scattercarpet"
           }
          ],
          "scattergeo": [
           {
            "marker": {
             "colorbar": {
              "outlinewidth": 0,
              "ticks": ""
             }
            },
            "type": "scattergeo"
           }
          ],
          "scattergl": [
           {
            "marker": {
             "colorbar": {
              "outlinewidth": 0,
              "ticks": ""
             }
            },
            "type": "scattergl"
           }
          ],
          "scattermapbox": [
           {
            "marker": {
             "colorbar": {
              "outlinewidth": 0,
              "ticks": ""
             }
            },
            "type": "scattermapbox"
           }
          ],
          "scatterpolar": [
           {
            "marker": {
             "colorbar": {
              "outlinewidth": 0,
              "ticks": ""
             }
            },
            "type": "scatterpolar"
           }
          ],
          "scatterpolargl": [
           {
            "marker": {
             "colorbar": {
              "outlinewidth": 0,
              "ticks": ""
             }
            },
            "type": "scatterpolargl"
           }
          ],
          "scatterternary": [
           {
            "marker": {
             "colorbar": {
              "outlinewidth": 0,
              "ticks": ""
             }
            },
            "type": "scatterternary"
           }
          ],
          "surface": [
           {
            "colorbar": {
             "outlinewidth": 0,
             "ticks": ""
            },
            "colorscale": [
             [
              0,
              "#0d0887"
             ],
             [
              0.1111111111111111,
              "#46039f"
             ],
             [
              0.2222222222222222,
              "#7201a8"
             ],
             [
              0.3333333333333333,
              "#9c179e"
             ],
             [
              0.4444444444444444,
              "#bd3786"
             ],
             [
              0.5555555555555556,
              "#d8576b"
             ],
             [
              0.6666666666666666,
              "#ed7953"
             ],
             [
              0.7777777777777778,
              "#fb9f3a"
             ],
             [
              0.8888888888888888,
              "#fdca26"
             ],
             [
              1,
              "#f0f921"
             ]
            ],
            "type": "surface"
           }
          ],
          "table": [
           {
            "cells": {
             "fill": {
              "color": "#EBF0F8"
             },
             "line": {
              "color": "white"
             }
            },
            "header": {
             "fill": {
              "color": "#C8D4E3"
             },
             "line": {
              "color": "white"
             }
            },
            "type": "table"
           }
          ]
         },
         "layout": {
          "annotationdefaults": {
           "arrowcolor": "#2a3f5f",
           "arrowhead": 0,
           "arrowwidth": 1
          },
          "autotypenumbers": "strict",
          "coloraxis": {
           "colorbar": {
            "outlinewidth": 0,
            "ticks": ""
           }
          },
          "colorscale": {
           "diverging": [
            [
             0,
             "#8e0152"
            ],
            [
             0.1,
             "#c51b7d"
            ],
            [
             0.2,
             "#de77ae"
            ],
            [
             0.3,
             "#f1b6da"
            ],
            [
             0.4,
             "#fde0ef"
            ],
            [
             0.5,
             "#f7f7f7"
            ],
            [
             0.6,
             "#e6f5d0"
            ],
            [
             0.7,
             "#b8e186"
            ],
            [
             0.8,
             "#7fbc41"
            ],
            [
             0.9,
             "#4d9221"
            ],
            [
             1,
             "#276419"
            ]
           ],
           "sequential": [
            [
             0,
             "#0d0887"
            ],
            [
             0.1111111111111111,
             "#46039f"
            ],
            [
             0.2222222222222222,
             "#7201a8"
            ],
            [
             0.3333333333333333,
             "#9c179e"
            ],
            [
             0.4444444444444444,
             "#bd3786"
            ],
            [
             0.5555555555555556,
             "#d8576b"
            ],
            [
             0.6666666666666666,
             "#ed7953"
            ],
            [
             0.7777777777777778,
             "#fb9f3a"
            ],
            [
             0.8888888888888888,
             "#fdca26"
            ],
            [
             1,
             "#f0f921"
            ]
           ],
           "sequentialminus": [
            [
             0,
             "#0d0887"
            ],
            [
             0.1111111111111111,
             "#46039f"
            ],
            [
             0.2222222222222222,
             "#7201a8"
            ],
            [
             0.3333333333333333,
             "#9c179e"
            ],
            [
             0.4444444444444444,
             "#bd3786"
            ],
            [
             0.5555555555555556,
             "#d8576b"
            ],
            [
             0.6666666666666666,
             "#ed7953"
            ],
            [
             0.7777777777777778,
             "#fb9f3a"
            ],
            [
             0.8888888888888888,
             "#fdca26"
            ],
            [
             1,
             "#f0f921"
            ]
           ]
          },
          "colorway": [
           "#636efa",
           "#EF553B",
           "#00cc96",
           "#ab63fa",
           "#FFA15A",
           "#19d3f3",
           "#FF6692",
           "#B6E880",
           "#FF97FF",
           "#FECB52"
          ],
          "font": {
           "color": "#2a3f5f"
          },
          "geo": {
           "bgcolor": "white",
           "lakecolor": "white",
           "landcolor": "#E5ECF6",
           "showlakes": true,
           "showland": true,
           "subunitcolor": "white"
          },
          "hoverlabel": {
           "align": "left"
          },
          "hovermode": "closest",
          "mapbox": {
           "style": "light"
          },
          "paper_bgcolor": "white",
          "plot_bgcolor": "#E5ECF6",
          "polar": {
           "angularaxis": {
            "gridcolor": "white",
            "linecolor": "white",
            "ticks": ""
           },
           "bgcolor": "#E5ECF6",
           "radialaxis": {
            "gridcolor": "white",
            "linecolor": "white",
            "ticks": ""
           }
          },
          "scene": {
           "xaxis": {
            "backgroundcolor": "#E5ECF6",
            "gridcolor": "white",
            "gridwidth": 2,
            "linecolor": "white",
            "showbackground": true,
            "ticks": "",
            "zerolinecolor": "white"
           },
           "yaxis": {
            "backgroundcolor": "#E5ECF6",
            "gridcolor": "white",
            "gridwidth": 2,
            "linecolor": "white",
            "showbackground": true,
            "ticks": "",
            "zerolinecolor": "white"
           },
           "zaxis": {
            "backgroundcolor": "#E5ECF6",
            "gridcolor": "white",
            "gridwidth": 2,
            "linecolor": "white",
            "showbackground": true,
            "ticks": "",
            "zerolinecolor": "white"
           }
          },
          "shapedefaults": {
           "line": {
            "color": "#2a3f5f"
           }
          },
          "ternary": {
           "aaxis": {
            "gridcolor": "white",
            "linecolor": "white",
            "ticks": ""
           },
           "baxis": {
            "gridcolor": "white",
            "linecolor": "white",
            "ticks": ""
           },
           "bgcolor": "#E5ECF6",
           "caxis": {
            "gridcolor": "white",
            "linecolor": "white",
            "ticks": ""
           }
          },
          "title": {
           "x": 0.05
          },
          "xaxis": {
           "automargin": true,
           "gridcolor": "white",
           "linecolor": "white",
           "ticks": "",
           "title": {
            "standoff": 15
           },
           "zerolinecolor": "white",
           "zerolinewidth": 2
          },
          "yaxis": {
           "automargin": true,
           "gridcolor": "white",
           "linecolor": "white",
           "ticks": "",
           "title": {
            "standoff": 15
           },
           "zerolinecolor": "white",
           "zerolinewidth": 2
          }
         }
        },
        "xaxis": {
         "anchor": "y",
         "autorange": true,
         "domain": [
          0,
          1
         ],
         "range": [
          -0.5,
          29.5
         ],
         "tickangle": 45,
         "title": {
          "text": "identity_group"
         },
         "type": "category"
        },
        "yaxis": {
         "anchor": "x",
         "autorange": true,
         "domain": [
          0,
          1
         ],
         "range": [
          0,
          1907613.6842105263
         ],
         "title": {
          "text": "count"
         },
         "type": "linear"
        }
       }
      },
      "image/png": "[encoded data removed]",
      "text/html": [
       "<div>                            <div id=\"8813773e-06c3-466f-a9c1-35335cfcc854\" class=\"plotly-graph-div\" style=\"height:525px; width:100%;\"></div>            <script type=\"text/javascript\">                require([\"plotly\"], function(Plotly) {                    window.PLOTLYENV=window.PLOTLYENV || {};                                    if (document.getElementById(\"8813773e-06c3-466f-a9c1-35335cfcc854\")) {                    Plotly.newPlot(                        \"8813773e-06c3-466f-a9c1-35335cfcc854\",                        [{\"alignmentgroup\":\"True\",\"hovertemplate\":\"identity_group=%{x}<br>count=%{y}<extra></extra>\",\"legendgroup\":\"\",\"marker\":{\"color\":\"#636efa\",\"pattern\":{\"shape\":\"\"}},\"name\":\"\",\"offsetgroup\":\"\",\"orientation\":\"v\",\"showlegend\":false,\"textposition\":\"auto\",\"x\":[\"women_girls\",\"men_boys\",\"women_girls_derogatory\",\"youth\",\"men_boys_address\",\"lgbtq_people\",\"intellectual_disabilities\",\"asian_people\",\"black_people\",\"white_people\",\"jews\",\"virgins\",\"subhuman\",\"americans\",\"muslims\",\"straight\",\"latinx_people\",\"teachers\",\"racist\",\"police\",\"blonde\",\"german\",\"homeless\",\"immigrants_refugees\",\"liberal\",\"christian\",\"scum\",\"indians\",\"nazi\",\"boomers\"],\"xaxis\":\"x\",\"y\":[1812233,1285369,288138,265814,234724,205564,188566,155535,147849,113051,107526,94597,50528,32685,27365,25798,25410,19980,18723,18287,14381,14322,12004,11654,11438,11217,10003,9742,8918,8689],\"yaxis\":\"y\",\"type\":\"bar\"}],                        {\"template\":{\"data\":{\"histogram2dcontour\":[{\"type\":\"histogram2dcontour\",\"colorbar\":{\"outlinewidth\":0,\"ticks\":\"\"},\"colorscale\":[[0.0,\"#0d0887\"],[0.1111111111111111,\"#46039f\"],[0.2222222222222222,\"#7201a8\"],[0.3333333333333333,\"#9c179e\"],[0.4444444444444444,\"#bd3786\"],[0.5555555555555556,\"#d8576b\"],[0.6666666666666666,\"#ed7953\"],[0.7777777777777778,\"#fb9f3a\"],[0.8888888888888888,\"#fdca26\"],[1.0,\"#f0f921\"]]}],\"choropleth\":[{\"type\":\"choropleth\",\"colorbar\":{\"outlinewidth\":0,\"ticks\":\"\"}}],\"histogram2d\":[{\"type\":\"histogram2d\",\"colorbar\":{\"outlinewidth\":0,\"ticks\":\"\"},\"colorscale\":[[0.0,\"#0d0887\"],[0.1111111111111111,\"#46039f\"],[0.2222222222222222,\"#7201a8\"],[0.3333333333333333,\"#9c179e\"],[0.4444444444444444,\"#bd3786\"],[0.5555555555555556,\"#d8576b\"],[0.6666666666666666,\"#ed7953\"],[0.7777777777777778,\"#fb9f3a\"],[0.8888888888888888,\"#fdca26\"],[1.0,\"#f0f921\"]]}],\"heatmap\":[{\"type\":\"heatmap\",\"colorbar\":{\"outlinewidth\":0,\"ticks\":\"\"},\"colorscale\":[[0.0,\"#0d0887\"],[0.1111111111111111,\"#46039f\"],[0.2222222222222222,\"#7201a8\"],[0.3333333333333333,\"#9c179e\"],[0.4444444444444444,\"#bd3786\"],[0.5555555555555556,\"#d8576b\"],[0.6666666666666666,\"#ed7953\"],[0.7777777777777778,\"#fb9f3a\"],[0.8888888888888888,\"#fdca26\"],[1.0,\"#f0f921\"]]}],\"heatmapgl\":[{\"type\":\"heatmapgl\",\"colorbar\":{\"outlinewidth\":0,\"ticks\":\"\"},\"colorscale\":[[0.0,\"#0d0887\"],[0.1111111111111111,\"#46039f\"],[0.2222222222222222,\"#7201a8\"],[0.3333333333333333,\"#9c179e\"],[0.4444444444444444,\"#bd3786\"],[0.5555555555555556,\"#d8576b\"],[0.6666666666666666,\"#ed7953\"],[0.7777777777777778,\"#fb9f3a\"],[0.8888888888888888,\"#fdca26\"],[1.0,\"#f0f921\"]]}],\"contourcarpet\":[{\"type\":\"contourcarpet\",\"colorbar\":{\"outlinewidth\":0,\"ticks\":\"\"}}],\"contour\":[{\"type\":\"contour\",\"colorbar\":{\"outlinewidth\":0,\"ticks\":\"\"},\"colorscale\":[[0.0,\"#0d0887\"],[0.1111111111111111,\"#46039f\"],[0.2222222222222222,\"#7201a8\"],[0.3333333333333333,\"#9c179e\"],[0.4444444444444444,\"#bd3786\"],[0.5555555555555556,\"#d8576b\"],[0.6666666666666666,\"#ed7953\"],[0.7777777777777778,\"#fb9f3a\"],[0.8888888888888888,\"#fdca26\"],[1.0,\"#f0f921\"]]}],\"surface\":[{\"type\":\"surface\",\"colorbar\":{\"outlinewidth\":0,\"ticks\":\"\"},\"colorscale\":[[0.0,\"#0d0887\"],[0.1111111111111111,\"#46039f\"],[0.2222222222222222,\"#7201a8\"],[0.3333333333333333,\"#9c179e\"],[0.4444444444444444,\"#bd3786\"],[0.5555555555555556,\"#d8576b\"],[0.6666666666666666,\"#ed7953\"],[0.7777777777777778,\"#fb9f3a\"],[0.8888888888888888,\"#fdca26\"],[1.0,\"#f0f921\"]]}],\"mesh3d\":[{\"type\":\"mesh3d\",\"colorbar\":{\"outlinewidth\":0,\"ticks\":\"\"}}],\"scatter\":[{\"fillpattern\":{\"fillmode\":\"overlay\",\"size\":10,\"solidity\":0.2},\"type\":\"scatter\"}],\"parcoords\":[{\"type\":\"parcoords\",\"line\":{\"colorbar\":{\"outlinewidth\":0,\"ticks\":\"\"}}}],\"scatterpolargl\":[{\"type\":\"scatterpolargl\",\"marker\":{\"colorbar\":{\"outlinewidth\":0,\"ticks\":\"\"}}}],\"bar\":[{\"error_x\":{\"color\":\"#2a3f5f\"},\"error_y\":{\"color\":\"#2a3f5f\"},\"marker\":{\"line\":{\"color\":\"#E5ECF6\",\"width\":0.5},\"pattern\":{\"fillmode\":\"overlay\",\"size\":10,\"solidity\":0.2}},\"type\":\"bar\"}],\"scattergeo\":[{\"type\":\"scattergeo\",\"marker\":{\"colorbar\":{\"outlinewidth\":0,\"ticks\":\"\"}}}],\"scatterpolar\":[{\"type\":\"scatterpolar\",\"marker\":{\"colorbar\":{\"outlinewidth\":0,\"ticks\":\"\"}}}],\"histogram\":[{\"marker\":{\"pattern\":{\"fillmode\":\"overlay\",\"size\":10,\"solidity\":0.2}},\"type\":\"histogram\"}],\"scattergl\":[{\"type\":\"scattergl\",\"marker\":{\"colorbar\":{\"outlinewidth\":0,\"ticks\":\"\"}}}],\"scatter3d\":[{\"type\":\"scatter3d\",\"line\":{\"colorbar\":{\"outlinewidth\":0,\"ticks\":\"\"}},\"marker\":{\"colorbar\":{\"outlinewidth\":0,\"ticks\":\"\"}}}],\"scattermapbox\":[{\"type\":\"scattermapbox\",\"marker\":{\"colorbar\":{\"outlinewidth\":0,\"ticks\":\"\"}}}],\"scatterternary\":[{\"type\":\"scatterternary\",\"marker\":{\"colorbar\":{\"outlinewidth\":0,\"ticks\":\"\"}}}],\"scattercarpet\":[{\"type\":\"scattercarpet\",\"marker\":{\"colorbar\":{\"outlinewidth\":0,\"ticks\":\"\"}}}],\"carpet\":[{\"aaxis\":{\"endlinecolor\":\"#2a3f5f\",\"gridcolor\":\"white\",\"linecolor\":\"white\",\"minorgridcolor\":\"white\",\"startlinecolor\":\"#2a3f5f\"},\"baxis\":{\"endlinecolor\":\"#2a3f5f\",\"gridcolor\":\"white\",\"linecolor\":\"white\",\"minorgridcolor\":\"white\",\"startlinecolor\":\"#2a3f5f\"},\"type\":\"carpet\"}],\"table\":[{\"cells\":{\"fill\":{\"color\":\"#EBF0F8\"},\"line\":{\"color\":\"white\"}},\"header\":{\"fill\":{\"color\":\"#C8D4E3\"},\"line\":{\"color\":\"white\"}},\"type\":\"table\"}],\"barpolar\":[{\"marker\":{\"line\":{\"color\":\"#E5ECF6\",\"width\":0.5},\"pattern\":{\"fillmode\":\"overlay\",\"size\":10,\"solidity\":0.2}},\"type\":\"barpolar\"}],\"pie\":[{\"automargin\":true,\"type\":\"pie\"}]},\"layout\":{\"autotypenumbers\":\"strict\",\"colorway\":[\"#636efa\",\"#EF553B\",\"#00cc96\",\"#ab63fa\",\"#FFA15A\",\"#19d3f3\",\"#FF6692\",\"#B6E880\",\"#FF97FF\",\"#FECB52\"],\"font\":{\"color\":\"#2a3f5f\"},\"hovermode\":\"closest\",\"hoverlabel\":{\"align\":\"left\"},\"paper_bgcolor\":\"white\",\"plot_bgcolor\":\"#E5ECF6\",\"polar\":{\"bgcolor\":\"#E5ECF6\",\"angularaxis\":{\"gridcolor\":\"white\",\"linecolor\":\"white\",\"ticks\":\"\"},\"radialaxis\":{\"gridcolor\":\"white\",\"linecolor\":\"white\",\"ticks\":\"\"}},\"ternary\":{\"bgcolor\":\"#E5ECF6\",\"aaxis\":{\"gridcolor\":\"white\",\"linecolor\":\"white\",\"ticks\":\"\"},\"baxis\":{\"gridcolor\":\"white\",\"linecolor\":\"white\",\"ticks\":\"\"},\"caxis\":{\"gridcolor\":\"white\",\"linecolor\":\"white\",\"ticks\":\"\"}},\"coloraxis\":{\"colorbar\":{\"outlinewidth\":0,\"ticks\":\"\"}},\"colorscale\":{\"sequential\":[[0.0,\"#0d0887\"],[0.1111111111111111,\"#46039f\"],[0.2222222222222222,\"#7201a8\"],[0.3333333333333333,\"#9c179e\"],[0.4444444444444444,\"#bd3786\"],[0.5555555555555556,\"#d8576b\"],[0.6666666666666666,\"#ed7953\"],[0.7777777777777778,\"#fb9f3a\"],[0.8888888888888888,\"#fdca26\"],[1.0,\"#f0f921\"]],\"sequentialminus\":[[0.0,\"#0d0887\"],[0.1111111111111111,\"#46039f\"],[0.2222222222222222,\"#7201a8\"],[0.3333333333333333,\"#9c179e\"],[0.4444444444444444,\"#bd3786\"],[0.5555555555555556,\"#d8576b\"],[0.6666666666666666,\"#ed7953\"],[0.7777777777777778,\"#fb9f3a\"],[0.8888888888888888,\"#fdca26\"],[1.0,\"#f0f921\"]],\"diverging\":[[0,\"#8e0152\"],[0.1,\"#c51b7d\"],[0.2,\"#de77ae\"],[0.3,\"#f1b6da\"],[0.4,\"#fde0ef\"],[0.5,\"#f7f7f7\"],[0.6,\"#e6f5d0\"],[0.7,\"#b8e186\"],[0.8,\"#7fbc41\"],[0.9,\"#4d9221\"],[1,\"#276419\"]]},\"xaxis\":{\"gridcolor\":\"white\",\"linecolor\":\"white\",\"ticks\":\"\",\"title\":{\"standoff\":15},\"zerolinecolor\":\"white\",\"automargin\":true,\"zerolinewidth\":2},\"yaxis\":{\"gridcolor\":\"white\",\"linecolor\":\"white\",\"ticks\":\"\",\"title\":{\"standoff\":15},\"zerolinecolor\":\"white\",\"automargin\":true,\"zerolinewidth\":2},\"scene\":{\"xaxis\":{\"backgroundcolor\":\"#E5ECF6\",\"gridcolor\":\"white\",\"linecolor\":\"white\",\"showbackground\":true,\"ticks\":\"\",\"zerolinecolor\":\"white\",\"gridwidth\":2},\"yaxis\":{\"backgroundcolor\":\"#E5ECF6\",\"gridcolor\":\"white\",\"linecolor\":\"white\",\"showbackground\":true,\"ticks\":\"\",\"zerolinecolor\":\"white\",\"gridwidth\":2},\"zaxis\":{\"backgroundcolor\":\"#E5ECF6\",\"gridcolor\":\"white\",\"linecolor\":\"white\",\"showbackground\":true,\"ticks\":\"\",\"zerolinecolor\":\"white\",\"gridwidth\":2}},\"shapedefaults\":{\"line\":{\"color\":\"#2a3f5f\"}},\"annotationdefaults\":{\"arrowcolor\":\"#2a3f5f\",\"arrowhead\":0,\"arrowwidth\":1},\"geo\":{\"bgcolor\":\"white\",\"landcolor\":\"#E5ECF6\",\"subunitcolor\":\"white\",\"showland\":true,\"showlakes\":true,\"lakecolor\":\"white\"},\"title\":{\"x\":0.05},\"mapbox\":{\"style\":\"light\"}}},\"xaxis\":{\"anchor\":\"y\",\"domain\":[0.0,1.0],\"title\":{\"text\":\"identity_group\"},\"tickangle\":45},\"yaxis\":{\"anchor\":\"x\",\"domain\":[0.0,1.0],\"title\":{\"text\":\"count\"}},\"legend\":{\"tracegroupgap\":0},\"margin\":{\"t\":60},\"barmode\":\"relative\"},                        {\"responsive\": true}                    ).then(function(){\n",
       "                            \n",
       "var gd = document.getElementById('8813773e-06c3-466f-a9c1-35335cfcc854');\n",
       "var x = new MutationObserver(function (mutations, observer) {{\n",
       "        var display = window.getComputedStyle(gd).display;\n",
       "        if (!display || display === 'none') {{\n",
       "            console.log([gd, 'removed!']);\n",
       "            Plotly.purge(gd);\n",
       "            observer.disconnect();\n",
       "        }}\n",
       "}});\n",
       "\n",
       "// Listen for the removal of the full notebook cells\n",
       "var notebookContainer = gd.closest('#notebook-container');\n",
       "if (notebookContainer) {{\n",
       "    x.observe(notebookContainer, {childList: true});\n",
       "}}\n",
       "\n",
       "// Listen for the clearing of the current output cell\n",
       "var outputEl = gd.closest('.output');\n",
       "if (outputEl) {{\n",
       "    x.observe(outputEl, {childList: true});\n",
       "}}\n",
       "\n",
       "                        })                };                });            </script>        </div>"
      ]
     },
     "metadata": {},
     "output_type": "display_data"
    }
   ],
   "source": [
    "import json\n",
    "\n",
    "identity_groups_fpath = '../resources/identity_groups.json'\n",
    "with open(identity_groups_fpath, 'r') as f:\n",
    "    identity_groups = json.load(f)\n",
    "print(len(identity_groups))\n",
    "\n",
    "exp['identity_group'] = exp.netmapper_identity_matches.map(lambda x: identity_groups.get(x, x))\n",
    "exploded = exp.explode('identity_group') # Count intersectional mentions as a mention in each of their categories\n",
    "gp_freq = exploded.identity_group.value_counts().to_frame(name='count').reset_index(names='identity_group')\n",
    "gp_freq.head(30)\n",
    "\n",
    "import plotly.express as px\n",
    "pd.options.plotting.backend = 'plotly'\n",
    "\n",
    "# fig = px.bar(gp_freq.head(50), x='term', y='count')\n",
    "fig = px.bar(gp_freq.head(30), x='identity_group', y='count')\n",
    "fig.update_xaxes(tickangle=45)"
   ]
  },
  {
   "cell_type": "code",
   "execution_count": 7,
   "id": "a7c077d7-7b9a-4f2b-a185-94cfaffdb071",
   "metadata": {},
   "outputs": [
    {
     "name": "stdout",
     "output_type": "stream",
     "text": [
      "women_girls: ['women', 'woman', 'girls', 'girl', 'girlfriend', 'girlfriends', 'female', 'females', 'whore', 'whores', 'bitch', 'bitches', 'slut', 'sluts', 'cunt', 'cunts', 'prostitute', 'prostitutes', 'hooker', 'hookers', 'black women', 'feminist', 'feminists', 'white women', 'gf', 'sister', 'mother', 'daughter', 'mom', 'wife', 'wives', 'mothers']\n",
      "men_boys: ['men', 'man', 'boy', 'boys', 'boyfriend', 'boyfriends', 'bro', 'dude', 'dudes', 'male', 'males', 'black men', 'white men', 'bf', 'brother', 'brothers', 'father', 'son', 'husband', 'husbands', 'fathers']\n",
      "men_boys_address: ['bro', 'dude', 'dudes']\n",
      "women_girls_derogatory: ['whore', 'whores', 'bitch', 'bitches', 'slut', 'sluts', 'cunt', 'cunts', 'prostitute', 'prostitutes', 'hooker', 'hookers']\n",
      "youth: ['kids', 'kid', 'child', 'children', 'baby', 'babies', 'teen', 'teens']\n",
      "virgins: ['virgin']\n",
      "lgbtq_people: ['faggot', 'faggots', 'fag', 'fags', 'tranny', 'transgender', 'gay', 'gays', 'trans', 'bi', 'bisexual', 'bisexuals', 'pansexual', 'pansexuals', 'non-binary', 'nonbinary', 'non binary', 'genderqueer', 'homo', 'homosexual', 'homosexuals', 'transman', 'transwoman', 'queers']\n",
      "jews: ['jews', 'jew', 'jewish', 'kike', 'kikes', 'zionist', 'zionists', 'judaism', 'israelite', 'israelites', 'goy', 'goyim']\n",
      "black_people: ['black people', 'black man', 'black woman', 'black men', 'black women', 'nigger', 'nigga', 'niggers', 'niggas', 'niggaz', 'nigr', 'nigra', 'nigre', 'niggur', 'negro', 'negros', 'negroes', 'negroid', 'african', 'blacks']\n",
      "asian_people: ['asian', 'asians', 'indian', 'japanese', 'chinese', 'arab', 'chinks']\n",
      "white_people: ['white people', 'caucasian', 'white women', 'white men', 'european', 'europeans', 'whites']\n",
      "muslims: ['muslim', 'muslims']\n",
      "americans: ['american']\n",
      "teachers: ['teacher']\n",
      "latinx_people: ['spanish', 'hispanic', 'latino', 'latina', 'latinx', 'mexican', 'latin american', 'central american', 'south american', 'dominican', 'puerto rican', 'salvadoran', 'honduran', 'nicaraguan', 'costa rican', 'colombian', 'venezuelan', 'ecuadorian', 'brazilian', 'argentinian', 'bolivian', 'peruvian', 'chilean']\n"
     ]
    }
   ],
   "source": [
    "from collections import defaultdict\n",
    "\n",
    "gp_vals = defaultdict(list)\n",
    "for key, vals in identity_groups.items():\n",
    "    for gp in vals:\n",
    "        gp_vals[gp].append(key)\n",
    "        \n",
    "for gp, terms in gp_vals.items():\n",
    "    print(f'{gp}: {terms}')"
   ]
  },
  {
   "cell_type": "code",
   "execution_count": 8,
   "id": "a7a847ad-7559-4abd-8de9-39efad03b07a",
   "metadata": {},
   "outputs": [
    {
     "data": {
      "text/plain": [
       "5460"
      ]
     },
     "execution_count": 8,
     "metadata": {},
     "output_type": "execute_result"
    }
   ],
   "source": [
    "all_identities = exploded.netmapper_identity_matches.unique()\n",
    "len(all_identities)"
   ]
  },
  {
   "cell_type": "code",
   "execution_count": 9,
   "id": "ebabd5cb-54e1-4188-83d5-414c7c618787",
   "metadata": {},
   "outputs": [
    {
     "name": "stdout",
     "output_type": "stream",
     "text": [
      "spanish: True\n",
      "hispanic: True\n",
      "latino: True\n",
      "latina: False\n",
      "latinx: False\n",
      "mexican: True\n",
      "latin american: False\n",
      "central american: False\n",
      "south american: False\n",
      "dominican: True\n",
      "puerto rican: False\n",
      "salvadoran: True\n",
      "honduran: True\n",
      "nicaraguan: True\n",
      "costa rican: False\n",
      "colombian: True\n",
      "venezuelan: True\n",
      "ecuadorian: True\n",
      "brazilian: True\n",
      "argentinian: True\n",
      "bolivian: True\n",
      "peruvian: True\n",
      "chilean: True\n"
     ]
    }
   ],
   "source": [
    "for term in gp_vals['latinx_people']:\n",
    "    print(f'{term}: {term in all_identities}')"
   ]
  },
  {
   "cell_type": "code",
   "execution_count": 84,
   "id": "99ee6faa-1c29-4baa-937d-b7df769ca05a",
   "metadata": {},
   "outputs": [
    {
     "name": "stdout",
     "output_type": "stream",
     "text": [
      "jew: True\n",
      "jews: True\n",
      "jewish: False\n",
      "kike: True\n",
      "kikes: False\n",
      "zionist: True\n",
      "zionists: True\n",
      "judaism: False\n",
      "israelite: True\n",
      "israelites: True\n",
      "goy: False\n",
      "goyim: False\n"
     ]
    }
   ],
   "source": [
    "for term in ['jew', 'jews', 'jewish', 'kike', 'kikes', 'zionist', 'zionists', 'judaism', 'israelite', 'israelites', 'goy', 'goyim']:\n",
    "    print(f'{term}: {term in all_identities}')"
   ]
  },
  {
   "cell_type": "code",
   "execution_count": 134,
   "id": "f81905a3-20d4-4436-8274-d8aae4354be8",
   "metadata": {},
   "outputs": [
    {
     "name": "stdout",
     "output_type": "stream",
     "text": [
      "gay: False\n",
      "gays: True\n",
      "lesbian: True\n",
      "trans: False\n",
      "transgender: False\n",
      "bi: False\n",
      "bisexual: False\n",
      "pansexual: False\n",
      "homosexual: True\n",
      "homo: True\n",
      "queer: True\n",
      "transman: False\n",
      "transwoman: False\n",
      "queers: False\n",
      "fag: True\n",
      "fags: False\n"
     ]
    }
   ],
   "source": [
    "for term in ['gay', 'gays', 'lesbian', 'trans', 'transgender', 'bi', 'bisexual', 'pansexual', 'homosexual', 'homo', 'queer',\n",
    "            'transman', 'transwoman', 'queers', 'fag', 'fags']:\n",
    "    print(f'{term}: {term in all_identities}')"
   ]
  },
  {
   "cell_type": "code",
   "execution_count": 9,
   "id": "3e16af82-7775-43af-94c3-3d35a790e24b",
   "metadata": {},
   "outputs": [
    {
     "data": {
      "text/plain": [
       "['negroes', 'negroid', 'negro', 'negros']"
      ]
     },
     "execution_count": 9,
     "metadata": {},
     "output_type": "execute_result"
    }
   ],
   "source": [
    "[identity for identity in all_identities if 'negro' in str(identity)]"
   ]
  },
  {
   "cell_type": "code",
   "execution_count": 91,
   "id": "20b64cb3-737b-432d-a9d5-0f4271daab2c",
   "metadata": {},
   "outputs": [
    {
     "data": {
      "text/plain": [
       "['nonwhites', 'whiteman', 'whitetrash']"
      ]
     },
     "execution_count": 91,
     "metadata": {},
     "output_type": "execute_result"
    }
   ],
   "source": [
    "[identity for identity in all_identities if 'white' in str(identity)]"
   ]
  },
  {
   "cell_type": "code",
   "execution_count": 96,
   "id": "625539a2-b71d-4a15-bd49-6299ce49b642",
   "metadata": {},
   "outputs": [
    {
     "data": {
      "text/plain": [
       "[]"
      ]
     },
     "execution_count": 96,
     "metadata": {},
     "output_type": "execute_result"
    }
   ],
   "source": [
    "[identity for identity in all_identities if ' ' in str(identity)]"
   ]
  },
  {
   "cell_type": "code",
   "execution_count": 104,
   "id": "0fbd129a-f38c-48c0-ae5e-5602ba2e3516",
   "metadata": {},
   "outputs": [
    {
     "data": {
      "text/plain": [
       "['niggers',\n",
       " 'niggas',\n",
       " 'nigger',\n",
       " 'knight',\n",
       " 'nig',\n",
       " 'knights',\n",
       " 'nigga',\n",
       " 'niggah',\n",
       " 'nigerian',\n",
       " 'sandnigger',\n",
       " 'niggaz',\n",
       " 'knighted',\n",
       " 'knightly',\n",
       " 'niglet',\n",
       " 'nigra',\n",
       " 'knighthood',\n",
       " 'nigerians',\n",
       " 'nigg',\n",
       " 'snownigger',\n",
       " 'nigr',\n",
       " 'niggur',\n",
       " 'datnigga',\n",
       " 'nigre']"
      ]
     },
     "execution_count": 104,
     "metadata": {},
     "output_type": "execute_result"
    }
   ],
   "source": [
    "[identity for identity in all_identities if 'nig' in str(identity)]"
   ]
  },
  {
   "cell_type": "code",
   "execution_count": 103,
   "id": "cd08f5d1-3ead-429c-9534-d70033d15cb9",
   "metadata": {},
   "outputs": [
    {
     "data": {
      "text/plain": [
       "'black man'"
      ]
     },
     "execution_count": 103,
     "metadata": {},
     "output_type": "execute_result"
    }
   ],
   "source": [
    "import re\n",
    "\n",
    "re.search(r'\\b{}\\b'.format(re.escape('black man')), 'black man walking').group()\n",
    "# re.search(r'\\b{}\\b'.format(re.escape('black man')), 'asian man walking').group()"
   ]
  },
  {
   "cell_type": "markdown",
   "id": "8c64a766-18c0-4614-9063-b6d332af0257",
   "metadata": {},
   "source": [
    "### Identity groups over time"
   ]
  },
  {
   "cell_type": "code",
   "execution_count": 31,
   "id": "f291b5a8-a502-4f1e-81b2-d1b85d3f1da8",
   "metadata": {
    "tags": []
   },
   "outputs": [
    {
     "data": {
      "application/vnd.plotly.v1+json": {
       "config": {
        "plotlyServerURL": "https://plot.ly"
       },
       "data": [
        {
         "hovertemplate": "identity_group=asian_people<br>parsed_date=%{x}<br>log_prob=%{y}<extra></extra>",
         "legendgroup": "asian_people",
         "line": {
          "color": "#636efa",
          "dash": "solid"
         },
         "marker": {
          "symbol": "circle"
         },
         "mode": "lines",
         "name": "asian_people",
         "orientation": "v",
         "showlegend": true,
         "type": "scatter",
         "x": [
          "2017-11-01T00:00:00",
          "2017-12-01T00:00:00",
          "2018-01-01T00:00:00",
          "2018-02-01T00:00:00",
          "2018-03-01T00:00:00",
          "2018-04-01T00:00:00",
          "2018-05-01T00:00:00",
          "2018-06-01T00:00:00",
          "2018-07-01T00:00:00",
          "2018-08-01T00:00:00",
          "2018-09-01T00:00:00",
          "2018-10-01T00:00:00",
          "2018-11-01T00:00:00",
          "2018-12-01T00:00:00",
          "2019-01-01T00:00:00",
          "2019-02-01T00:00:00",
          "2019-03-01T00:00:00",
          "2019-04-01T00:00:00",
          "2019-05-01T00:00:00",
          "2019-06-01T00:00:00",
          "2019-07-01T00:00:00",
          "2019-08-01T00:00:00",
          "2019-09-01T00:00:00",
          "2019-10-01T00:00:00",
          "2019-11-01T00:00:00",
          "2019-12-01T00:00:00",
          "2020-01-01T00:00:00",
          "2020-02-01T00:00:00",
          "2020-03-01T00:00:00",
          "2020-04-01T00:00:00",
          "2020-05-01T00:00:00",
          "2020-06-01T00:00:00",
          "2020-07-01T00:00:00",
          "2020-08-01T00:00:00",
          "2020-09-01T00:00:00",
          "2020-10-01T00:00:00",
          "2020-11-01T00:00:00",
          "2020-12-01T00:00:00",
          "2021-01-01T00:00:00",
          "2021-02-01T00:00:00",
          "2021-03-01T00:00:00",
          "2021-04-01T00:00:00"
         ],
         "xaxis": "x",
         "y": [
          -3.0804388004093965,
          -3.159113102972188,
          -3.1379319967360244,
          -3.0626971544111745,
          -2.9938405990898493,
          -3.132049325708777,
          -3.0262487172605304,
          -3.019857588206504,
          -3.031459458146697,
          -3.0774035614076367,
          -2.989732488726132,
          -3.053588704658154,
          -3.095776791080587,
          -3.168564741312753,
          -3.193079435198241,
          -3.080179715643943,
          -3.207631779394975,
          -3.2165997977343914,
          -3.226934176552801,
          -3.2057530280761637,
          -3.2224699506475063,
          -3.070722514424584,
          -3.2684304770750985,
          -3.1991269001527676,
          -3.241334197659697,
          -3.155430423416699,
          -3.16741661136615,
          -3.2147449830418093,
          -3.2338288040247964,
          -3.263635901642808,
          -3.212952450600372,
          -3.1288297772262643,
          -3.208274057803678,
          -3.193071836915057,
          -3.0662258338960284,
          -3.0962966657940534,
          -3.137428077612591,
          -3.049972116132772,
          -3.176661949887441,
          -3.1824097899602934,
          -3.111876422013662,
          -2.7616093239347426
         ],
         "yaxis": "y"
        },
        {
         "hovertemplate": "identity_group=black_people<br>parsed_date=%{x}<br>log_prob=%{y}<extra></extra>",
         "legendgroup": "black_people",
         "line": {
          "color": "#EF553B",
          "dash": "solid"
         },
         "marker": {
          "symbol": "circle"
         },
         "mode": "lines",
         "name": "black_people",
         "orientation": "v",
         "showlegend": true,
         "type": "scatter",
         "x": [
          "2017-11-01T00:00:00",
          "2017-12-01T00:00:00",
          "2018-01-01T00:00:00",
          "2018-02-01T00:00:00",
          "2018-03-01T00:00:00",
          "2018-04-01T00:00:00",
          "2018-05-01T00:00:00",
          "2018-06-01T00:00:00",
          "2018-07-01T00:00:00",
          "2018-08-01T00:00:00",
          "2018-09-01T00:00:00",
          "2018-10-01T00:00:00",
          "2018-11-01T00:00:00",
          "2018-12-01T00:00:00",
          "2019-01-01T00:00:00",
          "2019-02-01T00:00:00",
          "2019-03-01T00:00:00",
          "2019-04-01T00:00:00",
          "2019-05-01T00:00:00",
          "2019-06-01T00:00:00",
          "2019-07-01T00:00:00",
          "2019-08-01T00:00:00",
          "2019-09-01T00:00:00",
          "2019-10-01T00:00:00",
          "2019-11-01T00:00:00",
          "2019-12-01T00:00:00",
          "2020-01-01T00:00:00",
          "2020-02-01T00:00:00",
          "2020-03-01T00:00:00",
          "2020-04-01T00:00:00",
          "2020-05-01T00:00:00",
          "2020-06-01T00:00:00",
          "2020-07-01T00:00:00",
          "2020-08-01T00:00:00",
          "2020-09-01T00:00:00",
          "2020-10-01T00:00:00",
          "2020-11-01T00:00:00",
          "2020-12-01T00:00:00",
          "2021-01-01T00:00:00",
          "2021-02-01T00:00:00",
          "2021-03-01T00:00:00",
          "2021-04-01T00:00:00"
         ],
         "xaxis": "x",
         "y": [
          -3.19829701189723,
          -3.3682888824395265,
          -3.3739764243763144,
          -3.184724408728293,
          -3.2430955217335007,
          -3.2254944472932836,
          -3.114787322016165,
          -3.1951116703626425,
          -3.2001266991231714,
          -3.3273976644506225,
          -3.1568128432596385,
          -3.226096917535498,
          -3.264694980324694,
          -3.214897075745446,
          -3.309162926558455,
          -3.2408203867983802,
          -3.303808023596033,
          -3.3324264768516945,
          -3.3495061798819936,
          -3.2859256527944023,
          -3.331008920522553,
          -3.232316943253845,
          -3.271658035620659,
          -3.3709123652174493,
          -3.309122371761234,
          -3.299808915375712,
          -3.258869120007503,
          -3.1713380451942323,
          -3.0961879190162627,
          -2.98170687946763,
          -3.04233992524772,
          -2.9378215186714427,
          -3.0274371264632896,
          -2.9620613370764035,
          -3.0952820032335433,
          -3.0101233341391103,
          -3.036727385363419,
          -3.030741477196186,
          -3.050398470568479,
          -3.087700869838352,
          -3.020786614907766,
          -2.922987939556536
         ],
         "yaxis": "y"
        },
        {
         "hovertemplate": "identity_group=intellectual_disabilities<br>parsed_date=%{x}<br>log_prob=%{y}<extra></extra>",
         "legendgroup": "intellectual_disabilities",
         "line": {
          "color": "#00cc96",
          "dash": "solid"
         },
         "marker": {
          "symbol": "circle"
         },
         "mode": "lines",
         "name": "intellectual_disabilities",
         "orientation": "v",
         "showlegend": true,
         "type": "scatter",
         "x": [
          "2017-11-01T00:00:00",
          "2017-12-01T00:00:00",
          "2018-01-01T00:00:00",
          "2018-02-01T00:00:00",
          "2018-03-01T00:00:00",
          "2018-04-01T00:00:00",
          "2018-05-01T00:00:00",
          "2018-06-01T00:00:00",
          "2018-07-01T00:00:00",
          "2018-08-01T00:00:00",
          "2018-09-01T00:00:00",
          "2018-10-01T00:00:00",
          "2018-11-01T00:00:00",
          "2018-12-01T00:00:00",
          "2019-01-01T00:00:00",
          "2019-02-01T00:00:00",
          "2019-03-01T00:00:00",
          "2019-04-01T00:00:00",
          "2019-05-01T00:00:00",
          "2019-06-01T00:00:00",
          "2019-07-01T00:00:00",
          "2019-08-01T00:00:00",
          "2019-09-01T00:00:00",
          "2019-10-01T00:00:00",
          "2019-11-01T00:00:00",
          "2019-12-01T00:00:00",
          "2020-01-01T00:00:00",
          "2020-02-01T00:00:00",
          "2020-03-01T00:00:00",
          "2020-04-01T00:00:00",
          "2020-05-01T00:00:00",
          "2020-06-01T00:00:00",
          "2020-07-01T00:00:00",
          "2020-08-01T00:00:00",
          "2020-09-01T00:00:00",
          "2020-10-01T00:00:00",
          "2020-11-01T00:00:00",
          "2020-12-01T00:00:00",
          "2021-01-01T00:00:00",
          "2021-02-01T00:00:00",
          "2021-03-01T00:00:00",
          "2021-04-01T00:00:00"
         ],
         "xaxis": "x",
         "y": [
          -3.034874286737879,
          -3.07761689142578,
          -3.0516250047609677,
          -3.057374258473792,
          -3.022400834712167,
          -3.0825436821303476,
          -3.127554855199756,
          -3.1060615089185686,
          -3.0921082737705263,
          -3.0339928463566705,
          -3.067393659440387,
          -3.084835522673779,
          -3.10005891978167,
          -3.0464866031241455,
          -3.012336782164848,
          -2.9915902273289317,
          -2.9932369042639286,
          -3.0836084275134583,
          -3.0490160158374295,
          -3.0820982049342014,
          -2.9744615970087405,
          -3.0258603741609047,
          -2.9425874062937174,
          -3.038609799273822,
          -3.020298760087255,
          -3.034690070757388,
          -3.0492296780870305,
          -2.976670353887065,
          -2.950777571845532,
          -3.018487751133395,
          -3.028389007694778,
          -3.1092998376246896,
          -3.1157224709725795,
          -3.188321408176137,
          -3.0589381817919508,
          -3.0248194127325854,
          -3.1681508892587082,
          -3.1117039323282043,
          -3.0484189025236756,
          -3.0724027691456275,
          -2.9969861902844603,
          -2.915663052240873
         ],
         "yaxis": "y"
        },
        {
         "hovertemplate": "identity_group=jews<br>parsed_date=%{x}<br>log_prob=%{y}<extra></extra>",
         "legendgroup": "jews",
         "line": {
          "color": "#ab63fa",
          "dash": "solid"
         },
         "marker": {
          "symbol": "circle"
         },
         "mode": "lines",
         "name": "jews",
         "orientation": "v",
         "showlegend": true,
         "type": "scatter",
         "x": [
          "2017-11-01T00:00:00",
          "2017-12-01T00:00:00",
          "2018-01-01T00:00:00",
          "2018-02-01T00:00:00",
          "2018-03-01T00:00:00",
          "2018-04-01T00:00:00",
          "2018-05-01T00:00:00",
          "2018-06-01T00:00:00",
          "2018-07-01T00:00:00",
          "2018-08-01T00:00:00",
          "2018-09-01T00:00:00",
          "2018-10-01T00:00:00",
          "2018-11-01T00:00:00",
          "2018-12-01T00:00:00",
          "2019-01-01T00:00:00",
          "2019-02-01T00:00:00",
          "2019-03-01T00:00:00",
          "2019-04-01T00:00:00",
          "2019-05-01T00:00:00",
          "2019-06-01T00:00:00",
          "2019-07-01T00:00:00",
          "2019-08-01T00:00:00",
          "2019-09-01T00:00:00",
          "2019-10-01T00:00:00",
          "2019-11-01T00:00:00",
          "2019-12-01T00:00:00",
          "2020-01-01T00:00:00",
          "2020-02-01T00:00:00",
          "2020-03-01T00:00:00",
          "2020-04-01T00:00:00",
          "2020-05-01T00:00:00",
          "2020-06-01T00:00:00",
          "2020-07-01T00:00:00",
          "2020-08-01T00:00:00",
          "2020-09-01T00:00:00",
          "2020-10-01T00:00:00",
          "2020-11-01T00:00:00",
          "2020-12-01T00:00:00",
          "2021-01-01T00:00:00",
          "2021-02-01T00:00:00",
          "2021-03-01T00:00:00",
          "2021-04-01T00:00:00"
         ],
         "xaxis": "x",
         "y": [
          -3.664916679391826,
          -3.6766356850366684,
          -3.629387703879876,
          -3.3224229970713304,
          -3.4060292442827,
          -3.5120555526562613,
          -3.4413549650585407,
          -3.345162859173403,
          -3.32349095250158,
          -3.479880150312953,
          -3.389481568760537,
          -3.3711422615170537,
          -3.264860457363047,
          -3.3320668730604135,
          -3.329973876941901,
          -3.294000453531183,
          -3.205318826216787,
          -3.1747119565407234,
          -3.234940777602154,
          -3.228811902010613,
          -3.120829309559454,
          -3.0795347505148967,
          -3.2290370874510956,
          -3.3639573227382313,
          -3.531845393402892,
          -3.438600775765928,
          -3.355814627640392,
          -3.30950121099565,
          -3.354913519743396,
          -3.256847537541919,
          -3.3881316453056387,
          -3.307718515826981,
          -3.309122737315829,
          -3.3874548447852493,
          -3.368947435821129,
          -3.343317803561334,
          -3.2678614663584993,
          -3.1440726065861155,
          -3.084713774914191,
          -3.0386139217842993,
          -3.0139311415740004,
          -2.8841490272477355
         ],
         "yaxis": "y"
        },
        {
         "hovertemplate": "identity_group=lgbtq_people<br>parsed_date=%{x}<br>log_prob=%{y}<extra></extra>",
         "legendgroup": "lgbtq_people",
         "line": {
          "color": "#FFA15A",
          "dash": "solid"
         },
         "marker": {
          "symbol": "circle"
         },
         "mode": "lines",
         "name": "lgbtq_people",
         "orientation": "v",
         "showlegend": true,
         "type": "scatter",
         "x": [
          "2017-11-01T00:00:00",
          "2017-12-01T00:00:00",
          "2018-01-01T00:00:00",
          "2018-02-01T00:00:00",
          "2018-03-01T00:00:00",
          "2018-04-01T00:00:00",
          "2018-05-01T00:00:00",
          "2018-06-01T00:00:00",
          "2018-07-01T00:00:00",
          "2018-08-01T00:00:00",
          "2018-09-01T00:00:00",
          "2018-10-01T00:00:00",
          "2018-11-01T00:00:00",
          "2018-12-01T00:00:00",
          "2019-01-01T00:00:00",
          "2019-02-01T00:00:00",
          "2019-03-01T00:00:00",
          "2019-04-01T00:00:00",
          "2019-05-01T00:00:00",
          "2019-06-01T00:00:00",
          "2019-07-01T00:00:00",
          "2019-08-01T00:00:00",
          "2019-09-01T00:00:00",
          "2019-10-01T00:00:00",
          "2019-11-01T00:00:00",
          "2019-12-01T00:00:00",
          "2020-01-01T00:00:00",
          "2020-02-01T00:00:00",
          "2020-03-01T00:00:00",
          "2020-04-01T00:00:00",
          "2020-05-01T00:00:00",
          "2020-06-01T00:00:00",
          "2020-07-01T00:00:00",
          "2020-08-01T00:00:00",
          "2020-09-01T00:00:00",
          "2020-10-01T00:00:00",
          "2020-11-01T00:00:00",
          "2020-12-01T00:00:00",
          "2021-01-01T00:00:00",
          "2021-02-01T00:00:00",
          "2021-03-01T00:00:00",
          "2021-04-01T00:00:00"
         ],
         "xaxis": "x",
         "y": [
          -3.063598437999774,
          -3.0667409445771217,
          -3.0437701805747355,
          -3.0900771930784146,
          -3.034113334955566,
          -3.0952750580051536,
          -3.084715493341135,
          -3.096307596156309,
          -3.1382417620958964,
          -3.067956362590452,
          -3.0912190484361846,
          -3.023249158663797,
          -3.004214716286914,
          -3.013130883548455,
          -2.994696532595118,
          -3.0030832955953257,
          -3.013027052976847,
          -3.0187022105595074,
          -3.0274153556361885,
          -2.930963565132821,
          -3.0243750473405733,
          -2.983753068829767,
          -3.009266305827277,
          -3.063023166086424,
          -3.0534497460801107,
          -3.0671131024591793,
          -2.9922464438156604,
          -3.0352127763045704,
          -2.999501059810446,
          -2.8913335539990372,
          -2.983082759798685,
          -3.012157229155265,
          -2.9962401701860872,
          -2.9382282041571517,
          -2.9930110435802413,
          -2.934371093615235,
          -2.9120081335133676,
          -3.0234681260421588,
          -2.9910125541270838,
          -2.9858012915185443,
          -2.928816194957094,
          -2.84257726740295
         ],
         "yaxis": "y"
        },
        {
         "hovertemplate": "identity_group=men_boys<br>parsed_date=%{x}<br>log_prob=%{y}<extra></extra>",
         "legendgroup": "men_boys",
         "line": {
          "color": "#19d3f3",
          "dash": "solid"
         },
         "marker": {
          "symbol": "circle"
         },
         "mode": "lines",
         "name": "men_boys",
         "orientation": "v",
         "showlegend": true,
         "type": "scatter",
         "x": [
          "2017-11-01T00:00:00",
          "2017-12-01T00:00:00",
          "2018-01-01T00:00:00",
          "2018-02-01T00:00:00",
          "2018-03-01T00:00:00",
          "2018-04-01T00:00:00",
          "2018-05-01T00:00:00",
          "2018-06-01T00:00:00",
          "2018-07-01T00:00:00",
          "2018-08-01T00:00:00",
          "2018-09-01T00:00:00",
          "2018-10-01T00:00:00",
          "2018-11-01T00:00:00",
          "2018-12-01T00:00:00",
          "2019-01-01T00:00:00",
          "2019-02-01T00:00:00",
          "2019-03-01T00:00:00",
          "2019-04-01T00:00:00",
          "2019-05-01T00:00:00",
          "2019-06-01T00:00:00",
          "2019-07-01T00:00:00",
          "2019-08-01T00:00:00",
          "2019-09-01T00:00:00",
          "2019-10-01T00:00:00",
          "2019-11-01T00:00:00",
          "2019-12-01T00:00:00",
          "2020-01-01T00:00:00",
          "2020-02-01T00:00:00",
          "2020-03-01T00:00:00",
          "2020-04-01T00:00:00",
          "2020-05-01T00:00:00",
          "2020-06-01T00:00:00",
          "2020-07-01T00:00:00",
          "2020-08-01T00:00:00",
          "2020-09-01T00:00:00",
          "2020-10-01T00:00:00",
          "2020-11-01T00:00:00",
          "2020-12-01T00:00:00",
          "2021-01-01T00:00:00",
          "2021-02-01T00:00:00",
          "2021-03-01T00:00:00",
          "2021-04-01T00:00:00"
         ],
         "xaxis": "x",
         "y": [
          -2.2590163650394564,
          -2.293557080283147,
          -2.309514448034634,
          -2.291808009653194,
          -2.274652006612675,
          -2.256158836907367,
          -2.2331027941896293,
          -2.2378975081812085,
          -2.2349665840078847,
          -2.2200069319199023,
          -2.2138240324973557,
          -2.1987632144297327,
          -2.198599887940871,
          -2.1925251027785837,
          -2.1683176994653364,
          -2.189818425795358,
          -2.159087929816268,
          -2.155779414942846,
          -2.191462257246881,
          -2.1546633830694457,
          -2.1559171889089983,
          -2.1386292056211924,
          -2.156982364102963,
          -2.170643565847144,
          -2.1784612044705467,
          -2.1508267983507174,
          -2.175789344153573,
          -2.172120255973893,
          -2.2264640580776107,
          -2.217617075695834,
          -2.23277437042734,
          -2.2512408936051895,
          -2.2109241022478634,
          -2.243983304654325,
          -2.268004387161382,
          -2.2255824084858844,
          -2.2510638582615403,
          -2.233293825701108,
          -2.2577934908235364,
          -2.2233019866776966,
          -2.2371300623621697,
          -2.2282242100565406
         ],
         "yaxis": "y"
        },
        {
         "hovertemplate": "identity_group=men_boys_address<br>parsed_date=%{x}<br>log_prob=%{y}<extra></extra>",
         "legendgroup": "men_boys_address",
         "line": {
          "color": "#FF6692",
          "dash": "solid"
         },
         "marker": {
          "symbol": "circle"
         },
         "mode": "lines",
         "name": "men_boys_address",
         "orientation": "v",
         "showlegend": true,
         "type": "scatter",
         "x": [
          "2017-11-01T00:00:00",
          "2017-12-01T00:00:00",
          "2018-01-01T00:00:00",
          "2018-02-01T00:00:00",
          "2018-03-01T00:00:00",
          "2018-04-01T00:00:00",
          "2018-05-01T00:00:00",
          "2018-06-01T00:00:00",
          "2018-07-01T00:00:00",
          "2018-08-01T00:00:00",
          "2018-09-01T00:00:00",
          "2018-10-01T00:00:00",
          "2018-11-01T00:00:00",
          "2018-12-01T00:00:00",
          "2019-01-01T00:00:00",
          "2019-02-01T00:00:00",
          "2019-03-01T00:00:00",
          "2019-04-01T00:00:00",
          "2019-05-01T00:00:00",
          "2019-06-01T00:00:00",
          "2019-07-01T00:00:00",
          "2019-08-01T00:00:00",
          "2019-09-01T00:00:00",
          "2019-10-01T00:00:00",
          "2019-11-01T00:00:00",
          "2019-12-01T00:00:00",
          "2020-01-01T00:00:00",
          "2020-02-01T00:00:00",
          "2020-03-01T00:00:00",
          "2020-04-01T00:00:00",
          "2020-05-01T00:00:00",
          "2020-06-01T00:00:00",
          "2020-07-01T00:00:00",
          "2020-08-01T00:00:00",
          "2020-09-01T00:00:00",
          "2020-10-01T00:00:00",
          "2020-11-01T00:00:00",
          "2020-12-01T00:00:00",
          "2021-01-01T00:00:00",
          "2021-02-01T00:00:00",
          "2021-03-01T00:00:00",
          "2021-04-01T00:00:00"
         ],
         "xaxis": "x",
         "y": [
          -3.1372471954474377,
          -3.096463904601213,
          -3.085379147849932,
          -3.049392212284133,
          -3.0427242994579977,
          -3.171585767638552,
          -3.0630518673586478,
          -3.004255943981309,
          -3.0148445969492808,
          -3.0823645682389786,
          -2.9217888782715837,
          -2.887199323417108,
          -2.966903214899909,
          -2.936972374858862,
          -2.8262369204157607,
          -2.821583567115788,
          -2.7540717951485485,
          -2.8256692741897473,
          -2.937447570918393,
          -2.794029155691012,
          -2.8527869561279795,
          -2.810169657004239,
          -2.8942827267191626,
          -2.9546675092011427,
          -2.9461574109961672,
          -2.895430962308553,
          -2.9138599283070374,
          -2.8811030936935067,
          -2.859194093321253,
          -2.88796691324908,
          -2.8875133106919213,
          -2.9276859068630428,
          -2.939687919429142,
          -2.9468958086669965,
          -3.021353127125361,
          -2.980238937240131,
          -3.030539880638445,
          -3.1193610554895654,
          -3.125367492217509,
          -3.144405430566129,
          -3.090418483216754,
          -3.0013696628598012
         ],
         "yaxis": "y"
        },
        {
         "hovertemplate": "identity_group=white_people<br>parsed_date=%{x}<br>log_prob=%{y}<extra></extra>",
         "legendgroup": "white_people",
         "line": {
          "color": "#B6E880",
          "dash": "solid"
         },
         "marker": {
          "symbol": "circle"
         },
         "mode": "lines",
         "name": "white_people",
         "orientation": "v",
         "showlegend": true,
         "type": "scatter",
         "x": [
          "2017-11-01T00:00:00",
          "2017-12-01T00:00:00",
          "2018-01-01T00:00:00",
          "2018-02-01T00:00:00",
          "2018-03-01T00:00:00",
          "2018-04-01T00:00:00",
          "2018-05-01T00:00:00",
          "2018-06-01T00:00:00",
          "2018-07-01T00:00:00",
          "2018-08-01T00:00:00",
          "2018-09-01T00:00:00",
          "2018-10-01T00:00:00",
          "2018-11-01T00:00:00",
          "2018-12-01T00:00:00",
          "2019-01-01T00:00:00",
          "2019-02-01T00:00:00",
          "2019-03-01T00:00:00",
          "2019-04-01T00:00:00",
          "2019-05-01T00:00:00",
          "2019-06-01T00:00:00",
          "2019-07-01T00:00:00",
          "2019-08-01T00:00:00",
          "2019-09-01T00:00:00",
          "2019-10-01T00:00:00",
          "2019-11-01T00:00:00",
          "2019-12-01T00:00:00",
          "2020-01-01T00:00:00",
          "2020-02-01T00:00:00",
          "2020-03-01T00:00:00",
          "2020-04-01T00:00:00",
          "2020-05-01T00:00:00",
          "2020-06-01T00:00:00",
          "2020-07-01T00:00:00",
          "2020-08-01T00:00:00",
          "2020-09-01T00:00:00",
          "2020-10-01T00:00:00",
          "2020-11-01T00:00:00",
          "2020-12-01T00:00:00",
          "2021-01-01T00:00:00",
          "2021-02-01T00:00:00",
          "2021-03-01T00:00:00",
          "2021-04-01T00:00:00"
         ],
         "xaxis": "x",
         "y": [
          -3.4848906755781903,
          -3.4536289564768605,
          -3.4249555411588233,
          -3.3979013444707413,
          -3.1953518452206193,
          -3.3076282292026624,
          -3.1028244977242827,
          -3.134048763093362,
          -3.193474213266505,
          -3.2933108321889897,
          -3.2535499109616715,
          -3.317787589205857,
          -3.1706066879987307,
          -3.25883495952599,
          -3.3071753053229416,
          -3.156433093521788,
          -3.1372749449051387,
          -3.1889353313743976,
          -3.2912782674098287,
          -3.3012947662658507,
          -3.330231659497361,
          -3.316363292054741,
          -3.293743908511733,
          -3.357111908971837,
          -3.484477330303895,
          -3.3181152242675718,
          -3.30685656473822,
          -3.420447096707609,
          -3.4876234222319433,
          -3.4391658918309735,
          -3.3788174668364035,
          -3.211942791808082,
          -3.2911762802119195,
          -3.4147369136668004,
          -3.291698019015318,
          -3.194972432223608,
          -3.2946763813110067,
          -3.1540438023183324,
          -3.1680020440756653,
          -3.112705342739208,
          -3.2093338227459247,
          -2.897003139947436
         ],
         "yaxis": "y"
        },
        {
         "hovertemplate": "identity_group=women_girls<br>parsed_date=%{x}<br>log_prob=%{y}<extra></extra>",
         "legendgroup": "women_girls",
         "line": {
          "color": "#FF97FF",
          "dash": "solid"
         },
         "marker": {
          "symbol": "circle"
         },
         "mode": "lines",
         "name": "women_girls",
         "orientation": "v",
         "showlegend": true,
         "type": "scatter",
         "x": [
          "2017-11-01T00:00:00",
          "2017-12-01T00:00:00",
          "2018-01-01T00:00:00",
          "2018-02-01T00:00:00",
          "2018-03-01T00:00:00",
          "2018-04-01T00:00:00",
          "2018-05-01T00:00:00",
          "2018-06-01T00:00:00",
          "2018-07-01T00:00:00",
          "2018-08-01T00:00:00",
          "2018-09-01T00:00:00",
          "2018-10-01T00:00:00",
          "2018-11-01T00:00:00",
          "2018-12-01T00:00:00",
          "2019-01-01T00:00:00",
          "2019-02-01T00:00:00",
          "2019-03-01T00:00:00",
          "2019-04-01T00:00:00",
          "2019-05-01T00:00:00",
          "2019-06-01T00:00:00",
          "2019-07-01T00:00:00",
          "2019-08-01T00:00:00",
          "2019-09-01T00:00:00",
          "2019-10-01T00:00:00",
          "2019-11-01T00:00:00",
          "2019-12-01T00:00:00",
          "2020-01-01T00:00:00",
          "2020-02-01T00:00:00",
          "2020-03-01T00:00:00",
          "2020-04-01T00:00:00",
          "2020-05-01T00:00:00",
          "2020-06-01T00:00:00",
          "2020-07-01T00:00:00",
          "2020-08-01T00:00:00",
          "2020-09-01T00:00:00",
          "2020-10-01T00:00:00",
          "2020-11-01T00:00:00",
          "2020-12-01T00:00:00",
          "2021-01-01T00:00:00",
          "2021-02-01T00:00:00",
          "2021-03-01T00:00:00",
          "2021-04-01T00:00:00"
         ],
         "xaxis": "x",
         "y": [
          -1.941746900756624,
          -1.9800121386217544,
          -2.012902623706402,
          -1.987704932570059,
          -1.9551659916899695,
          -1.9649063994131692,
          -1.9543629563125837,
          -1.983408221472149,
          -2.013362873338888,
          -1.9918669270517881,
          -2.0485302832852277,
          -2.06338994630824,
          -2.030901400498728,
          -2.0178555889125964,
          -2.022481957203525,
          -2.082342917643748,
          -2.0889218262426787,
          -2.075249764893595,
          -2.0730871949823264,
          -2.079565017741321,
          -2.083201606065873,
          -2.071020759473666,
          -2.0795901510685035,
          -2.0518389991339103,
          -2.039804928356664,
          -2.0253651094608838,
          -2.08029571303405,
          -2.087925707807778,
          -2.152092035114101,
          -2.130133035305467,
          -2.1405188534262956,
          -2.162268945725739,
          -2.1073158023707945,
          -2.2276655734151354,
          -2.152976735420012,
          -2.104479244212426,
          -2.1449750021314293,
          -2.082552455121487,
          -2.1280919983010325,
          -2.0867300247700236,
          -2.112671801706758,
          -2.1091994419247726
         ],
         "yaxis": "y"
        },
        {
         "hovertemplate": "identity_group=women_girls_derogatory<br>parsed_date=%{x}<br>log_prob=%{y}<extra></extra>",
         "legendgroup": "women_girls_derogatory",
         "line": {
          "color": "#FECB52",
          "dash": "solid"
         },
         "marker": {
          "symbol": "circle"
         },
         "mode": "lines",
         "name": "women_girls_derogatory",
         "orientation": "v",
         "showlegend": true,
         "type": "scatter",
         "x": [
          "2017-11-01T00:00:00",
          "2017-12-01T00:00:00",
          "2018-01-01T00:00:00",
          "2018-02-01T00:00:00",
          "2018-03-01T00:00:00",
          "2018-04-01T00:00:00",
          "2018-05-01T00:00:00",
          "2018-06-01T00:00:00",
          "2018-07-01T00:00:00",
          "2018-08-01T00:00:00",
          "2018-09-01T00:00:00",
          "2018-10-01T00:00:00",
          "2018-11-01T00:00:00",
          "2018-12-01T00:00:00",
          "2019-01-01T00:00:00",
          "2019-02-01T00:00:00",
          "2019-03-01T00:00:00",
          "2019-04-01T00:00:00",
          "2019-05-01T00:00:00",
          "2019-06-01T00:00:00",
          "2019-07-01T00:00:00",
          "2019-08-01T00:00:00",
          "2019-09-01T00:00:00",
          "2019-10-01T00:00:00",
          "2019-11-01T00:00:00",
          "2019-12-01T00:00:00",
          "2020-01-01T00:00:00",
          "2020-02-01T00:00:00",
          "2020-03-01T00:00:00",
          "2020-04-01T00:00:00",
          "2020-05-01T00:00:00",
          "2020-06-01T00:00:00",
          "2020-07-01T00:00:00",
          "2020-08-01T00:00:00",
          "2020-09-01T00:00:00",
          "2020-10-01T00:00:00",
          "2020-11-01T00:00:00",
          "2020-12-01T00:00:00",
          "2021-01-01T00:00:00",
          "2021-02-01T00:00:00",
          "2021-03-01T00:00:00",
          "2021-04-01T00:00:00"
         ],
         "xaxis": "x",
         "y": [
          -2.810082330245198,
          -2.89550800446121,
          -2.9168897366400177,
          -2.8777703043115452,
          -2.79416988737709,
          -2.789759823201599,
          -2.767073039147889,
          -2.8561840357019688,
          -2.8885780690863716,
          -2.848228286191869,
          -2.889896763764704,
          -2.8666432663947234,
          -2.7760368449560535,
          -2.75738612668525,
          -2.775055277072408,
          -2.83320417963993,
          -2.8481076505052463,
          -2.9183032977955774,
          -2.859451684231081,
          -2.850282163942788,
          -2.8813851105626394,
          -2.820720832861105,
          -2.9128147831253424,
          -2.8881156637642507,
          -2.821325184377832,
          -2.841447481644365,
          -2.880353023567934,
          -2.9047400016631926,
          -2.898341135931813,
          -2.8584654170089308,
          -2.9014485674262747,
          -2.9184680881822236,
          -2.884583645585993,
          -2.960983415247528,
          -2.9211773912450196,
          -2.875924236411606,
          -2.8822293630934235,
          -2.8863550437139383,
          -2.914359646606468,
          -2.8772062143007116,
          -2.882560322483613,
          -2.814117149215375
         ],
         "yaxis": "y"
        },
        {
         "hovertemplate": "identity_group=youth<br>parsed_date=%{x}<br>log_prob=%{y}<extra></extra>",
         "legendgroup": "youth",
         "line": {
          "color": "#636efa",
          "dash": "solid"
         },
         "marker": {
          "symbol": "circle"
         },
         "mode": "lines",
         "name": "youth",
         "orientation": "v",
         "showlegend": true,
         "type": "scatter",
         "x": [
          "2017-11-01T00:00:00",
          "2017-12-01T00:00:00",
          "2018-01-01T00:00:00",
          "2018-02-01T00:00:00",
          "2018-03-01T00:00:00",
          "2018-04-01T00:00:00",
          "2018-05-01T00:00:00",
          "2018-06-01T00:00:00",
          "2018-07-01T00:00:00",
          "2018-08-01T00:00:00",
          "2018-09-01T00:00:00",
          "2018-10-01T00:00:00",
          "2018-11-01T00:00:00",
          "2018-12-01T00:00:00",
          "2019-01-01T00:00:00",
          "2019-02-01T00:00:00",
          "2019-03-01T00:00:00",
          "2019-04-01T00:00:00",
          "2019-05-01T00:00:00",
          "2019-06-01T00:00:00",
          "2019-07-01T00:00:00",
          "2019-08-01T00:00:00",
          "2019-09-01T00:00:00",
          "2019-10-01T00:00:00",
          "2019-11-01T00:00:00",
          "2019-12-01T00:00:00",
          "2020-01-01T00:00:00",
          "2020-02-01T00:00:00",
          "2020-03-01T00:00:00",
          "2020-04-01T00:00:00",
          "2020-05-01T00:00:00",
          "2020-06-01T00:00:00",
          "2020-07-01T00:00:00",
          "2020-08-01T00:00:00",
          "2020-09-01T00:00:00",
          "2020-10-01T00:00:00",
          "2020-11-01T00:00:00",
          "2020-12-01T00:00:00",
          "2021-01-01T00:00:00",
          "2021-02-01T00:00:00",
          "2021-03-01T00:00:00",
          "2021-04-01T00:00:00"
         ],
         "xaxis": "x",
         "y": [
          -3.0369639193911357,
          -3.0228379475076252,
          -2.9942665216419058,
          -3.0049943870392646,
          -2.969733506118281,
          -2.9765033592285155,
          -2.9491394201919703,
          -2.889793785830655,
          -2.9031243968495195,
          -2.876364347991747,
          -2.917115410616017,
          -2.869674276792409,
          -2.8663250261989113,
          -2.831721163251923,
          -2.864359187290111,
          -2.876027236861556,
          -2.844340512420076,
          -2.896992444081406,
          -2.8249044688628953,
          -2.874913088748135,
          -2.888347338566661,
          -2.8825440548596863,
          -2.781459721955811,
          -2.850161609563702,
          -2.793376360415732,
          -2.8712000869372227,
          -2.895951578901815,
          -2.8573299379967696,
          -2.9104745583872424,
          -2.9434783781571174,
          -2.871878339375058,
          -2.9244437021574585,
          -2.8248033092224905,
          -2.992572244973552,
          -2.9351974322417798,
          -2.9250921102716276,
          -3.0097587007989968,
          -2.8700196380685323,
          -2.900455537948492,
          -2.8972700063560866,
          -2.9050011915318583,
          -2.9408962889617585
         ],
         "yaxis": "y"
        }
       ],
       "layout": {
        "autosize": true,
        "legend": {
         "title": {
          "text": "identity_group"
         },
         "tracegroupgap": 0
        },
        "margin": {
         "t": 60
        },
        "template": {
         "data": {
          "bar": [
           {
            "error_x": {
             "color": "#2a3f5f"
            },
            "error_y": {
             "color": "#2a3f5f"
            },
            "marker": {
             "line": {
              "color": "#E5ECF6",
              "width": 0.5
             },
             "pattern": {
              "fillmode": "overlay",
              "size": 10,
              "solidity": 0.2
             }
            },
            "type": "bar"
           }
          ],
          "barpolar": [
           {
            "marker": {
             "line": {
              "color": "#E5ECF6",
              "width": 0.5
             },
             "pattern": {
              "fillmode": "overlay",
              "size": 10,
              "solidity": 0.2
             }
            },
            "type": "barpolar"
           }
          ],
          "carpet": [
           {
            "aaxis": {
             "endlinecolor": "#2a3f5f",
             "gridcolor": "white",
             "linecolor": "white",
             "minorgridcolor": "white",
             "startlinecolor": "#2a3f5f"
            },
            "baxis": {
             "endlinecolor": "#2a3f5f",
             "gridcolor": "white",
             "linecolor": "white",
             "minorgridcolor": "white",
             "startlinecolor": "#2a3f5f"
            },
            "type": "carpet"
           }
          ],
          "choropleth": [
           {
            "colorbar": {
             "outlinewidth": 0,
             "ticks": ""
            },
            "type": "choropleth"
           }
          ],
          "contour": [
           {
            "colorbar": {
             "outlinewidth": 0,
             "ticks": ""
            },
            "colorscale": [
             [
              0,
              "#0d0887"
             ],
             [
              0.1111111111111111,
              "#46039f"
             ],
             [
              0.2222222222222222,
              "#7201a8"
             ],
             [
              0.3333333333333333,
              "#9c179e"
             ],
             [
              0.4444444444444444,
              "#bd3786"
             ],
             [
              0.5555555555555556,
              "#d8576b"
             ],
             [
              0.6666666666666666,
              "#ed7953"
             ],
             [
              0.7777777777777778,
              "#fb9f3a"
             ],
             [
              0.8888888888888888,
              "#fdca26"
             ],
             [
              1,
              "#f0f921"
             ]
            ],
            "type": "contour"
           }
          ],
          "contourcarpet": [
           {
            "colorbar": {
             "outlinewidth": 0,
             "ticks": ""
            },
            "type": "contourcarpet"
           }
          ],
          "heatmap": [
           {
            "colorbar": {
             "outlinewidth": 0,
             "ticks": ""
            },
            "colorscale": [
             [
              0,
              "#0d0887"
             ],
             [
              0.1111111111111111,
              "#46039f"
             ],
             [
              0.2222222222222222,
              "#7201a8"
             ],
             [
              0.3333333333333333,
              "#9c179e"
             ],
             [
              0.4444444444444444,
              "#bd3786"
             ],
             [
              0.5555555555555556,
              "#d8576b"
             ],
             [
              0.6666666666666666,
              "#ed7953"
             ],
             [
              0.7777777777777778,
              "#fb9f3a"
             ],
             [
              0.8888888888888888,
              "#fdca26"
             ],
             [
              1,
              "#f0f921"
             ]
            ],
            "type": "heatmap"
           }
          ],
          "heatmapgl": [
           {
            "colorbar": {
             "outlinewidth": 0,
             "ticks": ""
            },
            "colorscale": [
             [
              0,
              "#0d0887"
             ],
             [
              0.1111111111111111,
              "#46039f"
             ],
             [
              0.2222222222222222,
              "#7201a8"
             ],
             [
              0.3333333333333333,
              "#9c179e"
             ],
             [
              0.4444444444444444,
              "#bd3786"
             ],
             [
              0.5555555555555556,
              "#d8576b"
             ],
             [
              0.6666666666666666,
              "#ed7953"
             ],
             [
              0.7777777777777778,
              "#fb9f3a"
             ],
             [
              0.8888888888888888,
              "#fdca26"
             ],
             [
              1,
              "#f0f921"
             ]
            ],
            "type": "heatmapgl"
           }
          ],
          "histogram": [
           {
            "marker": {
             "pattern": {
              "fillmode": "overlay",
              "size": 10,
              "solidity": 0.2
             }
            },
            "type": "histogram"
           }
          ],
          "histogram2d": [
           {
            "colorbar": {
             "outlinewidth": 0,
             "ticks": ""
            },
            "colorscale": [
             [
              0,
              "#0d0887"
             ],
             [
              0.1111111111111111,
              "#46039f"
             ],
             [
              0.2222222222222222,
              "#7201a8"
             ],
             [
              0.3333333333333333,
              "#9c179e"
             ],
             [
              0.4444444444444444,
              "#bd3786"
             ],
             [
              0.5555555555555556,
              "#d8576b"
             ],
             [
              0.6666666666666666,
              "#ed7953"
             ],
             [
              0.7777777777777778,
              "#fb9f3a"
             ],
             [
              0.8888888888888888,
              "#fdca26"
             ],
             [
              1,
              "#f0f921"
             ]
            ],
            "type": "histogram2d"
           }
          ],
          "histogram2dcontour": [
           {
            "colorbar": {
             "outlinewidth": 0,
             "ticks": ""
            },
            "colorscale": [
             [
              0,
              "#0d0887"
             ],
             [
              0.1111111111111111,
              "#46039f"
             ],
             [
              0.2222222222222222,
              "#7201a8"
             ],
             [
              0.3333333333333333,
              "#9c179e"
             ],
             [
              0.4444444444444444,
              "#bd3786"
             ],
             [
              0.5555555555555556,
              "#d8576b"
             ],
             [
              0.6666666666666666,
              "#ed7953"
             ],
             [
              0.7777777777777778,
              "#fb9f3a"
             ],
             [
              0.8888888888888888,
              "#fdca26"
             ],
             [
              1,
              "#f0f921"
             ]
            ],
            "type": "histogram2dcontour"
           }
          ],
          "mesh3d": [
           {
            "colorbar": {
             "outlinewidth": 0,
             "ticks": ""
            },
            "type": "mesh3d"
           }
          ],
          "parcoords": [
           {
            "line": {
             "colorbar": {
              "outlinewidth": 0,
              "ticks": ""
             }
            },
            "type": "parcoords"
           }
          ],
          "pie": [
           {
            "automargin": true,
            "type": "pie"
           }
          ],
          "scatter": [
           {
            "fillpattern": {
             "fillmode": "overlay",
             "size": 10,
             "solidity": 0.2
            },
            "type": "scatter"
           }
          ],
          "scatter3d": [
           {
            "line": {
             "colorbar": {
              "outlinewidth": 0,
              "ticks": ""
             }
            },
            "marker": {
             "colorbar": {
              "outlinewidth": 0,
              "ticks": ""
             }
            },
            "type": "scatter3d"
           }
          ],
          "scattercarpet": [
           {
            "marker": {
             "colorbar": {
              "outlinewidth": 0,
              "ticks": ""
             }
            },
            "type": "scattercarpet"
           }
          ],
          "scattergeo": [
           {
            "marker": {
             "colorbar": {
              "outlinewidth": 0,
              "ticks": ""
             }
            },
            "type": "scattergeo"
           }
          ],
          "scattergl": [
           {
            "marker": {
             "colorbar": {
              "outlinewidth": 0,
              "ticks": ""
             }
            },
            "type": "scattergl"
           }
          ],
          "scattermapbox": [
           {
            "marker": {
             "colorbar": {
              "outlinewidth": 0,
              "ticks": ""
             }
            },
            "type": "scattermapbox"
           }
          ],
          "scatterpolar": [
           {
            "marker": {
             "colorbar": {
              "outlinewidth": 0,
              "ticks": ""
             }
            },
            "type": "scatterpolar"
           }
          ],
          "scatterpolargl": [
           {
            "marker": {
             "colorbar": {
              "outlinewidth": 0,
              "ticks": ""
             }
            },
            "type": "scatterpolargl"
           }
          ],
          "scatterternary": [
           {
            "marker": {
             "colorbar": {
              "outlinewidth": 0,
              "ticks": ""
             }
            },
            "type": "scatterternary"
           }
          ],
          "surface": [
           {
            "colorbar": {
             "outlinewidth": 0,
             "ticks": ""
            },
            "colorscale": [
             [
              0,
              "#0d0887"
             ],
             [
              0.1111111111111111,
              "#46039f"
             ],
             [
              0.2222222222222222,
              "#7201a8"
             ],
             [
              0.3333333333333333,
              "#9c179e"
             ],
             [
              0.4444444444444444,
              "#bd3786"
             ],
             [
              0.5555555555555556,
              "#d8576b"
             ],
             [
              0.6666666666666666,
              "#ed7953"
             ],
             [
              0.7777777777777778,
              "#fb9f3a"
             ],
             [
              0.8888888888888888,
              "#fdca26"
             ],
             [
              1,
              "#f0f921"
             ]
            ],
            "type": "surface"
           }
          ],
          "table": [
           {
            "cells": {
             "fill": {
              "color": "#EBF0F8"
             },
             "line": {
              "color": "white"
             }
            },
            "header": {
             "fill": {
              "color": "#C8D4E3"
             },
             "line": {
              "color": "white"
             }
            },
            "type": "table"
           }
          ]
         },
         "layout": {
          "annotationdefaults": {
           "arrowcolor": "#2a3f5f",
           "arrowhead": 0,
           "arrowwidth": 1
          },
          "autotypenumbers": "strict",
          "coloraxis": {
           "colorbar": {
            "outlinewidth": 0,
            "ticks": ""
           }
          },
          "colorscale": {
           "diverging": [
            [
             0,
             "#8e0152"
            ],
            [
             0.1,
             "#c51b7d"
            ],
            [
             0.2,
             "#de77ae"
            ],
            [
             0.3,
             "#f1b6da"
            ],
            [
             0.4,
             "#fde0ef"
            ],
            [
             0.5,
             "#f7f7f7"
            ],
            [
             0.6,
             "#e6f5d0"
            ],
            [
             0.7,
             "#b8e186"
            ],
            [
             0.8,
             "#7fbc41"
            ],
            [
             0.9,
             "#4d9221"
            ],
            [
             1,
             "#276419"
            ]
           ],
           "sequential": [
            [
             0,
             "#0d0887"
            ],
            [
             0.1111111111111111,
             "#46039f"
            ],
            [
             0.2222222222222222,
             "#7201a8"
            ],
            [
             0.3333333333333333,
             "#9c179e"
            ],
            [
             0.4444444444444444,
             "#bd3786"
            ],
            [
             0.5555555555555556,
             "#d8576b"
            ],
            [
             0.6666666666666666,
             "#ed7953"
            ],
            [
             0.7777777777777778,
             "#fb9f3a"
            ],
            [
             0.8888888888888888,
             "#fdca26"
            ],
            [
             1,
             "#f0f921"
            ]
           ],
           "sequentialminus": [
            [
             0,
             "#0d0887"
            ],
            [
             0.1111111111111111,
             "#46039f"
            ],
            [
             0.2222222222222222,
             "#7201a8"
            ],
            [
             0.3333333333333333,
             "#9c179e"
            ],
            [
             0.4444444444444444,
             "#bd3786"
            ],
            [
             0.5555555555555556,
             "#d8576b"
            ],
            [
             0.6666666666666666,
             "#ed7953"
            ],
            [
             0.7777777777777778,
             "#fb9f3a"
            ],
            [
             0.8888888888888888,
             "#fdca26"
            ],
            [
             1,
             "#f0f921"
            ]
           ]
          },
          "colorway": [
           "#636efa",
           "#EF553B",
           "#00cc96",
           "#ab63fa",
           "#FFA15A",
           "#19d3f3",
           "#FF6692",
           "#B6E880",
           "#FF97FF",
           "#FECB52"
          ],
          "font": {
           "color": "#2a3f5f"
          },
          "geo": {
           "bgcolor": "white",
           "lakecolor": "white",
           "landcolor": "#E5ECF6",
           "showlakes": true,
           "showland": true,
           "subunitcolor": "white"
          },
          "hoverlabel": {
           "align": "left"
          },
          "hovermode": "closest",
          "mapbox": {
           "style": "light"
          },
          "paper_bgcolor": "white",
          "plot_bgcolor": "#E5ECF6",
          "polar": {
           "angularaxis": {
            "gridcolor": "white",
            "linecolor": "white",
            "ticks": ""
           },
           "bgcolor": "#E5ECF6",
           "radialaxis": {
            "gridcolor": "white",
            "linecolor": "white",
            "ticks": ""
           }
          },
          "scene": {
           "xaxis": {
            "backgroundcolor": "#E5ECF6",
            "gridcolor": "white",
            "gridwidth": 2,
            "linecolor": "white",
            "showbackground": true,
            "ticks": "",
            "zerolinecolor": "white"
           },
           "yaxis": {
            "backgroundcolor": "#E5ECF6",
            "gridcolor": "white",
            "gridwidth": 2,
            "linecolor": "white",
            "showbackground": true,
            "ticks": "",
            "zerolinecolor": "white"
           },
           "zaxis": {
            "backgroundcolor": "#E5ECF6",
            "gridcolor": "white",
            "gridwidth": 2,
            "linecolor": "white",
            "showbackground": true,
            "ticks": "",
            "zerolinecolor": "white"
           }
          },
          "shapedefaults": {
           "line": {
            "color": "#2a3f5f"
           }
          },
          "ternary": {
           "aaxis": {
            "gridcolor": "white",
            "linecolor": "white",
            "ticks": ""
           },
           "baxis": {
            "gridcolor": "white",
            "linecolor": "white",
            "ticks": ""
           },
           "bgcolor": "#E5ECF6",
           "caxis": {
            "gridcolor": "white",
            "linecolor": "white",
            "ticks": ""
           }
          },
          "title": {
           "x": 0.05
          },
          "xaxis": {
           "automargin": true,
           "gridcolor": "white",
           "linecolor": "white",
           "ticks": "",
           "title": {
            "standoff": 15
           },
           "zerolinecolor": "white",
           "zerolinewidth": 2
          },
          "yaxis": {
           "automargin": true,
           "gridcolor": "white",
           "linecolor": "white",
           "ticks": "",
           "title": {
            "standoff": 15
           },
           "zerolinecolor": "white",
           "zerolinewidth": 2
          }
         }
        },
        "xaxis": {
         "anchor": "y",
         "autorange": true,
         "domain": [
          0,
          1
         ],
         "range": [
          "2017-11-01",
          "2021-04-01"
         ],
         "title": {
          "text": "parsed_date"
         },
         "type": "date"
        },
        "yaxis": {
         "anchor": "x",
         "autorange": true,
         "domain": [
          0,
          1
         ],
         "range": [
          -3.7730183952744487,
          -1.8453641905188436
         ],
         "title": {
          "text": "log_prob"
         },
         "type": "linear"
        }
       }
      },
      "image/png": "[encoded data removed]",
      "text/html": [
       "<div>                            <div id=\"b5c2dff5-e46b-4337-98ef-01075484d680\" class=\"plotly-graph-div\" style=\"height:500px; width:100%;\"></div>            <script type=\"text/javascript\">                require([\"plotly\"], function(Plotly) {                    window.PLOTLYENV=window.PLOTLYENV || {};                                    if (document.getElementById(\"b5c2dff5-e46b-4337-98ef-01075484d680\")) {                    Plotly.newPlot(                        \"b5c2dff5-e46b-4337-98ef-01075484d680\",                        [{\"hovertemplate\":\"identity_group=asian_people<br>parsed_date=%{x}<br>log_prob=%{y}<extra></extra>\",\"legendgroup\":\"asian_people\",\"line\":{\"color\":\"#636efa\",\"dash\":\"solid\"},\"marker\":{\"symbol\":\"circle\"},\"mode\":\"lines\",\"name\":\"asian_people\",\"orientation\":\"v\",\"showlegend\":true,\"x\":[\"2017-11-01T00:00:00\",\"2017-12-01T00:00:00\",\"2018-01-01T00:00:00\",\"2018-02-01T00:00:00\",\"2018-03-01T00:00:00\",\"2018-04-01T00:00:00\",\"2018-05-01T00:00:00\",\"2018-06-01T00:00:00\",\"2018-07-01T00:00:00\",\"2018-08-01T00:00:00\",\"2018-09-01T00:00:00\",\"2018-10-01T00:00:00\",\"2018-11-01T00:00:00\",\"2018-12-01T00:00:00\",\"2019-01-01T00:00:00\",\"2019-02-01T00:00:00\",\"2019-03-01T00:00:00\",\"2019-04-01T00:00:00\",\"2019-05-01T00:00:00\",\"2019-06-01T00:00:00\",\"2019-07-01T00:00:00\",\"2019-08-01T00:00:00\",\"2019-09-01T00:00:00\",\"2019-10-01T00:00:00\",\"2019-11-01T00:00:00\",\"2019-12-01T00:00:00\",\"2020-01-01T00:00:00\",\"2020-02-01T00:00:00\",\"2020-03-01T00:00:00\",\"2020-04-01T00:00:00\",\"2020-05-01T00:00:00\",\"2020-06-01T00:00:00\",\"2020-07-01T00:00:00\",\"2020-08-01T00:00:00\",\"2020-09-01T00:00:00\",\"2020-10-01T00:00:00\",\"2020-11-01T00:00:00\",\"2020-12-01T00:00:00\",\"2021-01-01T00:00:00\",\"2021-02-01T00:00:00\",\"2021-03-01T00:00:00\",\"2021-04-01T00:00:00\"],\"xaxis\":\"x\",\"y\":[-3.0804388004093965,-3.159113102972188,-3.1379319967360244,-3.0626971544111745,-2.9938405990898493,-3.132049325708777,-3.0262487172605304,-3.019857588206504,-3.031459458146697,-3.0774035614076367,-2.989732488726132,-3.053588704658154,-3.095776791080587,-3.168564741312753,-3.193079435198241,-3.080179715643943,-3.207631779394975,-3.2165997977343914,-3.226934176552801,-3.2057530280761637,-3.2224699506475063,-3.070722514424584,-3.2684304770750985,-3.1991269001527676,-3.241334197659697,-3.155430423416699,-3.16741661136615,-3.2147449830418093,-3.2338288040247964,-3.263635901642808,-3.212952450600372,-3.1288297772262643,-3.208274057803678,-3.193071836915057,-3.0662258338960284,-3.0962966657940534,-3.137428077612591,-3.049972116132772,-3.176661949887441,-3.1824097899602934,-3.111876422013662,-2.7616093239347426],\"yaxis\":\"y\",\"type\":\"scatter\"},{\"hovertemplate\":\"identity_group=black_people<br>parsed_date=%{x}<br>log_prob=%{y}<extra></extra>\",\"legendgroup\":\"black_people\",\"line\":{\"color\":\"#EF553B\",\"dash\":\"solid\"},\"marker\":{\"symbol\":\"circle\"},\"mode\":\"lines\",\"name\":\"black_people\",\"orientation\":\"v\",\"showlegend\":true,\"x\":[\"2017-11-01T00:00:00\",\"2017-12-01T00:00:00\",\"2018-01-01T00:00:00\",\"2018-02-01T00:00:00\",\"2018-03-01T00:00:00\",\"2018-04-01T00:00:00\",\"2018-05-01T00:00:00\",\"2018-06-01T00:00:00\",\"2018-07-01T00:00:00\",\"2018-08-01T00:00:00\",\"2018-09-01T00:00:00\",\"2018-10-01T00:00:00\",\"2018-11-01T00:00:00\",\"2018-12-01T00:00:00\",\"2019-01-01T00:00:00\",\"2019-02-01T00:00:00\",\"2019-03-01T00:00:00\",\"2019-04-01T00:00:00\",\"2019-05-01T00:00:00\",\"2019-06-01T00:00:00\",\"2019-07-01T00:00:00\",\"2019-08-01T00:00:00\",\"2019-09-01T00:00:00\",\"2019-10-01T00:00:00\",\"2019-11-01T00:00:00\",\"2019-12-01T00:00:00\",\"2020-01-01T00:00:00\",\"2020-02-01T00:00:00\",\"2020-03-01T00:00:00\",\"2020-04-01T00:00:00\",\"2020-05-01T00:00:00\",\"2020-06-01T00:00:00\",\"2020-07-01T00:00:00\",\"2020-08-01T00:00:00\",\"2020-09-01T00:00:00\",\"2020-10-01T00:00:00\",\"2020-11-01T00:00:00\",\"2020-12-01T00:00:00\",\"2021-01-01T00:00:00\",\"2021-02-01T00:00:00\",\"2021-03-01T00:00:00\",\"2021-04-01T00:00:00\"],\"xaxis\":\"x\",\"y\":[-3.19829701189723,-3.3682888824395265,-3.3739764243763144,-3.184724408728293,-3.2430955217335007,-3.2254944472932836,-3.114787322016165,-3.1951116703626425,-3.2001266991231714,-3.3273976644506225,-3.1568128432596385,-3.226096917535498,-3.264694980324694,-3.214897075745446,-3.309162926558455,-3.2408203867983802,-3.303808023596033,-3.3324264768516945,-3.3495061798819936,-3.2859256527944023,-3.331008920522553,-3.232316943253845,-3.271658035620659,-3.3709123652174493,-3.309122371761234,-3.299808915375712,-3.258869120007503,-3.1713380451942323,-3.0961879190162627,-2.98170687946763,-3.04233992524772,-2.9378215186714427,-3.0274371264632896,-2.9620613370764035,-3.0952820032335433,-3.0101233341391103,-3.036727385363419,-3.030741477196186,-3.050398470568479,-3.087700869838352,-3.020786614907766,-2.922987939556536],\"yaxis\":\"y\",\"type\":\"scatter\"},{\"hovertemplate\":\"identity_group=intellectual_disabilities<br>parsed_date=%{x}<br>log_prob=%{y}<extra></extra>\",\"legendgroup\":\"intellectual_disabilities\",\"line\":{\"color\":\"#00cc96\",\"dash\":\"solid\"},\"marker\":{\"symbol\":\"circle\"},\"mode\":\"lines\",\"name\":\"intellectual_disabilities\",\"orientation\":\"v\",\"showlegend\":true,\"x\":[\"2017-11-01T00:00:00\",\"2017-12-01T00:00:00\",\"2018-01-01T00:00:00\",\"2018-02-01T00:00:00\",\"2018-03-01T00:00:00\",\"2018-04-01T00:00:00\",\"2018-05-01T00:00:00\",\"2018-06-01T00:00:00\",\"2018-07-01T00:00:00\",\"2018-08-01T00:00:00\",\"2018-09-01T00:00:00\",\"2018-10-01T00:00:00\",\"2018-11-01T00:00:00\",\"2018-12-01T00:00:00\",\"2019-01-01T00:00:00\",\"2019-02-01T00:00:00\",\"2019-03-01T00:00:00\",\"2019-04-01T00:00:00\",\"2019-05-01T00:00:00\",\"2019-06-01T00:00:00\",\"2019-07-01T00:00:00\",\"2019-08-01T00:00:00\",\"2019-09-01T00:00:00\",\"2019-10-01T00:00:00\",\"2019-11-01T00:00:00\",\"2019-12-01T00:00:00\",\"2020-01-01T00:00:00\",\"2020-02-01T00:00:00\",\"2020-03-01T00:00:00\",\"2020-04-01T00:00:00\",\"2020-05-01T00:00:00\",\"2020-06-01T00:00:00\",\"2020-07-01T00:00:00\",\"2020-08-01T00:00:00\",\"2020-09-01T00:00:00\",\"2020-10-01T00:00:00\",\"2020-11-01T00:00:00\",\"2020-12-01T00:00:00\",\"2021-01-01T00:00:00\",\"2021-02-01T00:00:00\",\"2021-03-01T00:00:00\",\"2021-04-01T00:00:00\"],\"xaxis\":\"x\",\"y\":[-3.034874286737879,-3.07761689142578,-3.0516250047609677,-3.057374258473792,-3.022400834712167,-3.0825436821303476,-3.127554855199756,-3.1060615089185686,-3.0921082737705263,-3.0339928463566705,-3.067393659440387,-3.084835522673779,-3.10005891978167,-3.0464866031241455,-3.012336782164848,-2.9915902273289317,-2.9932369042639286,-3.0836084275134583,-3.0490160158374295,-3.0820982049342014,-2.9744615970087405,-3.0258603741609047,-2.9425874062937174,-3.038609799273822,-3.020298760087255,-3.034690070757388,-3.0492296780870305,-2.976670353887065,-2.950777571845532,-3.018487751133395,-3.028389007694778,-3.1092998376246896,-3.1157224709725795,-3.188321408176137,-3.0589381817919508,-3.0248194127325854,-3.1681508892587082,-3.1117039323282043,-3.0484189025236756,-3.0724027691456275,-2.9969861902844603,-2.915663052240873],\"yaxis\":\"y\",\"type\":\"scatter\"},{\"hovertemplate\":\"identity_group=jews<br>parsed_date=%{x}<br>log_prob=%{y}<extra></extra>\",\"legendgroup\":\"jews\",\"line\":{\"color\":\"#ab63fa\",\"dash\":\"solid\"},\"marker\":{\"symbol\":\"circle\"},\"mode\":\"lines\",\"name\":\"jews\",\"orientation\":\"v\",\"showlegend\":true,\"x\":[\"2017-11-01T00:00:00\",\"2017-12-01T00:00:00\",\"2018-01-01T00:00:00\",\"2018-02-01T00:00:00\",\"2018-03-01T00:00:00\",\"2018-04-01T00:00:00\",\"2018-05-01T00:00:00\",\"2018-06-01T00:00:00\",\"2018-07-01T00:00:00\",\"2018-08-01T00:00:00\",\"2018-09-01T00:00:00\",\"2018-10-01T00:00:00\",\"2018-11-01T00:00:00\",\"2018-12-01T00:00:00\",\"2019-01-01T00:00:00\",\"2019-02-01T00:00:00\",\"2019-03-01T00:00:00\",\"2019-04-01T00:00:00\",\"2019-05-01T00:00:00\",\"2019-06-01T00:00:00\",\"2019-07-01T00:00:00\",\"2019-08-01T00:00:00\",\"2019-09-01T00:00:00\",\"2019-10-01T00:00:00\",\"2019-11-01T00:00:00\",\"2019-12-01T00:00:00\",\"2020-01-01T00:00:00\",\"2020-02-01T00:00:00\",\"2020-03-01T00:00:00\",\"2020-04-01T00:00:00\",\"2020-05-01T00:00:00\",\"2020-06-01T00:00:00\",\"2020-07-01T00:00:00\",\"2020-08-01T00:00:00\",\"2020-09-01T00:00:00\",\"2020-10-01T00:00:00\",\"2020-11-01T00:00:00\",\"2020-12-01T00:00:00\",\"2021-01-01T00:00:00\",\"2021-02-01T00:00:00\",\"2021-03-01T00:00:00\",\"2021-04-01T00:00:00\"],\"xaxis\":\"x\",\"y\":[-3.664916679391826,-3.6766356850366684,-3.629387703879876,-3.3224229970713304,-3.4060292442827,-3.5120555526562613,-3.4413549650585407,-3.345162859173403,-3.32349095250158,-3.479880150312953,-3.389481568760537,-3.3711422615170537,-3.264860457363047,-3.3320668730604135,-3.329973876941901,-3.294000453531183,-3.205318826216787,-3.1747119565407234,-3.234940777602154,-3.228811902010613,-3.120829309559454,-3.0795347505148967,-3.2290370874510956,-3.3639573227382313,-3.531845393402892,-3.438600775765928,-3.355814627640392,-3.30950121099565,-3.354913519743396,-3.256847537541919,-3.3881316453056387,-3.307718515826981,-3.309122737315829,-3.3874548447852493,-3.368947435821129,-3.343317803561334,-3.2678614663584993,-3.1440726065861155,-3.084713774914191,-3.0386139217842993,-3.0139311415740004,-2.8841490272477355],\"yaxis\":\"y\",\"type\":\"scatter\"},{\"hovertemplate\":\"identity_group=lgbtq_people<br>parsed_date=%{x}<br>log_prob=%{y}<extra></extra>\",\"legendgroup\":\"lgbtq_people\",\"line\":{\"color\":\"#FFA15A\",\"dash\":\"solid\"},\"marker\":{\"symbol\":\"circle\"},\"mode\":\"lines\",\"name\":\"lgbtq_people\",\"orientation\":\"v\",\"showlegend\":true,\"x\":[\"2017-11-01T00:00:00\",\"2017-12-01T00:00:00\",\"2018-01-01T00:00:00\",\"2018-02-01T00:00:00\",\"2018-03-01T00:00:00\",\"2018-04-01T00:00:00\",\"2018-05-01T00:00:00\",\"2018-06-01T00:00:00\",\"2018-07-01T00:00:00\",\"2018-08-01T00:00:00\",\"2018-09-01T00:00:00\",\"2018-10-01T00:00:00\",\"2018-11-01T00:00:00\",\"2018-12-01T00:00:00\",\"2019-01-01T00:00:00\",\"2019-02-01T00:00:00\",\"2019-03-01T00:00:00\",\"2019-04-01T00:00:00\",\"2019-05-01T00:00:00\",\"2019-06-01T00:00:00\",\"2019-07-01T00:00:00\",\"2019-08-01T00:00:00\",\"2019-09-01T00:00:00\",\"2019-10-01T00:00:00\",\"2019-11-01T00:00:00\",\"2019-12-01T00:00:00\",\"2020-01-01T00:00:00\",\"2020-02-01T00:00:00\",\"2020-03-01T00:00:00\",\"2020-04-01T00:00:00\",\"2020-05-01T00:00:00\",\"2020-06-01T00:00:00\",\"2020-07-01T00:00:00\",\"2020-08-01T00:00:00\",\"2020-09-01T00:00:00\",\"2020-10-01T00:00:00\",\"2020-11-01T00:00:00\",\"2020-12-01T00:00:00\",\"2021-01-01T00:00:00\",\"2021-02-01T00:00:00\",\"2021-03-01T00:00:00\",\"2021-04-01T00:00:00\"],\"xaxis\":\"x\",\"y\":[-3.063598437999774,-3.0667409445771217,-3.0437701805747355,-3.0900771930784146,-3.034113334955566,-3.0952750580051536,-3.084715493341135,-3.096307596156309,-3.1382417620958964,-3.067956362590452,-3.0912190484361846,-3.023249158663797,-3.004214716286914,-3.013130883548455,-2.994696532595118,-3.0030832955953257,-3.013027052976847,-3.0187022105595074,-3.0274153556361885,-2.930963565132821,-3.0243750473405733,-2.983753068829767,-3.009266305827277,-3.063023166086424,-3.0534497460801107,-3.0671131024591793,-2.9922464438156604,-3.0352127763045704,-2.999501059810446,-2.8913335539990372,-2.983082759798685,-3.012157229155265,-2.9962401701860872,-2.9382282041571517,-2.9930110435802413,-2.934371093615235,-2.9120081335133676,-3.0234681260421588,-2.9910125541270838,-2.9858012915185443,-2.928816194957094,-2.84257726740295],\"yaxis\":\"y\",\"type\":\"scatter\"},{\"hovertemplate\":\"identity_group=men_boys<br>parsed_date=%{x}<br>log_prob=%{y}<extra></extra>\",\"legendgroup\":\"men_boys\",\"line\":{\"color\":\"#19d3f3\",\"dash\":\"solid\"},\"marker\":{\"symbol\":\"circle\"},\"mode\":\"lines\",\"name\":\"men_boys\",\"orientation\":\"v\",\"showlegend\":true,\"x\":[\"2017-11-01T00:00:00\",\"2017-12-01T00:00:00\",\"2018-01-01T00:00:00\",\"2018-02-01T00:00:00\",\"2018-03-01T00:00:00\",\"2018-04-01T00:00:00\",\"2018-05-01T00:00:00\",\"2018-06-01T00:00:00\",\"2018-07-01T00:00:00\",\"2018-08-01T00:00:00\",\"2018-09-01T00:00:00\",\"2018-10-01T00:00:00\",\"2018-11-01T00:00:00\",\"2018-12-01T00:00:00\",\"2019-01-01T00:00:00\",\"2019-02-01T00:00:00\",\"2019-03-01T00:00:00\",\"2019-04-01T00:00:00\",\"2019-05-01T00:00:00\",\"2019-06-01T00:00:00\",\"2019-07-01T00:00:00\",\"2019-08-01T00:00:00\",\"2019-09-01T00:00:00\",\"2019-10-01T00:00:00\",\"2019-11-01T00:00:00\",\"2019-12-01T00:00:00\",\"2020-01-01T00:00:00\",\"2020-02-01T00:00:00\",\"2020-03-01T00:00:00\",\"2020-04-01T00:00:00\",\"2020-05-01T00:00:00\",\"2020-06-01T00:00:00\",\"2020-07-01T00:00:00\",\"2020-08-01T00:00:00\",\"2020-09-01T00:00:00\",\"2020-10-01T00:00:00\",\"2020-11-01T00:00:00\",\"2020-12-01T00:00:00\",\"2021-01-01T00:00:00\",\"2021-02-01T00:00:00\",\"2021-03-01T00:00:00\",\"2021-04-01T00:00:00\"],\"xaxis\":\"x\",\"y\":[-2.2590163650394564,-2.293557080283147,-2.309514448034634,-2.291808009653194,-2.274652006612675,-2.256158836907367,-2.2331027941896293,-2.2378975081812085,-2.2349665840078847,-2.2200069319199023,-2.2138240324973557,-2.1987632144297327,-2.198599887940871,-2.1925251027785837,-2.1683176994653364,-2.189818425795358,-2.159087929816268,-2.155779414942846,-2.191462257246881,-2.1546633830694457,-2.1559171889089983,-2.1386292056211924,-2.156982364102963,-2.170643565847144,-2.1784612044705467,-2.1508267983507174,-2.175789344153573,-2.172120255973893,-2.2264640580776107,-2.217617075695834,-2.23277437042734,-2.2512408936051895,-2.2109241022478634,-2.243983304654325,-2.268004387161382,-2.2255824084858844,-2.2510638582615403,-2.233293825701108,-2.2577934908235364,-2.2233019866776966,-2.2371300623621697,-2.2282242100565406],\"yaxis\":\"y\",\"type\":\"scatter\"},{\"hovertemplate\":\"identity_group=men_boys_address<br>parsed_date=%{x}<br>log_prob=%{y}<extra></extra>\",\"legendgroup\":\"men_boys_address\",\"line\":{\"color\":\"#FF6692\",\"dash\":\"solid\"},\"marker\":{\"symbol\":\"circle\"},\"mode\":\"lines\",\"name\":\"men_boys_address\",\"orientation\":\"v\",\"showlegend\":true,\"x\":[\"2017-11-01T00:00:00\",\"2017-12-01T00:00:00\",\"2018-01-01T00:00:00\",\"2018-02-01T00:00:00\",\"2018-03-01T00:00:00\",\"2018-04-01T00:00:00\",\"2018-05-01T00:00:00\",\"2018-06-01T00:00:00\",\"2018-07-01T00:00:00\",\"2018-08-01T00:00:00\",\"2018-09-01T00:00:00\",\"2018-10-01T00:00:00\",\"2018-11-01T00:00:00\",\"2018-12-01T00:00:00\",\"2019-01-01T00:00:00\",\"2019-02-01T00:00:00\",\"2019-03-01T00:00:00\",\"2019-04-01T00:00:00\",\"2019-05-01T00:00:00\",\"2019-06-01T00:00:00\",\"2019-07-01T00:00:00\",\"2019-08-01T00:00:00\",\"2019-09-01T00:00:00\",\"2019-10-01T00:00:00\",\"2019-11-01T00:00:00\",\"2019-12-01T00:00:00\",\"2020-01-01T00:00:00\",\"2020-02-01T00:00:00\",\"2020-03-01T00:00:00\",\"2020-04-01T00:00:00\",\"2020-05-01T00:00:00\",\"2020-06-01T00:00:00\",\"2020-07-01T00:00:00\",\"2020-08-01T00:00:00\",\"2020-09-01T00:00:00\",\"2020-10-01T00:00:00\",\"2020-11-01T00:00:00\",\"2020-12-01T00:00:00\",\"2021-01-01T00:00:00\",\"2021-02-01T00:00:00\",\"2021-03-01T00:00:00\",\"2021-04-01T00:00:00\"],\"xaxis\":\"x\",\"y\":[-3.1372471954474377,-3.096463904601213,-3.085379147849932,-3.049392212284133,-3.0427242994579977,-3.171585767638552,-3.0630518673586478,-3.004255943981309,-3.0148445969492808,-3.0823645682389786,-2.9217888782715837,-2.887199323417108,-2.966903214899909,-2.936972374858862,-2.8262369204157607,-2.821583567115788,-2.7540717951485485,-2.8256692741897473,-2.937447570918393,-2.794029155691012,-2.8527869561279795,-2.810169657004239,-2.8942827267191626,-2.9546675092011427,-2.9461574109961672,-2.895430962308553,-2.9138599283070374,-2.8811030936935067,-2.859194093321253,-2.88796691324908,-2.8875133106919213,-2.9276859068630428,-2.939687919429142,-2.9468958086669965,-3.021353127125361,-2.980238937240131,-3.030539880638445,-3.1193610554895654,-3.125367492217509,-3.144405430566129,-3.090418483216754,-3.0013696628598012],\"yaxis\":\"y\",\"type\":\"scatter\"},{\"hovertemplate\":\"identity_group=white_people<br>parsed_date=%{x}<br>log_prob=%{y}<extra></extra>\",\"legendgroup\":\"white_people\",\"line\":{\"color\":\"#B6E880\",\"dash\":\"solid\"},\"marker\":{\"symbol\":\"circle\"},\"mode\":\"lines\",\"name\":\"white_people\",\"orientation\":\"v\",\"showlegend\":true,\"x\":[\"2017-11-01T00:00:00\",\"2017-12-01T00:00:00\",\"2018-01-01T00:00:00\",\"2018-02-01T00:00:00\",\"2018-03-01T00:00:00\",\"2018-04-01T00:00:00\",\"2018-05-01T00:00:00\",\"2018-06-01T00:00:00\",\"2018-07-01T00:00:00\",\"2018-08-01T00:00:00\",\"2018-09-01T00:00:00\",\"2018-10-01T00:00:00\",\"2018-11-01T00:00:00\",\"2018-12-01T00:00:00\",\"2019-01-01T00:00:00\",\"2019-02-01T00:00:00\",\"2019-03-01T00:00:00\",\"2019-04-01T00:00:00\",\"2019-05-01T00:00:00\",\"2019-06-01T00:00:00\",\"2019-07-01T00:00:00\",\"2019-08-01T00:00:00\",\"2019-09-01T00:00:00\",\"2019-10-01T00:00:00\",\"2019-11-01T00:00:00\",\"2019-12-01T00:00:00\",\"2020-01-01T00:00:00\",\"2020-02-01T00:00:00\",\"2020-03-01T00:00:00\",\"2020-04-01T00:00:00\",\"2020-05-01T00:00:00\",\"2020-06-01T00:00:00\",\"2020-07-01T00:00:00\",\"2020-08-01T00:00:00\",\"2020-09-01T00:00:00\",\"2020-10-01T00:00:00\",\"2020-11-01T00:00:00\",\"2020-12-01T00:00:00\",\"2021-01-01T00:00:00\",\"2021-02-01T00:00:00\",\"2021-03-01T00:00:00\",\"2021-04-01T00:00:00\"],\"xaxis\":\"x\",\"y\":[-3.4848906755781903,-3.4536289564768605,-3.4249555411588233,-3.3979013444707413,-3.1953518452206193,-3.3076282292026624,-3.1028244977242827,-3.134048763093362,-3.193474213266505,-3.2933108321889897,-3.2535499109616715,-3.317787589205857,-3.1706066879987307,-3.25883495952599,-3.3071753053229416,-3.156433093521788,-3.1372749449051387,-3.1889353313743976,-3.2912782674098287,-3.3012947662658507,-3.330231659497361,-3.316363292054741,-3.293743908511733,-3.357111908971837,-3.484477330303895,-3.3181152242675718,-3.30685656473822,-3.420447096707609,-3.4876234222319433,-3.4391658918309735,-3.3788174668364035,-3.211942791808082,-3.2911762802119195,-3.4147369136668004,-3.291698019015318,-3.194972432223608,-3.2946763813110067,-3.1540438023183324,-3.1680020440756653,-3.112705342739208,-3.2093338227459247,-2.897003139947436],\"yaxis\":\"y\",\"type\":\"scatter\"},{\"hovertemplate\":\"identity_group=women_girls<br>parsed_date=%{x}<br>log_prob=%{y}<extra></extra>\",\"legendgroup\":\"women_girls\",\"line\":{\"color\":\"#FF97FF\",\"dash\":\"solid\"},\"marker\":{\"symbol\":\"circle\"},\"mode\":\"lines\",\"name\":\"women_girls\",\"orientation\":\"v\",\"showlegend\":true,\"x\":[\"2017-11-01T00:00:00\",\"2017-12-01T00:00:00\",\"2018-01-01T00:00:00\",\"2018-02-01T00:00:00\",\"2018-03-01T00:00:00\",\"2018-04-01T00:00:00\",\"2018-05-01T00:00:00\",\"2018-06-01T00:00:00\",\"2018-07-01T00:00:00\",\"2018-08-01T00:00:00\",\"2018-09-01T00:00:00\",\"2018-10-01T00:00:00\",\"2018-11-01T00:00:00\",\"2018-12-01T00:00:00\",\"2019-01-01T00:00:00\",\"2019-02-01T00:00:00\",\"2019-03-01T00:00:00\",\"2019-04-01T00:00:00\",\"2019-05-01T00:00:00\",\"2019-06-01T00:00:00\",\"2019-07-01T00:00:00\",\"2019-08-01T00:00:00\",\"2019-09-01T00:00:00\",\"2019-10-01T00:00:00\",\"2019-11-01T00:00:00\",\"2019-12-01T00:00:00\",\"2020-01-01T00:00:00\",\"2020-02-01T00:00:00\",\"2020-03-01T00:00:00\",\"2020-04-01T00:00:00\",\"2020-05-01T00:00:00\",\"2020-06-01T00:00:00\",\"2020-07-01T00:00:00\",\"2020-08-01T00:00:00\",\"2020-09-01T00:00:00\",\"2020-10-01T00:00:00\",\"2020-11-01T00:00:00\",\"2020-12-01T00:00:00\",\"2021-01-01T00:00:00\",\"2021-02-01T00:00:00\",\"2021-03-01T00:00:00\",\"2021-04-01T00:00:00\"],\"xaxis\":\"x\",\"y\":[-1.941746900756624,-1.9800121386217544,-2.012902623706402,-1.987704932570059,-1.9551659916899695,-1.9649063994131692,-1.9543629563125837,-1.983408221472149,-2.013362873338888,-1.9918669270517881,-2.0485302832852277,-2.06338994630824,-2.030901400498728,-2.0178555889125964,-2.022481957203525,-2.082342917643748,-2.0889218262426787,-2.075249764893595,-2.0730871949823264,-2.079565017741321,-2.083201606065873,-2.071020759473666,-2.0795901510685035,-2.0518389991339103,-2.039804928356664,-2.0253651094608838,-2.08029571303405,-2.087925707807778,-2.152092035114101,-2.130133035305467,-2.1405188534262956,-2.162268945725739,-2.1073158023707945,-2.2276655734151354,-2.152976735420012,-2.104479244212426,-2.1449750021314293,-2.082552455121487,-2.1280919983010325,-2.0867300247700236,-2.112671801706758,-2.1091994419247726],\"yaxis\":\"y\",\"type\":\"scatter\"},{\"hovertemplate\":\"identity_group=women_girls_derogatory<br>parsed_date=%{x}<br>log_prob=%{y}<extra></extra>\",\"legendgroup\":\"women_girls_derogatory\",\"line\":{\"color\":\"#FECB52\",\"dash\":\"solid\"},\"marker\":{\"symbol\":\"circle\"},\"mode\":\"lines\",\"name\":\"women_girls_derogatory\",\"orientation\":\"v\",\"showlegend\":true,\"x\":[\"2017-11-01T00:00:00\",\"2017-12-01T00:00:00\",\"2018-01-01T00:00:00\",\"2018-02-01T00:00:00\",\"2018-03-01T00:00:00\",\"2018-04-01T00:00:00\",\"2018-05-01T00:00:00\",\"2018-06-01T00:00:00\",\"2018-07-01T00:00:00\",\"2018-08-01T00:00:00\",\"2018-09-01T00:00:00\",\"2018-10-01T00:00:00\",\"2018-11-01T00:00:00\",\"2018-12-01T00:00:00\",\"2019-01-01T00:00:00\",\"2019-02-01T00:00:00\",\"2019-03-01T00:00:00\",\"2019-04-01T00:00:00\",\"2019-05-01T00:00:00\",\"2019-06-01T00:00:00\",\"2019-07-01T00:00:00\",\"2019-08-01T00:00:00\",\"2019-09-01T00:00:00\",\"2019-10-01T00:00:00\",\"2019-11-01T00:00:00\",\"2019-12-01T00:00:00\",\"2020-01-01T00:00:00\",\"2020-02-01T00:00:00\",\"2020-03-01T00:00:00\",\"2020-04-01T00:00:00\",\"2020-05-01T00:00:00\",\"2020-06-01T00:00:00\",\"2020-07-01T00:00:00\",\"2020-08-01T00:00:00\",\"2020-09-01T00:00:00\",\"2020-10-01T00:00:00\",\"2020-11-01T00:00:00\",\"2020-12-01T00:00:00\",\"2021-01-01T00:00:00\",\"2021-02-01T00:00:00\",\"2021-03-01T00:00:00\",\"2021-04-01T00:00:00\"],\"xaxis\":\"x\",\"y\":[-2.810082330245198,-2.89550800446121,-2.9168897366400177,-2.8777703043115452,-2.79416988737709,-2.789759823201599,-2.767073039147889,-2.8561840357019688,-2.8885780690863716,-2.848228286191869,-2.889896763764704,-2.8666432663947234,-2.7760368449560535,-2.75738612668525,-2.775055277072408,-2.83320417963993,-2.8481076505052463,-2.9183032977955774,-2.859451684231081,-2.850282163942788,-2.8813851105626394,-2.820720832861105,-2.9128147831253424,-2.8881156637642507,-2.821325184377832,-2.841447481644365,-2.880353023567934,-2.9047400016631926,-2.898341135931813,-2.8584654170089308,-2.9014485674262747,-2.9184680881822236,-2.884583645585993,-2.960983415247528,-2.9211773912450196,-2.875924236411606,-2.8822293630934235,-2.8863550437139383,-2.914359646606468,-2.8772062143007116,-2.882560322483613,-2.814117149215375],\"yaxis\":\"y\",\"type\":\"scatter\"},{\"hovertemplate\":\"identity_group=youth<br>parsed_date=%{x}<br>log_prob=%{y}<extra></extra>\",\"legendgroup\":\"youth\",\"line\":{\"color\":\"#636efa\",\"dash\":\"solid\"},\"marker\":{\"symbol\":\"circle\"},\"mode\":\"lines\",\"name\":\"youth\",\"orientation\":\"v\",\"showlegend\":true,\"x\":[\"2017-11-01T00:00:00\",\"2017-12-01T00:00:00\",\"2018-01-01T00:00:00\",\"2018-02-01T00:00:00\",\"2018-03-01T00:00:00\",\"2018-04-01T00:00:00\",\"2018-05-01T00:00:00\",\"2018-06-01T00:00:00\",\"2018-07-01T00:00:00\",\"2018-08-01T00:00:00\",\"2018-09-01T00:00:00\",\"2018-10-01T00:00:00\",\"2018-11-01T00:00:00\",\"2018-12-01T00:00:00\",\"2019-01-01T00:00:00\",\"2019-02-01T00:00:00\",\"2019-03-01T00:00:00\",\"2019-04-01T00:00:00\",\"2019-05-01T00:00:00\",\"2019-06-01T00:00:00\",\"2019-07-01T00:00:00\",\"2019-08-01T00:00:00\",\"2019-09-01T00:00:00\",\"2019-10-01T00:00:00\",\"2019-11-01T00:00:00\",\"2019-12-01T00:00:00\",\"2020-01-01T00:00:00\",\"2020-02-01T00:00:00\",\"2020-03-01T00:00:00\",\"2020-04-01T00:00:00\",\"2020-05-01T00:00:00\",\"2020-06-01T00:00:00\",\"2020-07-01T00:00:00\",\"2020-08-01T00:00:00\",\"2020-09-01T00:00:00\",\"2020-10-01T00:00:00\",\"2020-11-01T00:00:00\",\"2020-12-01T00:00:00\",\"2021-01-01T00:00:00\",\"2021-02-01T00:00:00\",\"2021-03-01T00:00:00\",\"2021-04-01T00:00:00\"],\"xaxis\":\"x\",\"y\":[-3.0369639193911357,-3.0228379475076252,-2.9942665216419058,-3.0049943870392646,-2.969733506118281,-2.9765033592285155,-2.9491394201919703,-2.889793785830655,-2.9031243968495195,-2.876364347991747,-2.917115410616017,-2.869674276792409,-2.8663250261989113,-2.831721163251923,-2.864359187290111,-2.876027236861556,-2.844340512420076,-2.896992444081406,-2.8249044688628953,-2.874913088748135,-2.888347338566661,-2.8825440548596863,-2.781459721955811,-2.850161609563702,-2.793376360415732,-2.8712000869372227,-2.895951578901815,-2.8573299379967696,-2.9104745583872424,-2.9434783781571174,-2.871878339375058,-2.9244437021574585,-2.8248033092224905,-2.992572244973552,-2.9351974322417798,-2.9250921102716276,-3.0097587007989968,-2.8700196380685323,-2.900455537948492,-2.8972700063560866,-2.9050011915318583,-2.9408962889617585],\"yaxis\":\"y\",\"type\":\"scatter\"}],                        {\"template\":{\"data\":{\"histogram2dcontour\":[{\"type\":\"histogram2dcontour\",\"colorbar\":{\"outlinewidth\":0,\"ticks\":\"\"},\"colorscale\":[[0.0,\"#0d0887\"],[0.1111111111111111,\"#46039f\"],[0.2222222222222222,\"#7201a8\"],[0.3333333333333333,\"#9c179e\"],[0.4444444444444444,\"#bd3786\"],[0.5555555555555556,\"#d8576b\"],[0.6666666666666666,\"#ed7953\"],[0.7777777777777778,\"#fb9f3a\"],[0.8888888888888888,\"#fdca26\"],[1.0,\"#f0f921\"]]}],\"choropleth\":[{\"type\":\"choropleth\",\"colorbar\":{\"outlinewidth\":0,\"ticks\":\"\"}}],\"histogram2d\":[{\"type\":\"histogram2d\",\"colorbar\":{\"outlinewidth\":0,\"ticks\":\"\"},\"colorscale\":[[0.0,\"#0d0887\"],[0.1111111111111111,\"#46039f\"],[0.2222222222222222,\"#7201a8\"],[0.3333333333333333,\"#9c179e\"],[0.4444444444444444,\"#bd3786\"],[0.5555555555555556,\"#d8576b\"],[0.6666666666666666,\"#ed7953\"],[0.7777777777777778,\"#fb9f3a\"],[0.8888888888888888,\"#fdca26\"],[1.0,\"#f0f921\"]]}],\"heatmap\":[{\"type\":\"heatmap\",\"colorbar\":{\"outlinewidth\":0,\"ticks\":\"\"},\"colorscale\":[[0.0,\"#0d0887\"],[0.1111111111111111,\"#46039f\"],[0.2222222222222222,\"#7201a8\"],[0.3333333333333333,\"#9c179e\"],[0.4444444444444444,\"#bd3786\"],[0.5555555555555556,\"#d8576b\"],[0.6666666666666666,\"#ed7953\"],[0.7777777777777778,\"#fb9f3a\"],[0.8888888888888888,\"#fdca26\"],[1.0,\"#f0f921\"]]}],\"heatmapgl\":[{\"type\":\"heatmapgl\",\"colorbar\":{\"outlinewidth\":0,\"ticks\":\"\"},\"colorscale\":[[0.0,\"#0d0887\"],[0.1111111111111111,\"#46039f\"],[0.2222222222222222,\"#7201a8\"],[0.3333333333333333,\"#9c179e\"],[0.4444444444444444,\"#bd3786\"],[0.5555555555555556,\"#d8576b\"],[0.6666666666666666,\"#ed7953\"],[0.7777777777777778,\"#fb9f3a\"],[0.8888888888888888,\"#fdca26\"],[1.0,\"#f0f921\"]]}],\"contourcarpet\":[{\"type\":\"contourcarpet\",\"colorbar\":{\"outlinewidth\":0,\"ticks\":\"\"}}],\"contour\":[{\"type\":\"contour\",\"colorbar\":{\"outlinewidth\":0,\"ticks\":\"\"},\"colorscale\":[[0.0,\"#0d0887\"],[0.1111111111111111,\"#46039f\"],[0.2222222222222222,\"#7201a8\"],[0.3333333333333333,\"#9c179e\"],[0.4444444444444444,\"#bd3786\"],[0.5555555555555556,\"#d8576b\"],[0.6666666666666666,\"#ed7953\"],[0.7777777777777778,\"#fb9f3a\"],[0.8888888888888888,\"#fdca26\"],[1.0,\"#f0f921\"]]}],\"surface\":[{\"type\":\"surface\",\"colorbar\":{\"outlinewidth\":0,\"ticks\":\"\"},\"colorscale\":[[0.0,\"#0d0887\"],[0.1111111111111111,\"#46039f\"],[0.2222222222222222,\"#7201a8\"],[0.3333333333333333,\"#9c179e\"],[0.4444444444444444,\"#bd3786\"],[0.5555555555555556,\"#d8576b\"],[0.6666666666666666,\"#ed7953\"],[0.7777777777777778,\"#fb9f3a\"],[0.8888888888888888,\"#fdca26\"],[1.0,\"#f0f921\"]]}],\"mesh3d\":[{\"type\":\"mesh3d\",\"colorbar\":{\"outlinewidth\":0,\"ticks\":\"\"}}],\"scatter\":[{\"fillpattern\":{\"fillmode\":\"overlay\",\"size\":10,\"solidity\":0.2},\"type\":\"scatter\"}],\"parcoords\":[{\"type\":\"parcoords\",\"line\":{\"colorbar\":{\"outlinewidth\":0,\"ticks\":\"\"}}}],\"scatterpolargl\":[{\"type\":\"scatterpolargl\",\"marker\":{\"colorbar\":{\"outlinewidth\":0,\"ticks\":\"\"}}}],\"bar\":[{\"error_x\":{\"color\":\"#2a3f5f\"},\"error_y\":{\"color\":\"#2a3f5f\"},\"marker\":{\"line\":{\"color\":\"#E5ECF6\",\"width\":0.5},\"pattern\":{\"fillmode\":\"overlay\",\"size\":10,\"solidity\":0.2}},\"type\":\"bar\"}],\"scattergeo\":[{\"type\":\"scattergeo\",\"marker\":{\"colorbar\":{\"outlinewidth\":0,\"ticks\":\"\"}}}],\"scatterpolar\":[{\"type\":\"scatterpolar\",\"marker\":{\"colorbar\":{\"outlinewidth\":0,\"ticks\":\"\"}}}],\"histogram\":[{\"marker\":{\"pattern\":{\"fillmode\":\"overlay\",\"size\":10,\"solidity\":0.2}},\"type\":\"histogram\"}],\"scattergl\":[{\"type\":\"scattergl\",\"marker\":{\"colorbar\":{\"outlinewidth\":0,\"ticks\":\"\"}}}],\"scatter3d\":[{\"type\":\"scatter3d\",\"line\":{\"colorbar\":{\"outlinewidth\":0,\"ticks\":\"\"}},\"marker\":{\"colorbar\":{\"outlinewidth\":0,\"ticks\":\"\"}}}],\"scattermapbox\":[{\"type\":\"scattermapbox\",\"marker\":{\"colorbar\":{\"outlinewidth\":0,\"ticks\":\"\"}}}],\"scatterternary\":[{\"type\":\"scatterternary\",\"marker\":{\"colorbar\":{\"outlinewidth\":0,\"ticks\":\"\"}}}],\"scattercarpet\":[{\"type\":\"scattercarpet\",\"marker\":{\"colorbar\":{\"outlinewidth\":0,\"ticks\":\"\"}}}],\"carpet\":[{\"aaxis\":{\"endlinecolor\":\"#2a3f5f\",\"gridcolor\":\"white\",\"linecolor\":\"white\",\"minorgridcolor\":\"white\",\"startlinecolor\":\"#2a3f5f\"},\"baxis\":{\"endlinecolor\":\"#2a3f5f\",\"gridcolor\":\"white\",\"linecolor\":\"white\",\"minorgridcolor\":\"white\",\"startlinecolor\":\"#2a3f5f\"},\"type\":\"carpet\"}],\"table\":[{\"cells\":{\"fill\":{\"color\":\"#EBF0F8\"},\"line\":{\"color\":\"white\"}},\"header\":{\"fill\":{\"color\":\"#C8D4E3\"},\"line\":{\"color\":\"white\"}},\"type\":\"table\"}],\"barpolar\":[{\"marker\":{\"line\":{\"color\":\"#E5ECF6\",\"width\":0.5},\"pattern\":{\"fillmode\":\"overlay\",\"size\":10,\"solidity\":0.2}},\"type\":\"barpolar\"}],\"pie\":[{\"automargin\":true,\"type\":\"pie\"}]},\"layout\":{\"autotypenumbers\":\"strict\",\"colorway\":[\"#636efa\",\"#EF553B\",\"#00cc96\",\"#ab63fa\",\"#FFA15A\",\"#19d3f3\",\"#FF6692\",\"#B6E880\",\"#FF97FF\",\"#FECB52\"],\"font\":{\"color\":\"#2a3f5f\"},\"hovermode\":\"closest\",\"hoverlabel\":{\"align\":\"left\"},\"paper_bgcolor\":\"white\",\"plot_bgcolor\":\"#E5ECF6\",\"polar\":{\"bgcolor\":\"#E5ECF6\",\"angularaxis\":{\"gridcolor\":\"white\",\"linecolor\":\"white\",\"ticks\":\"\"},\"radialaxis\":{\"gridcolor\":\"white\",\"linecolor\":\"white\",\"ticks\":\"\"}},\"ternary\":{\"bgcolor\":\"#E5ECF6\",\"aaxis\":{\"gridcolor\":\"white\",\"linecolor\":\"white\",\"ticks\":\"\"},\"baxis\":{\"gridcolor\":\"white\",\"linecolor\":\"white\",\"ticks\":\"\"},\"caxis\":{\"gridcolor\":\"white\",\"linecolor\":\"white\",\"ticks\":\"\"}},\"coloraxis\":{\"colorbar\":{\"outlinewidth\":0,\"ticks\":\"\"}},\"colorscale\":{\"sequential\":[[0.0,\"#0d0887\"],[0.1111111111111111,\"#46039f\"],[0.2222222222222222,\"#7201a8\"],[0.3333333333333333,\"#9c179e\"],[0.4444444444444444,\"#bd3786\"],[0.5555555555555556,\"#d8576b\"],[0.6666666666666666,\"#ed7953\"],[0.7777777777777778,\"#fb9f3a\"],[0.8888888888888888,\"#fdca26\"],[1.0,\"#f0f921\"]],\"sequentialminus\":[[0.0,\"#0d0887\"],[0.1111111111111111,\"#46039f\"],[0.2222222222222222,\"#7201a8\"],[0.3333333333333333,\"#9c179e\"],[0.4444444444444444,\"#bd3786\"],[0.5555555555555556,\"#d8576b\"],[0.6666666666666666,\"#ed7953\"],[0.7777777777777778,\"#fb9f3a\"],[0.8888888888888888,\"#fdca26\"],[1.0,\"#f0f921\"]],\"diverging\":[[0,\"#8e0152\"],[0.1,\"#c51b7d\"],[0.2,\"#de77ae\"],[0.3,\"#f1b6da\"],[0.4,\"#fde0ef\"],[0.5,\"#f7f7f7\"],[0.6,\"#e6f5d0\"],[0.7,\"#b8e186\"],[0.8,\"#7fbc41\"],[0.9,\"#4d9221\"],[1,\"#276419\"]]},\"xaxis\":{\"gridcolor\":\"white\",\"linecolor\":\"white\",\"ticks\":\"\",\"title\":{\"standoff\":15},\"zerolinecolor\":\"white\",\"automargin\":true,\"zerolinewidth\":2},\"yaxis\":{\"gridcolor\":\"white\",\"linecolor\":\"white\",\"ticks\":\"\",\"title\":{\"standoff\":15},\"zerolinecolor\":\"white\",\"automargin\":true,\"zerolinewidth\":2},\"scene\":{\"xaxis\":{\"backgroundcolor\":\"#E5ECF6\",\"gridcolor\":\"white\",\"linecolor\":\"white\",\"showbackground\":true,\"ticks\":\"\",\"zerolinecolor\":\"white\",\"gridwidth\":2},\"yaxis\":{\"backgroundcolor\":\"#E5ECF6\",\"gridcolor\":\"white\",\"linecolor\":\"white\",\"showbackground\":true,\"ticks\":\"\",\"zerolinecolor\":\"white\",\"gridwidth\":2},\"zaxis\":{\"backgroundcolor\":\"#E5ECF6\",\"gridcolor\":\"white\",\"linecolor\":\"white\",\"showbackground\":true,\"ticks\":\"\",\"zerolinecolor\":\"white\",\"gridwidth\":2}},\"shapedefaults\":{\"line\":{\"color\":\"#2a3f5f\"}},\"annotationdefaults\":{\"arrowcolor\":\"#2a3f5f\",\"arrowhead\":0,\"arrowwidth\":1},\"geo\":{\"bgcolor\":\"white\",\"landcolor\":\"#E5ECF6\",\"subunitcolor\":\"white\",\"showland\":true,\"showlakes\":true,\"lakecolor\":\"white\"},\"title\":{\"x\":0.05},\"mapbox\":{\"style\":\"light\"}}},\"xaxis\":{\"anchor\":\"y\",\"domain\":[0.0,1.0],\"title\":{\"text\":\"parsed_date\"}},\"yaxis\":{\"anchor\":\"x\",\"domain\":[0.0,1.0],\"title\":{\"text\":\"log_prob\"}},\"legend\":{\"title\":{\"text\":\"identity_group\"},\"tracegroupgap\":0},\"margin\":{\"t\":60},\"height\":500},                        {\"responsive\": true}                    ).then(function(){\n",
       "                            \n",
       "var gd = document.getElementById('b5c2dff5-e46b-4337-98ef-01075484d680');\n",
       "var x = new MutationObserver(function (mutations, observer) {{\n",
       "        var display = window.getComputedStyle(gd).display;\n",
       "        if (!display || display === 'none') {{\n",
       "            console.log([gd, 'removed!']);\n",
       "            Plotly.purge(gd);\n",
       "            observer.disconnect();\n",
       "        }}\n",
       "}});\n",
       "\n",
       "// Listen for the removal of the full notebook cells\n",
       "var notebookContainer = gd.closest('#notebook-container');\n",
       "if (notebookContainer) {{\n",
       "    x.observe(notebookContainer, {childList: true});\n",
       "}}\n",
       "\n",
       "// Listen for the clearing of the current output cell\n",
       "var outputEl = gd.closest('.output');\n",
       "if (outputEl) {{\n",
       "    x.observe(outputEl, {childList: true});\n",
       "}}\n",
       "\n",
       "                        })                };                });            </script>        </div>"
      ]
     },
     "metadata": {},
     "output_type": "display_data"
    }
   ],
   "source": [
    "# post_counts = data.groupby(pd.Grouper(key='parsed_date', freq='MS'))['content'].count()\n",
    "data['word_count'] = data.content.str.split().str.len()\n",
    "\n",
    "word_counts = data.groupby(pd.Grouper(key='parsed_date', freq='MS'))['word_count'].sum()\n",
    "word_counts\n",
    "\n",
    "# exploded = data.explode('netmapper_identity_matches').dropna(subset='netmapper_identity_matches')\n",
    "# counts_overtime = exploded.groupby([pd.Grouper(key='parsed_date', freq='MS'), 'netmapper_identity_matches']).size().to_frame(name='count').reset_index(names=['parsed_date', 'identity_term'])\n",
    "counts_overtime = exploded.groupby([pd.Grouper(key='parsed_date', freq='MS'), 'identity_group']).size().to_frame(name='term_count').reset_index(names=['parsed_date', 'identity_group'])\n",
    "counts_overtime\n",
    "\n",
    "counts_overtime = counts_overtime.join(word_counts, on='parsed_date').rename(columns={'content': 'word_count'})\n",
    "counts_overtime\n",
    "\n",
    "import numpy as np\n",
    "\n",
    "counts_overtime['mention_prob'] = counts_overtime['term_count'] / counts_overtime.word_count\n",
    "counts_overtime['log_prob'] = counts_overtime['mention_prob'].map(np.log10)\n",
    "counts_overtime.head()\n",
    "\n",
    "# Plot\n",
    "import plotly.express as px\n",
    "\n",
    "# Select only most popular identity groups\n",
    "filtered = counts_overtime[counts_overtime.identity_group.isin(gp_freq.identity_group.head(11))]\n",
    "\n",
    "# px.line(filtered, x='parsed_date', y='count', color='identity_term')\n",
    "px.line(filtered, x='parsed_date', y='log_prob', color='identity_group', height=500)\n",
    "# px.line(filtered, x='parsed_date', y='mention_prob', color='identity_group', log_y=True)"
   ]
  },
  {
   "cell_type": "markdown",
   "id": "1c6f5152-2d1d-497d-b83d-7d046ae591ff",
   "metadata": {},
   "source": [
    "## Look into specific time periods"
   ]
  },
  {
   "cell_type": "code",
   "execution_count": 27,
   "id": "0b03c5f2-8295-4864-bdd9-e1bc74eb4246",
   "metadata": {},
   "outputs": [
    {
     "name": "stdout",
     "output_type": "stream",
     "text": [
      "<class 'pandas.core.frame.DataFrame'>\n",
      "Int64Index: 468342 entries, 6426 to 6247022\n",
      "Data columns (total 9 columns):\n",
      " #   Column                      Non-Null Count   Dtype         \n",
      "---  ------                      --------------   -----         \n",
      " 0   type                        468342 non-null  object        \n",
      " 1   forum                       468342 non-null  object        \n",
      " 2   thread                      468342 non-null  object        \n",
      " 3   username                    468342 non-null  object        \n",
      " 4   date                        468342 non-null  object        \n",
      " 5   content                     461175 non-null  object        \n",
      " 6   parsed_date                 468342 non-null  datetime64[ns]\n",
      " 7   netmapper_identity_matches  277014 non-null  object        \n",
      " 8   identity_group              277014 non-null  object        \n",
      "dtypes: datetime64[ns](1), object(8)\n",
      "memory usage: 35.7+ MB\n",
      "2020-04-01 00:00:00\n",
      "2020-04-30 00:00:00\n"
     ]
    }
   ],
   "source": [
    "# April 2020 jump in women_girls_derogatory and black_people\n",
    "# Filter data to that month\n",
    "\n",
    "period = exploded[(exploded.parsed_date.dt.year == 2020) & (exploded.parsed_date.dt.month == 4)]\n",
    "period.info()\n",
    "print(period.parsed_date.min())\n",
    "print(period.parsed_date.max())"
   ]
  },
  {
   "cell_type": "code",
   "execution_count": 39,
   "id": "c4e86755-46f0-43c9-bdcf-3d682ea5c0fb",
   "metadata": {},
   "outputs": [
    {
     "name": "stdout",
     "output_type": "stream",
     "text": [
      "17608\n",
      "5979\n"
     ]
    },
    {
     "data": {
      "text/plain": [
       "4302754    2128\n",
       "4302327    2128\n",
       "4302067    2128\n",
       "4302518    2128\n",
       "5633249     385\n",
       "5632825     385\n",
       "4326208     124\n",
       "4326210     124\n",
       "5686516      61\n",
       "5687210      60\n",
       "4222121      42\n",
       "4222118      42\n",
       "4221607      39\n",
       "4254361      37\n",
       "3956420      27\n",
       "3956421      25\n",
       "4254362      24\n",
       "4254367      24\n",
       "4263912      17\n",
       "4276907      16\n",
       "dtype: int64"
      ]
     },
     "execution_count": 39,
     "metadata": {},
     "output_type": "execute_result"
    }
   ],
   "source": [
    "identity_group = 'black_people'\n",
    "# identity_group = 'women_girls_derogatory'\n",
    "selected = period[period.identity_group == identity_group]\n",
    "print(len(selected))\n",
    "print(len(selected.index.unique())) # index is unique to the post\n",
    "\n",
    "selected.index.value_counts().iloc[:20]"
   ]
  },
  {
   "cell_type": "code",
   "execution_count": null,
   "id": "c3be74a3-5559-4cef-a8e8-a721770f3f12",
   "metadata": {
    "scrolled": true,
    "tags": []
   },
   "outputs": [],
   "source": [
    "pd.set_option('display.max_colwidth', None)\n",
    "selected.loc[4302327].iloc[0]"
   ]
  },
  {
   "cell_type": "code",
   "execution_count": null,
   "id": "f2772d0d-555e-46cb-bf2e-adb50b802916",
   "metadata": {
    "scrolled": true,
    "tags": []
   },
   "outputs": [],
   "source": [
    "pd.set_option('display.max_colwidth', None)\n",
    "selected.loc[1045225].iloc[0]"
   ]
  },
  {
   "cell_type": "markdown",
   "id": "4e58cb7b-a086-483a-b4ec-a8aeecf0258a",
   "metadata": {
    "tags": []
   },
   "source": [
    "## Identity categories"
   ]
  },
  {
   "cell_type": "code",
   "execution_count": 17,
   "id": "972b0272-ea52-467c-b4b3-ca9125d4af83",
   "metadata": {},
   "outputs": [
    {
     "name": "stdout",
     "output_type": "stream",
     "text": [
      "398\n"
     ]
    },
    {
     "data": {
      "text/plain": [
       "gender/sexuality    3336498\n",
       "race/ethnicity       424149\n",
       "age                  275143\n",
       "religion             183909\n",
       "politics              65982\n",
       "disability            27090\n",
       "Name: identity_category, dtype: int64"
      ]
     },
     "execution_count": 17,
     "metadata": {},
     "output_type": "execute_result"
    }
   ],
   "source": [
    "import json\n",
    "\n",
    "identity_cats_fpath = '../resources/identity_categories.json'\n",
    "with open(identity_cats_fpath, 'r') as f:\n",
    "    identity_cats = json.load(f)\n",
    "print(len(identity_cats))\n",
    "\n",
    "exploded['identity_category'] = exploded.identity_group.map(identity_cats)\n",
    "cat_freq = exploded.identity_category.value_counts()\n",
    "cat_freq"
   ]
  },
  {
   "cell_type": "code",
   "execution_count": 18,
   "id": "b684b814-7e3b-47ce-a7f1-73a7d24d817a",
   "metadata": {},
   "outputs": [
    {
     "data": {
      "application/vnd.plotly.v1+json": {
       "config": {
        "plotlyServerURL": "https://plot.ly"
       },
       "data": [
        {
         "alignmentgroup": "True",
         "hovertemplate": "variable=identity_category<br>index=%{x}<br>value=%{y}<extra></extra>",
         "legendgroup": "identity_category",
         "marker": {
          "color": "#636efa",
          "pattern": {
           "shape": ""
          }
         },
         "name": "identity_category",
         "offsetgroup": "identity_category",
         "orientation": "v",
         "showlegend": true,
         "textposition": "auto",
         "type": "bar",
         "x": [
          "gender/sexuality",
          "race/ethnicity",
          "age",
          "religion",
          "politics",
          "disability"
         ],
         "xaxis": "x",
         "y": [
          3336498,
          424149,
          275143,
          183909,
          65982,
          27090
         ],
         "yaxis": "y"
        }
       ],
       "layout": {
        "autosize": true,
        "barmode": "relative",
        "legend": {
         "title": {
          "text": "variable"
         },
         "tracegroupgap": 0
        },
        "margin": {
         "t": 60
        },
        "template": {
         "data": {
          "bar": [
           {
            "error_x": {
             "color": "#2a3f5f"
            },
            "error_y": {
             "color": "#2a3f5f"
            },
            "marker": {
             "line": {
              "color": "#E5ECF6",
              "width": 0.5
             },
             "pattern": {
              "fillmode": "overlay",
              "size": 10,
              "solidity": 0.2
             }
            },
            "type": "bar"
           }
          ],
          "barpolar": [
           {
            "marker": {
             "line": {
              "color": "#E5ECF6",
              "width": 0.5
             },
             "pattern": {
              "fillmode": "overlay",
              "size": 10,
              "solidity": 0.2
             }
            },
            "type": "barpolar"
           }
          ],
          "carpet": [
           {
            "aaxis": {
             "endlinecolor": "#2a3f5f",
             "gridcolor": "white",
             "linecolor": "white",
             "minorgridcolor": "white",
             "startlinecolor": "#2a3f5f"
            },
            "baxis": {
             "endlinecolor": "#2a3f5f",
             "gridcolor": "white",
             "linecolor": "white",
             "minorgridcolor": "white",
             "startlinecolor": "#2a3f5f"
            },
            "type": "carpet"
           }
          ],
          "choropleth": [
           {
            "colorbar": {
             "outlinewidth": 0,
             "ticks": ""
            },
            "type": "choropleth"
           }
          ],
          "contour": [
           {
            "colorbar": {
             "outlinewidth": 0,
             "ticks": ""
            },
            "colorscale": [
             [
              0,
              "#0d0887"
             ],
             [
              0.1111111111111111,
              "#46039f"
             ],
             [
              0.2222222222222222,
              "#7201a8"
             ],
             [
              0.3333333333333333,
              "#9c179e"
             ],
             [
              0.4444444444444444,
              "#bd3786"
             ],
             [
              0.5555555555555556,
              "#d8576b"
             ],
             [
              0.6666666666666666,
              "#ed7953"
             ],
             [
              0.7777777777777778,
              "#fb9f3a"
             ],
             [
              0.8888888888888888,
              "#fdca26"
             ],
             [
              1,
              "#f0f921"
             ]
            ],
            "type": "contour"
           }
          ],
          "contourcarpet": [
           {
            "colorbar": {
             "outlinewidth": 0,
             "ticks": ""
            },
            "type": "contourcarpet"
           }
          ],
          "heatmap": [
           {
            "colorbar": {
             "outlinewidth": 0,
             "ticks": ""
            },
            "colorscale": [
             [
              0,
              "#0d0887"
             ],
             [
              0.1111111111111111,
              "#46039f"
             ],
             [
              0.2222222222222222,
              "#7201a8"
             ],
             [
              0.3333333333333333,
              "#9c179e"
             ],
             [
              0.4444444444444444,
              "#bd3786"
             ],
             [
              0.5555555555555556,
              "#d8576b"
             ],
             [
              0.6666666666666666,
              "#ed7953"
             ],
             [
              0.7777777777777778,
              "#fb9f3a"
             ],
             [
              0.8888888888888888,
              "#fdca26"
             ],
             [
              1,
              "#f0f921"
             ]
            ],
            "type": "heatmap"
           }
          ],
          "heatmapgl": [
           {
            "colorbar": {
             "outlinewidth": 0,
             "ticks": ""
            },
            "colorscale": [
             [
              0,
              "#0d0887"
             ],
             [
              0.1111111111111111,
              "#46039f"
             ],
             [
              0.2222222222222222,
              "#7201a8"
             ],
             [
              0.3333333333333333,
              "#9c179e"
             ],
             [
              0.4444444444444444,
              "#bd3786"
             ],
             [
              0.5555555555555556,
              "#d8576b"
             ],
             [
              0.6666666666666666,
              "#ed7953"
             ],
             [
              0.7777777777777778,
              "#fb9f3a"
             ],
             [
              0.8888888888888888,
              "#fdca26"
             ],
             [
              1,
              "#f0f921"
             ]
            ],
            "type": "heatmapgl"
           }
          ],
          "histogram": [
           {
            "marker": {
             "pattern": {
              "fillmode": "overlay",
              "size": 10,
              "solidity": 0.2
             }
            },
            "type": "histogram"
           }
          ],
          "histogram2d": [
           {
            "colorbar": {
             "outlinewidth": 0,
             "ticks": ""
            },
            "colorscale": [
             [
              0,
              "#0d0887"
             ],
             [
              0.1111111111111111,
              "#46039f"
             ],
             [
              0.2222222222222222,
              "#7201a8"
             ],
             [
              0.3333333333333333,
              "#9c179e"
             ],
             [
              0.4444444444444444,
              "#bd3786"
             ],
             [
              0.5555555555555556,
              "#d8576b"
             ],
             [
              0.6666666666666666,
              "#ed7953"
             ],
             [
              0.7777777777777778,
              "#fb9f3a"
             ],
             [
              0.8888888888888888,
              "#fdca26"
             ],
             [
              1,
              "#f0f921"
             ]
            ],
            "type": "histogram2d"
           }
          ],
          "histogram2dcontour": [
           {
            "colorbar": {
             "outlinewidth": 0,
             "ticks": ""
            },
            "colorscale": [
             [
              0,
              "#0d0887"
             ],
             [
              0.1111111111111111,
              "#46039f"
             ],
             [
              0.2222222222222222,
              "#7201a8"
             ],
             [
              0.3333333333333333,
              "#9c179e"
             ],
             [
              0.4444444444444444,
              "#bd3786"
             ],
             [
              0.5555555555555556,
              "#d8576b"
             ],
             [
              0.6666666666666666,
              "#ed7953"
             ],
             [
              0.7777777777777778,
              "#fb9f3a"
             ],
             [
              0.8888888888888888,
              "#fdca26"
             ],
             [
              1,
              "#f0f921"
             ]
            ],
            "type": "histogram2dcontour"
           }
          ],
          "mesh3d": [
           {
            "colorbar": {
             "outlinewidth": 0,
             "ticks": ""
            },
            "type": "mesh3d"
           }
          ],
          "parcoords": [
           {
            "line": {
             "colorbar": {
              "outlinewidth": 0,
              "ticks": ""
             }
            },
            "type": "parcoords"
           }
          ],
          "pie": [
           {
            "automargin": true,
            "type": "pie"
           }
          ],
          "scatter": [
           {
            "fillpattern": {
             "fillmode": "overlay",
             "size": 10,
             "solidity": 0.2
            },
            "type": "scatter"
           }
          ],
          "scatter3d": [
           {
            "line": {
             "colorbar": {
              "outlinewidth": 0,
              "ticks": ""
             }
            },
            "marker": {
             "colorbar": {
              "outlinewidth": 0,
              "ticks": ""
             }
            },
            "type": "scatter3d"
           }
          ],
          "scattercarpet": [
           {
            "marker": {
             "colorbar": {
              "outlinewidth": 0,
              "ticks": ""
             }
            },
            "type": "scattercarpet"
           }
          ],
          "scattergeo": [
           {
            "marker": {
             "colorbar": {
              "outlinewidth": 0,
              "ticks": ""
             }
            },
            "type": "scattergeo"
           }
          ],
          "scattergl": [
           {
            "marker": {
             "colorbar": {
              "outlinewidth": 0,
              "ticks": ""
             }
            },
            "type": "scattergl"
           }
          ],
          "scattermapbox": [
           {
            "marker": {
             "colorbar": {
              "outlinewidth": 0,
              "ticks": ""
             }
            },
            "type": "scattermapbox"
           }
          ],
          "scatterpolar": [
           {
            "marker": {
             "colorbar": {
              "outlinewidth": 0,
              "ticks": ""
             }
            },
            "type": "scatterpolar"
           }
          ],
          "scatterpolargl": [
           {
            "marker": {
             "colorbar": {
              "outlinewidth": 0,
              "ticks": ""
             }
            },
            "type": "scatterpolargl"
           }
          ],
          "scatterternary": [
           {
            "marker": {
             "colorbar": {
              "outlinewidth": 0,
              "ticks": ""
             }
            },
            "type": "scatterternary"
           }
          ],
          "surface": [
           {
            "colorbar": {
             "outlinewidth": 0,
             "ticks": ""
            },
            "colorscale": [
             [
              0,
              "#0d0887"
             ],
             [
              0.1111111111111111,
              "#46039f"
             ],
             [
              0.2222222222222222,
              "#7201a8"
             ],
             [
              0.3333333333333333,
              "#9c179e"
             ],
             [
              0.4444444444444444,
              "#bd3786"
             ],
             [
              0.5555555555555556,
              "#d8576b"
             ],
             [
              0.6666666666666666,
              "#ed7953"
             ],
             [
              0.7777777777777778,
              "#fb9f3a"
             ],
             [
              0.8888888888888888,
              "#fdca26"
             ],
             [
              1,
              "#f0f921"
             ]
            ],
            "type": "surface"
           }
          ],
          "table": [
           {
            "cells": {
             "fill": {
              "color": "#EBF0F8"
             },
             "line": {
              "color": "white"
             }
            },
            "header": {
             "fill": {
              "color": "#C8D4E3"
             },
             "line": {
              "color": "white"
             }
            },
            "type": "table"
           }
          ]
         },
         "layout": {
          "annotationdefaults": {
           "arrowcolor": "#2a3f5f",
           "arrowhead": 0,
           "arrowwidth": 1
          },
          "autotypenumbers": "strict",
          "coloraxis": {
           "colorbar": {
            "outlinewidth": 0,
            "ticks": ""
           }
          },
          "colorscale": {
           "diverging": [
            [
             0,
             "#8e0152"
            ],
            [
             0.1,
             "#c51b7d"
            ],
            [
             0.2,
             "#de77ae"
            ],
            [
             0.3,
             "#f1b6da"
            ],
            [
             0.4,
             "#fde0ef"
            ],
            [
             0.5,
             "#f7f7f7"
            ],
            [
             0.6,
             "#e6f5d0"
            ],
            [
             0.7,
             "#b8e186"
            ],
            [
             0.8,
             "#7fbc41"
            ],
            [
             0.9,
             "#4d9221"
            ],
            [
             1,
             "#276419"
            ]
           ],
           "sequential": [
            [
             0,
             "#0d0887"
            ],
            [
             0.1111111111111111,
             "#46039f"
            ],
            [
             0.2222222222222222,
             "#7201a8"
            ],
            [
             0.3333333333333333,
             "#9c179e"
            ],
            [
             0.4444444444444444,
             "#bd3786"
            ],
            [
             0.5555555555555556,
             "#d8576b"
            ],
            [
             0.6666666666666666,
             "#ed7953"
            ],
            [
             0.7777777777777778,
             "#fb9f3a"
            ],
            [
             0.8888888888888888,
             "#fdca26"
            ],
            [
             1,
             "#f0f921"
            ]
           ],
           "sequentialminus": [
            [
             0,
             "#0d0887"
            ],
            [
             0.1111111111111111,
             "#46039f"
            ],
            [
             0.2222222222222222,
             "#7201a8"
            ],
            [
             0.3333333333333333,
             "#9c179e"
            ],
            [
             0.4444444444444444,
             "#bd3786"
            ],
            [
             0.5555555555555556,
             "#d8576b"
            ],
            [
             0.6666666666666666,
             "#ed7953"
            ],
            [
             0.7777777777777778,
             "#fb9f3a"
            ],
            [
             0.8888888888888888,
             "#fdca26"
            ],
            [
             1,
             "#f0f921"
            ]
           ]
          },
          "colorway": [
           "#636efa",
           "#EF553B",
           "#00cc96",
           "#ab63fa",
           "#FFA15A",
           "#19d3f3",
           "#FF6692",
           "#B6E880",
           "#FF97FF",
           "#FECB52"
          ],
          "font": {
           "color": "#2a3f5f"
          },
          "geo": {
           "bgcolor": "white",
           "lakecolor": "white",
           "landcolor": "#E5ECF6",
           "showlakes": true,
           "showland": true,
           "subunitcolor": "white"
          },
          "hoverlabel": {
           "align": "left"
          },
          "hovermode": "closest",
          "mapbox": {
           "style": "light"
          },
          "paper_bgcolor": "white",
          "plot_bgcolor": "#E5ECF6",
          "polar": {
           "angularaxis": {
            "gridcolor": "white",
            "linecolor": "white",
            "ticks": ""
           },
           "bgcolor": "#E5ECF6",
           "radialaxis": {
            "gridcolor": "white",
            "linecolor": "white",
            "ticks": ""
           }
          },
          "scene": {
           "xaxis": {
            "backgroundcolor": "#E5ECF6",
            "gridcolor": "white",
            "gridwidth": 2,
            "linecolor": "white",
            "showbackground": true,
            "ticks": "",
            "zerolinecolor": "white"
           },
           "yaxis": {
            "backgroundcolor": "#E5ECF6",
            "gridcolor": "white",
            "gridwidth": 2,
            "linecolor": "white",
            "showbackground": true,
            "ticks": "",
            "zerolinecolor": "white"
           },
           "zaxis": {
            "backgroundcolor": "#E5ECF6",
            "gridcolor": "white",
            "gridwidth": 2,
            "linecolor": "white",
            "showbackground": true,
            "ticks": "",
            "zerolinecolor": "white"
           }
          },
          "shapedefaults": {
           "line": {
            "color": "#2a3f5f"
           }
          },
          "ternary": {
           "aaxis": {
            "gridcolor": "white",
            "linecolor": "white",
            "ticks": ""
           },
           "baxis": {
            "gridcolor": "white",
            "linecolor": "white",
            "ticks": ""
           },
           "bgcolor": "#E5ECF6",
           "caxis": {
            "gridcolor": "white",
            "linecolor": "white",
            "ticks": ""
           }
          },
          "title": {
           "x": 0.05
          },
          "xaxis": {
           "automargin": true,
           "gridcolor": "white",
           "linecolor": "white",
           "ticks": "",
           "title": {
            "standoff": 15
           },
           "zerolinecolor": "white",
           "zerolinewidth": 2
          },
          "yaxis": {
           "automargin": true,
           "gridcolor": "white",
           "linecolor": "white",
           "ticks": "",
           "title": {
            "standoff": 15
           },
           "zerolinecolor": "white",
           "zerolinewidth": 2
          }
         }
        },
        "xaxis": {
         "anchor": "y",
         "autorange": true,
         "domain": [
          0,
          1
         ],
         "range": [
          -0.5,
          5.5
         ],
         "title": {
          "text": "index"
         },
         "type": "category"
        },
        "yaxis": {
         "anchor": "x",
         "autorange": true,
         "domain": [
          0,
          1
         ],
         "range": [
          0,
          3512103.157894737
         ],
         "title": {
          "text": "value"
         },
         "type": "linear"
        }
       }
      },
      "image/png": "[encoded data removed]",
      "text/html": [
       "<div>                            <div id=\"7007445f-e074-49fd-84ab-2956f55417cd\" class=\"plotly-graph-div\" style=\"height:525px; width:100%;\"></div>            <script type=\"text/javascript\">                require([\"plotly\"], function(Plotly) {                    window.PLOTLYENV=window.PLOTLYENV || {};                                    if (document.getElementById(\"7007445f-e074-49fd-84ab-2956f55417cd\")) {                    Plotly.newPlot(                        \"7007445f-e074-49fd-84ab-2956f55417cd\",                        [{\"alignmentgroup\":\"True\",\"hovertemplate\":\"variable=identity_category<br>index=%{x}<br>value=%{y}<extra></extra>\",\"legendgroup\":\"identity_category\",\"marker\":{\"color\":\"#636efa\",\"pattern\":{\"shape\":\"\"}},\"name\":\"identity_category\",\"offsetgroup\":\"identity_category\",\"orientation\":\"v\",\"showlegend\":true,\"textposition\":\"auto\",\"x\":[\"gender/sexuality\",\"race/ethnicity\",\"age\",\"religion\",\"politics\",\"disability\"],\"xaxis\":\"x\",\"y\":[3336498,424149,275143,183909,65982,27090],\"yaxis\":\"y\",\"type\":\"bar\"}],                        {\"template\":{\"data\":{\"histogram2dcontour\":[{\"type\":\"histogram2dcontour\",\"colorbar\":{\"outlinewidth\":0,\"ticks\":\"\"},\"colorscale\":[[0.0,\"#0d0887\"],[0.1111111111111111,\"#46039f\"],[0.2222222222222222,\"#7201a8\"],[0.3333333333333333,\"#9c179e\"],[0.4444444444444444,\"#bd3786\"],[0.5555555555555556,\"#d8576b\"],[0.6666666666666666,\"#ed7953\"],[0.7777777777777778,\"#fb9f3a\"],[0.8888888888888888,\"#fdca26\"],[1.0,\"#f0f921\"]]}],\"choropleth\":[{\"type\":\"choropleth\",\"colorbar\":{\"outlinewidth\":0,\"ticks\":\"\"}}],\"histogram2d\":[{\"type\":\"histogram2d\",\"colorbar\":{\"outlinewidth\":0,\"ticks\":\"\"},\"colorscale\":[[0.0,\"#0d0887\"],[0.1111111111111111,\"#46039f\"],[0.2222222222222222,\"#7201a8\"],[0.3333333333333333,\"#9c179e\"],[0.4444444444444444,\"#bd3786\"],[0.5555555555555556,\"#d8576b\"],[0.6666666666666666,\"#ed7953\"],[0.7777777777777778,\"#fb9f3a\"],[0.8888888888888888,\"#fdca26\"],[1.0,\"#f0f921\"]]}],\"heatmap\":[{\"type\":\"heatmap\",\"colorbar\":{\"outlinewidth\":0,\"ticks\":\"\"},\"colorscale\":[[0.0,\"#0d0887\"],[0.1111111111111111,\"#46039f\"],[0.2222222222222222,\"#7201a8\"],[0.3333333333333333,\"#9c179e\"],[0.4444444444444444,\"#bd3786\"],[0.5555555555555556,\"#d8576b\"],[0.6666666666666666,\"#ed7953\"],[0.7777777777777778,\"#fb9f3a\"],[0.8888888888888888,\"#fdca26\"],[1.0,\"#f0f921\"]]}],\"heatmapgl\":[{\"type\":\"heatmapgl\",\"colorbar\":{\"outlinewidth\":0,\"ticks\":\"\"},\"colorscale\":[[0.0,\"#0d0887\"],[0.1111111111111111,\"#46039f\"],[0.2222222222222222,\"#7201a8\"],[0.3333333333333333,\"#9c179e\"],[0.4444444444444444,\"#bd3786\"],[0.5555555555555556,\"#d8576b\"],[0.6666666666666666,\"#ed7953\"],[0.7777777777777778,\"#fb9f3a\"],[0.8888888888888888,\"#fdca26\"],[1.0,\"#f0f921\"]]}],\"contourcarpet\":[{\"type\":\"contourcarpet\",\"colorbar\":{\"outlinewidth\":0,\"ticks\":\"\"}}],\"contour\":[{\"type\":\"contour\",\"colorbar\":{\"outlinewidth\":0,\"ticks\":\"\"},\"colorscale\":[[0.0,\"#0d0887\"],[0.1111111111111111,\"#46039f\"],[0.2222222222222222,\"#7201a8\"],[0.3333333333333333,\"#9c179e\"],[0.4444444444444444,\"#bd3786\"],[0.5555555555555556,\"#d8576b\"],[0.6666666666666666,\"#ed7953\"],[0.7777777777777778,\"#fb9f3a\"],[0.8888888888888888,\"#fdca26\"],[1.0,\"#f0f921\"]]}],\"surface\":[{\"type\":\"surface\",\"colorbar\":{\"outlinewidth\":0,\"ticks\":\"\"},\"colorscale\":[[0.0,\"#0d0887\"],[0.1111111111111111,\"#46039f\"],[0.2222222222222222,\"#7201a8\"],[0.3333333333333333,\"#9c179e\"],[0.4444444444444444,\"#bd3786\"],[0.5555555555555556,\"#d8576b\"],[0.6666666666666666,\"#ed7953\"],[0.7777777777777778,\"#fb9f3a\"],[0.8888888888888888,\"#fdca26\"],[1.0,\"#f0f921\"]]}],\"mesh3d\":[{\"type\":\"mesh3d\",\"colorbar\":{\"outlinewidth\":0,\"ticks\":\"\"}}],\"scatter\":[{\"fillpattern\":{\"fillmode\":\"overlay\",\"size\":10,\"solidity\":0.2},\"type\":\"scatter\"}],\"parcoords\":[{\"type\":\"parcoords\",\"line\":{\"colorbar\":{\"outlinewidth\":0,\"ticks\":\"\"}}}],\"scatterpolargl\":[{\"type\":\"scatterpolargl\",\"marker\":{\"colorbar\":{\"outlinewidth\":0,\"ticks\":\"\"}}}],\"bar\":[{\"error_x\":{\"color\":\"#2a3f5f\"},\"error_y\":{\"color\":\"#2a3f5f\"},\"marker\":{\"line\":{\"color\":\"#E5ECF6\",\"width\":0.5},\"pattern\":{\"fillmode\":\"overlay\",\"size\":10,\"solidity\":0.2}},\"type\":\"bar\"}],\"scattergeo\":[{\"type\":\"scattergeo\",\"marker\":{\"colorbar\":{\"outlinewidth\":0,\"ticks\":\"\"}}}],\"scatterpolar\":[{\"type\":\"scatterpolar\",\"marker\":{\"colorbar\":{\"outlinewidth\":0,\"ticks\":\"\"}}}],\"histogram\":[{\"marker\":{\"pattern\":{\"fillmode\":\"overlay\",\"size\":10,\"solidity\":0.2}},\"type\":\"histogram\"}],\"scattergl\":[{\"type\":\"scattergl\",\"marker\":{\"colorbar\":{\"outlinewidth\":0,\"ticks\":\"\"}}}],\"scatter3d\":[{\"type\":\"scatter3d\",\"line\":{\"colorbar\":{\"outlinewidth\":0,\"ticks\":\"\"}},\"marker\":{\"colorbar\":{\"outlinewidth\":0,\"ticks\":\"\"}}}],\"scattermapbox\":[{\"type\":\"scattermapbox\",\"marker\":{\"colorbar\":{\"outlinewidth\":0,\"ticks\":\"\"}}}],\"scatterternary\":[{\"type\":\"scatterternary\",\"marker\":{\"colorbar\":{\"outlinewidth\":0,\"ticks\":\"\"}}}],\"scattercarpet\":[{\"type\":\"scattercarpet\",\"marker\":{\"colorbar\":{\"outlinewidth\":0,\"ticks\":\"\"}}}],\"carpet\":[{\"aaxis\":{\"endlinecolor\":\"#2a3f5f\",\"gridcolor\":\"white\",\"linecolor\":\"white\",\"minorgridcolor\":\"white\",\"startlinecolor\":\"#2a3f5f\"},\"baxis\":{\"endlinecolor\":\"#2a3f5f\",\"gridcolor\":\"white\",\"linecolor\":\"white\",\"minorgridcolor\":\"white\",\"startlinecolor\":\"#2a3f5f\"},\"type\":\"carpet\"}],\"table\":[{\"cells\":{\"fill\":{\"color\":\"#EBF0F8\"},\"line\":{\"color\":\"white\"}},\"header\":{\"fill\":{\"color\":\"#C8D4E3\"},\"line\":{\"color\":\"white\"}},\"type\":\"table\"}],\"barpolar\":[{\"marker\":{\"line\":{\"color\":\"#E5ECF6\",\"width\":0.5},\"pattern\":{\"fillmode\":\"overlay\",\"size\":10,\"solidity\":0.2}},\"type\":\"barpolar\"}],\"pie\":[{\"automargin\":true,\"type\":\"pie\"}]},\"layout\":{\"autotypenumbers\":\"strict\",\"colorway\":[\"#636efa\",\"#EF553B\",\"#00cc96\",\"#ab63fa\",\"#FFA15A\",\"#19d3f3\",\"#FF6692\",\"#B6E880\",\"#FF97FF\",\"#FECB52\"],\"font\":{\"color\":\"#2a3f5f\"},\"hovermode\":\"closest\",\"hoverlabel\":{\"align\":\"left\"},\"paper_bgcolor\":\"white\",\"plot_bgcolor\":\"#E5ECF6\",\"polar\":{\"bgcolor\":\"#E5ECF6\",\"angularaxis\":{\"gridcolor\":\"white\",\"linecolor\":\"white\",\"ticks\":\"\"},\"radialaxis\":{\"gridcolor\":\"white\",\"linecolor\":\"white\",\"ticks\":\"\"}},\"ternary\":{\"bgcolor\":\"#E5ECF6\",\"aaxis\":{\"gridcolor\":\"white\",\"linecolor\":\"white\",\"ticks\":\"\"},\"baxis\":{\"gridcolor\":\"white\",\"linecolor\":\"white\",\"ticks\":\"\"},\"caxis\":{\"gridcolor\":\"white\",\"linecolor\":\"white\",\"ticks\":\"\"}},\"coloraxis\":{\"colorbar\":{\"outlinewidth\":0,\"ticks\":\"\"}},\"colorscale\":{\"sequential\":[[0.0,\"#0d0887\"],[0.1111111111111111,\"#46039f\"],[0.2222222222222222,\"#7201a8\"],[0.3333333333333333,\"#9c179e\"],[0.4444444444444444,\"#bd3786\"],[0.5555555555555556,\"#d8576b\"],[0.6666666666666666,\"#ed7953\"],[0.7777777777777778,\"#fb9f3a\"],[0.8888888888888888,\"#fdca26\"],[1.0,\"#f0f921\"]],\"sequentialminus\":[[0.0,\"#0d0887\"],[0.1111111111111111,\"#46039f\"],[0.2222222222222222,\"#7201a8\"],[0.3333333333333333,\"#9c179e\"],[0.4444444444444444,\"#bd3786\"],[0.5555555555555556,\"#d8576b\"],[0.6666666666666666,\"#ed7953\"],[0.7777777777777778,\"#fb9f3a\"],[0.8888888888888888,\"#fdca26\"],[1.0,\"#f0f921\"]],\"diverging\":[[0,\"#8e0152\"],[0.1,\"#c51b7d\"],[0.2,\"#de77ae\"],[0.3,\"#f1b6da\"],[0.4,\"#fde0ef\"],[0.5,\"#f7f7f7\"],[0.6,\"#e6f5d0\"],[0.7,\"#b8e186\"],[0.8,\"#7fbc41\"],[0.9,\"#4d9221\"],[1,\"#276419\"]]},\"xaxis\":{\"gridcolor\":\"white\",\"linecolor\":\"white\",\"ticks\":\"\",\"title\":{\"standoff\":15},\"zerolinecolor\":\"white\",\"automargin\":true,\"zerolinewidth\":2},\"yaxis\":{\"gridcolor\":\"white\",\"linecolor\":\"white\",\"ticks\":\"\",\"title\":{\"standoff\":15},\"zerolinecolor\":\"white\",\"automargin\":true,\"zerolinewidth\":2},\"scene\":{\"xaxis\":{\"backgroundcolor\":\"#E5ECF6\",\"gridcolor\":\"white\",\"linecolor\":\"white\",\"showbackground\":true,\"ticks\":\"\",\"zerolinecolor\":\"white\",\"gridwidth\":2},\"yaxis\":{\"backgroundcolor\":\"#E5ECF6\",\"gridcolor\":\"white\",\"linecolor\":\"white\",\"showbackground\":true,\"ticks\":\"\",\"zerolinecolor\":\"white\",\"gridwidth\":2},\"zaxis\":{\"backgroundcolor\":\"#E5ECF6\",\"gridcolor\":\"white\",\"linecolor\":\"white\",\"showbackground\":true,\"ticks\":\"\",\"zerolinecolor\":\"white\",\"gridwidth\":2}},\"shapedefaults\":{\"line\":{\"color\":\"#2a3f5f\"}},\"annotationdefaults\":{\"arrowcolor\":\"#2a3f5f\",\"arrowhead\":0,\"arrowwidth\":1},\"geo\":{\"bgcolor\":\"white\",\"landcolor\":\"#E5ECF6\",\"subunitcolor\":\"white\",\"showland\":true,\"showlakes\":true,\"lakecolor\":\"white\"},\"title\":{\"x\":0.05},\"mapbox\":{\"style\":\"light\"}}},\"xaxis\":{\"anchor\":\"y\",\"domain\":[0.0,1.0],\"title\":{\"text\":\"index\"}},\"yaxis\":{\"anchor\":\"x\",\"domain\":[0.0,1.0],\"title\":{\"text\":\"value\"}},\"legend\":{\"title\":{\"text\":\"variable\"},\"tracegroupgap\":0},\"margin\":{\"t\":60},\"barmode\":\"relative\"},                        {\"responsive\": true}                    ).then(function(){\n",
       "                            \n",
       "var gd = document.getElementById('7007445f-e074-49fd-84ab-2956f55417cd');\n",
       "var x = new MutationObserver(function (mutations, observer) {{\n",
       "        var display = window.getComputedStyle(gd).display;\n",
       "        if (!display || display === 'none') {{\n",
       "            console.log([gd, 'removed!']);\n",
       "            Plotly.purge(gd);\n",
       "            observer.disconnect();\n",
       "        }}\n",
       "}});\n",
       "\n",
       "// Listen for the removal of the full notebook cells\n",
       "var notebookContainer = gd.closest('#notebook-container');\n",
       "if (notebookContainer) {{\n",
       "    x.observe(notebookContainer, {childList: true});\n",
       "}}\n",
       "\n",
       "// Listen for the clearing of the current output cell\n",
       "var outputEl = gd.closest('.output');\n",
       "if (outputEl) {{\n",
       "    x.observe(outputEl, {childList: true});\n",
       "}}\n",
       "\n",
       "                        })                };                });            </script>        </div>"
      ]
     },
     "metadata": {},
     "output_type": "display_data"
    }
   ],
   "source": [
    "import plotly.express as px\n",
    "pd.options.plotting.backend = 'plotly'\n",
    "\n",
    "fig = px.bar(cat_freq)\n",
    "fig.show()"
   ]
  },
  {
   "cell_type": "code",
   "execution_count": 33,
   "id": "00f172d0-1177-4c85-8fac-22b8b468322c",
   "metadata": {},
   "outputs": [
    {
     "name": "stdout",
     "output_type": "stream",
     "text": [
      "race/ethnicity: ['black_people', 'asian_people', 'white_people']\n",
      "gender/sexuality: ['men_boys', 'women_girls', 'lgbtq_people']\n",
      "age: ['youth', 'boomers']\n",
      "disability: ['retard']\n",
      "religion: ['jews', 'muslims', 'christian', 'hindus', 'buddhists']\n",
      "politics: ['liberal', 'conservative']\n"
     ]
    }
   ],
   "source": [
    "from collections import defaultdict\n",
    "\n",
    "cat_vals = defaultdict(list)\n",
    "for key, val in identity_cats.items():\n",
    "    cat_vals[val].append(key)\n",
    "        \n",
    "for cat, terms in cat_vals.items():\n",
    "    print(f'{cat}: {terms}')"
   ]
  },
  {
   "cell_type": "markdown",
   "id": "1480d751-140b-4c1b-acd4-453f52480ef1",
   "metadata": {},
   "source": [
    "### Identity categories over time"
   ]
  },
  {
   "cell_type": "code",
   "execution_count": 19,
   "id": "73669862-0d24-4439-b5b0-75180ccaf7fd",
   "metadata": {
    "scrolled": true,
    "tags": []
   },
   "outputs": [
    {
     "data": {
      "text/html": [
       "<div>\n",
       "<style scoped>\n",
       "    .dataframe tbody tr th:only-of-type {\n",
       "        vertical-align: middle;\n",
       "    }\n",
       "\n",
       "    .dataframe tbody tr th {\n",
       "        vertical-align: top;\n",
       "    }\n",
       "\n",
       "    .dataframe thead th {\n",
       "        text-align: right;\n",
       "    }\n",
       "</style>\n",
       "<table border=\"1\" class=\"dataframe\">\n",
       "  <thead>\n",
       "    <tr style=\"text-align: right;\">\n",
       "      <th></th>\n",
       "      <th>parsed_date</th>\n",
       "      <th>identity_category</th>\n",
       "      <th>mention_count</th>\n",
       "      <th>word_count</th>\n",
       "      <th>mention_prob</th>\n",
       "      <th>log_prob</th>\n",
       "    </tr>\n",
       "  </thead>\n",
       "  <tbody>\n",
       "    <tr>\n",
       "      <th>0</th>\n",
       "      <td>2017-11-01</td>\n",
       "      <td>age</td>\n",
       "      <td>2522</td>\n",
       "      <td>2709033.0</td>\n",
       "      <td>0.000931</td>\n",
       "      <td>-3.031069</td>\n",
       "    </tr>\n",
       "    <tr>\n",
       "      <th>1</th>\n",
       "      <td>2017-11-01</td>\n",
       "      <td>disability</td>\n",
       "      <td>378</td>\n",
       "      <td>2709033.0</td>\n",
       "      <td>0.000140</td>\n",
       "      <td>-3.855322</td>\n",
       "    </tr>\n",
       "    <tr>\n",
       "      <th>2</th>\n",
       "      <td>2017-11-01</td>\n",
       "      <td>gender/sexuality</td>\n",
       "      <td>48600</td>\n",
       "      <td>2709033.0</td>\n",
       "      <td>0.017940</td>\n",
       "      <td>-1.746178</td>\n",
       "    </tr>\n",
       "    <tr>\n",
       "      <th>3</th>\n",
       "      <td>2017-11-01</td>\n",
       "      <td>politics</td>\n",
       "      <td>526</td>\n",
       "      <td>2709033.0</td>\n",
       "      <td>0.000194</td>\n",
       "      <td>-3.711829</td>\n",
       "    </tr>\n",
       "    <tr>\n",
       "      <th>4</th>\n",
       "      <td>2017-11-01</td>\n",
       "      <td>race/ethnicity</td>\n",
       "      <td>4910</td>\n",
       "      <td>2709033.0</td>\n",
       "      <td>0.001812</td>\n",
       "      <td>-2.741733</td>\n",
       "    </tr>\n",
       "    <tr>\n",
       "      <th>...</th>\n",
       "      <td>...</td>\n",
       "      <td>...</td>\n",
       "      <td>...</td>\n",
       "      <td>...</td>\n",
       "      <td>...</td>\n",
       "      <td>...</td>\n",
       "    </tr>\n",
       "    <tr>\n",
       "      <th>247</th>\n",
       "      <td>2021-04-01</td>\n",
       "      <td>disability</td>\n",
       "      <td>235</td>\n",
       "      <td>1181721.0</td>\n",
       "      <td>0.000199</td>\n",
       "      <td>-3.701447</td>\n",
       "    </tr>\n",
       "    <tr>\n",
       "      <th>248</th>\n",
       "      <td>2021-04-01</td>\n",
       "      <td>gender/sexuality</td>\n",
       "      <td>17943</td>\n",
       "      <td>1181721.0</td>\n",
       "      <td>0.015184</td>\n",
       "      <td>-1.818620</td>\n",
       "    </tr>\n",
       "    <tr>\n",
       "      <th>249</th>\n",
       "      <td>2021-04-01</td>\n",
       "      <td>politics</td>\n",
       "      <td>618</td>\n",
       "      <td>1181721.0</td>\n",
       "      <td>0.000523</td>\n",
       "      <td>-3.281526</td>\n",
       "    </tr>\n",
       "    <tr>\n",
       "      <th>250</th>\n",
       "      <td>2021-04-01</td>\n",
       "      <td>race/ethnicity</td>\n",
       "      <td>4656</td>\n",
       "      <td>1181721.0</td>\n",
       "      <td>0.003940</td>\n",
       "      <td>-2.404502</td>\n",
       "    </tr>\n",
       "    <tr>\n",
       "      <th>251</th>\n",
       "      <td>2021-04-01</td>\n",
       "      <td>religion</td>\n",
       "      <td>1996</td>\n",
       "      <td>1181721.0</td>\n",
       "      <td>0.001689</td>\n",
       "      <td>-2.772354</td>\n",
       "    </tr>\n",
       "  </tbody>\n",
       "</table>\n",
       "<p>252 rows × 6 columns</p>\n",
       "</div>"
      ],
      "text/plain": [
       "    parsed_date identity_category  mention_count  word_count  mention_prob  \\\n",
       "0    2017-11-01               age           2522   2709033.0      0.000931   \n",
       "1    2017-11-01        disability            378   2709033.0      0.000140   \n",
       "2    2017-11-01  gender/sexuality          48600   2709033.0      0.017940   \n",
       "3    2017-11-01          politics            526   2709033.0      0.000194   \n",
       "4    2017-11-01    race/ethnicity           4910   2709033.0      0.001812   \n",
       "..          ...               ...            ...         ...           ...   \n",
       "247  2021-04-01        disability            235   1181721.0      0.000199   \n",
       "248  2021-04-01  gender/sexuality          17943   1181721.0      0.015184   \n",
       "249  2021-04-01          politics            618   1181721.0      0.000523   \n",
       "250  2021-04-01    race/ethnicity           4656   1181721.0      0.003940   \n",
       "251  2021-04-01          religion           1996   1181721.0      0.001689   \n",
       "\n",
       "     log_prob  \n",
       "0   -3.031069  \n",
       "1   -3.855322  \n",
       "2   -1.746178  \n",
       "3   -3.711829  \n",
       "4   -2.741733  \n",
       "..        ...  \n",
       "247 -3.701447  \n",
       "248 -1.818620  \n",
       "249 -3.281526  \n",
       "250 -2.404502  \n",
       "251 -2.772354  \n",
       "\n",
       "[252 rows x 6 columns]"
      ]
     },
     "execution_count": 19,
     "metadata": {},
     "output_type": "execute_result"
    }
   ],
   "source": [
    "# post_counts = data.groupby(pd.Grouper(key='parsed_date', freq='MS'))['content'].count()\n",
    "data['word_count'] = data.content.str.split().str.len()\n",
    "\n",
    "word_counts = data.groupby(pd.Grouper(key='parsed_date', freq='MS'))['word_count'].sum()\n",
    "word_counts\n",
    "\n",
    "counts_overtime = exploded.groupby([pd.Grouper(key='parsed_date', freq='MS'), 'identity_category']).size().to_frame(name='mention_count').reset_index(names=['parsed_date', 'identity_category'])\n",
    "counts_overtime\n",
    "\n",
    "counts_overtime = counts_overtime.join(word_counts, on='parsed_date').rename(columns={'content': 'word_count'})\n",
    "counts_overtime\n",
    "\n",
    "import numpy as np\n",
    "\n",
    "counts_overtime['mention_prob'] = counts_overtime['mention_count'] / counts_overtime.word_count\n",
    "counts_overtime['log_prob'] = counts_overtime['mention_prob'].map(np.log10)\n",
    "counts_overtime"
   ]
  },
  {
   "cell_type": "code",
   "execution_count": 20,
   "id": "d22a2fc0-1f62-46ec-b79c-5f25754d10a3",
   "metadata": {},
   "outputs": [
    {
     "data": {
      "application/vnd.plotly.v1+json": {
       "config": {
        "plotlyServerURL": "https://plot.ly"
       },
       "data": [
        {
         "hovertemplate": "identity_category=age<br>parsed_date=%{x}<br>log_prob=%{y}<extra></extra>",
         "legendgroup": "age",
         "line": {
          "color": "#636efa",
          "dash": "solid"
         },
         "marker": {
          "symbol": "circle"
         },
         "mode": "lines",
         "name": "age",
         "orientation": "v",
         "showlegend": true,
         "type": "scatter",
         "x": [
          "2017-11-01T00:00:00",
          "2017-12-01T00:00:00",
          "2018-01-01T00:00:00",
          "2018-02-01T00:00:00",
          "2018-03-01T00:00:00",
          "2018-04-01T00:00:00",
          "2018-05-01T00:00:00",
          "2018-06-01T00:00:00",
          "2018-07-01T00:00:00",
          "2018-08-01T00:00:00",
          "2018-09-01T00:00:00",
          "2018-10-01T00:00:00",
          "2018-11-01T00:00:00",
          "2018-12-01T00:00:00",
          "2019-01-01T00:00:00",
          "2019-02-01T00:00:00",
          "2019-03-01T00:00:00",
          "2019-04-01T00:00:00",
          "2019-05-01T00:00:00",
          "2019-06-01T00:00:00",
          "2019-07-01T00:00:00",
          "2019-08-01T00:00:00",
          "2019-09-01T00:00:00",
          "2019-10-01T00:00:00",
          "2019-11-01T00:00:00",
          "2019-12-01T00:00:00",
          "2020-01-01T00:00:00",
          "2020-02-01T00:00:00",
          "2020-03-01T00:00:00",
          "2020-04-01T00:00:00",
          "2020-05-01T00:00:00",
          "2020-06-01T00:00:00",
          "2020-07-01T00:00:00",
          "2020-08-01T00:00:00",
          "2020-09-01T00:00:00",
          "2020-10-01T00:00:00",
          "2020-11-01T00:00:00",
          "2020-12-01T00:00:00",
          "2021-01-01T00:00:00",
          "2021-02-01T00:00:00",
          "2021-03-01T00:00:00",
          "2021-04-01T00:00:00"
         ],
         "xaxis": "x",
         "y": [
          -3.031069213172854,
          -3.0185316290060653,
          -2.9916696916234495,
          -3.001385858853389,
          -2.9684326658759947,
          -2.971819246724345,
          -2.944956381512053,
          -2.88581532378449,
          -2.8968024853299665,
          -2.8677304986445513,
          -2.907007450918526,
          -2.8614040013775695,
          -2.8592429118331872,
          -2.8181429704330023,
          -2.8535498361814273,
          -2.8602329696783237,
          -2.825594849911409,
          -2.881951205198172,
          -2.8120390727911673,
          -2.855302965317839,
          -2.863722653165189,
          -2.8599456026759307,
          -2.771708103014485,
          -2.831656187335601,
          -2.7761913011772723,
          -2.854751183848163,
          -2.8756278907946644,
          -2.8257803806952273,
          -2.8556002075265376,
          -2.916623820819651,
          -2.853493238103926,
          -2.9107286560175756,
          -2.8111347475444806,
          -2.9821619485985997,
          -2.9226020094878766,
          -2.9084057768713465,
          -2.9926143353917167,
          -2.859305948154599,
          -2.889106493625935,
          -2.885967673030871,
          -2.886106716728212,
          -2.926076818025109
         ],
         "yaxis": "y"
        },
        {
         "hovertemplate": "identity_category=disability<br>parsed_date=%{x}<br>log_prob=%{y}<extra></extra>",
         "legendgroup": "disability",
         "line": {
          "color": "#EF553B",
          "dash": "solid"
         },
         "marker": {
          "symbol": "circle"
         },
         "mode": "lines",
         "name": "disability",
         "orientation": "v",
         "showlegend": true,
         "type": "scatter",
         "x": [
          "2017-11-01T00:00:00",
          "2017-12-01T00:00:00",
          "2018-01-01T00:00:00",
          "2018-02-01T00:00:00",
          "2018-03-01T00:00:00",
          "2018-04-01T00:00:00",
          "2018-05-01T00:00:00",
          "2018-06-01T00:00:00",
          "2018-07-01T00:00:00",
          "2018-08-01T00:00:00",
          "2018-09-01T00:00:00",
          "2018-10-01T00:00:00",
          "2018-11-01T00:00:00",
          "2018-12-01T00:00:00",
          "2019-01-01T00:00:00",
          "2019-02-01T00:00:00",
          "2019-03-01T00:00:00",
          "2019-04-01T00:00:00",
          "2019-05-01T00:00:00",
          "2019-06-01T00:00:00",
          "2019-07-01T00:00:00",
          "2019-08-01T00:00:00",
          "2019-09-01T00:00:00",
          "2019-10-01T00:00:00",
          "2019-11-01T00:00:00",
          "2019-12-01T00:00:00",
          "2020-01-01T00:00:00",
          "2020-02-01T00:00:00",
          "2020-03-01T00:00:00",
          "2020-04-01T00:00:00",
          "2020-05-01T00:00:00",
          "2020-06-01T00:00:00",
          "2020-07-01T00:00:00",
          "2020-08-01T00:00:00",
          "2020-09-01T00:00:00",
          "2020-10-01T00:00:00",
          "2020-11-01T00:00:00",
          "2020-12-01T00:00:00",
          "2021-01-01T00:00:00",
          "2021-02-01T00:00:00",
          "2021-03-01T00:00:00",
          "2021-04-01T00:00:00"
         ],
         "xaxis": "x",
         "y": [
          -3.8553224955726915,
          -3.9755625556128855,
          -3.9112755100297645,
          -3.860009733720189,
          -3.822530007011654,
          -3.8872363001095342,
          -3.971721731731428,
          -3.94079780614566,
          -3.9359780466962584,
          -3.9131571091162205,
          -3.961105678059029,
          -3.923039084030522,
          -3.914446961990531,
          -3.8692106780218185,
          -3.8849408564356236,
          -4.0063610053565615,
          -3.985937665522429,
          -3.9783397518855383,
          -4.001237607335524,
          -4.016197793928484,
          -3.804836380202291,
          -3.9203716692522734,
          -3.965701435411386,
          -3.9396207370077856,
          -3.9224633734988856,
          -3.9366310129628865,
          -3.9641312848520305,
          -3.9300579526528767,
          -3.7930251608544947,
          -3.7757235403685825,
          -3.867231466007389,
          -3.8488876928689724,
          -3.8969465724911183,
          -3.896473456050151,
          -3.885491782836112,
          -3.8624404650448785,
          -3.783723354433451,
          -3.8322012789368554,
          -3.7794104390095438,
          -3.858671909751451,
          -3.857103260552219,
          -3.7014470910391477
         ],
         "yaxis": "y"
        },
        {
         "hovertemplate": "identity_category=gender/sexuality<br>parsed_date=%{x}<br>log_prob=%{y}<extra></extra>",
         "legendgroup": "gender/sexuality",
         "line": {
          "color": "#00cc96",
          "dash": "solid"
         },
         "marker": {
          "symbol": "circle"
         },
         "mode": "lines",
         "name": "gender/sexuality",
         "orientation": "v",
         "showlegend": true,
         "type": "scatter",
         "x": [
          "2017-11-01T00:00:00",
          "2017-12-01T00:00:00",
          "2018-01-01T00:00:00",
          "2018-02-01T00:00:00",
          "2018-03-01T00:00:00",
          "2018-04-01T00:00:00",
          "2018-05-01T00:00:00",
          "2018-06-01T00:00:00",
          "2018-07-01T00:00:00",
          "2018-08-01T00:00:00",
          "2018-09-01T00:00:00",
          "2018-10-01T00:00:00",
          "2018-11-01T00:00:00",
          "2018-12-01T00:00:00",
          "2019-01-01T00:00:00",
          "2019-02-01T00:00:00",
          "2019-03-01T00:00:00",
          "2019-04-01T00:00:00",
          "2019-05-01T00:00:00",
          "2019-06-01T00:00:00",
          "2019-07-01T00:00:00",
          "2019-08-01T00:00:00",
          "2019-09-01T00:00:00",
          "2019-10-01T00:00:00",
          "2019-11-01T00:00:00",
          "2019-12-01T00:00:00",
          "2020-01-01T00:00:00",
          "2020-02-01T00:00:00",
          "2020-03-01T00:00:00",
          "2020-04-01T00:00:00",
          "2020-05-01T00:00:00",
          "2020-06-01T00:00:00",
          "2020-07-01T00:00:00",
          "2020-08-01T00:00:00",
          "2020-09-01T00:00:00",
          "2020-10-01T00:00:00",
          "2020-11-01T00:00:00",
          "2020-12-01T00:00:00",
          "2021-01-01T00:00:00",
          "2021-02-01T00:00:00",
          "2021-03-01T00:00:00",
          "2021-04-01T00:00:00"
         ],
         "xaxis": "x",
         "y": [
          -1.7461780261476234,
          -1.7805123040119049,
          -1.8057122038014766,
          -1.786919835932582,
          -1.7581348972944297,
          -1.7607477917048562,
          -1.7470912261774736,
          -1.76644720866628,
          -1.7839114559874687,
          -1.7642797979513698,
          -1.7958829508399616,
          -1.7942566369913286,
          -1.776445178079769,
          -1.7670930018458222,
          -1.7594230716759895,
          -1.7982292249935374,
          -1.790475625204592,
          -1.7808799980909353,
          -1.7973596388858641,
          -1.779355694612861,
          -1.785614819004029,
          -1.7706597982254402,
          -1.7841554453416004,
          -1.7778449511663879,
          -1.7744378898583784,
          -1.755252259143516,
          -1.7914189787045143,
          -1.7968441520484566,
          -1.8495369662805308,
          -1.826759038213356,
          -1.844788753258515,
          -1.865896337693422,
          -1.819572215899647,
          -1.8873913662583404,
          -1.8665102832185627,
          -1.8199145437047186,
          -1.8482172259057235,
          -1.81678879677027,
          -1.849676636006197,
          -1.8120537073273302,
          -1.827498039927575,
          -1.8186198961791145
         ],
         "yaxis": "y"
        },
        {
         "hovertemplate": "identity_category=politics<br>parsed_date=%{x}<br>log_prob=%{y}<extra></extra>",
         "legendgroup": "politics",
         "line": {
          "color": "#ab63fa",
          "dash": "solid"
         },
         "marker": {
          "symbol": "circle"
         },
         "mode": "lines",
         "name": "politics",
         "orientation": "v",
         "showlegend": true,
         "type": "scatter",
         "x": [
          "2017-11-01T00:00:00",
          "2017-12-01T00:00:00",
          "2018-01-01T00:00:00",
          "2018-02-01T00:00:00",
          "2018-03-01T00:00:00",
          "2018-04-01T00:00:00",
          "2018-05-01T00:00:00",
          "2018-06-01T00:00:00",
          "2018-07-01T00:00:00",
          "2018-08-01T00:00:00",
          "2018-09-01T00:00:00",
          "2018-10-01T00:00:00",
          "2018-11-01T00:00:00",
          "2018-12-01T00:00:00",
          "2019-01-01T00:00:00",
          "2019-02-01T00:00:00",
          "2019-03-01T00:00:00",
          "2019-04-01T00:00:00",
          "2019-05-01T00:00:00",
          "2019-06-01T00:00:00",
          "2019-07-01T00:00:00",
          "2019-08-01T00:00:00",
          "2019-09-01T00:00:00",
          "2019-10-01T00:00:00",
          "2019-11-01T00:00:00",
          "2019-12-01T00:00:00",
          "2020-01-01T00:00:00",
          "2020-02-01T00:00:00",
          "2020-03-01T00:00:00",
          "2020-04-01T00:00:00",
          "2020-05-01T00:00:00",
          "2020-06-01T00:00:00",
          "2020-07-01T00:00:00",
          "2020-08-01T00:00:00",
          "2020-09-01T00:00:00",
          "2020-10-01T00:00:00",
          "2020-11-01T00:00:00",
          "2020-12-01T00:00:00",
          "2021-01-01T00:00:00",
          "2021-02-01T00:00:00",
          "2021-03-01T00:00:00",
          "2021-04-01T00:00:00"
         ],
         "xaxis": "x",
         "y": [
          -3.7118285512561777,
          -3.635914317528581,
          -3.672700018008338,
          -3.744718094836233,
          -3.708841746918849,
          -3.6886741881967886,
          -3.5715735513537195,
          -3.594526921191892,
          -3.503000835485523,
          -3.429612318499275,
          -3.5497081919367024,
          -3.4768937880447823,
          -3.438064932099393,
          -3.4860202462506082,
          -3.5587748574360556,
          -3.4227844197226127,
          -3.346766292818413,
          -3.426584878868972,
          -3.454584981967477,
          -3.505723337613978,
          -3.4980540556492183,
          -3.5299957614888173,
          -3.5763239173176147,
          -3.522764686562221,
          -3.5868781770021423,
          -3.544806927442268,
          -3.5721376284702275,
          -3.540656627071848,
          -3.5872894115868506,
          -3.5424712021644997,
          -3.517138744048351,
          -3.4518000779581124,
          -3.445223705325036,
          -3.581292835041273,
          -3.5465367801218477,
          -3.4507881450048665,
          -3.2860201076071975,
          -3.4625887309480015,
          -3.3631970697388893,
          -3.4489529187281702,
          -3.389043620331602,
          -3.281526478222068
         ],
         "yaxis": "y"
        },
        {
         "hovertemplate": "identity_category=race/ethnicity<br>parsed_date=%{x}<br>log_prob=%{y}<extra></extra>",
         "legendgroup": "race/ethnicity",
         "line": {
          "color": "#FFA15A",
          "dash": "solid"
         },
         "marker": {
          "symbol": "circle"
         },
         "mode": "lines",
         "name": "race/ethnicity",
         "orientation": "v",
         "showlegend": true,
         "type": "scatter",
         "x": [
          "2017-11-01T00:00:00",
          "2017-12-01T00:00:00",
          "2018-01-01T00:00:00",
          "2018-02-01T00:00:00",
          "2018-03-01T00:00:00",
          "2018-04-01T00:00:00",
          "2018-05-01T00:00:00",
          "2018-06-01T00:00:00",
          "2018-07-01T00:00:00",
          "2018-08-01T00:00:00",
          "2018-09-01T00:00:00",
          "2018-10-01T00:00:00",
          "2018-11-01T00:00:00",
          "2018-12-01T00:00:00",
          "2019-01-01T00:00:00",
          "2019-02-01T00:00:00",
          "2019-03-01T00:00:00",
          "2019-04-01T00:00:00",
          "2019-05-01T00:00:00",
          "2019-06-01T00:00:00",
          "2019-07-01T00:00:00",
          "2019-08-01T00:00:00",
          "2019-09-01T00:00:00",
          "2019-10-01T00:00:00",
          "2019-11-01T00:00:00",
          "2019-12-01T00:00:00",
          "2020-01-01T00:00:00",
          "2020-02-01T00:00:00",
          "2020-03-01T00:00:00",
          "2020-04-01T00:00:00",
          "2020-05-01T00:00:00",
          "2020-06-01T00:00:00",
          "2020-07-01T00:00:00",
          "2020-08-01T00:00:00",
          "2020-09-01T00:00:00",
          "2020-10-01T00:00:00",
          "2020-11-01T00:00:00",
          "2020-12-01T00:00:00",
          "2021-01-01T00:00:00",
          "2021-02-01T00:00:00",
          "2021-03-01T00:00:00",
          "2021-04-01T00:00:00"
         ],
         "xaxis": "x",
         "y": [
          -2.7417328032869484,
          -2.821784500564637,
          -2.807126824669568,
          -2.708194652806304,
          -2.659086383176411,
          -2.7306371601870216,
          -2.590426649971634,
          -2.6171347119373647,
          -2.654147523635262,
          -2.7362038693305224,
          -2.628650129018275,
          -2.6935830177367275,
          -2.6756074864769794,
          -2.729951490560652,
          -2.780623607052412,
          -2.6633405343754113,
          -2.7147217792492233,
          -2.752126631161431,
          -2.791409071263955,
          -2.7759113562329683,
          -2.8030449959926473,
          -2.7051184103041876,
          -2.7872301314154186,
          -2.8094473135328406,
          -2.834848959914398,
          -2.7575839220077856,
          -2.7541985640643647,
          -2.767102518317623,
          -2.7550940169140805,
          -2.701551513428812,
          -2.7111504128484385,
          -2.595808748613635,
          -2.6821654067675396,
          -2.6675556676470555,
          -2.6579424214467604,
          -2.6160097333201255,
          -2.658062211804756,
          -2.594961137088695,
          -2.6451136650405576,
          -2.645895810900501,
          -2.6366017583594323,
          -2.404501981669052
         ],
         "yaxis": "y"
        },
        {
         "hovertemplate": "identity_category=religion<br>parsed_date=%{x}<br>log_prob=%{y}<extra></extra>",
         "legendgroup": "religion",
         "line": {
          "color": "#19d3f3",
          "dash": "solid"
         },
         "marker": {
          "symbol": "circle"
         },
         "mode": "lines",
         "name": "religion",
         "orientation": "v",
         "showlegend": true,
         "type": "scatter",
         "x": [
          "2017-11-01T00:00:00",
          "2017-12-01T00:00:00",
          "2018-01-01T00:00:00",
          "2018-02-01T00:00:00",
          "2018-03-01T00:00:00",
          "2018-04-01T00:00:00",
          "2018-05-01T00:00:00",
          "2018-06-01T00:00:00",
          "2018-07-01T00:00:00",
          "2018-08-01T00:00:00",
          "2018-09-01T00:00:00",
          "2018-10-01T00:00:00",
          "2018-11-01T00:00:00",
          "2018-12-01T00:00:00",
          "2019-01-01T00:00:00",
          "2019-02-01T00:00:00",
          "2019-03-01T00:00:00",
          "2019-04-01T00:00:00",
          "2019-05-01T00:00:00",
          "2019-06-01T00:00:00",
          "2019-07-01T00:00:00",
          "2019-08-01T00:00:00",
          "2019-09-01T00:00:00",
          "2019-10-01T00:00:00",
          "2019-11-01T00:00:00",
          "2019-12-01T00:00:00",
          "2020-01-01T00:00:00",
          "2020-02-01T00:00:00",
          "2020-03-01T00:00:00",
          "2020-04-01T00:00:00",
          "2020-05-01T00:00:00",
          "2020-06-01T00:00:00",
          "2020-07-01T00:00:00",
          "2020-08-01T00:00:00",
          "2020-09-01T00:00:00",
          "2020-10-01T00:00:00",
          "2020-11-01T00:00:00",
          "2020-12-01T00:00:00",
          "2021-01-01T00:00:00",
          "2021-02-01T00:00:00",
          "2021-03-01T00:00:00",
          "2021-04-01T00:00:00"
         ],
         "xaxis": "x",
         "y": [
          -3.223299280867286,
          -3.2388389591448354,
          -3.271460162023734,
          -3.0144757644528655,
          -3.0459286238723364,
          -3.1230616024524855,
          -3.1191539560231103,
          -3.081277423566216,
          -3.0850927122840477,
          -3.1627151306950974,
          -3.144085354197598,
          -3.118506006355761,
          -3.029358954546524,
          -3.0432839956447224,
          -3.086876119108348,
          -3.1057456374924737,
          -2.954356588199414,
          -2.9006993623415367,
          -3.0158774422424313,
          -3.0048054402335027,
          -2.933263444656412,
          -2.929847561136151,
          -3.028211828185701,
          -3.0851432027781414,
          -3.2297228324283385,
          -3.123337577359306,
          -3.131558827704697,
          -3.09113460132776,
          -3.173402937168475,
          -3.0531047103433955,
          -3.1316796782268317,
          -3.0870961545494864,
          -3.072986438791056,
          -3.1368056113605203,
          -3.144831447876237,
          -3.070561805013021,
          -3.0298481910924266,
          -2.9792151949518293,
          -2.9593180012211464,
          -2.895673685798619,
          -2.8429248147974886,
          -2.7723544163595317
         ],
         "yaxis": "y"
        }
       ],
       "layout": {
        "autosize": true,
        "legend": {
         "title": {
          "text": "identity_category"
         },
         "tracegroupgap": 0
        },
        "margin": {
         "t": 60
        },
        "template": {
         "data": {
          "bar": [
           {
            "error_x": {
             "color": "#2a3f5f"
            },
            "error_y": {
             "color": "#2a3f5f"
            },
            "marker": {
             "line": {
              "color": "#E5ECF6",
              "width": 0.5
             },
             "pattern": {
              "fillmode": "overlay",
              "size": 10,
              "solidity": 0.2
             }
            },
            "type": "bar"
           }
          ],
          "barpolar": [
           {
            "marker": {
             "line": {
              "color": "#E5ECF6",
              "width": 0.5
             },
             "pattern": {
              "fillmode": "overlay",
              "size": 10,
              "solidity": 0.2
             }
            },
            "type": "barpolar"
           }
          ],
          "carpet": [
           {
            "aaxis": {
             "endlinecolor": "#2a3f5f",
             "gridcolor": "white",
             "linecolor": "white",
             "minorgridcolor": "white",
             "startlinecolor": "#2a3f5f"
            },
            "baxis": {
             "endlinecolor": "#2a3f5f",
             "gridcolor": "white",
             "linecolor": "white",
             "minorgridcolor": "white",
             "startlinecolor": "#2a3f5f"
            },
            "type": "carpet"
           }
          ],
          "choropleth": [
           {
            "colorbar": {
             "outlinewidth": 0,
             "ticks": ""
            },
            "type": "choropleth"
           }
          ],
          "contour": [
           {
            "colorbar": {
             "outlinewidth": 0,
             "ticks": ""
            },
            "colorscale": [
             [
              0,
              "#0d0887"
             ],
             [
              0.1111111111111111,
              "#46039f"
             ],
             [
              0.2222222222222222,
              "#7201a8"
             ],
             [
              0.3333333333333333,
              "#9c179e"
             ],
             [
              0.4444444444444444,
              "#bd3786"
             ],
             [
              0.5555555555555556,
              "#d8576b"
             ],
             [
              0.6666666666666666,
              "#ed7953"
             ],
             [
              0.7777777777777778,
              "#fb9f3a"
             ],
             [
              0.8888888888888888,
              "#fdca26"
             ],
             [
              1,
              "#f0f921"
             ]
            ],
            "type": "contour"
           }
          ],
          "contourcarpet": [
           {
            "colorbar": {
             "outlinewidth": 0,
             "ticks": ""
            },
            "type": "contourcarpet"
           }
          ],
          "heatmap": [
           {
            "colorbar": {
             "outlinewidth": 0,
             "ticks": ""
            },
            "colorscale": [
             [
              0,
              "#0d0887"
             ],
             [
              0.1111111111111111,
              "#46039f"
             ],
             [
              0.2222222222222222,
              "#7201a8"
             ],
             [
              0.3333333333333333,
              "#9c179e"
             ],
             [
              0.4444444444444444,
              "#bd3786"
             ],
             [
              0.5555555555555556,
              "#d8576b"
             ],
             [
              0.6666666666666666,
              "#ed7953"
             ],
             [
              0.7777777777777778,
              "#fb9f3a"
             ],
             [
              0.8888888888888888,
              "#fdca26"
             ],
             [
              1,
              "#f0f921"
             ]
            ],
            "type": "heatmap"
           }
          ],
          "heatmapgl": [
           {
            "colorbar": {
             "outlinewidth": 0,
             "ticks": ""
            },
            "colorscale": [
             [
              0,
              "#0d0887"
             ],
             [
              0.1111111111111111,
              "#46039f"
             ],
             [
              0.2222222222222222,
              "#7201a8"
             ],
             [
              0.3333333333333333,
              "#9c179e"
             ],
             [
              0.4444444444444444,
              "#bd3786"
             ],
             [
              0.5555555555555556,
              "#d8576b"
             ],
             [
              0.6666666666666666,
              "#ed7953"
             ],
             [
              0.7777777777777778,
              "#fb9f3a"
             ],
             [
              0.8888888888888888,
              "#fdca26"
             ],
             [
              1,
              "#f0f921"
             ]
            ],
            "type": "heatmapgl"
           }
          ],
          "histogram": [
           {
            "marker": {
             "pattern": {
              "fillmode": "overlay",
              "size": 10,
              "solidity": 0.2
             }
            },
            "type": "histogram"
           }
          ],
          "histogram2d": [
           {
            "colorbar": {
             "outlinewidth": 0,
             "ticks": ""
            },
            "colorscale": [
             [
              0,
              "#0d0887"
             ],
             [
              0.1111111111111111,
              "#46039f"
             ],
             [
              0.2222222222222222,
              "#7201a8"
             ],
             [
              0.3333333333333333,
              "#9c179e"
             ],
             [
              0.4444444444444444,
              "#bd3786"
             ],
             [
              0.5555555555555556,
              "#d8576b"
             ],
             [
              0.6666666666666666,
              "#ed7953"
             ],
             [
              0.7777777777777778,
              "#fb9f3a"
             ],
             [
              0.8888888888888888,
              "#fdca26"
             ],
             [
              1,
              "#f0f921"
             ]
            ],
            "type": "histogram2d"
           }
          ],
          "histogram2dcontour": [
           {
            "colorbar": {
             "outlinewidth": 0,
             "ticks": ""
            },
            "colorscale": [
             [
              0,
              "#0d0887"
             ],
             [
              0.1111111111111111,
              "#46039f"
             ],
             [
              0.2222222222222222,
              "#7201a8"
             ],
             [
              0.3333333333333333,
              "#9c179e"
             ],
             [
              0.4444444444444444,
              "#bd3786"
             ],
             [
              0.5555555555555556,
              "#d8576b"
             ],
             [
              0.6666666666666666,
              "#ed7953"
             ],
             [
              0.7777777777777778,
              "#fb9f3a"
             ],
             [
              0.8888888888888888,
              "#fdca26"
             ],
             [
              1,
              "#f0f921"
             ]
            ],
            "type": "histogram2dcontour"
           }
          ],
          "mesh3d": [
           {
            "colorbar": {
             "outlinewidth": 0,
             "ticks": ""
            },
            "type": "mesh3d"
           }
          ],
          "parcoords": [
           {
            "line": {
             "colorbar": {
              "outlinewidth": 0,
              "ticks": ""
             }
            },
            "type": "parcoords"
           }
          ],
          "pie": [
           {
            "automargin": true,
            "type": "pie"
           }
          ],
          "scatter": [
           {
            "fillpattern": {
             "fillmode": "overlay",
             "size": 10,
             "solidity": 0.2
            },
            "type": "scatter"
           }
          ],
          "scatter3d": [
           {
            "line": {
             "colorbar": {
              "outlinewidth": 0,
              "ticks": ""
             }
            },
            "marker": {
             "colorbar": {
              "outlinewidth": 0,
              "ticks": ""
             }
            },
            "type": "scatter3d"
           }
          ],
          "scattercarpet": [
           {
            "marker": {
             "colorbar": {
              "outlinewidth": 0,
              "ticks": ""
             }
            },
            "type": "scattercarpet"
           }
          ],
          "scattergeo": [
           {
            "marker": {
             "colorbar": {
              "outlinewidth": 0,
              "ticks": ""
             }
            },
            "type": "scattergeo"
           }
          ],
          "scattergl": [
           {
            "marker": {
             "colorbar": {
              "outlinewidth": 0,
              "ticks": ""
             }
            },
            "type": "scattergl"
           }
          ],
          "scattermapbox": [
           {
            "marker": {
             "colorbar": {
              "outlinewidth": 0,
              "ticks": ""
             }
            },
            "type": "scattermapbox"
           }
          ],
          "scatterpolar": [
           {
            "marker": {
             "colorbar": {
              "outlinewidth": 0,
              "ticks": ""
             }
            },
            "type": "scatterpolar"
           }
          ],
          "scatterpolargl": [
           {
            "marker": {
             "colorbar": {
              "outlinewidth": 0,
              "ticks": ""
             }
            },
            "type": "scatterpolargl"
           }
          ],
          "scatterternary": [
           {
            "marker": {
             "colorbar": {
              "outlinewidth": 0,
              "ticks": ""
             }
            },
            "type": "scatterternary"
           }
          ],
          "surface": [
           {
            "colorbar": {
             "outlinewidth": 0,
             "ticks": ""
            },
            "colorscale": [
             [
              0,
              "#0d0887"
             ],
             [
              0.1111111111111111,
              "#46039f"
             ],
             [
              0.2222222222222222,
              "#7201a8"
             ],
             [
              0.3333333333333333,
              "#9c179e"
             ],
             [
              0.4444444444444444,
              "#bd3786"
             ],
             [
              0.5555555555555556,
              "#d8576b"
             ],
             [
              0.6666666666666666,
              "#ed7953"
             ],
             [
              0.7777777777777778,
              "#fb9f3a"
             ],
             [
              0.8888888888888888,
              "#fdca26"
             ],
             [
              1,
              "#f0f921"
             ]
            ],
            "type": "surface"
           }
          ],
          "table": [
           {
            "cells": {
             "fill": {
              "color": "#EBF0F8"
             },
             "line": {
              "color": "white"
             }
            },
            "header": {
             "fill": {
              "color": "#C8D4E3"
             },
             "line": {
              "color": "white"
             }
            },
            "type": "table"
           }
          ]
         },
         "layout": {
          "annotationdefaults": {
           "arrowcolor": "#2a3f5f",
           "arrowhead": 0,
           "arrowwidth": 1
          },
          "autotypenumbers": "strict",
          "coloraxis": {
           "colorbar": {
            "outlinewidth": 0,
            "ticks": ""
           }
          },
          "colorscale": {
           "diverging": [
            [
             0,
             "#8e0152"
            ],
            [
             0.1,
             "#c51b7d"
            ],
            [
             0.2,
             "#de77ae"
            ],
            [
             0.3,
             "#f1b6da"
            ],
            [
             0.4,
             "#fde0ef"
            ],
            [
             0.5,
             "#f7f7f7"
            ],
            [
             0.6,
             "#e6f5d0"
            ],
            [
             0.7,
             "#b8e186"
            ],
            [
             0.8,
             "#7fbc41"
            ],
            [
             0.9,
             "#4d9221"
            ],
            [
             1,
             "#276419"
            ]
           ],
           "sequential": [
            [
             0,
             "#0d0887"
            ],
            [
             0.1111111111111111,
             "#46039f"
            ],
            [
             0.2222222222222222,
             "#7201a8"
            ],
            [
             0.3333333333333333,
             "#9c179e"
            ],
            [
             0.4444444444444444,
             "#bd3786"
            ],
            [
             0.5555555555555556,
             "#d8576b"
            ],
            [
             0.6666666666666666,
             "#ed7953"
            ],
            [
             0.7777777777777778,
             "#fb9f3a"
            ],
            [
             0.8888888888888888,
             "#fdca26"
            ],
            [
             1,
             "#f0f921"
            ]
           ],
           "sequentialminus": [
            [
             0,
             "#0d0887"
            ],
            [
             0.1111111111111111,
             "#46039f"
            ],
            [
             0.2222222222222222,
             "#7201a8"
            ],
            [
             0.3333333333333333,
             "#9c179e"
            ],
            [
             0.4444444444444444,
             "#bd3786"
            ],
            [
             0.5555555555555556,
             "#d8576b"
            ],
            [
             0.6666666666666666,
             "#ed7953"
            ],
            [
             0.7777777777777778,
             "#fb9f3a"
            ],
            [
             0.8888888888888888,
             "#fdca26"
            ],
            [
             1,
             "#f0f921"
            ]
           ]
          },
          "colorway": [
           "#636efa",
           "#EF553B",
           "#00cc96",
           "#ab63fa",
           "#FFA15A",
           "#19d3f3",
           "#FF6692",
           "#B6E880",
           "#FF97FF",
           "#FECB52"
          ],
          "font": {
           "color": "#2a3f5f"
          },
          "geo": {
           "bgcolor": "white",
           "lakecolor": "white",
           "landcolor": "#E5ECF6",
           "showlakes": true,
           "showland": true,
           "subunitcolor": "white"
          },
          "hoverlabel": {
           "align": "left"
          },
          "hovermode": "closest",
          "mapbox": {
           "style": "light"
          },
          "paper_bgcolor": "white",
          "plot_bgcolor": "#E5ECF6",
          "polar": {
           "angularaxis": {
            "gridcolor": "white",
            "linecolor": "white",
            "ticks": ""
           },
           "bgcolor": "#E5ECF6",
           "radialaxis": {
            "gridcolor": "white",
            "linecolor": "white",
            "ticks": ""
           }
          },
          "scene": {
           "xaxis": {
            "backgroundcolor": "#E5ECF6",
            "gridcolor": "white",
            "gridwidth": 2,
            "linecolor": "white",
            "showbackground": true,
            "ticks": "",
            "zerolinecolor": "white"
           },
           "yaxis": {
            "backgroundcolor": "#E5ECF6",
            "gridcolor": "white",
            "gridwidth": 2,
            "linecolor": "white",
            "showbackground": true,
            "ticks": "",
            "zerolinecolor": "white"
           },
           "zaxis": {
            "backgroundcolor": "#E5ECF6",
            "gridcolor": "white",
            "gridwidth": 2,
            "linecolor": "white",
            "showbackground": true,
            "ticks": "",
            "zerolinecolor": "white"
           }
          },
          "shapedefaults": {
           "line": {
            "color": "#2a3f5f"
           }
          },
          "ternary": {
           "aaxis": {
            "gridcolor": "white",
            "linecolor": "white",
            "ticks": ""
           },
           "baxis": {
            "gridcolor": "white",
            "linecolor": "white",
            "ticks": ""
           },
           "bgcolor": "#E5ECF6",
           "caxis": {
            "gridcolor": "white",
            "linecolor": "white",
            "ticks": ""
           }
          },
          "title": {
           "x": 0.05
          },
          "xaxis": {
           "automargin": true,
           "gridcolor": "white",
           "linecolor": "white",
           "ticks": "",
           "title": {
            "standoff": 15
           },
           "zerolinecolor": "white",
           "zerolinewidth": 2
          },
          "yaxis": {
           "automargin": true,
           "gridcolor": "white",
           "linecolor": "white",
           "ticks": "",
           "title": {
            "standoff": 15
           },
           "zerolinecolor": "white",
           "zerolinewidth": 2
          }
         }
        },
        "xaxis": {
         "anchor": "y",
         "autorange": true,
         "domain": [
          0,
          1
         ],
         "range": [
          "2017-11-01",
          "2021-04-01"
         ],
         "title": {
          "text": "parsed_date"
         },
         "type": "date"
        },
        "yaxis": {
         "anchor": "x",
         "autorange": true,
         "domain": [
          0,
          1
         ],
         "range": [
          -4.1423100032496425,
          -1.6200658168264646
         ],
         "title": {
          "text": "log_prob"
         },
         "type": "linear"
        }
       }
      },
      "image/png": "[encoded data removed]",
      "text/html": [
       "<div>                            <div id=\"082fb147-87cf-45bd-b93e-0e13ccf8a5db\" class=\"plotly-graph-div\" style=\"height:525px; width:100%;\"></div>            <script type=\"text/javascript\">                require([\"plotly\"], function(Plotly) {                    window.PLOTLYENV=window.PLOTLYENV || {};                                    if (document.getElementById(\"082fb147-87cf-45bd-b93e-0e13ccf8a5db\")) {                    Plotly.newPlot(                        \"082fb147-87cf-45bd-b93e-0e13ccf8a5db\",                        [{\"hovertemplate\":\"identity_category=age<br>parsed_date=%{x}<br>log_prob=%{y}<extra></extra>\",\"legendgroup\":\"age\",\"line\":{\"color\":\"#636efa\",\"dash\":\"solid\"},\"marker\":{\"symbol\":\"circle\"},\"mode\":\"lines\",\"name\":\"age\",\"orientation\":\"v\",\"showlegend\":true,\"x\":[\"2017-11-01T00:00:00\",\"2017-12-01T00:00:00\",\"2018-01-01T00:00:00\",\"2018-02-01T00:00:00\",\"2018-03-01T00:00:00\",\"2018-04-01T00:00:00\",\"2018-05-01T00:00:00\",\"2018-06-01T00:00:00\",\"2018-07-01T00:00:00\",\"2018-08-01T00:00:00\",\"2018-09-01T00:00:00\",\"2018-10-01T00:00:00\",\"2018-11-01T00:00:00\",\"2018-12-01T00:00:00\",\"2019-01-01T00:00:00\",\"2019-02-01T00:00:00\",\"2019-03-01T00:00:00\",\"2019-04-01T00:00:00\",\"2019-05-01T00:00:00\",\"2019-06-01T00:00:00\",\"2019-07-01T00:00:00\",\"2019-08-01T00:00:00\",\"2019-09-01T00:00:00\",\"2019-10-01T00:00:00\",\"2019-11-01T00:00:00\",\"2019-12-01T00:00:00\",\"2020-01-01T00:00:00\",\"2020-02-01T00:00:00\",\"2020-03-01T00:00:00\",\"2020-04-01T00:00:00\",\"2020-05-01T00:00:00\",\"2020-06-01T00:00:00\",\"2020-07-01T00:00:00\",\"2020-08-01T00:00:00\",\"2020-09-01T00:00:00\",\"2020-10-01T00:00:00\",\"2020-11-01T00:00:00\",\"2020-12-01T00:00:00\",\"2021-01-01T00:00:00\",\"2021-02-01T00:00:00\",\"2021-03-01T00:00:00\",\"2021-04-01T00:00:00\"],\"xaxis\":\"x\",\"y\":[-3.031069213172854,-3.0185316290060653,-2.9916696916234495,-3.001385858853389,-2.9684326658759947,-2.971819246724345,-2.944956381512053,-2.88581532378449,-2.8968024853299665,-2.8677304986445513,-2.907007450918526,-2.8614040013775695,-2.8592429118331872,-2.8181429704330023,-2.8535498361814273,-2.8602329696783237,-2.825594849911409,-2.881951205198172,-2.8120390727911673,-2.855302965317839,-2.863722653165189,-2.8599456026759307,-2.771708103014485,-2.831656187335601,-2.7761913011772723,-2.854751183848163,-2.8756278907946644,-2.8257803806952273,-2.8556002075265376,-2.916623820819651,-2.853493238103926,-2.9107286560175756,-2.8111347475444806,-2.9821619485985997,-2.9226020094878766,-2.9084057768713465,-2.9926143353917167,-2.859305948154599,-2.889106493625935,-2.885967673030871,-2.886106716728212,-2.926076818025109],\"yaxis\":\"y\",\"type\":\"scatter\"},{\"hovertemplate\":\"identity_category=disability<br>parsed_date=%{x}<br>log_prob=%{y}<extra></extra>\",\"legendgroup\":\"disability\",\"line\":{\"color\":\"#EF553B\",\"dash\":\"solid\"},\"marker\":{\"symbol\":\"circle\"},\"mode\":\"lines\",\"name\":\"disability\",\"orientation\":\"v\",\"showlegend\":true,\"x\":[\"2017-11-01T00:00:00\",\"2017-12-01T00:00:00\",\"2018-01-01T00:00:00\",\"2018-02-01T00:00:00\",\"2018-03-01T00:00:00\",\"2018-04-01T00:00:00\",\"2018-05-01T00:00:00\",\"2018-06-01T00:00:00\",\"2018-07-01T00:00:00\",\"2018-08-01T00:00:00\",\"2018-09-01T00:00:00\",\"2018-10-01T00:00:00\",\"2018-11-01T00:00:00\",\"2018-12-01T00:00:00\",\"2019-01-01T00:00:00\",\"2019-02-01T00:00:00\",\"2019-03-01T00:00:00\",\"2019-04-01T00:00:00\",\"2019-05-01T00:00:00\",\"2019-06-01T00:00:00\",\"2019-07-01T00:00:00\",\"2019-08-01T00:00:00\",\"2019-09-01T00:00:00\",\"2019-10-01T00:00:00\",\"2019-11-01T00:00:00\",\"2019-12-01T00:00:00\",\"2020-01-01T00:00:00\",\"2020-02-01T00:00:00\",\"2020-03-01T00:00:00\",\"2020-04-01T00:00:00\",\"2020-05-01T00:00:00\",\"2020-06-01T00:00:00\",\"2020-07-01T00:00:00\",\"2020-08-01T00:00:00\",\"2020-09-01T00:00:00\",\"2020-10-01T00:00:00\",\"2020-11-01T00:00:00\",\"2020-12-01T00:00:00\",\"2021-01-01T00:00:00\",\"2021-02-01T00:00:00\",\"2021-03-01T00:00:00\",\"2021-04-01T00:00:00\"],\"xaxis\":\"x\",\"y\":[-3.8553224955726915,-3.9755625556128855,-3.9112755100297645,-3.860009733720189,-3.822530007011654,-3.8872363001095342,-3.971721731731428,-3.94079780614566,-3.9359780466962584,-3.9131571091162205,-3.961105678059029,-3.923039084030522,-3.914446961990531,-3.8692106780218185,-3.8849408564356236,-4.0063610053565615,-3.985937665522429,-3.9783397518855383,-4.001237607335524,-4.016197793928484,-3.804836380202291,-3.9203716692522734,-3.965701435411386,-3.9396207370077856,-3.9224633734988856,-3.9366310129628865,-3.9641312848520305,-3.9300579526528767,-3.7930251608544947,-3.7757235403685825,-3.867231466007389,-3.8488876928689724,-3.8969465724911183,-3.896473456050151,-3.885491782836112,-3.8624404650448785,-3.783723354433451,-3.8322012789368554,-3.7794104390095438,-3.858671909751451,-3.857103260552219,-3.7014470910391477],\"yaxis\":\"y\",\"type\":\"scatter\"},{\"hovertemplate\":\"identity_category=gender/sexuality<br>parsed_date=%{x}<br>log_prob=%{y}<extra></extra>\",\"legendgroup\":\"gender/sexuality\",\"line\":{\"color\":\"#00cc96\",\"dash\":\"solid\"},\"marker\":{\"symbol\":\"circle\"},\"mode\":\"lines\",\"name\":\"gender/sexuality\",\"orientation\":\"v\",\"showlegend\":true,\"x\":[\"2017-11-01T00:00:00\",\"2017-12-01T00:00:00\",\"2018-01-01T00:00:00\",\"2018-02-01T00:00:00\",\"2018-03-01T00:00:00\",\"2018-04-01T00:00:00\",\"2018-05-01T00:00:00\",\"2018-06-01T00:00:00\",\"2018-07-01T00:00:00\",\"2018-08-01T00:00:00\",\"2018-09-01T00:00:00\",\"2018-10-01T00:00:00\",\"2018-11-01T00:00:00\",\"2018-12-01T00:00:00\",\"2019-01-01T00:00:00\",\"2019-02-01T00:00:00\",\"2019-03-01T00:00:00\",\"2019-04-01T00:00:00\",\"2019-05-01T00:00:00\",\"2019-06-01T00:00:00\",\"2019-07-01T00:00:00\",\"2019-08-01T00:00:00\",\"2019-09-01T00:00:00\",\"2019-10-01T00:00:00\",\"2019-11-01T00:00:00\",\"2019-12-01T00:00:00\",\"2020-01-01T00:00:00\",\"2020-02-01T00:00:00\",\"2020-03-01T00:00:00\",\"2020-04-01T00:00:00\",\"2020-05-01T00:00:00\",\"2020-06-01T00:00:00\",\"2020-07-01T00:00:00\",\"2020-08-01T00:00:00\",\"2020-09-01T00:00:00\",\"2020-10-01T00:00:00\",\"2020-11-01T00:00:00\",\"2020-12-01T00:00:00\",\"2021-01-01T00:00:00\",\"2021-02-01T00:00:00\",\"2021-03-01T00:00:00\",\"2021-04-01T00:00:00\"],\"xaxis\":\"x\",\"y\":[-1.7461780261476234,-1.7805123040119049,-1.8057122038014766,-1.786919835932582,-1.7581348972944297,-1.7607477917048562,-1.7470912261774736,-1.76644720866628,-1.7839114559874687,-1.7642797979513698,-1.7958829508399616,-1.7942566369913286,-1.776445178079769,-1.7670930018458222,-1.7594230716759895,-1.7982292249935374,-1.790475625204592,-1.7808799980909353,-1.7973596388858641,-1.779355694612861,-1.785614819004029,-1.7706597982254402,-1.7841554453416004,-1.7778449511663879,-1.7744378898583784,-1.755252259143516,-1.7914189787045143,-1.7968441520484566,-1.8495369662805308,-1.826759038213356,-1.844788753258515,-1.865896337693422,-1.819572215899647,-1.8873913662583404,-1.8665102832185627,-1.8199145437047186,-1.8482172259057235,-1.81678879677027,-1.849676636006197,-1.8120537073273302,-1.827498039927575,-1.8186198961791145],\"yaxis\":\"y\",\"type\":\"scatter\"},{\"hovertemplate\":\"identity_category=politics<br>parsed_date=%{x}<br>log_prob=%{y}<extra></extra>\",\"legendgroup\":\"politics\",\"line\":{\"color\":\"#ab63fa\",\"dash\":\"solid\"},\"marker\":{\"symbol\":\"circle\"},\"mode\":\"lines\",\"name\":\"politics\",\"orientation\":\"v\",\"showlegend\":true,\"x\":[\"2017-11-01T00:00:00\",\"2017-12-01T00:00:00\",\"2018-01-01T00:00:00\",\"2018-02-01T00:00:00\",\"2018-03-01T00:00:00\",\"2018-04-01T00:00:00\",\"2018-05-01T00:00:00\",\"2018-06-01T00:00:00\",\"2018-07-01T00:00:00\",\"2018-08-01T00:00:00\",\"2018-09-01T00:00:00\",\"2018-10-01T00:00:00\",\"2018-11-01T00:00:00\",\"2018-12-01T00:00:00\",\"2019-01-01T00:00:00\",\"2019-02-01T00:00:00\",\"2019-03-01T00:00:00\",\"2019-04-01T00:00:00\",\"2019-05-01T00:00:00\",\"2019-06-01T00:00:00\",\"2019-07-01T00:00:00\",\"2019-08-01T00:00:00\",\"2019-09-01T00:00:00\",\"2019-10-01T00:00:00\",\"2019-11-01T00:00:00\",\"2019-12-01T00:00:00\",\"2020-01-01T00:00:00\",\"2020-02-01T00:00:00\",\"2020-03-01T00:00:00\",\"2020-04-01T00:00:00\",\"2020-05-01T00:00:00\",\"2020-06-01T00:00:00\",\"2020-07-01T00:00:00\",\"2020-08-01T00:00:00\",\"2020-09-01T00:00:00\",\"2020-10-01T00:00:00\",\"2020-11-01T00:00:00\",\"2020-12-01T00:00:00\",\"2021-01-01T00:00:00\",\"2021-02-01T00:00:00\",\"2021-03-01T00:00:00\",\"2021-04-01T00:00:00\"],\"xaxis\":\"x\",\"y\":[-3.7118285512561777,-3.635914317528581,-3.672700018008338,-3.744718094836233,-3.708841746918849,-3.6886741881967886,-3.5715735513537195,-3.594526921191892,-3.503000835485523,-3.429612318499275,-3.5497081919367024,-3.4768937880447823,-3.438064932099393,-3.4860202462506082,-3.5587748574360556,-3.4227844197226127,-3.346766292818413,-3.426584878868972,-3.454584981967477,-3.505723337613978,-3.4980540556492183,-3.5299957614888173,-3.5763239173176147,-3.522764686562221,-3.5868781770021423,-3.544806927442268,-3.5721376284702275,-3.540656627071848,-3.5872894115868506,-3.5424712021644997,-3.517138744048351,-3.4518000779581124,-3.445223705325036,-3.581292835041273,-3.5465367801218477,-3.4507881450048665,-3.2860201076071975,-3.4625887309480015,-3.3631970697388893,-3.4489529187281702,-3.389043620331602,-3.281526478222068],\"yaxis\":\"y\",\"type\":\"scatter\"},{\"hovertemplate\":\"identity_category=race/ethnicity<br>parsed_date=%{x}<br>log_prob=%{y}<extra></extra>\",\"legendgroup\":\"race/ethnicity\",\"line\":{\"color\":\"#FFA15A\",\"dash\":\"solid\"},\"marker\":{\"symbol\":\"circle\"},\"mode\":\"lines\",\"name\":\"race/ethnicity\",\"orientation\":\"v\",\"showlegend\":true,\"x\":[\"2017-11-01T00:00:00\",\"2017-12-01T00:00:00\",\"2018-01-01T00:00:00\",\"2018-02-01T00:00:00\",\"2018-03-01T00:00:00\",\"2018-04-01T00:00:00\",\"2018-05-01T00:00:00\",\"2018-06-01T00:00:00\",\"2018-07-01T00:00:00\",\"2018-08-01T00:00:00\",\"2018-09-01T00:00:00\",\"2018-10-01T00:00:00\",\"2018-11-01T00:00:00\",\"2018-12-01T00:00:00\",\"2019-01-01T00:00:00\",\"2019-02-01T00:00:00\",\"2019-03-01T00:00:00\",\"2019-04-01T00:00:00\",\"2019-05-01T00:00:00\",\"2019-06-01T00:00:00\",\"2019-07-01T00:00:00\",\"2019-08-01T00:00:00\",\"2019-09-01T00:00:00\",\"2019-10-01T00:00:00\",\"2019-11-01T00:00:00\",\"2019-12-01T00:00:00\",\"2020-01-01T00:00:00\",\"2020-02-01T00:00:00\",\"2020-03-01T00:00:00\",\"2020-04-01T00:00:00\",\"2020-05-01T00:00:00\",\"2020-06-01T00:00:00\",\"2020-07-01T00:00:00\",\"2020-08-01T00:00:00\",\"2020-09-01T00:00:00\",\"2020-10-01T00:00:00\",\"2020-11-01T00:00:00\",\"2020-12-01T00:00:00\",\"2021-01-01T00:00:00\",\"2021-02-01T00:00:00\",\"2021-03-01T00:00:00\",\"2021-04-01T00:00:00\"],\"xaxis\":\"x\",\"y\":[-2.7417328032869484,-2.821784500564637,-2.807126824669568,-2.708194652806304,-2.659086383176411,-2.7306371601870216,-2.590426649971634,-2.6171347119373647,-2.654147523635262,-2.7362038693305224,-2.628650129018275,-2.6935830177367275,-2.6756074864769794,-2.729951490560652,-2.780623607052412,-2.6633405343754113,-2.7147217792492233,-2.752126631161431,-2.791409071263955,-2.7759113562329683,-2.8030449959926473,-2.7051184103041876,-2.7872301314154186,-2.8094473135328406,-2.834848959914398,-2.7575839220077856,-2.7541985640643647,-2.767102518317623,-2.7550940169140805,-2.701551513428812,-2.7111504128484385,-2.595808748613635,-2.6821654067675396,-2.6675556676470555,-2.6579424214467604,-2.6160097333201255,-2.658062211804756,-2.594961137088695,-2.6451136650405576,-2.645895810900501,-2.6366017583594323,-2.404501981669052],\"yaxis\":\"y\",\"type\":\"scatter\"},{\"hovertemplate\":\"identity_category=religion<br>parsed_date=%{x}<br>log_prob=%{y}<extra></extra>\",\"legendgroup\":\"religion\",\"line\":{\"color\":\"#19d3f3\",\"dash\":\"solid\"},\"marker\":{\"symbol\":\"circle\"},\"mode\":\"lines\",\"name\":\"religion\",\"orientation\":\"v\",\"showlegend\":true,\"x\":[\"2017-11-01T00:00:00\",\"2017-12-01T00:00:00\",\"2018-01-01T00:00:00\",\"2018-02-01T00:00:00\",\"2018-03-01T00:00:00\",\"2018-04-01T00:00:00\",\"2018-05-01T00:00:00\",\"2018-06-01T00:00:00\",\"2018-07-01T00:00:00\",\"2018-08-01T00:00:00\",\"2018-09-01T00:00:00\",\"2018-10-01T00:00:00\",\"2018-11-01T00:00:00\",\"2018-12-01T00:00:00\",\"2019-01-01T00:00:00\",\"2019-02-01T00:00:00\",\"2019-03-01T00:00:00\",\"2019-04-01T00:00:00\",\"2019-05-01T00:00:00\",\"2019-06-01T00:00:00\",\"2019-07-01T00:00:00\",\"2019-08-01T00:00:00\",\"2019-09-01T00:00:00\",\"2019-10-01T00:00:00\",\"2019-11-01T00:00:00\",\"2019-12-01T00:00:00\",\"2020-01-01T00:00:00\",\"2020-02-01T00:00:00\",\"2020-03-01T00:00:00\",\"2020-04-01T00:00:00\",\"2020-05-01T00:00:00\",\"2020-06-01T00:00:00\",\"2020-07-01T00:00:00\",\"2020-08-01T00:00:00\",\"2020-09-01T00:00:00\",\"2020-10-01T00:00:00\",\"2020-11-01T00:00:00\",\"2020-12-01T00:00:00\",\"2021-01-01T00:00:00\",\"2021-02-01T00:00:00\",\"2021-03-01T00:00:00\",\"2021-04-01T00:00:00\"],\"xaxis\":\"x\",\"y\":[-3.223299280867286,-3.2388389591448354,-3.271460162023734,-3.0144757644528655,-3.0459286238723364,-3.1230616024524855,-3.1191539560231103,-3.081277423566216,-3.0850927122840477,-3.1627151306950974,-3.144085354197598,-3.118506006355761,-3.029358954546524,-3.0432839956447224,-3.086876119108348,-3.1057456374924737,-2.954356588199414,-2.9006993623415367,-3.0158774422424313,-3.0048054402335027,-2.933263444656412,-2.929847561136151,-3.028211828185701,-3.0851432027781414,-3.2297228324283385,-3.123337577359306,-3.131558827704697,-3.09113460132776,-3.173402937168475,-3.0531047103433955,-3.1316796782268317,-3.0870961545494864,-3.072986438791056,-3.1368056113605203,-3.144831447876237,-3.070561805013021,-3.0298481910924266,-2.9792151949518293,-2.9593180012211464,-2.895673685798619,-2.8429248147974886,-2.7723544163595317],\"yaxis\":\"y\",\"type\":\"scatter\"}],                        {\"template\":{\"data\":{\"histogram2dcontour\":[{\"type\":\"histogram2dcontour\",\"colorbar\":{\"outlinewidth\":0,\"ticks\":\"\"},\"colorscale\":[[0.0,\"#0d0887\"],[0.1111111111111111,\"#46039f\"],[0.2222222222222222,\"#7201a8\"],[0.3333333333333333,\"#9c179e\"],[0.4444444444444444,\"#bd3786\"],[0.5555555555555556,\"#d8576b\"],[0.6666666666666666,\"#ed7953\"],[0.7777777777777778,\"#fb9f3a\"],[0.8888888888888888,\"#fdca26\"],[1.0,\"#f0f921\"]]}],\"choropleth\":[{\"type\":\"choropleth\",\"colorbar\":{\"outlinewidth\":0,\"ticks\":\"\"}}],\"histogram2d\":[{\"type\":\"histogram2d\",\"colorbar\":{\"outlinewidth\":0,\"ticks\":\"\"},\"colorscale\":[[0.0,\"#0d0887\"],[0.1111111111111111,\"#46039f\"],[0.2222222222222222,\"#7201a8\"],[0.3333333333333333,\"#9c179e\"],[0.4444444444444444,\"#bd3786\"],[0.5555555555555556,\"#d8576b\"],[0.6666666666666666,\"#ed7953\"],[0.7777777777777778,\"#fb9f3a\"],[0.8888888888888888,\"#fdca26\"],[1.0,\"#f0f921\"]]}],\"heatmap\":[{\"type\":\"heatmap\",\"colorbar\":{\"outlinewidth\":0,\"ticks\":\"\"},\"colorscale\":[[0.0,\"#0d0887\"],[0.1111111111111111,\"#46039f\"],[0.2222222222222222,\"#7201a8\"],[0.3333333333333333,\"#9c179e\"],[0.4444444444444444,\"#bd3786\"],[0.5555555555555556,\"#d8576b\"],[0.6666666666666666,\"#ed7953\"],[0.7777777777777778,\"#fb9f3a\"],[0.8888888888888888,\"#fdca26\"],[1.0,\"#f0f921\"]]}],\"heatmapgl\":[{\"type\":\"heatmapgl\",\"colorbar\":{\"outlinewidth\":0,\"ticks\":\"\"},\"colorscale\":[[0.0,\"#0d0887\"],[0.1111111111111111,\"#46039f\"],[0.2222222222222222,\"#7201a8\"],[0.3333333333333333,\"#9c179e\"],[0.4444444444444444,\"#bd3786\"],[0.5555555555555556,\"#d8576b\"],[0.6666666666666666,\"#ed7953\"],[0.7777777777777778,\"#fb9f3a\"],[0.8888888888888888,\"#fdca26\"],[1.0,\"#f0f921\"]]}],\"contourcarpet\":[{\"type\":\"contourcarpet\",\"colorbar\":{\"outlinewidth\":0,\"ticks\":\"\"}}],\"contour\":[{\"type\":\"contour\",\"colorbar\":{\"outlinewidth\":0,\"ticks\":\"\"},\"colorscale\":[[0.0,\"#0d0887\"],[0.1111111111111111,\"#46039f\"],[0.2222222222222222,\"#7201a8\"],[0.3333333333333333,\"#9c179e\"],[0.4444444444444444,\"#bd3786\"],[0.5555555555555556,\"#d8576b\"],[0.6666666666666666,\"#ed7953\"],[0.7777777777777778,\"#fb9f3a\"],[0.8888888888888888,\"#fdca26\"],[1.0,\"#f0f921\"]]}],\"surface\":[{\"type\":\"surface\",\"colorbar\":{\"outlinewidth\":0,\"ticks\":\"\"},\"colorscale\":[[0.0,\"#0d0887\"],[0.1111111111111111,\"#46039f\"],[0.2222222222222222,\"#7201a8\"],[0.3333333333333333,\"#9c179e\"],[0.4444444444444444,\"#bd3786\"],[0.5555555555555556,\"#d8576b\"],[0.6666666666666666,\"#ed7953\"],[0.7777777777777778,\"#fb9f3a\"],[0.8888888888888888,\"#fdca26\"],[1.0,\"#f0f921\"]]}],\"mesh3d\":[{\"type\":\"mesh3d\",\"colorbar\":{\"outlinewidth\":0,\"ticks\":\"\"}}],\"scatter\":[{\"fillpattern\":{\"fillmode\":\"overlay\",\"size\":10,\"solidity\":0.2},\"type\":\"scatter\"}],\"parcoords\":[{\"type\":\"parcoords\",\"line\":{\"colorbar\":{\"outlinewidth\":0,\"ticks\":\"\"}}}],\"scatterpolargl\":[{\"type\":\"scatterpolargl\",\"marker\":{\"colorbar\":{\"outlinewidth\":0,\"ticks\":\"\"}}}],\"bar\":[{\"error_x\":{\"color\":\"#2a3f5f\"},\"error_y\":{\"color\":\"#2a3f5f\"},\"marker\":{\"line\":{\"color\":\"#E5ECF6\",\"width\":0.5},\"pattern\":{\"fillmode\":\"overlay\",\"size\":10,\"solidity\":0.2}},\"type\":\"bar\"}],\"scattergeo\":[{\"type\":\"scattergeo\",\"marker\":{\"colorbar\":{\"outlinewidth\":0,\"ticks\":\"\"}}}],\"scatterpolar\":[{\"type\":\"scatterpolar\",\"marker\":{\"colorbar\":{\"outlinewidth\":0,\"ticks\":\"\"}}}],\"histogram\":[{\"marker\":{\"pattern\":{\"fillmode\":\"overlay\",\"size\":10,\"solidity\":0.2}},\"type\":\"histogram\"}],\"scattergl\":[{\"type\":\"scattergl\",\"marker\":{\"colorbar\":{\"outlinewidth\":0,\"ticks\":\"\"}}}],\"scatter3d\":[{\"type\":\"scatter3d\",\"line\":{\"colorbar\":{\"outlinewidth\":0,\"ticks\":\"\"}},\"marker\":{\"colorbar\":{\"outlinewidth\":0,\"ticks\":\"\"}}}],\"scattermapbox\":[{\"type\":\"scattermapbox\",\"marker\":{\"colorbar\":{\"outlinewidth\":0,\"ticks\":\"\"}}}],\"scatterternary\":[{\"type\":\"scatterternary\",\"marker\":{\"colorbar\":{\"outlinewidth\":0,\"ticks\":\"\"}}}],\"scattercarpet\":[{\"type\":\"scattercarpet\",\"marker\":{\"colorbar\":{\"outlinewidth\":0,\"ticks\":\"\"}}}],\"carpet\":[{\"aaxis\":{\"endlinecolor\":\"#2a3f5f\",\"gridcolor\":\"white\",\"linecolor\":\"white\",\"minorgridcolor\":\"white\",\"startlinecolor\":\"#2a3f5f\"},\"baxis\":{\"endlinecolor\":\"#2a3f5f\",\"gridcolor\":\"white\",\"linecolor\":\"white\",\"minorgridcolor\":\"white\",\"startlinecolor\":\"#2a3f5f\"},\"type\":\"carpet\"}],\"table\":[{\"cells\":{\"fill\":{\"color\":\"#EBF0F8\"},\"line\":{\"color\":\"white\"}},\"header\":{\"fill\":{\"color\":\"#C8D4E3\"},\"line\":{\"color\":\"white\"}},\"type\":\"table\"}],\"barpolar\":[{\"marker\":{\"line\":{\"color\":\"#E5ECF6\",\"width\":0.5},\"pattern\":{\"fillmode\":\"overlay\",\"size\":10,\"solidity\":0.2}},\"type\":\"barpolar\"}],\"pie\":[{\"automargin\":true,\"type\":\"pie\"}]},\"layout\":{\"autotypenumbers\":\"strict\",\"colorway\":[\"#636efa\",\"#EF553B\",\"#00cc96\",\"#ab63fa\",\"#FFA15A\",\"#19d3f3\",\"#FF6692\",\"#B6E880\",\"#FF97FF\",\"#FECB52\"],\"font\":{\"color\":\"#2a3f5f\"},\"hovermode\":\"closest\",\"hoverlabel\":{\"align\":\"left\"},\"paper_bgcolor\":\"white\",\"plot_bgcolor\":\"#E5ECF6\",\"polar\":{\"bgcolor\":\"#E5ECF6\",\"angularaxis\":{\"gridcolor\":\"white\",\"linecolor\":\"white\",\"ticks\":\"\"},\"radialaxis\":{\"gridcolor\":\"white\",\"linecolor\":\"white\",\"ticks\":\"\"}},\"ternary\":{\"bgcolor\":\"#E5ECF6\",\"aaxis\":{\"gridcolor\":\"white\",\"linecolor\":\"white\",\"ticks\":\"\"},\"baxis\":{\"gridcolor\":\"white\",\"linecolor\":\"white\",\"ticks\":\"\"},\"caxis\":{\"gridcolor\":\"white\",\"linecolor\":\"white\",\"ticks\":\"\"}},\"coloraxis\":{\"colorbar\":{\"outlinewidth\":0,\"ticks\":\"\"}},\"colorscale\":{\"sequential\":[[0.0,\"#0d0887\"],[0.1111111111111111,\"#46039f\"],[0.2222222222222222,\"#7201a8\"],[0.3333333333333333,\"#9c179e\"],[0.4444444444444444,\"#bd3786\"],[0.5555555555555556,\"#d8576b\"],[0.6666666666666666,\"#ed7953\"],[0.7777777777777778,\"#fb9f3a\"],[0.8888888888888888,\"#fdca26\"],[1.0,\"#f0f921\"]],\"sequentialminus\":[[0.0,\"#0d0887\"],[0.1111111111111111,\"#46039f\"],[0.2222222222222222,\"#7201a8\"],[0.3333333333333333,\"#9c179e\"],[0.4444444444444444,\"#bd3786\"],[0.5555555555555556,\"#d8576b\"],[0.6666666666666666,\"#ed7953\"],[0.7777777777777778,\"#fb9f3a\"],[0.8888888888888888,\"#fdca26\"],[1.0,\"#f0f921\"]],\"diverging\":[[0,\"#8e0152\"],[0.1,\"#c51b7d\"],[0.2,\"#de77ae\"],[0.3,\"#f1b6da\"],[0.4,\"#fde0ef\"],[0.5,\"#f7f7f7\"],[0.6,\"#e6f5d0\"],[0.7,\"#b8e186\"],[0.8,\"#7fbc41\"],[0.9,\"#4d9221\"],[1,\"#276419\"]]},\"xaxis\":{\"gridcolor\":\"white\",\"linecolor\":\"white\",\"ticks\":\"\",\"title\":{\"standoff\":15},\"zerolinecolor\":\"white\",\"automargin\":true,\"zerolinewidth\":2},\"yaxis\":{\"gridcolor\":\"white\",\"linecolor\":\"white\",\"ticks\":\"\",\"title\":{\"standoff\":15},\"zerolinecolor\":\"white\",\"automargin\":true,\"zerolinewidth\":2},\"scene\":{\"xaxis\":{\"backgroundcolor\":\"#E5ECF6\",\"gridcolor\":\"white\",\"linecolor\":\"white\",\"showbackground\":true,\"ticks\":\"\",\"zerolinecolor\":\"white\",\"gridwidth\":2},\"yaxis\":{\"backgroundcolor\":\"#E5ECF6\",\"gridcolor\":\"white\",\"linecolor\":\"white\",\"showbackground\":true,\"ticks\":\"\",\"zerolinecolor\":\"white\",\"gridwidth\":2},\"zaxis\":{\"backgroundcolor\":\"#E5ECF6\",\"gridcolor\":\"white\",\"linecolor\":\"white\",\"showbackground\":true,\"ticks\":\"\",\"zerolinecolor\":\"white\",\"gridwidth\":2}},\"shapedefaults\":{\"line\":{\"color\":\"#2a3f5f\"}},\"annotationdefaults\":{\"arrowcolor\":\"#2a3f5f\",\"arrowhead\":0,\"arrowwidth\":1},\"geo\":{\"bgcolor\":\"white\",\"landcolor\":\"#E5ECF6\",\"subunitcolor\":\"white\",\"showland\":true,\"showlakes\":true,\"lakecolor\":\"white\"},\"title\":{\"x\":0.05},\"mapbox\":{\"style\":\"light\"}}},\"xaxis\":{\"anchor\":\"y\",\"domain\":[0.0,1.0],\"title\":{\"text\":\"parsed_date\"}},\"yaxis\":{\"anchor\":\"x\",\"domain\":[0.0,1.0],\"title\":{\"text\":\"log_prob\"}},\"legend\":{\"title\":{\"text\":\"identity_category\"},\"tracegroupgap\":0},\"margin\":{\"t\":60}},                        {\"responsive\": true}                    ).then(function(){\n",
       "                            \n",
       "var gd = document.getElementById('082fb147-87cf-45bd-b93e-0e13ccf8a5db');\n",
       "var x = new MutationObserver(function (mutations, observer) {{\n",
       "        var display = window.getComputedStyle(gd).display;\n",
       "        if (!display || display === 'none') {{\n",
       "            console.log([gd, 'removed!']);\n",
       "            Plotly.purge(gd);\n",
       "            observer.disconnect();\n",
       "        }}\n",
       "}});\n",
       "\n",
       "// Listen for the removal of the full notebook cells\n",
       "var notebookContainer = gd.closest('#notebook-container');\n",
       "if (notebookContainer) {{\n",
       "    x.observe(notebookContainer, {childList: true});\n",
       "}}\n",
       "\n",
       "// Listen for the clearing of the current output cell\n",
       "var outputEl = gd.closest('.output');\n",
       "if (outputEl) {{\n",
       "    x.observe(outputEl, {childList: true});\n",
       "}}\n",
       "\n",
       "                        })                };                });            </script>        </div>"
      ]
     },
     "metadata": {},
     "output_type": "display_data"
    }
   ],
   "source": [
    "# Plot\n",
    "import plotly.express as px\n",
    "\n",
    "px.line(counts_overtime, x='parsed_date', y='log_prob', color='identity_category')"
   ]
  },
  {
   "cell_type": "markdown",
   "id": "18ffd10e-096d-4298-aaf1-26278154f269",
   "metadata": {},
   "source": [
    "# Old/1-time"
   ]
  },
  {
   "cell_type": "code",
   "execution_count": 96,
   "id": "0acc1982-e3ee-44a4-b0ff-8293a7fe899b",
   "metadata": {},
   "outputs": [
    {
     "data": {
      "text/plain": [
       "723"
      ]
     },
     "execution_count": 96,
     "metadata": {},
     "output_type": "execute_result"
    }
   ],
   "source": [
    "# Filter out capitalized terms (unnecessary now)\n",
    "identity_cats = {term: cat for term, cat in identity_cats.items() if term[0].islower()}\n",
    "len(identity_cats)"
   ]
  },
  {
   "cell_type": "code",
   "execution_count": 3,
   "id": "cc803c15-460a-46a0-8ef5-d60449ee3db3",
   "metadata": {},
   "outputs": [
    {
     "name": "stdout",
     "output_type": "stream",
     "text": [
      "<class 'pandas.core.frame.DataFrame'>\n",
      "RangeIndex: 6248230 entries, 0 to 6248229\n",
      "Data columns (total 8 columns):\n",
      " #   Column                                 Dtype         \n",
      "---  ------                                 -----         \n",
      " 0   type                                   object        \n",
      " 1   forum                                  object        \n",
      " 2   thread                                 object        \n",
      " 3   username                               object        \n",
      " 4   date                                   object        \n",
      " 5   content                                object        \n",
      " 6   parsed_date                            datetime64[ns]\n",
      " 7   {self.identity_list}_identity_matches  object        \n",
      "dtypes: datetime64[ns](1), object(7)\n",
      "memory usage: 381.4+ MB\n"
     ]
    }
   ],
   "source": [
    "# Load data with identity matches\n",
    "import pandas as pd\n",
    "\n",
    "path = '../../data/incels/processed_comments.jsonl'\n",
    "data = pd.read_json(path, lines=True, convert_dates=['parsed_date'])\n",
    "data.info()"
   ]
  },
  {
   "cell_type": "code",
   "execution_count": 4,
   "id": "dd48830a-bf7b-426d-b1dd-99fac9a72693",
   "metadata": {},
   "outputs": [
    {
     "name": "stdout",
     "output_type": "stream",
     "text": [
      "<class 'pandas.core.frame.DataFrame'>\n",
      "RangeIndex: 6248230 entries, 0 to 6248229\n",
      "Data columns (total 8 columns):\n",
      " #   Column                      Dtype         \n",
      "---  ------                      -----         \n",
      " 0   type                        object        \n",
      " 1   forum                       object        \n",
      " 2   thread                      object        \n",
      " 3   username                    object        \n",
      " 4   date                        object        \n",
      " 5   content                     object        \n",
      " 6   parsed_date                 datetime64[ns]\n",
      " 7   netmapper_identity_matches  object        \n",
      "dtypes: datetime64[ns](1), object(7)\n",
      "memory usage: 381.4+ MB\n"
     ]
    }
   ],
   "source": [
    "data.rename(columns={'{self.identity_list}_identity_matches': 'netmapper_identity_matches'}, inplace=True)\n",
    "data.info()"
   ]
  },
  {
   "cell_type": "code",
   "execution_count": 5,
   "id": "c7602287-e3ee-4cbb-959d-718c90c3a735",
   "metadata": {},
   "outputs": [],
   "source": [
    "data.to_pickle('../../data/incels/processed_comments.pkl')"
   ]
  }
 ],
 "metadata": {
  "kernelspec": {
   "display_name": "Python 3 (ipykernel)",
   "language": "python",
   "name": "python3"
  },
  "language_info": {
   "codemirror_mode": {
    "name": "ipython",
    "version": 3
   },
   "file_extension": ".py",
   "mimetype": "text/x-python",
   "name": "python",
   "nbconvert_exporter": "python",
   "pygments_lexer": "ipython3",
   "version": "3.10.9"
  },
  "toc-showtags": false
 },
 "nbformat": 4,
 "nbformat_minor": 5
}
