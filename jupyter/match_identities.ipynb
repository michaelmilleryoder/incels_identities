{
 "cells": [
  {
   "cell_type": "markdown",
   "id": "272ca5c4-8181-44dc-8a0f-26049a58ba32",
   "metadata": {},
   "source": [
    "# Find identity term matches in data\n",
    "\n",
    "See process_data.py"
   ]
  },
  {
   "cell_type": "code",
   "execution_count": 1,
   "id": "874dbdb0-ac10-4e84-a3dd-4e08c3d0025c",
   "metadata": {},
   "outputs": [
    {
     "name": "stdout",
     "output_type": "stream",
     "text": [
      "<class 'pandas.core.frame.DataFrame'>\n",
      "RangeIndex: 6248230 entries, 0 to 6248229\n",
      "Data columns (total 7 columns):\n",
      " #   Column       Dtype         \n",
      "---  ------       -----         \n",
      " 0   type         object        \n",
      " 1   forum        object        \n",
      " 2   thread       object        \n",
      " 3   username     object        \n",
      " 4   date         object        \n",
      " 5   content      object        \n",
      " 6   parsed_date  datetime64[ns]\n",
      "dtypes: datetime64[ns](1), object(6)\n",
      "memory usage: 333.7+ MB\n"
     ]
    }
   ],
   "source": [
    "# Load incels data\n",
    "import pandas as pd\n",
    "import csv\n",
    "\n",
    "path = '../../data/incels/all_comments.csv'\n",
    "# data = pd.read_csv(path, engine='python', on_bad_lines=lambda x: print(x))\n",
    "data = pd.read_csv(path, engine='python', on_bad_lines=lambda row: row[:-2].append(' '.join(row[-2:]))) # combine last 2 elements in a line mentioning Gulag\n",
    "data['parsed_date'] = pd.to_datetime(data.date, errors='coerce') # \"yesterday\" etc not handled\n",
    "data.info()"
   ]
  },
  {
   "cell_type": "markdown",
   "id": "b057efbe-a0ad-499e-8df4-3ffc20d13168",
   "metadata": {},
   "source": [
    "## NetMapper identity term lists"
   ]
  },
  {
   "cell_type": "markdown",
   "id": "9e6ed5b7-f4a2-4878-84bd-0cccfed6d5f7",
   "metadata": {},
   "source": [
    "### generic_agents-identity 2021 file"
   ]
  },
  {
   "cell_type": "code",
   "execution_count": 2,
   "id": "19deadaa-ed22-4fac-bf8f-87138560beb5",
   "metadata": {},
   "outputs": [
    {
     "name": "stdout",
     "output_type": "stream",
     "text": [
      "<class 'pandas.core.frame.DataFrame'>\n",
      "RangeIndex: 19887 entries, 0 to 19886\n",
      "Columns: 156 entries, Akan to Category 4\n",
      "dtypes: float64(56), int64(1), object(99)\n",
      "memory usage: 23.7+ MB\n"
     ]
    }
   ],
   "source": [
    "# Load identity terms\n",
    "import pandas as pd\n",
    "\n",
    "nm_identities_path = '../resources/generic_agents-identity_v15_2021_10_15.xlsx'\n",
    "multi_identities = pd.read_excel(nm_identities_path)\n",
    "multi_identities.info()"
   ]
  },
  {
   "cell_type": "code",
   "execution_count": 3,
   "id": "a101f7e5-fee7-42e8-974f-e6532a13a6f9",
   "metadata": {
    "scrolled": true,
    "tags": []
   },
   "outputs": [
    {
     "name": "stdout",
     "output_type": "stream",
     "text": [
      "<class 'pandas.core.frame.DataFrame'>\n",
      "Int64Index: 19035 entries, 0 to 19886\n",
      "Data columns (total 44 columns):\n",
      " #   Column           Non-Null Count  Dtype  \n",
      "---  ------           --------------  -----  \n",
      " 0   English          19035 non-null  object \n",
      " 1   conceptTo        19035 non-null  object \n",
      " 2   metaOntology     19035 non-null  object \n",
      " 3   nodeType         0 non-null      float64\n",
      " 4   Category 1       9703 non-null   object \n",
      " 5   Category 2       911 non-null    object \n",
      " 6   Category 3       18929 non-null  object \n",
      " 7   Country          4712 non-null   object \n",
      " 8   First Name       0 non-null      float64\n",
      " 9   Last Name        0 non-null      float64\n",
      " 10  Gender           759 non-null    object \n",
      " 11  Suffix           0 non-null      float64\n",
      " 12  Language         0 non-null      float64\n",
      " 13  Acronym          336 non-null    object \n",
      " 14  Valence          19035 non-null  object \n",
      " 15  Evaluation       19035 non-null  int64  \n",
      " 16  Potency          10 non-null     float64\n",
      " 17  Activity         0 non-null      float64\n",
      " 18  Affect Mean      19035 non-null  float64\n",
      " 19  Military Role    369 non-null    object \n",
      " 20  Political Role   786 non-null    object \n",
      " 21  Religious Role   77 non-null     object \n",
      " 22  Abusive          417 non-null    float64\n",
      " 23  Exclusive        13 non-null     float64\n",
      " 24  PowerAnger       29 non-null     float64\n",
      " 25  PowerEncourage   17 non-null     float64\n",
      " 26  PowerFear        71 non-null     float64\n",
      " 27  PowerForbidden   1 non-null      float64\n",
      " 28  PowerGreed       16 non-null     float64\n",
      " 29  PowerLust        0 non-null      float64\n",
      " 30  PowerSafety      1 non-null      float64\n",
      " 31  Absolutist       0 non-null      float64\n",
      " 32  Equivocal        0 non-null      float64\n",
      " 33  Connective       0 non-null      float64\n",
      " 34  NamedEntity      0 non-null      float64\n",
      " 35  Pronoun_Level    69 non-null     float64\n",
      " 36  Adverb           1 non-null      float64\n",
      " 37  OtherUsage       46 non-null     float64\n",
      " 38  inclusive        40 non-null     float64\n",
      " 39  modulator        3 non-null      object \n",
      " 40  stop word        95 non-null     float64\n",
      " 41  common word      118 non-null    float64\n",
      " 42  Category 4       0 non-null      float64\n",
      " 43  term             19035 non-null  object \n",
      "dtypes: float64(28), int64(1), object(15)\n",
      "memory usage: 6.5+ MB\n"
     ]
    },
    {
     "name": "stderr",
     "output_type": "stream",
     "text": [
      "/tmp/ipykernel_1221270/3338936415.py:4: SettingWithCopyWarning: \n",
      "A value is trying to be set on a copy of a slice from a DataFrame.\n",
      "Try using .loc[row_indexer,col_indexer] = value instead\n",
      "\n",
      "See the caveats in the documentation: https://pandas.pydata.org/pandas-docs/stable/user_guide/indexing.html#returning-a-view-versus-a-copy\n",
      "  en_identities['term'] = en_identities['English'].str.lower()\n",
      "/tmp/ipykernel_1221270/3338936415.py:5: SettingWithCopyWarning: \n",
      "A value is trying to be set on a copy of a slice from a DataFrame\n",
      "\n",
      "See the caveats in the documentation: https://pandas.pydata.org/pandas-docs/stable/user_guide/indexing.html#returning-a-view-versus-a-copy\n",
      "  en_identities.drop_duplicates(subset='term', inplace=True)\n"
     ]
    }
   ],
   "source": [
    "# Filter to English, remove duplicates\n",
    "cols = multi_identities.columns.tolist()\n",
    "en_identities = multi_identities[cols[cols.index('English'):]]\n",
    "en_identities['term'] = en_identities['English'].str.lower()\n",
    "en_identities.drop_duplicates(subset='term', inplace=True)\n",
    "en_identities.info()"
   ]
  },
  {
   "cell_type": "code",
   "execution_count": 3,
   "id": "65283b7c-b01c-43d7-b024-17e7ed2b647d",
   "metadata": {},
   "outputs": [
    {
     "data": {
      "text/plain": [
       "female     364\n",
       "male       341\n",
       "neutral     49\n",
       "yes          5\n",
       "Name: Gender, dtype: int64"
      ]
     },
     "execution_count": 3,
     "metadata": {},
     "output_type": "execute_result"
    }
   ],
   "source": [
    "en_identities['Gender'].value_counts()"
   ]
  },
  {
   "cell_type": "code",
   "execution_count": 4,
   "id": "a7ff63d0-5dc4-4c21-8673-e7bcfa9adfa4",
   "metadata": {},
   "outputs": [
    {
     "data": {
      "text/plain": [
       "Minister            391\n",
       "Governor             63\n",
       "President            58\n",
       "Diplomat             51\n",
       "Prime Minister       31\n",
       "MP                   31\n",
       "Vice President       26\n",
       "Mayor                24\n",
       "Leader               21\n",
       "Attorney_General     16\n",
       "Prince               15\n",
       "MFA                  12\n",
       "Secretary             9\n",
       "Vice-President        7\n",
       "Queen                 7\n",
       "Princess              6\n",
       "Vice Premier          4\n",
       "Congressman           4\n",
       "King                  3\n",
       "Royalty               2\n",
       "Lt_Governor           2\n",
       "PM                    2\n",
       "Senator               1\n",
       "Name: Political Role, dtype: int64"
      ]
     },
     "execution_count": 4,
     "metadata": {},
     "output_type": "execute_result"
    }
   ],
   "source": [
    "en_identities['Political Role'].value_counts()"
   ]
  },
  {
   "cell_type": "code",
   "execution_count": 7,
   "id": "17d7ff42-6dc9-4e1b-97c7-23d3e38a5c5d",
   "metadata": {},
   "outputs": [
    {
     "data": {
      "text/plain": [
       "Sheik         21\n",
       "bishop        16\n",
       "Archbishop    13\n",
       "Priest        12\n",
       "Pope           7\n",
       "Rabbi          5\n",
       "Sheikh         2\n",
       "archbishop     1\n",
       "Name: Religious Role , dtype: int64"
      ]
     },
     "execution_count": 7,
     "metadata": {},
     "output_type": "execute_result"
    }
   ],
   "source": [
    "en_identities['Religious Role '].value_counts()"
   ]
  },
  {
   "cell_type": "code",
   "execution_count": 9,
   "id": "6ef6c6cf-0a18-419e-8e95-994b03cb0e0f",
   "metadata": {
    "scrolled": true,
    "tags": []
   },
   "outputs": [
    {
     "data": {
      "text/plain": [
       "nationality                4013\n",
       "Celebrity_Politician        989\n",
       "ethnic_group                804\n",
       "military                    694\n",
       "abusive                     414\n",
       "scientist                   283\n",
       "law_enforcement             231\n",
       "criminal                    198\n",
       "medical                     182\n",
       "legal                       169\n",
       "religious                   146\n",
       "athlete                     141\n",
       "religious_leader            135\n",
       "manager                     105\n",
       "journalism                  103\n",
       "student                      84\n",
       "aristocrat                   76\n",
       "musician                     73\n",
       "family_adult_male            72\n",
       "family_adult_female          71\n",
       "writer                       61\n",
       "location_identity            60\n",
       "stopword                     55\n",
       "child                        53\n",
       "kin                          50\n",
       "artist                       48\n",
       "entertainer                  41\n",
       "family_child_female          38\n",
       "leader                       35\n",
       "family_child_male            32\n",
       "sportsperson                 30\n",
       "Calebrity_Politician         25\n",
       "sports_person                23\n",
       "teacher                      23\n",
       "author                       18\n",
       "family-child                 17\n",
       "religion                     13\n",
       "beauty_queen                 12\n",
       "law                          11\n",
       "family_adult                  9\n",
       "marketer                      8\n",
       "Celebrity_Religious           7\n",
       "family                        7\n",
       "family_female                 7\n",
       "cyber_attacker                6\n",
       "aristocat                     5\n",
       "location_identification       3\n",
       "family_male                   3\n",
       "journalist                    3\n",
       "media                         2\n",
       "location_based                2\n",
       "cyber_criminals               2\n",
       "cyber-spy                     2\n",
       "cyber_actor                   2\n",
       "spectator                     1\n",
       "IMF Managing Director         1\n",
       "first_person                  1\n",
       "cyber_defender                1\n",
       "cyber_cops                    1\n",
       "management                    1\n",
       "WMO_president                 1\n",
       "Name: Category 1, dtype: int64"
      ]
     },
     "execution_count": 9,
     "metadata": {},
     "output_type": "execute_result"
    }
   ],
   "source": [
    "pd.set_option('display.max_rows', None)\n",
    "en_identities['Category 1'].value_counts()"
   ]
  },
  {
   "cell_type": "code",
   "execution_count": 10,
   "id": "187a5a6f-0dcd-4a39-92fe-f53acf4833bb",
   "metadata": {
    "scrolled": true,
    "tags": []
   },
   "outputs": [
    {
     "data": {
      "text/plain": [
       "Native American    644\n",
       "family_female      118\n",
       "family_male        109\n",
       "family-child        17\n",
       "attacker            10\n",
       "family_adult         9\n",
       "defender             2\n",
       "cyber_actor          2\n",
       "Name: Category 2, dtype: int64"
      ]
     },
     "execution_count": 10,
     "metadata": {},
     "output_type": "execute_result"
    }
   ],
   "source": [
    "en_identities['Category 2'].value_counts()"
   ]
  },
  {
   "cell_type": "code",
   "execution_count": 11,
   "id": "521855b5-0573-49f6-89a1-6fb40e84c3c4",
   "metadata": {
    "scrolled": true,
    "tags": []
   },
   "outputs": [
    {
     "data": {
      "text/plain": [
       "identity    18929\n",
       "Name: Category 3, dtype: int64"
      ]
     },
     "execution_count": 11,
     "metadata": {},
     "output_type": "execute_result"
    }
   ],
   "source": [
    "en_identities['Category 3'].value_counts()"
   ]
  },
  {
   "cell_type": "markdown",
   "id": "e03c2cc7-2255-4548-9e2f-c89473ee32ce",
   "metadata": {},
   "source": [
    "#### Check if terms are in the list"
   ]
  },
  {
   "cell_type": "code",
   "execution_count": 25,
   "id": "453e5e32-b981-4cde-a36f-1f9299de9bf1",
   "metadata": {},
   "outputs": [
    {
     "name": "stdout",
     "output_type": "stream",
     "text": [
      "gurl False\n",
      "lgbt False\n",
      "lgbtq False\n",
      "genderfluid False\n",
      "gender-fluid False\n",
      "gender fluid False\n",
      "straight False\n",
      "cisgender False\n",
      "cis False\n",
      "asexual False\n",
      "aro-ace False\n",
      "aro ace False\n",
      "aro/ace False\n",
      "mtf False\n",
      "ftm False\n",
      "neurodivergent False\n",
      "neurodiversity False\n",
      "autism False\n",
      "autist False\n",
      "autistic False\n",
      "mental health False\n",
      "adhd False\n",
      "dyslexia False\n",
      "dyslexic False\n",
      "asperger's False\n",
      "aspergers False\n",
      "asperger False\n",
      "savant True\n",
      "intellectual disability False\n",
      "bipolar False\n",
      "schizophrenia False\n",
      "ocd False\n",
      "antisocial False\n",
      "obsessive-compulsive False\n",
      "obsessive compulsive False\n",
      "disability False\n",
      "disabilities False\n",
      "disabled False\n",
      "anxiety disorder False\n",
      "retarded False\n",
      "depression False\n",
      "depressive False\n",
      "sandnigger True\n",
      "sandniggers False\n"
     ]
    }
   ],
   "source": [
    "# From WebSci 2020 paper, LGBTQ+ movement dissertation chapter\n",
    "terms = ['gurl', 'lgbt', 'lgbtq', 'genderfluid', 'gender-fluid', 'gender fluid', 'straight', 'cisgender', 'cis', \n",
    "         'asexual', 'aro-ace', 'aro ace', 'aro/ace', 'mtf', 'ftm', \n",
    "         'neurodivergent', 'neurodiversity', 'autism', 'autist', 'autistic','mental health', 'adhd', 'dyslexia', 'dyslexic', \n",
    "         \"asperger's\", \"aspergers\", 'asperger', 'savant', 'intellectual disability', 'bipolar', 'schizophrenia', 'ocd', 'antisocial', \n",
    "         'obsessive-compulsive', 'obsessive compulsive', 'disability', 'disabilities', 'disabled', 'anxiety disorder', 'retarded', 'depression',\n",
    "        'depressive', 'sandnigger', 'sandniggers']\n",
    "for term in terms:\n",
    "    print(term, term in en_identities.term.tolist())"
   ]
  },
  {
   "cell_type": "code",
   "execution_count": 17,
   "id": "cacb9190-0496-4731-b220-bebb220f5fc8",
   "metadata": {},
   "outputs": [
    {
     "name": "stdout",
     "output_type": "stream",
     "text": [
      "black folks False\n",
      "caucasian True\n",
      "caucasians False\n",
      "heterosexual False\n",
      "heterosexuals False\n",
      "homosexuals True\n",
      "homosexual True\n",
      "buddhist True\n",
      "indigenous False\n",
      "native american True\n",
      "native americans True\n",
      "young adults False\n",
      "middle aged False\n",
      "seniors True\n",
      "old people True\n",
      "elderly True\n",
      "immigrants True\n",
      "refugees True\n",
      "immigrant True\n",
      "refugee True\n",
      "migrant True\n",
      "lesbian True\n",
      "lesbians True\n",
      "middle eastern False\n",
      "illegal aliens False\n",
      "arabian True\n",
      "arabians True\n"
     ]
    }
   ],
   "source": [
    "# From CoNLL 2022 paper\n",
    "terms = ['black folks', 'caucasian', 'caucasians', 'heterosexual', 'heterosexuals', 'homosexuals', 'homosexual', 'buddhist', 'indigenous',\n",
    "        'native american', 'native americans', 'young adults', 'middle aged', 'seniors', 'old people', 'elderly', 'immigrants', 'refugees', 'immigrant', 'refugee',\n",
    "        'migrant', 'lesbian', 'lesbians', 'middle eastern', 'illegal aliens', 'arabian', 'arabians']\n",
    "for term in terms:\n",
    "    print(term, term in en_identities.term.tolist())"
   ]
  },
  {
   "cell_type": "code",
   "execution_count": 94,
   "id": "aa3c3624-597b-47c2-9f55-d080ac1d53c2",
   "metadata": {},
   "outputs": [
    {
     "data": {
      "text/plain": [
       "['black american',\n",
       " 'black americans',\n",
       " 'black mamba boy',\n",
       " 'black mambas',\n",
       " 'black muslim',\n",
       " 'black muslims',\n",
       " 'black piranha',\n",
       " 'black prince',\n",
       " 'black sheep',\n",
       " 'black southafricans',\n",
       " 'black sudanese',\n",
       " 'million black sudanese',\n",
       " 'black swan',\n",
       " 'black widow',\n",
       " 'black wolf',\n",
       " 'blackfoot',\n",
       " 'blackhorse',\n",
       " 'blackman',\n",
       " 'blacksmith',\n",
       " 'blacksmiths',\n",
       " 'ex black',\n",
       " 'ex-black',\n",
       " 'royal black member',\n",
       " 'royal black members',\n",
       " 'royal black preceptory members',\n",
       " 'blackmailer',\n",
       " 'blackmailers']"
      ]
     },
     "execution_count": 94,
     "metadata": {},
     "output_type": "execute_result"
    }
   ],
   "source": [
    "[identity for identity in en_identities.term if 'black' in identity]"
   ]
  },
  {
   "cell_type": "code",
   "execution_count": 95,
   "id": "fc57d789-83ee-49c1-8ba0-62838ee0a639",
   "metadata": {},
   "outputs": [
    {
     "data": {
      "text/plain": [
       "['white man',\n",
       " 'whiteman',\n",
       " 'poorwhitetrash',\n",
       " 'whitenigger',\n",
       " 'whitetrash',\n",
       " 'ex white house aide',\n",
       " 'ex-white house aide',\n",
       " 'gangs of whites',\n",
       " 'nonwhites',\n",
       " 'white anglo saxon protestant',\n",
       " 'white anglo-saxon protestant',\n",
       " 'white house adviser',\n",
       " 'white house aide',\n",
       " 'white house aides',\n",
       " 'white houseofficials',\n",
       " 'white house spokesman',\n",
       " 'white house spokesperson',\n",
       " 'white house spokeswoman',\n",
       " 'white housespokesperson',\n",
       " 'white nile chairman',\n",
       " 'white slave',\n",
       " 'white witch']"
      ]
     },
     "execution_count": 95,
     "metadata": {},
     "output_type": "execute_result"
    }
   ],
   "source": [
    "[identity for identity in en_identities.term if 'white' in identity]"
   ]
  },
  {
   "cell_type": "code",
   "execution_count": 18,
   "id": "97ae4e48-9d83-4300-9939-09151bf350f8",
   "metadata": {},
   "outputs": [
    {
     "name": "stdout",
     "output_type": "stream",
     "text": [
      "18837\n"
     ]
    }
   ],
   "source": [
    "# Separate out stopwords\n",
    "stops = en_identities[en_identities['stop word']==1]\n",
    "exclude_list = ['don', 'other', 'others', 'friend', 'friends', 'people', 'who', 'asshole', 'dick',\n",
    "               'character', 'person', 'people', 'majority', 'bot', 'everyone', 'everyone here',\n",
    "                'officially', 'tech', 'individual', 'worker', 'workers', 'giant', 'human', 'humans', 'ass',\n",
    "                'nobody', 'brother', 'sister', 'mother', \"mother's\", 'father', 'daughter', 'son', 'mom', 'wife', 'wives', 'husband', 'husbands', 'cousin', 'cousins',\n",
    "                'they all', 'count', 'god', 'general', 'user', 'users', 'member', 'members', 'english', 'finish', 'slayer', 'speaker',\n",
    "                'misogynist', 'king', 'queen', 'rn', 'fellow', 'buddy', 'enemies', 'corpse', 'revolutionary', 'gymnast', 'messiah', 'jesus', 'embryo',\n",
    "                'dr', 'doctor', 'dahmer', 'characters', 'cheat', 'sexist', 'professional', 'client', 'mate', 'dad', 'customers', 'assholes', 'whose',\n",
    "                'mama', 'co-workers', 'employees', 'uncle', 'hermit', 'ogre', 'potter', 'phantom', 'dwellers', 'saviour', 'prophet', 'morons', 'guide',\n",
    "                'majors', 'partners', 'villain', 'agent', 'model', 'juggernaut', 'ego', 'avatar', 'player', 'dragon', 'pm', 'winner', 'winners', 'surrogate', 'nudes',\n",
    "               ]\n",
    "exclude = en_identities[en_identities['term'].isin(exclude_list)]\n",
    "identities = en_identities[(en_identities['stop word']!=1) & (~en_identities['term'].isin(exclude_list))]\n",
    "\n",
    "# Search for identity matches\n",
    "import re\n",
    "\n",
    "pats = [re.compile(r'\\b{}\\b'.format(re.escape(term))) for term in identities['term']]\n",
    "print(len(pats))\n",
    "\n",
    "def contains_match(text):\n",
    "    \"\"\" Return matched patterns present in text \"\"\" \n",
    "    return [re.search(p, str(text).lower()).group() for p in pats if re.search(p, str(text).lower()) is not None]\n",
    "\n",
    "from collections import Counter\n",
    "\n",
    "sample = data.sample(1000)"
   ]
  },
  {
   "cell_type": "markdown",
   "id": "54a71c5d-623d-4f4c-b0f9-9e62f8b1d44a",
   "metadata": {},
   "source": [
    "#### Check if terms are in incels data vocab"
   ]
  },
  {
   "cell_type": "code",
   "execution_count": 4,
   "id": "66a42301-8fcf-4f8f-b459-e2e837f2c3ae",
   "metadata": {},
   "outputs": [
    {
     "name": "stdout",
     "output_type": "stream",
     "text": [
      "28.3 s ± 0 ns per loop (mean ± std. dev. of 1 run, 1 loop each)\n"
     ]
    }
   ],
   "source": [
    "%%timeit -n 1 -r 1\n",
    "# Filter to terms present at least once in the combined text (make this as fast as possible)\n",
    "# vocab = set(data.content.astype('str').str.lower().str.split().sum()) # doesn't tokenize (remove punct) but whatever\n",
    "vocab = set()\n",
    "data.content.astype('str').str.lower().str.split().apply(vocab.update)\n",
    "len(vocab)"
   ]
  },
  {
   "cell_type": "code",
   "execution_count": 4,
   "id": "9a5a1251-2802-489a-a91c-64a58a275785",
   "metadata": {},
   "outputs": [
    {
     "data": {
      "text/html": [
       "<style>#sk-container-id-1 {color: black;background-color: white;}#sk-container-id-1 pre{padding: 0;}#sk-container-id-1 div.sk-toggleable {background-color: white;}#sk-container-id-1 label.sk-toggleable__label {cursor: pointer;display: block;width: 100%;margin-bottom: 0;padding: 0.3em;box-sizing: border-box;text-align: center;}#sk-container-id-1 label.sk-toggleable__label-arrow:before {content: \"▸\";float: left;margin-right: 0.25em;color: #696969;}#sk-container-id-1 label.sk-toggleable__label-arrow:hover:before {color: black;}#sk-container-id-1 div.sk-estimator:hover label.sk-toggleable__label-arrow:before {color: black;}#sk-container-id-1 div.sk-toggleable__content {max-height: 0;max-width: 0;overflow: hidden;text-align: left;background-color: #f0f8ff;}#sk-container-id-1 div.sk-toggleable__content pre {margin: 0.2em;color: black;border-radius: 0.25em;background-color: #f0f8ff;}#sk-container-id-1 input.sk-toggleable__control:checked~div.sk-toggleable__content {max-height: 200px;max-width: 100%;overflow: auto;}#sk-container-id-1 input.sk-toggleable__control:checked~label.sk-toggleable__label-arrow:before {content: \"▾\";}#sk-container-id-1 div.sk-estimator input.sk-toggleable__control:checked~label.sk-toggleable__label {background-color: #d4ebff;}#sk-container-id-1 div.sk-label input.sk-toggleable__control:checked~label.sk-toggleable__label {background-color: #d4ebff;}#sk-container-id-1 input.sk-hidden--visually {border: 0;clip: rect(1px 1px 1px 1px);clip: rect(1px, 1px, 1px, 1px);height: 1px;margin: -1px;overflow: hidden;padding: 0;position: absolute;width: 1px;}#sk-container-id-1 div.sk-estimator {font-family: monospace;background-color: #f0f8ff;border: 1px dotted black;border-radius: 0.25em;box-sizing: border-box;margin-bottom: 0.5em;}#sk-container-id-1 div.sk-estimator:hover {background-color: #d4ebff;}#sk-container-id-1 div.sk-parallel-item::after {content: \"\";width: 100%;border-bottom: 1px solid gray;flex-grow: 1;}#sk-container-id-1 div.sk-label:hover label.sk-toggleable__label {background-color: #d4ebff;}#sk-container-id-1 div.sk-serial::before {content: \"\";position: absolute;border-left: 1px solid gray;box-sizing: border-box;top: 0;bottom: 0;left: 50%;z-index: 0;}#sk-container-id-1 div.sk-serial {display: flex;flex-direction: column;align-items: center;background-color: white;padding-right: 0.2em;padding-left: 0.2em;position: relative;}#sk-container-id-1 div.sk-item {position: relative;z-index: 1;}#sk-container-id-1 div.sk-parallel {display: flex;align-items: stretch;justify-content: center;background-color: white;position: relative;}#sk-container-id-1 div.sk-item::before, #sk-container-id-1 div.sk-parallel-item::before {content: \"\";position: absolute;border-left: 1px solid gray;box-sizing: border-box;top: 0;bottom: 0;left: 50%;z-index: -1;}#sk-container-id-1 div.sk-parallel-item {display: flex;flex-direction: column;z-index: 1;position: relative;background-color: white;}#sk-container-id-1 div.sk-parallel-item:first-child::after {align-self: flex-end;width: 50%;}#sk-container-id-1 div.sk-parallel-item:last-child::after {align-self: flex-start;width: 50%;}#sk-container-id-1 div.sk-parallel-item:only-child::after {width: 0;}#sk-container-id-1 div.sk-dashed-wrapped {border: 1px dashed gray;margin: 0 0.4em 0.5em 0.4em;box-sizing: border-box;padding-bottom: 0.4em;background-color: white;}#sk-container-id-1 div.sk-label label {font-family: monospace;font-weight: bold;display: inline-block;line-height: 1.2em;}#sk-container-id-1 div.sk-label-container {text-align: center;}#sk-container-id-1 div.sk-container {/* jupyter's `normalize.less` sets `[hidden] { display: none; }` but bootstrap.min.css set `[hidden] { display: none !important; }` so we also need the `!important` here to be able to override the default hidden behavior on the sphinx rendered scikit-learn.org. See: https://github.com/scikit-learn/scikit-learn/issues/21755 */display: inline-block !important;position: relative;}#sk-container-id-1 div.sk-text-repr-fallback {display: none;}</style><div id=\"sk-container-id-1\" class=\"sk-top-container\"><div class=\"sk-text-repr-fallback\"><pre>CountVectorizer(ngram_range=(1, 2))</pre><b>In a Jupyter environment, please rerun this cell to show the HTML representation or trust the notebook. <br />On GitHub, the HTML representation is unable to render, please try loading this page with nbviewer.org.</b></div><div class=\"sk-container\" hidden><div class=\"sk-item\"><div class=\"sk-estimator sk-toggleable\"><input class=\"sk-toggleable__control sk-hidden--visually\" id=\"sk-estimator-id-1\" type=\"checkbox\" checked><label for=\"sk-estimator-id-1\" class=\"sk-toggleable__label sk-toggleable__label-arrow\">CountVectorizer</label><div class=\"sk-toggleable__content\"><pre>CountVectorizer(ngram_range=(1, 2))</pre></div></div></div></div></div>"
      ],
      "text/plain": [
       "CountVectorizer(ngram_range=(1, 2))"
      ]
     },
     "execution_count": 4,
     "metadata": {},
     "output_type": "execute_result"
    }
   ],
   "source": [
    "# Try unigrams and bigrams with sklearn\n",
    "from sklearn.feature_extraction.text import CountVectorizer\n",
    "\n",
    "vectorizer = CountVectorizer(ngram_range=(1,2), min_df=1)\n",
    "vectorizer.fit(data.content.astype('str'))"
   ]
  },
  {
   "cell_type": "code",
   "execution_count": 6,
   "id": "d050caf8-d158-4025-8778-142faf309259",
   "metadata": {
    "scrolled": true,
    "tags": []
   },
   "outputs": [
    {
     "data": {
      "text/plain": [
       "13283289"
      ]
     },
     "execution_count": 6,
     "metadata": {},
     "output_type": "execute_result"
    }
   ],
   "source": [
    "len(vectorizer.vocabulary_)"
   ]
  },
  {
   "cell_type": "code",
   "execution_count": 8,
   "id": "76b371e0-635c-455a-b12d-0897b3363282",
   "metadata": {},
   "outputs": [
    {
     "name": "stdout",
     "output_type": "stream",
     "text": [
      "4min 38s ± 0 ns per loop (mean ± std. dev. of 1 run, 1 loop each)\n"
     ]
    }
   ],
   "source": [
    "%%timeit -n 1 -r 1\n",
    "\n",
    "# Try unigrams and bigrams with sklearn\n",
    "from sklearn.feature_extraction.text import CountVectorizer\n",
    "\n",
    "vectorizer = CountVectorizer(ngram_range=(1,2), min_df=1)\n",
    "vectorizer.fit(data.content.astype('str'))"
   ]
  },
  {
   "cell_type": "code",
   "execution_count": null,
   "id": "c6f4a264-5471-4eb8-9e62-db424f8f9c59",
   "metadata": {},
   "outputs": [],
   "source": [
    "%%timeit -n 1 -r 1\n",
    "# Never finished--waaaay longer than 5 mins\n",
    "import itertools\n",
    "\n",
    "vocab = set()\n",
    "splits = data.content.astype('str').str.lower().str.split().apply(lambda x: vocab.update(itertools.permutations(x, 2)))\n",
    "len(vocab)"
   ]
  },
  {
   "cell_type": "code",
   "execution_count": 19,
   "id": "a1d5d75b-0f5d-4396-bd7f-a76fc249c173",
   "metadata": {},
   "outputs": [
    {
     "data": {
      "text/plain": [
       "5564"
      ]
     },
     "execution_count": 19,
     "metadata": {},
     "output_type": "execute_result"
    }
   ],
   "source": [
    "from tqdm.notebook import tqdm\n",
    "\n",
    "present_terms = [term for term in identities['term'] if term in vocab]\n",
    "len(present_terms)"
   ]
  },
  {
   "cell_type": "code",
   "execution_count": 21,
   "id": "fec453c5-01d2-4dc4-8aef-06039db166d3",
   "metadata": {
    "scrolled": true,
    "tags": []
   },
   "outputs": [],
   "source": [
    "pats_combo = re.compile(r'|'.join([(r'\\b{}\\b'.format(re.escape(term.lower()))) for term in present_terms]))\n",
    "# pats_combo\n",
    "\n",
    "def contains_match(text):\n",
    "    \"\"\" Return matched patterns present in text \"\"\" \n",
    "    return re.findall(pats_combo, str(text).lower())"
   ]
  },
  {
   "cell_type": "code",
   "execution_count": 21,
   "id": "5032667f-1d38-45e8-8f58-f3c378d662a9",
   "metadata": {
    "scrolled": true,
    "tags": []
   },
   "outputs": [
    {
     "name": "stdout",
     "output_type": "stream",
     "text": [
      "58.5 s ± 0 ns per loop (mean ± std. dev. of 1 run, 1 loop each)\n"
     ]
    }
   ],
   "source": [
    "%%timeit -n 1 -r 1\n",
    "# With separate re.search\n",
    "\n",
    "sample['nm_identity_matches'] = sample.content.map(contains_match)\n",
    "# sample[sample.nm_identity_matches.str.len() > 0]"
   ]
  },
  {
   "cell_type": "code",
   "execution_count": 22,
   "id": "af08f58c-4a15-4b32-8fef-683908b1f7c3",
   "metadata": {
    "scrolled": true,
    "tags": []
   },
   "outputs": [],
   "source": [
    "# %%timeit -n 1 -r 3\n",
    "# With combined re\n",
    "\n",
    "sample['nm_identity_matches'] = sample.content.map(contains_match)\n",
    "# sample[sample.nm_identity_matches.str.len() > 0]"
   ]
  },
  {
   "cell_type": "code",
   "execution_count": null,
   "id": "b2d51ddd-3d24-4cad-ba3a-7e77fdb27aac",
   "metadata": {
    "scrolled": true,
    "tags": []
   },
   "outputs": [],
   "source": [
    "identity_ctr = Counter(sample.nm_identity_matches.sum())\n",
    "identity_ctr.most_common()"
   ]
  },
  {
   "cell_type": "markdown",
   "id": "935bf496-0236-48d4-9e3e-9c386ade94de",
   "metadata": {},
   "source": [
    "### Identities_tags 2022 (from Josh)"
   ]
  },
  {
   "cell_type": "code",
   "execution_count": 36,
   "id": "01d86509-747f-47ea-bc60-3b3af4fdc614",
   "metadata": {},
   "outputs": [
    {
     "name": "stdout",
     "output_type": "stream",
     "text": [
      "<class 'pandas.core.frame.DataFrame'>\n",
      "RangeIndex: 7166 entries, 0 to 7165\n",
      "Data columns (total 8 columns):\n",
      " #   Column            Non-Null Count  Dtype  \n",
      "---  ------            --------------  -----  \n",
      " 0   IDENTITY          7166 non-null   object \n",
      " 1   FAMILY            7166 non-null   int64  \n",
      " 2   POLITICAL         7165 non-null   object \n",
      " 3   GENDER            7165 non-null   float64\n",
      " 4   RELIGION          7166 non-null   int64  \n",
      " 5   RACE/NATIONALITY  7166 non-null   int64  \n",
      " 6   JOB               7166 non-null   int64  \n",
      " 7   OTHER             7166 non-null   int64  \n",
      "dtypes: float64(1), int64(5), object(2)\n",
      "memory usage: 448.0+ KB\n"
     ]
    }
   ],
   "source": [
    "# Load identity terms\n",
    "import pandas as pd\n",
    "\n",
    "nm_identities_path = '../resources/identities_tags_v2_2022_5_26.xslx'\n",
    "nm_identities = pd.read_excel(nm_identities_path)\n",
    "nm_identities.info()"
   ]
  },
  {
   "cell_type": "code",
   "execution_count": 56,
   "id": "56cb2566-7f00-45cc-90f6-5540bbb791fa",
   "metadata": {
    "scrolled": true,
    "tags": []
   },
   "outputs": [
    {
     "data": {
      "text/plain": [
       "6767"
      ]
     },
     "execution_count": 56,
     "metadata": {},
     "output_type": "execute_result"
    }
   ],
   "source": [
    "new_identities = nm_identities.IDENTITY.str.replace('_', ' ').str.lower()\n",
    "len(set(new_identities).intersection(en_identities.term))"
   ]
  },
  {
   "cell_type": "code",
   "execution_count": 42,
   "id": "176692e0-2daa-4189-9796-e63b486442d9",
   "metadata": {},
   "outputs": [
    {
     "data": {
      "text/plain": [
       "1782573"
      ]
     },
     "execution_count": 42,
     "metadata": {},
     "output_type": "execute_result"
    }
   ],
   "source": [
    "# Filter to terms present at least once in the combined text (make this as fast as possible)\n",
    "vocab = set()\n",
    "data.content.astype('str').str.lower().str.split().apply(vocab.update)\n",
    "len(vocab)"
   ]
  },
  {
   "cell_type": "code",
   "execution_count": 57,
   "id": "061ee924-3393-41b0-8018-eb4ca0e2ac23",
   "metadata": {},
   "outputs": [
    {
     "name": "stdout",
     "output_type": "stream",
     "text": [
      "5755\n",
      "2587\n"
     ]
    }
   ],
   "source": [
    "from tqdm.notebook import tqdm\n",
    "\n",
    "old_present_terms = [term for term in en_identities['term'] if term in vocab]\n",
    "print(len(old_present_terms))\n",
    "new_present_terms = [term for term in new_identities if term in vocab]\n",
    "print(len(new_present_terms))"
   ]
  },
  {
   "cell_type": "code",
   "execution_count": null,
   "id": "d4712372-b4f8-421d-8189-be5fd650fe44",
   "metadata": {
    "scrolled": true,
    "tags": []
   },
   "outputs": [],
   "source": [
    "# Look at terms in the old list that aren't present in the new one\n",
    "both = set(old_present_terms).intersection(set(new_present_terms))\n",
    "only_old = set(old_present_terms) - both\n",
    "print(len(only_old))\n",
    "only_old"
   ]
  },
  {
   "cell_type": "code",
   "execution_count": 59,
   "id": "e077739e-daa4-4606-b045-6167569d3bc1",
   "metadata": {},
   "outputs": [
    {
     "name": "stdout",
     "output_type": "stream",
     "text": [
      "21\n"
     ]
    },
    {
     "data": {
      "text/plain": [
       "{'al-awsat',\n",
       " 'animal',\n",
       " 'bad',\n",
       " 'baptist',\n",
       " 'bless',\n",
       " 'bs',\n",
       " 'casualties',\n",
       " 'constituency',\n",
       " 'cunt',\n",
       " 'elite',\n",
       " 'fed',\n",
       " 'genius',\n",
       " 'homeless',\n",
       " 'imposer',\n",
       " 'major',\n",
       " 'non-alcoholic',\n",
       " 'penitent',\n",
       " 'population',\n",
       " 'psychotic',\n",
       " 'sex-worker',\n",
       " 'wiseguy'}"
      ]
     },
     "execution_count": 59,
     "metadata": {},
     "output_type": "execute_result"
    }
   ],
   "source": [
    "only_new = set(new_present_terms) - both\n",
    "print(len(only_new))\n",
    "only_new"
   ]
  },
  {
   "cell_type": "markdown",
   "id": "d0209e09-b056-472a-8659-81fbb7c9f34b",
   "metadata": {},
   "source": [
    "#### Get annotations for identity categories\n",
    "Save out to identity_categories.json"
   ]
  },
  {
   "cell_type": "code",
   "execution_count": 61,
   "id": "b4ab19e9-4ec7-4354-8e25-9ea2b4dce4cf",
   "metadata": {},
   "outputs": [
    {
     "data": {
      "text/plain": [
       "2587"
      ]
     },
     "execution_count": 61,
     "metadata": {},
     "output_type": "execute_result"
    }
   ],
   "source": [
    "filtered = nm_identities[nm_identities.IDENTITY.str.lower().isin(new_present_terms)]\n",
    "len(filtered)"
   ]
  },
  {
   "cell_type": "code",
   "execution_count": 52,
   "id": "234fb62a-035e-4c87-8224-3151bf6fb6fa",
   "metadata": {},
   "outputs": [
    {
     "data": {
      "text/plain": [
       "Index(['IDENTITY', 'FAMILY', 'POLITICAL', 'GENDER', 'RELIGION',\n",
       "       'RACE/NATIONALITY', 'JOB', 'OTHER'],\n",
       "      dtype='object')"
      ]
     },
     "execution_count": 52,
     "metadata": {},
     "output_type": "execute_result"
    }
   ],
   "source": [
    "filtered.columns"
   ]
  },
  {
   "cell_type": "code",
   "execution_count": 85,
   "id": "c824c99b-77bb-4d37-bc30-27b17b34b429",
   "metadata": {
    "scrolled": true,
    "tags": []
   },
   "outputs": [
    {
     "data": {
      "text/plain": [
       "98"
      ]
     },
     "execution_count": 85,
     "metadata": {},
     "output_type": "execute_result"
    }
   ],
   "source": [
    "political_present = filtered.loc[nm_identities.POLITICAL == 1, 'IDENTITY'].str.lower()\n",
    "annotations = {term: 'politics' for term in political_present}\n",
    "len(annotations)"
   ]
  },
  {
   "cell_type": "code",
   "execution_count": 86,
   "id": "21533399-34c7-41ce-a72d-991dcbd7e764",
   "metadata": {
    "scrolled": true,
    "tags": []
   },
   "outputs": [
    {
     "data": {
      "text/plain": [
       "268"
      ]
     },
     "execution_count": 86,
     "metadata": {},
     "output_type": "execute_result"
    }
   ],
   "source": [
    "gender_present = filtered.loc[nm_identities.GENDER == 1, 'IDENTITY'].str.lower()\n",
    "annotations.update({term: 'gender/sexuality' for term in gender_present})\n",
    "len(annotations)"
   ]
  },
  {
   "cell_type": "code",
   "execution_count": 87,
   "id": "35db6879-66e9-4216-bcca-7dcb696c317f",
   "metadata": {
    "scrolled": true,
    "tags": []
   },
   "outputs": [
    {
     "data": {
      "text/plain": [
       "366"
      ]
     },
     "execution_count": 87,
     "metadata": {},
     "output_type": "execute_result"
    }
   ],
   "source": [
    "religion_present = filtered.loc[nm_identities.RELIGION == 1, 'IDENTITY'].str.lower()\n",
    "annotations.update({term: 'religion' for term in religion_present})\n",
    "len(annotations)"
   ]
  },
  {
   "cell_type": "code",
   "execution_count": 88,
   "id": "0b0a00b4-3ac5-4704-8c92-fb4c701c6b32",
   "metadata": {
    "scrolled": true,
    "tags": []
   },
   "outputs": [
    {
     "data": {
      "text/plain": [
       "708"
      ]
     },
     "execution_count": 88,
     "metadata": {},
     "output_type": "execute_result"
    }
   ],
   "source": [
    "race_nationality_present = filtered.loc[nm_identities['RACE/NATIONALITY'] == 1, 'IDENTITY'].str.lower()\n",
    "annotations.update({term: 'race/ethnicity' for term in race_nationality_present}) # shouldn't really include nationalities\n",
    "len(annotations)"
   ]
  },
  {
   "cell_type": "code",
   "execution_count": 95,
   "id": "7d3559a2-399f-42b8-ad83-2dd68e145fa5",
   "metadata": {},
   "outputs": [
    {
     "data": {
      "text/plain": [
       "980"
      ]
     },
     "execution_count": 95,
     "metadata": {},
     "output_type": "execute_result"
    }
   ],
   "source": [
    "identity_cats.update(annotations)\n",
    "len(identity_cats)"
   ]
  },
  {
   "cell_type": "code",
   "execution_count": 97,
   "id": "a777650c-1f06-4116-a174-ba0fe30a45b4",
   "metadata": {},
   "outputs": [],
   "source": [
    "# Save out to identity_categories.json\n",
    "identity_cats_fpath = '../resources/identity_categories.json'\n",
    "with open(identity_cats_fpath, 'w') as f:\n",
    "    json.dump(identity_cats, f, indent=4)"
   ]
  },
  {
   "cell_type": "markdown",
   "id": "732a2ed1-3c62-426f-836b-4e1e4d11c35f",
   "metadata": {},
   "source": [
    "# Visualize identity term matches"
   ]
  },
  {
   "cell_type": "code",
   "execution_count": 10,
   "id": "b10ad7e0-d4e2-43dc-a751-34e64df8e386",
   "metadata": {},
   "outputs": [
    {
     "name": "stdout",
     "output_type": "stream",
     "text": [
      "<class 'pandas.core.frame.DataFrame'>\n",
      "RangeIndex: 6248230 entries, 0 to 6248229\n",
      "Data columns (total 10 columns):\n",
      " #   Column                            Dtype         \n",
      "---  ------                            -----         \n",
      " 0   type                              object        \n",
      " 1   forum                             object        \n",
      " 2   thread                            object        \n",
      " 3   username                          object        \n",
      " 4   date                              object        \n",
      " 5   content                           object        \n",
      " 6   parsed_date                       datetime64[ns]\n",
      " 7   content_orig                      object        \n",
      " 8   netmapper_identity_matches        object        \n",
      " 9   netmapper_identity_matches_spans  object        \n",
      "dtypes: datetime64[ns](1), object(9)\n",
      "memory usage: 476.7+ MB\n"
     ]
    }
   ],
   "source": [
    "# Load data with identity term matches extracted\n",
    "import pandas as pd\n",
    "\n",
    "path = '../../data/incels/processed_comments.pkl'\n",
    "# path = '../data/white_supremacist_identities.pkl'\n",
    "data = pd.read_pickle(path)\n",
    "data.info()"
   ]
  },
  {
   "cell_type": "markdown",
   "id": "4a8395f9-03ad-4c4b-8229-4d5c4229201b",
   "metadata": {},
   "source": [
    "## Total matches"
   ]
  },
  {
   "cell_type": "code",
   "execution_count": 11,
   "id": "f5b81c54-0f05-42d7-92cd-7f70291076f1",
   "metadata": {},
   "outputs": [
    {
     "data": {
      "application/vnd.plotly.v1+json": {
       "config": {
        "plotlyServerURL": "https://plot.ly"
       },
       "data": [
        {
         "alignmentgroup": "True",
         "hovertemplate": "identity_term=%{x}<br>count=%{y}<extra></extra>",
         "legendgroup": "",
         "marker": {
          "color": "#636efa",
          "pattern": {
           "shape": ""
          }
         },
         "name": "",
         "offsetgroup": "",
         "orientation": "v",
         "showlegend": false,
         "textposition": "auto",
         "type": "bar",
         "x": [
          "women",
          "men",
          "incel",
          "foids",
          "man",
          "guy",
          "incels",
          "guys",
          "girls",
          "foid",
          "girl",
          "bro",
          "chads",
          "woman",
          "female",
          "male",
          "females",
          "virgin",
          "dude",
          "males",
          "gay",
          "kids",
          "whore",
          "gf",
          "whores",
          "asian",
          "bitch",
          "subhuman",
          "children",
          "jews",
          "whites",
          "wife",
          "kid",
          "child",
          "mom",
          "manlet",
          "faggot",
          "autistic",
          "stacy",
          "mother",
          "girlfriend",
          "autism",
          "nigger",
          "truecel",
          "brother",
          "boyo",
          "nigga",
          "femoids",
          "ethnics",
          "father"
         ],
         "xaxis": "x",
         "y": [
          546358,
          394203,
          348825,
          270743,
          252608,
          226531,
          222902,
          192251,
          175850,
          166180,
          161699,
          150707,
          134447,
          132928,
          131720,
          121245,
          85511,
          74810,
          68028,
          65007,
          64381,
          59433,
          55064,
          54758,
          53916,
          53560,
          50786,
          50528,
          50388,
          46463,
          42816,
          42405,
          42101,
          41837,
          41515,
          40687,
          40253,
          39987,
          38466,
          38110,
          35170,
          33788,
          31714,
          30207,
          30171,
          30076,
          29852,
          29791,
          28110,
          27544
         ],
         "yaxis": "y"
        }
       ],
       "layout": {
        "autosize": true,
        "barmode": "relative",
        "legend": {
         "tracegroupgap": 0
        },
        "margin": {
         "t": 60
        },
        "template": {
         "data": {
          "bar": [
           {
            "error_x": {
             "color": "#2a3f5f"
            },
            "error_y": {
             "color": "#2a3f5f"
            },
            "marker": {
             "line": {
              "color": "#E5ECF6",
              "width": 0.5
             },
             "pattern": {
              "fillmode": "overlay",
              "size": 10,
              "solidity": 0.2
             }
            },
            "type": "bar"
           }
          ],
          "barpolar": [
           {
            "marker": {
             "line": {
              "color": "#E5ECF6",
              "width": 0.5
             },
             "pattern": {
              "fillmode": "overlay",
              "size": 10,
              "solidity": 0.2
             }
            },
            "type": "barpolar"
           }
          ],
          "carpet": [
           {
            "aaxis": {
             "endlinecolor": "#2a3f5f",
             "gridcolor": "white",
             "linecolor": "white",
             "minorgridcolor": "white",
             "startlinecolor": "#2a3f5f"
            },
            "baxis": {
             "endlinecolor": "#2a3f5f",
             "gridcolor": "white",
             "linecolor": "white",
             "minorgridcolor": "white",
             "startlinecolor": "#2a3f5f"
            },
            "type": "carpet"
           }
          ],
          "choropleth": [
           {
            "colorbar": {
             "outlinewidth": 0,
             "ticks": ""
            },
            "type": "choropleth"
           }
          ],
          "contour": [
           {
            "colorbar": {
             "outlinewidth": 0,
             "ticks": ""
            },
            "colorscale": [
             [
              0,
              "#0d0887"
             ],
             [
              0.1111111111111111,
              "#46039f"
             ],
             [
              0.2222222222222222,
              "#7201a8"
             ],
             [
              0.3333333333333333,
              "#9c179e"
             ],
             [
              0.4444444444444444,
              "#bd3786"
             ],
             [
              0.5555555555555556,
              "#d8576b"
             ],
             [
              0.6666666666666666,
              "#ed7953"
             ],
             [
              0.7777777777777778,
              "#fb9f3a"
             ],
             [
              0.8888888888888888,
              "#fdca26"
             ],
             [
              1,
              "#f0f921"
             ]
            ],
            "type": "contour"
           }
          ],
          "contourcarpet": [
           {
            "colorbar": {
             "outlinewidth": 0,
             "ticks": ""
            },
            "type": "contourcarpet"
           }
          ],
          "heatmap": [
           {
            "colorbar": {
             "outlinewidth": 0,
             "ticks": ""
            },
            "colorscale": [
             [
              0,
              "#0d0887"
             ],
             [
              0.1111111111111111,
              "#46039f"
             ],
             [
              0.2222222222222222,
              "#7201a8"
             ],
             [
              0.3333333333333333,
              "#9c179e"
             ],
             [
              0.4444444444444444,
              "#bd3786"
             ],
             [
              0.5555555555555556,
              "#d8576b"
             ],
             [
              0.6666666666666666,
              "#ed7953"
             ],
             [
              0.7777777777777778,
              "#fb9f3a"
             ],
             [
              0.8888888888888888,
              "#fdca26"
             ],
             [
              1,
              "#f0f921"
             ]
            ],
            "type": "heatmap"
           }
          ],
          "heatmapgl": [
           {
            "colorbar": {
             "outlinewidth": 0,
             "ticks": ""
            },
            "colorscale": [
             [
              0,
              "#0d0887"
             ],
             [
              0.1111111111111111,
              "#46039f"
             ],
             [
              0.2222222222222222,
              "#7201a8"
             ],
             [
              0.3333333333333333,
              "#9c179e"
             ],
             [
              0.4444444444444444,
              "#bd3786"
             ],
             [
              0.5555555555555556,
              "#d8576b"
             ],
             [
              0.6666666666666666,
              "#ed7953"
             ],
             [
              0.7777777777777778,
              "#fb9f3a"
             ],
             [
              0.8888888888888888,
              "#fdca26"
             ],
             [
              1,
              "#f0f921"
             ]
            ],
            "type": "heatmapgl"
           }
          ],
          "histogram": [
           {
            "marker": {
             "pattern": {
              "fillmode": "overlay",
              "size": 10,
              "solidity": 0.2
             }
            },
            "type": "histogram"
           }
          ],
          "histogram2d": [
           {
            "colorbar": {
             "outlinewidth": 0,
             "ticks": ""
            },
            "colorscale": [
             [
              0,
              "#0d0887"
             ],
             [
              0.1111111111111111,
              "#46039f"
             ],
             [
              0.2222222222222222,
              "#7201a8"
             ],
             [
              0.3333333333333333,
              "#9c179e"
             ],
             [
              0.4444444444444444,
              "#bd3786"
             ],
             [
              0.5555555555555556,
              "#d8576b"
             ],
             [
              0.6666666666666666,
              "#ed7953"
             ],
             [
              0.7777777777777778,
              "#fb9f3a"
             ],
             [
              0.8888888888888888,
              "#fdca26"
             ],
             [
              1,
              "#f0f921"
             ]
            ],
            "type": "histogram2d"
           }
          ],
          "histogram2dcontour": [
           {
            "colorbar": {
             "outlinewidth": 0,
             "ticks": ""
            },
            "colorscale": [
             [
              0,
              "#0d0887"
             ],
             [
              0.1111111111111111,
              "#46039f"
             ],
             [
              0.2222222222222222,
              "#7201a8"
             ],
             [
              0.3333333333333333,
              "#9c179e"
             ],
             [
              0.4444444444444444,
              "#bd3786"
             ],
             [
              0.5555555555555556,
              "#d8576b"
             ],
             [
              0.6666666666666666,
              "#ed7953"
             ],
             [
              0.7777777777777778,
              "#fb9f3a"
             ],
             [
              0.8888888888888888,
              "#fdca26"
             ],
             [
              1,
              "#f0f921"
             ]
            ],
            "type": "histogram2dcontour"
           }
          ],
          "mesh3d": [
           {
            "colorbar": {
             "outlinewidth": 0,
             "ticks": ""
            },
            "type": "mesh3d"
           }
          ],
          "parcoords": [
           {
            "line": {
             "colorbar": {
              "outlinewidth": 0,
              "ticks": ""
             }
            },
            "type": "parcoords"
           }
          ],
          "pie": [
           {
            "automargin": true,
            "type": "pie"
           }
          ],
          "scatter": [
           {
            "fillpattern": {
             "fillmode": "overlay",
             "size": 10,
             "solidity": 0.2
            },
            "type": "scatter"
           }
          ],
          "scatter3d": [
           {
            "line": {
             "colorbar": {
              "outlinewidth": 0,
              "ticks": ""
             }
            },
            "marker": {
             "colorbar": {
              "outlinewidth": 0,
              "ticks": ""
             }
            },
            "type": "scatter3d"
           }
          ],
          "scattercarpet": [
           {
            "marker": {
             "colorbar": {
              "outlinewidth": 0,
              "ticks": ""
             }
            },
            "type": "scattercarpet"
           }
          ],
          "scattergeo": [
           {
            "marker": {
             "colorbar": {
              "outlinewidth": 0,
              "ticks": ""
             }
            },
            "type": "scattergeo"
           }
          ],
          "scattergl": [
           {
            "marker": {
             "colorbar": {
              "outlinewidth": 0,
              "ticks": ""
             }
            },
            "type": "scattergl"
           }
          ],
          "scattermapbox": [
           {
            "marker": {
             "colorbar": {
              "outlinewidth": 0,
              "ticks": ""
             }
            },
            "type": "scattermapbox"
           }
          ],
          "scatterpolar": [
           {
            "marker": {
             "colorbar": {
              "outlinewidth": 0,
              "ticks": ""
             }
            },
            "type": "scatterpolar"
           }
          ],
          "scatterpolargl": [
           {
            "marker": {
             "colorbar": {
              "outlinewidth": 0,
              "ticks": ""
             }
            },
            "type": "scatterpolargl"
           }
          ],
          "scatterternary": [
           {
            "marker": {
             "colorbar": {
              "outlinewidth": 0,
              "ticks": ""
             }
            },
            "type": "scatterternary"
           }
          ],
          "surface": [
           {
            "colorbar": {
             "outlinewidth": 0,
             "ticks": ""
            },
            "colorscale": [
             [
              0,
              "#0d0887"
             ],
             [
              0.1111111111111111,
              "#46039f"
             ],
             [
              0.2222222222222222,
              "#7201a8"
             ],
             [
              0.3333333333333333,
              "#9c179e"
             ],
             [
              0.4444444444444444,
              "#bd3786"
             ],
             [
              0.5555555555555556,
              "#d8576b"
             ],
             [
              0.6666666666666666,
              "#ed7953"
             ],
             [
              0.7777777777777778,
              "#fb9f3a"
             ],
             [
              0.8888888888888888,
              "#fdca26"
             ],
             [
              1,
              "#f0f921"
             ]
            ],
            "type": "surface"
           }
          ],
          "table": [
           {
            "cells": {
             "fill": {
              "color": "#EBF0F8"
             },
             "line": {
              "color": "white"
             }
            },
            "header": {
             "fill": {
              "color": "#C8D4E3"
             },
             "line": {
              "color": "white"
             }
            },
            "type": "table"
           }
          ]
         },
         "layout": {
          "annotationdefaults": {
           "arrowcolor": "#2a3f5f",
           "arrowhead": 0,
           "arrowwidth": 1
          },
          "autotypenumbers": "strict",
          "coloraxis": {
           "colorbar": {
            "outlinewidth": 0,
            "ticks": ""
           }
          },
          "colorscale": {
           "diverging": [
            [
             0,
             "#8e0152"
            ],
            [
             0.1,
             "#c51b7d"
            ],
            [
             0.2,
             "#de77ae"
            ],
            [
             0.3,
             "#f1b6da"
            ],
            [
             0.4,
             "#fde0ef"
            ],
            [
             0.5,
             "#f7f7f7"
            ],
            [
             0.6,
             "#e6f5d0"
            ],
            [
             0.7,
             "#b8e186"
            ],
            [
             0.8,
             "#7fbc41"
            ],
            [
             0.9,
             "#4d9221"
            ],
            [
             1,
             "#276419"
            ]
           ],
           "sequential": [
            [
             0,
             "#0d0887"
            ],
            [
             0.1111111111111111,
             "#46039f"
            ],
            [
             0.2222222222222222,
             "#7201a8"
            ],
            [
             0.3333333333333333,
             "#9c179e"
            ],
            [
             0.4444444444444444,
             "#bd3786"
            ],
            [
             0.5555555555555556,
             "#d8576b"
            ],
            [
             0.6666666666666666,
             "#ed7953"
            ],
            [
             0.7777777777777778,
             "#fb9f3a"
            ],
            [
             0.8888888888888888,
             "#fdca26"
            ],
            [
             1,
             "#f0f921"
            ]
           ],
           "sequentialminus": [
            [
             0,
             "#0d0887"
            ],
            [
             0.1111111111111111,
             "#46039f"
            ],
            [
             0.2222222222222222,
             "#7201a8"
            ],
            [
             0.3333333333333333,
             "#9c179e"
            ],
            [
             0.4444444444444444,
             "#bd3786"
            ],
            [
             0.5555555555555556,
             "#d8576b"
            ],
            [
             0.6666666666666666,
             "#ed7953"
            ],
            [
             0.7777777777777778,
             "#fb9f3a"
            ],
            [
             0.8888888888888888,
             "#fdca26"
            ],
            [
             1,
             "#f0f921"
            ]
           ]
          },
          "colorway": [
           "#636efa",
           "#EF553B",
           "#00cc96",
           "#ab63fa",
           "#FFA15A",
           "#19d3f3",
           "#FF6692",
           "#B6E880",
           "#FF97FF",
           "#FECB52"
          ],
          "font": {
           "color": "#2a3f5f"
          },
          "geo": {
           "bgcolor": "white",
           "lakecolor": "white",
           "landcolor": "#E5ECF6",
           "showlakes": true,
           "showland": true,
           "subunitcolor": "white"
          },
          "hoverlabel": {
           "align": "left"
          },
          "hovermode": "closest",
          "mapbox": {
           "style": "light"
          },
          "paper_bgcolor": "white",
          "plot_bgcolor": "#E5ECF6",
          "polar": {
           "angularaxis": {
            "gridcolor": "white",
            "linecolor": "white",
            "ticks": ""
           },
           "bgcolor": "#E5ECF6",
           "radialaxis": {
            "gridcolor": "white",
            "linecolor": "white",
            "ticks": ""
           }
          },
          "scene": {
           "xaxis": {
            "backgroundcolor": "#E5ECF6",
            "gridcolor": "white",
            "gridwidth": 2,
            "linecolor": "white",
            "showbackground": true,
            "ticks": "",
            "zerolinecolor": "white"
           },
           "yaxis": {
            "backgroundcolor": "#E5ECF6",
            "gridcolor": "white",
            "gridwidth": 2,
            "linecolor": "white",
            "showbackground": true,
            "ticks": "",
            "zerolinecolor": "white"
           },
           "zaxis": {
            "backgroundcolor": "#E5ECF6",
            "gridcolor": "white",
            "gridwidth": 2,
            "linecolor": "white",
            "showbackground": true,
            "ticks": "",
            "zerolinecolor": "white"
           }
          },
          "shapedefaults": {
           "line": {
            "color": "#2a3f5f"
           }
          },
          "ternary": {
           "aaxis": {
            "gridcolor": "white",
            "linecolor": "white",
            "ticks": ""
           },
           "baxis": {
            "gridcolor": "white",
            "linecolor": "white",
            "ticks": ""
           },
           "bgcolor": "#E5ECF6",
           "caxis": {
            "gridcolor": "white",
            "linecolor": "white",
            "ticks": ""
           }
          },
          "title": {
           "x": 0.05
          },
          "xaxis": {
           "automargin": true,
           "gridcolor": "white",
           "linecolor": "white",
           "ticks": "",
           "title": {
            "standoff": 15
           },
           "zerolinecolor": "white",
           "zerolinewidth": 2
          },
          "yaxis": {
           "automargin": true,
           "gridcolor": "white",
           "linecolor": "white",
           "ticks": "",
           "title": {
            "standoff": 15
           },
           "zerolinecolor": "white",
           "zerolinewidth": 2
          }
         }
        },
        "xaxis": {
         "anchor": "y",
         "autorange": true,
         "domain": [
          0,
          1
         ],
         "range": [
          -0.5,
          49.5
         ],
         "tickangle": 45,
         "title": {
          "text": "identity_term"
         },
         "type": "category"
        },
        "yaxis": {
         "anchor": "x",
         "autorange": true,
         "domain": [
          0,
          1
         ],
         "range": [
          0,
          575113.6842105263
         ],
         "title": {
          "text": "count"
         },
         "type": "linear"
        }
       }
      },
      "image/png": "[encoded data removed]",
      "text/html": [
       "<div>                            <div id=\"471a2549-c237-4684-8b40-335be70d3f9e\" class=\"plotly-graph-div\" style=\"height:525px; width:100%;\"></div>            <script type=\"text/javascript\">                require([\"plotly\"], function(Plotly) {                    window.PLOTLYENV=window.PLOTLYENV || {};                                    if (document.getElementById(\"471a2549-c237-4684-8b40-335be70d3f9e\")) {                    Plotly.newPlot(                        \"471a2549-c237-4684-8b40-335be70d3f9e\",                        [{\"alignmentgroup\":\"True\",\"hovertemplate\":\"identity_term=%{x}<br>count=%{y}<extra></extra>\",\"legendgroup\":\"\",\"marker\":{\"color\":\"#636efa\",\"pattern\":{\"shape\":\"\"}},\"name\":\"\",\"offsetgroup\":\"\",\"orientation\":\"v\",\"showlegend\":false,\"textposition\":\"auto\",\"x\":[\"women\",\"men\",\"incel\",\"foids\",\"man\",\"guy\",\"incels\",\"guys\",\"girls\",\"foid\",\"girl\",\"bro\",\"chads\",\"woman\",\"female\",\"male\",\"females\",\"virgin\",\"dude\",\"males\",\"gay\",\"kids\",\"whore\",\"gf\",\"whores\",\"asian\",\"bitch\",\"subhuman\",\"children\",\"jews\",\"whites\",\"wife\",\"kid\",\"child\",\"mom\",\"manlet\",\"faggot\",\"autistic\",\"stacy\",\"mother\",\"girlfriend\",\"autism\",\"nigger\",\"truecel\",\"brother\",\"boyo\",\"nigga\",\"femoids\",\"ethnics\",\"father\"],\"xaxis\":\"x\",\"y\":[546358,394203,348825,270743,252608,226531,222902,192251,175850,166180,161699,150707,134447,132928,131720,121245,85511,74810,68028,65007,64381,59433,55064,54758,53916,53560,50786,50528,50388,46463,42816,42405,42101,41837,41515,40687,40253,39987,38466,38110,35170,33788,31714,30207,30171,30076,29852,29791,28110,27544],\"yaxis\":\"y\",\"type\":\"bar\"}],                        {\"template\":{\"data\":{\"histogram2dcontour\":[{\"type\":\"histogram2dcontour\",\"colorbar\":{\"outlinewidth\":0,\"ticks\":\"\"},\"colorscale\":[[0.0,\"#0d0887\"],[0.1111111111111111,\"#46039f\"],[0.2222222222222222,\"#7201a8\"],[0.3333333333333333,\"#9c179e\"],[0.4444444444444444,\"#bd3786\"],[0.5555555555555556,\"#d8576b\"],[0.6666666666666666,\"#ed7953\"],[0.7777777777777778,\"#fb9f3a\"],[0.8888888888888888,\"#fdca26\"],[1.0,\"#f0f921\"]]}],\"choropleth\":[{\"type\":\"choropleth\",\"colorbar\":{\"outlinewidth\":0,\"ticks\":\"\"}}],\"histogram2d\":[{\"type\":\"histogram2d\",\"colorbar\":{\"outlinewidth\":0,\"ticks\":\"\"},\"colorscale\":[[0.0,\"#0d0887\"],[0.1111111111111111,\"#46039f\"],[0.2222222222222222,\"#7201a8\"],[0.3333333333333333,\"#9c179e\"],[0.4444444444444444,\"#bd3786\"],[0.5555555555555556,\"#d8576b\"],[0.6666666666666666,\"#ed7953\"],[0.7777777777777778,\"#fb9f3a\"],[0.8888888888888888,\"#fdca26\"],[1.0,\"#f0f921\"]]}],\"heatmap\":[{\"type\":\"heatmap\",\"colorbar\":{\"outlinewidth\":0,\"ticks\":\"\"},\"colorscale\":[[0.0,\"#0d0887\"],[0.1111111111111111,\"#46039f\"],[0.2222222222222222,\"#7201a8\"],[0.3333333333333333,\"#9c179e\"],[0.4444444444444444,\"#bd3786\"],[0.5555555555555556,\"#d8576b\"],[0.6666666666666666,\"#ed7953\"],[0.7777777777777778,\"#fb9f3a\"],[0.8888888888888888,\"#fdca26\"],[1.0,\"#f0f921\"]]}],\"heatmapgl\":[{\"type\":\"heatmapgl\",\"colorbar\":{\"outlinewidth\":0,\"ticks\":\"\"},\"colorscale\":[[0.0,\"#0d0887\"],[0.1111111111111111,\"#46039f\"],[0.2222222222222222,\"#7201a8\"],[0.3333333333333333,\"#9c179e\"],[0.4444444444444444,\"#bd3786\"],[0.5555555555555556,\"#d8576b\"],[0.6666666666666666,\"#ed7953\"],[0.7777777777777778,\"#fb9f3a\"],[0.8888888888888888,\"#fdca26\"],[1.0,\"#f0f921\"]]}],\"contourcarpet\":[{\"type\":\"contourcarpet\",\"colorbar\":{\"outlinewidth\":0,\"ticks\":\"\"}}],\"contour\":[{\"type\":\"contour\",\"colorbar\":{\"outlinewidth\":0,\"ticks\":\"\"},\"colorscale\":[[0.0,\"#0d0887\"],[0.1111111111111111,\"#46039f\"],[0.2222222222222222,\"#7201a8\"],[0.3333333333333333,\"#9c179e\"],[0.4444444444444444,\"#bd3786\"],[0.5555555555555556,\"#d8576b\"],[0.6666666666666666,\"#ed7953\"],[0.7777777777777778,\"#fb9f3a\"],[0.8888888888888888,\"#fdca26\"],[1.0,\"#f0f921\"]]}],\"surface\":[{\"type\":\"surface\",\"colorbar\":{\"outlinewidth\":0,\"ticks\":\"\"},\"colorscale\":[[0.0,\"#0d0887\"],[0.1111111111111111,\"#46039f\"],[0.2222222222222222,\"#7201a8\"],[0.3333333333333333,\"#9c179e\"],[0.4444444444444444,\"#bd3786\"],[0.5555555555555556,\"#d8576b\"],[0.6666666666666666,\"#ed7953\"],[0.7777777777777778,\"#fb9f3a\"],[0.8888888888888888,\"#fdca26\"],[1.0,\"#f0f921\"]]}],\"mesh3d\":[{\"type\":\"mesh3d\",\"colorbar\":{\"outlinewidth\":0,\"ticks\":\"\"}}],\"scatter\":[{\"fillpattern\":{\"fillmode\":\"overlay\",\"size\":10,\"solidity\":0.2},\"type\":\"scatter\"}],\"parcoords\":[{\"type\":\"parcoords\",\"line\":{\"colorbar\":{\"outlinewidth\":0,\"ticks\":\"\"}}}],\"scatterpolargl\":[{\"type\":\"scatterpolargl\",\"marker\":{\"colorbar\":{\"outlinewidth\":0,\"ticks\":\"\"}}}],\"bar\":[{\"error_x\":{\"color\":\"#2a3f5f\"},\"error_y\":{\"color\":\"#2a3f5f\"},\"marker\":{\"line\":{\"color\":\"#E5ECF6\",\"width\":0.5},\"pattern\":{\"fillmode\":\"overlay\",\"size\":10,\"solidity\":0.2}},\"type\":\"bar\"}],\"scattergeo\":[{\"type\":\"scattergeo\",\"marker\":{\"colorbar\":{\"outlinewidth\":0,\"ticks\":\"\"}}}],\"scatterpolar\":[{\"type\":\"scatterpolar\",\"marker\":{\"colorbar\":{\"outlinewidth\":0,\"ticks\":\"\"}}}],\"histogram\":[{\"marker\":{\"pattern\":{\"fillmode\":\"overlay\",\"size\":10,\"solidity\":0.2}},\"type\":\"histogram\"}],\"scattergl\":[{\"type\":\"scattergl\",\"marker\":{\"colorbar\":{\"outlinewidth\":0,\"ticks\":\"\"}}}],\"scatter3d\":[{\"type\":\"scatter3d\",\"line\":{\"colorbar\":{\"outlinewidth\":0,\"ticks\":\"\"}},\"marker\":{\"colorbar\":{\"outlinewidth\":0,\"ticks\":\"\"}}}],\"scattermapbox\":[{\"type\":\"scattermapbox\",\"marker\":{\"colorbar\":{\"outlinewidth\":0,\"ticks\":\"\"}}}],\"scatterternary\":[{\"type\":\"scatterternary\",\"marker\":{\"colorbar\":{\"outlinewidth\":0,\"ticks\":\"\"}}}],\"scattercarpet\":[{\"type\":\"scattercarpet\",\"marker\":{\"colorbar\":{\"outlinewidth\":0,\"ticks\":\"\"}}}],\"carpet\":[{\"aaxis\":{\"endlinecolor\":\"#2a3f5f\",\"gridcolor\":\"white\",\"linecolor\":\"white\",\"minorgridcolor\":\"white\",\"startlinecolor\":\"#2a3f5f\"},\"baxis\":{\"endlinecolor\":\"#2a3f5f\",\"gridcolor\":\"white\",\"linecolor\":\"white\",\"minorgridcolor\":\"white\",\"startlinecolor\":\"#2a3f5f\"},\"type\":\"carpet\"}],\"table\":[{\"cells\":{\"fill\":{\"color\":\"#EBF0F8\"},\"line\":{\"color\":\"white\"}},\"header\":{\"fill\":{\"color\":\"#C8D4E3\"},\"line\":{\"color\":\"white\"}},\"type\":\"table\"}],\"barpolar\":[{\"marker\":{\"line\":{\"color\":\"#E5ECF6\",\"width\":0.5},\"pattern\":{\"fillmode\":\"overlay\",\"size\":10,\"solidity\":0.2}},\"type\":\"barpolar\"}],\"pie\":[{\"automargin\":true,\"type\":\"pie\"}]},\"layout\":{\"autotypenumbers\":\"strict\",\"colorway\":[\"#636efa\",\"#EF553B\",\"#00cc96\",\"#ab63fa\",\"#FFA15A\",\"#19d3f3\",\"#FF6692\",\"#B6E880\",\"#FF97FF\",\"#FECB52\"],\"font\":{\"color\":\"#2a3f5f\"},\"hovermode\":\"closest\",\"hoverlabel\":{\"align\":\"left\"},\"paper_bgcolor\":\"white\",\"plot_bgcolor\":\"#E5ECF6\",\"polar\":{\"bgcolor\":\"#E5ECF6\",\"angularaxis\":{\"gridcolor\":\"white\",\"linecolor\":\"white\",\"ticks\":\"\"},\"radialaxis\":{\"gridcolor\":\"white\",\"linecolor\":\"white\",\"ticks\":\"\"}},\"ternary\":{\"bgcolor\":\"#E5ECF6\",\"aaxis\":{\"gridcolor\":\"white\",\"linecolor\":\"white\",\"ticks\":\"\"},\"baxis\":{\"gridcolor\":\"white\",\"linecolor\":\"white\",\"ticks\":\"\"},\"caxis\":{\"gridcolor\":\"white\",\"linecolor\":\"white\",\"ticks\":\"\"}},\"coloraxis\":{\"colorbar\":{\"outlinewidth\":0,\"ticks\":\"\"}},\"colorscale\":{\"sequential\":[[0.0,\"#0d0887\"],[0.1111111111111111,\"#46039f\"],[0.2222222222222222,\"#7201a8\"],[0.3333333333333333,\"#9c179e\"],[0.4444444444444444,\"#bd3786\"],[0.5555555555555556,\"#d8576b\"],[0.6666666666666666,\"#ed7953\"],[0.7777777777777778,\"#fb9f3a\"],[0.8888888888888888,\"#fdca26\"],[1.0,\"#f0f921\"]],\"sequentialminus\":[[0.0,\"#0d0887\"],[0.1111111111111111,\"#46039f\"],[0.2222222222222222,\"#7201a8\"],[0.3333333333333333,\"#9c179e\"],[0.4444444444444444,\"#bd3786\"],[0.5555555555555556,\"#d8576b\"],[0.6666666666666666,\"#ed7953\"],[0.7777777777777778,\"#fb9f3a\"],[0.8888888888888888,\"#fdca26\"],[1.0,\"#f0f921\"]],\"diverging\":[[0,\"#8e0152\"],[0.1,\"#c51b7d\"],[0.2,\"#de77ae\"],[0.3,\"#f1b6da\"],[0.4,\"#fde0ef\"],[0.5,\"#f7f7f7\"],[0.6,\"#e6f5d0\"],[0.7,\"#b8e186\"],[0.8,\"#7fbc41\"],[0.9,\"#4d9221\"],[1,\"#276419\"]]},\"xaxis\":{\"gridcolor\":\"white\",\"linecolor\":\"white\",\"ticks\":\"\",\"title\":{\"standoff\":15},\"zerolinecolor\":\"white\",\"automargin\":true,\"zerolinewidth\":2},\"yaxis\":{\"gridcolor\":\"white\",\"linecolor\":\"white\",\"ticks\":\"\",\"title\":{\"standoff\":15},\"zerolinecolor\":\"white\",\"automargin\":true,\"zerolinewidth\":2},\"scene\":{\"xaxis\":{\"backgroundcolor\":\"#E5ECF6\",\"gridcolor\":\"white\",\"linecolor\":\"white\",\"showbackground\":true,\"ticks\":\"\",\"zerolinecolor\":\"white\",\"gridwidth\":2},\"yaxis\":{\"backgroundcolor\":\"#E5ECF6\",\"gridcolor\":\"white\",\"linecolor\":\"white\",\"showbackground\":true,\"ticks\":\"\",\"zerolinecolor\":\"white\",\"gridwidth\":2},\"zaxis\":{\"backgroundcolor\":\"#E5ECF6\",\"gridcolor\":\"white\",\"linecolor\":\"white\",\"showbackground\":true,\"ticks\":\"\",\"zerolinecolor\":\"white\",\"gridwidth\":2}},\"shapedefaults\":{\"line\":{\"color\":\"#2a3f5f\"}},\"annotationdefaults\":{\"arrowcolor\":\"#2a3f5f\",\"arrowhead\":0,\"arrowwidth\":1},\"geo\":{\"bgcolor\":\"white\",\"landcolor\":\"#E5ECF6\",\"subunitcolor\":\"white\",\"showland\":true,\"showlakes\":true,\"lakecolor\":\"white\"},\"title\":{\"x\":0.05},\"mapbox\":{\"style\":\"light\"}}},\"xaxis\":{\"anchor\":\"y\",\"domain\":[0.0,1.0],\"title\":{\"text\":\"identity_term\"},\"tickangle\":45},\"yaxis\":{\"anchor\":\"x\",\"domain\":[0.0,1.0],\"title\":{\"text\":\"count\"}},\"legend\":{\"tracegroupgap\":0},\"margin\":{\"t\":60},\"barmode\":\"relative\"},                        {\"responsive\": true}                    ).then(function(){\n",
       "                            \n",
       "var gd = document.getElementById('471a2549-c237-4684-8b40-335be70d3f9e');\n",
       "var x = new MutationObserver(function (mutations, observer) {{\n",
       "        var display = window.getComputedStyle(gd).display;\n",
       "        if (!display || display === 'none') {{\n",
       "            console.log([gd, 'removed!']);\n",
       "            Plotly.purge(gd);\n",
       "            observer.disconnect();\n",
       "        }}\n",
       "}});\n",
       "\n",
       "// Listen for the removal of the full notebook cells\n",
       "var notebookContainer = gd.closest('#notebook-container');\n",
       "if (notebookContainer) {{\n",
       "    x.observe(notebookContainer, {childList: true});\n",
       "}}\n",
       "\n",
       "// Listen for the clearing of the current output cell\n",
       "var outputEl = gd.closest('.output');\n",
       "if (outputEl) {{\n",
       "    x.observe(outputEl, {childList: true});\n",
       "}}\n",
       "\n",
       "                        })                };                });            </script>        </div>"
      ]
     },
     "metadata": {},
     "output_type": "display_data"
    }
   ],
   "source": [
    "exp = data.explode('netmapper_identity_matches')\n",
    "# freq = pd.DataFrame(exploded.netmapper_identity_matches.value_counts(), columns=['term', 'count'])\n",
    "\n",
    "freq = exp.netmapper_identity_matches.value_counts().to_frame(name='count').reset_index(names='identity_term')\n",
    "freq.head(20)\n",
    "\n",
    "import plotly.express as px\n",
    "pd.options.plotting.backend = 'plotly'\n",
    "\n",
    "fig = px.bar(freq.head(50), x='identity_term', y='count')\n",
    "fig.update_xaxes(tickangle=45)"
   ]
  },
  {
   "cell_type": "code",
   "execution_count": 18,
   "id": "6de55234-fb02-451a-9a6a-172518d77233",
   "metadata": {},
   "outputs": [
    {
     "name": "stdout",
     "output_type": "stream",
     "text": [
      "8909464\n"
     ]
    }
   ],
   "source": [
    "# Count number of identity term mentions (top-down generic list + bottom-up)\n",
    "print(exp['netmapper_identity_matches'].count())"
   ]
  },
  {
   "cell_type": "code",
   "execution_count": 4,
   "id": "cb323372-578a-4bc9-96db-97fa582dd152",
   "metadata": {},
   "outputs": [
    {
     "data": {
      "text/plain": [
       "6464047"
      ]
     },
     "execution_count": 4,
     "metadata": {},
     "output_type": "execute_result"
    }
   ],
   "source": [
    "# Count number of identity term mentions (top-down generic list)\n",
    "print(exp['netmapper_identity_matches'].count())"
   ]
  },
  {
   "cell_type": "code",
   "execution_count": 5,
   "id": "b18844c4-3eab-490e-9bbf-03637b9f34ad",
   "metadata": {},
   "outputs": [
    {
     "data": {
      "text/plain": [
       "6248230"
      ]
     },
     "execution_count": 5,
     "metadata": {},
     "output_type": "execute_result"
    }
   ],
   "source": [
    "print(len(data))"
   ]
  },
  {
   "cell_type": "markdown",
   "id": "3c6e9661-4214-48ed-84c1-8ab5d310b3a1",
   "metadata": {},
   "source": [
    "## Group identity terms"
   ]
  },
  {
   "cell_type": "code",
   "execution_count": 19,
   "id": "cfd215b7-cdce-45a5-baf2-d62dbe67ac3a",
   "metadata": {},
   "outputs": [
    {
     "name": "stdout",
     "output_type": "stream",
     "text": [
      "423\n"
     ]
    },
    {
     "data": {
      "application/vnd.plotly.v1+json": {
       "config": {
        "plotlyServerURL": "https://plot.ly"
       },
       "data": [
        {
         "alignmentgroup": "True",
         "hovertemplate": "identity_group=%{x}<br>count=%{y}<extra></extra>",
         "legendgroup": "",
         "marker": {
          "color": "#636efa",
          "pattern": {
           "shape": ""
          }
         },
         "name": "",
         "offsetgroup": "",
         "orientation": "v",
         "showlegend": false,
         "textposition": "auto",
         "type": "bar",
         "x": [
          "women_girls",
          "men_boys",
          "women_girls_derogatory",
          "incels",
          "men_boys_address",
          "youth",
          "mental_disabilities",
          "lgbtq_people",
          "asian_people",
          "black_people",
          "white_people",
          "jews",
          "virgins",
          "subhuman",
          "muslims",
          "americans",
          "ethnics",
          "latinx_people",
          "straight",
          "teachers",
          "racist",
          "police",
          "physcial_disabilities",
          "german",
          "immigrants_refugees",
          "homeless",
          "liberal",
          "christian",
          "scum",
          "indians"
         ],
         "xaxis": "x",
         "y": [
          2618512,
          2040371,
          904595,
          701884,
          313979,
          283963,
          239023,
          236250,
          198810,
          151466,
          132691,
          103977,
          94597,
          50528,
          49702,
          32685,
          28110,
          27245,
          25798,
          19980,
          18723,
          18287,
          17723,
          14322,
          13109,
          12004,
          11438,
          11217,
          10003,
          9742
         ],
         "yaxis": "y"
        }
       ],
       "layout": {
        "autosize": true,
        "barmode": "relative",
        "legend": {
         "tracegroupgap": 0
        },
        "margin": {
         "t": 60
        },
        "template": {
         "data": {
          "bar": [
           {
            "error_x": {
             "color": "#2a3f5f"
            },
            "error_y": {
             "color": "#2a3f5f"
            },
            "marker": {
             "line": {
              "color": "#E5ECF6",
              "width": 0.5
             },
             "pattern": {
              "fillmode": "overlay",
              "size": 10,
              "solidity": 0.2
             }
            },
            "type": "bar"
           }
          ],
          "barpolar": [
           {
            "marker": {
             "line": {
              "color": "#E5ECF6",
              "width": 0.5
             },
             "pattern": {
              "fillmode": "overlay",
              "size": 10,
              "solidity": 0.2
             }
            },
            "type": "barpolar"
           }
          ],
          "carpet": [
           {
            "aaxis": {
             "endlinecolor": "#2a3f5f",
             "gridcolor": "white",
             "linecolor": "white",
             "minorgridcolor": "white",
             "startlinecolor": "#2a3f5f"
            },
            "baxis": {
             "endlinecolor": "#2a3f5f",
             "gridcolor": "white",
             "linecolor": "white",
             "minorgridcolor": "white",
             "startlinecolor": "#2a3f5f"
            },
            "type": "carpet"
           }
          ],
          "choropleth": [
           {
            "colorbar": {
             "outlinewidth": 0,
             "ticks": ""
            },
            "type": "choropleth"
           }
          ],
          "contour": [
           {
            "colorbar": {
             "outlinewidth": 0,
             "ticks": ""
            },
            "colorscale": [
             [
              0,
              "#0d0887"
             ],
             [
              0.1111111111111111,
              "#46039f"
             ],
             [
              0.2222222222222222,
              "#7201a8"
             ],
             [
              0.3333333333333333,
              "#9c179e"
             ],
             [
              0.4444444444444444,
              "#bd3786"
             ],
             [
              0.5555555555555556,
              "#d8576b"
             ],
             [
              0.6666666666666666,
              "#ed7953"
             ],
             [
              0.7777777777777778,
              "#fb9f3a"
             ],
             [
              0.8888888888888888,
              "#fdca26"
             ],
             [
              1,
              "#f0f921"
             ]
            ],
            "type": "contour"
           }
          ],
          "contourcarpet": [
           {
            "colorbar": {
             "outlinewidth": 0,
             "ticks": ""
            },
            "type": "contourcarpet"
           }
          ],
          "heatmap": [
           {
            "colorbar": {
             "outlinewidth": 0,
             "ticks": ""
            },
            "colorscale": [
             [
              0,
              "#0d0887"
             ],
             [
              0.1111111111111111,
              "#46039f"
             ],
             [
              0.2222222222222222,
              "#7201a8"
             ],
             [
              0.3333333333333333,
              "#9c179e"
             ],
             [
              0.4444444444444444,
              "#bd3786"
             ],
             [
              0.5555555555555556,
              "#d8576b"
             ],
             [
              0.6666666666666666,
              "#ed7953"
             ],
             [
              0.7777777777777778,
              "#fb9f3a"
             ],
             [
              0.8888888888888888,
              "#fdca26"
             ],
             [
              1,
              "#f0f921"
             ]
            ],
            "type": "heatmap"
           }
          ],
          "heatmapgl": [
           {
            "colorbar": {
             "outlinewidth": 0,
             "ticks": ""
            },
            "colorscale": [
             [
              0,
              "#0d0887"
             ],
             [
              0.1111111111111111,
              "#46039f"
             ],
             [
              0.2222222222222222,
              "#7201a8"
             ],
             [
              0.3333333333333333,
              "#9c179e"
             ],
             [
              0.4444444444444444,
              "#bd3786"
             ],
             [
              0.5555555555555556,
              "#d8576b"
             ],
             [
              0.6666666666666666,
              "#ed7953"
             ],
             [
              0.7777777777777778,
              "#fb9f3a"
             ],
             [
              0.8888888888888888,
              "#fdca26"
             ],
             [
              1,
              "#f0f921"
             ]
            ],
            "type": "heatmapgl"
           }
          ],
          "histogram": [
           {
            "marker": {
             "pattern": {
              "fillmode": "overlay",
              "size": 10,
              "solidity": 0.2
             }
            },
            "type": "histogram"
           }
          ],
          "histogram2d": [
           {
            "colorbar": {
             "outlinewidth": 0,
             "ticks": ""
            },
            "colorscale": [
             [
              0,
              "#0d0887"
             ],
             [
              0.1111111111111111,
              "#46039f"
             ],
             [
              0.2222222222222222,
              "#7201a8"
             ],
             [
              0.3333333333333333,
              "#9c179e"
             ],
             [
              0.4444444444444444,
              "#bd3786"
             ],
             [
              0.5555555555555556,
              "#d8576b"
             ],
             [
              0.6666666666666666,
              "#ed7953"
             ],
             [
              0.7777777777777778,
              "#fb9f3a"
             ],
             [
              0.8888888888888888,
              "#fdca26"
             ],
             [
              1,
              "#f0f921"
             ]
            ],
            "type": "histogram2d"
           }
          ],
          "histogram2dcontour": [
           {
            "colorbar": {
             "outlinewidth": 0,
             "ticks": ""
            },
            "colorscale": [
             [
              0,
              "#0d0887"
             ],
             [
              0.1111111111111111,
              "#46039f"
             ],
             [
              0.2222222222222222,
              "#7201a8"
             ],
             [
              0.3333333333333333,
              "#9c179e"
             ],
             [
              0.4444444444444444,
              "#bd3786"
             ],
             [
              0.5555555555555556,
              "#d8576b"
             ],
             [
              0.6666666666666666,
              "#ed7953"
             ],
             [
              0.7777777777777778,
              "#fb9f3a"
             ],
             [
              0.8888888888888888,
              "#fdca26"
             ],
             [
              1,
              "#f0f921"
             ]
            ],
            "type": "histogram2dcontour"
           }
          ],
          "mesh3d": [
           {
            "colorbar": {
             "outlinewidth": 0,
             "ticks": ""
            },
            "type": "mesh3d"
           }
          ],
          "parcoords": [
           {
            "line": {
             "colorbar": {
              "outlinewidth": 0,
              "ticks": ""
             }
            },
            "type": "parcoords"
           }
          ],
          "pie": [
           {
            "automargin": true,
            "type": "pie"
           }
          ],
          "scatter": [
           {
            "fillpattern": {
             "fillmode": "overlay",
             "size": 10,
             "solidity": 0.2
            },
            "type": "scatter"
           }
          ],
          "scatter3d": [
           {
            "line": {
             "colorbar": {
              "outlinewidth": 0,
              "ticks": ""
             }
            },
            "marker": {
             "colorbar": {
              "outlinewidth": 0,
              "ticks": ""
             }
            },
            "type": "scatter3d"
           }
          ],
          "scattercarpet": [
           {
            "marker": {
             "colorbar": {
              "outlinewidth": 0,
              "ticks": ""
             }
            },
            "type": "scattercarpet"
           }
          ],
          "scattergeo": [
           {
            "marker": {
             "colorbar": {
              "outlinewidth": 0,
              "ticks": ""
             }
            },
            "type": "scattergeo"
           }
          ],
          "scattergl": [
           {
            "marker": {
             "colorbar": {
              "outlinewidth": 0,
              "ticks": ""
             }
            },
            "type": "scattergl"
           }
          ],
          "scattermapbox": [
           {
            "marker": {
             "colorbar": {
              "outlinewidth": 0,
              "ticks": ""
             }
            },
            "type": "scattermapbox"
           }
          ],
          "scatterpolar": [
           {
            "marker": {
             "colorbar": {
              "outlinewidth": 0,
              "ticks": ""
             }
            },
            "type": "scatterpolar"
           }
          ],
          "scatterpolargl": [
           {
            "marker": {
             "colorbar": {
              "outlinewidth": 0,
              "ticks": ""
             }
            },
            "type": "scatterpolargl"
           }
          ],
          "scatterternary": [
           {
            "marker": {
             "colorbar": {
              "outlinewidth": 0,
              "ticks": ""
             }
            },
            "type": "scatterternary"
           }
          ],
          "surface": [
           {
            "colorbar": {
             "outlinewidth": 0,
             "ticks": ""
            },
            "colorscale": [
             [
              0,
              "#0d0887"
             ],
             [
              0.1111111111111111,
              "#46039f"
             ],
             [
              0.2222222222222222,
              "#7201a8"
             ],
             [
              0.3333333333333333,
              "#9c179e"
             ],
             [
              0.4444444444444444,
              "#bd3786"
             ],
             [
              0.5555555555555556,
              "#d8576b"
             ],
             [
              0.6666666666666666,
              "#ed7953"
             ],
             [
              0.7777777777777778,
              "#fb9f3a"
             ],
             [
              0.8888888888888888,
              "#fdca26"
             ],
             [
              1,
              "#f0f921"
             ]
            ],
            "type": "surface"
           }
          ],
          "table": [
           {
            "cells": {
             "fill": {
              "color": "#EBF0F8"
             },
             "line": {
              "color": "white"
             }
            },
            "header": {
             "fill": {
              "color": "#C8D4E3"
             },
             "line": {
              "color": "white"
             }
            },
            "type": "table"
           }
          ]
         },
         "layout": {
          "annotationdefaults": {
           "arrowcolor": "#2a3f5f",
           "arrowhead": 0,
           "arrowwidth": 1
          },
          "autotypenumbers": "strict",
          "coloraxis": {
           "colorbar": {
            "outlinewidth": 0,
            "ticks": ""
           }
          },
          "colorscale": {
           "diverging": [
            [
             0,
             "#8e0152"
            ],
            [
             0.1,
             "#c51b7d"
            ],
            [
             0.2,
             "#de77ae"
            ],
            [
             0.3,
             "#f1b6da"
            ],
            [
             0.4,
             "#fde0ef"
            ],
            [
             0.5,
             "#f7f7f7"
            ],
            [
             0.6,
             "#e6f5d0"
            ],
            [
             0.7,
             "#b8e186"
            ],
            [
             0.8,
             "#7fbc41"
            ],
            [
             0.9,
             "#4d9221"
            ],
            [
             1,
             "#276419"
            ]
           ],
           "sequential": [
            [
             0,
             "#0d0887"
            ],
            [
             0.1111111111111111,
             "#46039f"
            ],
            [
             0.2222222222222222,
             "#7201a8"
            ],
            [
             0.3333333333333333,
             "#9c179e"
            ],
            [
             0.4444444444444444,
             "#bd3786"
            ],
            [
             0.5555555555555556,
             "#d8576b"
            ],
            [
             0.6666666666666666,
             "#ed7953"
            ],
            [
             0.7777777777777778,
             "#fb9f3a"
            ],
            [
             0.8888888888888888,
             "#fdca26"
            ],
            [
             1,
             "#f0f921"
            ]
           ],
           "sequentialminus": [
            [
             0,
             "#0d0887"
            ],
            [
             0.1111111111111111,
             "#46039f"
            ],
            [
             0.2222222222222222,
             "#7201a8"
            ],
            [
             0.3333333333333333,
             "#9c179e"
            ],
            [
             0.4444444444444444,
             "#bd3786"
            ],
            [
             0.5555555555555556,
             "#d8576b"
            ],
            [
             0.6666666666666666,
             "#ed7953"
            ],
            [
             0.7777777777777778,
             "#fb9f3a"
            ],
            [
             0.8888888888888888,
             "#fdca26"
            ],
            [
             1,
             "#f0f921"
            ]
           ]
          },
          "colorway": [
           "#636efa",
           "#EF553B",
           "#00cc96",
           "#ab63fa",
           "#FFA15A",
           "#19d3f3",
           "#FF6692",
           "#B6E880",
           "#FF97FF",
           "#FECB52"
          ],
          "font": {
           "color": "#2a3f5f"
          },
          "geo": {
           "bgcolor": "white",
           "lakecolor": "white",
           "landcolor": "#E5ECF6",
           "showlakes": true,
           "showland": true,
           "subunitcolor": "white"
          },
          "hoverlabel": {
           "align": "left"
          },
          "hovermode": "closest",
          "mapbox": {
           "style": "light"
          },
          "paper_bgcolor": "white",
          "plot_bgcolor": "#E5ECF6",
          "polar": {
           "angularaxis": {
            "gridcolor": "white",
            "linecolor": "white",
            "ticks": ""
           },
           "bgcolor": "#E5ECF6",
           "radialaxis": {
            "gridcolor": "white",
            "linecolor": "white",
            "ticks": ""
           }
          },
          "scene": {
           "xaxis": {
            "backgroundcolor": "#E5ECF6",
            "gridcolor": "white",
            "gridwidth": 2,
            "linecolor": "white",
            "showbackground": true,
            "ticks": "",
            "zerolinecolor": "white"
           },
           "yaxis": {
            "backgroundcolor": "#E5ECF6",
            "gridcolor": "white",
            "gridwidth": 2,
            "linecolor": "white",
            "showbackground": true,
            "ticks": "",
            "zerolinecolor": "white"
           },
           "zaxis": {
            "backgroundcolor": "#E5ECF6",
            "gridcolor": "white",
            "gridwidth": 2,
            "linecolor": "white",
            "showbackground": true,
            "ticks": "",
            "zerolinecolor": "white"
           }
          },
          "shapedefaults": {
           "line": {
            "color": "#2a3f5f"
           }
          },
          "ternary": {
           "aaxis": {
            "gridcolor": "white",
            "linecolor": "white",
            "ticks": ""
           },
           "baxis": {
            "gridcolor": "white",
            "linecolor": "white",
            "ticks": ""
           },
           "bgcolor": "#E5ECF6",
           "caxis": {
            "gridcolor": "white",
            "linecolor": "white",
            "ticks": ""
           }
          },
          "title": {
           "x": 0.05
          },
          "xaxis": {
           "automargin": true,
           "gridcolor": "white",
           "linecolor": "white",
           "ticks": "",
           "title": {
            "standoff": 15
           },
           "zerolinecolor": "white",
           "zerolinewidth": 2
          },
          "yaxis": {
           "automargin": true,
           "gridcolor": "white",
           "linecolor": "white",
           "ticks": "",
           "title": {
            "standoff": 15
           },
           "zerolinecolor": "white",
           "zerolinewidth": 2
          }
         }
        },
        "xaxis": {
         "anchor": "y",
         "autorange": true,
         "domain": [
          0,
          1
         ],
         "range": [
          -0.5,
          29.5
         ],
         "tickangle": 45,
         "title": {
          "text": "identity_group"
         },
         "type": "category"
        },
        "yaxis": {
         "anchor": "x",
         "autorange": true,
         "domain": [
          0,
          1
         ],
         "range": [
          0,
          2756328.4210526315
         ],
         "title": {
          "text": "count"
         },
         "type": "linear"
        }
       }
      },
      "image/png": "[encoded data removed]",
      "text/html": [
       "<div>                            <div id=\"9b5a6e8f-8e4e-434c-bed7-da0ea5e0f23a\" class=\"plotly-graph-div\" style=\"height:525px; width:100%;\"></div>            <script type=\"text/javascript\">                require([\"plotly\"], function(Plotly) {                    window.PLOTLYENV=window.PLOTLYENV || {};                                    if (document.getElementById(\"9b5a6e8f-8e4e-434c-bed7-da0ea5e0f23a\")) {                    Plotly.newPlot(                        \"9b5a6e8f-8e4e-434c-bed7-da0ea5e0f23a\",                        [{\"alignmentgroup\":\"True\",\"hovertemplate\":\"identity_group=%{x}<br>count=%{y}<extra></extra>\",\"legendgroup\":\"\",\"marker\":{\"color\":\"#636efa\",\"pattern\":{\"shape\":\"\"}},\"name\":\"\",\"offsetgroup\":\"\",\"orientation\":\"v\",\"showlegend\":false,\"textposition\":\"auto\",\"x\":[\"women_girls\",\"men_boys\",\"women_girls_derogatory\",\"incels\",\"men_boys_address\",\"youth\",\"mental_disabilities\",\"lgbtq_people\",\"asian_people\",\"black_people\",\"white_people\",\"jews\",\"virgins\",\"subhuman\",\"muslims\",\"americans\",\"ethnics\",\"latinx_people\",\"straight\",\"teachers\",\"racist\",\"police\",\"physcial_disabilities\",\"german\",\"immigrants_refugees\",\"homeless\",\"liberal\",\"christian\",\"scum\",\"indians\"],\"xaxis\":\"x\",\"y\":[2618512,2040371,904595,701884,313979,283963,239023,236250,198810,151466,132691,103977,94597,50528,49702,32685,28110,27245,25798,19980,18723,18287,17723,14322,13109,12004,11438,11217,10003,9742],\"yaxis\":\"y\",\"type\":\"bar\"}],                        {\"template\":{\"data\":{\"histogram2dcontour\":[{\"type\":\"histogram2dcontour\",\"colorbar\":{\"outlinewidth\":0,\"ticks\":\"\"},\"colorscale\":[[0.0,\"#0d0887\"],[0.1111111111111111,\"#46039f\"],[0.2222222222222222,\"#7201a8\"],[0.3333333333333333,\"#9c179e\"],[0.4444444444444444,\"#bd3786\"],[0.5555555555555556,\"#d8576b\"],[0.6666666666666666,\"#ed7953\"],[0.7777777777777778,\"#fb9f3a\"],[0.8888888888888888,\"#fdca26\"],[1.0,\"#f0f921\"]]}],\"choropleth\":[{\"type\":\"choropleth\",\"colorbar\":{\"outlinewidth\":0,\"ticks\":\"\"}}],\"histogram2d\":[{\"type\":\"histogram2d\",\"colorbar\":{\"outlinewidth\":0,\"ticks\":\"\"},\"colorscale\":[[0.0,\"#0d0887\"],[0.1111111111111111,\"#46039f\"],[0.2222222222222222,\"#7201a8\"],[0.3333333333333333,\"#9c179e\"],[0.4444444444444444,\"#bd3786\"],[0.5555555555555556,\"#d8576b\"],[0.6666666666666666,\"#ed7953\"],[0.7777777777777778,\"#fb9f3a\"],[0.8888888888888888,\"#fdca26\"],[1.0,\"#f0f921\"]]}],\"heatmap\":[{\"type\":\"heatmap\",\"colorbar\":{\"outlinewidth\":0,\"ticks\":\"\"},\"colorscale\":[[0.0,\"#0d0887\"],[0.1111111111111111,\"#46039f\"],[0.2222222222222222,\"#7201a8\"],[0.3333333333333333,\"#9c179e\"],[0.4444444444444444,\"#bd3786\"],[0.5555555555555556,\"#d8576b\"],[0.6666666666666666,\"#ed7953\"],[0.7777777777777778,\"#fb9f3a\"],[0.8888888888888888,\"#fdca26\"],[1.0,\"#f0f921\"]]}],\"heatmapgl\":[{\"type\":\"heatmapgl\",\"colorbar\":{\"outlinewidth\":0,\"ticks\":\"\"},\"colorscale\":[[0.0,\"#0d0887\"],[0.1111111111111111,\"#46039f\"],[0.2222222222222222,\"#7201a8\"],[0.3333333333333333,\"#9c179e\"],[0.4444444444444444,\"#bd3786\"],[0.5555555555555556,\"#d8576b\"],[0.6666666666666666,\"#ed7953\"],[0.7777777777777778,\"#fb9f3a\"],[0.8888888888888888,\"#fdca26\"],[1.0,\"#f0f921\"]]}],\"contourcarpet\":[{\"type\":\"contourcarpet\",\"colorbar\":{\"outlinewidth\":0,\"ticks\":\"\"}}],\"contour\":[{\"type\":\"contour\",\"colorbar\":{\"outlinewidth\":0,\"ticks\":\"\"},\"colorscale\":[[0.0,\"#0d0887\"],[0.1111111111111111,\"#46039f\"],[0.2222222222222222,\"#7201a8\"],[0.3333333333333333,\"#9c179e\"],[0.4444444444444444,\"#bd3786\"],[0.5555555555555556,\"#d8576b\"],[0.6666666666666666,\"#ed7953\"],[0.7777777777777778,\"#fb9f3a\"],[0.8888888888888888,\"#fdca26\"],[1.0,\"#f0f921\"]]}],\"surface\":[{\"type\":\"surface\",\"colorbar\":{\"outlinewidth\":0,\"ticks\":\"\"},\"colorscale\":[[0.0,\"#0d0887\"],[0.1111111111111111,\"#46039f\"],[0.2222222222222222,\"#7201a8\"],[0.3333333333333333,\"#9c179e\"],[0.4444444444444444,\"#bd3786\"],[0.5555555555555556,\"#d8576b\"],[0.6666666666666666,\"#ed7953\"],[0.7777777777777778,\"#fb9f3a\"],[0.8888888888888888,\"#fdca26\"],[1.0,\"#f0f921\"]]}],\"mesh3d\":[{\"type\":\"mesh3d\",\"colorbar\":{\"outlinewidth\":0,\"ticks\":\"\"}}],\"scatter\":[{\"fillpattern\":{\"fillmode\":\"overlay\",\"size\":10,\"solidity\":0.2},\"type\":\"scatter\"}],\"parcoords\":[{\"type\":\"parcoords\",\"line\":{\"colorbar\":{\"outlinewidth\":0,\"ticks\":\"\"}}}],\"scatterpolargl\":[{\"type\":\"scatterpolargl\",\"marker\":{\"colorbar\":{\"outlinewidth\":0,\"ticks\":\"\"}}}],\"bar\":[{\"error_x\":{\"color\":\"#2a3f5f\"},\"error_y\":{\"color\":\"#2a3f5f\"},\"marker\":{\"line\":{\"color\":\"#E5ECF6\",\"width\":0.5},\"pattern\":{\"fillmode\":\"overlay\",\"size\":10,\"solidity\":0.2}},\"type\":\"bar\"}],\"scattergeo\":[{\"type\":\"scattergeo\",\"marker\":{\"colorbar\":{\"outlinewidth\":0,\"ticks\":\"\"}}}],\"scatterpolar\":[{\"type\":\"scatterpolar\",\"marker\":{\"colorbar\":{\"outlinewidth\":0,\"ticks\":\"\"}}}],\"histogram\":[{\"marker\":{\"pattern\":{\"fillmode\":\"overlay\",\"size\":10,\"solidity\":0.2}},\"type\":\"histogram\"}],\"scattergl\":[{\"type\":\"scattergl\",\"marker\":{\"colorbar\":{\"outlinewidth\":0,\"ticks\":\"\"}}}],\"scatter3d\":[{\"type\":\"scatter3d\",\"line\":{\"colorbar\":{\"outlinewidth\":0,\"ticks\":\"\"}},\"marker\":{\"colorbar\":{\"outlinewidth\":0,\"ticks\":\"\"}}}],\"scattermapbox\":[{\"type\":\"scattermapbox\",\"marker\":{\"colorbar\":{\"outlinewidth\":0,\"ticks\":\"\"}}}],\"scatterternary\":[{\"type\":\"scatterternary\",\"marker\":{\"colorbar\":{\"outlinewidth\":0,\"ticks\":\"\"}}}],\"scattercarpet\":[{\"type\":\"scattercarpet\",\"marker\":{\"colorbar\":{\"outlinewidth\":0,\"ticks\":\"\"}}}],\"carpet\":[{\"aaxis\":{\"endlinecolor\":\"#2a3f5f\",\"gridcolor\":\"white\",\"linecolor\":\"white\",\"minorgridcolor\":\"white\",\"startlinecolor\":\"#2a3f5f\"},\"baxis\":{\"endlinecolor\":\"#2a3f5f\",\"gridcolor\":\"white\",\"linecolor\":\"white\",\"minorgridcolor\":\"white\",\"startlinecolor\":\"#2a3f5f\"},\"type\":\"carpet\"}],\"table\":[{\"cells\":{\"fill\":{\"color\":\"#EBF0F8\"},\"line\":{\"color\":\"white\"}},\"header\":{\"fill\":{\"color\":\"#C8D4E3\"},\"line\":{\"color\":\"white\"}},\"type\":\"table\"}],\"barpolar\":[{\"marker\":{\"line\":{\"color\":\"#E5ECF6\",\"width\":0.5},\"pattern\":{\"fillmode\":\"overlay\",\"size\":10,\"solidity\":0.2}},\"type\":\"barpolar\"}],\"pie\":[{\"automargin\":true,\"type\":\"pie\"}]},\"layout\":{\"autotypenumbers\":\"strict\",\"colorway\":[\"#636efa\",\"#EF553B\",\"#00cc96\",\"#ab63fa\",\"#FFA15A\",\"#19d3f3\",\"#FF6692\",\"#B6E880\",\"#FF97FF\",\"#FECB52\"],\"font\":{\"color\":\"#2a3f5f\"},\"hovermode\":\"closest\",\"hoverlabel\":{\"align\":\"left\"},\"paper_bgcolor\":\"white\",\"plot_bgcolor\":\"#E5ECF6\",\"polar\":{\"bgcolor\":\"#E5ECF6\",\"angularaxis\":{\"gridcolor\":\"white\",\"linecolor\":\"white\",\"ticks\":\"\"},\"radialaxis\":{\"gridcolor\":\"white\",\"linecolor\":\"white\",\"ticks\":\"\"}},\"ternary\":{\"bgcolor\":\"#E5ECF6\",\"aaxis\":{\"gridcolor\":\"white\",\"linecolor\":\"white\",\"ticks\":\"\"},\"baxis\":{\"gridcolor\":\"white\",\"linecolor\":\"white\",\"ticks\":\"\"},\"caxis\":{\"gridcolor\":\"white\",\"linecolor\":\"white\",\"ticks\":\"\"}},\"coloraxis\":{\"colorbar\":{\"outlinewidth\":0,\"ticks\":\"\"}},\"colorscale\":{\"sequential\":[[0.0,\"#0d0887\"],[0.1111111111111111,\"#46039f\"],[0.2222222222222222,\"#7201a8\"],[0.3333333333333333,\"#9c179e\"],[0.4444444444444444,\"#bd3786\"],[0.5555555555555556,\"#d8576b\"],[0.6666666666666666,\"#ed7953\"],[0.7777777777777778,\"#fb9f3a\"],[0.8888888888888888,\"#fdca26\"],[1.0,\"#f0f921\"]],\"sequentialminus\":[[0.0,\"#0d0887\"],[0.1111111111111111,\"#46039f\"],[0.2222222222222222,\"#7201a8\"],[0.3333333333333333,\"#9c179e\"],[0.4444444444444444,\"#bd3786\"],[0.5555555555555556,\"#d8576b\"],[0.6666666666666666,\"#ed7953\"],[0.7777777777777778,\"#fb9f3a\"],[0.8888888888888888,\"#fdca26\"],[1.0,\"#f0f921\"]],\"diverging\":[[0,\"#8e0152\"],[0.1,\"#c51b7d\"],[0.2,\"#de77ae\"],[0.3,\"#f1b6da\"],[0.4,\"#fde0ef\"],[0.5,\"#f7f7f7\"],[0.6,\"#e6f5d0\"],[0.7,\"#b8e186\"],[0.8,\"#7fbc41\"],[0.9,\"#4d9221\"],[1,\"#276419\"]]},\"xaxis\":{\"gridcolor\":\"white\",\"linecolor\":\"white\",\"ticks\":\"\",\"title\":{\"standoff\":15},\"zerolinecolor\":\"white\",\"automargin\":true,\"zerolinewidth\":2},\"yaxis\":{\"gridcolor\":\"white\",\"linecolor\":\"white\",\"ticks\":\"\",\"title\":{\"standoff\":15},\"zerolinecolor\":\"white\",\"automargin\":true,\"zerolinewidth\":2},\"scene\":{\"xaxis\":{\"backgroundcolor\":\"#E5ECF6\",\"gridcolor\":\"white\",\"linecolor\":\"white\",\"showbackground\":true,\"ticks\":\"\",\"zerolinecolor\":\"white\",\"gridwidth\":2},\"yaxis\":{\"backgroundcolor\":\"#E5ECF6\",\"gridcolor\":\"white\",\"linecolor\":\"white\",\"showbackground\":true,\"ticks\":\"\",\"zerolinecolor\":\"white\",\"gridwidth\":2},\"zaxis\":{\"backgroundcolor\":\"#E5ECF6\",\"gridcolor\":\"white\",\"linecolor\":\"white\",\"showbackground\":true,\"ticks\":\"\",\"zerolinecolor\":\"white\",\"gridwidth\":2}},\"shapedefaults\":{\"line\":{\"color\":\"#2a3f5f\"}},\"annotationdefaults\":{\"arrowcolor\":\"#2a3f5f\",\"arrowhead\":0,\"arrowwidth\":1},\"geo\":{\"bgcolor\":\"white\",\"landcolor\":\"#E5ECF6\",\"subunitcolor\":\"white\",\"showland\":true,\"showlakes\":true,\"lakecolor\":\"white\"},\"title\":{\"x\":0.05},\"mapbox\":{\"style\":\"light\"}}},\"xaxis\":{\"anchor\":\"y\",\"domain\":[0.0,1.0],\"title\":{\"text\":\"identity_group\"},\"tickangle\":45},\"yaxis\":{\"anchor\":\"x\",\"domain\":[0.0,1.0],\"title\":{\"text\":\"count\"}},\"legend\":{\"tracegroupgap\":0},\"margin\":{\"t\":60},\"barmode\":\"relative\"},                        {\"responsive\": true}                    ).then(function(){\n",
       "                            \n",
       "var gd = document.getElementById('9b5a6e8f-8e4e-434c-bed7-da0ea5e0f23a');\n",
       "var x = new MutationObserver(function (mutations, observer) {{\n",
       "        var display = window.getComputedStyle(gd).display;\n",
       "        if (!display || display === 'none') {{\n",
       "            console.log([gd, 'removed!']);\n",
       "            Plotly.purge(gd);\n",
       "            observer.disconnect();\n",
       "        }}\n",
       "}});\n",
       "\n",
       "// Listen for the removal of the full notebook cells\n",
       "var notebookContainer = gd.closest('#notebook-container');\n",
       "if (notebookContainer) {{\n",
       "    x.observe(notebookContainer, {childList: true});\n",
       "}}\n",
       "\n",
       "// Listen for the clearing of the current output cell\n",
       "var outputEl = gd.closest('.output');\n",
       "if (outputEl) {{\n",
       "    x.observe(outputEl, {childList: true});\n",
       "}}\n",
       "\n",
       "                        })                };                });            </script>        </div>"
      ]
     },
     "metadata": {},
     "output_type": "display_data"
    }
   ],
   "source": [
    "import json\n",
    "\n",
    "identity_groups_fpath = '../resources/identity_groups.json'\n",
    "with open(identity_groups_fpath, 'r') as f:\n",
    "    identity_groups = json.load(f)\n",
    "print(len(identity_groups))\n",
    "\n",
    "exp['identity_group'] = exp.netmapper_identity_matches.map(lambda x: identity_groups.get(x, x))\n",
    "exploded = exp.explode('identity_group') # Count intersectional mentions as a mention in each of their categories\n",
    "gp_freq = exploded.identity_group.value_counts().to_frame(name='count').reset_index(names='identity_group')\n",
    "gp_freq.head(30)\n",
    "\n",
    "import plotly.express as px\n",
    "pd.options.plotting.backend = 'plotly'\n",
    "\n",
    "# fig = px.bar(gp_freq.head(50), x='term', y='count')\n",
    "fig = px.bar(gp_freq.head(30), x='identity_group', y='count')\n",
    "fig.update_xaxes(tickangle=45)"
   ]
  },
  {
   "cell_type": "code",
   "execution_count": 7,
   "id": "a7c077d7-7b9a-4f2b-a185-94cfaffdb071",
   "metadata": {},
   "outputs": [
    {
     "name": "stdout",
     "output_type": "stream",
     "text": [
      "women_girls: ['women', 'woman', 'girls', 'girl', 'girlfriend', 'girlfriends', 'female', 'females', 'whore', 'whores', 'bitch', 'bitches', 'slut', 'sluts', 'cunt', 'cunts', 'prostitute', 'prostitutes', 'hooker', 'hookers', 'black women', 'feminist', 'feminists', 'white women', 'gf', 'sister', 'mother', 'daughter', 'mom', 'wife', 'wives', 'mothers']\n",
      "men_boys: ['men', 'man', 'boy', 'boys', 'boyfriend', 'boyfriends', 'bro', 'dude', 'dudes', 'male', 'males', 'black men', 'white men', 'bf', 'brother', 'brothers', 'father', 'son', 'husband', 'husbands', 'fathers']\n",
      "men_boys_address: ['bro', 'dude', 'dudes']\n",
      "women_girls_derogatory: ['whore', 'whores', 'bitch', 'bitches', 'slut', 'sluts', 'cunt', 'cunts', 'prostitute', 'prostitutes', 'hooker', 'hookers']\n",
      "youth: ['kids', 'kid', 'child', 'children', 'baby', 'babies', 'teen', 'teens']\n",
      "virgins: ['virgin']\n",
      "lgbtq_people: ['faggot', 'faggots', 'fag', 'fags', 'tranny', 'transgender', 'gay', 'gays', 'trans', 'bi', 'bisexual', 'bisexuals', 'pansexual', 'pansexuals', 'non-binary', 'nonbinary', 'non binary', 'genderqueer', 'homo', 'homosexual', 'homosexuals', 'transman', 'transwoman', 'queers']\n",
      "jews: ['jews', 'jew', 'jewish', 'kike', 'kikes', 'zionist', 'zionists', 'judaism', 'israelite', 'israelites', 'goy', 'goyim']\n",
      "black_people: ['black people', 'black man', 'black woman', 'black men', 'black women', 'nigger', 'nigga', 'niggers', 'niggas', 'niggaz', 'nigr', 'nigra', 'nigre', 'niggur', 'negro', 'negros', 'negroes', 'negroid', 'african', 'blacks']\n",
      "asian_people: ['asian', 'asians', 'indian', 'japanese', 'chinese', 'arab', 'chinks']\n",
      "white_people: ['white people', 'caucasian', 'white women', 'white men', 'european', 'europeans', 'whites']\n",
      "muslims: ['muslim', 'muslims']\n",
      "americans: ['american']\n",
      "teachers: ['teacher']\n",
      "latinx_people: ['spanish', 'hispanic', 'latino', 'latina', 'latinx', 'mexican', 'latin american', 'central american', 'south american', 'dominican', 'puerto rican', 'salvadoran', 'honduran', 'nicaraguan', 'costa rican', 'colombian', 'venezuelan', 'ecuadorian', 'brazilian', 'argentinian', 'bolivian', 'peruvian', 'chilean']\n"
     ]
    }
   ],
   "source": [
    "from collections import defaultdict\n",
    "\n",
    "gp_vals = defaultdict(list)\n",
    "for key, vals in identity_groups.items():\n",
    "    for gp in vals:\n",
    "        gp_vals[gp].append(key)\n",
    "        \n",
    "for gp, terms in gp_vals.items():\n",
    "    print(f'{gp}: {terms}')"
   ]
  },
  {
   "cell_type": "code",
   "execution_count": 8,
   "id": "a7a847ad-7559-4abd-8de9-39efad03b07a",
   "metadata": {},
   "outputs": [
    {
     "data": {
      "text/plain": [
       "5460"
      ]
     },
     "execution_count": 8,
     "metadata": {},
     "output_type": "execute_result"
    }
   ],
   "source": [
    "all_identities = exploded.netmapper_identity_matches.unique()\n",
    "len(all_identities)"
   ]
  },
  {
   "cell_type": "code",
   "execution_count": 9,
   "id": "ebabd5cb-54e1-4188-83d5-414c7c618787",
   "metadata": {},
   "outputs": [
    {
     "name": "stdout",
     "output_type": "stream",
     "text": [
      "spanish: True\n",
      "hispanic: True\n",
      "latino: True\n",
      "latina: False\n",
      "latinx: False\n",
      "mexican: True\n",
      "latin american: False\n",
      "central american: False\n",
      "south american: False\n",
      "dominican: True\n",
      "puerto rican: False\n",
      "salvadoran: True\n",
      "honduran: True\n",
      "nicaraguan: True\n",
      "costa rican: False\n",
      "colombian: True\n",
      "venezuelan: True\n",
      "ecuadorian: True\n",
      "brazilian: True\n",
      "argentinian: True\n",
      "bolivian: True\n",
      "peruvian: True\n",
      "chilean: True\n"
     ]
    }
   ],
   "source": [
    "for term in gp_vals['latinx_people']:\n",
    "    print(f'{term}: {term in all_identities}')"
   ]
  },
  {
   "cell_type": "code",
   "execution_count": 84,
   "id": "99ee6faa-1c29-4baa-937d-b7df769ca05a",
   "metadata": {},
   "outputs": [
    {
     "name": "stdout",
     "output_type": "stream",
     "text": [
      "jew: True\n",
      "jews: True\n",
      "jewish: False\n",
      "kike: True\n",
      "kikes: False\n",
      "zionist: True\n",
      "zionists: True\n",
      "judaism: False\n",
      "israelite: True\n",
      "israelites: True\n",
      "goy: False\n",
      "goyim: False\n"
     ]
    }
   ],
   "source": [
    "for term in ['jew', 'jews', 'jewish', 'kike', 'kikes', 'zionist', 'zionists', 'judaism', 'israelite', 'israelites', 'goy', 'goyim']:\n",
    "    print(f'{term}: {term in all_identities}')"
   ]
  },
  {
   "cell_type": "code",
   "execution_count": 134,
   "id": "f81905a3-20d4-4436-8274-d8aae4354be8",
   "metadata": {},
   "outputs": [
    {
     "name": "stdout",
     "output_type": "stream",
     "text": [
      "gay: False\n",
      "gays: True\n",
      "lesbian: True\n",
      "trans: False\n",
      "transgender: False\n",
      "bi: False\n",
      "bisexual: False\n",
      "pansexual: False\n",
      "homosexual: True\n",
      "homo: True\n",
      "queer: True\n",
      "transman: False\n",
      "transwoman: False\n",
      "queers: False\n",
      "fag: True\n",
      "fags: False\n"
     ]
    }
   ],
   "source": [
    "for term in ['gay', 'gays', 'lesbian', 'trans', 'transgender', 'bi', 'bisexual', 'pansexual', 'homosexual', 'homo', 'queer',\n",
    "            'transman', 'transwoman', 'queers', 'fag', 'fags']:\n",
    "    print(f'{term}: {term in all_identities}')"
   ]
  },
  {
   "cell_type": "code",
   "execution_count": 9,
   "id": "3e16af82-7775-43af-94c3-3d35a790e24b",
   "metadata": {},
   "outputs": [
    {
     "data": {
      "text/plain": [
       "['negroes', 'negroid', 'negro', 'negros']"
      ]
     },
     "execution_count": 9,
     "metadata": {},
     "output_type": "execute_result"
    }
   ],
   "source": [
    "[identity for identity in all_identities if 'negro' in str(identity)]"
   ]
  },
  {
   "cell_type": "code",
   "execution_count": 91,
   "id": "20b64cb3-737b-432d-a9d5-0f4271daab2c",
   "metadata": {},
   "outputs": [
    {
     "data": {
      "text/plain": [
       "['nonwhites', 'whiteman', 'whitetrash']"
      ]
     },
     "execution_count": 91,
     "metadata": {},
     "output_type": "execute_result"
    }
   ],
   "source": [
    "[identity for identity in all_identities if 'white' in str(identity)]"
   ]
  },
  {
   "cell_type": "code",
   "execution_count": 96,
   "id": "625539a2-b71d-4a15-bd49-6299ce49b642",
   "metadata": {},
   "outputs": [
    {
     "data": {
      "text/plain": [
       "[]"
      ]
     },
     "execution_count": 96,
     "metadata": {},
     "output_type": "execute_result"
    }
   ],
   "source": [
    "[identity for identity in all_identities if ' ' in str(identity)]"
   ]
  },
  {
   "cell_type": "code",
   "execution_count": 104,
   "id": "0fbd129a-f38c-48c0-ae5e-5602ba2e3516",
   "metadata": {},
   "outputs": [
    {
     "data": {
      "text/plain": [
       "['niggers',\n",
       " 'niggas',\n",
       " 'nigger',\n",
       " 'knight',\n",
       " 'nig',\n",
       " 'knights',\n",
       " 'nigga',\n",
       " 'niggah',\n",
       " 'nigerian',\n",
       " 'sandnigger',\n",
       " 'niggaz',\n",
       " 'knighted',\n",
       " 'knightly',\n",
       " 'niglet',\n",
       " 'nigra',\n",
       " 'knighthood',\n",
       " 'nigerians',\n",
       " 'nigg',\n",
       " 'snownigger',\n",
       " 'nigr',\n",
       " 'niggur',\n",
       " 'datnigga',\n",
       " 'nigre']"
      ]
     },
     "execution_count": 104,
     "metadata": {},
     "output_type": "execute_result"
    }
   ],
   "source": [
    "[identity for identity in all_identities if 'nig' in str(identity)]"
   ]
  },
  {
   "cell_type": "code",
   "execution_count": 103,
   "id": "cd08f5d1-3ead-429c-9534-d70033d15cb9",
   "metadata": {},
   "outputs": [
    {
     "data": {
      "text/plain": [
       "'black man'"
      ]
     },
     "execution_count": 103,
     "metadata": {},
     "output_type": "execute_result"
    }
   ],
   "source": [
    "import re\n",
    "\n",
    "re.search(r'\\b{}\\b'.format(re.escape('black man')), 'black man walking').group()\n",
    "# re.search(r'\\b{}\\b'.format(re.escape('black man')), 'asian man walking').group()"
   ]
  },
  {
   "cell_type": "markdown",
   "id": "8c64a766-18c0-4614-9063-b6d332af0257",
   "metadata": {},
   "source": [
    "### Identity groups over time"
   ]
  },
  {
   "cell_type": "code",
   "execution_count": 21,
   "id": "6383a6aa-7331-4297-a07e-251f3c893f35",
   "metadata": {},
   "outputs": [],
   "source": [
    "# For incels\n",
    "\n",
    "from datetime import datetime, timezone\n",
    "\n",
    "date_col = 'parsed_date' # for incels data\n",
    "\n",
    "post_counts = data.groupby(pd.Grouper(key=date_col, freq='MS'))['content'].count()\n",
    "data['word_count'] = data.content.str.split().str.len() # for incels data\n",
    "\n",
    "word_counts = data.groupby(pd.Grouper(key=date_col, freq='MS'))['word_count'].sum()\n",
    "word_counts\n",
    "\n",
    "# exploded = data.explode('netmapper_identity_matches').dropna(subset='netmapper_identity_matches')\n",
    "# counts_overtime = exploded.groupby([pd.Grouper(key=date_col, freq='MS'), 'netmapper_identity_matches']).size().to_frame(name='count').reset_index(names=[date_col, 'identity_term'])\n",
    "counts_overtime = exploded.groupby([pd.Grouper(key=date_col, freq='MS'), 'identity_group']).size().to_frame(name='term_count').reset_index(names=[date_col, 'identity_group'])\n",
    "counts_overtime\n",
    "\n",
    "counts_overtime = counts_overtime.join(word_counts, on=date_col).rename(columns={'content': 'word_count'})\n",
    "counts_overtime\n",
    "\n",
    "import numpy as np\n",
    "\n",
    "counts_overtime['mention_prob'] = counts_overtime['term_count'] / counts_overtime.word_count\n",
    "counts_overtime['log_prob'] = counts_overtime['mention_prob'].map(np.log10)\n",
    "counts_overtime.head()"
   ]
  },
  {
   "cell_type": "code",
   "execution_count": 24,
   "id": "140df928-327c-4048-9cfa-2dd6b1fc9a63",
   "metadata": {},
   "outputs": [
    {
     "data": {
      "application/vnd.plotly.v1+json": {
       "config": {
        "plotlyServerURL": "https://plot.ly"
       },
       "data": [
        {
         "hovertemplate": "identity_group=asian_people<br>parsed_date=%{x}<br>log_prob=%{y}<extra></extra>",
         "legendgroup": "asian_people",
         "line": {
          "color": "#636efa",
          "dash": "solid"
         },
         "marker": {
          "symbol": "circle"
         },
         "mode": "lines",
         "name": "asian_people",
         "orientation": "v",
         "showlegend": true,
         "type": "scatter",
         "visible": "legendonly",
         "x": [
          "2017-11-01T00:00:00",
          "2017-12-01T00:00:00",
          "2018-01-01T00:00:00",
          "2018-02-01T00:00:00",
          "2018-03-01T00:00:00",
          "2018-04-01T00:00:00",
          "2018-05-01T00:00:00",
          "2018-06-01T00:00:00",
          "2018-07-01T00:00:00",
          "2018-08-01T00:00:00",
          "2018-09-01T00:00:00",
          "2018-10-01T00:00:00",
          "2018-11-01T00:00:00",
          "2018-12-01T00:00:00",
          "2019-01-01T00:00:00",
          "2019-02-01T00:00:00",
          "2019-03-01T00:00:00",
          "2019-04-01T00:00:00",
          "2019-05-01T00:00:00",
          "2019-06-01T00:00:00",
          "2019-07-01T00:00:00",
          "2019-08-01T00:00:00",
          "2019-09-01T00:00:00",
          "2019-10-01T00:00:00",
          "2019-11-01T00:00:00",
          "2019-12-01T00:00:00",
          "2020-01-01T00:00:00",
          "2020-02-01T00:00:00",
          "2020-03-01T00:00:00",
          "2020-04-01T00:00:00",
          "2020-05-01T00:00:00",
          "2020-06-01T00:00:00",
          "2020-07-01T00:00:00",
          "2020-08-01T00:00:00",
          "2020-09-01T00:00:00",
          "2020-10-01T00:00:00",
          "2020-11-01T00:00:00",
          "2020-12-01T00:00:00",
          "2021-01-01T00:00:00",
          "2021-02-01T00:00:00",
          "2021-03-01T00:00:00",
          "2021-04-01T00:00:00"
         ],
         "xaxis": "x",
         "y": [
          -3.12031303491091,
          -3.1832790000036533,
          -3.1620410974425974,
          -3.0850277096330436,
          -3.0013035618531116,
          -3.1531438565137426,
          -3.021133778883889,
          -3.0096388951966833,
          -3.029532325474252,
          -3.070601191808095,
          -3.0058107052650107,
          -3.0569597149663346,
          -3.0986215483933535,
          -3.151648780191521,
          -3.1688423055219324,
          -2.9841224986758825,
          -3.088049215363346,
          -3.160473624753979,
          -3.163536450661924,
          -3.176067793273264,
          -3.160689868701747,
          -2.9889632743100014,
          -3.197756197044058,
          -3.12180138569824,
          -3.178697736991796,
          -3.1070601071401924,
          -3.0819257259769732,
          -3.143488422104083,
          -3.163038024336558,
          -3.1965022873014735,
          -3.162136546178896,
          -3.054861248176776,
          -3.1463663705980243,
          -3.146326351383363,
          -2.9971865617169935,
          -3.0265178585221553,
          -3.0793998058692327,
          -3.0034436845329076,
          -3.1268925092305215,
          -3.1428997517417065,
          -3.0947803190494056,
          -2.6843520373695853
         ],
         "yaxis": "y"
        },
        {
         "hovertemplate": "identity_group=black_people<br>parsed_date=%{x}<br>log_prob=%{y}<extra></extra>",
         "legendgroup": "black_people",
         "line": {
          "color": "#EF553B",
          "dash": "solid"
         },
         "marker": {
          "symbol": "circle"
         },
         "mode": "lines",
         "name": "black_people",
         "orientation": "v",
         "showlegend": true,
         "type": "scatter",
         "visible": "legendonly",
         "x": [
          "2017-11-01T00:00:00",
          "2017-12-01T00:00:00",
          "2018-01-01T00:00:00",
          "2018-02-01T00:00:00",
          "2018-03-01T00:00:00",
          "2018-04-01T00:00:00",
          "2018-05-01T00:00:00",
          "2018-06-01T00:00:00",
          "2018-07-01T00:00:00",
          "2018-08-01T00:00:00",
          "2018-09-01T00:00:00",
          "2018-10-01T00:00:00",
          "2018-11-01T00:00:00",
          "2018-12-01T00:00:00",
          "2019-01-01T00:00:00",
          "2019-02-01T00:00:00",
          "2019-03-01T00:00:00",
          "2019-04-01T00:00:00",
          "2019-05-01T00:00:00",
          "2019-06-01T00:00:00",
          "2019-07-01T00:00:00",
          "2019-08-01T00:00:00",
          "2019-09-01T00:00:00",
          "2019-10-01T00:00:00",
          "2019-11-01T00:00:00",
          "2019-12-01T00:00:00",
          "2020-01-01T00:00:00",
          "2020-02-01T00:00:00",
          "2020-03-01T00:00:00",
          "2020-04-01T00:00:00",
          "2020-05-01T00:00:00",
          "2020-06-01T00:00:00",
          "2020-07-01T00:00:00",
          "2020-08-01T00:00:00",
          "2020-09-01T00:00:00",
          "2020-10-01T00:00:00",
          "2020-11-01T00:00:00",
          "2020-12-01T00:00:00",
          "2021-01-01T00:00:00",
          "2021-02-01T00:00:00",
          "2021-03-01T00:00:00",
          "2021-04-01T00:00:00"
         ],
         "xaxis": "x",
         "y": [
          -3.2687063033903834,
          -3.438124260132115,
          -3.443921675304619,
          -3.2582290132282887,
          -3.3055777617739204,
          -3.289695199881811,
          -3.1732126949511397,
          -3.2529652746990316,
          -3.258724023924842,
          -3.3844331266327132,
          -3.2181368327229354,
          -3.2869991919553905,
          -3.3224721049795094,
          -3.268077336453978,
          -3.3590689351874405,
          -3.2991851157403316,
          -3.361012737461229,
          -3.383126317126437,
          -3.402922888120449,
          -3.3441436765336854,
          -3.381148153250236,
          -3.289677878179509,
          -3.3228332219776475,
          -3.425200697014501,
          -3.3693109942708266,
          -3.356917599473814,
          -3.3134881922981596,
          -3.2286014812529005,
          -3.153813070833972,
          -3.043474966417428,
          -3.1032459086248187,
          -2.9949201270801162,
          -3.084692252000794,
          -3.017728598792158,
          -3.1458558245517296,
          -3.06273513523924,
          -3.088380608943343,
          -3.0813739614527815,
          -3.099606016966937,
          -3.140294266533038,
          -3.0721677226083925,
          -2.97782889514312
         ],
         "yaxis": "y"
        },
        {
         "hovertemplate": "identity_group=incels<br>parsed_date=%{x}<br>log_prob=%{y}<extra></extra>",
         "legendgroup": "incels",
         "line": {
          "color": "#00cc96",
          "dash": "solid"
         },
         "marker": {
          "symbol": "circle"
         },
         "mode": "lines",
         "name": "incels",
         "orientation": "v",
         "showlegend": true,
         "type": "scatter",
         "visible": "legendonly",
         "x": [
          "2017-11-01T00:00:00",
          "2017-12-01T00:00:00",
          "2018-01-01T00:00:00",
          "2018-02-01T00:00:00",
          "2018-03-01T00:00:00",
          "2018-04-01T00:00:00",
          "2018-05-01T00:00:00",
          "2018-06-01T00:00:00",
          "2018-07-01T00:00:00",
          "2018-08-01T00:00:00",
          "2018-09-01T00:00:00",
          "2018-10-01T00:00:00",
          "2018-11-01T00:00:00",
          "2018-12-01T00:00:00",
          "2019-01-01T00:00:00",
          "2019-02-01T00:00:00",
          "2019-03-01T00:00:00",
          "2019-04-01T00:00:00",
          "2019-05-01T00:00:00",
          "2019-06-01T00:00:00",
          "2019-07-01T00:00:00",
          "2019-08-01T00:00:00",
          "2019-09-01T00:00:00",
          "2019-10-01T00:00:00",
          "2019-11-01T00:00:00",
          "2019-12-01T00:00:00",
          "2020-01-01T00:00:00",
          "2020-02-01T00:00:00",
          "2020-03-01T00:00:00",
          "2020-04-01T00:00:00",
          "2020-05-01T00:00:00",
          "2020-06-01T00:00:00",
          "2020-07-01T00:00:00",
          "2020-08-01T00:00:00",
          "2020-09-01T00:00:00",
          "2020-10-01T00:00:00",
          "2020-11-01T00:00:00",
          "2020-12-01T00:00:00",
          "2021-01-01T00:00:00",
          "2021-02-01T00:00:00",
          "2021-03-01T00:00:00",
          "2021-04-01T00:00:00"
         ],
         "xaxis": "x",
         "y": [
          -2.3934936563399485,
          -2.505387170603937,
          -2.528250720217128,
          -2.46177330534596,
          -2.5019923943428553,
          -2.4670640876620755,
          -2.4846123098539725,
          -2.5245409878280043,
          -2.5317976201412744,
          -2.511022528956804,
          -2.563325911069009,
          -2.533175984254672,
          -2.539786992037322,
          -2.552099168581158,
          -2.561987506879432,
          -2.600730681951308,
          -2.5906376401630697,
          -2.5851214516528596,
          -2.589384226386451,
          -2.575500590733162,
          -2.5751147666650147,
          -2.527529183630022,
          -2.5412226591541516,
          -2.534228429002999,
          -2.5488517907781763,
          -2.547919558386328,
          -2.533151836768339,
          -2.4914084371296563,
          -2.51371738125041,
          -2.4948361885422026,
          -2.5222299577715233,
          -2.548516019907496,
          -2.5584069934936466,
          -2.624098192285443,
          -2.5749348585296747,
          -2.532643291322745,
          -2.5715738613546195,
          -2.60019113888977,
          -2.6502220792730413,
          -2.6447136594262224,
          -2.625723330666894,
          -2.568537227356561
         ],
         "yaxis": "y"
        },
        {
         "hovertemplate": "identity_group=jews<br>parsed_date=%{x}<br>log_prob=%{y}<extra></extra>",
         "legendgroup": "jews",
         "line": {
          "color": "#ab63fa",
          "dash": "solid"
         },
         "marker": {
          "symbol": "circle"
         },
         "mode": "lines",
         "name": "jews",
         "orientation": "v",
         "showlegend": true,
         "type": "scatter",
         "visible": "legendonly",
         "x": [
          "2017-11-01T00:00:00",
          "2017-12-01T00:00:00",
          "2018-01-01T00:00:00",
          "2018-02-01T00:00:00",
          "2018-03-01T00:00:00",
          "2018-04-01T00:00:00",
          "2018-05-01T00:00:00",
          "2018-06-01T00:00:00",
          "2018-07-01T00:00:00",
          "2018-08-01T00:00:00",
          "2018-09-01T00:00:00",
          "2018-10-01T00:00:00",
          "2018-11-01T00:00:00",
          "2018-12-01T00:00:00",
          "2019-01-01T00:00:00",
          "2019-02-01T00:00:00",
          "2019-03-01T00:00:00",
          "2019-04-01T00:00:00",
          "2019-05-01T00:00:00",
          "2019-06-01T00:00:00",
          "2019-07-01T00:00:00",
          "2019-08-01T00:00:00",
          "2019-09-01T00:00:00",
          "2019-10-01T00:00:00",
          "2019-11-01T00:00:00",
          "2019-12-01T00:00:00",
          "2020-01-01T00:00:00",
          "2020-02-01T00:00:00",
          "2020-03-01T00:00:00",
          "2020-04-01T00:00:00",
          "2020-05-01T00:00:00",
          "2020-06-01T00:00:00",
          "2020-07-01T00:00:00",
          "2020-08-01T00:00:00",
          "2020-09-01T00:00:00",
          "2020-10-01T00:00:00",
          "2020-11-01T00:00:00",
          "2020-12-01T00:00:00",
          "2021-01-01T00:00:00",
          "2021-02-01T00:00:00",
          "2021-03-01T00:00:00",
          "2021-04-01T00:00:00"
         ],
         "xaxis": "x",
         "y": [
          -3.723450235096812,
          -3.7561363539312396,
          -3.701714493100124,
          -3.4320061574885234,
          -3.515147623597514,
          -3.619893406806042,
          -3.522682724427966,
          -3.4220469566650507,
          -3.406088046156006,
          -3.566931375171617,
          -3.469973123905606,
          -3.4521904052135954,
          -3.349681770800018,
          -3.4222318818516277,
          -3.413707661195841,
          -3.370850030074227,
          -3.2889995905214082,
          -3.251785666159981,
          -3.3137971826203048,
          -3.305189784029873,
          -3.206246657054747,
          -3.169295066172256,
          -3.310291517948314,
          -3.437538342871896,
          -3.621458022016615,
          -3.507932263156233,
          -3.4375515671126062,
          -3.401580679035701,
          -3.4300093410371066,
          -3.326453089970779,
          -3.471605778971745,
          -3.393659794387033,
          -3.3926164973806503,
          -3.470727536662723,
          -3.448110911245017,
          -3.420310292700477,
          -3.339702192281233,
          -3.2194164939838323,
          -3.165918542738425,
          -3.124146226050984,
          -3.088198549058028,
          -2.9593579693549086
         ],
         "yaxis": "y"
        },
        {
         "hovertemplate": "identity_group=lgbtq_people<br>parsed_date=%{x}<br>log_prob=%{y}<extra></extra>",
         "legendgroup": "lgbtq_people",
         "line": {
          "color": "#FFA15A",
          "dash": "solid"
         },
         "marker": {
          "symbol": "circle"
         },
         "mode": "lines",
         "name": "lgbtq_people",
         "orientation": "v",
         "showlegend": true,
         "type": "scatter",
         "visible": "legendonly",
         "x": [
          "2017-11-01T00:00:00",
          "2017-12-01T00:00:00",
          "2018-01-01T00:00:00",
          "2018-02-01T00:00:00",
          "2018-03-01T00:00:00",
          "2018-04-01T00:00:00",
          "2018-05-01T00:00:00",
          "2018-06-01T00:00:00",
          "2018-07-01T00:00:00",
          "2018-08-01T00:00:00",
          "2018-09-01T00:00:00",
          "2018-10-01T00:00:00",
          "2018-11-01T00:00:00",
          "2018-12-01T00:00:00",
          "2019-01-01T00:00:00",
          "2019-02-01T00:00:00",
          "2019-03-01T00:00:00",
          "2019-04-01T00:00:00",
          "2019-05-01T00:00:00",
          "2019-06-01T00:00:00",
          "2019-07-01T00:00:00",
          "2019-08-01T00:00:00",
          "2019-09-01T00:00:00",
          "2019-10-01T00:00:00",
          "2019-11-01T00:00:00",
          "2019-12-01T00:00:00",
          "2020-01-01T00:00:00",
          "2020-02-01T00:00:00",
          "2020-03-01T00:00:00",
          "2020-04-01T00:00:00",
          "2020-05-01T00:00:00",
          "2020-06-01T00:00:00",
          "2020-07-01T00:00:00",
          "2020-08-01T00:00:00",
          "2020-09-01T00:00:00",
          "2020-10-01T00:00:00",
          "2020-11-01T00:00:00",
          "2020-12-01T00:00:00",
          "2021-01-01T00:00:00",
          "2021-02-01T00:00:00",
          "2021-03-01T00:00:00",
          "2021-04-01T00:00:00"
         ],
         "xaxis": "x",
         "y": [
          -3.0779759123533683,
          -3.08648299001027,
          -3.0648923955129495,
          -3.1198972214775447,
          -3.0491831709406614,
          -3.0975530590751013,
          -3.107937732162297,
          -3.107353677679325,
          -3.1340746562213533,
          -3.0769102353863156,
          -3.086749383929541,
          -3.0314146136083195,
          -3.0188608566534954,
          -3.0292204233008206,
          -2.998517111679159,
          -3.008490410585918,
          -3.023265035927499,
          -3.011680949703672,
          -3.0101037756778504,
          -2.9359592294342636,
          -3.033049446976997,
          -2.987939087302049,
          -3.0044508265265035,
          -3.055165255047511,
          -3.049841385672531,
          -3.071841743802491,
          -2.995166849808389,
          -3.027285004133508,
          -3.0079589515835488,
          -2.905081052607245,
          -2.9967523857079046,
          -3.0111999372618548,
          -2.996275695642318,
          -2.960407214566394,
          -3.0195429787509904,
          -2.950616397365108,
          -2.931093664211699,
          -3.0250612252892726,
          -2.984384243618592,
          -2.990580054145687,
          -2.9166097353248457,
          -2.8416552295599353
         ],
         "yaxis": "y"
        },
        {
         "hovertemplate": "identity_group=men_boys<br>parsed_date=%{x}<br>log_prob=%{y}<extra></extra>",
         "legendgroup": "men_boys",
         "line": {
          "color": "#19d3f3",
          "dash": "solid"
         },
         "marker": {
          "symbol": "circle"
         },
         "mode": "lines",
         "name": "men_boys",
         "orientation": "v",
         "showlegend": true,
         "type": "scatter",
         "visible": "legendonly",
         "x": [
          "2017-11-01T00:00:00",
          "2017-12-01T00:00:00",
          "2018-01-01T00:00:00",
          "2018-02-01T00:00:00",
          "2018-03-01T00:00:00",
          "2018-04-01T00:00:00",
          "2018-05-01T00:00:00",
          "2018-06-01T00:00:00",
          "2018-07-01T00:00:00",
          "2018-08-01T00:00:00",
          "2018-09-01T00:00:00",
          "2018-10-01T00:00:00",
          "2018-11-01T00:00:00",
          "2018-12-01T00:00:00",
          "2019-01-01T00:00:00",
          "2019-02-01T00:00:00",
          "2019-03-01T00:00:00",
          "2019-04-01T00:00:00",
          "2019-05-01T00:00:00",
          "2019-06-01T00:00:00",
          "2019-07-01T00:00:00",
          "2019-08-01T00:00:00",
          "2019-09-01T00:00:00",
          "2019-10-01T00:00:00",
          "2019-11-01T00:00:00",
          "2019-12-01T00:00:00",
          "2020-01-01T00:00:00",
          "2020-02-01T00:00:00",
          "2020-03-01T00:00:00",
          "2020-04-01T00:00:00",
          "2020-05-01T00:00:00",
          "2020-06-01T00:00:00",
          "2020-07-01T00:00:00",
          "2020-08-01T00:00:00",
          "2020-09-01T00:00:00",
          "2020-10-01T00:00:00",
          "2020-11-01T00:00:00",
          "2020-12-01T00:00:00",
          "2021-01-01T00:00:00",
          "2021-02-01T00:00:00",
          "2021-03-01T00:00:00",
          "2021-04-01T00:00:00"
         ],
         "xaxis": "x",
         "y": [
          -2.0812576885613754,
          -2.0991744101983554,
          -2.108122544028984,
          -2.0814129350182693,
          -2.0663464476400226,
          -2.072086039921213,
          -2.0610973792862985,
          -2.0635016819759517,
          -2.0587864257764004,
          -2.058938073948306,
          -2.07012423208796,
          -2.0516668126871203,
          -2.0518331805830075,
          -2.054358456740386,
          -2.0315545169775575,
          -2.0608519038756072,
          -2.0380481038625806,
          -2.045126038066309,
          -2.082055250166059,
          -2.0564410696008064,
          -2.044632229426114,
          -2.0329627507921493,
          -2.0551086042804787,
          -2.0625153375652783,
          -2.050508254685017,
          -2.024126140691417,
          -2.046335160839018,
          -2.0418086312187285,
          -2.097270274432871,
          -2.097269638042549,
          -2.11143826350868,
          -2.1367008445321383,
          -2.1106877930252503,
          -2.154702438093496,
          -2.153269120744754,
          -2.0996649700634085,
          -2.1357997138614473,
          -2.1280670226100393,
          -2.140795636890227,
          -2.1149557272118247,
          -2.13451629918714,
          -2.1044882460370262
         ],
         "yaxis": "y"
        },
        {
         "hovertemplate": "identity_group=men_boys_address<br>parsed_date=%{x}<br>log_prob=%{y}<extra></extra>",
         "legendgroup": "men_boys_address",
         "line": {
          "color": "#FF6692",
          "dash": "solid"
         },
         "marker": {
          "symbol": "circle"
         },
         "mode": "lines",
         "name": "men_boys_address",
         "orientation": "v",
         "showlegend": true,
         "type": "scatter",
         "visible": "legendonly",
         "x": [
          "2017-11-01T00:00:00",
          "2017-12-01T00:00:00",
          "2018-01-01T00:00:00",
          "2018-02-01T00:00:00",
          "2018-03-01T00:00:00",
          "2018-04-01T00:00:00",
          "2018-05-01T00:00:00",
          "2018-06-01T00:00:00",
          "2018-07-01T00:00:00",
          "2018-08-01T00:00:00",
          "2018-09-01T00:00:00",
          "2018-10-01T00:00:00",
          "2018-11-01T00:00:00",
          "2018-12-01T00:00:00",
          "2019-01-01T00:00:00",
          "2019-02-01T00:00:00",
          "2019-03-01T00:00:00",
          "2019-04-01T00:00:00",
          "2019-05-01T00:00:00",
          "2019-06-01T00:00:00",
          "2019-07-01T00:00:00",
          "2019-08-01T00:00:00",
          "2019-09-01T00:00:00",
          "2019-10-01T00:00:00",
          "2019-11-01T00:00:00",
          "2019-12-01T00:00:00",
          "2020-01-01T00:00:00",
          "2020-02-01T00:00:00",
          "2020-03-01T00:00:00",
          "2020-04-01T00:00:00",
          "2020-05-01T00:00:00",
          "2020-06-01T00:00:00",
          "2020-07-01T00:00:00",
          "2020-08-01T00:00:00",
          "2020-09-01T00:00:00",
          "2020-10-01T00:00:00",
          "2020-11-01T00:00:00",
          "2020-12-01T00:00:00",
          "2021-01-01T00:00:00",
          "2021-02-01T00:00:00",
          "2021-03-01T00:00:00",
          "2021-04-01T00:00:00"
         ],
         "xaxis": "x",
         "y": [
          -3.054084087562577,
          -3.0405431089878228,
          -2.985393101496586,
          -2.912531028968421,
          -2.942674165059084,
          -3.076704723893946,
          -3.007992804763806,
          -2.9410222559127996,
          -2.9429686286860073,
          -3.020420147000358,
          -2.87687114176161,
          -2.80796444853937,
          -2.8588260695312337,
          -2.84943141848738,
          -2.7451511435804306,
          -2.7583362322981153,
          -2.7101764686386565,
          -2.7882853439012045,
          -2.9140655627009995,
          -2.7802333899615324,
          -2.803542220136718,
          -2.7812887125296557,
          -2.8617407992642194,
          -2.9214189511917823,
          -2.821883622211585,
          -2.8140614873324625,
          -2.831004360407179,
          -2.7986646938016424,
          -2.8089741428539607,
          -2.8415987889701064,
          -2.851274491591057,
          -2.89170309839628,
          -2.91448727949074,
          -2.9117487861823257,
          -2.982103894408898,
          -2.9451799928578417,
          -2.986965373543376,
          -3.0526171664634054,
          -3.052341902444385,
          -3.084653806619396,
          -3.0377724279109883,
          -2.967762996435087
         ],
         "yaxis": "y"
        },
        {
         "hovertemplate": "identity_group=mental_disabilities<br>parsed_date=%{x}<br>log_prob=%{y}<extra></extra>",
         "legendgroup": "mental_disabilities",
         "line": {
          "color": "#B6E880",
          "dash": "solid"
         },
         "marker": {
          "symbol": "circle"
         },
         "mode": "lines",
         "name": "mental_disabilities",
         "orientation": "v",
         "showlegend": true,
         "type": "scatter",
         "visible": true,
         "x": [
          "2017-11-01T00:00:00",
          "2017-12-01T00:00:00",
          "2018-01-01T00:00:00",
          "2018-02-01T00:00:00",
          "2018-03-01T00:00:00",
          "2018-04-01T00:00:00",
          "2018-05-01T00:00:00",
          "2018-06-01T00:00:00",
          "2018-07-01T00:00:00",
          "2018-08-01T00:00:00",
          "2018-09-01T00:00:00",
          "2018-10-01T00:00:00",
          "2018-11-01T00:00:00",
          "2018-12-01T00:00:00",
          "2019-01-01T00:00:00",
          "2019-02-01T00:00:00",
          "2019-03-01T00:00:00",
          "2019-04-01T00:00:00",
          "2019-05-01T00:00:00",
          "2019-06-01T00:00:00",
          "2019-07-01T00:00:00",
          "2019-08-01T00:00:00",
          "2019-09-01T00:00:00",
          "2019-10-01T00:00:00",
          "2019-11-01T00:00:00",
          "2019-12-01T00:00:00",
          "2020-01-01T00:00:00",
          "2020-02-01T00:00:00",
          "2020-03-01T00:00:00",
          "2020-04-01T00:00:00",
          "2020-05-01T00:00:00",
          "2020-06-01T00:00:00",
          "2020-07-01T00:00:00",
          "2020-08-01T00:00:00",
          "2020-09-01T00:00:00",
          "2020-10-01T00:00:00",
          "2020-11-01T00:00:00",
          "2020-12-01T00:00:00",
          "2021-01-01T00:00:00",
          "2021-02-01T00:00:00",
          "2021-03-01T00:00:00",
          "2021-04-01T00:00:00"
         ],
         "xaxis": "x",
         "y": [
          -2.942908805416983,
          -2.9685846132286295,
          -2.9412202076627114,
          -2.9179062090843617,
          -2.926052609433919,
          -3.0156291134748354,
          -3.0388209845751466,
          -3.0303308942511586,
          -3.011846034378875,
          -2.9681339006888523,
          -3.0146698605573645,
          -3.0446114852705937,
          -3.06105853644795,
          -3.0276183804312535,
          -2.9640120604626117,
          -2.9672605124990348,
          -2.982803619164142,
          -3.051928030131227,
          -3.0078790643561173,
          -3.0512355144377494,
          -2.949194197050912,
          -3.0020143071844068,
          -2.930349106008154,
          -3.0030499627992384,
          -2.9887899607094734,
          -3.021408389504258,
          -3.031260536083331,
          -2.9666471119450692,
          -2.9512819234124703,
          -3.028728823871687,
          -3.020721416607474,
          -3.0836782230019457,
          -3.08666061357536,
          -3.165393887132672,
          -3.0520561132493373,
          -3.0060530854371703,
          -3.1474278616458027,
          -3.091484085872886,
          -3.0368097621222288,
          -3.0555208610787017,
          -2.994623370510108,
          -2.9348055654587957
         ],
         "yaxis": "y"
        },
        {
         "hovertemplate": "identity_group=white_people<br>parsed_date=%{x}<br>log_prob=%{y}<extra></extra>",
         "legendgroup": "white_people",
         "line": {
          "color": "#FF97FF",
          "dash": "solid"
         },
         "marker": {
          "symbol": "circle"
         },
         "mode": "lines",
         "name": "white_people",
         "orientation": "v",
         "showlegend": true,
         "type": "scatter",
         "visible": "legendonly",
         "x": [
          "2017-11-01T00:00:00",
          "2017-12-01T00:00:00",
          "2018-01-01T00:00:00",
          "2018-02-01T00:00:00",
          "2018-03-01T00:00:00",
          "2018-04-01T00:00:00",
          "2018-05-01T00:00:00",
          "2018-06-01T00:00:00",
          "2018-07-01T00:00:00",
          "2018-08-01T00:00:00",
          "2018-09-01T00:00:00",
          "2018-10-01T00:00:00",
          "2018-11-01T00:00:00",
          "2018-12-01T00:00:00",
          "2019-01-01T00:00:00",
          "2019-02-01T00:00:00",
          "2019-03-01T00:00:00",
          "2019-04-01T00:00:00",
          "2019-05-01T00:00:00",
          "2019-06-01T00:00:00",
          "2019-07-01T00:00:00",
          "2019-08-01T00:00:00",
          "2019-09-01T00:00:00",
          "2019-10-01T00:00:00",
          "2019-11-01T00:00:00",
          "2019-12-01T00:00:00",
          "2020-01-01T00:00:00",
          "2020-02-01T00:00:00",
          "2020-03-01T00:00:00",
          "2020-04-01T00:00:00",
          "2020-05-01T00:00:00",
          "2020-06-01T00:00:00",
          "2020-07-01T00:00:00",
          "2020-08-01T00:00:00",
          "2020-09-01T00:00:00",
          "2020-10-01T00:00:00",
          "2020-11-01T00:00:00",
          "2020-12-01T00:00:00",
          "2021-01-01T00:00:00",
          "2021-02-01T00:00:00",
          "2021-03-01T00:00:00",
          "2021-04-01T00:00:00"
         ],
         "xaxis": "x",
         "y": [
          -3.5049216854919614,
          -3.4495468894084227,
          -3.4501342056183026,
          -3.3877793903344076,
          -3.186158330355642,
          -3.3190556193690983,
          -3.107253024945557,
          -3.134962115447557,
          -3.1762979357449592,
          -3.283687779602238,
          -3.256927250597159,
          -3.3131943575419514,
          -3.177686843437245,
          -3.262710588549226,
          -3.3095157902635886,
          -3.1651863931589204,
          -3.1337619655838247,
          -3.189031837468547,
          -3.297026972370412,
          -3.298365286837668,
          -3.323601985472498,
          -3.2852862750332696,
          -3.247511024618994,
          -3.3284807888385033,
          -3.4714670084375245,
          -3.315481322852424,
          -3.3092202457804505,
          -3.4041998772158855,
          -3.467249678786728,
          -3.425878255447698,
          -3.3746957659636885,
          -3.2051029151418247,
          -3.301469088199871,
          -3.4042070693220654,
          -3.28996998492836,
          -3.1946412551146985,
          -3.302885363097645,
          -3.149780565842438,
          -3.164605978137042,
          -3.129462470995069,
          -3.2290398594487435,
          -2.91908880933804
         ],
         "yaxis": "y"
        },
        {
         "hovertemplate": "identity_group=women_girls<br>parsed_date=%{x}<br>log_prob=%{y}<extra></extra>",
         "legendgroup": "women_girls",
         "line": {
          "color": "#FECB52",
          "dash": "solid"
         },
         "marker": {
          "symbol": "circle"
         },
         "mode": "lines",
         "name": "women_girls",
         "orientation": "v",
         "showlegend": true,
         "type": "scatter",
         "visible": "legendonly",
         "x": [
          "2017-11-01T00:00:00",
          "2017-12-01T00:00:00",
          "2018-01-01T00:00:00",
          "2018-02-01T00:00:00",
          "2018-03-01T00:00:00",
          "2018-04-01T00:00:00",
          "2018-05-01T00:00:00",
          "2018-06-01T00:00:00",
          "2018-07-01T00:00:00",
          "2018-08-01T00:00:00",
          "2018-09-01T00:00:00",
          "2018-10-01T00:00:00",
          "2018-11-01T00:00:00",
          "2018-12-01T00:00:00",
          "2019-01-01T00:00:00",
          "2019-02-01T00:00:00",
          "2019-03-01T00:00:00",
          "2019-04-01T00:00:00",
          "2019-05-01T00:00:00",
          "2019-06-01T00:00:00",
          "2019-07-01T00:00:00",
          "2019-08-01T00:00:00",
          "2019-09-01T00:00:00",
          "2019-10-01T00:00:00",
          "2019-11-01T00:00:00",
          "2019-12-01T00:00:00",
          "2020-01-01T00:00:00",
          "2020-02-01T00:00:00",
          "2020-03-01T00:00:00",
          "2020-04-01T00:00:00",
          "2020-05-01T00:00:00",
          "2020-06-01T00:00:00",
          "2020-07-01T00:00:00",
          "2020-08-01T00:00:00",
          "2020-09-01T00:00:00",
          "2020-10-01T00:00:00",
          "2020-11-01T00:00:00",
          "2020-12-01T00:00:00",
          "2021-01-01T00:00:00",
          "2021-02-01T00:00:00",
          "2021-03-01T00:00:00",
          "2021-04-01T00:00:00"
         ],
         "xaxis": "x",
         "y": [
          -1.9234026440807153,
          -1.9543497813142814,
          -1.9901321997013577,
          -1.9744596448339198,
          -1.9378189374048076,
          -1.9330752903900383,
          -1.9205287615458058,
          -1.9282081714994677,
          -1.948219986245182,
          -1.9330771086558758,
          -1.9689848294875154,
          -1.972564693068032,
          -1.9429153328793833,
          -1.9248446609831906,
          -1.9222618764571855,
          -1.9714539647795524,
          -1.9647519968267058,
          -1.9473235964363982,
          -1.9417663408706236,
          -1.9693741668486677,
          -1.9807388550344134,
          -1.9632230609773658,
          -1.974119202724709,
          -1.9437737505800294,
          -1.9462726188959705,
          -1.9296939135014028,
          -1.9609768226896542,
          -1.9625715527989682,
          -2.018003560478763,
          -2.0031494861417416,
          -2.0207772995750477,
          -2.0463747474253666,
          -2.0071563519071147,
          -2.1240012019744468,
          -2.03264239889556,
          -1.9721826395112483,
          -2.0173604586176173,
          -1.972715551935085,
          -1.994043287151218,
          -1.9779519818991207,
          -2.012750404496806,
          -2.0004837875020836
         ],
         "yaxis": "y"
        },
        {
         "hovertemplate": "identity_group=women_girls_derogatory<br>parsed_date=%{x}<br>log_prob=%{y}<extra></extra>",
         "legendgroup": "women_girls_derogatory",
         "line": {
          "color": "#636efa",
          "dash": "solid"
         },
         "marker": {
          "symbol": "circle"
         },
         "mode": "lines",
         "name": "women_girls_derogatory",
         "orientation": "v",
         "showlegend": true,
         "type": "scatter",
         "visible": "legendonly",
         "x": [
          "2017-11-01T00:00:00",
          "2017-12-01T00:00:00",
          "2018-01-01T00:00:00",
          "2018-02-01T00:00:00",
          "2018-03-01T00:00:00",
          "2018-04-01T00:00:00",
          "2018-05-01T00:00:00",
          "2018-06-01T00:00:00",
          "2018-07-01T00:00:00",
          "2018-08-01T00:00:00",
          "2018-09-01T00:00:00",
          "2018-10-01T00:00:00",
          "2018-11-01T00:00:00",
          "2018-12-01T00:00:00",
          "2019-01-01T00:00:00",
          "2019-02-01T00:00:00",
          "2019-03-01T00:00:00",
          "2019-04-01T00:00:00",
          "2019-05-01T00:00:00",
          "2019-06-01T00:00:00",
          "2019-07-01T00:00:00",
          "2019-08-01T00:00:00",
          "2019-09-01T00:00:00",
          "2019-10-01T00:00:00",
          "2019-11-01T00:00:00",
          "2019-12-01T00:00:00",
          "2020-01-01T00:00:00",
          "2020-02-01T00:00:00",
          "2020-03-01T00:00:00",
          "2020-04-01T00:00:00",
          "2020-05-01T00:00:00",
          "2020-06-01T00:00:00",
          "2020-07-01T00:00:00",
          "2020-08-01T00:00:00",
          "2020-09-01T00:00:00",
          "2020-10-01T00:00:00",
          "2020-11-01T00:00:00",
          "2020-12-01T00:00:00",
          "2021-01-01T00:00:00",
          "2021-02-01T00:00:00",
          "2021-03-01T00:00:00",
          "2021-04-01T00:00:00"
         ],
         "xaxis": "x",
         "y": [
          -2.585356759857329,
          -2.6551318947003932,
          -2.682736755687215,
          -2.6607132808204415,
          -2.599502229122242,
          -2.5412249051885825,
          -2.512823530696329,
          -2.496380718879522,
          -2.49146487813094,
          -2.4865071165606634,
          -2.470317777948499,
          -2.445008612134299,
          -2.388075266417778,
          -2.364190347389344,
          -2.3587816717119225,
          -2.3764420692778523,
          -2.357834660647681,
          -2.360350829818567,
          -2.334165475589851,
          -2.382213523628124,
          -2.4167897437330197,
          -2.3895140418968452,
          -2.418891157620855,
          -2.3885683078570077,
          -2.3931047998451036,
          -2.391748976724783,
          -2.3858389204717247,
          -2.3824245647229305,
          -2.4106052502010984,
          -2.3927046464907424,
          -2.4291956914439066,
          -2.4575041540642792,
          -2.4441149005175355,
          -2.5522176243488173,
          -2.4460099592748112,
          -2.3733770906871707,
          -2.402321617302721,
          -2.3918327015470813,
          -2.383922867467596,
          -2.4097323653825646,
          -2.4428328643739348,
          -2.4026410502154594
         ],
         "yaxis": "y"
        },
        {
         "hovertemplate": "identity_group=youth<br>parsed_date=%{x}<br>log_prob=%{y}<extra></extra>",
         "legendgroup": "youth",
         "line": {
          "color": "#EF553B",
          "dash": "solid"
         },
         "marker": {
          "symbol": "circle"
         },
         "mode": "lines",
         "name": "youth",
         "orientation": "v",
         "showlegend": true,
         "type": "scatter",
         "visible": "legendonly",
         "x": [
          "2017-11-01T00:00:00",
          "2017-12-01T00:00:00",
          "2018-01-01T00:00:00",
          "2018-02-01T00:00:00",
          "2018-03-01T00:00:00",
          "2018-04-01T00:00:00",
          "2018-05-01T00:00:00",
          "2018-06-01T00:00:00",
          "2018-07-01T00:00:00",
          "2018-08-01T00:00:00",
          "2018-09-01T00:00:00",
          "2018-10-01T00:00:00",
          "2018-11-01T00:00:00",
          "2018-12-01T00:00:00",
          "2019-01-01T00:00:00",
          "2019-02-01T00:00:00",
          "2019-03-01T00:00:00",
          "2019-04-01T00:00:00",
          "2019-05-01T00:00:00",
          "2019-06-01T00:00:00",
          "2019-07-01T00:00:00",
          "2019-08-01T00:00:00",
          "2019-09-01T00:00:00",
          "2019-10-01T00:00:00",
          "2019-11-01T00:00:00",
          "2019-12-01T00:00:00",
          "2020-01-01T00:00:00",
          "2020-02-01T00:00:00",
          "2020-03-01T00:00:00",
          "2020-04-01T00:00:00",
          "2020-05-01T00:00:00",
          "2020-06-01T00:00:00",
          "2020-07-01T00:00:00",
          "2020-08-01T00:00:00",
          "2020-09-01T00:00:00",
          "2020-10-01T00:00:00",
          "2020-11-01T00:00:00",
          "2020-12-01T00:00:00",
          "2021-01-01T00:00:00",
          "2021-02-01T00:00:00",
          "2021-03-01T00:00:00",
          "2021-04-01T00:00:00"
         ],
         "xaxis": "x",
         "y": [
          -3.0797688363863767,
          -3.038802857704093,
          -3.0223731351914704,
          -3.0456312443453215,
          -3.0117192096736685,
          -3.010308440715424,
          -2.984390752366529,
          -2.911190311344991,
          -2.941108426747619,
          -2.923793154192545,
          -2.9583236611866464,
          -2.9059748000471672,
          -2.8921763917294943,
          -2.86726681151766,
          -2.8988099155249953,
          -2.9197413145569375,
          -2.8844580770579435,
          -2.9179218173745736,
          -2.8657698452280544,
          -2.916870677313491,
          -2.9232041633254573,
          -2.917220325958266,
          -2.817395192654343,
          -2.888222550173071,
          -2.8417204377088723,
          -2.9109943995249328,
          -2.9372496959371577,
          -2.901055644043714,
          -2.956118343072651,
          -2.9770490901544626,
          -2.9188774487364157,
          -2.9616502654866648,
          -2.86509767804099,
          -3.014586835764133,
          -2.979524402785205,
          -2.951702010770066,
          -3.0517242770258135,
          -2.9165023544452997,
          -2.9480314578285465,
          -2.94365864510062,
          -2.9603534220627172,
          -2.9850773718622485
         ],
         "yaxis": "y"
        }
       ],
       "layout": {
        "autosize": true,
        "legend": {
         "title": {
          "text": "identity_group"
         },
         "tracegroupgap": 0
        },
        "margin": {
         "t": 60
        },
        "template": {
         "data": {
          "bar": [
           {
            "error_x": {
             "color": "#2a3f5f"
            },
            "error_y": {
             "color": "#2a3f5f"
            },
            "marker": {
             "line": {
              "color": "#E5ECF6",
              "width": 0.5
             },
             "pattern": {
              "fillmode": "overlay",
              "size": 10,
              "solidity": 0.2
             }
            },
            "type": "bar"
           }
          ],
          "barpolar": [
           {
            "marker": {
             "line": {
              "color": "#E5ECF6",
              "width": 0.5
             },
             "pattern": {
              "fillmode": "overlay",
              "size": 10,
              "solidity": 0.2
             }
            },
            "type": "barpolar"
           }
          ],
          "carpet": [
           {
            "aaxis": {
             "endlinecolor": "#2a3f5f",
             "gridcolor": "white",
             "linecolor": "white",
             "minorgridcolor": "white",
             "startlinecolor": "#2a3f5f"
            },
            "baxis": {
             "endlinecolor": "#2a3f5f",
             "gridcolor": "white",
             "linecolor": "white",
             "minorgridcolor": "white",
             "startlinecolor": "#2a3f5f"
            },
            "type": "carpet"
           }
          ],
          "choropleth": [
           {
            "colorbar": {
             "outlinewidth": 0,
             "ticks": ""
            },
            "type": "choropleth"
           }
          ],
          "contour": [
           {
            "colorbar": {
             "outlinewidth": 0,
             "ticks": ""
            },
            "colorscale": [
             [
              0,
              "#0d0887"
             ],
             [
              0.1111111111111111,
              "#46039f"
             ],
             [
              0.2222222222222222,
              "#7201a8"
             ],
             [
              0.3333333333333333,
              "#9c179e"
             ],
             [
              0.4444444444444444,
              "#bd3786"
             ],
             [
              0.5555555555555556,
              "#d8576b"
             ],
             [
              0.6666666666666666,
              "#ed7953"
             ],
             [
              0.7777777777777778,
              "#fb9f3a"
             ],
             [
              0.8888888888888888,
              "#fdca26"
             ],
             [
              1,
              "#f0f921"
             ]
            ],
            "type": "contour"
           }
          ],
          "contourcarpet": [
           {
            "colorbar": {
             "outlinewidth": 0,
             "ticks": ""
            },
            "type": "contourcarpet"
           }
          ],
          "heatmap": [
           {
            "colorbar": {
             "outlinewidth": 0,
             "ticks": ""
            },
            "colorscale": [
             [
              0,
              "#0d0887"
             ],
             [
              0.1111111111111111,
              "#46039f"
             ],
             [
              0.2222222222222222,
              "#7201a8"
             ],
             [
              0.3333333333333333,
              "#9c179e"
             ],
             [
              0.4444444444444444,
              "#bd3786"
             ],
             [
              0.5555555555555556,
              "#d8576b"
             ],
             [
              0.6666666666666666,
              "#ed7953"
             ],
             [
              0.7777777777777778,
              "#fb9f3a"
             ],
             [
              0.8888888888888888,
              "#fdca26"
             ],
             [
              1,
              "#f0f921"
             ]
            ],
            "type": "heatmap"
           }
          ],
          "heatmapgl": [
           {
            "colorbar": {
             "outlinewidth": 0,
             "ticks": ""
            },
            "colorscale": [
             [
              0,
              "#0d0887"
             ],
             [
              0.1111111111111111,
              "#46039f"
             ],
             [
              0.2222222222222222,
              "#7201a8"
             ],
             [
              0.3333333333333333,
              "#9c179e"
             ],
             [
              0.4444444444444444,
              "#bd3786"
             ],
             [
              0.5555555555555556,
              "#d8576b"
             ],
             [
              0.6666666666666666,
              "#ed7953"
             ],
             [
              0.7777777777777778,
              "#fb9f3a"
             ],
             [
              0.8888888888888888,
              "#fdca26"
             ],
             [
              1,
              "#f0f921"
             ]
            ],
            "type": "heatmapgl"
           }
          ],
          "histogram": [
           {
            "marker": {
             "pattern": {
              "fillmode": "overlay",
              "size": 10,
              "solidity": 0.2
             }
            },
            "type": "histogram"
           }
          ],
          "histogram2d": [
           {
            "colorbar": {
             "outlinewidth": 0,
             "ticks": ""
            },
            "colorscale": [
             [
              0,
              "#0d0887"
             ],
             [
              0.1111111111111111,
              "#46039f"
             ],
             [
              0.2222222222222222,
              "#7201a8"
             ],
             [
              0.3333333333333333,
              "#9c179e"
             ],
             [
              0.4444444444444444,
              "#bd3786"
             ],
             [
              0.5555555555555556,
              "#d8576b"
             ],
             [
              0.6666666666666666,
              "#ed7953"
             ],
             [
              0.7777777777777778,
              "#fb9f3a"
             ],
             [
              0.8888888888888888,
              "#fdca26"
             ],
             [
              1,
              "#f0f921"
             ]
            ],
            "type": "histogram2d"
           }
          ],
          "histogram2dcontour": [
           {
            "colorbar": {
             "outlinewidth": 0,
             "ticks": ""
            },
            "colorscale": [
             [
              0,
              "#0d0887"
             ],
             [
              0.1111111111111111,
              "#46039f"
             ],
             [
              0.2222222222222222,
              "#7201a8"
             ],
             [
              0.3333333333333333,
              "#9c179e"
             ],
             [
              0.4444444444444444,
              "#bd3786"
             ],
             [
              0.5555555555555556,
              "#d8576b"
             ],
             [
              0.6666666666666666,
              "#ed7953"
             ],
             [
              0.7777777777777778,
              "#fb9f3a"
             ],
             [
              0.8888888888888888,
              "#fdca26"
             ],
             [
              1,
              "#f0f921"
             ]
            ],
            "type": "histogram2dcontour"
           }
          ],
          "mesh3d": [
           {
            "colorbar": {
             "outlinewidth": 0,
             "ticks": ""
            },
            "type": "mesh3d"
           }
          ],
          "parcoords": [
           {
            "line": {
             "colorbar": {
              "outlinewidth": 0,
              "ticks": ""
             }
            },
            "type": "parcoords"
           }
          ],
          "pie": [
           {
            "automargin": true,
            "type": "pie"
           }
          ],
          "scatter": [
           {
            "fillpattern": {
             "fillmode": "overlay",
             "size": 10,
             "solidity": 0.2
            },
            "type": "scatter"
           }
          ],
          "scatter3d": [
           {
            "line": {
             "colorbar": {
              "outlinewidth": 0,
              "ticks": ""
             }
            },
            "marker": {
             "colorbar": {
              "outlinewidth": 0,
              "ticks": ""
             }
            },
            "type": "scatter3d"
           }
          ],
          "scattercarpet": [
           {
            "marker": {
             "colorbar": {
              "outlinewidth": 0,
              "ticks": ""
             }
            },
            "type": "scattercarpet"
           }
          ],
          "scattergeo": [
           {
            "marker": {
             "colorbar": {
              "outlinewidth": 0,
              "ticks": ""
             }
            },
            "type": "scattergeo"
           }
          ],
          "scattergl": [
           {
            "marker": {
             "colorbar": {
              "outlinewidth": 0,
              "ticks": ""
             }
            },
            "type": "scattergl"
           }
          ],
          "scattermapbox": [
           {
            "marker": {
             "colorbar": {
              "outlinewidth": 0,
              "ticks": ""
             }
            },
            "type": "scattermapbox"
           }
          ],
          "scatterpolar": [
           {
            "marker": {
             "colorbar": {
              "outlinewidth": 0,
              "ticks": ""
             }
            },
            "type": "scatterpolar"
           }
          ],
          "scatterpolargl": [
           {
            "marker": {
             "colorbar": {
              "outlinewidth": 0,
              "ticks": ""
             }
            },
            "type": "scatterpolargl"
           }
          ],
          "scatterternary": [
           {
            "marker": {
             "colorbar": {
              "outlinewidth": 0,
              "ticks": ""
             }
            },
            "type": "scatterternary"
           }
          ],
          "surface": [
           {
            "colorbar": {
             "outlinewidth": 0,
             "ticks": ""
            },
            "colorscale": [
             [
              0,
              "#0d0887"
             ],
             [
              0.1111111111111111,
              "#46039f"
             ],
             [
              0.2222222222222222,
              "#7201a8"
             ],
             [
              0.3333333333333333,
              "#9c179e"
             ],
             [
              0.4444444444444444,
              "#bd3786"
             ],
             [
              0.5555555555555556,
              "#d8576b"
             ],
             [
              0.6666666666666666,
              "#ed7953"
             ],
             [
              0.7777777777777778,
              "#fb9f3a"
             ],
             [
              0.8888888888888888,
              "#fdca26"
             ],
             [
              1,
              "#f0f921"
             ]
            ],
            "type": "surface"
           }
          ],
          "table": [
           {
            "cells": {
             "fill": {
              "color": "#EBF0F8"
             },
             "line": {
              "color": "white"
             }
            },
            "header": {
             "fill": {
              "color": "#C8D4E3"
             },
             "line": {
              "color": "white"
             }
            },
            "type": "table"
           }
          ]
         },
         "layout": {
          "annotationdefaults": {
           "arrowcolor": "#2a3f5f",
           "arrowhead": 0,
           "arrowwidth": 1
          },
          "autotypenumbers": "strict",
          "coloraxis": {
           "colorbar": {
            "outlinewidth": 0,
            "ticks": ""
           }
          },
          "colorscale": {
           "diverging": [
            [
             0,
             "#8e0152"
            ],
            [
             0.1,
             "#c51b7d"
            ],
            [
             0.2,
             "#de77ae"
            ],
            [
             0.3,
             "#f1b6da"
            ],
            [
             0.4,
             "#fde0ef"
            ],
            [
             0.5,
             "#f7f7f7"
            ],
            [
             0.6,
             "#e6f5d0"
            ],
            [
             0.7,
             "#b8e186"
            ],
            [
             0.8,
             "#7fbc41"
            ],
            [
             0.9,
             "#4d9221"
            ],
            [
             1,
             "#276419"
            ]
           ],
           "sequential": [
            [
             0,
             "#0d0887"
            ],
            [
             0.1111111111111111,
             "#46039f"
            ],
            [
             0.2222222222222222,
             "#7201a8"
            ],
            [
             0.3333333333333333,
             "#9c179e"
            ],
            [
             0.4444444444444444,
             "#bd3786"
            ],
            [
             0.5555555555555556,
             "#d8576b"
            ],
            [
             0.6666666666666666,
             "#ed7953"
            ],
            [
             0.7777777777777778,
             "#fb9f3a"
            ],
            [
             0.8888888888888888,
             "#fdca26"
            ],
            [
             1,
             "#f0f921"
            ]
           ],
           "sequentialminus": [
            [
             0,
             "#0d0887"
            ],
            [
             0.1111111111111111,
             "#46039f"
            ],
            [
             0.2222222222222222,
             "#7201a8"
            ],
            [
             0.3333333333333333,
             "#9c179e"
            ],
            [
             0.4444444444444444,
             "#bd3786"
            ],
            [
             0.5555555555555556,
             "#d8576b"
            ],
            [
             0.6666666666666666,
             "#ed7953"
            ],
            [
             0.7777777777777778,
             "#fb9f3a"
            ],
            [
             0.8888888888888888,
             "#fdca26"
            ],
            [
             1,
             "#f0f921"
            ]
           ]
          },
          "colorway": [
           "#636efa",
           "#EF553B",
           "#00cc96",
           "#ab63fa",
           "#FFA15A",
           "#19d3f3",
           "#FF6692",
           "#B6E880",
           "#FF97FF",
           "#FECB52"
          ],
          "font": {
           "color": "#2a3f5f"
          },
          "geo": {
           "bgcolor": "white",
           "lakecolor": "white",
           "landcolor": "#E5ECF6",
           "showlakes": true,
           "showland": true,
           "subunitcolor": "white"
          },
          "hoverlabel": {
           "align": "left"
          },
          "hovermode": "closest",
          "mapbox": {
           "style": "light"
          },
          "paper_bgcolor": "white",
          "plot_bgcolor": "#E5ECF6",
          "polar": {
           "angularaxis": {
            "gridcolor": "white",
            "linecolor": "white",
            "ticks": ""
           },
           "bgcolor": "#E5ECF6",
           "radialaxis": {
            "gridcolor": "white",
            "linecolor": "white",
            "ticks": ""
           }
          },
          "scene": {
           "xaxis": {
            "backgroundcolor": "#E5ECF6",
            "gridcolor": "white",
            "gridwidth": 2,
            "linecolor": "white",
            "showbackground": true,
            "ticks": "",
            "zerolinecolor": "white"
           },
           "yaxis": {
            "backgroundcolor": "#E5ECF6",
            "gridcolor": "white",
            "gridwidth": 2,
            "linecolor": "white",
            "showbackground": true,
            "ticks": "",
            "zerolinecolor": "white"
           },
           "zaxis": {
            "backgroundcolor": "#E5ECF6",
            "gridcolor": "white",
            "gridwidth": 2,
            "linecolor": "white",
            "showbackground": true,
            "ticks": "",
            "zerolinecolor": "white"
           }
          },
          "shapedefaults": {
           "line": {
            "color": "#2a3f5f"
           }
          },
          "ternary": {
           "aaxis": {
            "gridcolor": "white",
            "linecolor": "white",
            "ticks": ""
           },
           "baxis": {
            "gridcolor": "white",
            "linecolor": "white",
            "ticks": ""
           },
           "bgcolor": "#E5ECF6",
           "caxis": {
            "gridcolor": "white",
            "linecolor": "white",
            "ticks": ""
           }
          },
          "title": {
           "x": 0.05
          },
          "xaxis": {
           "automargin": true,
           "gridcolor": "white",
           "linecolor": "white",
           "ticks": "",
           "title": {
            "standoff": 15
           },
           "zerolinecolor": "white",
           "zerolinewidth": 2
          },
          "yaxis": {
           "automargin": true,
           "gridcolor": "white",
           "linecolor": "white",
           "ticks": "",
           "title": {
            "standoff": 15
           },
           "zerolinecolor": "white",
           "zerolinewidth": 2
          }
         }
        },
        "xaxis": {
         "anchor": "y",
         "autorange": true,
         "domain": [
          0,
          1
         ],
         "range": [
          "2017-11-01",
          "2021-04-01"
         ],
         "title": {
          "text": "parsed_date"
         },
         "type": "date"
        },
        "yaxis": {
         "anchor": "x",
         "autorange": true,
         "domain": [
          0,
          1
         ],
         "range": [
          -3.1791432025798003,
          -2.9041568936372335
         ],
         "title": {
          "text": "log_prob"
         },
         "type": "linear"
        }
       }
      },
      "image/png": "[encoded data removed]",
      "text/html": [
       "<div>                            <div id=\"14e502c0-3f04-454c-b1ca-24ef079f34c9\" class=\"plotly-graph-div\" style=\"height:500px; width:100%;\"></div>            <script type=\"text/javascript\">                require([\"plotly\"], function(Plotly) {                    window.PLOTLYENV=window.PLOTLYENV || {};                                    if (document.getElementById(\"14e502c0-3f04-454c-b1ca-24ef079f34c9\")) {                    Plotly.newPlot(                        \"14e502c0-3f04-454c-b1ca-24ef079f34c9\",                        [{\"hovertemplate\":\"identity_group=asian_people<br>parsed_date=%{x}<br>log_prob=%{y}<extra></extra>\",\"legendgroup\":\"asian_people\",\"line\":{\"color\":\"#636efa\",\"dash\":\"solid\"},\"marker\":{\"symbol\":\"circle\"},\"mode\":\"lines\",\"name\":\"asian_people\",\"orientation\":\"v\",\"showlegend\":true,\"x\":[\"2017-11-01T00:00:00\",\"2017-12-01T00:00:00\",\"2018-01-01T00:00:00\",\"2018-02-01T00:00:00\",\"2018-03-01T00:00:00\",\"2018-04-01T00:00:00\",\"2018-05-01T00:00:00\",\"2018-06-01T00:00:00\",\"2018-07-01T00:00:00\",\"2018-08-01T00:00:00\",\"2018-09-01T00:00:00\",\"2018-10-01T00:00:00\",\"2018-11-01T00:00:00\",\"2018-12-01T00:00:00\",\"2019-01-01T00:00:00\",\"2019-02-01T00:00:00\",\"2019-03-01T00:00:00\",\"2019-04-01T00:00:00\",\"2019-05-01T00:00:00\",\"2019-06-01T00:00:00\",\"2019-07-01T00:00:00\",\"2019-08-01T00:00:00\",\"2019-09-01T00:00:00\",\"2019-10-01T00:00:00\",\"2019-11-01T00:00:00\",\"2019-12-01T00:00:00\",\"2020-01-01T00:00:00\",\"2020-02-01T00:00:00\",\"2020-03-01T00:00:00\",\"2020-04-01T00:00:00\",\"2020-05-01T00:00:00\",\"2020-06-01T00:00:00\",\"2020-07-01T00:00:00\",\"2020-08-01T00:00:00\",\"2020-09-01T00:00:00\",\"2020-10-01T00:00:00\",\"2020-11-01T00:00:00\",\"2020-12-01T00:00:00\",\"2021-01-01T00:00:00\",\"2021-02-01T00:00:00\",\"2021-03-01T00:00:00\",\"2021-04-01T00:00:00\"],\"xaxis\":\"x\",\"y\":[-3.12031303491091,-3.1832790000036533,-3.1620410974425974,-3.0850277096330436,-3.0013035618531116,-3.1531438565137426,-3.021133778883889,-3.0096388951966833,-3.029532325474252,-3.070601191808095,-3.0058107052650107,-3.0569597149663346,-3.0986215483933535,-3.151648780191521,-3.1688423055219324,-2.9841224986758825,-3.088049215363346,-3.160473624753979,-3.163536450661924,-3.176067793273264,-3.160689868701747,-2.9889632743100014,-3.197756197044058,-3.12180138569824,-3.178697736991796,-3.1070601071401924,-3.0819257259769732,-3.143488422104083,-3.163038024336558,-3.1965022873014735,-3.162136546178896,-3.054861248176776,-3.1463663705980243,-3.146326351383363,-2.9971865617169935,-3.0265178585221553,-3.0793998058692327,-3.0034436845329076,-3.1268925092305215,-3.1428997517417065,-3.0947803190494056,-2.6843520373695853],\"yaxis\":\"y\",\"type\":\"scatter\"},{\"hovertemplate\":\"identity_group=black_people<br>parsed_date=%{x}<br>log_prob=%{y}<extra></extra>\",\"legendgroup\":\"black_people\",\"line\":{\"color\":\"#EF553B\",\"dash\":\"solid\"},\"marker\":{\"symbol\":\"circle\"},\"mode\":\"lines\",\"name\":\"black_people\",\"orientation\":\"v\",\"showlegend\":true,\"x\":[\"2017-11-01T00:00:00\",\"2017-12-01T00:00:00\",\"2018-01-01T00:00:00\",\"2018-02-01T00:00:00\",\"2018-03-01T00:00:00\",\"2018-04-01T00:00:00\",\"2018-05-01T00:00:00\",\"2018-06-01T00:00:00\",\"2018-07-01T00:00:00\",\"2018-08-01T00:00:00\",\"2018-09-01T00:00:00\",\"2018-10-01T00:00:00\",\"2018-11-01T00:00:00\",\"2018-12-01T00:00:00\",\"2019-01-01T00:00:00\",\"2019-02-01T00:00:00\",\"2019-03-01T00:00:00\",\"2019-04-01T00:00:00\",\"2019-05-01T00:00:00\",\"2019-06-01T00:00:00\",\"2019-07-01T00:00:00\",\"2019-08-01T00:00:00\",\"2019-09-01T00:00:00\",\"2019-10-01T00:00:00\",\"2019-11-01T00:00:00\",\"2019-12-01T00:00:00\",\"2020-01-01T00:00:00\",\"2020-02-01T00:00:00\",\"2020-03-01T00:00:00\",\"2020-04-01T00:00:00\",\"2020-05-01T00:00:00\",\"2020-06-01T00:00:00\",\"2020-07-01T00:00:00\",\"2020-08-01T00:00:00\",\"2020-09-01T00:00:00\",\"2020-10-01T00:00:00\",\"2020-11-01T00:00:00\",\"2020-12-01T00:00:00\",\"2021-01-01T00:00:00\",\"2021-02-01T00:00:00\",\"2021-03-01T00:00:00\",\"2021-04-01T00:00:00\"],\"xaxis\":\"x\",\"y\":[-3.2687063033903834,-3.438124260132115,-3.443921675304619,-3.2582290132282887,-3.3055777617739204,-3.289695199881811,-3.1732126949511397,-3.2529652746990316,-3.258724023924842,-3.3844331266327132,-3.2181368327229354,-3.2869991919553905,-3.3224721049795094,-3.268077336453978,-3.3590689351874405,-3.2991851157403316,-3.361012737461229,-3.383126317126437,-3.402922888120449,-3.3441436765336854,-3.381148153250236,-3.289677878179509,-3.3228332219776475,-3.425200697014501,-3.3693109942708266,-3.356917599473814,-3.3134881922981596,-3.2286014812529005,-3.153813070833972,-3.043474966417428,-3.1032459086248187,-2.9949201270801162,-3.084692252000794,-3.017728598792158,-3.1458558245517296,-3.06273513523924,-3.088380608943343,-3.0813739614527815,-3.099606016966937,-3.140294266533038,-3.0721677226083925,-2.97782889514312],\"yaxis\":\"y\",\"type\":\"scatter\"},{\"hovertemplate\":\"identity_group=incels<br>parsed_date=%{x}<br>log_prob=%{y}<extra></extra>\",\"legendgroup\":\"incels\",\"line\":{\"color\":\"#00cc96\",\"dash\":\"solid\"},\"marker\":{\"symbol\":\"circle\"},\"mode\":\"lines\",\"name\":\"incels\",\"orientation\":\"v\",\"showlegend\":true,\"x\":[\"2017-11-01T00:00:00\",\"2017-12-01T00:00:00\",\"2018-01-01T00:00:00\",\"2018-02-01T00:00:00\",\"2018-03-01T00:00:00\",\"2018-04-01T00:00:00\",\"2018-05-01T00:00:00\",\"2018-06-01T00:00:00\",\"2018-07-01T00:00:00\",\"2018-08-01T00:00:00\",\"2018-09-01T00:00:00\",\"2018-10-01T00:00:00\",\"2018-11-01T00:00:00\",\"2018-12-01T00:00:00\",\"2019-01-01T00:00:00\",\"2019-02-01T00:00:00\",\"2019-03-01T00:00:00\",\"2019-04-01T00:00:00\",\"2019-05-01T00:00:00\",\"2019-06-01T00:00:00\",\"2019-07-01T00:00:00\",\"2019-08-01T00:00:00\",\"2019-09-01T00:00:00\",\"2019-10-01T00:00:00\",\"2019-11-01T00:00:00\",\"2019-12-01T00:00:00\",\"2020-01-01T00:00:00\",\"2020-02-01T00:00:00\",\"2020-03-01T00:00:00\",\"2020-04-01T00:00:00\",\"2020-05-01T00:00:00\",\"2020-06-01T00:00:00\",\"2020-07-01T00:00:00\",\"2020-08-01T00:00:00\",\"2020-09-01T00:00:00\",\"2020-10-01T00:00:00\",\"2020-11-01T00:00:00\",\"2020-12-01T00:00:00\",\"2021-01-01T00:00:00\",\"2021-02-01T00:00:00\",\"2021-03-01T00:00:00\",\"2021-04-01T00:00:00\"],\"xaxis\":\"x\",\"y\":[-2.3934936563399485,-2.505387170603937,-2.528250720217128,-2.46177330534596,-2.5019923943428553,-2.4670640876620755,-2.4846123098539725,-2.5245409878280043,-2.5317976201412744,-2.511022528956804,-2.563325911069009,-2.533175984254672,-2.539786992037322,-2.552099168581158,-2.561987506879432,-2.600730681951308,-2.5906376401630697,-2.5851214516528596,-2.589384226386451,-2.575500590733162,-2.5751147666650147,-2.527529183630022,-2.5412226591541516,-2.534228429002999,-2.5488517907781763,-2.547919558386328,-2.533151836768339,-2.4914084371296563,-2.51371738125041,-2.4948361885422026,-2.5222299577715233,-2.548516019907496,-2.5584069934936466,-2.624098192285443,-2.5749348585296747,-2.532643291322745,-2.5715738613546195,-2.60019113888977,-2.6502220792730413,-2.6447136594262224,-2.625723330666894,-2.568537227356561],\"yaxis\":\"y\",\"type\":\"scatter\"},{\"hovertemplate\":\"identity_group=jews<br>parsed_date=%{x}<br>log_prob=%{y}<extra></extra>\",\"legendgroup\":\"jews\",\"line\":{\"color\":\"#ab63fa\",\"dash\":\"solid\"},\"marker\":{\"symbol\":\"circle\"},\"mode\":\"lines\",\"name\":\"jews\",\"orientation\":\"v\",\"showlegend\":true,\"x\":[\"2017-11-01T00:00:00\",\"2017-12-01T00:00:00\",\"2018-01-01T00:00:00\",\"2018-02-01T00:00:00\",\"2018-03-01T00:00:00\",\"2018-04-01T00:00:00\",\"2018-05-01T00:00:00\",\"2018-06-01T00:00:00\",\"2018-07-01T00:00:00\",\"2018-08-01T00:00:00\",\"2018-09-01T00:00:00\",\"2018-10-01T00:00:00\",\"2018-11-01T00:00:00\",\"2018-12-01T00:00:00\",\"2019-01-01T00:00:00\",\"2019-02-01T00:00:00\",\"2019-03-01T00:00:00\",\"2019-04-01T00:00:00\",\"2019-05-01T00:00:00\",\"2019-06-01T00:00:00\",\"2019-07-01T00:00:00\",\"2019-08-01T00:00:00\",\"2019-09-01T00:00:00\",\"2019-10-01T00:00:00\",\"2019-11-01T00:00:00\",\"2019-12-01T00:00:00\",\"2020-01-01T00:00:00\",\"2020-02-01T00:00:00\",\"2020-03-01T00:00:00\",\"2020-04-01T00:00:00\",\"2020-05-01T00:00:00\",\"2020-06-01T00:00:00\",\"2020-07-01T00:00:00\",\"2020-08-01T00:00:00\",\"2020-09-01T00:00:00\",\"2020-10-01T00:00:00\",\"2020-11-01T00:00:00\",\"2020-12-01T00:00:00\",\"2021-01-01T00:00:00\",\"2021-02-01T00:00:00\",\"2021-03-01T00:00:00\",\"2021-04-01T00:00:00\"],\"xaxis\":\"x\",\"y\":[-3.723450235096812,-3.7561363539312396,-3.701714493100124,-3.4320061574885234,-3.515147623597514,-3.619893406806042,-3.522682724427966,-3.4220469566650507,-3.406088046156006,-3.566931375171617,-3.469973123905606,-3.4521904052135954,-3.349681770800018,-3.4222318818516277,-3.413707661195841,-3.370850030074227,-3.2889995905214082,-3.251785666159981,-3.3137971826203048,-3.305189784029873,-3.206246657054747,-3.169295066172256,-3.310291517948314,-3.437538342871896,-3.621458022016615,-3.507932263156233,-3.4375515671126062,-3.401580679035701,-3.4300093410371066,-3.326453089970779,-3.471605778971745,-3.393659794387033,-3.3926164973806503,-3.470727536662723,-3.448110911245017,-3.420310292700477,-3.339702192281233,-3.2194164939838323,-3.165918542738425,-3.124146226050984,-3.088198549058028,-2.9593579693549086],\"yaxis\":\"y\",\"type\":\"scatter\"},{\"hovertemplate\":\"identity_group=lgbtq_people<br>parsed_date=%{x}<br>log_prob=%{y}<extra></extra>\",\"legendgroup\":\"lgbtq_people\",\"line\":{\"color\":\"#FFA15A\",\"dash\":\"solid\"},\"marker\":{\"symbol\":\"circle\"},\"mode\":\"lines\",\"name\":\"lgbtq_people\",\"orientation\":\"v\",\"showlegend\":true,\"x\":[\"2017-11-01T00:00:00\",\"2017-12-01T00:00:00\",\"2018-01-01T00:00:00\",\"2018-02-01T00:00:00\",\"2018-03-01T00:00:00\",\"2018-04-01T00:00:00\",\"2018-05-01T00:00:00\",\"2018-06-01T00:00:00\",\"2018-07-01T00:00:00\",\"2018-08-01T00:00:00\",\"2018-09-01T00:00:00\",\"2018-10-01T00:00:00\",\"2018-11-01T00:00:00\",\"2018-12-01T00:00:00\",\"2019-01-01T00:00:00\",\"2019-02-01T00:00:00\",\"2019-03-01T00:00:00\",\"2019-04-01T00:00:00\",\"2019-05-01T00:00:00\",\"2019-06-01T00:00:00\",\"2019-07-01T00:00:00\",\"2019-08-01T00:00:00\",\"2019-09-01T00:00:00\",\"2019-10-01T00:00:00\",\"2019-11-01T00:00:00\",\"2019-12-01T00:00:00\",\"2020-01-01T00:00:00\",\"2020-02-01T00:00:00\",\"2020-03-01T00:00:00\",\"2020-04-01T00:00:00\",\"2020-05-01T00:00:00\",\"2020-06-01T00:00:00\",\"2020-07-01T00:00:00\",\"2020-08-01T00:00:00\",\"2020-09-01T00:00:00\",\"2020-10-01T00:00:00\",\"2020-11-01T00:00:00\",\"2020-12-01T00:00:00\",\"2021-01-01T00:00:00\",\"2021-02-01T00:00:00\",\"2021-03-01T00:00:00\",\"2021-04-01T00:00:00\"],\"xaxis\":\"x\",\"y\":[-3.0779759123533683,-3.08648299001027,-3.0648923955129495,-3.1198972214775447,-3.0491831709406614,-3.0975530590751013,-3.107937732162297,-3.107353677679325,-3.1340746562213533,-3.0769102353863156,-3.086749383929541,-3.0314146136083195,-3.0188608566534954,-3.0292204233008206,-2.998517111679159,-3.008490410585918,-3.023265035927499,-3.011680949703672,-3.0101037756778504,-2.9359592294342636,-3.033049446976997,-2.987939087302049,-3.0044508265265035,-3.055165255047511,-3.049841385672531,-3.071841743802491,-2.995166849808389,-3.027285004133508,-3.0079589515835488,-2.905081052607245,-2.9967523857079046,-3.0111999372618548,-2.996275695642318,-2.960407214566394,-3.0195429787509904,-2.950616397365108,-2.931093664211699,-3.0250612252892726,-2.984384243618592,-2.990580054145687,-2.9166097353248457,-2.8416552295599353],\"yaxis\":\"y\",\"type\":\"scatter\"},{\"hovertemplate\":\"identity_group=men_boys<br>parsed_date=%{x}<br>log_prob=%{y}<extra></extra>\",\"legendgroup\":\"men_boys\",\"line\":{\"color\":\"#19d3f3\",\"dash\":\"solid\"},\"marker\":{\"symbol\":\"circle\"},\"mode\":\"lines\",\"name\":\"men_boys\",\"orientation\":\"v\",\"showlegend\":true,\"x\":[\"2017-11-01T00:00:00\",\"2017-12-01T00:00:00\",\"2018-01-01T00:00:00\",\"2018-02-01T00:00:00\",\"2018-03-01T00:00:00\",\"2018-04-01T00:00:00\",\"2018-05-01T00:00:00\",\"2018-06-01T00:00:00\",\"2018-07-01T00:00:00\",\"2018-08-01T00:00:00\",\"2018-09-01T00:00:00\",\"2018-10-01T00:00:00\",\"2018-11-01T00:00:00\",\"2018-12-01T00:00:00\",\"2019-01-01T00:00:00\",\"2019-02-01T00:00:00\",\"2019-03-01T00:00:00\",\"2019-04-01T00:00:00\",\"2019-05-01T00:00:00\",\"2019-06-01T00:00:00\",\"2019-07-01T00:00:00\",\"2019-08-01T00:00:00\",\"2019-09-01T00:00:00\",\"2019-10-01T00:00:00\",\"2019-11-01T00:00:00\",\"2019-12-01T00:00:00\",\"2020-01-01T00:00:00\",\"2020-02-01T00:00:00\",\"2020-03-01T00:00:00\",\"2020-04-01T00:00:00\",\"2020-05-01T00:00:00\",\"2020-06-01T00:00:00\",\"2020-07-01T00:00:00\",\"2020-08-01T00:00:00\",\"2020-09-01T00:00:00\",\"2020-10-01T00:00:00\",\"2020-11-01T00:00:00\",\"2020-12-01T00:00:00\",\"2021-01-01T00:00:00\",\"2021-02-01T00:00:00\",\"2021-03-01T00:00:00\",\"2021-04-01T00:00:00\"],\"xaxis\":\"x\",\"y\":[-2.0812576885613754,-2.0991744101983554,-2.108122544028984,-2.0814129350182693,-2.0663464476400226,-2.072086039921213,-2.0610973792862985,-2.0635016819759517,-2.0587864257764004,-2.058938073948306,-2.07012423208796,-2.0516668126871203,-2.0518331805830075,-2.054358456740386,-2.0315545169775575,-2.0608519038756072,-2.0380481038625806,-2.045126038066309,-2.082055250166059,-2.0564410696008064,-2.044632229426114,-2.0329627507921493,-2.0551086042804787,-2.0625153375652783,-2.050508254685017,-2.024126140691417,-2.046335160839018,-2.0418086312187285,-2.097270274432871,-2.097269638042549,-2.11143826350868,-2.1367008445321383,-2.1106877930252503,-2.154702438093496,-2.153269120744754,-2.0996649700634085,-2.1357997138614473,-2.1280670226100393,-2.140795636890227,-2.1149557272118247,-2.13451629918714,-2.1044882460370262],\"yaxis\":\"y\",\"type\":\"scatter\"},{\"hovertemplate\":\"identity_group=men_boys_address<br>parsed_date=%{x}<br>log_prob=%{y}<extra></extra>\",\"legendgroup\":\"men_boys_address\",\"line\":{\"color\":\"#FF6692\",\"dash\":\"solid\"},\"marker\":{\"symbol\":\"circle\"},\"mode\":\"lines\",\"name\":\"men_boys_address\",\"orientation\":\"v\",\"showlegend\":true,\"x\":[\"2017-11-01T00:00:00\",\"2017-12-01T00:00:00\",\"2018-01-01T00:00:00\",\"2018-02-01T00:00:00\",\"2018-03-01T00:00:00\",\"2018-04-01T00:00:00\",\"2018-05-01T00:00:00\",\"2018-06-01T00:00:00\",\"2018-07-01T00:00:00\",\"2018-08-01T00:00:00\",\"2018-09-01T00:00:00\",\"2018-10-01T00:00:00\",\"2018-11-01T00:00:00\",\"2018-12-01T00:00:00\",\"2019-01-01T00:00:00\",\"2019-02-01T00:00:00\",\"2019-03-01T00:00:00\",\"2019-04-01T00:00:00\",\"2019-05-01T00:00:00\",\"2019-06-01T00:00:00\",\"2019-07-01T00:00:00\",\"2019-08-01T00:00:00\",\"2019-09-01T00:00:00\",\"2019-10-01T00:00:00\",\"2019-11-01T00:00:00\",\"2019-12-01T00:00:00\",\"2020-01-01T00:00:00\",\"2020-02-01T00:00:00\",\"2020-03-01T00:00:00\",\"2020-04-01T00:00:00\",\"2020-05-01T00:00:00\",\"2020-06-01T00:00:00\",\"2020-07-01T00:00:00\",\"2020-08-01T00:00:00\",\"2020-09-01T00:00:00\",\"2020-10-01T00:00:00\",\"2020-11-01T00:00:00\",\"2020-12-01T00:00:00\",\"2021-01-01T00:00:00\",\"2021-02-01T00:00:00\",\"2021-03-01T00:00:00\",\"2021-04-01T00:00:00\"],\"xaxis\":\"x\",\"y\":[-3.054084087562577,-3.0405431089878228,-2.985393101496586,-2.912531028968421,-2.942674165059084,-3.076704723893946,-3.007992804763806,-2.9410222559127996,-2.9429686286860073,-3.020420147000358,-2.87687114176161,-2.80796444853937,-2.8588260695312337,-2.84943141848738,-2.7451511435804306,-2.7583362322981153,-2.7101764686386565,-2.7882853439012045,-2.9140655627009995,-2.7802333899615324,-2.803542220136718,-2.7812887125296557,-2.8617407992642194,-2.9214189511917823,-2.821883622211585,-2.8140614873324625,-2.831004360407179,-2.7986646938016424,-2.8089741428539607,-2.8415987889701064,-2.851274491591057,-2.89170309839628,-2.91448727949074,-2.9117487861823257,-2.982103894408898,-2.9451799928578417,-2.986965373543376,-3.0526171664634054,-3.052341902444385,-3.084653806619396,-3.0377724279109883,-2.967762996435087],\"yaxis\":\"y\",\"type\":\"scatter\"},{\"hovertemplate\":\"identity_group=mental_disabilities<br>parsed_date=%{x}<br>log_prob=%{y}<extra></extra>\",\"legendgroup\":\"mental_disabilities\",\"line\":{\"color\":\"#B6E880\",\"dash\":\"solid\"},\"marker\":{\"symbol\":\"circle\"},\"mode\":\"lines\",\"name\":\"mental_disabilities\",\"orientation\":\"v\",\"showlegend\":true,\"x\":[\"2017-11-01T00:00:00\",\"2017-12-01T00:00:00\",\"2018-01-01T00:00:00\",\"2018-02-01T00:00:00\",\"2018-03-01T00:00:00\",\"2018-04-01T00:00:00\",\"2018-05-01T00:00:00\",\"2018-06-01T00:00:00\",\"2018-07-01T00:00:00\",\"2018-08-01T00:00:00\",\"2018-09-01T00:00:00\",\"2018-10-01T00:00:00\",\"2018-11-01T00:00:00\",\"2018-12-01T00:00:00\",\"2019-01-01T00:00:00\",\"2019-02-01T00:00:00\",\"2019-03-01T00:00:00\",\"2019-04-01T00:00:00\",\"2019-05-01T00:00:00\",\"2019-06-01T00:00:00\",\"2019-07-01T00:00:00\",\"2019-08-01T00:00:00\",\"2019-09-01T00:00:00\",\"2019-10-01T00:00:00\",\"2019-11-01T00:00:00\",\"2019-12-01T00:00:00\",\"2020-01-01T00:00:00\",\"2020-02-01T00:00:00\",\"2020-03-01T00:00:00\",\"2020-04-01T00:00:00\",\"2020-05-01T00:00:00\",\"2020-06-01T00:00:00\",\"2020-07-01T00:00:00\",\"2020-08-01T00:00:00\",\"2020-09-01T00:00:00\",\"2020-10-01T00:00:00\",\"2020-11-01T00:00:00\",\"2020-12-01T00:00:00\",\"2021-01-01T00:00:00\",\"2021-02-01T00:00:00\",\"2021-03-01T00:00:00\",\"2021-04-01T00:00:00\"],\"xaxis\":\"x\",\"y\":[-2.942908805416983,-2.9685846132286295,-2.9412202076627114,-2.9179062090843617,-2.926052609433919,-3.0156291134748354,-3.0388209845751466,-3.0303308942511586,-3.011846034378875,-2.9681339006888523,-3.0146698605573645,-3.0446114852705937,-3.06105853644795,-3.0276183804312535,-2.9640120604626117,-2.9672605124990348,-2.982803619164142,-3.051928030131227,-3.0078790643561173,-3.0512355144377494,-2.949194197050912,-3.0020143071844068,-2.930349106008154,-3.0030499627992384,-2.9887899607094734,-3.021408389504258,-3.031260536083331,-2.9666471119450692,-2.9512819234124703,-3.028728823871687,-3.020721416607474,-3.0836782230019457,-3.08666061357536,-3.165393887132672,-3.0520561132493373,-3.0060530854371703,-3.1474278616458027,-3.091484085872886,-3.0368097621222288,-3.0555208610787017,-2.994623370510108,-2.9348055654587957],\"yaxis\":\"y\",\"type\":\"scatter\"},{\"hovertemplate\":\"identity_group=white_people<br>parsed_date=%{x}<br>log_prob=%{y}<extra></extra>\",\"legendgroup\":\"white_people\",\"line\":{\"color\":\"#FF97FF\",\"dash\":\"solid\"},\"marker\":{\"symbol\":\"circle\"},\"mode\":\"lines\",\"name\":\"white_people\",\"orientation\":\"v\",\"showlegend\":true,\"x\":[\"2017-11-01T00:00:00\",\"2017-12-01T00:00:00\",\"2018-01-01T00:00:00\",\"2018-02-01T00:00:00\",\"2018-03-01T00:00:00\",\"2018-04-01T00:00:00\",\"2018-05-01T00:00:00\",\"2018-06-01T00:00:00\",\"2018-07-01T00:00:00\",\"2018-08-01T00:00:00\",\"2018-09-01T00:00:00\",\"2018-10-01T00:00:00\",\"2018-11-01T00:00:00\",\"2018-12-01T00:00:00\",\"2019-01-01T00:00:00\",\"2019-02-01T00:00:00\",\"2019-03-01T00:00:00\",\"2019-04-01T00:00:00\",\"2019-05-01T00:00:00\",\"2019-06-01T00:00:00\",\"2019-07-01T00:00:00\",\"2019-08-01T00:00:00\",\"2019-09-01T00:00:00\",\"2019-10-01T00:00:00\",\"2019-11-01T00:00:00\",\"2019-12-01T00:00:00\",\"2020-01-01T00:00:00\",\"2020-02-01T00:00:00\",\"2020-03-01T00:00:00\",\"2020-04-01T00:00:00\",\"2020-05-01T00:00:00\",\"2020-06-01T00:00:00\",\"2020-07-01T00:00:00\",\"2020-08-01T00:00:00\",\"2020-09-01T00:00:00\",\"2020-10-01T00:00:00\",\"2020-11-01T00:00:00\",\"2020-12-01T00:00:00\",\"2021-01-01T00:00:00\",\"2021-02-01T00:00:00\",\"2021-03-01T00:00:00\",\"2021-04-01T00:00:00\"],\"xaxis\":\"x\",\"y\":[-3.5049216854919614,-3.4495468894084227,-3.4501342056183026,-3.3877793903344076,-3.186158330355642,-3.3190556193690983,-3.107253024945557,-3.134962115447557,-3.1762979357449592,-3.283687779602238,-3.256927250597159,-3.3131943575419514,-3.177686843437245,-3.262710588549226,-3.3095157902635886,-3.1651863931589204,-3.1337619655838247,-3.189031837468547,-3.297026972370412,-3.298365286837668,-3.323601985472498,-3.2852862750332696,-3.247511024618994,-3.3284807888385033,-3.4714670084375245,-3.315481322852424,-3.3092202457804505,-3.4041998772158855,-3.467249678786728,-3.425878255447698,-3.3746957659636885,-3.2051029151418247,-3.301469088199871,-3.4042070693220654,-3.28996998492836,-3.1946412551146985,-3.302885363097645,-3.149780565842438,-3.164605978137042,-3.129462470995069,-3.2290398594487435,-2.91908880933804],\"yaxis\":\"y\",\"type\":\"scatter\"},{\"hovertemplate\":\"identity_group=women_girls<br>parsed_date=%{x}<br>log_prob=%{y}<extra></extra>\",\"legendgroup\":\"women_girls\",\"line\":{\"color\":\"#FECB52\",\"dash\":\"solid\"},\"marker\":{\"symbol\":\"circle\"},\"mode\":\"lines\",\"name\":\"women_girls\",\"orientation\":\"v\",\"showlegend\":true,\"x\":[\"2017-11-01T00:00:00\",\"2017-12-01T00:00:00\",\"2018-01-01T00:00:00\",\"2018-02-01T00:00:00\",\"2018-03-01T00:00:00\",\"2018-04-01T00:00:00\",\"2018-05-01T00:00:00\",\"2018-06-01T00:00:00\",\"2018-07-01T00:00:00\",\"2018-08-01T00:00:00\",\"2018-09-01T00:00:00\",\"2018-10-01T00:00:00\",\"2018-11-01T00:00:00\",\"2018-12-01T00:00:00\",\"2019-01-01T00:00:00\",\"2019-02-01T00:00:00\",\"2019-03-01T00:00:00\",\"2019-04-01T00:00:00\",\"2019-05-01T00:00:00\",\"2019-06-01T00:00:00\",\"2019-07-01T00:00:00\",\"2019-08-01T00:00:00\",\"2019-09-01T00:00:00\",\"2019-10-01T00:00:00\",\"2019-11-01T00:00:00\",\"2019-12-01T00:00:00\",\"2020-01-01T00:00:00\",\"2020-02-01T00:00:00\",\"2020-03-01T00:00:00\",\"2020-04-01T00:00:00\",\"2020-05-01T00:00:00\",\"2020-06-01T00:00:00\",\"2020-07-01T00:00:00\",\"2020-08-01T00:00:00\",\"2020-09-01T00:00:00\",\"2020-10-01T00:00:00\",\"2020-11-01T00:00:00\",\"2020-12-01T00:00:00\",\"2021-01-01T00:00:00\",\"2021-02-01T00:00:00\",\"2021-03-01T00:00:00\",\"2021-04-01T00:00:00\"],\"xaxis\":\"x\",\"y\":[-1.9234026440807153,-1.9543497813142814,-1.9901321997013577,-1.9744596448339198,-1.9378189374048076,-1.9330752903900383,-1.9205287615458058,-1.9282081714994677,-1.948219986245182,-1.9330771086558758,-1.9689848294875154,-1.972564693068032,-1.9429153328793833,-1.9248446609831906,-1.9222618764571855,-1.9714539647795524,-1.9647519968267058,-1.9473235964363982,-1.9417663408706236,-1.9693741668486677,-1.9807388550344134,-1.9632230609773658,-1.974119202724709,-1.9437737505800294,-1.9462726188959705,-1.9296939135014028,-1.9609768226896542,-1.9625715527989682,-2.018003560478763,-2.0031494861417416,-2.0207772995750477,-2.0463747474253666,-2.0071563519071147,-2.1240012019744468,-2.03264239889556,-1.9721826395112483,-2.0173604586176173,-1.972715551935085,-1.994043287151218,-1.9779519818991207,-2.012750404496806,-2.0004837875020836],\"yaxis\":\"y\",\"type\":\"scatter\"},{\"hovertemplate\":\"identity_group=women_girls_derogatory<br>parsed_date=%{x}<br>log_prob=%{y}<extra></extra>\",\"legendgroup\":\"women_girls_derogatory\",\"line\":{\"color\":\"#636efa\",\"dash\":\"solid\"},\"marker\":{\"symbol\":\"circle\"},\"mode\":\"lines\",\"name\":\"women_girls_derogatory\",\"orientation\":\"v\",\"showlegend\":true,\"x\":[\"2017-11-01T00:00:00\",\"2017-12-01T00:00:00\",\"2018-01-01T00:00:00\",\"2018-02-01T00:00:00\",\"2018-03-01T00:00:00\",\"2018-04-01T00:00:00\",\"2018-05-01T00:00:00\",\"2018-06-01T00:00:00\",\"2018-07-01T00:00:00\",\"2018-08-01T00:00:00\",\"2018-09-01T00:00:00\",\"2018-10-01T00:00:00\",\"2018-11-01T00:00:00\",\"2018-12-01T00:00:00\",\"2019-01-01T00:00:00\",\"2019-02-01T00:00:00\",\"2019-03-01T00:00:00\",\"2019-04-01T00:00:00\",\"2019-05-01T00:00:00\",\"2019-06-01T00:00:00\",\"2019-07-01T00:00:00\",\"2019-08-01T00:00:00\",\"2019-09-01T00:00:00\",\"2019-10-01T00:00:00\",\"2019-11-01T00:00:00\",\"2019-12-01T00:00:00\",\"2020-01-01T00:00:00\",\"2020-02-01T00:00:00\",\"2020-03-01T00:00:00\",\"2020-04-01T00:00:00\",\"2020-05-01T00:00:00\",\"2020-06-01T00:00:00\",\"2020-07-01T00:00:00\",\"2020-08-01T00:00:00\",\"2020-09-01T00:00:00\",\"2020-10-01T00:00:00\",\"2020-11-01T00:00:00\",\"2020-12-01T00:00:00\",\"2021-01-01T00:00:00\",\"2021-02-01T00:00:00\",\"2021-03-01T00:00:00\",\"2021-04-01T00:00:00\"],\"xaxis\":\"x\",\"y\":[-2.585356759857329,-2.6551318947003932,-2.682736755687215,-2.6607132808204415,-2.599502229122242,-2.5412249051885825,-2.512823530696329,-2.496380718879522,-2.49146487813094,-2.4865071165606634,-2.470317777948499,-2.445008612134299,-2.388075266417778,-2.364190347389344,-2.3587816717119225,-2.3764420692778523,-2.357834660647681,-2.360350829818567,-2.334165475589851,-2.382213523628124,-2.4167897437330197,-2.3895140418968452,-2.418891157620855,-2.3885683078570077,-2.3931047998451036,-2.391748976724783,-2.3858389204717247,-2.3824245647229305,-2.4106052502010984,-2.3927046464907424,-2.4291956914439066,-2.4575041540642792,-2.4441149005175355,-2.5522176243488173,-2.4460099592748112,-2.3733770906871707,-2.402321617302721,-2.3918327015470813,-2.383922867467596,-2.4097323653825646,-2.4428328643739348,-2.4026410502154594],\"yaxis\":\"y\",\"type\":\"scatter\"},{\"hovertemplate\":\"identity_group=youth<br>parsed_date=%{x}<br>log_prob=%{y}<extra></extra>\",\"legendgroup\":\"youth\",\"line\":{\"color\":\"#EF553B\",\"dash\":\"solid\"},\"marker\":{\"symbol\":\"circle\"},\"mode\":\"lines\",\"name\":\"youth\",\"orientation\":\"v\",\"showlegend\":true,\"x\":[\"2017-11-01T00:00:00\",\"2017-12-01T00:00:00\",\"2018-01-01T00:00:00\",\"2018-02-01T00:00:00\",\"2018-03-01T00:00:00\",\"2018-04-01T00:00:00\",\"2018-05-01T00:00:00\",\"2018-06-01T00:00:00\",\"2018-07-01T00:00:00\",\"2018-08-01T00:00:00\",\"2018-09-01T00:00:00\",\"2018-10-01T00:00:00\",\"2018-11-01T00:00:00\",\"2018-12-01T00:00:00\",\"2019-01-01T00:00:00\",\"2019-02-01T00:00:00\",\"2019-03-01T00:00:00\",\"2019-04-01T00:00:00\",\"2019-05-01T00:00:00\",\"2019-06-01T00:00:00\",\"2019-07-01T00:00:00\",\"2019-08-01T00:00:00\",\"2019-09-01T00:00:00\",\"2019-10-01T00:00:00\",\"2019-11-01T00:00:00\",\"2019-12-01T00:00:00\",\"2020-01-01T00:00:00\",\"2020-02-01T00:00:00\",\"2020-03-01T00:00:00\",\"2020-04-01T00:00:00\",\"2020-05-01T00:00:00\",\"2020-06-01T00:00:00\",\"2020-07-01T00:00:00\",\"2020-08-01T00:00:00\",\"2020-09-01T00:00:00\",\"2020-10-01T00:00:00\",\"2020-11-01T00:00:00\",\"2020-12-01T00:00:00\",\"2021-01-01T00:00:00\",\"2021-02-01T00:00:00\",\"2021-03-01T00:00:00\",\"2021-04-01T00:00:00\"],\"xaxis\":\"x\",\"y\":[-3.0797688363863767,-3.038802857704093,-3.0223731351914704,-3.0456312443453215,-3.0117192096736685,-3.010308440715424,-2.984390752366529,-2.911190311344991,-2.941108426747619,-2.923793154192545,-2.9583236611866464,-2.9059748000471672,-2.8921763917294943,-2.86726681151766,-2.8988099155249953,-2.9197413145569375,-2.8844580770579435,-2.9179218173745736,-2.8657698452280544,-2.916870677313491,-2.9232041633254573,-2.917220325958266,-2.817395192654343,-2.888222550173071,-2.8417204377088723,-2.9109943995249328,-2.9372496959371577,-2.901055644043714,-2.956118343072651,-2.9770490901544626,-2.9188774487364157,-2.9616502654866648,-2.86509767804099,-3.014586835764133,-2.979524402785205,-2.951702010770066,-3.0517242770258135,-2.9165023544452997,-2.9480314578285465,-2.94365864510062,-2.9603534220627172,-2.9850773718622485],\"yaxis\":\"y\",\"type\":\"scatter\"}],                        {\"template\":{\"data\":{\"histogram2dcontour\":[{\"type\":\"histogram2dcontour\",\"colorbar\":{\"outlinewidth\":0,\"ticks\":\"\"},\"colorscale\":[[0.0,\"#0d0887\"],[0.1111111111111111,\"#46039f\"],[0.2222222222222222,\"#7201a8\"],[0.3333333333333333,\"#9c179e\"],[0.4444444444444444,\"#bd3786\"],[0.5555555555555556,\"#d8576b\"],[0.6666666666666666,\"#ed7953\"],[0.7777777777777778,\"#fb9f3a\"],[0.8888888888888888,\"#fdca26\"],[1.0,\"#f0f921\"]]}],\"choropleth\":[{\"type\":\"choropleth\",\"colorbar\":{\"outlinewidth\":0,\"ticks\":\"\"}}],\"histogram2d\":[{\"type\":\"histogram2d\",\"colorbar\":{\"outlinewidth\":0,\"ticks\":\"\"},\"colorscale\":[[0.0,\"#0d0887\"],[0.1111111111111111,\"#46039f\"],[0.2222222222222222,\"#7201a8\"],[0.3333333333333333,\"#9c179e\"],[0.4444444444444444,\"#bd3786\"],[0.5555555555555556,\"#d8576b\"],[0.6666666666666666,\"#ed7953\"],[0.7777777777777778,\"#fb9f3a\"],[0.8888888888888888,\"#fdca26\"],[1.0,\"#f0f921\"]]}],\"heatmap\":[{\"type\":\"heatmap\",\"colorbar\":{\"outlinewidth\":0,\"ticks\":\"\"},\"colorscale\":[[0.0,\"#0d0887\"],[0.1111111111111111,\"#46039f\"],[0.2222222222222222,\"#7201a8\"],[0.3333333333333333,\"#9c179e\"],[0.4444444444444444,\"#bd3786\"],[0.5555555555555556,\"#d8576b\"],[0.6666666666666666,\"#ed7953\"],[0.7777777777777778,\"#fb9f3a\"],[0.8888888888888888,\"#fdca26\"],[1.0,\"#f0f921\"]]}],\"heatmapgl\":[{\"type\":\"heatmapgl\",\"colorbar\":{\"outlinewidth\":0,\"ticks\":\"\"},\"colorscale\":[[0.0,\"#0d0887\"],[0.1111111111111111,\"#46039f\"],[0.2222222222222222,\"#7201a8\"],[0.3333333333333333,\"#9c179e\"],[0.4444444444444444,\"#bd3786\"],[0.5555555555555556,\"#d8576b\"],[0.6666666666666666,\"#ed7953\"],[0.7777777777777778,\"#fb9f3a\"],[0.8888888888888888,\"#fdca26\"],[1.0,\"#f0f921\"]]}],\"contourcarpet\":[{\"type\":\"contourcarpet\",\"colorbar\":{\"outlinewidth\":0,\"ticks\":\"\"}}],\"contour\":[{\"type\":\"contour\",\"colorbar\":{\"outlinewidth\":0,\"ticks\":\"\"},\"colorscale\":[[0.0,\"#0d0887\"],[0.1111111111111111,\"#46039f\"],[0.2222222222222222,\"#7201a8\"],[0.3333333333333333,\"#9c179e\"],[0.4444444444444444,\"#bd3786\"],[0.5555555555555556,\"#d8576b\"],[0.6666666666666666,\"#ed7953\"],[0.7777777777777778,\"#fb9f3a\"],[0.8888888888888888,\"#fdca26\"],[1.0,\"#f0f921\"]]}],\"surface\":[{\"type\":\"surface\",\"colorbar\":{\"outlinewidth\":0,\"ticks\":\"\"},\"colorscale\":[[0.0,\"#0d0887\"],[0.1111111111111111,\"#46039f\"],[0.2222222222222222,\"#7201a8\"],[0.3333333333333333,\"#9c179e\"],[0.4444444444444444,\"#bd3786\"],[0.5555555555555556,\"#d8576b\"],[0.6666666666666666,\"#ed7953\"],[0.7777777777777778,\"#fb9f3a\"],[0.8888888888888888,\"#fdca26\"],[1.0,\"#f0f921\"]]}],\"mesh3d\":[{\"type\":\"mesh3d\",\"colorbar\":{\"outlinewidth\":0,\"ticks\":\"\"}}],\"scatter\":[{\"fillpattern\":{\"fillmode\":\"overlay\",\"size\":10,\"solidity\":0.2},\"type\":\"scatter\"}],\"parcoords\":[{\"type\":\"parcoords\",\"line\":{\"colorbar\":{\"outlinewidth\":0,\"ticks\":\"\"}}}],\"scatterpolargl\":[{\"type\":\"scatterpolargl\",\"marker\":{\"colorbar\":{\"outlinewidth\":0,\"ticks\":\"\"}}}],\"bar\":[{\"error_x\":{\"color\":\"#2a3f5f\"},\"error_y\":{\"color\":\"#2a3f5f\"},\"marker\":{\"line\":{\"color\":\"#E5ECF6\",\"width\":0.5},\"pattern\":{\"fillmode\":\"overlay\",\"size\":10,\"solidity\":0.2}},\"type\":\"bar\"}],\"scattergeo\":[{\"type\":\"scattergeo\",\"marker\":{\"colorbar\":{\"outlinewidth\":0,\"ticks\":\"\"}}}],\"scatterpolar\":[{\"type\":\"scatterpolar\",\"marker\":{\"colorbar\":{\"outlinewidth\":0,\"ticks\":\"\"}}}],\"histogram\":[{\"marker\":{\"pattern\":{\"fillmode\":\"overlay\",\"size\":10,\"solidity\":0.2}},\"type\":\"histogram\"}],\"scattergl\":[{\"type\":\"scattergl\",\"marker\":{\"colorbar\":{\"outlinewidth\":0,\"ticks\":\"\"}}}],\"scatter3d\":[{\"type\":\"scatter3d\",\"line\":{\"colorbar\":{\"outlinewidth\":0,\"ticks\":\"\"}},\"marker\":{\"colorbar\":{\"outlinewidth\":0,\"ticks\":\"\"}}}],\"scattermapbox\":[{\"type\":\"scattermapbox\",\"marker\":{\"colorbar\":{\"outlinewidth\":0,\"ticks\":\"\"}}}],\"scatterternary\":[{\"type\":\"scatterternary\",\"marker\":{\"colorbar\":{\"outlinewidth\":0,\"ticks\":\"\"}}}],\"scattercarpet\":[{\"type\":\"scattercarpet\",\"marker\":{\"colorbar\":{\"outlinewidth\":0,\"ticks\":\"\"}}}],\"carpet\":[{\"aaxis\":{\"endlinecolor\":\"#2a3f5f\",\"gridcolor\":\"white\",\"linecolor\":\"white\",\"minorgridcolor\":\"white\",\"startlinecolor\":\"#2a3f5f\"},\"baxis\":{\"endlinecolor\":\"#2a3f5f\",\"gridcolor\":\"white\",\"linecolor\":\"white\",\"minorgridcolor\":\"white\",\"startlinecolor\":\"#2a3f5f\"},\"type\":\"carpet\"}],\"table\":[{\"cells\":{\"fill\":{\"color\":\"#EBF0F8\"},\"line\":{\"color\":\"white\"}},\"header\":{\"fill\":{\"color\":\"#C8D4E3\"},\"line\":{\"color\":\"white\"}},\"type\":\"table\"}],\"barpolar\":[{\"marker\":{\"line\":{\"color\":\"#E5ECF6\",\"width\":0.5},\"pattern\":{\"fillmode\":\"overlay\",\"size\":10,\"solidity\":0.2}},\"type\":\"barpolar\"}],\"pie\":[{\"automargin\":true,\"type\":\"pie\"}]},\"layout\":{\"autotypenumbers\":\"strict\",\"colorway\":[\"#636efa\",\"#EF553B\",\"#00cc96\",\"#ab63fa\",\"#FFA15A\",\"#19d3f3\",\"#FF6692\",\"#B6E880\",\"#FF97FF\",\"#FECB52\"],\"font\":{\"color\":\"#2a3f5f\"},\"hovermode\":\"closest\",\"hoverlabel\":{\"align\":\"left\"},\"paper_bgcolor\":\"white\",\"plot_bgcolor\":\"#E5ECF6\",\"polar\":{\"bgcolor\":\"#E5ECF6\",\"angularaxis\":{\"gridcolor\":\"white\",\"linecolor\":\"white\",\"ticks\":\"\"},\"radialaxis\":{\"gridcolor\":\"white\",\"linecolor\":\"white\",\"ticks\":\"\"}},\"ternary\":{\"bgcolor\":\"#E5ECF6\",\"aaxis\":{\"gridcolor\":\"white\",\"linecolor\":\"white\",\"ticks\":\"\"},\"baxis\":{\"gridcolor\":\"white\",\"linecolor\":\"white\",\"ticks\":\"\"},\"caxis\":{\"gridcolor\":\"white\",\"linecolor\":\"white\",\"ticks\":\"\"}},\"coloraxis\":{\"colorbar\":{\"outlinewidth\":0,\"ticks\":\"\"}},\"colorscale\":{\"sequential\":[[0.0,\"#0d0887\"],[0.1111111111111111,\"#46039f\"],[0.2222222222222222,\"#7201a8\"],[0.3333333333333333,\"#9c179e\"],[0.4444444444444444,\"#bd3786\"],[0.5555555555555556,\"#d8576b\"],[0.6666666666666666,\"#ed7953\"],[0.7777777777777778,\"#fb9f3a\"],[0.8888888888888888,\"#fdca26\"],[1.0,\"#f0f921\"]],\"sequentialminus\":[[0.0,\"#0d0887\"],[0.1111111111111111,\"#46039f\"],[0.2222222222222222,\"#7201a8\"],[0.3333333333333333,\"#9c179e\"],[0.4444444444444444,\"#bd3786\"],[0.5555555555555556,\"#d8576b\"],[0.6666666666666666,\"#ed7953\"],[0.7777777777777778,\"#fb9f3a\"],[0.8888888888888888,\"#fdca26\"],[1.0,\"#f0f921\"]],\"diverging\":[[0,\"#8e0152\"],[0.1,\"#c51b7d\"],[0.2,\"#de77ae\"],[0.3,\"#f1b6da\"],[0.4,\"#fde0ef\"],[0.5,\"#f7f7f7\"],[0.6,\"#e6f5d0\"],[0.7,\"#b8e186\"],[0.8,\"#7fbc41\"],[0.9,\"#4d9221\"],[1,\"#276419\"]]},\"xaxis\":{\"gridcolor\":\"white\",\"linecolor\":\"white\",\"ticks\":\"\",\"title\":{\"standoff\":15},\"zerolinecolor\":\"white\",\"automargin\":true,\"zerolinewidth\":2},\"yaxis\":{\"gridcolor\":\"white\",\"linecolor\":\"white\",\"ticks\":\"\",\"title\":{\"standoff\":15},\"zerolinecolor\":\"white\",\"automargin\":true,\"zerolinewidth\":2},\"scene\":{\"xaxis\":{\"backgroundcolor\":\"#E5ECF6\",\"gridcolor\":\"white\",\"linecolor\":\"white\",\"showbackground\":true,\"ticks\":\"\",\"zerolinecolor\":\"white\",\"gridwidth\":2},\"yaxis\":{\"backgroundcolor\":\"#E5ECF6\",\"gridcolor\":\"white\",\"linecolor\":\"white\",\"showbackground\":true,\"ticks\":\"\",\"zerolinecolor\":\"white\",\"gridwidth\":2},\"zaxis\":{\"backgroundcolor\":\"#E5ECF6\",\"gridcolor\":\"white\",\"linecolor\":\"white\",\"showbackground\":true,\"ticks\":\"\",\"zerolinecolor\":\"white\",\"gridwidth\":2}},\"shapedefaults\":{\"line\":{\"color\":\"#2a3f5f\"}},\"annotationdefaults\":{\"arrowcolor\":\"#2a3f5f\",\"arrowhead\":0,\"arrowwidth\":1},\"geo\":{\"bgcolor\":\"white\",\"landcolor\":\"#E5ECF6\",\"subunitcolor\":\"white\",\"showland\":true,\"showlakes\":true,\"lakecolor\":\"white\"},\"title\":{\"x\":0.05},\"mapbox\":{\"style\":\"light\"}}},\"xaxis\":{\"anchor\":\"y\",\"domain\":[0.0,1.0],\"title\":{\"text\":\"parsed_date\"}},\"yaxis\":{\"anchor\":\"x\",\"domain\":[0.0,1.0],\"title\":{\"text\":\"log_prob\"}},\"legend\":{\"title\":{\"text\":\"identity_group\"},\"tracegroupgap\":0},\"margin\":{\"t\":60},\"height\":500},                        {\"responsive\": true}                    ).then(function(){\n",
       "                            \n",
       "var gd = document.getElementById('14e502c0-3f04-454c-b1ca-24ef079f34c9');\n",
       "var x = new MutationObserver(function (mutations, observer) {{\n",
       "        var display = window.getComputedStyle(gd).display;\n",
       "        if (!display || display === 'none') {{\n",
       "            console.log([gd, 'removed!']);\n",
       "            Plotly.purge(gd);\n",
       "            observer.disconnect();\n",
       "        }}\n",
       "}});\n",
       "\n",
       "// Listen for the removal of the full notebook cells\n",
       "var notebookContainer = gd.closest('#notebook-container');\n",
       "if (notebookContainer) {{\n",
       "    x.observe(notebookContainer, {childList: true});\n",
       "}}\n",
       "\n",
       "// Listen for the clearing of the current output cell\n",
       "var outputEl = gd.closest('.output');\n",
       "if (outputEl) {{\n",
       "    x.observe(outputEl, {childList: true});\n",
       "}}\n",
       "\n",
       "                        })                };                });            </script>        </div>"
      ]
     },
     "metadata": {},
     "output_type": "display_data"
    }
   ],
   "source": [
    "# Plot\n",
    "import plotly.express as px\n",
    "\n",
    "# Select only most popular identity groups\n",
    "filtered = counts_overtime[counts_overtime.identity_group.isin(gp_freq.identity_group.head(12))]\n",
    "\n",
    "# px.line(filtered, x=date_col, y='count', color='identity_term')\n",
    "px.line(filtered, x=date_col, y='log_prob', color='identity_group', height=500)\n",
    "# px.line(filtered, x=date_col, y='mention_prob', color='identity_group', log_y=True)"
   ]
  },
  {
   "cell_type": "code",
   "execution_count": 5,
   "id": "d7aa7c10-5d7f-46ca-8aee-98d3066f254c",
   "metadata": {
    "tags": []
   },
   "outputs": [
    {
     "ename": "KeyError",
     "evalue": "'Column not found: word_count'",
     "output_type": "error",
     "traceback": [
      "\u001b[0;31m---------------------------------------------------------------------------\u001b[0m",
      "\u001b[0;31mKeyError\u001b[0m                                  Traceback (most recent call last)",
      "Cell \u001b[0;32mIn[5], line 13\u001b[0m\n\u001b[1;32m      6\u001b[0m date_col \u001b[38;5;241m=\u001b[39m \u001b[38;5;124m'\u001b[39m\u001b[38;5;124mparsed_date\u001b[39m\u001b[38;5;124m'\u001b[39m \u001b[38;5;66;03m# for incels data\u001b[39;00m\n\u001b[1;32m      7\u001b[0m \u001b[38;5;66;03m# date_col = 'timestamp' # for white supremacist data, which has a lot of corpus composition changes during that period\u001b[39;00m\n\u001b[1;32m      8\u001b[0m \n\u001b[1;32m      9\u001b[0m \u001b[38;5;66;03m# Remove outliers (for white supremacist data)\u001b[39;00m\n\u001b[1;32m     10\u001b[0m \u001b[38;5;66;03m# data = data[data.timestamp >= datetime(2002, 1, 1, tzinfo=timezone.utc)]\u001b[39;00m\n\u001b[1;32m     11\u001b[0m \u001b[38;5;66;03m# exploded = exploded[exploded.timestamp >= datetime(2002, 1, 1, tzinfo=timezone.utc)]\u001b[39;00m\n\u001b[0;32m---> 13\u001b[0m word_counts \u001b[38;5;241m=\u001b[39m \u001b[43mdata\u001b[49m\u001b[38;5;241;43m.\u001b[39;49m\u001b[43mgroupby\u001b[49m\u001b[43m(\u001b[49m\u001b[43mpd\u001b[49m\u001b[38;5;241;43m.\u001b[39;49m\u001b[43mGrouper\u001b[49m\u001b[43m(\u001b[49m\u001b[43mkey\u001b[49m\u001b[38;5;241;43m=\u001b[39;49m\u001b[43mdate_col\u001b[49m\u001b[43m,\u001b[49m\u001b[43m \u001b[49m\u001b[43mfreq\u001b[49m\u001b[38;5;241;43m=\u001b[39;49m\u001b[38;5;124;43m'\u001b[39;49m\u001b[38;5;124;43mMS\u001b[39;49m\u001b[38;5;124;43m'\u001b[39;49m\u001b[43m)\u001b[49m\u001b[43m)\u001b[49m\u001b[43m[\u001b[49m\u001b[38;5;124;43m'\u001b[39;49m\u001b[38;5;124;43mword_count\u001b[39;49m\u001b[38;5;124;43m'\u001b[39;49m\u001b[43m]\u001b[49m\u001b[38;5;241m.\u001b[39msum()\n\u001b[1;32m     14\u001b[0m word_counts\n\u001b[1;32m     16\u001b[0m \u001b[38;5;66;03m# exploded = data.explode('netmapper_identity_matches').dropna(subset='netmapper_identity_matches')\u001b[39;00m\n\u001b[1;32m     17\u001b[0m \u001b[38;5;66;03m# counts_overtime = exploded.groupby([pd.Grouper(key=date_col, freq='MS'), 'netmapper_identity_matches']).size().to_frame(name='count').reset_index(names=[date_col, 'identity_term'])\u001b[39;00m\n",
      "File \u001b[0;32m~/incels_identities/conda_env/lib/python3.10/site-packages/pandas/core/groupby/generic.py:1416\u001b[0m, in \u001b[0;36mDataFrameGroupBy.__getitem__\u001b[0;34m(self, key)\u001b[0m\n\u001b[1;32m   1407\u001b[0m \u001b[38;5;28;01mif\u001b[39;00m \u001b[38;5;28misinstance\u001b[39m(key, \u001b[38;5;28mtuple\u001b[39m) \u001b[38;5;129;01mand\u001b[39;00m \u001b[38;5;28mlen\u001b[39m(key) \u001b[38;5;241m>\u001b[39m \u001b[38;5;241m1\u001b[39m:\n\u001b[1;32m   1408\u001b[0m     \u001b[38;5;66;03m# if len == 1, then it becomes a SeriesGroupBy and this is actually\u001b[39;00m\n\u001b[1;32m   1409\u001b[0m     \u001b[38;5;66;03m# valid syntax, so don't raise warning\u001b[39;00m\n\u001b[1;32m   1410\u001b[0m     warnings\u001b[38;5;241m.\u001b[39mwarn(\n\u001b[1;32m   1411\u001b[0m         \u001b[38;5;124m\"\u001b[39m\u001b[38;5;124mIndexing with multiple keys (implicitly converted to a tuple \u001b[39m\u001b[38;5;124m\"\u001b[39m\n\u001b[1;32m   1412\u001b[0m         \u001b[38;5;124m\"\u001b[39m\u001b[38;5;124mof keys) will be deprecated, use a list instead.\u001b[39m\u001b[38;5;124m\"\u001b[39m,\n\u001b[1;32m   1413\u001b[0m         \u001b[38;5;167;01mFutureWarning\u001b[39;00m,\n\u001b[1;32m   1414\u001b[0m         stacklevel\u001b[38;5;241m=\u001b[39mfind_stack_level(),\n\u001b[1;32m   1415\u001b[0m     )\n\u001b[0;32m-> 1416\u001b[0m \u001b[38;5;28;01mreturn\u001b[39;00m \u001b[38;5;28;43msuper\u001b[39;49m\u001b[43m(\u001b[49m\u001b[43m)\u001b[49m\u001b[38;5;241;43m.\u001b[39;49m\u001b[38;5;21;43m__getitem__\u001b[39;49m\u001b[43m(\u001b[49m\u001b[43mkey\u001b[49m\u001b[43m)\u001b[49m\n",
      "File \u001b[0;32m~/incels_identities/conda_env/lib/python3.10/site-packages/pandas/core/base.py:248\u001b[0m, in \u001b[0;36mSelectionMixin.__getitem__\u001b[0;34m(self, key)\u001b[0m\n\u001b[1;32m    246\u001b[0m \u001b[38;5;28;01melse\u001b[39;00m:\n\u001b[1;32m    247\u001b[0m     \u001b[38;5;28;01mif\u001b[39;00m key \u001b[38;5;129;01mnot\u001b[39;00m \u001b[38;5;129;01min\u001b[39;00m \u001b[38;5;28mself\u001b[39m\u001b[38;5;241m.\u001b[39mobj:\n\u001b[0;32m--> 248\u001b[0m         \u001b[38;5;28;01mraise\u001b[39;00m \u001b[38;5;167;01mKeyError\u001b[39;00m(\u001b[38;5;124mf\u001b[39m\u001b[38;5;124m\"\u001b[39m\u001b[38;5;124mColumn not found: \u001b[39m\u001b[38;5;132;01m{\u001b[39;00mkey\u001b[38;5;132;01m}\u001b[39;00m\u001b[38;5;124m\"\u001b[39m)\n\u001b[1;32m    249\u001b[0m     subset \u001b[38;5;241m=\u001b[39m \u001b[38;5;28mself\u001b[39m\u001b[38;5;241m.\u001b[39mobj[key]\n\u001b[1;32m    250\u001b[0m     ndim \u001b[38;5;241m=\u001b[39m subset\u001b[38;5;241m.\u001b[39mndim\n",
      "\u001b[0;31mKeyError\u001b[0m: 'Column not found: word_count'"
     ]
    }
   ],
   "source": [
    "# For white supremacist data\n",
    "\n",
    "from datetime import datetime, timezone\n",
    "\n",
    "# post_counts = data.groupby(pd.Grouper(key=date_col, freq='MS'))['content'].count()\n",
    "# data['word_count'] = data.content.str.split().str.len() # for incels data\n",
    "\n",
    "date_col = 'parsed_date' # for incels data\n",
    "# date_col = 'timestamp' # for white supremacist data, which has a lot of corpus composition changes during that period\n",
    "\n",
    "# Remove outliers (for white supremacist data)\n",
    "# data = data[data.timestamp >= datetime(2002, 1, 1, tzinfo=timezone.utc)]\n",
    "# exploded = exploded[exploded.timestamp >= datetime(2002, 1, 1, tzinfo=timezone.utc)]\n",
    "\n",
    "word_counts = data.groupby(pd.Grouper(key=date_col, freq='MS'))['word_count'].sum()\n",
    "word_counts\n",
    "\n",
    "# exploded = data.explode('netmapper_identity_matches').dropna(subset='netmapper_identity_matches')\n",
    "# counts_overtime = exploded.groupby([pd.Grouper(key=date_col, freq='MS'), 'netmapper_identity_matches']).size().to_frame(name='count').reset_index(names=[date_col, 'identity_term'])\n",
    "counts_overtime = exploded.groupby([pd.Grouper(key=date_col, freq='MS'), 'identity_group']).size().to_frame(name='term_count').reset_index(names=[date_col, 'identity_group'])\n",
    "counts_overtime\n",
    "\n",
    "counts_overtime = counts_overtime.join(word_counts, on=date_col).rename(columns={'content': 'word_count'})\n",
    "counts_overtime\n",
    "\n",
    "import numpy as np\n",
    "\n",
    "counts_overtime['mention_prob'] = counts_overtime['term_count'] / counts_overtime.word_count\n",
    "counts_overtime['log_prob'] = counts_overtime['mention_prob'].map(np.log10)\n",
    "counts_overtime.head()\n",
    "\n",
    "# Plot\n",
    "import plotly.express as px\n",
    "\n",
    "# Select only most popular identity groups\n",
    "filtered = counts_overtime[counts_overtime.identity_group.isin(gp_freq.identity_group.head(11))]\n",
    "\n",
    "# px.line(filtered, x=date_col, y='count', color='identity_term')\n",
    "px.line(filtered, x=date_col, y='log_prob', color='identity_group', height=500)\n",
    "# px.line(filtered, x=date_col, y='mention_prob', color='identity_group', log_y=True)"
   ]
  },
  {
   "cell_type": "markdown",
   "id": "1c6f5152-2d1d-497d-b83d-7d046ae591ff",
   "metadata": {},
   "source": [
    "## Look into specific time periods"
   ]
  },
  {
   "cell_type": "code",
   "execution_count": 27,
   "id": "0b03c5f2-8295-4864-bdd9-e1bc74eb4246",
   "metadata": {},
   "outputs": [
    {
     "name": "stdout",
     "output_type": "stream",
     "text": [
      "<class 'pandas.core.frame.DataFrame'>\n",
      "Int64Index: 468342 entries, 6426 to 6247022\n",
      "Data columns (total 9 columns):\n",
      " #   Column                      Non-Null Count   Dtype         \n",
      "---  ------                      --------------   -----         \n",
      " 0   type                        468342 non-null  object        \n",
      " 1   forum                       468342 non-null  object        \n",
      " 2   thread                      468342 non-null  object        \n",
      " 3   username                    468342 non-null  object        \n",
      " 4   date                        468342 non-null  object        \n",
      " 5   content                     461175 non-null  object        \n",
      " 6   parsed_date                 468342 non-null  datetime64[ns]\n",
      " 7   netmapper_identity_matches  277014 non-null  object        \n",
      " 8   identity_group              277014 non-null  object        \n",
      "dtypes: datetime64[ns](1), object(8)\n",
      "memory usage: 35.7+ MB\n",
      "2020-04-01 00:00:00\n",
      "2020-04-30 00:00:00\n"
     ]
    }
   ],
   "source": [
    "# April 2020 jump in women_girls_derogatory and black_people\n",
    "# Filter data to that month\n",
    "\n",
    "period = exploded[(exploded.parsed_date.dt.year == 2020) & (exploded.parsed_date.dt.month == 4)]\n",
    "period.info()\n",
    "print(period.parsed_date.min())\n",
    "print(period.parsed_date.max())"
   ]
  },
  {
   "cell_type": "code",
   "execution_count": 39,
   "id": "c4e86755-46f0-43c9-bdcf-3d682ea5c0fb",
   "metadata": {},
   "outputs": [
    {
     "name": "stdout",
     "output_type": "stream",
     "text": [
      "17608\n",
      "5979\n"
     ]
    },
    {
     "data": {
      "text/plain": [
       "4302754    2128\n",
       "4302327    2128\n",
       "4302067    2128\n",
       "4302518    2128\n",
       "5633249     385\n",
       "5632825     385\n",
       "4326208     124\n",
       "4326210     124\n",
       "5686516      61\n",
       "5687210      60\n",
       "4222121      42\n",
       "4222118      42\n",
       "4221607      39\n",
       "4254361      37\n",
       "3956420      27\n",
       "3956421      25\n",
       "4254362      24\n",
       "4254367      24\n",
       "4263912      17\n",
       "4276907      16\n",
       "dtype: int64"
      ]
     },
     "execution_count": 39,
     "metadata": {},
     "output_type": "execute_result"
    }
   ],
   "source": [
    "identity_group = 'black_people'\n",
    "# identity_group = 'women_girls_derogatory'\n",
    "selected = period[period.identity_group == identity_group]\n",
    "print(len(selected))\n",
    "print(len(selected.index.unique())) # index is unique to the post\n",
    "\n",
    "selected.index.value_counts().iloc[:20]"
   ]
  },
  {
   "cell_type": "code",
   "execution_count": null,
   "id": "c3be74a3-5559-4cef-a8e8-a721770f3f12",
   "metadata": {
    "scrolled": true,
    "tags": []
   },
   "outputs": [],
   "source": [
    "pd.set_option('display.max_colwidth', None)\n",
    "selected.loc[4302327].iloc[0]"
   ]
  },
  {
   "cell_type": "code",
   "execution_count": null,
   "id": "f2772d0d-555e-46cb-bf2e-adb50b802916",
   "metadata": {
    "scrolled": true,
    "tags": []
   },
   "outputs": [],
   "source": [
    "pd.set_option('display.max_colwidth', None)\n",
    "selected.loc[1045225].iloc[0]"
   ]
  },
  {
   "cell_type": "markdown",
   "id": "4e58cb7b-a086-483a-b4ec-a8aeecf0258a",
   "metadata": {
    "tags": []
   },
   "source": [
    "## Identity categories"
   ]
  },
  {
   "cell_type": "code",
   "execution_count": 25,
   "id": "972b0272-ea52-467c-b4b3-ca9125d4af83",
   "metadata": {},
   "outputs": [
    {
     "name": "stdout",
     "output_type": "stream",
     "text": [
      "433\n"
     ]
    },
    {
     "data": {
      "text/plain": [
       "gender/sexuality    4983067\n",
       "race/ethnicity       546530\n",
       "age                  298246\n",
       "religion             207057\n",
       "politics              69029\n",
       "disability             3426\n",
       "Name: identity_category, dtype: int64"
      ]
     },
     "execution_count": 25,
     "metadata": {},
     "output_type": "execute_result"
    }
   ],
   "source": [
    "import json\n",
    "\n",
    "identity_cats_fpath = '../resources/identity_categories.json'\n",
    "with open(identity_cats_fpath, 'r') as f:\n",
    "    identity_cats = json.load(f)\n",
    "print(len(identity_cats))\n",
    "\n",
    "exploded['identity_category'] = exploded.identity_group.map(identity_cats)\n",
    "cat_freq = exploded.identity_category.value_counts()\n",
    "cat_freq"
   ]
  },
  {
   "cell_type": "code",
   "execution_count": 26,
   "id": "b684b814-7e3b-47ce-a7f1-73a7d24d817a",
   "metadata": {},
   "outputs": [
    {
     "data": {
      "application/vnd.plotly.v1+json": {
       "config": {
        "plotlyServerURL": "https://plot.ly"
       },
       "data": [
        {
         "alignmentgroup": "True",
         "hovertemplate": "variable=identity_category<br>index=%{x}<br>value=%{y}<extra></extra>",
         "legendgroup": "identity_category",
         "marker": {
          "color": "#636efa",
          "pattern": {
           "shape": ""
          }
         },
         "name": "identity_category",
         "offsetgroup": "identity_category",
         "orientation": "v",
         "showlegend": true,
         "textposition": "auto",
         "type": "bar",
         "x": [
          "gender/sexuality",
          "race/ethnicity",
          "age",
          "religion",
          "politics",
          "disability"
         ],
         "xaxis": "x",
         "y": [
          4983067,
          546530,
          298246,
          207057,
          69029,
          3426
         ],
         "yaxis": "y"
        }
       ],
       "layout": {
        "autosize": true,
        "barmode": "relative",
        "legend": {
         "title": {
          "text": "variable"
         },
         "tracegroupgap": 0
        },
        "margin": {
         "t": 60
        },
        "template": {
         "data": {
          "bar": [
           {
            "error_x": {
             "color": "#2a3f5f"
            },
            "error_y": {
             "color": "#2a3f5f"
            },
            "marker": {
             "line": {
              "color": "#E5ECF6",
              "width": 0.5
             },
             "pattern": {
              "fillmode": "overlay",
              "size": 10,
              "solidity": 0.2
             }
            },
            "type": "bar"
           }
          ],
          "barpolar": [
           {
            "marker": {
             "line": {
              "color": "#E5ECF6",
              "width": 0.5
             },
             "pattern": {
              "fillmode": "overlay",
              "size": 10,
              "solidity": 0.2
             }
            },
            "type": "barpolar"
           }
          ],
          "carpet": [
           {
            "aaxis": {
             "endlinecolor": "#2a3f5f",
             "gridcolor": "white",
             "linecolor": "white",
             "minorgridcolor": "white",
             "startlinecolor": "#2a3f5f"
            },
            "baxis": {
             "endlinecolor": "#2a3f5f",
             "gridcolor": "white",
             "linecolor": "white",
             "minorgridcolor": "white",
             "startlinecolor": "#2a3f5f"
            },
            "type": "carpet"
           }
          ],
          "choropleth": [
           {
            "colorbar": {
             "outlinewidth": 0,
             "ticks": ""
            },
            "type": "choropleth"
           }
          ],
          "contour": [
           {
            "colorbar": {
             "outlinewidth": 0,
             "ticks": ""
            },
            "colorscale": [
             [
              0,
              "#0d0887"
             ],
             [
              0.1111111111111111,
              "#46039f"
             ],
             [
              0.2222222222222222,
              "#7201a8"
             ],
             [
              0.3333333333333333,
              "#9c179e"
             ],
             [
              0.4444444444444444,
              "#bd3786"
             ],
             [
              0.5555555555555556,
              "#d8576b"
             ],
             [
              0.6666666666666666,
              "#ed7953"
             ],
             [
              0.7777777777777778,
              "#fb9f3a"
             ],
             [
              0.8888888888888888,
              "#fdca26"
             ],
             [
              1,
              "#f0f921"
             ]
            ],
            "type": "contour"
           }
          ],
          "contourcarpet": [
           {
            "colorbar": {
             "outlinewidth": 0,
             "ticks": ""
            },
            "type": "contourcarpet"
           }
          ],
          "heatmap": [
           {
            "colorbar": {
             "outlinewidth": 0,
             "ticks": ""
            },
            "colorscale": [
             [
              0,
              "#0d0887"
             ],
             [
              0.1111111111111111,
              "#46039f"
             ],
             [
              0.2222222222222222,
              "#7201a8"
             ],
             [
              0.3333333333333333,
              "#9c179e"
             ],
             [
              0.4444444444444444,
              "#bd3786"
             ],
             [
              0.5555555555555556,
              "#d8576b"
             ],
             [
              0.6666666666666666,
              "#ed7953"
             ],
             [
              0.7777777777777778,
              "#fb9f3a"
             ],
             [
              0.8888888888888888,
              "#fdca26"
             ],
             [
              1,
              "#f0f921"
             ]
            ],
            "type": "heatmap"
           }
          ],
          "heatmapgl": [
           {
            "colorbar": {
             "outlinewidth": 0,
             "ticks": ""
            },
            "colorscale": [
             [
              0,
              "#0d0887"
             ],
             [
              0.1111111111111111,
              "#46039f"
             ],
             [
              0.2222222222222222,
              "#7201a8"
             ],
             [
              0.3333333333333333,
              "#9c179e"
             ],
             [
              0.4444444444444444,
              "#bd3786"
             ],
             [
              0.5555555555555556,
              "#d8576b"
             ],
             [
              0.6666666666666666,
              "#ed7953"
             ],
             [
              0.7777777777777778,
              "#fb9f3a"
             ],
             [
              0.8888888888888888,
              "#fdca26"
             ],
             [
              1,
              "#f0f921"
             ]
            ],
            "type": "heatmapgl"
           }
          ],
          "histogram": [
           {
            "marker": {
             "pattern": {
              "fillmode": "overlay",
              "size": 10,
              "solidity": 0.2
             }
            },
            "type": "histogram"
           }
          ],
          "histogram2d": [
           {
            "colorbar": {
             "outlinewidth": 0,
             "ticks": ""
            },
            "colorscale": [
             [
              0,
              "#0d0887"
             ],
             [
              0.1111111111111111,
              "#46039f"
             ],
             [
              0.2222222222222222,
              "#7201a8"
             ],
             [
              0.3333333333333333,
              "#9c179e"
             ],
             [
              0.4444444444444444,
              "#bd3786"
             ],
             [
              0.5555555555555556,
              "#d8576b"
             ],
             [
              0.6666666666666666,
              "#ed7953"
             ],
             [
              0.7777777777777778,
              "#fb9f3a"
             ],
             [
              0.8888888888888888,
              "#fdca26"
             ],
             [
              1,
              "#f0f921"
             ]
            ],
            "type": "histogram2d"
           }
          ],
          "histogram2dcontour": [
           {
            "colorbar": {
             "outlinewidth": 0,
             "ticks": ""
            },
            "colorscale": [
             [
              0,
              "#0d0887"
             ],
             [
              0.1111111111111111,
              "#46039f"
             ],
             [
              0.2222222222222222,
              "#7201a8"
             ],
             [
              0.3333333333333333,
              "#9c179e"
             ],
             [
              0.4444444444444444,
              "#bd3786"
             ],
             [
              0.5555555555555556,
              "#d8576b"
             ],
             [
              0.6666666666666666,
              "#ed7953"
             ],
             [
              0.7777777777777778,
              "#fb9f3a"
             ],
             [
              0.8888888888888888,
              "#fdca26"
             ],
             [
              1,
              "#f0f921"
             ]
            ],
            "type": "histogram2dcontour"
           }
          ],
          "mesh3d": [
           {
            "colorbar": {
             "outlinewidth": 0,
             "ticks": ""
            },
            "type": "mesh3d"
           }
          ],
          "parcoords": [
           {
            "line": {
             "colorbar": {
              "outlinewidth": 0,
              "ticks": ""
             }
            },
            "type": "parcoords"
           }
          ],
          "pie": [
           {
            "automargin": true,
            "type": "pie"
           }
          ],
          "scatter": [
           {
            "fillpattern": {
             "fillmode": "overlay",
             "size": 10,
             "solidity": 0.2
            },
            "type": "scatter"
           }
          ],
          "scatter3d": [
           {
            "line": {
             "colorbar": {
              "outlinewidth": 0,
              "ticks": ""
             }
            },
            "marker": {
             "colorbar": {
              "outlinewidth": 0,
              "ticks": ""
             }
            },
            "type": "scatter3d"
           }
          ],
          "scattercarpet": [
           {
            "marker": {
             "colorbar": {
              "outlinewidth": 0,
              "ticks": ""
             }
            },
            "type": "scattercarpet"
           }
          ],
          "scattergeo": [
           {
            "marker": {
             "colorbar": {
              "outlinewidth": 0,
              "ticks": ""
             }
            },
            "type": "scattergeo"
           }
          ],
          "scattergl": [
           {
            "marker": {
             "colorbar": {
              "outlinewidth": 0,
              "ticks": ""
             }
            },
            "type": "scattergl"
           }
          ],
          "scattermapbox": [
           {
            "marker": {
             "colorbar": {
              "outlinewidth": 0,
              "ticks": ""
             }
            },
            "type": "scattermapbox"
           }
          ],
          "scatterpolar": [
           {
            "marker": {
             "colorbar": {
              "outlinewidth": 0,
              "ticks": ""
             }
            },
            "type": "scatterpolar"
           }
          ],
          "scatterpolargl": [
           {
            "marker": {
             "colorbar": {
              "outlinewidth": 0,
              "ticks": ""
             }
            },
            "type": "scatterpolargl"
           }
          ],
          "scatterternary": [
           {
            "marker": {
             "colorbar": {
              "outlinewidth": 0,
              "ticks": ""
             }
            },
            "type": "scatterternary"
           }
          ],
          "surface": [
           {
            "colorbar": {
             "outlinewidth": 0,
             "ticks": ""
            },
            "colorscale": [
             [
              0,
              "#0d0887"
             ],
             [
              0.1111111111111111,
              "#46039f"
             ],
             [
              0.2222222222222222,
              "#7201a8"
             ],
             [
              0.3333333333333333,
              "#9c179e"
             ],
             [
              0.4444444444444444,
              "#bd3786"
             ],
             [
              0.5555555555555556,
              "#d8576b"
             ],
             [
              0.6666666666666666,
              "#ed7953"
             ],
             [
              0.7777777777777778,
              "#fb9f3a"
             ],
             [
              0.8888888888888888,
              "#fdca26"
             ],
             [
              1,
              "#f0f921"
             ]
            ],
            "type": "surface"
           }
          ],
          "table": [
           {
            "cells": {
             "fill": {
              "color": "#EBF0F8"
             },
             "line": {
              "color": "white"
             }
            },
            "header": {
             "fill": {
              "color": "#C8D4E3"
             },
             "line": {
              "color": "white"
             }
            },
            "type": "table"
           }
          ]
         },
         "layout": {
          "annotationdefaults": {
           "arrowcolor": "#2a3f5f",
           "arrowhead": 0,
           "arrowwidth": 1
          },
          "autotypenumbers": "strict",
          "coloraxis": {
           "colorbar": {
            "outlinewidth": 0,
            "ticks": ""
           }
          },
          "colorscale": {
           "diverging": [
            [
             0,
             "#8e0152"
            ],
            [
             0.1,
             "#c51b7d"
            ],
            [
             0.2,
             "#de77ae"
            ],
            [
             0.3,
             "#f1b6da"
            ],
            [
             0.4,
             "#fde0ef"
            ],
            [
             0.5,
             "#f7f7f7"
            ],
            [
             0.6,
             "#e6f5d0"
            ],
            [
             0.7,
             "#b8e186"
            ],
            [
             0.8,
             "#7fbc41"
            ],
            [
             0.9,
             "#4d9221"
            ],
            [
             1,
             "#276419"
            ]
           ],
           "sequential": [
            [
             0,
             "#0d0887"
            ],
            [
             0.1111111111111111,
             "#46039f"
            ],
            [
             0.2222222222222222,
             "#7201a8"
            ],
            [
             0.3333333333333333,
             "#9c179e"
            ],
            [
             0.4444444444444444,
             "#bd3786"
            ],
            [
             0.5555555555555556,
             "#d8576b"
            ],
            [
             0.6666666666666666,
             "#ed7953"
            ],
            [
             0.7777777777777778,
             "#fb9f3a"
            ],
            [
             0.8888888888888888,
             "#fdca26"
            ],
            [
             1,
             "#f0f921"
            ]
           ],
           "sequentialminus": [
            [
             0,
             "#0d0887"
            ],
            [
             0.1111111111111111,
             "#46039f"
            ],
            [
             0.2222222222222222,
             "#7201a8"
            ],
            [
             0.3333333333333333,
             "#9c179e"
            ],
            [
             0.4444444444444444,
             "#bd3786"
            ],
            [
             0.5555555555555556,
             "#d8576b"
            ],
            [
             0.6666666666666666,
             "#ed7953"
            ],
            [
             0.7777777777777778,
             "#fb9f3a"
            ],
            [
             0.8888888888888888,
             "#fdca26"
            ],
            [
             1,
             "#f0f921"
            ]
           ]
          },
          "colorway": [
           "#636efa",
           "#EF553B",
           "#00cc96",
           "#ab63fa",
           "#FFA15A",
           "#19d3f3",
           "#FF6692",
           "#B6E880",
           "#FF97FF",
           "#FECB52"
          ],
          "font": {
           "color": "#2a3f5f"
          },
          "geo": {
           "bgcolor": "white",
           "lakecolor": "white",
           "landcolor": "#E5ECF6",
           "showlakes": true,
           "showland": true,
           "subunitcolor": "white"
          },
          "hoverlabel": {
           "align": "left"
          },
          "hovermode": "closest",
          "mapbox": {
           "style": "light"
          },
          "paper_bgcolor": "white",
          "plot_bgcolor": "#E5ECF6",
          "polar": {
           "angularaxis": {
            "gridcolor": "white",
            "linecolor": "white",
            "ticks": ""
           },
           "bgcolor": "#E5ECF6",
           "radialaxis": {
            "gridcolor": "white",
            "linecolor": "white",
            "ticks": ""
           }
          },
          "scene": {
           "xaxis": {
            "backgroundcolor": "#E5ECF6",
            "gridcolor": "white",
            "gridwidth": 2,
            "linecolor": "white",
            "showbackground": true,
            "ticks": "",
            "zerolinecolor": "white"
           },
           "yaxis": {
            "backgroundcolor": "#E5ECF6",
            "gridcolor": "white",
            "gridwidth": 2,
            "linecolor": "white",
            "showbackground": true,
            "ticks": "",
            "zerolinecolor": "white"
           },
           "zaxis": {
            "backgroundcolor": "#E5ECF6",
            "gridcolor": "white",
            "gridwidth": 2,
            "linecolor": "white",
            "showbackground": true,
            "ticks": "",
            "zerolinecolor": "white"
           }
          },
          "shapedefaults": {
           "line": {
            "color": "#2a3f5f"
           }
          },
          "ternary": {
           "aaxis": {
            "gridcolor": "white",
            "linecolor": "white",
            "ticks": ""
           },
           "baxis": {
            "gridcolor": "white",
            "linecolor": "white",
            "ticks": ""
           },
           "bgcolor": "#E5ECF6",
           "caxis": {
            "gridcolor": "white",
            "linecolor": "white",
            "ticks": ""
           }
          },
          "title": {
           "x": 0.05
          },
          "xaxis": {
           "automargin": true,
           "gridcolor": "white",
           "linecolor": "white",
           "ticks": "",
           "title": {
            "standoff": 15
           },
           "zerolinecolor": "white",
           "zerolinewidth": 2
          },
          "yaxis": {
           "automargin": true,
           "gridcolor": "white",
           "linecolor": "white",
           "ticks": "",
           "title": {
            "standoff": 15
           },
           "zerolinecolor": "white",
           "zerolinewidth": 2
          }
         }
        },
        "xaxis": {
         "anchor": "y",
         "autorange": true,
         "domain": [
          0,
          1
         ],
         "range": [
          -0.5,
          5.5
         ],
         "title": {
          "text": "index"
         },
         "type": "category"
        },
        "yaxis": {
         "anchor": "x",
         "autorange": true,
         "domain": [
          0,
          1
         ],
         "range": [
          0,
          5245333.684210526
         ],
         "title": {
          "text": "value"
         },
         "type": "linear"
        }
       }
      },
      "image/png": "[encoded data removed]",
      "text/html": [
       "<div>                            <div id=\"cbec03d3-47b4-41b6-aa50-aabcf8fa047a\" class=\"plotly-graph-div\" style=\"height:525px; width:100%;\"></div>            <script type=\"text/javascript\">                require([\"plotly\"], function(Plotly) {                    window.PLOTLYENV=window.PLOTLYENV || {};                                    if (document.getElementById(\"cbec03d3-47b4-41b6-aa50-aabcf8fa047a\")) {                    Plotly.newPlot(                        \"cbec03d3-47b4-41b6-aa50-aabcf8fa047a\",                        [{\"alignmentgroup\":\"True\",\"hovertemplate\":\"variable=identity_category<br>index=%{x}<br>value=%{y}<extra></extra>\",\"legendgroup\":\"identity_category\",\"marker\":{\"color\":\"#636efa\",\"pattern\":{\"shape\":\"\"}},\"name\":\"identity_category\",\"offsetgroup\":\"identity_category\",\"orientation\":\"v\",\"showlegend\":true,\"textposition\":\"auto\",\"x\":[\"gender/sexuality\",\"race/ethnicity\",\"age\",\"religion\",\"politics\",\"disability\"],\"xaxis\":\"x\",\"y\":[4983067,546530,298246,207057,69029,3426],\"yaxis\":\"y\",\"type\":\"bar\"}],                        {\"template\":{\"data\":{\"histogram2dcontour\":[{\"type\":\"histogram2dcontour\",\"colorbar\":{\"outlinewidth\":0,\"ticks\":\"\"},\"colorscale\":[[0.0,\"#0d0887\"],[0.1111111111111111,\"#46039f\"],[0.2222222222222222,\"#7201a8\"],[0.3333333333333333,\"#9c179e\"],[0.4444444444444444,\"#bd3786\"],[0.5555555555555556,\"#d8576b\"],[0.6666666666666666,\"#ed7953\"],[0.7777777777777778,\"#fb9f3a\"],[0.8888888888888888,\"#fdca26\"],[1.0,\"#f0f921\"]]}],\"choropleth\":[{\"type\":\"choropleth\",\"colorbar\":{\"outlinewidth\":0,\"ticks\":\"\"}}],\"histogram2d\":[{\"type\":\"histogram2d\",\"colorbar\":{\"outlinewidth\":0,\"ticks\":\"\"},\"colorscale\":[[0.0,\"#0d0887\"],[0.1111111111111111,\"#46039f\"],[0.2222222222222222,\"#7201a8\"],[0.3333333333333333,\"#9c179e\"],[0.4444444444444444,\"#bd3786\"],[0.5555555555555556,\"#d8576b\"],[0.6666666666666666,\"#ed7953\"],[0.7777777777777778,\"#fb9f3a\"],[0.8888888888888888,\"#fdca26\"],[1.0,\"#f0f921\"]]}],\"heatmap\":[{\"type\":\"heatmap\",\"colorbar\":{\"outlinewidth\":0,\"ticks\":\"\"},\"colorscale\":[[0.0,\"#0d0887\"],[0.1111111111111111,\"#46039f\"],[0.2222222222222222,\"#7201a8\"],[0.3333333333333333,\"#9c179e\"],[0.4444444444444444,\"#bd3786\"],[0.5555555555555556,\"#d8576b\"],[0.6666666666666666,\"#ed7953\"],[0.7777777777777778,\"#fb9f3a\"],[0.8888888888888888,\"#fdca26\"],[1.0,\"#f0f921\"]]}],\"heatmapgl\":[{\"type\":\"heatmapgl\",\"colorbar\":{\"outlinewidth\":0,\"ticks\":\"\"},\"colorscale\":[[0.0,\"#0d0887\"],[0.1111111111111111,\"#46039f\"],[0.2222222222222222,\"#7201a8\"],[0.3333333333333333,\"#9c179e\"],[0.4444444444444444,\"#bd3786\"],[0.5555555555555556,\"#d8576b\"],[0.6666666666666666,\"#ed7953\"],[0.7777777777777778,\"#fb9f3a\"],[0.8888888888888888,\"#fdca26\"],[1.0,\"#f0f921\"]]}],\"contourcarpet\":[{\"type\":\"contourcarpet\",\"colorbar\":{\"outlinewidth\":0,\"ticks\":\"\"}}],\"contour\":[{\"type\":\"contour\",\"colorbar\":{\"outlinewidth\":0,\"ticks\":\"\"},\"colorscale\":[[0.0,\"#0d0887\"],[0.1111111111111111,\"#46039f\"],[0.2222222222222222,\"#7201a8\"],[0.3333333333333333,\"#9c179e\"],[0.4444444444444444,\"#bd3786\"],[0.5555555555555556,\"#d8576b\"],[0.6666666666666666,\"#ed7953\"],[0.7777777777777778,\"#fb9f3a\"],[0.8888888888888888,\"#fdca26\"],[1.0,\"#f0f921\"]]}],\"surface\":[{\"type\":\"surface\",\"colorbar\":{\"outlinewidth\":0,\"ticks\":\"\"},\"colorscale\":[[0.0,\"#0d0887\"],[0.1111111111111111,\"#46039f\"],[0.2222222222222222,\"#7201a8\"],[0.3333333333333333,\"#9c179e\"],[0.4444444444444444,\"#bd3786\"],[0.5555555555555556,\"#d8576b\"],[0.6666666666666666,\"#ed7953\"],[0.7777777777777778,\"#fb9f3a\"],[0.8888888888888888,\"#fdca26\"],[1.0,\"#f0f921\"]]}],\"mesh3d\":[{\"type\":\"mesh3d\",\"colorbar\":{\"outlinewidth\":0,\"ticks\":\"\"}}],\"scatter\":[{\"fillpattern\":{\"fillmode\":\"overlay\",\"size\":10,\"solidity\":0.2},\"type\":\"scatter\"}],\"parcoords\":[{\"type\":\"parcoords\",\"line\":{\"colorbar\":{\"outlinewidth\":0,\"ticks\":\"\"}}}],\"scatterpolargl\":[{\"type\":\"scatterpolargl\",\"marker\":{\"colorbar\":{\"outlinewidth\":0,\"ticks\":\"\"}}}],\"bar\":[{\"error_x\":{\"color\":\"#2a3f5f\"},\"error_y\":{\"color\":\"#2a3f5f\"},\"marker\":{\"line\":{\"color\":\"#E5ECF6\",\"width\":0.5},\"pattern\":{\"fillmode\":\"overlay\",\"size\":10,\"solidity\":0.2}},\"type\":\"bar\"}],\"scattergeo\":[{\"type\":\"scattergeo\",\"marker\":{\"colorbar\":{\"outlinewidth\":0,\"ticks\":\"\"}}}],\"scatterpolar\":[{\"type\":\"scatterpolar\",\"marker\":{\"colorbar\":{\"outlinewidth\":0,\"ticks\":\"\"}}}],\"histogram\":[{\"marker\":{\"pattern\":{\"fillmode\":\"overlay\",\"size\":10,\"solidity\":0.2}},\"type\":\"histogram\"}],\"scattergl\":[{\"type\":\"scattergl\",\"marker\":{\"colorbar\":{\"outlinewidth\":0,\"ticks\":\"\"}}}],\"scatter3d\":[{\"type\":\"scatter3d\",\"line\":{\"colorbar\":{\"outlinewidth\":0,\"ticks\":\"\"}},\"marker\":{\"colorbar\":{\"outlinewidth\":0,\"ticks\":\"\"}}}],\"scattermapbox\":[{\"type\":\"scattermapbox\",\"marker\":{\"colorbar\":{\"outlinewidth\":0,\"ticks\":\"\"}}}],\"scatterternary\":[{\"type\":\"scatterternary\",\"marker\":{\"colorbar\":{\"outlinewidth\":0,\"ticks\":\"\"}}}],\"scattercarpet\":[{\"type\":\"scattercarpet\",\"marker\":{\"colorbar\":{\"outlinewidth\":0,\"ticks\":\"\"}}}],\"carpet\":[{\"aaxis\":{\"endlinecolor\":\"#2a3f5f\",\"gridcolor\":\"white\",\"linecolor\":\"white\",\"minorgridcolor\":\"white\",\"startlinecolor\":\"#2a3f5f\"},\"baxis\":{\"endlinecolor\":\"#2a3f5f\",\"gridcolor\":\"white\",\"linecolor\":\"white\",\"minorgridcolor\":\"white\",\"startlinecolor\":\"#2a3f5f\"},\"type\":\"carpet\"}],\"table\":[{\"cells\":{\"fill\":{\"color\":\"#EBF0F8\"},\"line\":{\"color\":\"white\"}},\"header\":{\"fill\":{\"color\":\"#C8D4E3\"},\"line\":{\"color\":\"white\"}},\"type\":\"table\"}],\"barpolar\":[{\"marker\":{\"line\":{\"color\":\"#E5ECF6\",\"width\":0.5},\"pattern\":{\"fillmode\":\"overlay\",\"size\":10,\"solidity\":0.2}},\"type\":\"barpolar\"}],\"pie\":[{\"automargin\":true,\"type\":\"pie\"}]},\"layout\":{\"autotypenumbers\":\"strict\",\"colorway\":[\"#636efa\",\"#EF553B\",\"#00cc96\",\"#ab63fa\",\"#FFA15A\",\"#19d3f3\",\"#FF6692\",\"#B6E880\",\"#FF97FF\",\"#FECB52\"],\"font\":{\"color\":\"#2a3f5f\"},\"hovermode\":\"closest\",\"hoverlabel\":{\"align\":\"left\"},\"paper_bgcolor\":\"white\",\"plot_bgcolor\":\"#E5ECF6\",\"polar\":{\"bgcolor\":\"#E5ECF6\",\"angularaxis\":{\"gridcolor\":\"white\",\"linecolor\":\"white\",\"ticks\":\"\"},\"radialaxis\":{\"gridcolor\":\"white\",\"linecolor\":\"white\",\"ticks\":\"\"}},\"ternary\":{\"bgcolor\":\"#E5ECF6\",\"aaxis\":{\"gridcolor\":\"white\",\"linecolor\":\"white\",\"ticks\":\"\"},\"baxis\":{\"gridcolor\":\"white\",\"linecolor\":\"white\",\"ticks\":\"\"},\"caxis\":{\"gridcolor\":\"white\",\"linecolor\":\"white\",\"ticks\":\"\"}},\"coloraxis\":{\"colorbar\":{\"outlinewidth\":0,\"ticks\":\"\"}},\"colorscale\":{\"sequential\":[[0.0,\"#0d0887\"],[0.1111111111111111,\"#46039f\"],[0.2222222222222222,\"#7201a8\"],[0.3333333333333333,\"#9c179e\"],[0.4444444444444444,\"#bd3786\"],[0.5555555555555556,\"#d8576b\"],[0.6666666666666666,\"#ed7953\"],[0.7777777777777778,\"#fb9f3a\"],[0.8888888888888888,\"#fdca26\"],[1.0,\"#f0f921\"]],\"sequentialminus\":[[0.0,\"#0d0887\"],[0.1111111111111111,\"#46039f\"],[0.2222222222222222,\"#7201a8\"],[0.3333333333333333,\"#9c179e\"],[0.4444444444444444,\"#bd3786\"],[0.5555555555555556,\"#d8576b\"],[0.6666666666666666,\"#ed7953\"],[0.7777777777777778,\"#fb9f3a\"],[0.8888888888888888,\"#fdca26\"],[1.0,\"#f0f921\"]],\"diverging\":[[0,\"#8e0152\"],[0.1,\"#c51b7d\"],[0.2,\"#de77ae\"],[0.3,\"#f1b6da\"],[0.4,\"#fde0ef\"],[0.5,\"#f7f7f7\"],[0.6,\"#e6f5d0\"],[0.7,\"#b8e186\"],[0.8,\"#7fbc41\"],[0.9,\"#4d9221\"],[1,\"#276419\"]]},\"xaxis\":{\"gridcolor\":\"white\",\"linecolor\":\"white\",\"ticks\":\"\",\"title\":{\"standoff\":15},\"zerolinecolor\":\"white\",\"automargin\":true,\"zerolinewidth\":2},\"yaxis\":{\"gridcolor\":\"white\",\"linecolor\":\"white\",\"ticks\":\"\",\"title\":{\"standoff\":15},\"zerolinecolor\":\"white\",\"automargin\":true,\"zerolinewidth\":2},\"scene\":{\"xaxis\":{\"backgroundcolor\":\"#E5ECF6\",\"gridcolor\":\"white\",\"linecolor\":\"white\",\"showbackground\":true,\"ticks\":\"\",\"zerolinecolor\":\"white\",\"gridwidth\":2},\"yaxis\":{\"backgroundcolor\":\"#E5ECF6\",\"gridcolor\":\"white\",\"linecolor\":\"white\",\"showbackground\":true,\"ticks\":\"\",\"zerolinecolor\":\"white\",\"gridwidth\":2},\"zaxis\":{\"backgroundcolor\":\"#E5ECF6\",\"gridcolor\":\"white\",\"linecolor\":\"white\",\"showbackground\":true,\"ticks\":\"\",\"zerolinecolor\":\"white\",\"gridwidth\":2}},\"shapedefaults\":{\"line\":{\"color\":\"#2a3f5f\"}},\"annotationdefaults\":{\"arrowcolor\":\"#2a3f5f\",\"arrowhead\":0,\"arrowwidth\":1},\"geo\":{\"bgcolor\":\"white\",\"landcolor\":\"#E5ECF6\",\"subunitcolor\":\"white\",\"showland\":true,\"showlakes\":true,\"lakecolor\":\"white\"},\"title\":{\"x\":0.05},\"mapbox\":{\"style\":\"light\"}}},\"xaxis\":{\"anchor\":\"y\",\"domain\":[0.0,1.0],\"title\":{\"text\":\"index\"}},\"yaxis\":{\"anchor\":\"x\",\"domain\":[0.0,1.0],\"title\":{\"text\":\"value\"}},\"legend\":{\"title\":{\"text\":\"variable\"},\"tracegroupgap\":0},\"margin\":{\"t\":60},\"barmode\":\"relative\"},                        {\"responsive\": true}                    ).then(function(){\n",
       "                            \n",
       "var gd = document.getElementById('cbec03d3-47b4-41b6-aa50-aabcf8fa047a');\n",
       "var x = new MutationObserver(function (mutations, observer) {{\n",
       "        var display = window.getComputedStyle(gd).display;\n",
       "        if (!display || display === 'none') {{\n",
       "            console.log([gd, 'removed!']);\n",
       "            Plotly.purge(gd);\n",
       "            observer.disconnect();\n",
       "        }}\n",
       "}});\n",
       "\n",
       "// Listen for the removal of the full notebook cells\n",
       "var notebookContainer = gd.closest('#notebook-container');\n",
       "if (notebookContainer) {{\n",
       "    x.observe(notebookContainer, {childList: true});\n",
       "}}\n",
       "\n",
       "// Listen for the clearing of the current output cell\n",
       "var outputEl = gd.closest('.output');\n",
       "if (outputEl) {{\n",
       "    x.observe(outputEl, {childList: true});\n",
       "}}\n",
       "\n",
       "                        })                };                });            </script>        </div>"
      ]
     },
     "metadata": {},
     "output_type": "display_data"
    }
   ],
   "source": [
    "import plotly.express as px\n",
    "pd.options.plotting.backend = 'plotly'\n",
    "\n",
    "fig = px.bar(cat_freq)\n",
    "fig.show()"
   ]
  },
  {
   "cell_type": "code",
   "execution_count": 33,
   "id": "00f172d0-1177-4c85-8fac-22b8b468322c",
   "metadata": {},
   "outputs": [
    {
     "name": "stdout",
     "output_type": "stream",
     "text": [
      "race/ethnicity: ['black_people', 'asian_people', 'white_people']\n",
      "gender/sexuality: ['men_boys', 'women_girls', 'lgbtq_people']\n",
      "age: ['youth', 'boomers']\n",
      "disability: ['retard']\n",
      "religion: ['jews', 'muslims', 'christian', 'hindus', 'buddhists']\n",
      "politics: ['liberal', 'conservative']\n"
     ]
    }
   ],
   "source": [
    "from collections import defaultdict\n",
    "\n",
    "cat_vals = defaultdict(list)\n",
    "for key, val in identity_cats.items():\n",
    "    cat_vals[val].append(key)\n",
    "        \n",
    "for cat, terms in cat_vals.items():\n",
    "    print(f'{cat}: {terms}')"
   ]
  },
  {
   "cell_type": "markdown",
   "id": "1480d751-140b-4c1b-acd4-453f52480ef1",
   "metadata": {},
   "source": [
    "### Identity categories over time"
   ]
  },
  {
   "cell_type": "code",
   "execution_count": 27,
   "id": "11c5913a-840d-4411-bc10-dcd8a95ff568",
   "metadata": {
    "tags": []
   },
   "outputs": [
    {
     "data": {
      "application/vnd.plotly.v1+json": {
       "config": {
        "plotlyServerURL": "https://plot.ly"
       },
       "data": [
        {
         "hovertemplate": "identity_category=age<br>parsed_date=%{x}<br>log_prob=%{y}<extra></extra>",
         "legendgroup": "age",
         "line": {
          "color": "#636efa",
          "dash": "solid"
         },
         "marker": {
          "symbol": "circle"
         },
         "mode": "lines",
         "name": "age",
         "orientation": "v",
         "showlegend": true,
         "type": "scatter",
         "visible": "legendonly",
         "x": [
          "2017-11-01T00:00:00",
          "2017-12-01T00:00:00",
          "2018-01-01T00:00:00",
          "2018-02-01T00:00:00",
          "2018-03-01T00:00:00",
          "2018-04-01T00:00:00",
          "2018-05-01T00:00:00",
          "2018-06-01T00:00:00",
          "2018-07-01T00:00:00",
          "2018-08-01T00:00:00",
          "2018-09-01T00:00:00",
          "2018-10-01T00:00:00",
          "2018-11-01T00:00:00",
          "2018-12-01T00:00:00",
          "2019-01-01T00:00:00",
          "2019-02-01T00:00:00",
          "2019-03-01T00:00:00",
          "2019-04-01T00:00:00",
          "2019-05-01T00:00:00",
          "2019-06-01T00:00:00",
          "2019-07-01T00:00:00",
          "2019-08-01T00:00:00",
          "2019-09-01T00:00:00",
          "2019-10-01T00:00:00",
          "2019-11-01T00:00:00",
          "2019-12-01T00:00:00",
          "2020-01-01T00:00:00",
          "2020-02-01T00:00:00",
          "2020-03-01T00:00:00",
          "2020-04-01T00:00:00",
          "2020-05-01T00:00:00",
          "2020-06-01T00:00:00",
          "2020-07-01T00:00:00",
          "2020-08-01T00:00:00",
          "2020-09-01T00:00:00",
          "2020-10-01T00:00:00",
          "2020-11-01T00:00:00",
          "2020-12-01T00:00:00",
          "2021-01-01T00:00:00",
          "2021-02-01T00:00:00",
          "2021-03-01T00:00:00",
          "2021-04-01T00:00:00"
         ],
         "xaxis": "x",
         "y": [
          -3.0681654735782105,
          -3.030806066317851,
          -3.0151633378962908,
          -3.0376623146740465,
          -3.000878491366106,
          -3.001336253687332,
          -2.9751519047057693,
          -2.901479925018834,
          -2.927885110972056,
          -2.9076754504038567,
          -2.9399390503705614,
          -2.890990099314431,
          -2.875730352527155,
          -2.847066381070254,
          -2.8808634584210857,
          -2.897945259755728,
          -2.8582403219930215,
          -2.8944065815610442,
          -2.8463289145355746,
          -2.8927074326366253,
          -2.8938906343759707,
          -2.8869407189220193,
          -2.8016173803827145,
          -2.861257681753721,
          -2.816643683975776,
          -2.8865080824938847,
          -2.909748525545446,
          -2.865204459520642,
          -2.890621426197812,
          -2.9494369804843705,
          -2.8953498306396654,
          -2.9423142241996483,
          -2.844712388502126,
          -2.9964992615105293,
          -2.960818045131961,
          -2.9293144627549155,
          -3.0259275057786335,
          -2.898370415777554,
          -2.9335022590743733,
          -2.9250962264923706,
          -2.935298165184905,
          -2.9599324330390697
         ],
         "yaxis": "y"
        },
        {
         "hovertemplate": "identity_category=disability<br>parsed_date=%{x}<br>log_prob=%{y}<extra></extra>",
         "legendgroup": "disability",
         "line": {
          "color": "#EF553B",
          "dash": "solid"
         },
         "marker": {
          "symbol": "circle"
         },
         "mode": "lines",
         "name": "disability",
         "orientation": "v",
         "showlegend": true,
         "type": "scatter",
         "visible": "legendonly",
         "x": [
          "2017-11-01T00:00:00",
          "2017-12-01T00:00:00",
          "2018-01-01T00:00:00",
          "2018-02-01T00:00:00",
          "2018-03-01T00:00:00",
          "2018-04-01T00:00:00",
          "2018-05-01T00:00:00",
          "2018-06-01T00:00:00",
          "2018-07-01T00:00:00",
          "2018-08-01T00:00:00",
          "2018-09-01T00:00:00",
          "2018-10-01T00:00:00",
          "2018-11-01T00:00:00",
          "2018-12-01T00:00:00",
          "2019-01-01T00:00:00",
          "2019-02-01T00:00:00",
          "2019-03-01T00:00:00",
          "2019-04-01T00:00:00",
          "2019-05-01T00:00:00",
          "2019-06-01T00:00:00",
          "2019-07-01T00:00:00",
          "2019-08-01T00:00:00",
          "2019-09-01T00:00:00",
          "2019-10-01T00:00:00",
          "2019-11-01T00:00:00",
          "2019-12-01T00:00:00",
          "2020-01-01T00:00:00",
          "2020-02-01T00:00:00",
          "2020-03-01T00:00:00",
          "2020-04-01T00:00:00",
          "2020-05-01T00:00:00",
          "2020-06-01T00:00:00",
          "2020-07-01T00:00:00",
          "2020-08-01T00:00:00",
          "2020-09-01T00:00:00",
          "2020-10-01T00:00:00",
          "2020-11-01T00:00:00",
          "2020-12-01T00:00:00",
          "2021-01-01T00:00:00",
          "2021-02-01T00:00:00",
          "2021-03-01T00:00:00",
          "2021-04-01T00:00:00"
         ],
         "xaxis": "x",
         "y": [
          -5.013125479883671,
          -4.943018093070427,
          -4.814418773291412,
          -4.85932994384577,
          -4.740901423767408,
          -4.880580160791208,
          -4.909874739566781,
          -4.811291468927205,
          -4.90089294398735,
          -4.8085885181415255,
          -4.823271689658587,
          -4.773041842180834,
          -4.95886292697821,
          -4.631280414628783,
          -4.562232110930902,
          -4.69437351342159,
          -4.830834753439392,
          -4.827218450172676,
          -4.808807529589331,
          -4.848875863111989,
          -4.882376288483752,
          -4.989436791873069,
          -4.938949277770071,
          -4.854667975706078,
          -4.858897749984904,
          -4.945909197877448,
          -4.8417965594442665,
          -4.8772355469421775,
          -4.79781375304827,
          -4.797137254441614,
          -4.920028132842724,
          -4.994600675442393,
          -4.870564192848095,
          -4.961791053704024,
          -4.657994127998684,
          -4.931903058498283,
          -4.958886294040484,
          -4.890143255336682,
          -4.934803192094791,
          -5.031427827711844,
          -5.153964936680777,
          -5.1391968973780955
         ],
         "yaxis": "y"
        },
        {
         "hovertemplate": "identity_category=gender/sexuality<br>parsed_date=%{x}<br>log_prob=%{y}<extra></extra>",
         "legendgroup": "gender/sexuality",
         "line": {
          "color": "#00cc96",
          "dash": "solid"
         },
         "marker": {
          "symbol": "circle"
         },
         "mode": "lines",
         "name": "gender/sexuality",
         "orientation": "v",
         "showlegend": true,
         "type": "scatter",
         "visible": "legendonly",
         "x": [
          "2017-11-01T00:00:00",
          "2017-12-01T00:00:00",
          "2018-01-01T00:00:00",
          "2018-02-01T00:00:00",
          "2018-03-01T00:00:00",
          "2018-04-01T00:00:00",
          "2018-05-01T00:00:00",
          "2018-06-01T00:00:00",
          "2018-07-01T00:00:00",
          "2018-08-01T00:00:00",
          "2018-09-01T00:00:00",
          "2018-10-01T00:00:00",
          "2018-11-01T00:00:00",
          "2018-12-01T00:00:00",
          "2019-01-01T00:00:00",
          "2019-02-01T00:00:00",
          "2019-03-01T00:00:00",
          "2019-04-01T00:00:00",
          "2019-05-01T00:00:00",
          "2019-06-01T00:00:00",
          "2019-07-01T00:00:00",
          "2019-08-01T00:00:00",
          "2019-09-01T00:00:00",
          "2019-10-01T00:00:00",
          "2019-11-01T00:00:00",
          "2019-12-01T00:00:00",
          "2020-01-01T00:00:00",
          "2020-02-01T00:00:00",
          "2020-03-01T00:00:00",
          "2020-04-01T00:00:00",
          "2020-05-01T00:00:00",
          "2020-06-01T00:00:00",
          "2020-07-01T00:00:00",
          "2020-08-01T00:00:00",
          "2020-09-01T00:00:00",
          "2020-10-01T00:00:00",
          "2020-11-01T00:00:00",
          "2020-12-01T00:00:00",
          "2021-01-01T00:00:00",
          "2021-02-01T00:00:00",
          "2021-03-01T00:00:00",
          "2021-04-01T00:00:00"
         ],
         "xaxis": "x",
         "y": [
          -1.670066470036411,
          -1.694119909988244,
          -1.7158605006660135,
          -1.6992765027063634,
          -1.670240035778344,
          -1.6716492680338801,
          -1.6601520113249453,
          -1.665844783065534,
          -1.6750971329395477,
          -1.664893820957463,
          -1.6902339207610826,
          -1.681232255325653,
          -1.6656429860048174,
          -1.6574099541133729,
          -1.6457522129951345,
          -1.683881631035251,
          -1.6717536719277644,
          -1.664681198086275,
          -1.6767252600165936,
          -1.6771494094587573,
          -1.6830645258108143,
          -1.6667327116385604,
          -1.6822568454918834,
          -1.6716561888122938,
          -1.668141143900176,
          -1.6484457151067389,
          -1.6707782332622918,
          -1.6720220564441435,
          -1.7237460173239503,
          -1.7096691662984767,
          -1.7301197850103944,
          -1.754925887795612,
          -1.7224406306676656,
          -1.7969827503904148,
          -1.7543285023146287,
          -1.6965475514310173,
          -1.7344358097703876,
          -1.7121616629437488,
          -1.7273842752779793,
          -1.7082788976278025,
          -1.7290955453675083,
          -1.7079618321330452
         ],
         "yaxis": "y"
        },
        {
         "hovertemplate": "identity_category=politics<br>parsed_date=%{x}<br>log_prob=%{y}<extra></extra>",
         "legendgroup": "politics",
         "line": {
          "color": "#ab63fa",
          "dash": "solid"
         },
         "marker": {
          "symbol": "circle"
         },
         "mode": "lines",
         "name": "politics",
         "orientation": "v",
         "showlegend": true,
         "type": "scatter",
         "visible": true,
         "x": [
          "2017-11-01T00:00:00",
          "2017-12-01T00:00:00",
          "2018-01-01T00:00:00",
          "2018-02-01T00:00:00",
          "2018-03-01T00:00:00",
          "2018-04-01T00:00:00",
          "2018-05-01T00:00:00",
          "2018-06-01T00:00:00",
          "2018-07-01T00:00:00",
          "2018-08-01T00:00:00",
          "2018-09-01T00:00:00",
          "2018-10-01T00:00:00",
          "2018-11-01T00:00:00",
          "2018-12-01T00:00:00",
          "2019-01-01T00:00:00",
          "2019-02-01T00:00:00",
          "2019-03-01T00:00:00",
          "2019-04-01T00:00:00",
          "2019-05-01T00:00:00",
          "2019-06-01T00:00:00",
          "2019-07-01T00:00:00",
          "2019-08-01T00:00:00",
          "2019-09-01T00:00:00",
          "2019-10-01T00:00:00",
          "2019-11-01T00:00:00",
          "2019-12-01T00:00:00",
          "2020-01-01T00:00:00",
          "2020-02-01T00:00:00",
          "2020-03-01T00:00:00",
          "2020-04-01T00:00:00",
          "2020-05-01T00:00:00",
          "2020-06-01T00:00:00",
          "2020-07-01T00:00:00",
          "2020-08-01T00:00:00",
          "2020-09-01T00:00:00",
          "2020-10-01T00:00:00",
          "2020-11-01T00:00:00",
          "2020-12-01T00:00:00",
          "2021-01-01T00:00:00",
          "2021-02-01T00:00:00",
          "2021-03-01T00:00:00",
          "2021-04-01T00:00:00"
         ],
         "xaxis": "x",
         "y": [
          -3.7737048980515544,
          -3.698811014117281,
          -3.739728720132249,
          -3.80478447850105,
          -3.7799654466070503,
          -3.7450884399587547,
          -3.6132095493052505,
          -3.6447853861963706,
          -3.557957821239137,
          -3.473465076060819,
          -3.5985069778873413,
          -3.5237280883543654,
          -3.4688591117339382,
          -3.5300116386183196,
          -3.595594702488181,
          -3.471246620619361,
          -3.395774843720441,
          -3.474159454504685,
          -3.5001610420446854,
          -3.54451792409908,
          -3.5369891286978072,
          -3.5732503300355316,
          -3.607752927536027,
          -3.5598128871261125,
          -3.6461286582204666,
          -3.598439784555159,
          -3.6216322119984845,
          -3.588830560313167,
          -3.6580512401229455,
          -3.599429030617326,
          -3.563729048536529,
          -3.493662313651879,
          -3.4884613467597787,
          -3.627850956642424,
          -3.600333830126006,
          -3.499491538748102,
          -3.3407623711419214,
          -3.5065938382205952,
          -3.4122140730218558,
          -3.4962210381503454,
          -3.4237885125172958,
          -3.299718850003897
         ],
         "yaxis": "y"
        },
        {
         "hovertemplate": "identity_category=race/ethnicity<br>parsed_date=%{x}<br>log_prob=%{y}<extra></extra>",
         "legendgroup": "race/ethnicity",
         "line": {
          "color": "#FFA15A",
          "dash": "solid"
         },
         "marker": {
          "symbol": "circle"
         },
         "mode": "lines",
         "name": "race/ethnicity",
         "orientation": "v",
         "showlegend": true,
         "type": "scatter",
         "visible": "legendonly",
         "x": [
          "2017-11-01T00:00:00",
          "2017-12-01T00:00:00",
          "2018-01-01T00:00:00",
          "2018-02-01T00:00:00",
          "2018-03-01T00:00:00",
          "2018-04-01T00:00:00",
          "2018-05-01T00:00:00",
          "2018-06-01T00:00:00",
          "2018-07-01T00:00:00",
          "2018-08-01T00:00:00",
          "2018-09-01T00:00:00",
          "2018-10-01T00:00:00",
          "2018-11-01T00:00:00",
          "2018-12-01T00:00:00",
          "2019-01-01T00:00:00",
          "2019-02-01T00:00:00",
          "2019-03-01T00:00:00",
          "2019-04-01T00:00:00",
          "2019-05-01T00:00:00",
          "2019-06-01T00:00:00",
          "2019-07-01T00:00:00",
          "2019-08-01T00:00:00",
          "2019-09-01T00:00:00",
          "2019-10-01T00:00:00",
          "2019-11-01T00:00:00",
          "2019-12-01T00:00:00",
          "2020-01-01T00:00:00",
          "2020-02-01T00:00:00",
          "2020-03-01T00:00:00",
          "2020-04-01T00:00:00",
          "2020-05-01T00:00:00",
          "2020-06-01T00:00:00",
          "2020-07-01T00:00:00",
          "2020-08-01T00:00:00",
          "2020-09-01T00:00:00",
          "2020-10-01T00:00:00",
          "2020-11-01T00:00:00",
          "2020-12-01T00:00:00",
          "2021-01-01T00:00:00",
          "2021-02-01T00:00:00",
          "2021-03-01T00:00:00",
          "2021-04-01T00:00:00"
         ],
         "xaxis": "x",
         "y": [
          -2.7606639521141934,
          -2.8256217125975818,
          -2.8073456767585414,
          -2.7035921331766284,
          -2.6113639861116758,
          -2.6997516034372278,
          -2.553317765171714,
          -2.58190641281131,
          -2.6069423709651134,
          -2.6868098857973055,
          -2.6143779430937975,
          -2.668851164428944,
          -2.64133875345267,
          -2.679267542240608,
          -2.7215694947435116,
          -2.59589373762167,
          -2.6267495714150737,
          -2.683163423117304,
          -2.7315235000221576,
          -2.72487353880959,
          -2.7411628307528852,
          -2.6308444209288435,
          -2.717283427496028,
          -2.7362281740129135,
          -2.7904559692673403,
          -2.712188054792856,
          -2.697439997153087,
          -2.717925256692625,
          -2.6999718117551876,
          -2.6710170482753015,
          -2.67207990435714,
          -2.559609328755364,
          -2.6439029249444994,
          -2.643372467611512,
          -2.6091314533493395,
          -2.5645066192577546,
          -2.6197085965073064,
          -2.5574804118036316,
          -2.600930676246013,
          -2.612640956007245,
          -2.6110772943383656,
          -2.332949070182305
         ],
         "yaxis": "y"
        },
        {
         "hovertemplate": "identity_category=religion<br>parsed_date=%{x}<br>log_prob=%{y}<extra></extra>",
         "legendgroup": "religion",
         "line": {
          "color": "#19d3f3",
          "dash": "solid"
         },
         "marker": {
          "symbol": "circle"
         },
         "mode": "lines",
         "name": "religion",
         "orientation": "v",
         "showlegend": true,
         "type": "scatter",
         "visible": true,
         "x": [
          "2017-11-01T00:00:00",
          "2017-12-01T00:00:00",
          "2018-01-01T00:00:00",
          "2018-02-01T00:00:00",
          "2018-03-01T00:00:00",
          "2018-04-01T00:00:00",
          "2018-05-01T00:00:00",
          "2018-06-01T00:00:00",
          "2018-07-01T00:00:00",
          "2018-08-01T00:00:00",
          "2018-09-01T00:00:00",
          "2018-10-01T00:00:00",
          "2018-11-01T00:00:00",
          "2018-12-01T00:00:00",
          "2019-01-01T00:00:00",
          "2019-02-01T00:00:00",
          "2019-03-01T00:00:00",
          "2019-04-01T00:00:00",
          "2019-05-01T00:00:00",
          "2019-06-01T00:00:00",
          "2019-07-01T00:00:00",
          "2019-08-01T00:00:00",
          "2019-09-01T00:00:00",
          "2019-10-01T00:00:00",
          "2019-11-01T00:00:00",
          "2019-12-01T00:00:00",
          "2020-01-01T00:00:00",
          "2020-02-01T00:00:00",
          "2020-03-01T00:00:00",
          "2020-04-01T00:00:00",
          "2020-05-01T00:00:00",
          "2020-06-01T00:00:00",
          "2020-07-01T00:00:00",
          "2020-08-01T00:00:00",
          "2020-09-01T00:00:00",
          "2020-10-01T00:00:00",
          "2020-11-01T00:00:00",
          "2020-12-01T00:00:00",
          "2021-01-01T00:00:00",
          "2021-02-01T00:00:00",
          "2021-03-01T00:00:00",
          "2021-04-01T00:00:00"
         ],
         "xaxis": "x",
         "y": [
          -3.194218807085496,
          -3.235769378483765,
          -3.2558879737316264,
          -3.0488799771422164,
          -3.0842777969178754,
          -3.145728733901373,
          -3.1406615769709205,
          -3.1049287152769276,
          -3.109047422427652,
          -3.1685489987690447,
          -3.163505565434924,
          -3.1229360137307403,
          -3.03208912238725,
          -3.0502067843284353,
          -3.093448084170332,
          -3.1378171135053567,
          -2.974896461999729,
          -2.894099442593573,
          -3.0292110383315065,
          -2.9928444852971103,
          -2.9559774546232864,
          -2.9608655391805314,
          -3.0296185050079623,
          -3.0887803789885675,
          -3.24794404549696,
          -3.0938651116162452,
          -3.143855135479442,
          -3.1024316340727602,
          -3.1904580311903628,
          -3.071056756426635,
          -3.1371754077826997,
          -3.0763698369132784,
          -3.092344012302906,
          -3.1477419148331687,
          -3.160473631698031,
          -3.0741118579318294,
          -3.03980820166441,
          -3.0152965113279073,
          -3.0086323016561995,
          -2.94030688546183,
          -2.875154195476316,
          -2.8097990180170527
         ],
         "yaxis": "y"
        }
       ],
       "layout": {
        "autosize": true,
        "legend": {
         "title": {
          "text": "identity_category"
         },
         "tracegroupgap": 0
        },
        "margin": {
         "t": 60
        },
        "template": {
         "data": {
          "bar": [
           {
            "error_x": {
             "color": "#2a3f5f"
            },
            "error_y": {
             "color": "#2a3f5f"
            },
            "marker": {
             "line": {
              "color": "#E5ECF6",
              "width": 0.5
             },
             "pattern": {
              "fillmode": "overlay",
              "size": 10,
              "solidity": 0.2
             }
            },
            "type": "bar"
           }
          ],
          "barpolar": [
           {
            "marker": {
             "line": {
              "color": "#E5ECF6",
              "width": 0.5
             },
             "pattern": {
              "fillmode": "overlay",
              "size": 10,
              "solidity": 0.2
             }
            },
            "type": "barpolar"
           }
          ],
          "carpet": [
           {
            "aaxis": {
             "endlinecolor": "#2a3f5f",
             "gridcolor": "white",
             "linecolor": "white",
             "minorgridcolor": "white",
             "startlinecolor": "#2a3f5f"
            },
            "baxis": {
             "endlinecolor": "#2a3f5f",
             "gridcolor": "white",
             "linecolor": "white",
             "minorgridcolor": "white",
             "startlinecolor": "#2a3f5f"
            },
            "type": "carpet"
           }
          ],
          "choropleth": [
           {
            "colorbar": {
             "outlinewidth": 0,
             "ticks": ""
            },
            "type": "choropleth"
           }
          ],
          "contour": [
           {
            "colorbar": {
             "outlinewidth": 0,
             "ticks": ""
            },
            "colorscale": [
             [
              0,
              "#0d0887"
             ],
             [
              0.1111111111111111,
              "#46039f"
             ],
             [
              0.2222222222222222,
              "#7201a8"
             ],
             [
              0.3333333333333333,
              "#9c179e"
             ],
             [
              0.4444444444444444,
              "#bd3786"
             ],
             [
              0.5555555555555556,
              "#d8576b"
             ],
             [
              0.6666666666666666,
              "#ed7953"
             ],
             [
              0.7777777777777778,
              "#fb9f3a"
             ],
             [
              0.8888888888888888,
              "#fdca26"
             ],
             [
              1,
              "#f0f921"
             ]
            ],
            "type": "contour"
           }
          ],
          "contourcarpet": [
           {
            "colorbar": {
             "outlinewidth": 0,
             "ticks": ""
            },
            "type": "contourcarpet"
           }
          ],
          "heatmap": [
           {
            "colorbar": {
             "outlinewidth": 0,
             "ticks": ""
            },
            "colorscale": [
             [
              0,
              "#0d0887"
             ],
             [
              0.1111111111111111,
              "#46039f"
             ],
             [
              0.2222222222222222,
              "#7201a8"
             ],
             [
              0.3333333333333333,
              "#9c179e"
             ],
             [
              0.4444444444444444,
              "#bd3786"
             ],
             [
              0.5555555555555556,
              "#d8576b"
             ],
             [
              0.6666666666666666,
              "#ed7953"
             ],
             [
              0.7777777777777778,
              "#fb9f3a"
             ],
             [
              0.8888888888888888,
              "#fdca26"
             ],
             [
              1,
              "#f0f921"
             ]
            ],
            "type": "heatmap"
           }
          ],
          "heatmapgl": [
           {
            "colorbar": {
             "outlinewidth": 0,
             "ticks": ""
            },
            "colorscale": [
             [
              0,
              "#0d0887"
             ],
             [
              0.1111111111111111,
              "#46039f"
             ],
             [
              0.2222222222222222,
              "#7201a8"
             ],
             [
              0.3333333333333333,
              "#9c179e"
             ],
             [
              0.4444444444444444,
              "#bd3786"
             ],
             [
              0.5555555555555556,
              "#d8576b"
             ],
             [
              0.6666666666666666,
              "#ed7953"
             ],
             [
              0.7777777777777778,
              "#fb9f3a"
             ],
             [
              0.8888888888888888,
              "#fdca26"
             ],
             [
              1,
              "#f0f921"
             ]
            ],
            "type": "heatmapgl"
           }
          ],
          "histogram": [
           {
            "marker": {
             "pattern": {
              "fillmode": "overlay",
              "size": 10,
              "solidity": 0.2
             }
            },
            "type": "histogram"
           }
          ],
          "histogram2d": [
           {
            "colorbar": {
             "outlinewidth": 0,
             "ticks": ""
            },
            "colorscale": [
             [
              0,
              "#0d0887"
             ],
             [
              0.1111111111111111,
              "#46039f"
             ],
             [
              0.2222222222222222,
              "#7201a8"
             ],
             [
              0.3333333333333333,
              "#9c179e"
             ],
             [
              0.4444444444444444,
              "#bd3786"
             ],
             [
              0.5555555555555556,
              "#d8576b"
             ],
             [
              0.6666666666666666,
              "#ed7953"
             ],
             [
              0.7777777777777778,
              "#fb9f3a"
             ],
             [
              0.8888888888888888,
              "#fdca26"
             ],
             [
              1,
              "#f0f921"
             ]
            ],
            "type": "histogram2d"
           }
          ],
          "histogram2dcontour": [
           {
            "colorbar": {
             "outlinewidth": 0,
             "ticks": ""
            },
            "colorscale": [
             [
              0,
              "#0d0887"
             ],
             [
              0.1111111111111111,
              "#46039f"
             ],
             [
              0.2222222222222222,
              "#7201a8"
             ],
             [
              0.3333333333333333,
              "#9c179e"
             ],
             [
              0.4444444444444444,
              "#bd3786"
             ],
             [
              0.5555555555555556,
              "#d8576b"
             ],
             [
              0.6666666666666666,
              "#ed7953"
             ],
             [
              0.7777777777777778,
              "#fb9f3a"
             ],
             [
              0.8888888888888888,
              "#fdca26"
             ],
             [
              1,
              "#f0f921"
             ]
            ],
            "type": "histogram2dcontour"
           }
          ],
          "mesh3d": [
           {
            "colorbar": {
             "outlinewidth": 0,
             "ticks": ""
            },
            "type": "mesh3d"
           }
          ],
          "parcoords": [
           {
            "line": {
             "colorbar": {
              "outlinewidth": 0,
              "ticks": ""
             }
            },
            "type": "parcoords"
           }
          ],
          "pie": [
           {
            "automargin": true,
            "type": "pie"
           }
          ],
          "scatter": [
           {
            "fillpattern": {
             "fillmode": "overlay",
             "size": 10,
             "solidity": 0.2
            },
            "type": "scatter"
           }
          ],
          "scatter3d": [
           {
            "line": {
             "colorbar": {
              "outlinewidth": 0,
              "ticks": ""
             }
            },
            "marker": {
             "colorbar": {
              "outlinewidth": 0,
              "ticks": ""
             }
            },
            "type": "scatter3d"
           }
          ],
          "scattercarpet": [
           {
            "marker": {
             "colorbar": {
              "outlinewidth": 0,
              "ticks": ""
             }
            },
            "type": "scattercarpet"
           }
          ],
          "scattergeo": [
           {
            "marker": {
             "colorbar": {
              "outlinewidth": 0,
              "ticks": ""
             }
            },
            "type": "scattergeo"
           }
          ],
          "scattergl": [
           {
            "marker": {
             "colorbar": {
              "outlinewidth": 0,
              "ticks": ""
             }
            },
            "type": "scattergl"
           }
          ],
          "scattermapbox": [
           {
            "marker": {
             "colorbar": {
              "outlinewidth": 0,
              "ticks": ""
             }
            },
            "type": "scattermapbox"
           }
          ],
          "scatterpolar": [
           {
            "marker": {
             "colorbar": {
              "outlinewidth": 0,
              "ticks": ""
             }
            },
            "type": "scatterpolar"
           }
          ],
          "scatterpolargl": [
           {
            "marker": {
             "colorbar": {
              "outlinewidth": 0,
              "ticks": ""
             }
            },
            "type": "scatterpolargl"
           }
          ],
          "scatterternary": [
           {
            "marker": {
             "colorbar": {
              "outlinewidth": 0,
              "ticks": ""
             }
            },
            "type": "scatterternary"
           }
          ],
          "surface": [
           {
            "colorbar": {
             "outlinewidth": 0,
             "ticks": ""
            },
            "colorscale": [
             [
              0,
              "#0d0887"
             ],
             [
              0.1111111111111111,
              "#46039f"
             ],
             [
              0.2222222222222222,
              "#7201a8"
             ],
             [
              0.3333333333333333,
              "#9c179e"
             ],
             [
              0.4444444444444444,
              "#bd3786"
             ],
             [
              0.5555555555555556,
              "#d8576b"
             ],
             [
              0.6666666666666666,
              "#ed7953"
             ],
             [
              0.7777777777777778,
              "#fb9f3a"
             ],
             [
              0.8888888888888888,
              "#fdca26"
             ],
             [
              1,
              "#f0f921"
             ]
            ],
            "type": "surface"
           }
          ],
          "table": [
           {
            "cells": {
             "fill": {
              "color": "#EBF0F8"
             },
             "line": {
              "color": "white"
             }
            },
            "header": {
             "fill": {
              "color": "#C8D4E3"
             },
             "line": {
              "color": "white"
             }
            },
            "type": "table"
           }
          ]
         },
         "layout": {
          "annotationdefaults": {
           "arrowcolor": "#2a3f5f",
           "arrowhead": 0,
           "arrowwidth": 1
          },
          "autotypenumbers": "strict",
          "coloraxis": {
           "colorbar": {
            "outlinewidth": 0,
            "ticks": ""
           }
          },
          "colorscale": {
           "diverging": [
            [
             0,
             "#8e0152"
            ],
            [
             0.1,
             "#c51b7d"
            ],
            [
             0.2,
             "#de77ae"
            ],
            [
             0.3,
             "#f1b6da"
            ],
            [
             0.4,
             "#fde0ef"
            ],
            [
             0.5,
             "#f7f7f7"
            ],
            [
             0.6,
             "#e6f5d0"
            ],
            [
             0.7,
             "#b8e186"
            ],
            [
             0.8,
             "#7fbc41"
            ],
            [
             0.9,
             "#4d9221"
            ],
            [
             1,
             "#276419"
            ]
           ],
           "sequential": [
            [
             0,
             "#0d0887"
            ],
            [
             0.1111111111111111,
             "#46039f"
            ],
            [
             0.2222222222222222,
             "#7201a8"
            ],
            [
             0.3333333333333333,
             "#9c179e"
            ],
            [
             0.4444444444444444,
             "#bd3786"
            ],
            [
             0.5555555555555556,
             "#d8576b"
            ],
            [
             0.6666666666666666,
             "#ed7953"
            ],
            [
             0.7777777777777778,
             "#fb9f3a"
            ],
            [
             0.8888888888888888,
             "#fdca26"
            ],
            [
             1,
             "#f0f921"
            ]
           ],
           "sequentialminus": [
            [
             0,
             "#0d0887"
            ],
            [
             0.1111111111111111,
             "#46039f"
            ],
            [
             0.2222222222222222,
             "#7201a8"
            ],
            [
             0.3333333333333333,
             "#9c179e"
            ],
            [
             0.4444444444444444,
             "#bd3786"
            ],
            [
             0.5555555555555556,
             "#d8576b"
            ],
            [
             0.6666666666666666,
             "#ed7953"
            ],
            [
             0.7777777777777778,
             "#fb9f3a"
            ],
            [
             0.8888888888888888,
             "#fdca26"
            ],
            [
             1,
             "#f0f921"
            ]
           ]
          },
          "colorway": [
           "#636efa",
           "#EF553B",
           "#00cc96",
           "#ab63fa",
           "#FFA15A",
           "#19d3f3",
           "#FF6692",
           "#B6E880",
           "#FF97FF",
           "#FECB52"
          ],
          "font": {
           "color": "#2a3f5f"
          },
          "geo": {
           "bgcolor": "white",
           "lakecolor": "white",
           "landcolor": "#E5ECF6",
           "showlakes": true,
           "showland": true,
           "subunitcolor": "white"
          },
          "hoverlabel": {
           "align": "left"
          },
          "hovermode": "closest",
          "mapbox": {
           "style": "light"
          },
          "paper_bgcolor": "white",
          "plot_bgcolor": "#E5ECF6",
          "polar": {
           "angularaxis": {
            "gridcolor": "white",
            "linecolor": "white",
            "ticks": ""
           },
           "bgcolor": "#E5ECF6",
           "radialaxis": {
            "gridcolor": "white",
            "linecolor": "white",
            "ticks": ""
           }
          },
          "scene": {
           "xaxis": {
            "backgroundcolor": "#E5ECF6",
            "gridcolor": "white",
            "gridwidth": 2,
            "linecolor": "white",
            "showbackground": true,
            "ticks": "",
            "zerolinecolor": "white"
           },
           "yaxis": {
            "backgroundcolor": "#E5ECF6",
            "gridcolor": "white",
            "gridwidth": 2,
            "linecolor": "white",
            "showbackground": true,
            "ticks": "",
            "zerolinecolor": "white"
           },
           "zaxis": {
            "backgroundcolor": "#E5ECF6",
            "gridcolor": "white",
            "gridwidth": 2,
            "linecolor": "white",
            "showbackground": true,
            "ticks": "",
            "zerolinecolor": "white"
           }
          },
          "shapedefaults": {
           "line": {
            "color": "#2a3f5f"
           }
          },
          "ternary": {
           "aaxis": {
            "gridcolor": "white",
            "linecolor": "white",
            "ticks": ""
           },
           "baxis": {
            "gridcolor": "white",
            "linecolor": "white",
            "ticks": ""
           },
           "bgcolor": "#E5ECF6",
           "caxis": {
            "gridcolor": "white",
            "linecolor": "white",
            "ticks": ""
           }
          },
          "title": {
           "x": 0.05
          },
          "xaxis": {
           "automargin": true,
           "gridcolor": "white",
           "linecolor": "white",
           "ticks": "",
           "title": {
            "standoff": 15
           },
           "zerolinecolor": "white",
           "zerolinewidth": 2
          },
          "yaxis": {
           "automargin": true,
           "gridcolor": "white",
           "linecolor": "white",
           "ticks": "",
           "title": {
            "standoff": 15
           },
           "zerolinecolor": "white",
           "zerolinewidth": 2
          }
         }
        },
        "xaxis": {
         "anchor": "y",
         "autorange": true,
         "domain": [
          0,
          1
         ],
         "range": [
          "2017-11-01",
          "2021-04-01"
         ],
         "title": {
          "text": "parsed_date"
         },
         "type": "date"
        },
        "yaxis": {
         "anchor": "x",
         "autorange": true,
         "domain": [
          0,
          1
         ],
         "range": [
          -3.8600614485279388,
          -2.754522047990164
         ],
         "title": {
          "text": "log_prob"
         },
         "type": "linear"
        }
       }
      },
      "image/png": "[encoded data removed]",
      "text/html": [
       "<div>                            <div id=\"d8dfb971-5637-41f7-a136-3e582871f3cd\" class=\"plotly-graph-div\" style=\"height:400px; width:100%;\"></div>            <script type=\"text/javascript\">                require([\"plotly\"], function(Plotly) {                    window.PLOTLYENV=window.PLOTLYENV || {};                                    if (document.getElementById(\"d8dfb971-5637-41f7-a136-3e582871f3cd\")) {                    Plotly.newPlot(                        \"d8dfb971-5637-41f7-a136-3e582871f3cd\",                        [{\"hovertemplate\":\"identity_category=age<br>parsed_date=%{x}<br>log_prob=%{y}<extra></extra>\",\"legendgroup\":\"age\",\"line\":{\"color\":\"#636efa\",\"dash\":\"solid\"},\"marker\":{\"symbol\":\"circle\"},\"mode\":\"lines\",\"name\":\"age\",\"orientation\":\"v\",\"showlegend\":true,\"x\":[\"2017-11-01T00:00:00\",\"2017-12-01T00:00:00\",\"2018-01-01T00:00:00\",\"2018-02-01T00:00:00\",\"2018-03-01T00:00:00\",\"2018-04-01T00:00:00\",\"2018-05-01T00:00:00\",\"2018-06-01T00:00:00\",\"2018-07-01T00:00:00\",\"2018-08-01T00:00:00\",\"2018-09-01T00:00:00\",\"2018-10-01T00:00:00\",\"2018-11-01T00:00:00\",\"2018-12-01T00:00:00\",\"2019-01-01T00:00:00\",\"2019-02-01T00:00:00\",\"2019-03-01T00:00:00\",\"2019-04-01T00:00:00\",\"2019-05-01T00:00:00\",\"2019-06-01T00:00:00\",\"2019-07-01T00:00:00\",\"2019-08-01T00:00:00\",\"2019-09-01T00:00:00\",\"2019-10-01T00:00:00\",\"2019-11-01T00:00:00\",\"2019-12-01T00:00:00\",\"2020-01-01T00:00:00\",\"2020-02-01T00:00:00\",\"2020-03-01T00:00:00\",\"2020-04-01T00:00:00\",\"2020-05-01T00:00:00\",\"2020-06-01T00:00:00\",\"2020-07-01T00:00:00\",\"2020-08-01T00:00:00\",\"2020-09-01T00:00:00\",\"2020-10-01T00:00:00\",\"2020-11-01T00:00:00\",\"2020-12-01T00:00:00\",\"2021-01-01T00:00:00\",\"2021-02-01T00:00:00\",\"2021-03-01T00:00:00\",\"2021-04-01T00:00:00\"],\"xaxis\":\"x\",\"y\":[-3.0681654735782105,-3.030806066317851,-3.0151633378962908,-3.0376623146740465,-3.000878491366106,-3.001336253687332,-2.9751519047057693,-2.901479925018834,-2.927885110972056,-2.9076754504038567,-2.9399390503705614,-2.890990099314431,-2.875730352527155,-2.847066381070254,-2.8808634584210857,-2.897945259755728,-2.8582403219930215,-2.8944065815610442,-2.8463289145355746,-2.8927074326366253,-2.8938906343759707,-2.8869407189220193,-2.8016173803827145,-2.861257681753721,-2.816643683975776,-2.8865080824938847,-2.909748525545446,-2.865204459520642,-2.890621426197812,-2.9494369804843705,-2.8953498306396654,-2.9423142241996483,-2.844712388502126,-2.9964992615105293,-2.960818045131961,-2.9293144627549155,-3.0259275057786335,-2.898370415777554,-2.9335022590743733,-2.9250962264923706,-2.935298165184905,-2.9599324330390697],\"yaxis\":\"y\",\"type\":\"scatter\"},{\"hovertemplate\":\"identity_category=disability<br>parsed_date=%{x}<br>log_prob=%{y}<extra></extra>\",\"legendgroup\":\"disability\",\"line\":{\"color\":\"#EF553B\",\"dash\":\"solid\"},\"marker\":{\"symbol\":\"circle\"},\"mode\":\"lines\",\"name\":\"disability\",\"orientation\":\"v\",\"showlegend\":true,\"x\":[\"2017-11-01T00:00:00\",\"2017-12-01T00:00:00\",\"2018-01-01T00:00:00\",\"2018-02-01T00:00:00\",\"2018-03-01T00:00:00\",\"2018-04-01T00:00:00\",\"2018-05-01T00:00:00\",\"2018-06-01T00:00:00\",\"2018-07-01T00:00:00\",\"2018-08-01T00:00:00\",\"2018-09-01T00:00:00\",\"2018-10-01T00:00:00\",\"2018-11-01T00:00:00\",\"2018-12-01T00:00:00\",\"2019-01-01T00:00:00\",\"2019-02-01T00:00:00\",\"2019-03-01T00:00:00\",\"2019-04-01T00:00:00\",\"2019-05-01T00:00:00\",\"2019-06-01T00:00:00\",\"2019-07-01T00:00:00\",\"2019-08-01T00:00:00\",\"2019-09-01T00:00:00\",\"2019-10-01T00:00:00\",\"2019-11-01T00:00:00\",\"2019-12-01T00:00:00\",\"2020-01-01T00:00:00\",\"2020-02-01T00:00:00\",\"2020-03-01T00:00:00\",\"2020-04-01T00:00:00\",\"2020-05-01T00:00:00\",\"2020-06-01T00:00:00\",\"2020-07-01T00:00:00\",\"2020-08-01T00:00:00\",\"2020-09-01T00:00:00\",\"2020-10-01T00:00:00\",\"2020-11-01T00:00:00\",\"2020-12-01T00:00:00\",\"2021-01-01T00:00:00\",\"2021-02-01T00:00:00\",\"2021-03-01T00:00:00\",\"2021-04-01T00:00:00\"],\"xaxis\":\"x\",\"y\":[-5.013125479883671,-4.943018093070427,-4.814418773291412,-4.85932994384577,-4.740901423767408,-4.880580160791208,-4.909874739566781,-4.811291468927205,-4.90089294398735,-4.8085885181415255,-4.823271689658587,-4.773041842180834,-4.95886292697821,-4.631280414628783,-4.562232110930902,-4.69437351342159,-4.830834753439392,-4.827218450172676,-4.808807529589331,-4.848875863111989,-4.882376288483752,-4.989436791873069,-4.938949277770071,-4.854667975706078,-4.858897749984904,-4.945909197877448,-4.8417965594442665,-4.8772355469421775,-4.79781375304827,-4.797137254441614,-4.920028132842724,-4.994600675442393,-4.870564192848095,-4.961791053704024,-4.657994127998684,-4.931903058498283,-4.958886294040484,-4.890143255336682,-4.934803192094791,-5.031427827711844,-5.153964936680777,-5.1391968973780955],\"yaxis\":\"y\",\"type\":\"scatter\"},{\"hovertemplate\":\"identity_category=gender/sexuality<br>parsed_date=%{x}<br>log_prob=%{y}<extra></extra>\",\"legendgroup\":\"gender/sexuality\",\"line\":{\"color\":\"#00cc96\",\"dash\":\"solid\"},\"marker\":{\"symbol\":\"circle\"},\"mode\":\"lines\",\"name\":\"gender/sexuality\",\"orientation\":\"v\",\"showlegend\":true,\"x\":[\"2017-11-01T00:00:00\",\"2017-12-01T00:00:00\",\"2018-01-01T00:00:00\",\"2018-02-01T00:00:00\",\"2018-03-01T00:00:00\",\"2018-04-01T00:00:00\",\"2018-05-01T00:00:00\",\"2018-06-01T00:00:00\",\"2018-07-01T00:00:00\",\"2018-08-01T00:00:00\",\"2018-09-01T00:00:00\",\"2018-10-01T00:00:00\",\"2018-11-01T00:00:00\",\"2018-12-01T00:00:00\",\"2019-01-01T00:00:00\",\"2019-02-01T00:00:00\",\"2019-03-01T00:00:00\",\"2019-04-01T00:00:00\",\"2019-05-01T00:00:00\",\"2019-06-01T00:00:00\",\"2019-07-01T00:00:00\",\"2019-08-01T00:00:00\",\"2019-09-01T00:00:00\",\"2019-10-01T00:00:00\",\"2019-11-01T00:00:00\",\"2019-12-01T00:00:00\",\"2020-01-01T00:00:00\",\"2020-02-01T00:00:00\",\"2020-03-01T00:00:00\",\"2020-04-01T00:00:00\",\"2020-05-01T00:00:00\",\"2020-06-01T00:00:00\",\"2020-07-01T00:00:00\",\"2020-08-01T00:00:00\",\"2020-09-01T00:00:00\",\"2020-10-01T00:00:00\",\"2020-11-01T00:00:00\",\"2020-12-01T00:00:00\",\"2021-01-01T00:00:00\",\"2021-02-01T00:00:00\",\"2021-03-01T00:00:00\",\"2021-04-01T00:00:00\"],\"xaxis\":\"x\",\"y\":[-1.670066470036411,-1.694119909988244,-1.7158605006660135,-1.6992765027063634,-1.670240035778344,-1.6716492680338801,-1.6601520113249453,-1.665844783065534,-1.6750971329395477,-1.664893820957463,-1.6902339207610826,-1.681232255325653,-1.6656429860048174,-1.6574099541133729,-1.6457522129951345,-1.683881631035251,-1.6717536719277644,-1.664681198086275,-1.6767252600165936,-1.6771494094587573,-1.6830645258108143,-1.6667327116385604,-1.6822568454918834,-1.6716561888122938,-1.668141143900176,-1.6484457151067389,-1.6707782332622918,-1.6720220564441435,-1.7237460173239503,-1.7096691662984767,-1.7301197850103944,-1.754925887795612,-1.7224406306676656,-1.7969827503904148,-1.7543285023146287,-1.6965475514310173,-1.7344358097703876,-1.7121616629437488,-1.7273842752779793,-1.7082788976278025,-1.7290955453675083,-1.7079618321330452],\"yaxis\":\"y\",\"type\":\"scatter\"},{\"hovertemplate\":\"identity_category=politics<br>parsed_date=%{x}<br>log_prob=%{y}<extra></extra>\",\"legendgroup\":\"politics\",\"line\":{\"color\":\"#ab63fa\",\"dash\":\"solid\"},\"marker\":{\"symbol\":\"circle\"},\"mode\":\"lines\",\"name\":\"politics\",\"orientation\":\"v\",\"showlegend\":true,\"x\":[\"2017-11-01T00:00:00\",\"2017-12-01T00:00:00\",\"2018-01-01T00:00:00\",\"2018-02-01T00:00:00\",\"2018-03-01T00:00:00\",\"2018-04-01T00:00:00\",\"2018-05-01T00:00:00\",\"2018-06-01T00:00:00\",\"2018-07-01T00:00:00\",\"2018-08-01T00:00:00\",\"2018-09-01T00:00:00\",\"2018-10-01T00:00:00\",\"2018-11-01T00:00:00\",\"2018-12-01T00:00:00\",\"2019-01-01T00:00:00\",\"2019-02-01T00:00:00\",\"2019-03-01T00:00:00\",\"2019-04-01T00:00:00\",\"2019-05-01T00:00:00\",\"2019-06-01T00:00:00\",\"2019-07-01T00:00:00\",\"2019-08-01T00:00:00\",\"2019-09-01T00:00:00\",\"2019-10-01T00:00:00\",\"2019-11-01T00:00:00\",\"2019-12-01T00:00:00\",\"2020-01-01T00:00:00\",\"2020-02-01T00:00:00\",\"2020-03-01T00:00:00\",\"2020-04-01T00:00:00\",\"2020-05-01T00:00:00\",\"2020-06-01T00:00:00\",\"2020-07-01T00:00:00\",\"2020-08-01T00:00:00\",\"2020-09-01T00:00:00\",\"2020-10-01T00:00:00\",\"2020-11-01T00:00:00\",\"2020-12-01T00:00:00\",\"2021-01-01T00:00:00\",\"2021-02-01T00:00:00\",\"2021-03-01T00:00:00\",\"2021-04-01T00:00:00\"],\"xaxis\":\"x\",\"y\":[-3.7737048980515544,-3.698811014117281,-3.739728720132249,-3.80478447850105,-3.7799654466070503,-3.7450884399587547,-3.6132095493052505,-3.6447853861963706,-3.557957821239137,-3.473465076060819,-3.5985069778873413,-3.5237280883543654,-3.4688591117339382,-3.5300116386183196,-3.595594702488181,-3.471246620619361,-3.395774843720441,-3.474159454504685,-3.5001610420446854,-3.54451792409908,-3.5369891286978072,-3.5732503300355316,-3.607752927536027,-3.5598128871261125,-3.6461286582204666,-3.598439784555159,-3.6216322119984845,-3.588830560313167,-3.6580512401229455,-3.599429030617326,-3.563729048536529,-3.493662313651879,-3.4884613467597787,-3.627850956642424,-3.600333830126006,-3.499491538748102,-3.3407623711419214,-3.5065938382205952,-3.4122140730218558,-3.4962210381503454,-3.4237885125172958,-3.299718850003897],\"yaxis\":\"y\",\"type\":\"scatter\"},{\"hovertemplate\":\"identity_category=race/ethnicity<br>parsed_date=%{x}<br>log_prob=%{y}<extra></extra>\",\"legendgroup\":\"race/ethnicity\",\"line\":{\"color\":\"#FFA15A\",\"dash\":\"solid\"},\"marker\":{\"symbol\":\"circle\"},\"mode\":\"lines\",\"name\":\"race/ethnicity\",\"orientation\":\"v\",\"showlegend\":true,\"x\":[\"2017-11-01T00:00:00\",\"2017-12-01T00:00:00\",\"2018-01-01T00:00:00\",\"2018-02-01T00:00:00\",\"2018-03-01T00:00:00\",\"2018-04-01T00:00:00\",\"2018-05-01T00:00:00\",\"2018-06-01T00:00:00\",\"2018-07-01T00:00:00\",\"2018-08-01T00:00:00\",\"2018-09-01T00:00:00\",\"2018-10-01T00:00:00\",\"2018-11-01T00:00:00\",\"2018-12-01T00:00:00\",\"2019-01-01T00:00:00\",\"2019-02-01T00:00:00\",\"2019-03-01T00:00:00\",\"2019-04-01T00:00:00\",\"2019-05-01T00:00:00\",\"2019-06-01T00:00:00\",\"2019-07-01T00:00:00\",\"2019-08-01T00:00:00\",\"2019-09-01T00:00:00\",\"2019-10-01T00:00:00\",\"2019-11-01T00:00:00\",\"2019-12-01T00:00:00\",\"2020-01-01T00:00:00\",\"2020-02-01T00:00:00\",\"2020-03-01T00:00:00\",\"2020-04-01T00:00:00\",\"2020-05-01T00:00:00\",\"2020-06-01T00:00:00\",\"2020-07-01T00:00:00\",\"2020-08-01T00:00:00\",\"2020-09-01T00:00:00\",\"2020-10-01T00:00:00\",\"2020-11-01T00:00:00\",\"2020-12-01T00:00:00\",\"2021-01-01T00:00:00\",\"2021-02-01T00:00:00\",\"2021-03-01T00:00:00\",\"2021-04-01T00:00:00\"],\"xaxis\":\"x\",\"y\":[-2.7606639521141934,-2.8256217125975818,-2.8073456767585414,-2.7035921331766284,-2.6113639861116758,-2.6997516034372278,-2.553317765171714,-2.58190641281131,-2.6069423709651134,-2.6868098857973055,-2.6143779430937975,-2.668851164428944,-2.64133875345267,-2.679267542240608,-2.7215694947435116,-2.59589373762167,-2.6267495714150737,-2.683163423117304,-2.7315235000221576,-2.72487353880959,-2.7411628307528852,-2.6308444209288435,-2.717283427496028,-2.7362281740129135,-2.7904559692673403,-2.712188054792856,-2.697439997153087,-2.717925256692625,-2.6999718117551876,-2.6710170482753015,-2.67207990435714,-2.559609328755364,-2.6439029249444994,-2.643372467611512,-2.6091314533493395,-2.5645066192577546,-2.6197085965073064,-2.5574804118036316,-2.600930676246013,-2.612640956007245,-2.6110772943383656,-2.332949070182305],\"yaxis\":\"y\",\"type\":\"scatter\"},{\"hovertemplate\":\"identity_category=religion<br>parsed_date=%{x}<br>log_prob=%{y}<extra></extra>\",\"legendgroup\":\"religion\",\"line\":{\"color\":\"#19d3f3\",\"dash\":\"solid\"},\"marker\":{\"symbol\":\"circle\"},\"mode\":\"lines\",\"name\":\"religion\",\"orientation\":\"v\",\"showlegend\":true,\"x\":[\"2017-11-01T00:00:00\",\"2017-12-01T00:00:00\",\"2018-01-01T00:00:00\",\"2018-02-01T00:00:00\",\"2018-03-01T00:00:00\",\"2018-04-01T00:00:00\",\"2018-05-01T00:00:00\",\"2018-06-01T00:00:00\",\"2018-07-01T00:00:00\",\"2018-08-01T00:00:00\",\"2018-09-01T00:00:00\",\"2018-10-01T00:00:00\",\"2018-11-01T00:00:00\",\"2018-12-01T00:00:00\",\"2019-01-01T00:00:00\",\"2019-02-01T00:00:00\",\"2019-03-01T00:00:00\",\"2019-04-01T00:00:00\",\"2019-05-01T00:00:00\",\"2019-06-01T00:00:00\",\"2019-07-01T00:00:00\",\"2019-08-01T00:00:00\",\"2019-09-01T00:00:00\",\"2019-10-01T00:00:00\",\"2019-11-01T00:00:00\",\"2019-12-01T00:00:00\",\"2020-01-01T00:00:00\",\"2020-02-01T00:00:00\",\"2020-03-01T00:00:00\",\"2020-04-01T00:00:00\",\"2020-05-01T00:00:00\",\"2020-06-01T00:00:00\",\"2020-07-01T00:00:00\",\"2020-08-01T00:00:00\",\"2020-09-01T00:00:00\",\"2020-10-01T00:00:00\",\"2020-11-01T00:00:00\",\"2020-12-01T00:00:00\",\"2021-01-01T00:00:00\",\"2021-02-01T00:00:00\",\"2021-03-01T00:00:00\",\"2021-04-01T00:00:00\"],\"xaxis\":\"x\",\"y\":[-3.194218807085496,-3.235769378483765,-3.2558879737316264,-3.0488799771422164,-3.0842777969178754,-3.145728733901373,-3.1406615769709205,-3.1049287152769276,-3.109047422427652,-3.1685489987690447,-3.163505565434924,-3.1229360137307403,-3.03208912238725,-3.0502067843284353,-3.093448084170332,-3.1378171135053567,-2.974896461999729,-2.894099442593573,-3.0292110383315065,-2.9928444852971103,-2.9559774546232864,-2.9608655391805314,-3.0296185050079623,-3.0887803789885675,-3.24794404549696,-3.0938651116162452,-3.143855135479442,-3.1024316340727602,-3.1904580311903628,-3.071056756426635,-3.1371754077826997,-3.0763698369132784,-3.092344012302906,-3.1477419148331687,-3.160473631698031,-3.0741118579318294,-3.03980820166441,-3.0152965113279073,-3.0086323016561995,-2.94030688546183,-2.875154195476316,-2.8097990180170527],\"yaxis\":\"y\",\"type\":\"scatter\"}],                        {\"template\":{\"data\":{\"histogram2dcontour\":[{\"type\":\"histogram2dcontour\",\"colorbar\":{\"outlinewidth\":0,\"ticks\":\"\"},\"colorscale\":[[0.0,\"#0d0887\"],[0.1111111111111111,\"#46039f\"],[0.2222222222222222,\"#7201a8\"],[0.3333333333333333,\"#9c179e\"],[0.4444444444444444,\"#bd3786\"],[0.5555555555555556,\"#d8576b\"],[0.6666666666666666,\"#ed7953\"],[0.7777777777777778,\"#fb9f3a\"],[0.8888888888888888,\"#fdca26\"],[1.0,\"#f0f921\"]]}],\"choropleth\":[{\"type\":\"choropleth\",\"colorbar\":{\"outlinewidth\":0,\"ticks\":\"\"}}],\"histogram2d\":[{\"type\":\"histogram2d\",\"colorbar\":{\"outlinewidth\":0,\"ticks\":\"\"},\"colorscale\":[[0.0,\"#0d0887\"],[0.1111111111111111,\"#46039f\"],[0.2222222222222222,\"#7201a8\"],[0.3333333333333333,\"#9c179e\"],[0.4444444444444444,\"#bd3786\"],[0.5555555555555556,\"#d8576b\"],[0.6666666666666666,\"#ed7953\"],[0.7777777777777778,\"#fb9f3a\"],[0.8888888888888888,\"#fdca26\"],[1.0,\"#f0f921\"]]}],\"heatmap\":[{\"type\":\"heatmap\",\"colorbar\":{\"outlinewidth\":0,\"ticks\":\"\"},\"colorscale\":[[0.0,\"#0d0887\"],[0.1111111111111111,\"#46039f\"],[0.2222222222222222,\"#7201a8\"],[0.3333333333333333,\"#9c179e\"],[0.4444444444444444,\"#bd3786\"],[0.5555555555555556,\"#d8576b\"],[0.6666666666666666,\"#ed7953\"],[0.7777777777777778,\"#fb9f3a\"],[0.8888888888888888,\"#fdca26\"],[1.0,\"#f0f921\"]]}],\"heatmapgl\":[{\"type\":\"heatmapgl\",\"colorbar\":{\"outlinewidth\":0,\"ticks\":\"\"},\"colorscale\":[[0.0,\"#0d0887\"],[0.1111111111111111,\"#46039f\"],[0.2222222222222222,\"#7201a8\"],[0.3333333333333333,\"#9c179e\"],[0.4444444444444444,\"#bd3786\"],[0.5555555555555556,\"#d8576b\"],[0.6666666666666666,\"#ed7953\"],[0.7777777777777778,\"#fb9f3a\"],[0.8888888888888888,\"#fdca26\"],[1.0,\"#f0f921\"]]}],\"contourcarpet\":[{\"type\":\"contourcarpet\",\"colorbar\":{\"outlinewidth\":0,\"ticks\":\"\"}}],\"contour\":[{\"type\":\"contour\",\"colorbar\":{\"outlinewidth\":0,\"ticks\":\"\"},\"colorscale\":[[0.0,\"#0d0887\"],[0.1111111111111111,\"#46039f\"],[0.2222222222222222,\"#7201a8\"],[0.3333333333333333,\"#9c179e\"],[0.4444444444444444,\"#bd3786\"],[0.5555555555555556,\"#d8576b\"],[0.6666666666666666,\"#ed7953\"],[0.7777777777777778,\"#fb9f3a\"],[0.8888888888888888,\"#fdca26\"],[1.0,\"#f0f921\"]]}],\"surface\":[{\"type\":\"surface\",\"colorbar\":{\"outlinewidth\":0,\"ticks\":\"\"},\"colorscale\":[[0.0,\"#0d0887\"],[0.1111111111111111,\"#46039f\"],[0.2222222222222222,\"#7201a8\"],[0.3333333333333333,\"#9c179e\"],[0.4444444444444444,\"#bd3786\"],[0.5555555555555556,\"#d8576b\"],[0.6666666666666666,\"#ed7953\"],[0.7777777777777778,\"#fb9f3a\"],[0.8888888888888888,\"#fdca26\"],[1.0,\"#f0f921\"]]}],\"mesh3d\":[{\"type\":\"mesh3d\",\"colorbar\":{\"outlinewidth\":0,\"ticks\":\"\"}}],\"scatter\":[{\"fillpattern\":{\"fillmode\":\"overlay\",\"size\":10,\"solidity\":0.2},\"type\":\"scatter\"}],\"parcoords\":[{\"type\":\"parcoords\",\"line\":{\"colorbar\":{\"outlinewidth\":0,\"ticks\":\"\"}}}],\"scatterpolargl\":[{\"type\":\"scatterpolargl\",\"marker\":{\"colorbar\":{\"outlinewidth\":0,\"ticks\":\"\"}}}],\"bar\":[{\"error_x\":{\"color\":\"#2a3f5f\"},\"error_y\":{\"color\":\"#2a3f5f\"},\"marker\":{\"line\":{\"color\":\"#E5ECF6\",\"width\":0.5},\"pattern\":{\"fillmode\":\"overlay\",\"size\":10,\"solidity\":0.2}},\"type\":\"bar\"}],\"scattergeo\":[{\"type\":\"scattergeo\",\"marker\":{\"colorbar\":{\"outlinewidth\":0,\"ticks\":\"\"}}}],\"scatterpolar\":[{\"type\":\"scatterpolar\",\"marker\":{\"colorbar\":{\"outlinewidth\":0,\"ticks\":\"\"}}}],\"histogram\":[{\"marker\":{\"pattern\":{\"fillmode\":\"overlay\",\"size\":10,\"solidity\":0.2}},\"type\":\"histogram\"}],\"scattergl\":[{\"type\":\"scattergl\",\"marker\":{\"colorbar\":{\"outlinewidth\":0,\"ticks\":\"\"}}}],\"scatter3d\":[{\"type\":\"scatter3d\",\"line\":{\"colorbar\":{\"outlinewidth\":0,\"ticks\":\"\"}},\"marker\":{\"colorbar\":{\"outlinewidth\":0,\"ticks\":\"\"}}}],\"scattermapbox\":[{\"type\":\"scattermapbox\",\"marker\":{\"colorbar\":{\"outlinewidth\":0,\"ticks\":\"\"}}}],\"scatterternary\":[{\"type\":\"scatterternary\",\"marker\":{\"colorbar\":{\"outlinewidth\":0,\"ticks\":\"\"}}}],\"scattercarpet\":[{\"type\":\"scattercarpet\",\"marker\":{\"colorbar\":{\"outlinewidth\":0,\"ticks\":\"\"}}}],\"carpet\":[{\"aaxis\":{\"endlinecolor\":\"#2a3f5f\",\"gridcolor\":\"white\",\"linecolor\":\"white\",\"minorgridcolor\":\"white\",\"startlinecolor\":\"#2a3f5f\"},\"baxis\":{\"endlinecolor\":\"#2a3f5f\",\"gridcolor\":\"white\",\"linecolor\":\"white\",\"minorgridcolor\":\"white\",\"startlinecolor\":\"#2a3f5f\"},\"type\":\"carpet\"}],\"table\":[{\"cells\":{\"fill\":{\"color\":\"#EBF0F8\"},\"line\":{\"color\":\"white\"}},\"header\":{\"fill\":{\"color\":\"#C8D4E3\"},\"line\":{\"color\":\"white\"}},\"type\":\"table\"}],\"barpolar\":[{\"marker\":{\"line\":{\"color\":\"#E5ECF6\",\"width\":0.5},\"pattern\":{\"fillmode\":\"overlay\",\"size\":10,\"solidity\":0.2}},\"type\":\"barpolar\"}],\"pie\":[{\"automargin\":true,\"type\":\"pie\"}]},\"layout\":{\"autotypenumbers\":\"strict\",\"colorway\":[\"#636efa\",\"#EF553B\",\"#00cc96\",\"#ab63fa\",\"#FFA15A\",\"#19d3f3\",\"#FF6692\",\"#B6E880\",\"#FF97FF\",\"#FECB52\"],\"font\":{\"color\":\"#2a3f5f\"},\"hovermode\":\"closest\",\"hoverlabel\":{\"align\":\"left\"},\"paper_bgcolor\":\"white\",\"plot_bgcolor\":\"#E5ECF6\",\"polar\":{\"bgcolor\":\"#E5ECF6\",\"angularaxis\":{\"gridcolor\":\"white\",\"linecolor\":\"white\",\"ticks\":\"\"},\"radialaxis\":{\"gridcolor\":\"white\",\"linecolor\":\"white\",\"ticks\":\"\"}},\"ternary\":{\"bgcolor\":\"#E5ECF6\",\"aaxis\":{\"gridcolor\":\"white\",\"linecolor\":\"white\",\"ticks\":\"\"},\"baxis\":{\"gridcolor\":\"white\",\"linecolor\":\"white\",\"ticks\":\"\"},\"caxis\":{\"gridcolor\":\"white\",\"linecolor\":\"white\",\"ticks\":\"\"}},\"coloraxis\":{\"colorbar\":{\"outlinewidth\":0,\"ticks\":\"\"}},\"colorscale\":{\"sequential\":[[0.0,\"#0d0887\"],[0.1111111111111111,\"#46039f\"],[0.2222222222222222,\"#7201a8\"],[0.3333333333333333,\"#9c179e\"],[0.4444444444444444,\"#bd3786\"],[0.5555555555555556,\"#d8576b\"],[0.6666666666666666,\"#ed7953\"],[0.7777777777777778,\"#fb9f3a\"],[0.8888888888888888,\"#fdca26\"],[1.0,\"#f0f921\"]],\"sequentialminus\":[[0.0,\"#0d0887\"],[0.1111111111111111,\"#46039f\"],[0.2222222222222222,\"#7201a8\"],[0.3333333333333333,\"#9c179e\"],[0.4444444444444444,\"#bd3786\"],[0.5555555555555556,\"#d8576b\"],[0.6666666666666666,\"#ed7953\"],[0.7777777777777778,\"#fb9f3a\"],[0.8888888888888888,\"#fdca26\"],[1.0,\"#f0f921\"]],\"diverging\":[[0,\"#8e0152\"],[0.1,\"#c51b7d\"],[0.2,\"#de77ae\"],[0.3,\"#f1b6da\"],[0.4,\"#fde0ef\"],[0.5,\"#f7f7f7\"],[0.6,\"#e6f5d0\"],[0.7,\"#b8e186\"],[0.8,\"#7fbc41\"],[0.9,\"#4d9221\"],[1,\"#276419\"]]},\"xaxis\":{\"gridcolor\":\"white\",\"linecolor\":\"white\",\"ticks\":\"\",\"title\":{\"standoff\":15},\"zerolinecolor\":\"white\",\"automargin\":true,\"zerolinewidth\":2},\"yaxis\":{\"gridcolor\":\"white\",\"linecolor\":\"white\",\"ticks\":\"\",\"title\":{\"standoff\":15},\"zerolinecolor\":\"white\",\"automargin\":true,\"zerolinewidth\":2},\"scene\":{\"xaxis\":{\"backgroundcolor\":\"#E5ECF6\",\"gridcolor\":\"white\",\"linecolor\":\"white\",\"showbackground\":true,\"ticks\":\"\",\"zerolinecolor\":\"white\",\"gridwidth\":2},\"yaxis\":{\"backgroundcolor\":\"#E5ECF6\",\"gridcolor\":\"white\",\"linecolor\":\"white\",\"showbackground\":true,\"ticks\":\"\",\"zerolinecolor\":\"white\",\"gridwidth\":2},\"zaxis\":{\"backgroundcolor\":\"#E5ECF6\",\"gridcolor\":\"white\",\"linecolor\":\"white\",\"showbackground\":true,\"ticks\":\"\",\"zerolinecolor\":\"white\",\"gridwidth\":2}},\"shapedefaults\":{\"line\":{\"color\":\"#2a3f5f\"}},\"annotationdefaults\":{\"arrowcolor\":\"#2a3f5f\",\"arrowhead\":0,\"arrowwidth\":1},\"geo\":{\"bgcolor\":\"white\",\"landcolor\":\"#E5ECF6\",\"subunitcolor\":\"white\",\"showland\":true,\"showlakes\":true,\"lakecolor\":\"white\"},\"title\":{\"x\":0.05},\"mapbox\":{\"style\":\"light\"}}},\"xaxis\":{\"anchor\":\"y\",\"domain\":[0.0,1.0],\"title\":{\"text\":\"parsed_date\"}},\"yaxis\":{\"anchor\":\"x\",\"domain\":[0.0,1.0],\"title\":{\"text\":\"log_prob\"}},\"legend\":{\"title\":{\"text\":\"identity_category\"},\"tracegroupgap\":0},\"margin\":{\"t\":60},\"height\":400},                        {\"responsive\": true}                    ).then(function(){\n",
       "                            \n",
       "var gd = document.getElementById('d8dfb971-5637-41f7-a136-3e582871f3cd');\n",
       "var x = new MutationObserver(function (mutations, observer) {{\n",
       "        var display = window.getComputedStyle(gd).display;\n",
       "        if (!display || display === 'none') {{\n",
       "            console.log([gd, 'removed!']);\n",
       "            Plotly.purge(gd);\n",
       "            observer.disconnect();\n",
       "        }}\n",
       "}});\n",
       "\n",
       "// Listen for the removal of the full notebook cells\n",
       "var notebookContainer = gd.closest('#notebook-container');\n",
       "if (notebookContainer) {{\n",
       "    x.observe(notebookContainer, {childList: true});\n",
       "}}\n",
       "\n",
       "// Listen for the clearing of the current output cell\n",
       "var outputEl = gd.closest('.output');\n",
       "if (outputEl) {{\n",
       "    x.observe(outputEl, {childList: true});\n",
       "}}\n",
       "\n",
       "                        })                };                });            </script>        </div>"
      ]
     },
     "metadata": {},
     "output_type": "display_data"
    }
   ],
   "source": [
    "# post_counts = data.groupby(pd.Grouper(key='parsed_date', freq='MS'))['content'].count()\n",
    "# data['word_count'] = data.content.str.split().str.len() # already done from identity grouping\n",
    "\n",
    "word_counts = data.groupby(pd.Grouper(key='parsed_date', freq='MS'))['word_count'].sum()\n",
    "word_counts\n",
    "\n",
    "counts_overtime = exploded.groupby([pd.Grouper(key='parsed_date', freq='MS'), 'identity_category']).size().to_frame(name='mention_count').reset_index(names=['parsed_date', 'identity_category'])\n",
    "counts_overtime\n",
    "\n",
    "counts_overtime = counts_overtime.join(word_counts, on='parsed_date').rename(columns={'content': 'word_count'})\n",
    "counts_overtime\n",
    "\n",
    "import numpy as np\n",
    "\n",
    "counts_overtime['mention_prob'] = counts_overtime['mention_count'] / counts_overtime.word_count\n",
    "counts_overtime['log_prob'] = counts_overtime['mention_prob'].map(np.log10)\n",
    "counts_overtime\n",
    "\n",
    "# Plot\n",
    "import plotly.express as px\n",
    "\n",
    "px.line(counts_overtime, x='parsed_date', y='log_prob', color='identity_category', height=400)"
   ]
  },
  {
   "cell_type": "markdown",
   "id": "d6ad8a97-e4d0-4b99-bdf6-b7180111abb4",
   "metadata": {},
   "source": [
    "# Check particular regex matches"
   ]
  },
  {
   "cell_type": "code",
   "execution_count": 8,
   "id": "2a955523-3381-4697-ab41-b2c28f795bfe",
   "metadata": {},
   "outputs": [
    {
     "data": {
      "text/plain": [
       "<re.Match object; span=(0, 6), match='incels'>"
      ]
     },
     "execution_count": 8,
     "metadata": {},
     "output_type": "execute_result"
    }
   ],
   "source": [
    "import re\n",
    "\n",
    "pat = r'\\bincels(?!\\.co|\\.is)\\b'\n",
    "# test_text = 'incels'\n",
    "# test_text = 'incels.is'\n",
    "# test_text = 'incels.co is the best'\n",
    "test_text = 'incels is the best'\n",
    "\n",
    "re.search(pat, test_text)"
   ]
  },
  {
   "cell_type": "code",
   "execution_count": 9,
   "id": "933938ee-b374-4f44-abe3-b2fd3234e5af",
   "metadata": {},
   "outputs": [
    {
     "data": {
      "text/plain": [
       "'\\\\\\\\bincels\\\\(\\\\?!\\\\\\\\\\\\.co\\\\|\\\\\\\\\\\\.is\\\\)\\\\\\\\b'"
      ]
     },
     "execution_count": 9,
     "metadata": {},
     "output_type": "execute_result"
    }
   ],
   "source": [
    "re.escape(pat)"
   ]
  },
  {
   "cell_type": "markdown",
   "id": "18ffd10e-096d-4298-aaf1-26278154f269",
   "metadata": {},
   "source": [
    "# Old/1-time"
   ]
  },
  {
   "cell_type": "code",
   "execution_count": 96,
   "id": "0acc1982-e3ee-44a4-b0ff-8293a7fe899b",
   "metadata": {},
   "outputs": [
    {
     "data": {
      "text/plain": [
       "723"
      ]
     },
     "execution_count": 96,
     "metadata": {},
     "output_type": "execute_result"
    }
   ],
   "source": [
    "# Filter out capitalized terms (unnecessary now)\n",
    "identity_cats = {term: cat for term, cat in identity_cats.items() if term[0].islower()}\n",
    "len(identity_cats)"
   ]
  },
  {
   "cell_type": "code",
   "execution_count": 3,
   "id": "cc803c15-460a-46a0-8ef5-d60449ee3db3",
   "metadata": {},
   "outputs": [
    {
     "name": "stdout",
     "output_type": "stream",
     "text": [
      "<class 'pandas.core.frame.DataFrame'>\n",
      "RangeIndex: 6248230 entries, 0 to 6248229\n",
      "Data columns (total 8 columns):\n",
      " #   Column                                 Dtype         \n",
      "---  ------                                 -----         \n",
      " 0   type                                   object        \n",
      " 1   forum                                  object        \n",
      " 2   thread                                 object        \n",
      " 3   username                               object        \n",
      " 4   date                                   object        \n",
      " 5   content                                object        \n",
      " 6   parsed_date                            datetime64[ns]\n",
      " 7   {self.identity_list}_identity_matches  object        \n",
      "dtypes: datetime64[ns](1), object(7)\n",
      "memory usage: 381.4+ MB\n"
     ]
    }
   ],
   "source": [
    "# Load data with identity matches\n",
    "import pandas as pd\n",
    "\n",
    "path = '../../data/incels/processed_comments.jsonl'\n",
    "data = pd.read_json(path, lines=True, convert_dates=['parsed_date'])\n",
    "data.info()"
   ]
  },
  {
   "cell_type": "code",
   "execution_count": 4,
   "id": "dd48830a-bf7b-426d-b1dd-99fac9a72693",
   "metadata": {},
   "outputs": [
    {
     "name": "stdout",
     "output_type": "stream",
     "text": [
      "<class 'pandas.core.frame.DataFrame'>\n",
      "RangeIndex: 6248230 entries, 0 to 6248229\n",
      "Data columns (total 8 columns):\n",
      " #   Column                      Dtype         \n",
      "---  ------                      -----         \n",
      " 0   type                        object        \n",
      " 1   forum                       object        \n",
      " 2   thread                      object        \n",
      " 3   username                    object        \n",
      " 4   date                        object        \n",
      " 5   content                     object        \n",
      " 6   parsed_date                 datetime64[ns]\n",
      " 7   netmapper_identity_matches  object        \n",
      "dtypes: datetime64[ns](1), object(7)\n",
      "memory usage: 381.4+ MB\n"
     ]
    }
   ],
   "source": [
    "data.rename(columns={'{self.identity_list}_identity_matches': 'netmapper_identity_matches'}, inplace=True)\n",
    "data.info()"
   ]
  },
  {
   "cell_type": "code",
   "execution_count": 5,
   "id": "c7602287-e3ee-4cbb-959d-718c90c3a735",
   "metadata": {},
   "outputs": [],
   "source": [
    "data.to_pickle('../../data/incels/processed_comments.pkl')"
   ]
  }
 ],
 "metadata": {
  "kernelspec": {
   "display_name": "Python 3 (ipykernel)",
   "language": "python",
   "name": "python3"
  },
  "language_info": {
   "codemirror_mode": {
    "name": "ipython",
    "version": 3
   },
   "file_extension": ".py",
   "mimetype": "text/x-python",
   "name": "python",
   "nbconvert_exporter": "python",
   "pygments_lexer": "ipython3",
   "version": "3.10.9"
  },
  "toc-showtags": false
 },
 "nbformat": 4,
 "nbformat_minor": 5
}
