{
 "cells": [
  {
   "cell_type": "markdown",
   "id": "e8813361-4c07-4096-8b24-c16ae935a965",
   "metadata": {},
   "source": [
    "# Get tweets using the API from tweet IDs\n",
    "Also see get_tweets_by_id.py"
   ]
  },
  {
   "cell_type": "code",
   "execution_count": 4,
   "id": "0dd642c1-83eb-45f3-84e1-decc3322d491",
   "metadata": {},
   "outputs": [
    {
     "data": {
      "text/html": [
       "<div>\n",
       "<style scoped>\n",
       "    .dataframe tbody tr th:only-of-type {\n",
       "        vertical-align: middle;\n",
       "    }\n",
       "\n",
       "    .dataframe tbody tr th {\n",
       "        vertical-align: top;\n",
       "    }\n",
       "\n",
       "    .dataframe thead th {\n",
       "        text-align: right;\n",
       "    }\n",
       "</style>\n",
       "<table border=\"1\" class=\"dataframe\">\n",
       "  <thead>\n",
       "    <tr style=\"text-align: right;\">\n",
       "      <th></th>\n",
       "      <th>maj_label</th>\n",
       "    </tr>\n",
       "    <tr>\n",
       "      <th>tweet_id</th>\n",
       "      <th></th>\n",
       "    </tr>\n",
       "  </thead>\n",
       "  <tbody>\n",
       "    <tr>\n",
       "      <th>849667487180259329</th>\n",
       "      <td>abusive</td>\n",
       "    </tr>\n",
       "    <tr>\n",
       "      <th>850490912954351616</th>\n",
       "      <td>abusive</td>\n",
       "    </tr>\n",
       "    <tr>\n",
       "      <th>848791766853668864</th>\n",
       "      <td>abusive</td>\n",
       "    </tr>\n",
       "    <tr>\n",
       "      <th>848306464892604416</th>\n",
       "      <td>abusive</td>\n",
       "    </tr>\n",
       "    <tr>\n",
       "      <th>850010509969465344</th>\n",
       "      <td>normal</td>\n",
       "    </tr>\n",
       "    <tr>\n",
       "      <th>...</th>\n",
       "      <td>...</td>\n",
       "    </tr>\n",
       "    <tr>\n",
       "      <th>847640895956459521</th>\n",
       "      <td>normal</td>\n",
       "    </tr>\n",
       "    <tr>\n",
       "      <th>850335795022102530</th>\n",
       "      <td>normal</td>\n",
       "    </tr>\n",
       "    <tr>\n",
       "      <th>848201162717265920</th>\n",
       "      <td>normal</td>\n",
       "    </tr>\n",
       "    <tr>\n",
       "      <th>848939985160077312</th>\n",
       "      <td>spam</td>\n",
       "    </tr>\n",
       "    <tr>\n",
       "      <th>847673586361843713</th>\n",
       "      <td>normal</td>\n",
       "    </tr>\n",
       "  </tbody>\n",
       "</table>\n",
       "<p>80000 rows × 1 columns</p>\n",
       "</div>"
      ],
      "text/plain": [
       "                   maj_label\n",
       "tweet_id                    \n",
       "849667487180259329   abusive\n",
       "850490912954351616   abusive\n",
       "848791766853668864   abusive\n",
       "848306464892604416   abusive\n",
       "850010509969465344    normal\n",
       "...                      ...\n",
       "847640895956459521    normal\n",
       "850335795022102530    normal\n",
       "848201162717265920    normal\n",
       "848939985160077312      spam\n",
       "847673586361843713    normal\n",
       "\n",
       "[80000 rows x 1 columns]"
      ]
     },
     "execution_count": 4,
     "metadata": {},
     "output_type": "execute_result"
    }
   ],
   "source": [
    "# Load Founta+2018 tweet IDs\n",
    "import pandas as pd\n",
    "\n",
    "tweet_ids = pd.read_csv('../../data/hate_speech/founta2018/hatespeechtwitter.csv', index_col=0)\n",
    "tweet_ids"
   ]
  },
  {
   "cell_type": "code",
   "execution_count": 3,
   "id": "72d6a7ff-2b88-4239-8f24-5e1d7c2e4d8d",
   "metadata": {},
   "outputs": [
    {
     "data": {
      "text/plain": [
       "normal     52835\n",
       "spam       13404\n",
       "abusive    10122\n",
       "hateful     3635\n",
       "Name: maj_label, dtype: int64"
      ]
     },
     "execution_count": 3,
     "metadata": {},
     "output_type": "execute_result"
    }
   ],
   "source": [
    "tweet_ids.maj_label.value_counts()"
   ]
  },
  {
   "cell_type": "markdown",
   "id": "bc3c0cf6-947e-43b3-b188-6cc3f928f570",
   "metadata": {},
   "source": [
    "# Load in scraped"
   ]
  },
  {
   "cell_type": "code",
   "execution_count": 2,
   "id": "194a3731-c77b-41ac-b577-34927ddd3768",
   "metadata": {},
   "outputs": [
    {
     "name": "stdout",
     "output_type": "stream",
     "text": [
      "<class 'pandas.core.frame.DataFrame'>\n",
      "RangeIndex: 45512 entries, 0 to 45511\n",
      "Data columns (total 23 columns):\n",
      " #   Column                           Non-Null Count  Dtype \n",
      "---  ------                           --------------  ----- \n",
      " 0   author_id                        45512 non-null  object\n",
      " 1   referenced_tweets                12573 non-null  object\n",
      " 2   conversation_id                  45512 non-null  object\n",
      " 3   id                               45512 non-null  object\n",
      " 4   edit_history_tweet_ids           45512 non-null  object\n",
      " 5   text                             45512 non-null  object\n",
      " 6   lang                             45512 non-null  object\n",
      " 7   created_at                       45512 non-null  object\n",
      " 8   entities.urls                    27667 non-null  object\n",
      " 9   entities.hashtags                13633 non-null  object\n",
      " 10  entities.annotations             28850 non-null  object\n",
      " 11  public_metrics.retweet_count     45512 non-null  int64 \n",
      " 12  public_metrics.reply_count       45512 non-null  int64 \n",
      " 13  public_metrics.like_count        45512 non-null  int64 \n",
      " 14  public_metrics.quote_count       45512 non-null  int64 \n",
      " 15  public_metrics.impression_count  45512 non-null  int64 \n",
      " 16  entities.mentions                17689 non-null  object\n",
      " 17  geo.place_id                     1652 non-null   object\n",
      " 18  geo.coordinates.type             368 non-null    object\n",
      " 19  geo.coordinates.coordinates      368 non-null    object\n",
      " 20  entities.cashtags                74 non-null     object\n",
      " 21  withheld.copyright               8 non-null      object\n",
      " 22  withheld.country_codes           8 non-null      object\n",
      "dtypes: int64(5), object(18)\n",
      "memory usage: 8.0+ MB\n"
     ]
    }
   ],
   "source": [
    "import json\n",
    "import pandas as pd\n",
    "\n",
    "data_path = '../../data/hate_speech/founta2018/data.jsonl'\n",
    "with open(data_path) as f:\n",
    "    data = pd.json_normalize([json.loads(tweet) for tweet in f.read().splitlines()])\n",
    "data.info()"
   ]
  },
  {
   "cell_type": "code",
   "execution_count": 10,
   "id": "26855107-9eb9-419e-876a-52c092163309",
   "metadata": {},
   "outputs": [
    {
     "name": "stdout",
     "output_type": "stream",
     "text": [
      "<class 'pandas.core.frame.DataFrame'>\n",
      "Int64Index: 45594 entries, 0 to 45511\n",
      "Data columns (total 24 columns):\n",
      " #   Column                           Non-Null Count  Dtype \n",
      "---  ------                           --------------  ----- \n",
      " 0   author_id                        45594 non-null  object\n",
      " 1   referenced_tweets                12607 non-null  object\n",
      " 2   conversation_id                  45594 non-null  object\n",
      " 3   id                               45594 non-null  int64 \n",
      " 4   edit_history_tweet_ids           45594 non-null  object\n",
      " 5   text                             45594 non-null  object\n",
      " 6   lang                             45594 non-null  object\n",
      " 7   created_at                       45594 non-null  object\n",
      " 8   entities.urls                    27703 non-null  object\n",
      " 9   entities.hashtags                13655 non-null  object\n",
      " 10  entities.annotations             28898 non-null  object\n",
      " 11  public_metrics.retweet_count     45594 non-null  int64 \n",
      " 12  public_metrics.reply_count       45594 non-null  int64 \n",
      " 13  public_metrics.like_count        45594 non-null  int64 \n",
      " 14  public_metrics.quote_count       45594 non-null  int64 \n",
      " 15  public_metrics.impression_count  45594 non-null  int64 \n",
      " 16  entities.mentions                17723 non-null  object\n",
      " 17  geo.place_id                     1652 non-null   object\n",
      " 18  geo.coordinates.type             368 non-null    object\n",
      " 19  geo.coordinates.coordinates      368 non-null    object\n",
      " 20  entities.cashtags                74 non-null     object\n",
      " 21  withheld.copyright               8 non-null      object\n",
      " 22  withheld.country_codes           8 non-null      object\n",
      " 23  maj_label                        45592 non-null  object\n",
      "dtypes: int64(6), object(18)\n",
      "memory usage: 8.7+ MB\n"
     ]
    }
   ],
   "source": [
    "# Match with labels\n",
    "# data['id'] = data.id.astype(int)\n",
    "merged = data.join(tweet_ids, on='id') # should remove duplicates\n",
    "merged.info()"
   ]
  },
  {
   "cell_type": "code",
   "execution_count": 11,
   "id": "3c7f0a4c-9297-4219-908b-13ed7bc9c979",
   "metadata": {},
   "outputs": [
    {
     "data": {
      "text/plain": [
       "normal     32695\n",
       "spam        7432\n",
       "abusive     3844\n",
       "hateful     1621\n",
       "Name: maj_label, dtype: int64"
      ]
     },
     "execution_count": 11,
     "metadata": {},
     "output_type": "execute_result"
    }
   ],
   "source": [
    "merged.maj_label.value_counts()"
   ]
  }
 ],
 "metadata": {
  "kernelspec": {
   "display_name": "Python 3 (ipykernel)",
   "language": "python",
   "name": "python3"
  },
  "language_info": {
   "codemirror_mode": {
    "name": "ipython",
    "version": 3
   },
   "file_extension": ".py",
   "mimetype": "text/x-python",
   "name": "python",
   "nbconvert_exporter": "python",
   "pygments_lexer": "ipython3",
   "version": "3.10.9"
  }
 },
 "nbformat": 4,
 "nbformat_minor": 5
}
