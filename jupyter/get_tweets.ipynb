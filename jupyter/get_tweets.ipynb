{
 "cells": [
  {
   "cell_type": "markdown",
   "id": "e8813361-4c07-4096-8b24-c16ae935a965",
   "metadata": {},
   "source": [
    "# Get tweets using the API from tweet IDs\n",
    "Also see get_tweets_by_id.py"
   ]
  },
  {
   "cell_type": "code",
   "execution_count": 2,
   "id": "0dd642c1-83eb-45f3-84e1-decc3322d491",
   "metadata": {},
   "outputs": [
    {
     "data": {
      "text/html": [
       "<div>\n",
       "<style scoped>\n",
       "    .dataframe tbody tr th:only-of-type {\n",
       "        vertical-align: middle;\n",
       "    }\n",
       "\n",
       "    .dataframe tbody tr th {\n",
       "        vertical-align: top;\n",
       "    }\n",
       "\n",
       "    .dataframe thead th {\n",
       "        text-align: right;\n",
       "    }\n",
       "</style>\n",
       "<table border=\"1\" class=\"dataframe\">\n",
       "  <thead>\n",
       "    <tr style=\"text-align: right;\">\n",
       "      <th></th>\n",
       "      <th>tweet_id</th>\n",
       "      <th>maj_label</th>\n",
       "    </tr>\n",
       "  </thead>\n",
       "  <tbody>\n",
       "    <tr>\n",
       "      <th>0</th>\n",
       "      <td>849667487180259329</td>\n",
       "      <td>abusive</td>\n",
       "    </tr>\n",
       "    <tr>\n",
       "      <th>1</th>\n",
       "      <td>850490912954351616</td>\n",
       "      <td>abusive</td>\n",
       "    </tr>\n",
       "    <tr>\n",
       "      <th>2</th>\n",
       "      <td>848791766853668864</td>\n",
       "      <td>abusive</td>\n",
       "    </tr>\n",
       "    <tr>\n",
       "      <th>3</th>\n",
       "      <td>848306464892604416</td>\n",
       "      <td>abusive</td>\n",
       "    </tr>\n",
       "    <tr>\n",
       "      <th>4</th>\n",
       "      <td>850010509969465344</td>\n",
       "      <td>normal</td>\n",
       "    </tr>\n",
       "    <tr>\n",
       "      <th>...</th>\n",
       "      <td>...</td>\n",
       "      <td>...</td>\n",
       "    </tr>\n",
       "    <tr>\n",
       "      <th>79995</th>\n",
       "      <td>847640895956459521</td>\n",
       "      <td>normal</td>\n",
       "    </tr>\n",
       "    <tr>\n",
       "      <th>79996</th>\n",
       "      <td>850335795022102530</td>\n",
       "      <td>normal</td>\n",
       "    </tr>\n",
       "    <tr>\n",
       "      <th>79997</th>\n",
       "      <td>848201162717265920</td>\n",
       "      <td>normal</td>\n",
       "    </tr>\n",
       "    <tr>\n",
       "      <th>79998</th>\n",
       "      <td>848939985160077312</td>\n",
       "      <td>spam</td>\n",
       "    </tr>\n",
       "    <tr>\n",
       "      <th>79999</th>\n",
       "      <td>847673586361843713</td>\n",
       "      <td>normal</td>\n",
       "    </tr>\n",
       "  </tbody>\n",
       "</table>\n",
       "<p>80000 rows × 2 columns</p>\n",
       "</div>"
      ],
      "text/plain": [
       "                 tweet_id maj_label\n",
       "0      849667487180259329   abusive\n",
       "1      850490912954351616   abusive\n",
       "2      848791766853668864   abusive\n",
       "3      848306464892604416   abusive\n",
       "4      850010509969465344    normal\n",
       "...                   ...       ...\n",
       "79995  847640895956459521    normal\n",
       "79996  850335795022102530    normal\n",
       "79997  848201162717265920    normal\n",
       "79998  848939985160077312      spam\n",
       "79999  847673586361843713    normal\n",
       "\n",
       "[80000 rows x 2 columns]"
      ]
     },
     "execution_count": 2,
     "metadata": {},
     "output_type": "execute_result"
    }
   ],
   "source": [
    "# Load Founta+2018 tweet IDs\n",
    "import pandas as pd\n",
    "\n",
    "tweet_ids = pd.read_csv('../../data/hate_speech/founta2018/hatespeechtwitter.csv')\n",
    "tweet_ids"
   ]
  },
  {
   "cell_type": "code",
   "execution_count": 3,
   "id": "72d6a7ff-2b88-4239-8f24-5e1d7c2e4d8d",
   "metadata": {},
   "outputs": [
    {
     "data": {
      "text/plain": [
       "normal     52835\n",
       "spam       13404\n",
       "abusive    10122\n",
       "hateful     3635\n",
       "Name: maj_label, dtype: int64"
      ]
     },
     "execution_count": 3,
     "metadata": {},
     "output_type": "execute_result"
    }
   ],
   "source": [
    "tweet_ids.maj_label.value_counts()"
   ]
  },
  {
   "cell_type": "code",
   "execution_count": 5,
   "id": "78f712e7-d2fe-45a9-a463-141576858a57",
   "metadata": {},
   "outputs": [
    {
     "name": "stdout",
     "output_type": "stream",
     "text": [
      "<class 'pandas.core.frame.DataFrame'>\n",
      "RangeIndex: 15578 entries, 0 to 15577\n",
      "Data columns (total 23 columns):\n",
      " #   Column                           Non-Null Count  Dtype \n",
      "---  ------                           --------------  ----- \n",
      " 0   author_id                        15578 non-null  object\n",
      " 1   referenced_tweets                5202 non-null   object\n",
      " 2   conversation_id                  15578 non-null  object\n",
      " 3   id                               15578 non-null  object\n",
      " 4   edit_history_tweet_ids           15578 non-null  object\n",
      " 5   text                             15578 non-null  object\n",
      " 6   lang                             15578 non-null  object\n",
      " 7   created_at                       15578 non-null  object\n",
      " 8   entities.urls                    8862 non-null   object\n",
      " 9   entities.hashtags                4216 non-null   object\n",
      " 10  entities.annotations             9345 non-null   object\n",
      " 11  public_metrics.retweet_count     15578 non-null  int64 \n",
      " 12  public_metrics.reply_count       15578 non-null  int64 \n",
      " 13  public_metrics.like_count        15578 non-null  int64 \n",
      " 14  public_metrics.quote_count       15578 non-null  int64 \n",
      " 15  public_metrics.impression_count  15578 non-null  int64 \n",
      " 16  entities.mentions                6413 non-null   object\n",
      " 17  geo.place_id                     585 non-null    object\n",
      " 18  geo.coordinates.type             117 non-null    object\n",
      " 19  geo.coordinates.coordinates      117 non-null    object\n",
      " 20  entities.cashtags                28 non-null     object\n",
      " 21  withheld.copyright               3 non-null      object\n",
      " 22  withheld.country_codes           3 non-null      object\n",
      "dtypes: int64(5), object(18)\n",
      "memory usage: 2.7+ MB\n"
     ]
    }
   ],
   "source": [
    "# Load in scraped\n",
    "import json\n",
    "\n",
    "data_path = '../../data/hate_speech/founta2018/data.jsonl'\n",
    "with open(data_path) as f:\n",
    "    data = pd.json_normalize([json.loads(tweet) for tweet in f.read().splitlines()])\n",
    "data.info()"
   ]
  }
 ],
 "metadata": {
  "kernelspec": {
   "display_name": "Python 3 (ipykernel)",
   "language": "python",
   "name": "python3"
  },
  "language_info": {
   "codemirror_mode": {
    "name": "ipython",
    "version": 3
   },
   "file_extension": ".py",
   "mimetype": "text/x-python",
   "name": "python",
   "nbconvert_exporter": "python",
   "pygments_lexer": "ipython3",
   "version": "3.10.9"
  }
 },
 "nbformat": 4,
 "nbformat_minor": 5
}
